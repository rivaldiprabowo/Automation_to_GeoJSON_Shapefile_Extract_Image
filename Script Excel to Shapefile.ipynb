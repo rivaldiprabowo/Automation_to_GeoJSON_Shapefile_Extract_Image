{
 "cells": [
  {
   "cell_type": "markdown",
   "metadata": {},
   "source": [
    "# Automation Excel to GeoJSON and Shapefile"
   ]
  },
  {
   "cell_type": "markdown",
   "metadata": {},
   "source": [
    "## 1. Application to Export Excel into GeoJson"
   ]
  },
  {
   "cell_type": "markdown",
   "metadata": {},
   "source": [
    "### 1.1. Function Codes"
   ]
  },
  {
   "cell_type": "code",
   "execution_count": 41,
   "metadata": {},
   "outputs": [],
   "source": [
    "import sys\n",
    "import subprocess\n",
    "import pkg_resources\n",
    "import json\n",
    "import glob\n",
    "import os\n",
    "from pathlib import Path\n",
    "import pandas as pd\n",
    "from openpyxl import load_workbook\n",
    "import geopandas as gpd\n",
    "from datetime import datetime\n",
    "from shapely.geometry import Point, LineString, MultiPoint\n",
    "import numpy as np\n",
    "\n",
    "def install_requirements(): #Install required packages if they are not already installed.\n",
    "    required = {\n",
    "        'pandas': '1.0.0',\n",
    "        'openpyxl': '3.0.0',\n",
    "        'geopandas': '0.9.0',\n",
    "        'shapely': '1.7.0',}\n",
    "    \n",
    "    installed = {pkg.key: pkg.version for pkg in pkg_resources.working_set}\n",
    "    \n",
    "    # Determine what needs to be installed\n",
    "    missing = []\n",
    "    update = []\n",
    "    \n",
    "    for package, min_version in required.items():\n",
    "        if package not in installed:\n",
    "            missing.append(package)\n",
    "        elif pkg_resources.parse_version(installed[package]) < pkg_resources.parse_version(min_version):\n",
    "            update.append(package)\n",
    "    \n",
    "    if missing or update: # If packages need to be installed or updated\n",
    "        print(\"Some required packages are missing or need to be updated.\")\n",
    "        print(f\"Missing: {', '.join(missing) if missing else 'None'}\")\n",
    "        print(f\"Need update: {', '.join(update) if update else 'None'}\")\n",
    "        \n",
    "        try:  # Install missing packages\n",
    "            if missing:\n",
    "                print(f\"Installing missing packages: {', '.join(missing)}\")\n",
    "                subprocess.check_call([sys.executable, \"-m\", \"pip\", \"install\"] + missing)\n",
    "\n",
    "            if update: # Update packages that need updating\n",
    "                print(f\"Updating packages: {', '.join(update)}\")\n",
    "                subprocess.check_call([sys.executable, \"-m\", \"pip\", \"install\", \"--upgrade\"] + update)\n",
    "                \n",
    "            print(\"All required packages have been installed/updated successfully!\")\n",
    "            \n",
    "            # Re-import the modules to make them available\n",
    "            if 'pandas' in missing or 'pandas' in update:\n",
    "                global pd\n",
    "                import pandas as pd\n",
    "            if 'openpyxl' in missing or 'openpyxl' in update:\n",
    "                global load_workbook\n",
    "                from openpyxl import load_workbook\n",
    "            if 'geopandas' in missing or 'geopandas' in update:\n",
    "                global gpd\n",
    "                import geopandas as gpd\n",
    "            if 'shapely' in missing or 'shapely.geometry' in update:\n",
    "                global Point, LineString\n",
    "                from shapely.geometry import Point, LineString\n",
    "                \n",
    "        except Exception as e:\n",
    "            print(f\"Failed to install required packages: {str(e)}\")\n",
    "            sys.exit(1)\n",
    "\n",
    "install_requirements()\n",
    "\n",
    "def unique_column_names(columns): # Ensure column names are unique by appending suffix.\n",
    "    seen = {}\n",
    "    new_columns = []\n",
    "    for col in columns:\n",
    "        if col in seen:\n",
    "            seen[col] += 1\n",
    "            new_columns.append(f\"{col}_{seen[col]}\")\n",
    "        else:\n",
    "            seen[col] = 0\n",
    "            new_columns.append(col)\n",
    "    return new_columns\n",
    "\n",
    "def clean_column_names(columns): # Standardize column names by capitalizing each word properly.\n",
    "    cleaned_columns = []\n",
    "    seen = {}\n",
    "    for col in columns:\n",
    "        col = str(col).strip()\n",
    "        if \"rekap\" in col.lower(): # Remove columns with \"Rekap\" in the name\n",
    "            continue\n",
    "\n",
    "        words = col.split() # Fix for duplicated words (like \"No No\", \"Detail Lokasi Detail Lokasi\")\n",
    "        if len(words) >= 2:\n",
    "            half_length = len(words) // 2 # Check for repeated word patterns\n",
    "            if words[:half_length] == words[half_length:] and len(words) % 2 == 0:\n",
    "                col = \" \".join(words[:half_length]) # If the first half matches the second half, only use the first half\n",
    "        \n",
    "        col = \" \".join(word.capitalize() for word in col.split())\n",
    "        \n",
    "        # Handle duplicates\n",
    "        if col in seen:\n",
    "            seen[col] += 1\n",
    "            col = f\"{col} {seen[col]}\"\n",
    "        else:\n",
    "            seen[col] = 0\n",
    "        \n",
    "        cleaned_columns.append(col)\n",
    "    return cleaned_columns\n",
    "\n",
    "def log_coordinate_errors(error_logs, output_base_folder): # Coordinate errors to an Excel log file\n",
    "    \n",
    "    if not error_logs:\n",
    "        print(\"No coordinate errors to log.\")\n",
    "        return\n",
    "        \n",
    "    # Create a DataFrame from the error logs\n",
    "    df = pd.DataFrame(error_logs)\n",
    "    \n",
    "    # Create a timestamp for the log file\n",
    "    timestamp = datetime.now().strftime(\"%Y%m%d_%H%M%S\")\n",
    "    \n",
    "    # Define the log file path\n",
    "    log_path = os.path.join(output_base_folder, f\"Log_Errors_{timestamp}.xlsx\")\n",
    "    \n",
    "    # Write the DataFrame to an Excel file\n",
    "    try:\n",
    "        df.to_excel(log_path, index=False)\n",
    "    except Exception as e:\n",
    "        print(f\"❌ Error saving coordinate error log: {str(e)}\")\n",
    "\n",
    "def fix_coordinates(row, lat_col, lon_col): #Fix latitude and longitude values that may be in the wrong format.\n",
    "    lat, lon = row[lat_col], row[lon_col]\n",
    "    original_lat, original_lon = lat, lon \n",
    "    \n",
    "    # Handle string values with commas (e.g., \"-69,694,951\" or \"1,065,663,308\")\n",
    "    if isinstance(lat, str):\n",
    "        try:\n",
    "            lat = float(lat.replace(',', ''))\n",
    "        except (ValueError, AttributeError):\n",
    "            lat = pd.NA\n",
    "    \n",
    "    if isinstance(lon, str):\n",
    "        try:\n",
    "            lon = float(lon.replace(',', ''))\n",
    "        except (ValueError, AttributeError):\n",
    "            lon = pd.NA\n",
    "    \n",
    "    # First attempt to detect the scale by number of digits\n",
    "    if pd.notna(lat):\n",
    "        lat_abs = abs(lat)\n",
    "        # For values like -6448977 (which should be around -6.4 degrees)\n",
    "        if 1_000_000 < lat_abs < 10_000_000 and str(int(lat_abs)).startswith(('6', '7', '8', '9')):\n",
    "            lat = lat / 1_000_000\n",
    "        elif lat_abs > 90:\n",
    "            if lat_abs > 10_000_000:  # Very large values\n",
    "                lat = lat / 10_000_000\n",
    "            elif lat_abs > 1_000_000:  # Large values (common for Indonesia coords)\n",
    "                lat = lat / 1_000_000\n",
    "            elif lat_abs > 90_000:\n",
    "                lat = lat / 1_000\n",
    "    \n",
    "    if pd.notna(lon):\n",
    "        lon_abs = abs(lon)\n",
    "        if 100_000_000 < lon_abs < 1_500_000_000:\n",
    "            lon = lon / 10_000_000\n",
    "        elif lon_abs > 180:\n",
    "            if lon_abs > 10_000_000:\n",
    "                lon = lon / 10_000_000\n",
    "            elif lon_abs > 1_000_000:\n",
    "                lon = lon / 1_000_000\n",
    "            elif lon_abs > 180_000:\n",
    "                lon = lon / 1_000\n",
    "    \n",
    "    return pd.Series([lat, lon])\n",
    "\n",
    "def save_to_shapefile(gdf, output_path, batas_wilayah=None, qml_folder=None):  # Save GeoDataFrame to shapefile\n",
    "    try:\n",
    "        gdf = gdf.copy()\n",
    "        \n",
    "        # Make sure we have a valid geometry column\n",
    "        if 'geometry' not in gdf.columns and 'Geometry' not in gdf.columns:\n",
    "            print(f\"❌ Error: No geometry column found in data for {os.path.basename(output_path)}\")\n",
    "            return\n",
    "            \n",
    "        # Ensure the GeoDataFrame has a proper geometry column set\n",
    "        if not isinstance(gdf, gpd.GeoDataFrame):\n",
    "            if 'geometry' in gdf.columns:\n",
    "                gdf = gpd.GeoDataFrame(gdf, geometry='geometry', crs=\"EPSG:4326\")\n",
    "            elif 'Geometry' in gdf.columns:\n",
    "                gdf = gpd.GeoDataFrame(gdf, geometry='Geometry', crs=\"EPSG:4326\")\n",
    "            else:\n",
    "                print(f\"❌ Error: Cannot create GeoDataFrame - no geometry column found\")\n",
    "                return\n",
    "        else:\n",
    "            # Explicitly set the geometry column even if it's already a GeoDataFrame\n",
    "            if 'geometry' in gdf.columns:\n",
    "                gdf = gdf.set_geometry('geometry')\n",
    "            elif 'Geometry' in gdf.columns:\n",
    "                gdf = gdf.set_geometry('Geometry')\n",
    "        \n",
    "        # Ensure the GeoDataFrame has a valid CRS\n",
    "        if gdf.crs is None:\n",
    "            gdf = gdf.set_crs(\"EPSG:4326\")\n",
    "        \n",
    "        # Perform spatial join with batas_wilayah if provided\n",
    "        if batas_wilayah is not None:\n",
    "            try:                \n",
    "                # Make sure we have valid geometries\n",
    "                gdf = gdf[~gdf.geometry.isna()].copy()\n",
    "                \n",
    "                # Make sure CRS matches for join\n",
    "                if gdf.crs != batas_wilayah.crs:\n",
    "                    gdf = gdf.to_crs(batas_wilayah.crs)\n",
    "                \n",
    "                # Perform the spatial join\n",
    "                gdf = gpd.sjoin(gdf, batas_wilayah[['geometry', 'NAMOBJ']], how=\"left\", predicate=\"intersects\")\n",
    "                \n",
    "                # Clean up index column created by spatial join\n",
    "                if 'index_right' in gdf.columns:\n",
    "                    gdf = gdf.drop(columns=['index_right'])\n",
    "                    \n",
    "                print(f\"Spatial join completed - Added NAMOBJ column with city names\")\n",
    "            except Exception as e:\n",
    "                print(f\"Warning: Error during spatial join: {str(e)}\")\n",
    "        \n",
    "        # Truncate column names to 10 characters but preserve 'name' or 'nama' fields\n",
    "        new_columns = {}\n",
    "        for col in gdf.columns:\n",
    "            if col == \"geometry\" or col == \"Geometry\":\n",
    "                continue\n",
    "            \n",
    "            # Special handling for name-related columns - don't add numbers to these\n",
    "            if 'name' in str(col).lower() or 'nama' in str(col).lower() or col == 'NAMOBJ':\n",
    "                # Just truncate to 10 chars without adding a number\n",
    "                new_name = str(col)[:10]\n",
    "            else:\n",
    "                # For all other columns, create a unique name that's short enough\n",
    "                base_name = str(col)[:7]\n",
    "                suffix = 1\n",
    "                new_name = base_name\n",
    "                \n",
    "                # If this name is already used, add numbers until we find a unique one\n",
    "                while new_name in new_columns.values() and len(new_name) < 10:\n",
    "                    new_name = f\"{base_name}_{suffix}\"[:10]\n",
    "                    suffix += 1\n",
    "            \n",
    "            new_columns[col] = new_name\n",
    "        \n",
    "        # Create a mapping file to record the original field names\n",
    "        mapping_dict = {v: k for k, v in new_columns.items()}\n",
    "        \n",
    "        # Rename the columns\n",
    "        gdf = gdf.rename(columns=new_columns)\n",
    "        \n",
    "        # Modify the output path to include NAMOBJ and \"Jalan Eksisting\"\n",
    "        if 'NAMOBJ' in gdf.columns:\n",
    "            # Group by NAMOBJ and save each group to the appropriate directory\n",
    "            for name_obj, group in gdf.groupby('NAMOBJ'):\n",
    "                if pd.isna(name_obj):\n",
    "                    name_obj = \"Unknown\"\n",
    "                    \n",
    "                # Create directory structure: output_folder/Extract Shapefile/NAMOBJ/Jalan Eksisting\n",
    "                output_dir = os.path.dirname(output_path)\n",
    "                file_name = os.path.basename(output_path)\n",
    "                \n",
    "                # Create new path with NAMOBJ and Jalan Eksisting folders\n",
    "                new_output_dir = os.path.join(output_dir, name_obj, \"Jalan Eksisting\")\n",
    "                os.makedirs(new_output_dir, exist_ok=True)\n",
    "                \n",
    "                new_output_path = os.path.join(new_output_dir, file_name)\n",
    "                \n",
    "                # Save the shapefile\n",
    "                group.to_file(new_output_path, driver=\"ESRI Shapefile\")\n",
    "                \n",
    "                print(f\"✅ Saved: {new_output_path}\")\n",
    "                \n",
    "                # Apply QML Style if qml_folder is provided\n",
    "                if qml_folder is not None:\n",
    "                    sheet_name = os.path.splitext(file_name)[0].split('_')[-1]  # Extract sheet name from filename\n",
    "                    qml_source_file = os.path.join(qml_folder, f\"{sheet_name}.qml\")  # Assuming QML file follows sheet name\n",
    "                    qml_target_file = new_output_path.replace(\".shp\", \".qml\")\n",
    "                    \n",
    "                    if os.path.exists(qml_source_file):\n",
    "                        import shutil\n",
    "                        shutil.copy(qml_source_file, qml_target_file)\n",
    "                        print(f\"✅ Applied QML style: {qml_target_file}\")\n",
    "                    else:\n",
    "                        print(f\"⚠️ No QML file found for {sheet_name}\")\n",
    "        else:\n",
    "            # If NAMOBJ is not in columns, just save to the original path\n",
    "            gdf.to_file(output_path, driver=\"ESRI Shapefile\")\n",
    "            print(f\"✅ Saved: {output_path}\")\n",
    "            \n",
    "            # Apply QML Style if qml_folder is provided\n",
    "            if qml_folder is not None:\n",
    "                sheet_name = os.path.splitext(os.path.basename(output_path))[0].split('_')[-1]  # Extract sheet name\n",
    "                qml_source_file = os.path.join(qml_folder, f\"{sheet_name}.qml\")  # Assuming QML file follows sheet name\n",
    "                qml_target_file = output_path.replace(\".shp\", \".qml\")\n",
    "                \n",
    "                if os.path.exists(qml_source_file):\n",
    "                    import shutil\n",
    "                    shutil.copy(qml_source_file, qml_target_file)\n",
    "                    print(f\"✅ Applied QML style: {qml_target_file}\")\n",
    "                else:\n",
    "                    print(f\"⚠️ No QML file found for {sheet_name}\")\n",
    "        \n",
    "    except Exception as e:\n",
    "        print(f\"❌ Error saving shapefile {output_path}: {str(e)}\")\n",
    "        import traceback\n",
    "        traceback.print_exc()\n",
    "\n",
    "def find_coordinate_columns(df, prefix, column_type): #Find coordinate columns with various naming patterns returns column name if found, None otherwise\n",
    "\n",
    "    patterns = []\n",
    "    \n",
    "    if prefix == 'start':\n",
    "        if column_type == 'lat':\n",
    "            patterns = ['awal latitude','awal lat','koordinat latitude','koordinat lat','latitude awal','lat awal','latitude 1','lat 1']\n",
    "        else:\n",
    "            patterns = ['awal longitude','awal lon','koordinat longitude','koordinat lon','longitude awal', 'lon awal','longitude 1','lon 1' ]\n",
    "    else:\n",
    "        if column_type == 'lat':\n",
    "            patterns = ['akhir latitude','akhir lat','latitude akhir','lat akhir','latitude 2','lat 2']\n",
    "        else:\n",
    "            patterns = ['akhir longitude','akhir lon','longitude akhir','lon akhir','longitude 2','lon 2']\n",
    "    \n",
    "    # If we're looking for start coordinates, and just a single coordinate exists (no start/end distinction)\n",
    "    if prefix == 'start' and column_type == 'lat':\n",
    "        # Add cases where latitude exists without start/end specifier\n",
    "        patterns.extend(['latitude', 'lat'])\n",
    "    elif prefix == 'start' and column_type == 'lon':\n",
    "        # Add cases where longitude exists without start/end specifier\n",
    "        patterns.extend(['longitude', 'lon'])\n",
    "    \n",
    "    # Search for column containing any of the patterns\n",
    "    for pattern in patterns:\n",
    "        for col in df.columns:\n",
    "            if isinstance(col, str) and pattern in col.lower():\n",
    "                return col\n",
    "    \n",
    "    return None\n",
    "\n",
    "\n",
    "def parse_coordinate(coord_value): #Parse coordinate values that may be stored in unwanted formats:\n",
    "\n",
    "    if pd.isna(coord_value):\n",
    "        return pd.NA\n",
    "    \n",
    "    # If already numeric, return as is\n",
    "    if pd.api.types.is_numeric_dtype(type(coord_value)):\n",
    "        return float(coord_value)\n",
    "    \n",
    "    # Handle string values\n",
    "    if isinstance(coord_value, str):\n",
    "        coord_string = coord_value.strip()\n",
    "\n",
    "        # Case 1: Check if it's a simple decimal with apostrophes and try simple conversion\n",
    "        cleaned = coord_string.replace(\"'\", \"\")\n",
    "        cleaned = cleaned.replace(\",\", \".\")\n",
    "        \n",
    "        try:\n",
    "            return float(cleaned)\n",
    "        except ValueError:\n",
    "            pass\n",
    "        \n",
    "        # Case 2: Parse DMS format like \"107°18'40.74\"E\" or \"6°17'23.45\"S\"\n",
    "        try:\n",
    "            degrees, minutes, seconds = 0, 0, 0\n",
    "            is_negative = False\n",
    "            \n",
    "            if coord_string.upper().endswith('S') or coord_string.upper().endswith('W'):\n",
    "                is_negative = True\n",
    "            \n",
    "            clean_str = coord_string.upper().replace('N', '').replace('S', '').replace('E', '').replace('W', '')\n",
    "            clean_str = clean_str.replace('\"', '').replace(\"'\", \"'\")\n",
    "            \n",
    "            # Parse components\n",
    "            if '°' in clean_str:\n",
    "                parts = clean_str.split('°')\n",
    "                degrees = float(parts[0])\n",
    "                if len(parts) > 1:\n",
    "                    if \"'\" in parts[1]:\n",
    "                        min_sec = parts[1].split(\"'\")\n",
    "                        minutes = float(min_sec[0])\n",
    "                        if len(min_sec) > 1 and min_sec[1]:\n",
    "                            seconds = float(min_sec[1])\n",
    "            \n",
    "            # Convert to decimal degrees\n",
    "            decimal_degrees = degrees + (minutes / 60) + (seconds / 3600)\n",
    "            \n",
    "            # Apply the negative sign if needed\n",
    "            if is_negative:\n",
    "                decimal_degrees = -decimal_degrees\n",
    "                \n",
    "            return decimal_degrees\n",
    "            \n",
    "        except (ValueError, IndexError, TypeError):\n",
    "            return pd.NA\n",
    "    \n",
    "    # For any other types, try direct conversion\n",
    "    try:\n",
    "        return float(coord_value)\n",
    "    except (ValueError, TypeError):\n",
    "        return pd.NA\n",
    "\n",
    "def process_coordinates(df, lat_col, lon_col, sheet_name=None, excel_name=None): #Process coordinate columns by handling various formats and fixing values.\n",
    "    df_copy = df.copy()\n",
    "    error_rows = []\n",
    "    \n",
    "    # Filter out completely blank rows before processing\n",
    "    blank_mask = df_copy.apply(lambda x: x.astype(str).str.strip().replace('', np.nan)).isna().all(axis=1)\n",
    "    df_copy = df_copy[~blank_mask].reset_index(drop=True)\n",
    "    \n",
    "    # Process each row and track errors\n",
    "    for idx, row in df_copy.iterrows():\n",
    "        try:\n",
    "            lat_val = parse_coordinate(row[lat_col])\n",
    "            lon_val = parse_coordinate(row[lon_col])\n",
    "            \n",
    "            # If either coordinate is invalid, record the error\n",
    "            if pd.notna(lat_val) or pd.notna(lon_val):  # Only log if there was an attempt to provide coordinates\n",
    "                if pd.isna(lat_val) or pd.isna(lon_val):\n",
    "                    error_info = {\n",
    "                        'Excel File': excel_name,\n",
    "                        'Sheet': sheet_name,\n",
    "                        'Row Index': idx,\n",
    "                        'Original Lat Value': row[lat_col],\n",
    "                        'Original Lon Value': row[lon_col],\n",
    "                        'Parsed Lat': lat_val,\n",
    "                        'Parsed Lon': lon_val,\n",
    "                        'Error': 'Invalid coordinate format or value'\n",
    "                    }\n",
    "                    error_rows.append(error_info)\n",
    "            \n",
    "            # Apply fix_coordinates function\n",
    "            df_copy.at[idx, lat_col] = lat_val\n",
    "            df_copy.at[idx, lon_col] = lon_val\n",
    "            \n",
    "        except Exception as e:\n",
    "            # Only log errors for non-blank rows\n",
    "            if not (pd.isna(row[lat_col]) and pd.isna(row[lon_col])):\n",
    "                error_info = {\n",
    "                    'Excel File': excel_name,\n",
    "                    'Sheet': sheet_name,\n",
    "                    'Row Index': idx,\n",
    "                    'Original Lat Value': row[lat_col] if lat_col in row else 'Column not found',\n",
    "                    'Original Lon Value': row[lon_col] if lon_col in row else 'Column not found',\n",
    "                    'Error': str(e)\n",
    "                }\n",
    "                error_rows.append(error_info)\n",
    "    \n",
    "    # Apply fix_coordinates to the whole dataframe\n",
    "    fixed_coords = df_copy.apply(fix_coordinates, axis=1, lat_col=lat_col, lon_col=lon_col)\n",
    "    df_copy[lat_col] = fixed_coords[0]\n",
    "    df_copy[lon_col] = fixed_coords[1]\n",
    "    \n",
    "    return df_copy, error_rows\n",
    "\n",
    "def flatten_excel_to_shapefile(file_path, output_folder, excel_name, batas_wilayah=None, qml_folder=None, error_logs=None): #Convert all sheets from an Excel file to Shapefile and collect error logs\n",
    "\n",
    "    if error_logs is None:\n",
    "        error_logs = []\n",
    "    \n",
    "    # For filtering blank rows\n",
    "    import numpy as np\n",
    "        \n",
    "    # Load workbook\n",
    "    wb = load_workbook(file_path, data_only=True)\n",
    "\n",
    "    for sheet_name in wb.sheetnames:\n",
    "        ws = wb[sheet_name]\n",
    "\n",
    "        # Unmerge cells and fill values\n",
    "        for merge in list(ws.merged_cells):\n",
    "            ws.unmerge_cells(str(merge))\n",
    "            top_left = ws.cell(merge.min_row, merge.min_col).value\n",
    "            for row in range(merge.min_row, merge.max_row + 1):\n",
    "                for col in range(merge.min_col, merge.max_col + 1):\n",
    "                    ws.cell(row, col, top_left)\n",
    "\n",
    "        # Convert to DataFrame\n",
    "        data = list(ws.values)\n",
    "        df = pd.DataFrame(data)\n",
    "\n",
    "        # Check if DataFrame is empty or has too few rows\n",
    "        if df.empty or len(df) < 3:\n",
    "            print(f\"⚠️ Skipping '{sheet_name}' (Empty sheet or insufficient data)\")\n",
    "            continue\n",
    "\n",
    "        # Find rows containing \"NO\" (safer approach)\n",
    "        try:\n",
    "            header_indices = df[df.apply(lambda x: x.astype(str).str.contains(\"NO\", case=False, na=False)).any(axis=1)].index\n",
    "            if len(header_indices) == 0:\n",
    "                continue\n",
    "            header_index = header_indices[0]\n",
    "        except Exception as e:\n",
    "            print(f\"⚠️ Skipping '{sheet_name}' (Error finding header row: {str(e)})\")\n",
    "            continue\n",
    "\n",
    "        # Use the identified header row\n",
    "        df.columns = df.iloc[header_index].astype(str).str.strip()\n",
    "\n",
    "        # Remove empty columns\n",
    "        df = df.dropna(axis=1, how=\"all\")\n",
    "\n",
    "        # First pass of REKAP filtering - do this early and more aggressively\n",
    "        try:\n",
    "            rekap_mask = df.columns.astype(str).str.contains(\"REKAP\", case=False, na=False)\n",
    "            if rekap_mask.any():\n",
    "                df = df.loc[:, ~rekap_mask]\n",
    "        except Exception as e:\n",
    "            print(f\"Warning in '{sheet_name}': Error filtering REKAP columns - {str(e)}\")\n",
    "\n",
    "        # Drop rows above and including header, plus the empty row after header\n",
    "        rows_to_drop = list(range(0, header_index + 2))\n",
    "        if len(df) > max(rows_to_drop) + 1:  # Make sure we have enough rows\n",
    "            df = df.drop(index=rows_to_drop).reset_index(drop=True)\n",
    "        else:\n",
    "            print(f\"⚠️ Skipping '{sheet_name}' (Not enough data rows after header)\")\n",
    "            continue\n",
    "\n",
    "        # Improved header row merging\n",
    "        if len(df) >= 2:\n",
    "            first_row = df.iloc[0].astype(str).replace('None', '').replace('nan', '')\n",
    "            second_row = df.iloc[1].astype(str).replace('None', '').replace('nan', '')\n",
    "            \n",
    "            # Smart merging to avoid duplication\n",
    "            merged_header = []\n",
    "            for a, b in zip(first_row, second_row):\n",
    "                a = a.strip()\n",
    "                b = b.strip()\n",
    "                \n",
    "                # Skip columns with \"REKAP\" in the name - additional check\n",
    "                if \"rekap\" in a.lower() or \"rekap\" in b.lower():\n",
    "                    merged_header.append(\"TO_BE_REMOVED\")  # Mark for removal\n",
    "                    continue\n",
    "                \n",
    "                if not a and not b:\n",
    "                    merged_header.append(\"Column_\" + str(len(merged_header)))\n",
    "                elif not a:\n",
    "                    merged_header.append(b)\n",
    "                elif not b:\n",
    "                    merged_header.append(a)\n",
    "                else:\n",
    "                    if a.lower() in b.lower():\n",
    "                        merged_header.append(b)\n",
    "                    elif b.lower() in a.lower():\n",
    "                        merged_header.append(a)\n",
    "                    else:\n",
    "                        merged_header.append(f\"{a} {b}\")\n",
    "            \n",
    "            # Ensure column names are unique\n",
    "            df.columns = unique_column_names(merged_header)\n",
    "            \n",
    "            # Remove any columns marked for removal\n",
    "            df = df.loc[:, ~df.columns.str.contains(\"TO_BE_REMOVED\")]\n",
    "            \n",
    "            # Remove the first two rows used for headers\n",
    "            df = df.drop(index=[0, 1]).reset_index(drop=True)\n",
    "        else:\n",
    "            print(f\"⚠️ Skipping '{sheet_name}' (Not enough rows for headers)\")\n",
    "            continue\n",
    "\n",
    "        # Second pass of REKAP filtering after merging headers\n",
    "        try:\n",
    "            rekap_mask = df.columns.astype(str).str.contains(\"REKAP\", case=False, na=False)\n",
    "            if rekap_mask.any():\n",
    "                df = df.loc[:, ~rekap_mask]\n",
    "        except Exception as e:\n",
    "            print(f\"Warning in '{sheet_name}': Error filtering REKAP columns (second pass) - {str(e)}\")\n",
    "\n",
    "        # Normalize column names for consistent detection (safely handle None values)\n",
    "        df.columns = [str(col).lower().strip() if col is not None else f\"col_{i}\" for i, col in enumerate(df.columns)]\n",
    "\n",
    "        # Third pass of REKAP filtering after normalizing\n",
    "        try:\n",
    "            rekap_mask = df.columns.str.contains(\"rekap\", case=False, na=False)\n",
    "            if rekap_mask.any():\n",
    "                df = df.loc[:, ~rekap_mask]\n",
    "        except Exception as e:\n",
    "            print(f\"Warning in '{sheet_name}': Error filtering rekap columns (third pass) - {str(e)}\")\n",
    "\n",
    "        # *** ADD THIS SECTION: Filter out completely blank rows ***\n",
    "        # Convert all values to string, strip whitespace, and check if all values are empty or NaN\n",
    "        blank_mask = df.apply(lambda x: x.astype(str).str.strip().replace('', np.nan).replace('None', np.nan).replace('nan', np.nan)).isna().all(axis=1)\n",
    "        if blank_mask.any():\n",
    "            print(f\"Removing {blank_mask.sum()} blank rows from '{sheet_name}'\")\n",
    "            df = df[~blank_mask].reset_index(drop=True)\n",
    "\n",
    "        # Check if this sheet is about MARKA or PAGAR PENGAMAN\n",
    "        is_marka_sheet = \"marka\" in sheet_name.lower() or any(col for col in df.columns if isinstance(col, str) and \"marka\" in col.lower())\n",
    "        is_pagar_pengaman_sheet = \"pagar pengaman\" in sheet_name.lower() or any(col for col in df.columns if isinstance(col, str) and \"pagar pengaman\" in col.lower())\n",
    "\n",
    "        # Find all coordinate columns using the improved function\n",
    "        start_lat_col = find_coordinate_columns(df, 'start', 'lat')\n",
    "        start_lon_col = find_coordinate_columns(df, 'start', 'lon')\n",
    "        end_lat_col = find_coordinate_columns(df, 'end', 'lat')\n",
    "        end_lon_col = find_coordinate_columns(df, 'end', 'lon')\n",
    "\n",
    "        # Check available coordinate patterns\n",
    "        has_start_coords = start_lat_col is not None and start_lon_col is not None\n",
    "        has_end_coords = end_lat_col is not None and end_lon_col is not None\n",
    "\n",
    "        if not has_start_coords:\n",
    "            print(f\"⚠️ Skipping '{sheet_name}' (No valid start coordinate columns found)\")\n",
    "            continue\n",
    "\n",
    "        # *** MODIFY THIS SECTION: Only process rows with actual coordinate data ***\n",
    "        # Filter rows where both latitude and longitude values are blank\n",
    "        if has_start_coords:\n",
    "            # Convert coordinates to appropriate types and handle formatting issues\n",
    "            coord_mask = df[start_lat_col].astype(str).str.strip().replace('', np.nan).notna() & \\\n",
    "                        df[start_lon_col].astype(str).str.strip().replace('', np.nan).notna()\n",
    "            \n",
    "            if coord_mask.any():\n",
    "                # Only process rows with actual coordinate data\n",
    "                df_with_coords = df[coord_mask].reset_index(drop=True)\n",
    "                df_processed, start_errors = process_coordinates(df_with_coords, start_lat_col, start_lon_col, sheet_name, excel_name)\n",
    "                \n",
    "                # Update only the rows that had coordinates\n",
    "                df = df.copy()\n",
    "                df.loc[coord_mask, :] = df_processed\n",
    "                \n",
    "                error_logs.extend(start_errors)\n",
    "            else:\n",
    "                print(f\"⚠️ No valid start coordinates found in '{sheet_name}'\")\n",
    "                continue\n",
    "\n",
    "        if has_end_coords:\n",
    "            # Similar filtering for end coordinates\n",
    "            coord_mask = df[end_lat_col].astype(str).str.strip().replace('', np.nan).notna() & \\\n",
    "                        df[end_lon_col].astype(str).str.strip().replace('', np.nan).notna()\n",
    "            \n",
    "            if coord_mask.any():\n",
    "                df_with_coords = df[coord_mask].reset_index(drop=True)\n",
    "                df_processed, end_errors = process_coordinates(df_with_coords, end_lat_col, end_lon_col, sheet_name, excel_name)\n",
    "                \n",
    "                df.loc[coord_mask, :] = df_processed\n",
    "                error_logs.extend(end_errors)\n",
    "\n",
    "        # Check if the end coordinates actually contain valid data\n",
    "        if has_end_coords:\n",
    "            has_valid_end_coords = not df[end_lat_col].isna().all() and not df[end_lon_col].isna().all()\n",
    "            valid_pairs = ((df[start_lat_col].notna() & df[start_lon_col].notna()) & (df[end_lat_col].notna() & df[end_lon_col].notna())).any()\n",
    "        else:\n",
    "            has_valid_end_coords = False\n",
    "            valid_pairs = False\n",
    "\n",
    "        # *** MODIFY GEOMETRY CREATION SECTIONS TO HANDLE BLANK ROWS BETTER ***\n",
    "        # Determine geometry type based on available coordinates, actual data, and sheet type\n",
    "        if is_marka_sheet:\n",
    "            # MARKA sheets should use MultiPoint geometry\n",
    "            print(f\"Processing '{sheet_name}' as MultiPoint (MARKA sheet)\")\n",
    "            \n",
    "            # Create MultiPoint geometry only for rows with valid coordinates\n",
    "            df[\"geometry\"] = df.apply(\n",
    "                lambda row: MultiPoint([\n",
    "                    (row[start_lon_col], row[start_lat_col]),\n",
    "                    (row[end_lon_col], row[end_lat_col])\n",
    "                ]) if (pd.notna(row[start_lon_col]) and pd.notna(row[start_lat_col]) and \n",
    "                        pd.notna(row[end_lon_col]) and pd.notna(row[end_lat_col])) else \n",
    "                    (MultiPoint([(row[start_lon_col], row[start_lat_col])]) \n",
    "                        if pd.notna(row[start_lon_col]) and pd.notna(row[start_lat_col]) else None),\n",
    "                axis=1\n",
    "            )\n",
    "            \n",
    "            # Exclude coordinate columns from properties\n",
    "            exclude_cols = [start_lat_col, start_lon_col]\n",
    "            if has_end_coords:\n",
    "                exclude_cols.extend([end_lat_col, end_lon_col])\n",
    "            exclude_cols.append(\"geometry\")\n",
    "            \n",
    "        elif is_pagar_pengaman_sheet and has_valid_end_coords and valid_pairs:\n",
    "            # PAGAR PENGAMAN sheets with valid start/end coordinates should use LineString\n",
    "            print(f\"Processing '{sheet_name}' as LineString (PAGAR PENGAMAN sheet)\")\n",
    "            \n",
    "            # Create LineString geometry with additional debugging and more flexible validation\n",
    "            def create_linestring(row):\n",
    "                try:\n",
    "                    # Enhanced debugging\n",
    "                    start_lat = row[start_lat_col]\n",
    "                    start_lon = row[start_lon_col]\n",
    "                    end_lat = row[end_lat_col]\n",
    "                    end_lon = row[end_lon_col]\n",
    "                    \n",
    "                    # Skip processing if all coordinates are blank/NaN\n",
    "                    if pd.isna(start_lat) and pd.isna(start_lon) and pd.isna(end_lat) and pd.isna(end_lon):\n",
    "                        return None\n",
    "                        \n",
    "                    # First try to parse any string coordinates\n",
    "                    if isinstance(start_lat, str):\n",
    "                        start_lat = parse_coordinate(start_lat)\n",
    "                    if isinstance(start_lon, str):\n",
    "                        start_lon = parse_coordinate(start_lon)\n",
    "                    if isinstance(end_lat, str):\n",
    "                        end_lat = parse_coordinate(end_lat)\n",
    "                    if isinstance(end_lon, str):\n",
    "                        end_lon = parse_coordinate(end_lon)\n",
    "                    \n",
    "                    # Create LineString if we have valid coordinates\n",
    "                    if (pd.notna(start_lon) and pd.notna(start_lat) and \n",
    "                        pd.notna(end_lon) and pd.notna(end_lat)):\n",
    "                        return LineString([\n",
    "                            (float(start_lon), float(start_lat)),\n",
    "                            (float(end_lon), float(end_lat))\n",
    "                        ])\n",
    "                    else:\n",
    "                        # If one set of coordinates is missing, fall back to Point\n",
    "                        if pd.notna(start_lon) and pd.notna(start_lat):\n",
    "                            offset = 0.0001\n",
    "                            return LineString([\n",
    "                                (float(start_lon), float(start_lat)),\n",
    "                                (float(start_lon) + offset, float(start_lat) + offset)\n",
    "                            ])\n",
    "                        return None\n",
    "                except Exception as e:\n",
    "                    print(f\"Error creating LineString for row {row.name}: {str(e)}\")\n",
    "                    return None\n",
    "            \n",
    "            df[\"geometry\"] = df.apply(create_linestring, axis=1)\n",
    "            exclude_cols = [start_lat_col, start_lon_col, end_lat_col, end_lon_col, \"geometry\"]\n",
    "            \n",
    "        else:\n",
    "            # Other sheets use Point geometry (only start coordinates)\n",
    "            print(f\"Processing '{sheet_name}' as Point geometry (regular sheet)\")\n",
    "            \n",
    "            # Create Point geometry with start coordinates, only for rows with valid data\n",
    "            df[\"geometry\"] = df.apply(\n",
    "                lambda row: Point(row[start_lon_col], row[start_lat_col]) \n",
    "                if pd.notna(row[start_lon_col]) and pd.notna(row[start_lat_col]) else None,\n",
    "                axis=1\n",
    "            )\n",
    "            \n",
    "            # Exclude coordinate columns from properties\n",
    "            exclude_cols = [start_lat_col, start_lon_col]\n",
    "            if has_end_coords:\n",
    "                exclude_cols.extend([end_lat_col, end_lon_col])\n",
    "            exclude_cols.append(\"geometry\")\n",
    "\n",
    "        # Drop rows where geometry is None\n",
    "        df = df.dropna(subset=[\"geometry\"]).reset_index(drop=True)\n",
    "\n",
    "        # Only create GeoDataFrame if there are valid geometries\n",
    "        if len(df) > 0 and not df[\"geometry\"].isnull().all():\n",
    "            # Filter REKAP columns before creating properties\n",
    "            properties_cols = [col for col in df.columns if col not in exclude_cols]\n",
    "            properties_cols = [col for col in properties_cols if 'rekap' not in str(col).lower()]\n",
    "            \n",
    "            # Create GeoDataFrame with explicit geometry setting\n",
    "            gdf = gpd.GeoDataFrame(df[properties_cols + [\"geometry\"]], geometry=\"geometry\",crs=\"EPSG:4326\")\n",
    "            \n",
    "            # Verify that the geometry column is properly set\n",
    "            if not gdf.geometry.name == \"geometry\":\n",
    "                gdf = gdf.set_geometry(\"geometry\")\n",
    "            \n",
    "            gdf.columns = clean_column_names(gdf.columns)\n",
    "\n",
    "            gdf = gdf.loc[:, ~gdf.columns.astype(str).str.contains(\"rekap\", case=False, na=False)]\n",
    "            \n",
    "            gdf = gdf.loc[:, ~gdf.columns.astype(str).str.match(r\"^None$|None_\", na=False)]\n",
    "\n",
    "            gdf.columns = gdf.columns.astype(str).str.replace(r\"\\sNone\\b\", \"\", regex=True).str.strip()\n",
    "\n",
    "            # One final check for REKAP columns before saving\n",
    "            if any('rekap' in str(col).lower() for col in gdf.columns):\n",
    "                gdf = gdf.loc[:, ~gdf.columns.astype(str).str.contains(\"rekap\", case=False, na=False)]\n",
    "            \n",
    "            # Define output file path\n",
    "            output_path = os.path.join(output_folder, f\"{excel_name}_{sheet_name}.shp\")\n",
    "\n",
    "            # Save as shapefile instead of GeoJSON\n",
    "            save_to_shapefile(gdf, output_path, batas_wilayah, qml_folder)\n",
    "        else:\n",
    "            print(f\"⚠️ Skipping '{sheet_name}' (No valid geometry found)\")\n",
    "            continue\n",
    "\n",
    "    return error_logs\n",
    "def shapefile_extract_result_folder(input_folder, output_base_folder):\n",
    "    # Create the 'Extract Shapefile' folder inside the output folder\n",
    "    output_folder = os.path.join(output_base_folder, \"Extract Shapefile\")\n",
    "    os.makedirs(output_folder, exist_ok=True)\n",
    "    \n",
    "    # Define QML folder path (located in output_base_folder)\n",
    "    qml_folder = os.path.join(output_base_folder, \"- QML File\")\n",
    "    \n",
    "    # Check if QML folder exists\n",
    "    if not os.path.exists(qml_folder):\n",
    "        print(f\"⚠️ QML folder not found at: {qml_folder}\")\n",
    "        qml_folder = None\n",
    "    else:\n",
    "        print(f\"✅ Found QML styles folder: {qml_folder}\")\n",
    "    \n",
    "    # Import shutil for copying files\n",
    "    import shutil\n",
    "    \n",
    "    # Load the city boundaries shapefile\n",
    "    batas_wilayah_path = os.path.join(output_base_folder, \"- Batas wilayah kota\", \"Batas_Kota_Kabupaten_JABAR.shp\")\n",
    "    try:\n",
    "        batas_wilayah = gpd.read_file(batas_wilayah_path)\n",
    "    except Exception as e:\n",
    "        print(f\"❌ Error loading city boundaries shapefile: {str(e)}\")\n",
    "        batas_wilayah = None\n",
    "    \n",
    "    # Get all Excel files in the input folder\n",
    "    excel_extensions = ['*.xlsx', '*.xls', '*.xlsm']\n",
    "    excel_files = []\n",
    "    \n",
    "    for ext in excel_extensions:\n",
    "        excel_files.extend(glob.glob(os.path.join(input_folder, ext)))\n",
    "    \n",
    "    # Initialize error log list\n",
    "    all_error_logs = []\n",
    "        \n",
    "    # Process each Excel file\n",
    "    for i, file_path in enumerate(excel_files, 1):\n",
    "        file_name = os.path.basename(file_path)\n",
    "        excel_name = Path(file_name).stem\n",
    "        print(f\"\\n[{i}/{len(excel_files)}] Processing: {file_name}\")\n",
    "         \n",
    "        try:\n",
    "            # Collect errors from processing this file\n",
    "            file_errors = flatten_excel_to_shapefile(file_path, output_folder, excel_name, batas_wilayah, qml_folder, [])\n",
    "            all_error_logs.extend(file_errors)\n",
    "            print(f\"✅ Completed processing: {file_name}\")\n",
    "            if file_errors:\n",
    "                print(f\"⚠️ Found {len(file_errors)} coordinate errors during processing\")\n",
    "        except Exception as e:\n",
    "            print(f\"❌ Error processing {file_name}: {str(e)}\")\n",
    "            # Add a general file error to the log\n",
    "            all_error_logs.append({\n",
    "                'Excel File': excel_name,\n",
    "                'Sheet': 'N/A',\n",
    "                'Row Index': 'N/A',\n",
    "                'Error': str(e)\n",
    "            })\n",
    "    \n",
    "    # Write all collected errors to a log file\n",
    "    log_coordinate_errors(all_error_logs, output_base_folder)\n",
    "    \n",
    "    print(f\"\\n🎉 All Excel files processed. Output saved to: {output_folder}\")\n",
    "    if all_error_logs:\n",
    "        print(f\"⚠️ Total coordinate errors: {len(all_error_logs)}. See error log in the output folder.\")"
   ]
  },
  {
   "cell_type": "markdown",
   "metadata": {},
   "source": [
    "### 1.2. Run Function Excel to GeoJSON"
   ]
  },
  {
   "cell_type": "code",
   "execution_count": 43,
   "metadata": {},
   "outputs": [
    {
     "name": "stdout",
     "output_type": "stream",
     "text": [
      "✅ Found QML styles folder: C:\\Users\\kanzi\\Documents\\Part Time Job\\Hasil Export\\- QML File\n",
      "\n",
      "[1/29] Processing: 01. Cileungsi - Cibeet.xlsx\n"
     ]
    },
    {
     "name": "stderr",
     "output_type": "stream",
     "text": [
      "c:\\Users\\kanzi\\AppData\\Local\\Programs\\Python\\Python312\\Lib\\site-packages\\openpyxl\\worksheet\\_reader.py:329: UserWarning: Conditional Formatting extension is not supported and will be removed\n",
      "  warn(msg)\n"
     ]
    },
    {
     "name": "stdout",
     "output_type": "stream",
     "text": [
      "Processing 'RAMBU' as Point geometry (regular sheet)\n",
      "Spatial join completed - Added NAMOBJ column with city names\n",
      "✅ Saved: C:\\Users\\kanzi\\Documents\\Part Time Job\\Hasil Export\\Extract Shapefile\\Kabupaten Bogor\\Jalan Eksisting\\01. Cileungsi - Cibeet_RAMBU.shp\n",
      "✅ Applied QML style: C:\\Users\\kanzi\\Documents\\Part Time Job\\Hasil Export\\Extract Shapefile\\Kabupaten Bogor\\Jalan Eksisting\\01. Cileungsi - Cibeet_RAMBU.qml\n",
      "✅ Saved: C:\\Users\\kanzi\\Documents\\Part Time Job\\Hasil Export\\Extract Shapefile\\Kota Bekasi\\Jalan Eksisting\\01. Cileungsi - Cibeet_RAMBU.shp\n",
      "✅ Applied QML style: C:\\Users\\kanzi\\Documents\\Part Time Job\\Hasil Export\\Extract Shapefile\\Kota Bekasi\\Jalan Eksisting\\01. Cileungsi - Cibeet_RAMBU.qml\n",
      "Processing 'PJU' as Point geometry (regular sheet)\n"
     ]
    },
    {
     "name": "stderr",
     "output_type": "stream",
     "text": [
      "c:\\Users\\kanzi\\AppData\\Local\\Programs\\Python\\Python312\\Lib\\site-packages\\pyogrio\\raw.py:723: RuntimeWarning: Normalized/laundered field name: 'Detail ' to 'Detail'\n",
      "  ogr_write(\n",
      "c:\\Users\\kanzi\\AppData\\Local\\Programs\\Python\\Python312\\Lib\\site-packages\\pyogrio\\raw.py:723: RuntimeWarning: Normalized/laundered field name: 'Gambar ' to 'Gambar'\n",
      "  ogr_write(\n",
      "c:\\Users\\kanzi\\AppData\\Local\\Programs\\Python\\Python312\\Lib\\site-packages\\pyogrio\\raw.py:723: RuntimeWarning: Normalized/laundered field name: 'Lokasi ' to 'Lokasi'\n",
      "  ogr_write(\n",
      "c:\\Users\\kanzi\\AppData\\Local\\Programs\\Python\\Python312\\Lib\\site-packages\\pyogrio\\raw.py:723: RuntimeWarning: Normalized/laundered field name: 'Detail ' to 'Detail'\n",
      "  ogr_write(\n",
      "c:\\Users\\kanzi\\AppData\\Local\\Programs\\Python\\Python312\\Lib\\site-packages\\pyogrio\\raw.py:723: RuntimeWarning: Normalized/laundered field name: 'Gambar ' to 'Gambar'\n",
      "  ogr_write(\n",
      "c:\\Users\\kanzi\\AppData\\Local\\Programs\\Python\\Python312\\Lib\\site-packages\\pyogrio\\raw.py:723: RuntimeWarning: Normalized/laundered field name: 'Lokasi ' to 'Lokasi'\n",
      "  ogr_write(\n"
     ]
    },
    {
     "name": "stdout",
     "output_type": "stream",
     "text": [
      "Spatial join completed - Added NAMOBJ column with city names\n",
      "✅ Saved: C:\\Users\\kanzi\\Documents\\Part Time Job\\Hasil Export\\Extract Shapefile\\Kabupaten Bogor\\Jalan Eksisting\\01. Cileungsi - Cibeet_PJU.shp\n",
      "✅ Applied QML style: C:\\Users\\kanzi\\Documents\\Part Time Job\\Hasil Export\\Extract Shapefile\\Kabupaten Bogor\\Jalan Eksisting\\01. Cileungsi - Cibeet_PJU.qml\n",
      "Removing 12 blank rows from 'RPPJ'\n",
      "Processing 'RPPJ' as Point geometry (regular sheet)\n",
      "Spatial join completed - Added NAMOBJ column with city names\n",
      "✅ Saved: C:\\Users\\kanzi\\Documents\\Part Time Job\\Hasil Export\\Extract Shapefile\\Kabupaten Bogor\\Jalan Eksisting\\01. Cileungsi - Cibeet_RPPJ.shp\n",
      "✅ Applied QML style: C:\\Users\\kanzi\\Documents\\Part Time Job\\Hasil Export\\Extract Shapefile\\Kabupaten Bogor\\Jalan Eksisting\\01. Cileungsi - Cibeet_RPPJ.qml\n",
      "✅ Saved: C:\\Users\\kanzi\\Documents\\Part Time Job\\Hasil Export\\Extract Shapefile\\Kota Bekasi\\Jalan Eksisting\\01. Cileungsi - Cibeet_RPPJ.shp\n",
      "✅ Applied QML style: C:\\Users\\kanzi\\Documents\\Part Time Job\\Hasil Export\\Extract Shapefile\\Kota Bekasi\\Jalan Eksisting\\01. Cileungsi - Cibeet_RPPJ.qml\n"
     ]
    },
    {
     "name": "stderr",
     "output_type": "stream",
     "text": [
      "c:\\Users\\kanzi\\AppData\\Local\\Programs\\Python\\Python312\\Lib\\site-packages\\pyogrio\\raw.py:723: RuntimeWarning: Normalized/laundered field name: 'Detail ' to 'Detail'\n",
      "  ogr_write(\n",
      "c:\\Users\\kanzi\\AppData\\Local\\Programs\\Python\\Python312\\Lib\\site-packages\\pyogrio\\raw.py:723: RuntimeWarning: Normalized/laundered field name: 'Lokasi ' to 'Lokasi'\n",
      "  ogr_write(\n",
      "c:\\Users\\kanzi\\AppData\\Local\\Programs\\Python\\Python312\\Lib\\site-packages\\pyogrio\\raw.py:723: RuntimeWarning: Normalized/laundered field name: 'Detail ' to 'Detail'\n",
      "  ogr_write(\n",
      "c:\\Users\\kanzi\\AppData\\Local\\Programs\\Python\\Python312\\Lib\\site-packages\\pyogrio\\raw.py:723: RuntimeWarning: Normalized/laundered field name: 'Gambar ' to 'Gambar'\n",
      "  ogr_write(\n",
      "c:\\Users\\kanzi\\AppData\\Local\\Programs\\Python\\Python312\\Lib\\site-packages\\pyogrio\\raw.py:723: RuntimeWarning: Normalized/laundered field name: 'Lokasi ' to 'Lokasi'\n",
      "  ogr_write(\n",
      "c:\\Users\\kanzi\\AppData\\Local\\Programs\\Python\\Python312\\Lib\\site-packages\\pyogrio\\raw.py:723: RuntimeWarning: Normalized/laundered field name: 'Detail ' to 'Detail'\n",
      "  ogr_write(\n",
      "c:\\Users\\kanzi\\AppData\\Local\\Programs\\Python\\Python312\\Lib\\site-packages\\pyogrio\\raw.py:723: RuntimeWarning: Normalized/laundered field name: 'Gambar ' to 'Gambar'\n",
      "  ogr_write(\n",
      "c:\\Users\\kanzi\\AppData\\Local\\Programs\\Python\\Python312\\Lib\\site-packages\\pyogrio\\raw.py:723: RuntimeWarning: Normalized/laundered field name: 'Lokasi ' to 'Lokasi'\n",
      "  ogr_write(\n"
     ]
    },
    {
     "name": "stdout",
     "output_type": "stream",
     "text": [
      "Removing 978 blank rows from 'PAGAR PENGAMAN'\n",
      "Processing 'PAGAR PENGAMAN' as LineString (PAGAR PENGAMAN sheet)\n",
      "Spatial join completed - Added NAMOBJ column with city names\n",
      "✅ Saved: C:\\Users\\kanzi\\Documents\\Part Time Job\\Hasil Export\\Extract Shapefile\\Kabupaten Bogor\\Jalan Eksisting\\01. Cileungsi - Cibeet_PAGAR PENGAMAN.shp\n",
      "✅ Applied QML style: C:\\Users\\kanzi\\Documents\\Part Time Job\\Hasil Export\\Extract Shapefile\\Kabupaten Bogor\\Jalan Eksisting\\01. Cileungsi - Cibeet_PAGAR PENGAMAN.qml\n",
      "Removing 989 blank rows from 'MARKA'\n",
      "Processing 'MARKA' as MultiPoint (MARKA sheet)\n",
      "Spatial join completed - Added NAMOBJ column with city names\n",
      "✅ Saved: C:\\Users\\kanzi\\Documents\\Part Time Job\\Hasil Export\\Extract Shapefile\\Kabupaten Bogor\\Jalan Eksisting\\01. Cileungsi - Cibeet_MARKA.shp\n",
      "✅ Applied QML style: C:\\Users\\kanzi\\Documents\\Part Time Job\\Hasil Export\\Extract Shapefile\\Kabupaten Bogor\\Jalan Eksisting\\01. Cileungsi - Cibeet_MARKA.qml\n",
      "Removing 989 blank rows from 'WARNING LIGHT'\n",
      "Processing 'WARNING LIGHT' as Point geometry (regular sheet)\n"
     ]
    },
    {
     "name": "stderr",
     "output_type": "stream",
     "text": [
      "c:\\Users\\kanzi\\AppData\\Local\\Programs\\Python\\Python312\\Lib\\site-packages\\pyogrio\\raw.py:723: RuntimeWarning: Normalized/laundered field name: 'Detail ' to 'Detail'\n",
      "  ogr_write(\n",
      "c:\\Users\\kanzi\\AppData\\Local\\Programs\\Python\\Python312\\Lib\\site-packages\\pyogrio\\raw.py:723: RuntimeWarning: Normalized/laundered field name: 'Lokasi ' to 'Lokasi'\n",
      "  ogr_write(\n",
      "c:\\Users\\kanzi\\AppData\\Local\\Programs\\Python\\Python312\\Lib\\site-packages\\pyogrio\\raw.py:723: RuntimeWarning: Normalized/laundered field name: 'Detail ' to 'Detail'\n",
      "  ogr_write(\n",
      "c:\\Users\\kanzi\\AppData\\Local\\Programs\\Python\\Python312\\Lib\\site-packages\\pyogrio\\raw.py:723: RuntimeWarning: Normalized/laundered field name: 'Detail ' to 'Detail'\n",
      "  ogr_write(\n",
      "c:\\Users\\kanzi\\AppData\\Local\\Programs\\Python\\Python312\\Lib\\site-packages\\pyogrio\\raw.py:723: RuntimeWarning: Normalized/laundered field name: 'Lokasi ' to 'Lokasi'\n",
      "  ogr_write(\n"
     ]
    },
    {
     "name": "stdout",
     "output_type": "stream",
     "text": [
      "Spatial join completed - Added NAMOBJ column with city names\n",
      "✅ Saved: C:\\Users\\kanzi\\Documents\\Part Time Job\\Hasil Export\\Extract Shapefile\\Kabupaten Bogor\\Jalan Eksisting\\01. Cileungsi - Cibeet_WARNING LIGHT.shp\n",
      "✅ Applied QML style: C:\\Users\\kanzi\\Documents\\Part Time Job\\Hasil Export\\Extract Shapefile\\Kabupaten Bogor\\Jalan Eksisting\\01. Cileungsi - Cibeet_WARNING LIGHT.qml\n",
      "Removing 993 blank rows from 'APILL'\n",
      "Processing 'APILL' as Point geometry (regular sheet)\n",
      "Spatial join completed - Added NAMOBJ column with city names\n",
      "✅ Saved: C:\\Users\\kanzi\\Documents\\Part Time Job\\Hasil Export\\Extract Shapefile\\Kabupaten Bogor\\Jalan Eksisting\\01. Cileungsi - Cibeet_APILL.shp\n",
      "✅ Applied QML style: C:\\Users\\kanzi\\Documents\\Part Time Job\\Hasil Export\\Extract Shapefile\\Kabupaten Bogor\\Jalan Eksisting\\01. Cileungsi - Cibeet_APILL.qml\n",
      "Removing 961 blank rows from 'ZOSS'\n",
      "Processing 'ZOSS' as Point geometry (regular sheet)\n",
      "Spatial join completed - Added NAMOBJ column with city names\n"
     ]
    },
    {
     "name": "stderr",
     "output_type": "stream",
     "text": [
      "c:\\Users\\kanzi\\AppData\\Local\\Programs\\Python\\Python312\\Lib\\site-packages\\pyogrio\\raw.py:723: RuntimeWarning: Normalized/laundered field name: 'Detail ' to 'Detail'\n",
      "  ogr_write(\n",
      "c:\\Users\\kanzi\\AppData\\Local\\Programs\\Python\\Python312\\Lib\\site-packages\\pyogrio\\raw.py:723: RuntimeWarning: Normalized/laundered field name: 'Lokasi ' to 'Lokasi'\n",
      "  ogr_write(\n"
     ]
    },
    {
     "name": "stdout",
     "output_type": "stream",
     "text": [
      "Removing 983 blank rows from 'FAS PENYEBERANGAN'\n",
      "Processing 'FAS PENYEBERANGAN' as Point geometry (regular sheet)\n",
      "Spatial join completed - Added NAMOBJ column with city names\n",
      "✅ Saved: C:\\Users\\kanzi\\Documents\\Part Time Job\\Hasil Export\\Extract Shapefile\\Kabupaten Bogor\\Jalan Eksisting\\01. Cileungsi - Cibeet_FAS PENYEBERANGAN.shp\n",
      "⚠️ No QML file found for FAS PENYEBERANGAN\n",
      "⚠️ Skipping 'RAMBU PORTABLE' (No valid start coordinate columns found)\n",
      "⚠️ Skipping 'TRAFFIC CONE' (No valid start coordinate columns found)\n",
      "⚠️ Skipping 'WATER BARRIER' (No valid start coordinate columns found)\n",
      "Removing 961 blank rows from 'CERMIN TIKUNG'\n",
      "Processing 'CERMIN TIKUNG' as Point geometry (regular sheet)\n",
      "⚠️ Skipping 'CERMIN TIKUNG' (No valid geometry found)\n",
      "✅ Completed processing: 01. Cileungsi - Cibeet.xlsx\n",
      "\n",
      "[2/29] Processing: 02. CILEUNGSI - CIBINONG (CITEUREUP).xlsx\n"
     ]
    },
    {
     "name": "stderr",
     "output_type": "stream",
     "text": [
      "c:\\Users\\kanzi\\AppData\\Local\\Programs\\Python\\Python312\\Lib\\site-packages\\pyogrio\\raw.py:723: RuntimeWarning: Normalized/laundered field name: 'Detail ' to 'Detail'\n",
      "  ogr_write(\n",
      "c:\\Users\\kanzi\\AppData\\Local\\Programs\\Python\\Python312\\Lib\\site-packages\\openpyxl\\worksheet\\_reader.py:329: UserWarning: Conditional Formatting extension is not supported and will be removed\n",
      "  warn(msg)\n"
     ]
    },
    {
     "name": "stdout",
     "output_type": "stream",
     "text": [
      "Removing 951 blank rows from 'RAMBU'\n",
      "Processing 'RAMBU' as Point geometry (regular sheet)\n",
      "Spatial join completed - Added NAMOBJ column with city names\n",
      "✅ Saved: C:\\Users\\kanzi\\Documents\\Part Time Job\\Hasil Export\\Extract Shapefile\\Kabupaten Bogor\\Jalan Eksisting\\02. CILEUNGSI - CIBINONG (CITEUREUP)_RAMBU.shp\n",
      "✅ Applied QML style: C:\\Users\\kanzi\\Documents\\Part Time Job\\Hasil Export\\Extract Shapefile\\Kabupaten Bogor\\Jalan Eksisting\\02. CILEUNGSI - CIBINONG (CITEUREUP)_RAMBU.qml\n",
      "Removing 215 blank rows from 'PJU'\n",
      "Processing 'PJU' as Point geometry (regular sheet)\n",
      "Spatial join completed - Added NAMOBJ column with city names\n",
      "✅ Saved: C:\\Users\\kanzi\\Documents\\Part Time Job\\Hasil Export\\Extract Shapefile\\Kabupaten Bogor\\Jalan Eksisting\\02. CILEUNGSI - CIBINONG (CITEUREUP)_PJU.shp\n",
      "✅ Applied QML style: C:\\Users\\kanzi\\Documents\\Part Time Job\\Hasil Export\\Extract Shapefile\\Kabupaten Bogor\\Jalan Eksisting\\02. CILEUNGSI - CIBINONG (CITEUREUP)_PJU.qml\n",
      "Removing 36 blank rows from 'RPPJ'\n",
      "Processing 'RPPJ' as Point geometry (regular sheet)\n",
      "Spatial join completed - Added NAMOBJ column with city names\n",
      "✅ Saved: C:\\Users\\kanzi\\Documents\\Part Time Job\\Hasil Export\\Extract Shapefile\\Kabupaten Bogor\\Jalan Eksisting\\02. CILEUNGSI - CIBINONG (CITEUREUP)_RPPJ.shp\n",
      "✅ Applied QML style: C:\\Users\\kanzi\\Documents\\Part Time Job\\Hasil Export\\Extract Shapefile\\Kabupaten Bogor\\Jalan Eksisting\\02. CILEUNGSI - CIBINONG (CITEUREUP)_RPPJ.qml\n"
     ]
    },
    {
     "name": "stderr",
     "output_type": "stream",
     "text": [
      "c:\\Users\\kanzi\\AppData\\Local\\Programs\\Python\\Python312\\Lib\\site-packages\\pyogrio\\raw.py:723: RuntimeWarning: Normalized/laundered field name: 'Detail ' to 'Detail'\n",
      "  ogr_write(\n",
      "c:\\Users\\kanzi\\AppData\\Local\\Programs\\Python\\Python312\\Lib\\site-packages\\pyogrio\\raw.py:723: RuntimeWarning: Normalized/laundered field name: 'Gambar ' to 'Gambar'\n",
      "  ogr_write(\n",
      "c:\\Users\\kanzi\\AppData\\Local\\Programs\\Python\\Python312\\Lib\\site-packages\\pyogrio\\raw.py:723: RuntimeWarning: Normalized/laundered field name: 'Lokasi ' to 'Lokasi'\n",
      "  ogr_write(\n",
      "c:\\Users\\kanzi\\AppData\\Local\\Programs\\Python\\Python312\\Lib\\site-packages\\pyogrio\\raw.py:723: RuntimeWarning: Normalized/laundered field name: 'Detail ' to 'Detail'\n",
      "  ogr_write(\n",
      "c:\\Users\\kanzi\\AppData\\Local\\Programs\\Python\\Python312\\Lib\\site-packages\\pyogrio\\raw.py:723: RuntimeWarning: Normalized/laundered field name: 'Lokasi ' to 'Lokasi'\n",
      "  ogr_write(\n",
      "c:\\Users\\kanzi\\AppData\\Local\\Programs\\Python\\Python312\\Lib\\site-packages\\pyogrio\\raw.py:723: RuntimeWarning: Normalized/laundered field name: 'Detail ' to 'Detail'\n",
      "  ogr_write(\n",
      "c:\\Users\\kanzi\\AppData\\Local\\Programs\\Python\\Python312\\Lib\\site-packages\\pyogrio\\raw.py:723: RuntimeWarning: Normalized/laundered field name: 'Gambar ' to 'Gambar'\n",
      "  ogr_write(\n",
      "c:\\Users\\kanzi\\AppData\\Local\\Programs\\Python\\Python312\\Lib\\site-packages\\pyogrio\\raw.py:723: RuntimeWarning: Normalized/laundered field name: 'Lokasi ' to 'Lokasi'\n",
      "  ogr_write(\n"
     ]
    },
    {
     "name": "stdout",
     "output_type": "stream",
     "text": [
      "Removing 229 blank rows from 'PAGAR PENGAMAN'\n",
      "Processing 'PAGAR PENGAMAN' as LineString (PAGAR PENGAMAN sheet)\n",
      "Spatial join completed - Added NAMOBJ column with city names\n",
      "✅ Saved: C:\\Users\\kanzi\\Documents\\Part Time Job\\Hasil Export\\Extract Shapefile\\Kabupaten Bogor\\Jalan Eksisting\\02. CILEUNGSI - CIBINONG (CITEUREUP)_PAGAR PENGAMAN.shp\n",
      "✅ Applied QML style: C:\\Users\\kanzi\\Documents\\Part Time Job\\Hasil Export\\Extract Shapefile\\Kabupaten Bogor\\Jalan Eksisting\\02. CILEUNGSI - CIBINONG (CITEUREUP)_PAGAR PENGAMAN.qml\n",
      "Removing 961 blank rows from 'MARKA'\n",
      "Processing 'MARKA' as MultiPoint (MARKA sheet)\n",
      "Spatial join completed - Added NAMOBJ column with city names\n",
      "✅ Saved: C:\\Users\\kanzi\\Documents\\Part Time Job\\Hasil Export\\Extract Shapefile\\Kabupaten Bogor\\Jalan Eksisting\\02. CILEUNGSI - CIBINONG (CITEUREUP)_MARKA.shp\n",
      "✅ Applied QML style: C:\\Users\\kanzi\\Documents\\Part Time Job\\Hasil Export\\Extract Shapefile\\Kabupaten Bogor\\Jalan Eksisting\\02. CILEUNGSI - CIBINONG (CITEUREUP)_MARKA.qml\n",
      "Removing 221 blank rows from 'WARNING LIGHT'\n",
      "Processing 'WARNING LIGHT' as Point geometry (regular sheet)\n",
      "Spatial join completed - Added NAMOBJ column with city names\n",
      "✅ Saved: C:\\Users\\kanzi\\Documents\\Part Time Job\\Hasil Export\\Extract Shapefile\\Kabupaten Bogor\\Jalan Eksisting\\02. CILEUNGSI - CIBINONG (CITEUREUP)_WARNING LIGHT.shp\n",
      "✅ Applied QML style: C:\\Users\\kanzi\\Documents\\Part Time Job\\Hasil Export\\Extract Shapefile\\Kabupaten Bogor\\Jalan Eksisting\\02. CILEUNGSI - CIBINONG (CITEUREUP)_WARNING LIGHT.qml\n",
      "Removing 201 blank rows from 'APILL'\n",
      "Processing 'APILL' as Point geometry (regular sheet)\n",
      "Spatial join completed - Added NAMOBJ column with city names\n"
     ]
    },
    {
     "name": "stderr",
     "output_type": "stream",
     "text": [
      "c:\\Users\\kanzi\\AppData\\Local\\Programs\\Python\\Python312\\Lib\\site-packages\\pyogrio\\raw.py:723: RuntimeWarning: Normalized/laundered field name: 'Detail ' to 'Detail'\n",
      "  ogr_write(\n",
      "c:\\Users\\kanzi\\AppData\\Local\\Programs\\Python\\Python312\\Lib\\site-packages\\pyogrio\\raw.py:723: RuntimeWarning: Normalized/laundered field name: 'Lokasi ' to 'Lokasi'\n",
      "  ogr_write(\n",
      "c:\\Users\\kanzi\\AppData\\Local\\Programs\\Python\\Python312\\Lib\\site-packages\\pyogrio\\raw.py:723: RuntimeWarning: Normalized/laundered field name: 'Detail ' to 'Detail'\n",
      "  ogr_write(\n",
      "c:\\Users\\kanzi\\AppData\\Local\\Programs\\Python\\Python312\\Lib\\site-packages\\pyogrio\\raw.py:723: RuntimeWarning: Normalized/laundered field name: 'Detail ' to 'Detail'\n",
      "  ogr_write(\n",
      "c:\\Users\\kanzi\\AppData\\Local\\Programs\\Python\\Python312\\Lib\\site-packages\\pyogrio\\raw.py:723: RuntimeWarning: Normalized/laundered field name: 'Lokasi ' to 'Lokasi'\n",
      "  ogr_write(\n"
     ]
    },
    {
     "name": "stdout",
     "output_type": "stream",
     "text": [
      "Removing 980 blank rows from 'ZOSS'\n",
      "Processing 'ZOSS' as Point geometry (regular sheet)\n",
      "Spatial join completed - Added NAMOBJ column with city names\n",
      "✅ Saved: C:\\Users\\kanzi\\Documents\\Part Time Job\\Hasil Export\\Extract Shapefile\\Kabupaten Bogor\\Jalan Eksisting\\02. CILEUNGSI - CIBINONG (CITEUREUP)_ZOSS.shp\n",
      "✅ Applied QML style: C:\\Users\\kanzi\\Documents\\Part Time Job\\Hasil Export\\Extract Shapefile\\Kabupaten Bogor\\Jalan Eksisting\\02. CILEUNGSI - CIBINONG (CITEUREUP)_ZOSS.qml\n",
      "Removing 987 blank rows from 'FAS PENYEBERANGAN'\n",
      "Processing 'FAS PENYEBERANGAN' as Point geometry (regular sheet)\n",
      "Spatial join completed - Added NAMOBJ column with city names\n",
      "✅ Saved: C:\\Users\\kanzi\\Documents\\Part Time Job\\Hasil Export\\Extract Shapefile\\Kabupaten Bogor\\Jalan Eksisting\\02. CILEUNGSI - CIBINONG (CITEUREUP)_FAS PENYEBERANGAN.shp\n",
      "⚠️ No QML file found for FAS PENYEBERANGAN\n",
      "Removing 40 blank rows from 'RAMBU PORTABLE'\n",
      "⚠️ Skipping 'RAMBU PORTABLE' (No valid start coordinate columns found)\n",
      "Removing 40 blank rows from 'TRAFFIC CONE'\n",
      "⚠️ Skipping 'TRAFFIC CONE' (No valid start coordinate columns found)\n",
      "Removing 40 blank rows from 'WATER BARRIER'\n",
      "⚠️ Skipping 'WATER BARRIER' (No valid start coordinate columns found)\n",
      "Removing 229 blank rows from 'CERMIN TIKUNG'\n",
      "Processing 'CERMIN TIKUNG' as Point geometry (regular sheet)\n",
      "Spatial join completed - Added NAMOBJ column with city names\n",
      "✅ Saved: C:\\Users\\kanzi\\Documents\\Part Time Job\\Hasil Export\\Extract Shapefile\\Kabupaten Bogor\\Jalan Eksisting\\02. CILEUNGSI - CIBINONG (CITEUREUP)_CERMIN TIKUNG.shp\n",
      "✅ Applied QML style: C:\\Users\\kanzi\\Documents\\Part Time Job\\Hasil Export\\Extract Shapefile\\Kabupaten Bogor\\Jalan Eksisting\\02. CILEUNGSI - CIBINONG (CITEUREUP)_CERMIN TIKUNG.qml\n",
      "✅ Completed processing: 02. CILEUNGSI - CIBINONG (CITEUREUP).xlsx\n",
      "\n",
      "[3/29] Processing: 03. Narogong - Cileungsi.xlsx\n"
     ]
    },
    {
     "name": "stderr",
     "output_type": "stream",
     "text": [
      "c:\\Users\\kanzi\\AppData\\Local\\Programs\\Python\\Python312\\Lib\\site-packages\\pyogrio\\raw.py:723: RuntimeWarning: Normalized/laundered field name: 'Detail ' to 'Detail'\n",
      "  ogr_write(\n",
      "c:\\Users\\kanzi\\AppData\\Local\\Programs\\Python\\Python312\\Lib\\site-packages\\pyogrio\\raw.py:723: RuntimeWarning: Normalized/laundered field name: 'Detail ' to 'Detail'\n",
      "  ogr_write(\n",
      "c:\\Users\\kanzi\\AppData\\Local\\Programs\\Python\\Python312\\Lib\\site-packages\\openpyxl\\worksheet\\_reader.py:329: UserWarning: Conditional Formatting extension is not supported and will be removed\n",
      "  warn(msg)\n"
     ]
    },
    {
     "name": "stdout",
     "output_type": "stream",
     "text": [
      "Removing 3 blank rows from 'RAMBU'\n",
      "Processing 'RAMBU' as Point geometry (regular sheet)\n",
      "Spatial join completed - Added NAMOBJ column with city names\n",
      "✅ Saved: C:\\Users\\kanzi\\Documents\\Part Time Job\\Hasil Export\\Extract Shapefile\\Kabupaten Bogor\\Jalan Eksisting\\03. Narogong - Cileungsi_RAMBU.shp\n",
      "✅ Applied QML style: C:\\Users\\kanzi\\Documents\\Part Time Job\\Hasil Export\\Extract Shapefile\\Kabupaten Bogor\\Jalan Eksisting\\03. Narogong - Cileungsi_RAMBU.qml\n",
      "Removing 922 blank rows from 'PJU'\n",
      "Processing 'PJU' as Point geometry (regular sheet)\n",
      "Spatial join completed - Added NAMOBJ column with city names\n",
      "✅ Saved: C:\\Users\\kanzi\\Documents\\Part Time Job\\Hasil Export\\Extract Shapefile\\Kabupaten Bogor\\Jalan Eksisting\\03. Narogong - Cileungsi_PJU.shp\n",
      "✅ Applied QML style: C:\\Users\\kanzi\\Documents\\Part Time Job\\Hasil Export\\Extract Shapefile\\Kabupaten Bogor\\Jalan Eksisting\\03. Narogong - Cileungsi_PJU.qml\n",
      "Removing 36 blank rows from 'RPPJ'\n",
      "Processing 'RPPJ' as Point geometry (regular sheet)\n",
      "Spatial join completed - Added NAMOBJ column with city names\n",
      "✅ Saved: C:\\Users\\kanzi\\Documents\\Part Time Job\\Hasil Export\\Extract Shapefile\\Kabupaten Bogor\\Jalan Eksisting\\03. Narogong - Cileungsi_RPPJ.shp\n",
      "✅ Applied QML style: C:\\Users\\kanzi\\Documents\\Part Time Job\\Hasil Export\\Extract Shapefile\\Kabupaten Bogor\\Jalan Eksisting\\03. Narogong - Cileungsi_RPPJ.qml\n"
     ]
    },
    {
     "name": "stderr",
     "output_type": "stream",
     "text": [
      "c:\\Users\\kanzi\\AppData\\Local\\Programs\\Python\\Python312\\Lib\\site-packages\\pyogrio\\raw.py:723: RuntimeWarning: Normalized/laundered field name: 'Detail ' to 'Detail'\n",
      "  ogr_write(\n",
      "c:\\Users\\kanzi\\AppData\\Local\\Programs\\Python\\Python312\\Lib\\site-packages\\pyogrio\\raw.py:723: RuntimeWarning: Normalized/laundered field name: 'Gambar ' to 'Gambar'\n",
      "  ogr_write(\n",
      "c:\\Users\\kanzi\\AppData\\Local\\Programs\\Python\\Python312\\Lib\\site-packages\\pyogrio\\raw.py:723: RuntimeWarning: Normalized/laundered field name: 'Lokasi ' to 'Lokasi'\n",
      "  ogr_write(\n",
      "c:\\Users\\kanzi\\AppData\\Local\\Programs\\Python\\Python312\\Lib\\site-packages\\pyogrio\\raw.py:723: RuntimeWarning: Normalized/laundered field name: 'Detail ' to 'Detail'\n",
      "  ogr_write(\n",
      "c:\\Users\\kanzi\\AppData\\Local\\Programs\\Python\\Python312\\Lib\\site-packages\\pyogrio\\raw.py:723: RuntimeWarning: Normalized/laundered field name: 'Lokasi ' to 'Lokasi'\n",
      "  ogr_write(\n",
      "c:\\Users\\kanzi\\AppData\\Local\\Programs\\Python\\Python312\\Lib\\site-packages\\pyogrio\\raw.py:723: RuntimeWarning: Normalized/laundered field name: 'Detail ' to 'Detail'\n",
      "  ogr_write(\n",
      "c:\\Users\\kanzi\\AppData\\Local\\Programs\\Python\\Python312\\Lib\\site-packages\\pyogrio\\raw.py:723: RuntimeWarning: Normalized/laundered field name: 'Gambar ' to 'Gambar'\n",
      "  ogr_write(\n",
      "c:\\Users\\kanzi\\AppData\\Local\\Programs\\Python\\Python312\\Lib\\site-packages\\pyogrio\\raw.py:723: RuntimeWarning: Normalized/laundered field name: 'Lokasi ' to 'Lokasi'\n",
      "  ogr_write(\n"
     ]
    },
    {
     "name": "stdout",
     "output_type": "stream",
     "text": [
      "Removing 993 blank rows from 'PAGAR PENGAMAN'\n",
      "Processing 'PAGAR PENGAMAN' as LineString (PAGAR PENGAMAN sheet)\n",
      "Spatial join completed - Added NAMOBJ column with city names\n",
      "✅ Saved: C:\\Users\\kanzi\\Documents\\Part Time Job\\Hasil Export\\Extract Shapefile\\Kabupaten Bogor\\Jalan Eksisting\\03. Narogong - Cileungsi_PAGAR PENGAMAN.shp\n",
      "✅ Applied QML style: C:\\Users\\kanzi\\Documents\\Part Time Job\\Hasil Export\\Extract Shapefile\\Kabupaten Bogor\\Jalan Eksisting\\03. Narogong - Cileungsi_PAGAR PENGAMAN.qml\n",
      "Removing 990 blank rows from 'MARKA'\n",
      "Processing 'MARKA' as MultiPoint (MARKA sheet)\n",
      "Spatial join completed - Added NAMOBJ column with city names\n",
      "✅ Saved: C:\\Users\\kanzi\\Documents\\Part Time Job\\Hasil Export\\Extract Shapefile\\Kabupaten Bogor\\Jalan Eksisting\\03. Narogong - Cileungsi_MARKA.shp\n",
      "✅ Applied QML style: C:\\Users\\kanzi\\Documents\\Part Time Job\\Hasil Export\\Extract Shapefile\\Kabupaten Bogor\\Jalan Eksisting\\03. Narogong - Cileungsi_MARKA.qml\n",
      "Removing 987 blank rows from 'WARNING LIGHT'\n",
      "Processing 'WARNING LIGHT' as Point geometry (regular sheet)\n",
      "Spatial join completed - Added NAMOBJ column with city names\n",
      "✅ Saved: C:\\Users\\kanzi\\Documents\\Part Time Job\\Hasil Export\\Extract Shapefile\\Kabupaten Bogor\\Jalan Eksisting\\03. Narogong - Cileungsi_WARNING LIGHT.shp\n"
     ]
    },
    {
     "name": "stderr",
     "output_type": "stream",
     "text": [
      "c:\\Users\\kanzi\\AppData\\Local\\Programs\\Python\\Python312\\Lib\\site-packages\\pyogrio\\raw.py:723: RuntimeWarning: Normalized/laundered field name: 'Detail ' to 'Detail'\n",
      "  ogr_write(\n",
      "c:\\Users\\kanzi\\AppData\\Local\\Programs\\Python\\Python312\\Lib\\site-packages\\pyogrio\\raw.py:723: RuntimeWarning: Normalized/laundered field name: 'Lokasi ' to 'Lokasi'\n",
      "  ogr_write(\n",
      "c:\\Users\\kanzi\\AppData\\Local\\Programs\\Python\\Python312\\Lib\\site-packages\\pyogrio\\raw.py:723: RuntimeWarning: Normalized/laundered field name: 'Detail ' to 'Detail'\n",
      "  ogr_write(\n",
      "c:\\Users\\kanzi\\AppData\\Local\\Programs\\Python\\Python312\\Lib\\site-packages\\pyogrio\\raw.py:723: RuntimeWarning: Normalized/laundered field name: 'Detail ' to 'Detail'\n",
      "  ogr_write(\n",
      "c:\\Users\\kanzi\\AppData\\Local\\Programs\\Python\\Python312\\Lib\\site-packages\\pyogrio\\raw.py:723: RuntimeWarning: Normalized/laundered field name: 'Lokasi ' to 'Lokasi'\n",
      "  ogr_write(\n"
     ]
    },
    {
     "name": "stdout",
     "output_type": "stream",
     "text": [
      "✅ Applied QML style: C:\\Users\\kanzi\\Documents\\Part Time Job\\Hasil Export\\Extract Shapefile\\Kabupaten Bogor\\Jalan Eksisting\\03. Narogong - Cileungsi_WARNING LIGHT.qml\n",
      "Removing 993 blank rows from 'APILL'\n",
      "Processing 'APILL' as Point geometry (regular sheet)\n",
      "Spatial join completed - Added NAMOBJ column with city names\n",
      "✅ Saved: C:\\Users\\kanzi\\Documents\\Part Time Job\\Hasil Export\\Extract Shapefile\\Kabupaten Bogor\\Jalan Eksisting\\03. Narogong - Cileungsi_APILL.shp\n",
      "✅ Applied QML style: C:\\Users\\kanzi\\Documents\\Part Time Job\\Hasil Export\\Extract Shapefile\\Kabupaten Bogor\\Jalan Eksisting\\03. Narogong - Cileungsi_APILL.qml\n",
      "Removing 992 blank rows from 'ZOSS'\n",
      "Processing 'ZOSS' as Point geometry (regular sheet)\n",
      "Spatial join completed - Added NAMOBJ column with city names\n",
      "✅ Saved: C:\\Users\\kanzi\\Documents\\Part Time Job\\Hasil Export\\Extract Shapefile\\Kabupaten Bogor\\Jalan Eksisting\\03. Narogong - Cileungsi_ZOSS.shp\n",
      "✅ Applied QML style: C:\\Users\\kanzi\\Documents\\Part Time Job\\Hasil Export\\Extract Shapefile\\Kabupaten Bogor\\Jalan Eksisting\\03. Narogong - Cileungsi_ZOSS.qml\n"
     ]
    },
    {
     "name": "stderr",
     "output_type": "stream",
     "text": [
      "c:\\Users\\kanzi\\AppData\\Local\\Programs\\Python\\Python312\\Lib\\site-packages\\pyogrio\\raw.py:723: RuntimeWarning: Normalized/laundered field name: 'Detail ' to 'Detail'\n",
      "  ogr_write(\n",
      "c:\\Users\\kanzi\\AppData\\Local\\Programs\\Python\\Python312\\Lib\\site-packages\\pyogrio\\raw.py:723: RuntimeWarning: Normalized/laundered field name: 'Lokasi ' to 'Lokasi'\n",
      "  ogr_write(\n"
     ]
    },
    {
     "name": "stdout",
     "output_type": "stream",
     "text": [
      "Removing 992 blank rows from 'FAS PENYEBERANGAN'\n",
      "Processing 'FAS PENYEBERANGAN' as Point geometry (regular sheet)\n",
      "Spatial join completed - Added NAMOBJ column with city names\n",
      "✅ Saved: C:\\Users\\kanzi\\Documents\\Part Time Job\\Hasil Export\\Extract Shapefile\\Kabupaten Bogor\\Jalan Eksisting\\03. Narogong - Cileungsi_FAS PENYEBERANGAN.shp\n",
      "⚠️ No QML file found for FAS PENYEBERANGAN\n",
      "Removing 9 blank rows from 'RAMBU PORTABLE'\n",
      "⚠️ Skipping 'RAMBU PORTABLE' (No valid start coordinate columns found)\n",
      "Removing 9 blank rows from 'TRAFFIC CONE'\n",
      "⚠️ Skipping 'TRAFFIC CONE' (No valid start coordinate columns found)\n",
      "Removing 9 blank rows from 'WATER BARRIER'\n",
      "⚠️ Skipping 'WATER BARRIER' (No valid start coordinate columns found)\n",
      "Removing 961 blank rows from 'CERMIN TIKUNG'\n",
      "Processing 'CERMIN TIKUNG' as Point geometry (regular sheet)\n",
      "⚠️ Skipping 'CERMIN TIKUNG' (No valid geometry found)\n",
      "✅ Completed processing: 03. Narogong - Cileungsi.xlsx\n",
      "\n",
      "[4/29] Processing: 04. Jl. Moch Toha (Parung Panjang).xlsx\n"
     ]
    },
    {
     "name": "stderr",
     "output_type": "stream",
     "text": [
      "c:\\Users\\kanzi\\AppData\\Local\\Programs\\Python\\Python312\\Lib\\site-packages\\pyogrio\\raw.py:723: RuntimeWarning: Normalized/laundered field name: 'Detail ' to 'Detail'\n",
      "  ogr_write(\n",
      "c:\\Users\\kanzi\\AppData\\Local\\Programs\\Python\\Python312\\Lib\\site-packages\\openpyxl\\worksheet\\_reader.py:329: UserWarning: Conditional Formatting extension is not supported and will be removed\n",
      "  warn(msg)\n"
     ]
    },
    {
     "name": "stdout",
     "output_type": "stream",
     "text": [
      "Removing 32 blank rows from 'RAMBU'\n",
      "Processing 'RAMBU' as Point geometry (regular sheet)\n",
      "Spatial join completed - Added NAMOBJ column with city names\n",
      "✅ Saved: C:\\Users\\kanzi\\Documents\\Part Time Job\\Hasil Export\\Extract Shapefile\\Kabupaten Bogor\\Jalan Eksisting\\04. Jl. Moch Toha (Parung Panjang)_RAMBU.shp\n",
      "✅ Applied QML style: C:\\Users\\kanzi\\Documents\\Part Time Job\\Hasil Export\\Extract Shapefile\\Kabupaten Bogor\\Jalan Eksisting\\04. Jl. Moch Toha (Parung Panjang)_RAMBU.qml\n",
      "Removing 973 blank rows from 'PJU'\n",
      "Processing 'PJU' as Point geometry (regular sheet)\n",
      "Spatial join completed - Added NAMOBJ column with city names\n",
      "✅ Saved: C:\\Users\\kanzi\\Documents\\Part Time Job\\Hasil Export\\Extract Shapefile\\Kabupaten Bogor\\Jalan Eksisting\\04. Jl. Moch Toha (Parung Panjang)_PJU.shp\n",
      "✅ Applied QML style: C:\\Users\\kanzi\\Documents\\Part Time Job\\Hasil Export\\Extract Shapefile\\Kabupaten Bogor\\Jalan Eksisting\\04. Jl. Moch Toha (Parung Panjang)_PJU.qml\n",
      "Removing 39 blank rows from 'RPPJ'\n",
      "Processing 'RPPJ' as Point geometry (regular sheet)\n",
      "Spatial join completed - Added NAMOBJ column with city names\n",
      "✅ Saved: C:\\Users\\kanzi\\Documents\\Part Time Job\\Hasil Export\\Extract Shapefile\\Kabupaten Bogor\\Jalan Eksisting\\04. Jl. Moch Toha (Parung Panjang)_RPPJ.shp\n",
      "✅ Applied QML style: C:\\Users\\kanzi\\Documents\\Part Time Job\\Hasil Export\\Extract Shapefile\\Kabupaten Bogor\\Jalan Eksisting\\04. Jl. Moch Toha (Parung Panjang)_RPPJ.qml\n"
     ]
    },
    {
     "name": "stderr",
     "output_type": "stream",
     "text": [
      "c:\\Users\\kanzi\\AppData\\Local\\Programs\\Python\\Python312\\Lib\\site-packages\\pyogrio\\raw.py:723: RuntimeWarning: Normalized/laundered field name: 'Detail ' to 'Detail'\n",
      "  ogr_write(\n",
      "c:\\Users\\kanzi\\AppData\\Local\\Programs\\Python\\Python312\\Lib\\site-packages\\pyogrio\\raw.py:723: RuntimeWarning: Normalized/laundered field name: 'Gambar ' to 'Gambar'\n",
      "  ogr_write(\n",
      "c:\\Users\\kanzi\\AppData\\Local\\Programs\\Python\\Python312\\Lib\\site-packages\\pyogrio\\raw.py:723: RuntimeWarning: Normalized/laundered field name: 'Lokasi ' to 'Lokasi'\n",
      "  ogr_write(\n",
      "c:\\Users\\kanzi\\AppData\\Local\\Programs\\Python\\Python312\\Lib\\site-packages\\pyogrio\\raw.py:723: RuntimeWarning: Normalized/laundered field name: 'Detail ' to 'Detail'\n",
      "  ogr_write(\n",
      "c:\\Users\\kanzi\\AppData\\Local\\Programs\\Python\\Python312\\Lib\\site-packages\\pyogrio\\raw.py:723: RuntimeWarning: Normalized/laundered field name: 'Lokasi ' to 'Lokasi'\n",
      "  ogr_write(\n",
      "c:\\Users\\kanzi\\AppData\\Local\\Programs\\Python\\Python312\\Lib\\site-packages\\pyogrio\\raw.py:723: RuntimeWarning: Normalized/laundered field name: 'Detail ' to 'Detail'\n",
      "  ogr_write(\n",
      "c:\\Users\\kanzi\\AppData\\Local\\Programs\\Python\\Python312\\Lib\\site-packages\\pyogrio\\raw.py:723: RuntimeWarning: Normalized/laundered field name: 'Gambar ' to 'Gambar'\n",
      "  ogr_write(\n",
      "c:\\Users\\kanzi\\AppData\\Local\\Programs\\Python\\Python312\\Lib\\site-packages\\pyogrio\\raw.py:723: RuntimeWarning: Normalized/laundered field name: 'Lokasi ' to 'Lokasi'\n",
      "  ogr_write(\n"
     ]
    },
    {
     "name": "stdout",
     "output_type": "stream",
     "text": [
      "Removing 961 blank rows from 'PAGAR PENGAMAN'\n",
      "Processing 'PAGAR PENGAMAN' as LineString (PAGAR PENGAMAN sheet)\n",
      "Spatial join completed - Added NAMOBJ column with city names\n",
      "Removing 961 blank rows from 'MARKA'\n",
      "Processing 'MARKA' as MultiPoint (MARKA sheet)\n",
      "❌ Error processing 04. Jl. Moch Toha (Parung Panjang).xlsx: None\n",
      "\n",
      "[5/29] Processing: 05. PARUNG PANJANG - BUNAR.xlsx\n"
     ]
    },
    {
     "name": "stderr",
     "output_type": "stream",
     "text": [
      "c:\\Users\\kanzi\\AppData\\Local\\Programs\\Python\\Python312\\Lib\\site-packages\\openpyxl\\worksheet\\_reader.py:329: UserWarning: Conditional Formatting extension is not supported and will be removed\n",
      "  warn(msg)\n"
     ]
    },
    {
     "name": "stdout",
     "output_type": "stream",
     "text": [
      "Removing 24 blank rows from 'RAMBU'\n",
      "Processing 'RAMBU' as Point geometry (regular sheet)\n",
      "Spatial join completed - Added NAMOBJ column with city names\n",
      "✅ Saved: C:\\Users\\kanzi\\Documents\\Part Time Job\\Hasil Export\\Extract Shapefile\\Kabupaten Bogor\\Jalan Eksisting\\05. PARUNG PANJANG - BUNAR_RAMBU.shp\n",
      "✅ Applied QML style: C:\\Users\\kanzi\\Documents\\Part Time Job\\Hasil Export\\Extract Shapefile\\Kabupaten Bogor\\Jalan Eksisting\\05. PARUNG PANJANG - BUNAR_RAMBU.qml\n",
      "Removing 710 blank rows from 'PJU'\n",
      "Processing 'PJU' as Point geometry (regular sheet)\n",
      "Spatial join completed - Added NAMOBJ column with city names\n",
      "✅ Saved: C:\\Users\\kanzi\\Documents\\Part Time Job\\Hasil Export\\Extract Shapefile\\Kabupaten Bogor\\Jalan Eksisting\\05. PARUNG PANJANG - BUNAR_PJU.shp\n"
     ]
    },
    {
     "name": "stderr",
     "output_type": "stream",
     "text": [
      "c:\\Users\\kanzi\\AppData\\Local\\Programs\\Python\\Python312\\Lib\\site-packages\\pyogrio\\raw.py:723: RuntimeWarning: Normalized/laundered field name: 'Detail ' to 'Detail'\n",
      "  ogr_write(\n",
      "c:\\Users\\kanzi\\AppData\\Local\\Programs\\Python\\Python312\\Lib\\site-packages\\pyogrio\\raw.py:723: RuntimeWarning: Normalized/laundered field name: 'Gambar ' to 'Gambar'\n",
      "  ogr_write(\n",
      "c:\\Users\\kanzi\\AppData\\Local\\Programs\\Python\\Python312\\Lib\\site-packages\\pyogrio\\raw.py:723: RuntimeWarning: Normalized/laundered field name: 'Lokasi ' to 'Lokasi'\n",
      "  ogr_write(\n",
      "c:\\Users\\kanzi\\AppData\\Local\\Programs\\Python\\Python312\\Lib\\site-packages\\pyogrio\\raw.py:723: RuntimeWarning: Normalized/laundered field name: 'Detail ' to 'Detail'\n",
      "  ogr_write(\n",
      "c:\\Users\\kanzi\\AppData\\Local\\Programs\\Python\\Python312\\Lib\\site-packages\\pyogrio\\raw.py:723: RuntimeWarning: Normalized/laundered field name: 'Lokasi ' to 'Lokasi'\n",
      "  ogr_write(\n"
     ]
    },
    {
     "name": "stdout",
     "output_type": "stream",
     "text": [
      "✅ Applied QML style: C:\\Users\\kanzi\\Documents\\Part Time Job\\Hasil Export\\Extract Shapefile\\Kabupaten Bogor\\Jalan Eksisting\\05. PARUNG PANJANG - BUNAR_PJU.qml\n",
      "Removing 9 blank rows from 'RPPJ'\n",
      "Processing 'RPPJ' as Point geometry (regular sheet)\n",
      "Spatial join completed - Added NAMOBJ column with city names\n",
      "Removing 961 blank rows from 'PAGAR PENGAMAN'\n",
      "Processing 'PAGAR PENGAMAN' as LineString (PAGAR PENGAMAN sheet)\n",
      "Spatial join completed - Added NAMOBJ column with city names\n",
      "Removing 961 blank rows from 'MARKA'\n",
      "Processing 'MARKA' as MultiPoint (MARKA sheet)\n",
      "❌ Error processing 05. PARUNG PANJANG - BUNAR.xlsx: None\n",
      "\n",
      "[6/29] Processing: 06. Tanjung Pura - Batujaya.xlsx\n"
     ]
    },
    {
     "name": "stderr",
     "output_type": "stream",
     "text": [
      "c:\\Users\\kanzi\\AppData\\Local\\Programs\\Python\\Python312\\Lib\\site-packages\\openpyxl\\worksheet\\_reader.py:329: UserWarning: Conditional Formatting extension is not supported and will be removed\n",
      "  warn(msg)\n"
     ]
    },
    {
     "name": "stdout",
     "output_type": "stream",
     "text": [
      "Removing 677 blank rows from 'PJU'\n",
      "Processing 'PJU' as Point geometry (regular sheet)\n",
      "Spatial join completed - Added NAMOBJ column with city names\n",
      "✅ Saved: C:\\Users\\kanzi\\Documents\\Part Time Job\\Hasil Export\\Extract Shapefile\\Kabupaten Karawang\\Jalan Eksisting\\06. Tanjung Pura - Batujaya_PJU.shp\n",
      "✅ Applied QML style: C:\\Users\\kanzi\\Documents\\Part Time Job\\Hasil Export\\Extract Shapefile\\Kabupaten Karawang\\Jalan Eksisting\\06. Tanjung Pura - Batujaya_PJU.qml\n",
      "Processing 'RAMBU' as Point geometry (regular sheet)\n"
     ]
    },
    {
     "name": "stderr",
     "output_type": "stream",
     "text": [
      "c:\\Users\\kanzi\\AppData\\Local\\Programs\\Python\\Python312\\Lib\\site-packages\\pyogrio\\raw.py:723: RuntimeWarning: Normalized/laundered field name: 'Detail ' to 'Detail'\n",
      "  ogr_write(\n",
      "c:\\Users\\kanzi\\AppData\\Local\\Programs\\Python\\Python312\\Lib\\site-packages\\pyogrio\\raw.py:723: RuntimeWarning: Normalized/laundered field name: 'Lokasi ' to 'Lokasi'\n",
      "  ogr_write(\n",
      "c:\\Users\\kanzi\\AppData\\Local\\Programs\\Python\\Python312\\Lib\\site-packages\\pyogrio\\raw.py:723: RuntimeWarning: Normalized/laundered field name: 'Detail ' to 'Detail'\n",
      "  ogr_write(\n",
      "c:\\Users\\kanzi\\AppData\\Local\\Programs\\Python\\Python312\\Lib\\site-packages\\pyogrio\\raw.py:723: RuntimeWarning: Normalized/laundered field name: 'Gambar ' to 'Gambar'\n",
      "  ogr_write(\n",
      "c:\\Users\\kanzi\\AppData\\Local\\Programs\\Python\\Python312\\Lib\\site-packages\\pyogrio\\raw.py:723: RuntimeWarning: Normalized/laundered field name: 'Lokasi ' to 'Lokasi'\n",
      "  ogr_write(\n",
      "c:\\Users\\kanzi\\AppData\\Local\\Programs\\Python\\Python312\\Lib\\site-packages\\pyogrio\\raw.py:723: RuntimeWarning: Normalized/laundered field name: 'Detail ' to 'Detail'\n",
      "  ogr_write(\n",
      "c:\\Users\\kanzi\\AppData\\Local\\Programs\\Python\\Python312\\Lib\\site-packages\\pyogrio\\raw.py:723: RuntimeWarning: Normalized/laundered field name: 'Gambar ' to 'Gambar'\n",
      "  ogr_write(\n",
      "c:\\Users\\kanzi\\AppData\\Local\\Programs\\Python\\Python312\\Lib\\site-packages\\pyogrio\\raw.py:723: RuntimeWarning: Normalized/laundered field name: 'Lokasi ' to 'Lokasi'\n",
      "  ogr_write(\n"
     ]
    },
    {
     "name": "stdout",
     "output_type": "stream",
     "text": [
      "Spatial join completed - Added NAMOBJ column with city names\n",
      "✅ Saved: C:\\Users\\kanzi\\Documents\\Part Time Job\\Hasil Export\\Extract Shapefile\\Kabupaten Karawang\\Jalan Eksisting\\06. Tanjung Pura - Batujaya_RAMBU.shp\n",
      "✅ Applied QML style: C:\\Users\\kanzi\\Documents\\Part Time Job\\Hasil Export\\Extract Shapefile\\Kabupaten Karawang\\Jalan Eksisting\\06. Tanjung Pura - Batujaya_RAMBU.qml\n",
      "Removing 7 blank rows from 'RPPJ'\n",
      "Processing 'RPPJ' as Point geometry (regular sheet)\n",
      "Spatial join completed - Added NAMOBJ column with city names\n",
      "✅ Saved: C:\\Users\\kanzi\\Documents\\Part Time Job\\Hasil Export\\Extract Shapefile\\Kabupaten Karawang\\Jalan Eksisting\\06. Tanjung Pura - Batujaya_RPPJ.shp\n",
      "✅ Applied QML style: C:\\Users\\kanzi\\Documents\\Part Time Job\\Hasil Export\\Extract Shapefile\\Kabupaten Karawang\\Jalan Eksisting\\06. Tanjung Pura - Batujaya_RPPJ.qml\n",
      "Removing 968 blank rows from 'PAGAR PENGAMAN'\n",
      "Processing 'PAGAR PENGAMAN' as LineString (PAGAR PENGAMAN sheet)\n",
      "Spatial join completed - Added NAMOBJ column with city names\n",
      "✅ Saved: C:\\Users\\kanzi\\Documents\\Part Time Job\\Hasil Export\\Extract Shapefile\\Kabupaten Karawang\\Jalan Eksisting\\06. Tanjung Pura - Batujaya_PAGAR PENGAMAN.shp\n",
      "✅ Applied QML style: C:\\Users\\kanzi\\Documents\\Part Time Job\\Hasil Export\\Extract Shapefile\\Kabupaten Karawang\\Jalan Eksisting\\06. Tanjung Pura - Batujaya_PAGAR PENGAMAN.qml\n"
     ]
    },
    {
     "name": "stderr",
     "output_type": "stream",
     "text": [
      "c:\\Users\\kanzi\\AppData\\Local\\Programs\\Python\\Python312\\Lib\\site-packages\\pyogrio\\raw.py:723: RuntimeWarning: Normalized/laundered field name: 'Detail ' to 'Detail'\n",
      "  ogr_write(\n",
      "c:\\Users\\kanzi\\AppData\\Local\\Programs\\Python\\Python312\\Lib\\site-packages\\pyogrio\\raw.py:723: RuntimeWarning: Normalized/laundered field name: 'Lokasi ' to 'Lokasi'\n",
      "  ogr_write(\n",
      "c:\\Users\\kanzi\\AppData\\Local\\Programs\\Python\\Python312\\Lib\\site-packages\\pyogrio\\raw.py:723: RuntimeWarning: Normalized/laundered field name: 'Detail ' to 'Detail'\n",
      "  ogr_write(\n"
     ]
    },
    {
     "name": "stdout",
     "output_type": "stream",
     "text": [
      "Removing 994 blank rows from 'MARKA'\n",
      "Processing 'MARKA' as MultiPoint (MARKA sheet)\n",
      "Spatial join completed - Added NAMOBJ column with city names\n",
      "✅ Saved: C:\\Users\\kanzi\\Documents\\Part Time Job\\Hasil Export\\Extract Shapefile\\Kabupaten Karawang\\Jalan Eksisting\\06. Tanjung Pura - Batujaya_MARKA.shp\n",
      "✅ Applied QML style: C:\\Users\\kanzi\\Documents\\Part Time Job\\Hasil Export\\Extract Shapefile\\Kabupaten Karawang\\Jalan Eksisting\\06. Tanjung Pura - Batujaya_MARKA.qml\n",
      "Removing 987 blank rows from 'WARNING LIGHT'\n",
      "Processing 'WARNING LIGHT' as Point geometry (regular sheet)\n",
      "Spatial join completed - Added NAMOBJ column with city names\n",
      "✅ Saved: C:\\Users\\kanzi\\Documents\\Part Time Job\\Hasil Export\\Extract Shapefile\\Kabupaten Karawang\\Jalan Eksisting\\06. Tanjung Pura - Batujaya_WARNING LIGHT.shp\n",
      "✅ Applied QML style: C:\\Users\\kanzi\\Documents\\Part Time Job\\Hasil Export\\Extract Shapefile\\Kabupaten Karawang\\Jalan Eksisting\\06. Tanjung Pura - Batujaya_WARNING LIGHT.qml\n",
      "Removing 995 blank rows from 'APILL'\n",
      "Processing 'APILL' as Point geometry (regular sheet)\n",
      "Spatial join completed - Added NAMOBJ column with city names\n"
     ]
    },
    {
     "name": "stderr",
     "output_type": "stream",
     "text": [
      "c:\\Users\\kanzi\\AppData\\Local\\Programs\\Python\\Python312\\Lib\\site-packages\\pyogrio\\raw.py:723: RuntimeWarning: Normalized/laundered field name: 'Detail ' to 'Detail'\n",
      "  ogr_write(\n",
      "c:\\Users\\kanzi\\AppData\\Local\\Programs\\Python\\Python312\\Lib\\site-packages\\pyogrio\\raw.py:723: RuntimeWarning: Normalized/laundered field name: 'Lokasi ' to 'Lokasi'\n",
      "  ogr_write(\n",
      "c:\\Users\\kanzi\\AppData\\Local\\Programs\\Python\\Python312\\Lib\\site-packages\\pyogrio\\raw.py:723: RuntimeWarning: Normalized/laundered field name: 'Detail ' to 'Detail'\n",
      "  ogr_write(\n"
     ]
    },
    {
     "name": "stdout",
     "output_type": "stream",
     "text": [
      "Removing 995 blank rows from 'ZOSS'\n",
      "⚠️ No valid start coordinates found in 'ZOSS'\n",
      "Removing 986 blank rows from 'FAS PENYEBERANGAN'\n",
      "Processing 'FAS PENYEBERANGAN' as Point geometry (regular sheet)\n",
      "Spatial join completed - Added NAMOBJ column with city names\n",
      "✅ Saved: C:\\Users\\kanzi\\Documents\\Part Time Job\\Hasil Export\\Extract Shapefile\\Kabupaten Karawang\\Jalan Eksisting\\06. Tanjung Pura - Batujaya_FAS PENYEBERANGAN.shp\n",
      "⚠️ No QML file found for FAS PENYEBERANGAN\n",
      "Removing 34 blank rows from 'RAMBU PORTABLE'\n",
      "⚠️ Skipping 'RAMBU PORTABLE' (No valid start coordinate columns found)\n",
      "Removing 32 blank rows from 'TRAFFIC CONE'\n",
      "⚠️ Skipping 'TRAFFIC CONE' (No valid start coordinate columns found)\n",
      "Removing 34 blank rows from 'WATER BARRIER'\n",
      "⚠️ Skipping 'WATER BARRIER' (No valid start coordinate columns found)\n",
      "Removing 995 blank rows from 'CERMIN TIKUNG'\n",
      "⚠️ No valid start coordinates found in 'CERMIN TIKUNG'\n",
      "✅ Completed processing: 06. Tanjung Pura - Batujaya.xlsx\n",
      "\n",
      "[7/29] Processing: 07. Kosambi - Bts. Karawang-Purwakarta (Curug).xlsx\n"
     ]
    },
    {
     "name": "stderr",
     "output_type": "stream",
     "text": [
      "c:\\Users\\kanzi\\AppData\\Local\\Programs\\Python\\Python312\\Lib\\site-packages\\openpyxl\\worksheet\\_reader.py:329: UserWarning: Conditional Formatting extension is not supported and will be removed\n",
      "  warn(msg)\n"
     ]
    },
    {
     "name": "stdout",
     "output_type": "stream",
     "text": [
      "Removing 11 blank rows from 'RAMBU'\n",
      "Processing 'RAMBU' as Point geometry (regular sheet)\n",
      "Spatial join completed - Added NAMOBJ column with city names\n",
      "Removing 861 blank rows from 'PJU'\n",
      "Processing 'PJU' as Point geometry (regular sheet)\n",
      "Spatial join completed - Added NAMOBJ column with city names\n",
      "✅ Saved: C:\\Users\\kanzi\\Documents\\Part Time Job\\Hasil Export\\Extract Shapefile\\Kabupaten Karawang\\Jalan Eksisting\\07. Kosambi - Bts. Karawang-Purwakarta (Curug)_PJU.shp\n",
      "✅ Applied QML style: C:\\Users\\kanzi\\Documents\\Part Time Job\\Hasil Export\\Extract Shapefile\\Kabupaten Karawang\\Jalan Eksisting\\07. Kosambi - Bts. Karawang-Purwakarta (Curug)_PJU.qml\n",
      "✅ Saved: C:\\Users\\kanzi\\Documents\\Part Time Job\\Hasil Export\\Extract Shapefile\\Kabupaten Purwakarta\\Jalan Eksisting\\07. Kosambi - Bts. Karawang-Purwakarta (Curug)_PJU.shp\n",
      "✅ Applied QML style: C:\\Users\\kanzi\\Documents\\Part Time Job\\Hasil Export\\Extract Shapefile\\Kabupaten Purwakarta\\Jalan Eksisting\\07. Kosambi - Bts. Karawang-Purwakarta (Curug)_PJU.qml\n",
      "Removing 11 blank rows from 'RPPJ'\n",
      "Processing 'RPPJ' as Point geometry (regular sheet)\n"
     ]
    },
    {
     "name": "stderr",
     "output_type": "stream",
     "text": [
      "c:\\Users\\kanzi\\AppData\\Local\\Programs\\Python\\Python312\\Lib\\site-packages\\pyogrio\\raw.py:723: RuntimeWarning: Normalized/laundered field name: 'Detail ' to 'Detail'\n",
      "  ogr_write(\n",
      "c:\\Users\\kanzi\\AppData\\Local\\Programs\\Python\\Python312\\Lib\\site-packages\\pyogrio\\raw.py:723: RuntimeWarning: Normalized/laundered field name: 'Lokasi ' to 'Lokasi'\n",
      "  ogr_write(\n",
      "c:\\Users\\kanzi\\AppData\\Local\\Programs\\Python\\Python312\\Lib\\site-packages\\pyogrio\\raw.py:723: RuntimeWarning: Normalized/laundered field name: 'Detail ' to 'Detail'\n",
      "  ogr_write(\n",
      "c:\\Users\\kanzi\\AppData\\Local\\Programs\\Python\\Python312\\Lib\\site-packages\\pyogrio\\raw.py:723: RuntimeWarning: Normalized/laundered field name: 'Lokasi ' to 'Lokasi'\n",
      "  ogr_write(\n",
      "c:\\Users\\kanzi\\AppData\\Local\\Programs\\Python\\Python312\\Lib\\site-packages\\pyogrio\\raw.py:723: RuntimeWarning: Normalized/laundered field name: 'Detail ' to 'Detail'\n",
      "  ogr_write(\n",
      "c:\\Users\\kanzi\\AppData\\Local\\Programs\\Python\\Python312\\Lib\\site-packages\\pyogrio\\raw.py:723: RuntimeWarning: Normalized/laundered field name: 'Gambar ' to 'Gambar'\n",
      "  ogr_write(\n",
      "c:\\Users\\kanzi\\AppData\\Local\\Programs\\Python\\Python312\\Lib\\site-packages\\pyogrio\\raw.py:723: RuntimeWarning: Normalized/laundered field name: 'Lokasi ' to 'Lokasi'\n",
      "  ogr_write(\n"
     ]
    },
    {
     "name": "stdout",
     "output_type": "stream",
     "text": [
      "Spatial join completed - Added NAMOBJ column with city names\n",
      "✅ Saved: C:\\Users\\kanzi\\Documents\\Part Time Job\\Hasil Export\\Extract Shapefile\\Kabupaten Karawang\\Jalan Eksisting\\07. Kosambi - Bts. Karawang-Purwakarta (Curug)_RPPJ.shp\n",
      "✅ Applied QML style: C:\\Users\\kanzi\\Documents\\Part Time Job\\Hasil Export\\Extract Shapefile\\Kabupaten Karawang\\Jalan Eksisting\\07. Kosambi - Bts. Karawang-Purwakarta (Curug)_RPPJ.qml\n",
      "Removing 962 blank rows from 'PAGAR PENGAMAN'\n",
      "Processing 'PAGAR PENGAMAN' as LineString (PAGAR PENGAMAN sheet)\n",
      "Spatial join completed - Added NAMOBJ column with city names\n",
      "✅ Saved: C:\\Users\\kanzi\\Documents\\Part Time Job\\Hasil Export\\Extract Shapefile\\Kabupaten Karawang\\Jalan Eksisting\\07. Kosambi - Bts. Karawang-Purwakarta (Curug)_PAGAR PENGAMAN.shp\n",
      "✅ Applied QML style: C:\\Users\\kanzi\\Documents\\Part Time Job\\Hasil Export\\Extract Shapefile\\Kabupaten Karawang\\Jalan Eksisting\\07. Kosambi - Bts. Karawang-Purwakarta (Curug)_PAGAR PENGAMAN.qml\n",
      "Removing 962 blank rows from 'MARKA'\n",
      "Processing 'MARKA' as MultiPoint (MARKA sheet)\n",
      "Spatial join completed - Added NAMOBJ column with city names\n",
      "Removing 963 blank rows from 'WARNING LIGHT'\n",
      "Processing 'WARNING LIGHT' as Point geometry (regular sheet)\n",
      "Spatial join completed - Added NAMOBJ column with city names\n",
      "✅ Saved: C:\\Users\\kanzi\\Documents\\Part Time Job\\Hasil Export\\Extract Shapefile\\Kabupaten Karawang\\Jalan Eksisting\\07. Kosambi - Bts. Karawang-Purwakarta (Curug)_WARNING LIGHT.shp\n",
      "✅ Applied QML style: C:\\Users\\kanzi\\Documents\\Part Time Job\\Hasil Export\\Extract Shapefile\\Kabupaten Karawang\\Jalan Eksisting\\07. Kosambi - Bts. Karawang-Purwakarta (Curug)_WARNING LIGHT.qml\n"
     ]
    },
    {
     "name": "stderr",
     "output_type": "stream",
     "text": [
      "c:\\Users\\kanzi\\AppData\\Local\\Programs\\Python\\Python312\\Lib\\site-packages\\pyogrio\\raw.py:723: RuntimeWarning: Normalized/laundered field name: 'Detail ' to 'Detail'\n",
      "  ogr_write(\n",
      "c:\\Users\\kanzi\\AppData\\Local\\Programs\\Python\\Python312\\Lib\\site-packages\\pyogrio\\raw.py:723: RuntimeWarning: Normalized/laundered field name: 'Lokasi ' to 'Lokasi'\n",
      "  ogr_write(\n",
      "c:\\Users\\kanzi\\AppData\\Local\\Programs\\Python\\Python312\\Lib\\site-packages\\pyogrio\\raw.py:723: RuntimeWarning: Normalized/laundered field name: 'Detail ' to 'Detail'\n",
      "  ogr_write(\n",
      "c:\\Users\\kanzi\\AppData\\Local\\Programs\\Python\\Python312\\Lib\\site-packages\\pyogrio\\raw.py:723: RuntimeWarning: Normalized/laundered field name: 'Lokasi ' to 'Lokasi'\n",
      "  ogr_write(\n"
     ]
    },
    {
     "name": "stdout",
     "output_type": "stream",
     "text": [
      "Removing 962 blank rows from 'APILL'\n",
      "Processing 'APILL' as Point geometry (regular sheet)\n",
      "Spatial join completed - Added NAMOBJ column with city names\n",
      "✅ Saved: C:\\Users\\kanzi\\Documents\\Part Time Job\\Hasil Export\\Extract Shapefile\\Kabupaten Purwakarta\\Jalan Eksisting\\07. Kosambi - Bts. Karawang-Purwakarta (Curug)_APILL.shp\n",
      "✅ Applied QML style: C:\\Users\\kanzi\\Documents\\Part Time Job\\Hasil Export\\Extract Shapefile\\Kabupaten Purwakarta\\Jalan Eksisting\\07. Kosambi - Bts. Karawang-Purwakarta (Curug)_APILL.qml\n",
      "Removing 970 blank rows from 'ZOSS'\n",
      "Processing 'ZOSS' as Point geometry (regular sheet)\n",
      "Spatial join completed - Added NAMOBJ column with city names\n",
      "Removing 961 blank rows from 'FAS PENYEBERANGAN'\n",
      "Processing 'FAS PENYEBERANGAN' as Point geometry (regular sheet)\n",
      "Spatial join completed - Added NAMOBJ column with city names\n",
      "✅ Saved: C:\\Users\\kanzi\\Documents\\Part Time Job\\Hasil Export\\Extract Shapefile\\Kabupaten Karawang\\Jalan Eksisting\\07. Kosambi - Bts. Karawang-Purwakarta (Curug)_FAS PENYEBERANGAN.shp\n",
      "⚠️ No QML file found for FAS PENYEBERANGAN\n",
      "Removing 11 blank rows from 'RAMBU PORTABLE'\n",
      "⚠️ Skipping 'RAMBU PORTABLE' (No valid start coordinate columns found)\n",
      "Removing 11 blank rows from 'TRAFFIC CONE'\n",
      "⚠️ Skipping 'TRAFFIC CONE' (No valid start coordinate columns found)\n",
      "Removing 11 blank rows from 'WATER BARRIER'\n",
      "⚠️ Skipping 'WATER BARRIER' (No valid start coordinate columns found)\n"
     ]
    },
    {
     "name": "stderr",
     "output_type": "stream",
     "text": [
      "c:\\Users\\kanzi\\AppData\\Local\\Programs\\Python\\Python312\\Lib\\site-packages\\pyogrio\\raw.py:723: RuntimeWarning: Normalized/laundered field name: 'Detail ' to 'Detail'\n",
      "  ogr_write(\n",
      "c:\\Users\\kanzi\\AppData\\Local\\Programs\\Python\\Python312\\Lib\\site-packages\\pyogrio\\raw.py:723: RuntimeWarning: Normalized/laundered field name: 'Lokasi ' to 'Lokasi'\n",
      "  ogr_write(\n",
      "c:\\Users\\kanzi\\AppData\\Local\\Programs\\Python\\Python312\\Lib\\site-packages\\pyogrio\\raw.py:723: RuntimeWarning: Normalized/laundered field name: 'Detail ' to 'Detail'\n",
      "  ogr_write(\n"
     ]
    },
    {
     "name": "stdout",
     "output_type": "stream",
     "text": [
      "Removing 962 blank rows from 'CERMIN TIKUNG'\n",
      "Processing 'CERMIN TIKUNG' as Point geometry (regular sheet)\n",
      "⚠️ Skipping 'CERMIN TIKUNG' (No valid geometry found)\n",
      "✅ Completed processing: 07. Kosambi - Bts. Karawang-Purwakarta (Curug).xlsx\n",
      "\n",
      "[8/29] Processing: BARU - Eksisting JALAN PERJUANGAN KOTA BEKASI.xlsx\n"
     ]
    },
    {
     "name": "stderr",
     "output_type": "stream",
     "text": [
      "c:\\Users\\kanzi\\AppData\\Local\\Programs\\Python\\Python312\\Lib\\site-packages\\openpyxl\\worksheet\\_reader.py:329: UserWarning: Conditional Formatting extension is not supported and will be removed\n",
      "  warn(msg)\n"
     ]
    },
    {
     "name": "stdout",
     "output_type": "stream",
     "text": [
      "Removing 82 blank rows from 'RAMBU (baru)'\n",
      "Processing 'RAMBU (baru)' as Point geometry (regular sheet)\n",
      "Spatial join completed - Added NAMOBJ column with city names\n",
      "✅ Saved: C:\\Users\\kanzi\\Documents\\Part Time Job\\Hasil Export\\Extract Shapefile\\Kota Bekasi\\Jalan Eksisting\\BARU - Eksisting JALAN PERJUANGAN KOTA BEKASI_RAMBU (baru).shp\n",
      "⚠️ No QML file found for RAMBU (baru)\n",
      "Removing 919 blank rows from 'PJU'\n",
      "Processing 'PJU' as Point geometry (regular sheet)\n",
      "Spatial join completed - Added NAMOBJ column with city names\n",
      "✅ Saved: C:\\Users\\kanzi\\Documents\\Part Time Job\\Hasil Export\\Extract Shapefile\\Kota Bekasi\\Jalan Eksisting\\BARU - Eksisting JALAN PERJUANGAN KOTA BEKASI_PJU.shp\n",
      "✅ Applied QML style: C:\\Users\\kanzi\\Documents\\Part Time Job\\Hasil Export\\Extract Shapefile\\Kota Bekasi\\Jalan Eksisting\\BARU - Eksisting JALAN PERJUANGAN KOTA BEKASI_PJU.qml\n",
      "Removing 29 blank rows from 'RPPJ (baru)'\n",
      "Processing 'RPPJ (baru)' as Point geometry (regular sheet)\n",
      "Spatial join completed - Added NAMOBJ column with city names\n",
      "✅ Saved: C:\\Users\\kanzi\\Documents\\Part Time Job\\Hasil Export\\Extract Shapefile\\Kabupaten Bekasi\\Jalan Eksisting\\BARU - Eksisting JALAN PERJUANGAN KOTA BEKASI_RPPJ (baru).shp\n",
      "⚠️ No QML file found for RPPJ (baru)\n",
      "✅ Saved: C:\\Users\\kanzi\\Documents\\Part Time Job\\Hasil Export\\Extract Shapefile\\Kota Bekasi\\Jalan Eksisting\\BARU - Eksisting JALAN PERJUANGAN KOTA BEKASI_RPPJ (baru).shp\n",
      "⚠️ No QML file found for RPPJ (baru)\n"
     ]
    },
    {
     "name": "stderr",
     "output_type": "stream",
     "text": [
      "c:\\Users\\kanzi\\AppData\\Local\\Programs\\Python\\Python312\\Lib\\site-packages\\pyogrio\\raw.py:723: RuntimeWarning: Normalized/laundered field name: 'Detail ' to 'Detail'\n",
      "  ogr_write(\n",
      "c:\\Users\\kanzi\\AppData\\Local\\Programs\\Python\\Python312\\Lib\\site-packages\\pyogrio\\raw.py:723: RuntimeWarning: Normalized/laundered field name: 'Gambar ' to 'Gambar'\n",
      "  ogr_write(\n",
      "c:\\Users\\kanzi\\AppData\\Local\\Programs\\Python\\Python312\\Lib\\site-packages\\pyogrio\\raw.py:723: RuntimeWarning: Normalized/laundered field name: 'Lokasi ' to 'Lokasi'\n",
      "  ogr_write(\n",
      "c:\\Users\\kanzi\\AppData\\Local\\Programs\\Python\\Python312\\Lib\\site-packages\\pyogrio\\raw.py:723: RuntimeWarning: Normalized/laundered field name: 'Detail ' to 'Detail'\n",
      "  ogr_write(\n",
      "c:\\Users\\kanzi\\AppData\\Local\\Programs\\Python\\Python312\\Lib\\site-packages\\pyogrio\\raw.py:723: RuntimeWarning: Normalized/laundered field name: 'Lokasi ' to 'Lokasi'\n",
      "  ogr_write(\n",
      "c:\\Users\\kanzi\\AppData\\Local\\Programs\\Python\\Python312\\Lib\\site-packages\\pyogrio\\raw.py:723: RuntimeWarning: Normalized/laundered field name: 'Detail ' to 'Detail'\n",
      "  ogr_write(\n",
      "c:\\Users\\kanzi\\AppData\\Local\\Programs\\Python\\Python312\\Lib\\site-packages\\pyogrio\\raw.py:723: RuntimeWarning: Normalized/laundered field name: 'Gambar ' to 'Gambar'\n",
      "  ogr_write(\n",
      "c:\\Users\\kanzi\\AppData\\Local\\Programs\\Python\\Python312\\Lib\\site-packages\\pyogrio\\raw.py:723: RuntimeWarning: Normalized/laundered field name: 'Lokasi ' to 'Lokasi'\n",
      "  ogr_write(\n",
      "c:\\Users\\kanzi\\AppData\\Local\\Programs\\Python\\Python312\\Lib\\site-packages\\pyogrio\\raw.py:723: RuntimeWarning: Normalized/laundered field name: 'Detail ' to 'Detail'\n",
      "  ogr_write(\n",
      "c:\\Users\\kanzi\\AppData\\Local\\Programs\\Python\\Python312\\Lib\\site-packages\\pyogrio\\raw.py:723: RuntimeWarning: Normalized/laundered field name: 'Gambar ' to 'Gambar'\n",
      "  ogr_write(\n",
      "c:\\Users\\kanzi\\AppData\\Local\\Programs\\Python\\Python312\\Lib\\site-packages\\pyogrio\\raw.py:723: RuntimeWarning: Normalized/laundered field name: 'Lokasi ' to 'Lokasi'\n",
      "  ogr_write(\n"
     ]
    },
    {
     "name": "stdout",
     "output_type": "stream",
     "text": [
      "Removing 961 blank rows from 'PAGAR PENGAMAN'\n",
      "Processing 'PAGAR PENGAMAN' as LineString (PAGAR PENGAMAN sheet)\n",
      "Spatial join completed - Added NAMOBJ column with city names\n",
      "Removing 962 blank rows from 'MARKA (baru)'\n",
      "Processing 'MARKA (baru)' as MultiPoint (MARKA sheet)\n",
      "Spatial join completed - Added NAMOBJ column with city names\n",
      "✅ Saved: C:\\Users\\kanzi\\Documents\\Part Time Job\\Hasil Export\\Extract Shapefile\\Kota Bekasi\\Jalan Eksisting\\BARU - Eksisting JALAN PERJUANGAN KOTA BEKASI_MARKA (baru).shp\n",
      "⚠️ No QML file found for MARKA (baru)\n",
      "Removing 993 blank rows from 'WARNING LIGHT'\n",
      "Processing 'WARNING LIGHT' as Point geometry (regular sheet)\n",
      "Spatial join completed - Added NAMOBJ column with city names\n",
      "✅ Saved: C:\\Users\\kanzi\\Documents\\Part Time Job\\Hasil Export\\Extract Shapefile\\Kota Bekasi\\Jalan Eksisting\\BARU - Eksisting JALAN PERJUANGAN KOTA BEKASI_WARNING LIGHT.shp\n",
      "✅ Applied QML style: C:\\Users\\kanzi\\Documents\\Part Time Job\\Hasil Export\\Extract Shapefile\\Kota Bekasi\\Jalan Eksisting\\BARU - Eksisting JALAN PERJUANGAN KOTA BEKASI_WARNING LIGHT.qml\n",
      "Removing 992 blank rows from 'APILL'\n",
      "Processing 'APILL' as Point geometry (regular sheet)\n",
      "Spatial join completed - Added NAMOBJ column with city names\n",
      "✅ Saved: C:\\Users\\kanzi\\Documents\\Part Time Job\\Hasil Export\\Extract Shapefile\\Kota Bekasi\\Jalan Eksisting\\BARU - Eksisting JALAN PERJUANGAN KOTA BEKASI_APILL.shp\n",
      "✅ Applied QML style: C:\\Users\\kanzi\\Documents\\Part Time Job\\Hasil Export\\Extract Shapefile\\Kota Bekasi\\Jalan Eksisting\\BARU - Eksisting JALAN PERJUANGAN KOTA BEKASI_APILL.qml\n",
      "Removing 962 blank rows from 'ZOSS'\n"
     ]
    },
    {
     "name": "stderr",
     "output_type": "stream",
     "text": [
      "c:\\Users\\kanzi\\AppData\\Local\\Programs\\Python\\Python312\\Lib\\site-packages\\pyogrio\\raw.py:723: RuntimeWarning: Normalized/laundered field name: 'Detail ' to 'Detail'\n",
      "  ogr_write(\n",
      "c:\\Users\\kanzi\\AppData\\Local\\Programs\\Python\\Python312\\Lib\\site-packages\\pyogrio\\raw.py:723: RuntimeWarning: Normalized/laundered field name: 'Detail ' to 'Detail'\n",
      "  ogr_write(\n",
      "c:\\Users\\kanzi\\AppData\\Local\\Programs\\Python\\Python312\\Lib\\site-packages\\pyogrio\\raw.py:723: RuntimeWarning: Normalized/laundered field name: 'Lokasi ' to 'Lokasi'\n",
      "  ogr_write(\n",
      "c:\\Users\\kanzi\\AppData\\Local\\Programs\\Python\\Python312\\Lib\\site-packages\\pyogrio\\raw.py:723: RuntimeWarning: Normalized/laundered field name: 'Detail ' to 'Detail'\n",
      "  ogr_write(\n",
      "c:\\Users\\kanzi\\AppData\\Local\\Programs\\Python\\Python312\\Lib\\site-packages\\pyogrio\\raw.py:723: RuntimeWarning: Normalized/laundered field name: 'Lokasi ' to 'Lokasi'\n",
      "  ogr_write(\n"
     ]
    },
    {
     "name": "stdout",
     "output_type": "stream",
     "text": [
      "Processing 'ZOSS' as Point geometry (regular sheet)\n",
      "Spatial join completed - Added NAMOBJ column with city names\n",
      "Removing 962 blank rows from 'FAS PENYEBERANGAN'\n",
      "Processing 'FAS PENYEBERANGAN' as Point geometry (regular sheet)\n",
      "Spatial join completed - Added NAMOBJ column with city names\n",
      "Removing 43 blank rows from 'RAMBU PORTABLE (baru)'\n",
      "⚠️ Skipping 'RAMBU PORTABLE (baru)' (No valid start coordinate columns found)\n",
      "Removing 43 blank rows from 'TRAFFIC CONE'\n",
      "⚠️ Skipping 'TRAFFIC CONE' (No valid start coordinate columns found)\n",
      "Removing 43 blank rows from 'WATER BARRIER'\n",
      "⚠️ Skipping 'WATER BARRIER' (No valid start coordinate columns found)\n",
      "Removing 995 blank rows from 'CERMIN TIKUNG'\n",
      "Processing 'CERMIN TIKUNG' as Point geometry (regular sheet)\n",
      "⚠️ Skipping 'CERMIN TIKUNG' (No valid geometry found)\n",
      "✅ Completed processing: BARU - Eksisting JALAN PERJUANGAN KOTA BEKASI.xlsx\n",
      "\n",
      "[9/29] Processing: BARU - Eksisting JUANDA KOTA BEKASI.xlsx\n"
     ]
    },
    {
     "name": "stderr",
     "output_type": "stream",
     "text": [
      "c:\\Users\\kanzi\\AppData\\Local\\Programs\\Python\\Python312\\Lib\\site-packages\\openpyxl\\worksheet\\_reader.py:329: UserWarning: Conditional Formatting extension is not supported and will be removed\n",
      "  warn(msg)\n"
     ]
    },
    {
     "name": "stdout",
     "output_type": "stream",
     "text": [
      "Removing 81 blank rows from 'RAMBU (baru)'\n",
      "Processing 'RAMBU (baru)' as Point geometry (regular sheet)\n",
      "Spatial join completed - Added NAMOBJ column with city names\n",
      "✅ Saved: C:\\Users\\kanzi\\Documents\\Part Time Job\\Hasil Export\\Extract Shapefile\\Kota Bekasi\\Jalan Eksisting\\BARU - Eksisting JUANDA KOTA BEKASI_RAMBU (baru).shp\n",
      "⚠️ No QML file found for RAMBU (baru)\n",
      "Removing 917 blank rows from 'PJU'\n",
      "Processing 'PJU' as Point geometry (regular sheet)\n",
      "Spatial join completed - Added NAMOBJ column with city names\n",
      "✅ Saved: C:\\Users\\kanzi\\Documents\\Part Time Job\\Hasil Export\\Extract Shapefile\\Kota Bekasi\\Jalan Eksisting\\BARU - Eksisting JUANDA KOTA BEKASI_PJU.shp\n",
      "✅ Applied QML style: C:\\Users\\kanzi\\Documents\\Part Time Job\\Hasil Export\\Extract Shapefile\\Kota Bekasi\\Jalan Eksisting\\BARU - Eksisting JUANDA KOTA BEKASI_PJU.qml\n",
      "Removing 983 blank rows from 'RPPJ (baru)'\n",
      "Processing 'RPPJ (baru)' as Point geometry (regular sheet)\n"
     ]
    },
    {
     "name": "stderr",
     "output_type": "stream",
     "text": [
      "c:\\Users\\kanzi\\AppData\\Local\\Programs\\Python\\Python312\\Lib\\site-packages\\pyogrio\\raw.py:723: RuntimeWarning: Normalized/laundered field name: 'Detail ' to 'Detail'\n",
      "  ogr_write(\n",
      "c:\\Users\\kanzi\\AppData\\Local\\Programs\\Python\\Python312\\Lib\\site-packages\\pyogrio\\raw.py:723: RuntimeWarning: Normalized/laundered field name: 'Gambar ' to 'Gambar'\n",
      "  ogr_write(\n",
      "c:\\Users\\kanzi\\AppData\\Local\\Programs\\Python\\Python312\\Lib\\site-packages\\pyogrio\\raw.py:723: RuntimeWarning: Normalized/laundered field name: 'Lokasi ' to 'Lokasi'\n",
      "  ogr_write(\n",
      "c:\\Users\\kanzi\\AppData\\Local\\Programs\\Python\\Python312\\Lib\\site-packages\\pyogrio\\raw.py:723: RuntimeWarning: Normalized/laundered field name: 'Detail ' to 'Detail'\n",
      "  ogr_write(\n",
      "c:\\Users\\kanzi\\AppData\\Local\\Programs\\Python\\Python312\\Lib\\site-packages\\pyogrio\\raw.py:723: RuntimeWarning: Normalized/laundered field name: 'Lokasi ' to 'Lokasi'\n",
      "  ogr_write(\n"
     ]
    },
    {
     "name": "stdout",
     "output_type": "stream",
     "text": [
      "Spatial join completed - Added NAMOBJ column with city names\n",
      "✅ Saved: C:\\Users\\kanzi\\Documents\\Part Time Job\\Hasil Export\\Extract Shapefile\\Kota Bekasi\\Jalan Eksisting\\BARU - Eksisting JUANDA KOTA BEKASI_RPPJ (baru).shp\n",
      "⚠️ No QML file found for RPPJ (baru)\n",
      "Removing 962 blank rows from 'PAGAR PENGAMAN'\n"
     ]
    },
    {
     "name": "stderr",
     "output_type": "stream",
     "text": [
      "c:\\Users\\kanzi\\AppData\\Local\\Programs\\Python\\Python312\\Lib\\site-packages\\pyogrio\\raw.py:723: RuntimeWarning: Normalized/laundered field name: 'Detail ' to 'Detail'\n",
      "  ogr_write(\n",
      "c:\\Users\\kanzi\\AppData\\Local\\Programs\\Python\\Python312\\Lib\\site-packages\\pyogrio\\raw.py:723: RuntimeWarning: Normalized/laundered field name: 'Gambar ' to 'Gambar'\n",
      "  ogr_write(\n",
      "c:\\Users\\kanzi\\AppData\\Local\\Programs\\Python\\Python312\\Lib\\site-packages\\pyogrio\\raw.py:723: RuntimeWarning: Normalized/laundered field name: 'Lokasi ' to 'Lokasi'\n",
      "  ogr_write(\n"
     ]
    },
    {
     "name": "stdout",
     "output_type": "stream",
     "text": [
      "Processing 'PAGAR PENGAMAN' as LineString (PAGAR PENGAMAN sheet)\n",
      "Spatial join completed - Added NAMOBJ column with city names\n",
      "Removing 991 blank rows from 'MARKA (baru)'\n",
      "Processing 'MARKA (baru)' as MultiPoint (MARKA sheet)\n",
      "Spatial join completed - Added NAMOBJ column with city names\n",
      "✅ Saved: C:\\Users\\kanzi\\Documents\\Part Time Job\\Hasil Export\\Extract Shapefile\\Kota Bekasi\\Jalan Eksisting\\BARU - Eksisting JUANDA KOTA BEKASI_MARKA (baru).shp\n",
      "⚠️ No QML file found for MARKA (baru)\n",
      "Removing 962 blank rows from 'WARNING LIGHT'\n",
      "Processing 'WARNING LIGHT' as Point geometry (regular sheet)\n",
      "Spatial join completed - Added NAMOBJ column with city names\n",
      "Removing 991 blank rows from 'APILL'\n",
      "Processing 'APILL' as Point geometry (regular sheet)\n",
      "Spatial join completed - Added NAMOBJ column with city names\n",
      "✅ Saved: C:\\Users\\kanzi\\Documents\\Part Time Job\\Hasil Export\\Extract Shapefile\\Kota Bekasi\\Jalan Eksisting\\BARU - Eksisting JUANDA KOTA BEKASI_APILL.shp\n",
      "✅ Applied QML style: C:\\Users\\kanzi\\Documents\\Part Time Job\\Hasil Export\\Extract Shapefile\\Kota Bekasi\\Jalan Eksisting\\BARU - Eksisting JUANDA KOTA BEKASI_APILL.qml\n"
     ]
    },
    {
     "name": "stderr",
     "output_type": "stream",
     "text": [
      "c:\\Users\\kanzi\\AppData\\Local\\Programs\\Python\\Python312\\Lib\\site-packages\\pyogrio\\raw.py:723: RuntimeWarning: Normalized/laundered field name: 'Detail ' to 'Detail'\n",
      "  ogr_write(\n",
      "c:\\Users\\kanzi\\AppData\\Local\\Programs\\Python\\Python312\\Lib\\site-packages\\pyogrio\\raw.py:723: RuntimeWarning: Normalized/laundered field name: 'Detail ' to 'Detail'\n",
      "  ogr_write(\n",
      "c:\\Users\\kanzi\\AppData\\Local\\Programs\\Python\\Python312\\Lib\\site-packages\\pyogrio\\raw.py:723: RuntimeWarning: Normalized/laundered field name: 'Lokasi ' to 'Lokasi'\n",
      "  ogr_write(\n"
     ]
    },
    {
     "name": "stdout",
     "output_type": "stream",
     "text": [
      "Removing 995 blank rows from 'ZOSS'\n",
      "Processing 'ZOSS' as Point geometry (regular sheet)\n",
      "Spatial join completed - Added NAMOBJ column with city names\n",
      "Removing 992 blank rows from 'FAS PENYEBERANGAN'\n",
      "Processing 'FAS PENYEBERANGAN' as Point geometry (regular sheet)\n",
      "Spatial join completed - Added NAMOBJ column with city names\n",
      "✅ Saved: C:\\Users\\kanzi\\Documents\\Part Time Job\\Hasil Export\\Extract Shapefile\\Kota Bekasi\\Jalan Eksisting\\BARU - Eksisting JUANDA KOTA BEKASI_FAS PENYEBERANGAN.shp\n",
      "⚠️ No QML file found for FAS PENYEBERANGAN\n",
      "Removing 43 blank rows from 'RAMBU PORTABLE (baru)'\n",
      "⚠️ Skipping 'RAMBU PORTABLE (baru)' (No valid start coordinate columns found)\n",
      "Removing 43 blank rows from 'TRAFFIC CONE'\n",
      "⚠️ Skipping 'TRAFFIC CONE' (No valid start coordinate columns found)\n",
      "Removing 43 blank rows from 'WATER BARRIER'\n",
      "⚠️ Skipping 'WATER BARRIER' (No valid start coordinate columns found)\n"
     ]
    },
    {
     "name": "stderr",
     "output_type": "stream",
     "text": [
      "c:\\Users\\kanzi\\AppData\\Local\\Programs\\Python\\Python312\\Lib\\site-packages\\pyogrio\\raw.py:723: RuntimeWarning: Normalized/laundered field name: 'Detail ' to 'Detail'\n",
      "  ogr_write(\n"
     ]
    },
    {
     "name": "stdout",
     "output_type": "stream",
     "text": [
      "Removing 995 blank rows from 'CERMIN TIKUNG'\n",
      "Processing 'CERMIN TIKUNG' as Point geometry (regular sheet)\n",
      "⚠️ Skipping 'CERMIN TIKUNG' (No valid geometry found)\n",
      "✅ Completed processing: BARU - Eksisting JUANDA KOTA BEKASI.xlsx\n",
      "\n",
      "[10/29] Processing: BARU - Eksisting KARTINI KOTA BEKASI.xlsx\n"
     ]
    },
    {
     "name": "stderr",
     "output_type": "stream",
     "text": [
      "c:\\Users\\kanzi\\AppData\\Local\\Programs\\Python\\Python312\\Lib\\site-packages\\openpyxl\\worksheet\\_reader.py:329: UserWarning: Conditional Formatting extension is not supported and will be removed\n",
      "  warn(msg)\n"
     ]
    },
    {
     "name": "stdout",
     "output_type": "stream",
     "text": [
      "Removing 82 blank rows from 'RAMBU (baru)'\n",
      "Processing 'RAMBU (baru)' as Point geometry (regular sheet)\n",
      "Spatial join completed - Added NAMOBJ column with city names\n",
      "✅ Saved: C:\\Users\\kanzi\\Documents\\Part Time Job\\Hasil Export\\Extract Shapefile\\Kota Bekasi\\Jalan Eksisting\\BARU - Eksisting KARTINI KOTA BEKASI_RAMBU (baru).shp\n",
      "⚠️ No QML file found for RAMBU (baru)\n",
      "Removing 950 blank rows from 'PJU'\n",
      "Processing 'PJU' as Point geometry (regular sheet)\n",
      "Spatial join completed - Added NAMOBJ column with city names\n",
      "✅ Saved: C:\\Users\\kanzi\\Documents\\Part Time Job\\Hasil Export\\Extract Shapefile\\Kota Bekasi\\Jalan Eksisting\\BARU - Eksisting KARTINI KOTA BEKASI_PJU.shp\n",
      "✅ Applied QML style: C:\\Users\\kanzi\\Documents\\Part Time Job\\Hasil Export\\Extract Shapefile\\Kota Bekasi\\Jalan Eksisting\\BARU - Eksisting KARTINI KOTA BEKASI_PJU.qml\n",
      "Removing 20 blank rows from 'RPPJ (baru)'\n",
      "Processing 'RPPJ (baru)' as Point geometry (regular sheet)\n",
      "Spatial join completed - Added NAMOBJ column with city names\n",
      "✅ Saved: C:\\Users\\kanzi\\Documents\\Part Time Job\\Hasil Export\\Extract Shapefile\\Kota Bekasi\\Jalan Eksisting\\BARU - Eksisting KARTINI KOTA BEKASI_RPPJ (baru).shp\n",
      "⚠️ No QML file found for RPPJ (baru)\n"
     ]
    },
    {
     "name": "stderr",
     "output_type": "stream",
     "text": [
      "c:\\Users\\kanzi\\AppData\\Local\\Programs\\Python\\Python312\\Lib\\site-packages\\pyogrio\\raw.py:723: RuntimeWarning: Normalized/laundered field name: 'Detail ' to 'Detail'\n",
      "  ogr_write(\n",
      "c:\\Users\\kanzi\\AppData\\Local\\Programs\\Python\\Python312\\Lib\\site-packages\\pyogrio\\raw.py:723: RuntimeWarning: Normalized/laundered field name: 'Gambar ' to 'Gambar'\n",
      "  ogr_write(\n",
      "c:\\Users\\kanzi\\AppData\\Local\\Programs\\Python\\Python312\\Lib\\site-packages\\pyogrio\\raw.py:723: RuntimeWarning: Normalized/laundered field name: 'Lokasi ' to 'Lokasi'\n",
      "  ogr_write(\n",
      "c:\\Users\\kanzi\\AppData\\Local\\Programs\\Python\\Python312\\Lib\\site-packages\\pyogrio\\raw.py:723: RuntimeWarning: Normalized/laundered field name: 'Detail ' to 'Detail'\n",
      "  ogr_write(\n",
      "c:\\Users\\kanzi\\AppData\\Local\\Programs\\Python\\Python312\\Lib\\site-packages\\pyogrio\\raw.py:723: RuntimeWarning: Normalized/laundered field name: 'Lokasi ' to 'Lokasi'\n",
      "  ogr_write(\n",
      "c:\\Users\\kanzi\\AppData\\Local\\Programs\\Python\\Python312\\Lib\\site-packages\\pyogrio\\raw.py:723: RuntimeWarning: Normalized/laundered field name: 'Detail ' to 'Detail'\n",
      "  ogr_write(\n",
      "c:\\Users\\kanzi\\AppData\\Local\\Programs\\Python\\Python312\\Lib\\site-packages\\pyogrio\\raw.py:723: RuntimeWarning: Normalized/laundered field name: 'Gambar ' to 'Gambar'\n",
      "  ogr_write(\n",
      "c:\\Users\\kanzi\\AppData\\Local\\Programs\\Python\\Python312\\Lib\\site-packages\\pyogrio\\raw.py:723: RuntimeWarning: Normalized/laundered field name: 'Lokasi ' to 'Lokasi'\n",
      "  ogr_write(\n"
     ]
    },
    {
     "name": "stdout",
     "output_type": "stream",
     "text": [
      "Removing 962 blank rows from 'PAGAR PENGAMAN'\n",
      "Processing 'PAGAR PENGAMAN' as LineString (PAGAR PENGAMAN sheet)\n",
      "Spatial join completed - Added NAMOBJ column with city names\n",
      "Removing 984 blank rows from 'MARKA (baru)'\n",
      "Processing 'MARKA (baru)' as MultiPoint (MARKA sheet)\n",
      "Spatial join completed - Added NAMOBJ column with city names\n",
      "✅ Saved: C:\\Users\\kanzi\\Documents\\Part Time Job\\Hasil Export\\Extract Shapefile\\Kota Bekasi\\Jalan Eksisting\\BARU - Eksisting KARTINI KOTA BEKASI_MARKA (baru).shp\n",
      "⚠️ No QML file found for MARKA (baru)\n",
      "Removing 962 blank rows from 'WARNING LIGHT'\n",
      "Processing 'WARNING LIGHT' as Point geometry (regular sheet)\n",
      "Spatial join completed - Added NAMOBJ column with city names\n"
     ]
    },
    {
     "name": "stderr",
     "output_type": "stream",
     "text": [
      "c:\\Users\\kanzi\\AppData\\Local\\Programs\\Python\\Python312\\Lib\\site-packages\\pyogrio\\raw.py:723: RuntimeWarning: Normalized/laundered field name: 'Detail ' to 'Detail'\n",
      "  ogr_write(\n",
      "c:\\Users\\kanzi\\AppData\\Local\\Programs\\Python\\Python312\\Lib\\site-packages\\pyogrio\\raw.py:723: RuntimeWarning: Normalized/laundered field name: 'Detail ' to 'Detail'\n",
      "  ogr_write(\n",
      "c:\\Users\\kanzi\\AppData\\Local\\Programs\\Python\\Python312\\Lib\\site-packages\\pyogrio\\raw.py:723: RuntimeWarning: Normalized/laundered field name: 'Lokasi ' to 'Lokasi'\n",
      "  ogr_write(\n"
     ]
    },
    {
     "name": "stdout",
     "output_type": "stream",
     "text": [
      "Removing 991 blank rows from 'APILL'\n",
      "Processing 'APILL' as Point geometry (regular sheet)\n",
      "Spatial join completed - Added NAMOBJ column with city names\n",
      "✅ Saved: C:\\Users\\kanzi\\Documents\\Part Time Job\\Hasil Export\\Extract Shapefile\\Kota Bekasi\\Jalan Eksisting\\BARU - Eksisting KARTINI KOTA BEKASI_APILL.shp\n",
      "✅ Applied QML style: C:\\Users\\kanzi\\Documents\\Part Time Job\\Hasil Export\\Extract Shapefile\\Kota Bekasi\\Jalan Eksisting\\BARU - Eksisting KARTINI KOTA BEKASI_APILL.qml\n",
      "Removing 962 blank rows from 'ZOSS'\n",
      "Processing 'ZOSS' as Point geometry (regular sheet)\n",
      "Spatial join completed - Added NAMOBJ column with city names\n",
      "Removing 962 blank rows from 'FAS PENYEBERANGAN'\n",
      "Processing 'FAS PENYEBERANGAN' as Point geometry (regular sheet)\n",
      "Spatial join completed - Added NAMOBJ column with city names\n",
      "✅ Saved: C:\\Users\\kanzi\\Documents\\Part Time Job\\Hasil Export\\Extract Shapefile\\Kota Bekasi\\Jalan Eksisting\\BARU - Eksisting KARTINI KOTA BEKASI_FAS PENYEBERANGAN.shp\n",
      "⚠️ No QML file found for FAS PENYEBERANGAN\n",
      "Removing 43 blank rows from 'RAMBU PORTABLE (baru)'\n",
      "⚠️ Skipping 'RAMBU PORTABLE (baru)' (No valid start coordinate columns found)\n",
      "Removing 43 blank rows from 'TRAFFIC CONE'\n",
      "⚠️ Skipping 'TRAFFIC CONE' (No valid start coordinate columns found)\n",
      "Removing 43 blank rows from 'WATER BARRIER'\n",
      "⚠️ Skipping 'WATER BARRIER' (No valid start coordinate columns found)\n",
      "Removing 995 blank rows from 'CERMIN TIKUNG'\n",
      "Processing 'CERMIN TIKUNG' as Point geometry (regular sheet)\n",
      "⚠️ Skipping 'CERMIN TIKUNG' (No valid geometry found)\n",
      "✅ Completed processing: BARU - Eksisting KARTINI KOTA BEKASI.xlsx\n",
      "\n",
      "[11/29] Processing: BARU - Eksisting PALUMBONSARI KABUPATENG KARAWANG.xlsx\n"
     ]
    },
    {
     "name": "stderr",
     "output_type": "stream",
     "text": [
      "c:\\Users\\kanzi\\AppData\\Local\\Programs\\Python\\Python312\\Lib\\site-packages\\pyogrio\\raw.py:723: RuntimeWarning: Normalized/laundered field name: 'Detail ' to 'Detail'\n",
      "  ogr_write(\n",
      "c:\\Users\\kanzi\\AppData\\Local\\Programs\\Python\\Python312\\Lib\\site-packages\\openpyxl\\worksheet\\_reader.py:329: UserWarning: Conditional Formatting extension is not supported and will be removed\n",
      "  warn(msg)\n"
     ]
    },
    {
     "name": "stdout",
     "output_type": "stream",
     "text": [
      "Removing 2 blank rows from 'RAMBU (baru)'\n",
      "Processing 'RAMBU (baru)' as Point geometry (regular sheet)\n",
      "Spatial join completed - Added NAMOBJ column with city names\n",
      "✅ Saved: C:\\Users\\kanzi\\Documents\\Part Time Job\\Hasil Export\\Extract Shapefile\\Kabupaten Karawang\\Jalan Eksisting\\BARU - Eksisting PALUMBONSARI KABUPATENG KARAWANG_RAMBU (baru).shp\n",
      "⚠️ No QML file found for RAMBU (baru)\n",
      "Removing 620 blank rows from 'PJU'\n"
     ]
    },
    {
     "name": "stderr",
     "output_type": "stream",
     "text": [
      "c:\\Users\\kanzi\\AppData\\Local\\Programs\\Python\\Python312\\Lib\\site-packages\\pyogrio\\raw.py:723: RuntimeWarning: Normalized/laundered field name: 'Detail ' to 'Detail'\n",
      "  ogr_write(\n",
      "c:\\Users\\kanzi\\AppData\\Local\\Programs\\Python\\Python312\\Lib\\site-packages\\pyogrio\\raw.py:723: RuntimeWarning: Normalized/laundered field name: 'Gambar ' to 'Gambar'\n",
      "  ogr_write(\n",
      "c:\\Users\\kanzi\\AppData\\Local\\Programs\\Python\\Python312\\Lib\\site-packages\\pyogrio\\raw.py:723: RuntimeWarning: Normalized/laundered field name: 'Lokasi ' to 'Lokasi'\n",
      "  ogr_write(\n"
     ]
    },
    {
     "name": "stdout",
     "output_type": "stream",
     "text": [
      "Processing 'PJU' as Point geometry (regular sheet)\n",
      "Spatial join completed - Added NAMOBJ column with city names\n",
      "✅ Saved: C:\\Users\\kanzi\\Documents\\Part Time Job\\Hasil Export\\Extract Shapefile\\Kabupaten Karawang\\Jalan Eksisting\\BARU - Eksisting PALUMBONSARI KABUPATENG KARAWANG_PJU.shp\n",
      "✅ Applied QML style: C:\\Users\\kanzi\\Documents\\Part Time Job\\Hasil Export\\Extract Shapefile\\Kabupaten Karawang\\Jalan Eksisting\\BARU - Eksisting PALUMBONSARI KABUPATENG KARAWANG_PJU.qml\n",
      "Removing 24 blank rows from 'RPPJ (baru)'\n",
      "Processing 'RPPJ (baru)' as Point geometry (regular sheet)\n",
      "Spatial join completed - Added NAMOBJ column with city names\n",
      "✅ Saved: C:\\Users\\kanzi\\Documents\\Part Time Job\\Hasil Export\\Extract Shapefile\\Kabupaten Karawang\\Jalan Eksisting\\BARU - Eksisting PALUMBONSARI KABUPATENG KARAWANG_RPPJ (baru).shp\n",
      "⚠️ No QML file found for RPPJ (baru)\n"
     ]
    },
    {
     "name": "stderr",
     "output_type": "stream",
     "text": [
      "c:\\Users\\kanzi\\AppData\\Local\\Programs\\Python\\Python312\\Lib\\site-packages\\pyogrio\\raw.py:723: RuntimeWarning: Normalized/laundered field name: 'Detail ' to 'Detail'\n",
      "  ogr_write(\n",
      "c:\\Users\\kanzi\\AppData\\Local\\Programs\\Python\\Python312\\Lib\\site-packages\\pyogrio\\raw.py:723: RuntimeWarning: Normalized/laundered field name: 'Lokasi ' to 'Lokasi'\n",
      "  ogr_write(\n",
      "c:\\Users\\kanzi\\AppData\\Local\\Programs\\Python\\Python312\\Lib\\site-packages\\pyogrio\\raw.py:723: RuntimeWarning: Normalized/laundered field name: 'Detail ' to 'Detail'\n",
      "  ogr_write(\n",
      "c:\\Users\\kanzi\\AppData\\Local\\Programs\\Python\\Python312\\Lib\\site-packages\\pyogrio\\raw.py:723: RuntimeWarning: Normalized/laundered field name: 'Gambar ' to 'Gambar'\n",
      "  ogr_write(\n",
      "c:\\Users\\kanzi\\AppData\\Local\\Programs\\Python\\Python312\\Lib\\site-packages\\pyogrio\\raw.py:723: RuntimeWarning: Normalized/laundered field name: 'Lokasi ' to 'Lokasi'\n",
      "  ogr_write(\n",
      "c:\\Users\\kanzi\\AppData\\Local\\Programs\\Python\\Python312\\Lib\\site-packages\\pyogrio\\raw.py:723: RuntimeWarning: Normalized/laundered field name: 'Detail ' to 'Detail'\n",
      "  ogr_write(\n",
      "c:\\Users\\kanzi\\AppData\\Local\\Programs\\Python\\Python312\\Lib\\site-packages\\pyogrio\\raw.py:723: RuntimeWarning: Normalized/laundered field name: 'Lokasi ' to 'Lokasi'\n",
      "  ogr_write(\n",
      "c:\\Users\\kanzi\\AppData\\Local\\Programs\\Python\\Python312\\Lib\\site-packages\\pyogrio\\raw.py:723: RuntimeWarning: Normalized/laundered field name: 'Detail ' to 'Detail'\n",
      "  ogr_write(\n",
      "c:\\Users\\kanzi\\AppData\\Local\\Programs\\Python\\Python312\\Lib\\site-packages\\pyogrio\\raw.py:723: RuntimeWarning: Normalized/laundered field name: 'Lokasi ' to 'Lokasi'\n",
      "  ogr_write(\n"
     ]
    },
    {
     "name": "stdout",
     "output_type": "stream",
     "text": [
      "Removing 991 blank rows from 'PAGAR PENGAMAN'\n",
      "Processing 'PAGAR PENGAMAN' as LineString (PAGAR PENGAMAN sheet)\n",
      "Spatial join completed - Added NAMOBJ column with city names\n",
      "✅ Saved: C:\\Users\\kanzi\\Documents\\Part Time Job\\Hasil Export\\Extract Shapefile\\Kabupaten Bekasi\\Jalan Eksisting\\BARU - Eksisting PALUMBONSARI KABUPATENG KARAWANG_PAGAR PENGAMAN.shp\n",
      "✅ Applied QML style: C:\\Users\\kanzi\\Documents\\Part Time Job\\Hasil Export\\Extract Shapefile\\Kabupaten Bekasi\\Jalan Eksisting\\BARU - Eksisting PALUMBONSARI KABUPATENG KARAWANG_PAGAR PENGAMAN.qml\n",
      "✅ Saved: C:\\Users\\kanzi\\Documents\\Part Time Job\\Hasil Export\\Extract Shapefile\\Kabupaten Karawang\\Jalan Eksisting\\BARU - Eksisting PALUMBONSARI KABUPATENG KARAWANG_PAGAR PENGAMAN.shp\n",
      "✅ Applied QML style: C:\\Users\\kanzi\\Documents\\Part Time Job\\Hasil Export\\Extract Shapefile\\Kabupaten Karawang\\Jalan Eksisting\\BARU - Eksisting PALUMBONSARI KABUPATENG KARAWANG_PAGAR PENGAMAN.qml\n",
      "Removing 963 blank rows from 'MARKA (baru)'\n",
      "Processing 'MARKA (baru)' as MultiPoint (MARKA sheet)\n",
      "Spatial join completed - Added NAMOBJ column with city names\n",
      "✅ Saved: C:\\Users\\kanzi\\Documents\\Part Time Job\\Hasil Export\\Extract Shapefile\\Kabupaten Karawang\\Jalan Eksisting\\BARU - Eksisting PALUMBONSARI KABUPATENG KARAWANG_MARKA (baru).shp\n",
      "⚠️ No QML file found for MARKA (baru)\n"
     ]
    },
    {
     "name": "stderr",
     "output_type": "stream",
     "text": [
      "c:\\Users\\kanzi\\AppData\\Local\\Programs\\Python\\Python312\\Lib\\site-packages\\pyogrio\\raw.py:723: RuntimeWarning: Normalized/laundered field name: 'Detail ' to 'Detail'\n",
      "  ogr_write(\n",
      "c:\\Users\\kanzi\\AppData\\Local\\Programs\\Python\\Python312\\Lib\\site-packages\\pyogrio\\raw.py:723: RuntimeWarning: Normalized/laundered field name: 'Detail ' to 'Detail'\n",
      "  ogr_write(\n",
      "c:\\Users\\kanzi\\AppData\\Local\\Programs\\Python\\Python312\\Lib\\site-packages\\pyogrio\\raw.py:723: RuntimeWarning: Normalized/laundered field name: 'Lokasi ' to 'Lokasi'\n",
      "  ogr_write(\n"
     ]
    },
    {
     "name": "stdout",
     "output_type": "stream",
     "text": [
      "Removing 988 blank rows from 'WARNING LIGHT'\n",
      "Processing 'WARNING LIGHT' as Point geometry (regular sheet)\n",
      "Spatial join completed - Added NAMOBJ column with city names\n",
      "✅ Saved: C:\\Users\\kanzi\\Documents\\Part Time Job\\Hasil Export\\Extract Shapefile\\Kabupaten Karawang\\Jalan Eksisting\\BARU - Eksisting PALUMBONSARI KABUPATENG KARAWANG_WARNING LIGHT.shp\n",
      "✅ Applied QML style: C:\\Users\\kanzi\\Documents\\Part Time Job\\Hasil Export\\Extract Shapefile\\Kabupaten Karawang\\Jalan Eksisting\\BARU - Eksisting PALUMBONSARI KABUPATENG KARAWANG_WARNING LIGHT.qml\n",
      "Removing 961 blank rows from 'APILL'\n",
      "Processing 'APILL' as Point geometry (regular sheet)\n",
      "Spatial join completed - Added NAMOBJ column with city names\n",
      "✅ Saved: C:\\Users\\kanzi\\Documents\\Part Time Job\\Hasil Export\\Extract Shapefile\\Kabupaten Karawang\\Jalan Eksisting\\BARU - Eksisting PALUMBONSARI KABUPATENG KARAWANG_APILL.shp\n",
      "✅ Applied QML style: C:\\Users\\kanzi\\Documents\\Part Time Job\\Hasil Export\\Extract Shapefile\\Kabupaten Karawang\\Jalan Eksisting\\BARU - Eksisting PALUMBONSARI KABUPATENG KARAWANG_APILL.qml\n",
      "Removing 995 blank rows from 'ZOSS'\n",
      "Processing 'ZOSS' as Point geometry (regular sheet)\n",
      "Spatial join completed - Added NAMOBJ column with city names\n",
      "Removing 962 blank rows from 'FAS PENYEBERANGAN'\n",
      "Processing 'FAS PENYEBERANGAN' as Point geometry (regular sheet)\n"
     ]
    },
    {
     "name": "stderr",
     "output_type": "stream",
     "text": [
      "c:\\Users\\kanzi\\AppData\\Local\\Programs\\Python\\Python312\\Lib\\site-packages\\pyogrio\\raw.py:723: RuntimeWarning: Normalized/laundered field name: 'Detail ' to 'Detail'\n",
      "  ogr_write(\n",
      "c:\\Users\\kanzi\\AppData\\Local\\Programs\\Python\\Python312\\Lib\\site-packages\\pyogrio\\raw.py:723: RuntimeWarning: Normalized/laundered field name: 'Lokasi ' to 'Lokasi'\n",
      "  ogr_write(\n",
      "c:\\Users\\kanzi\\AppData\\Local\\Programs\\Python\\Python312\\Lib\\site-packages\\pyogrio\\raw.py:723: RuntimeWarning: Normalized/laundered field name: 'Detail ' to 'Detail'\n",
      "  ogr_write(\n"
     ]
    },
    {
     "name": "stdout",
     "output_type": "stream",
     "text": [
      "Spatial join completed - Added NAMOBJ column with city names\n",
      "✅ Saved: C:\\Users\\kanzi\\Documents\\Part Time Job\\Hasil Export\\Extract Shapefile\\Kabupaten Karawang\\Jalan Eksisting\\BARU - Eksisting PALUMBONSARI KABUPATENG KARAWANG_FAS PENYEBERANGAN.shp\n",
      "⚠️ No QML file found for FAS PENYEBERANGAN\n",
      "Removing 2 blank rows from 'RAMBU PORTABLE (baru)'\n",
      "⚠️ Skipping 'RAMBU PORTABLE (baru)' (No valid start coordinate columns found)\n",
      "Removing 43 blank rows from 'TRAFFIC CONE'\n",
      "⚠️ Skipping 'TRAFFIC CONE' (No valid start coordinate columns found)\n",
      "Removing 43 blank rows from 'WATER BARRIER'\n",
      "⚠️ Skipping 'WATER BARRIER' (No valid start coordinate columns found)\n",
      "Removing 995 blank rows from 'CERMIN TIKUNG'\n",
      "Processing 'CERMIN TIKUNG' as Point geometry (regular sheet)\n",
      "⚠️ Skipping 'CERMIN TIKUNG' (No valid geometry found)\n",
      "✅ Completed processing: BARU - Eksisting PALUMBONSARI KABUPATENG KARAWANG.xlsx\n",
      "\n",
      "[12/29] Processing: Format Baru 1.A. Jl. Proklamasi Krw.xlsx\n"
     ]
    },
    {
     "name": "stderr",
     "output_type": "stream",
     "text": [
      "c:\\Users\\kanzi\\AppData\\Local\\Programs\\Python\\Python312\\Lib\\site-packages\\openpyxl\\worksheet\\_reader.py:329: UserWarning: Conditional Formatting extension is not supported and will be removed\n",
      "  warn(msg)\n"
     ]
    },
    {
     "name": "stdout",
     "output_type": "stream",
     "text": [
      "Removing 976 blank rows from 'PJU'\n",
      "Processing 'PJU' as Point geometry (regular sheet)\n",
      "Spatial join completed - Added NAMOBJ column with city names\n",
      "✅ Saved: C:\\Users\\kanzi\\Documents\\Part Time Job\\Hasil Export\\Extract Shapefile\\Kabupaten Karawang\\Jalan Eksisting\\Format Baru 1.A. Jl. Proklamasi Krw_PJU.shp\n",
      "✅ Applied QML style: C:\\Users\\kanzi\\Documents\\Part Time Job\\Hasil Export\\Extract Shapefile\\Kabupaten Karawang\\Jalan Eksisting\\Format Baru 1.A. Jl. Proklamasi Krw_PJU.qml\n",
      "Removing 107 blank rows from 'RAMBU'\n",
      "Processing 'RAMBU' as Point geometry (regular sheet)\n",
      "Spatial join completed - Added NAMOBJ column with city names\n",
      "✅ Saved: C:\\Users\\kanzi\\Documents\\Part Time Job\\Hasil Export\\Extract Shapefile\\Kabupaten Karawang\\Jalan Eksisting\\Format Baru 1.A. Jl. Proklamasi Krw_RAMBU.shp\n",
      "✅ Applied QML style: C:\\Users\\kanzi\\Documents\\Part Time Job\\Hasil Export\\Extract Shapefile\\Kabupaten Karawang\\Jalan Eksisting\\Format Baru 1.A. Jl. Proklamasi Krw_RAMBU.qml\n",
      "Removing 42 blank rows from 'RPPJ'\n",
      "Processing 'RPPJ' as Point geometry (regular sheet)\n",
      "Spatial join completed - Added NAMOBJ column with city names\n",
      "✅ Saved: C:\\Users\\kanzi\\Documents\\Part Time Job\\Hasil Export\\Extract Shapefile\\Kabupaten Karawang\\Jalan Eksisting\\Format Baru 1.A. Jl. Proklamasi Krw_RPPJ.shp\n",
      "✅ Applied QML style: C:\\Users\\kanzi\\Documents\\Part Time Job\\Hasil Export\\Extract Shapefile\\Kabupaten Karawang\\Jalan Eksisting\\Format Baru 1.A. Jl. Proklamasi Krw_RPPJ.qml\n",
      "Removing 964 blank rows from 'PAGAR PENGAMAN'\n",
      "Processing 'PAGAR PENGAMAN' as LineString (PAGAR PENGAMAN sheet)\n"
     ]
    },
    {
     "name": "stderr",
     "output_type": "stream",
     "text": [
      "c:\\Users\\kanzi\\AppData\\Local\\Programs\\Python\\Python312\\Lib\\site-packages\\pyogrio\\raw.py:723: RuntimeWarning: Normalized/laundered field name: 'Detail ' to 'Detail'\n",
      "  ogr_write(\n",
      "c:\\Users\\kanzi\\AppData\\Local\\Programs\\Python\\Python312\\Lib\\site-packages\\pyogrio\\raw.py:723: RuntimeWarning: Normalized/laundered field name: 'Lokasi ' to 'Lokasi'\n",
      "  ogr_write(\n",
      "c:\\Users\\kanzi\\AppData\\Local\\Programs\\Python\\Python312\\Lib\\site-packages\\pyogrio\\raw.py:723: RuntimeWarning: Normalized/laundered field name: 'Detail ' to 'Detail'\n",
      "  ogr_write(\n",
      "c:\\Users\\kanzi\\AppData\\Local\\Programs\\Python\\Python312\\Lib\\site-packages\\pyogrio\\raw.py:723: RuntimeWarning: Normalized/laundered field name: 'Gambar ' to 'Gambar'\n",
      "  ogr_write(\n",
      "c:\\Users\\kanzi\\AppData\\Local\\Programs\\Python\\Python312\\Lib\\site-packages\\pyogrio\\raw.py:723: RuntimeWarning: Normalized/laundered field name: 'Lokasi ' to 'Lokasi'\n",
      "  ogr_write(\n",
      "c:\\Users\\kanzi\\AppData\\Local\\Programs\\Python\\Python312\\Lib\\site-packages\\pyogrio\\raw.py:723: RuntimeWarning: Normalized/laundered field name: 'Detail ' to 'Detail'\n",
      "  ogr_write(\n",
      "c:\\Users\\kanzi\\AppData\\Local\\Programs\\Python\\Python312\\Lib\\site-packages\\pyogrio\\raw.py:723: RuntimeWarning: Normalized/laundered field name: 'Gambar ' to 'Gambar'\n",
      "  ogr_write(\n",
      "c:\\Users\\kanzi\\AppData\\Local\\Programs\\Python\\Python312\\Lib\\site-packages\\pyogrio\\raw.py:723: RuntimeWarning: Normalized/laundered field name: 'Lokasi ' to 'Lokasi'\n",
      "  ogr_write(\n"
     ]
    },
    {
     "name": "stdout",
     "output_type": "stream",
     "text": [
      "Spatial join completed - Added NAMOBJ column with city names\n",
      "Removing 994 blank rows from 'MARKA'\n",
      "Processing 'MARKA' as MultiPoint (MARKA sheet)\n",
      "❌ Error processing Format Baru 1.A. Jl. Proklamasi Krw.xlsx: None\n",
      "\n",
      "[13/29] Processing: Format Baru 13.A. Jl. Letkol Eddie Soekardi (Kota Sukabumi).xlsx\n"
     ]
    },
    {
     "name": "stderr",
     "output_type": "stream",
     "text": [
      "c:\\Users\\kanzi\\AppData\\Local\\Programs\\Python\\Python312\\Lib\\site-packages\\openpyxl\\worksheet\\_reader.py:329: UserWarning: Conditional Formatting extension is not supported and will be removed\n",
      "  warn(msg)\n"
     ]
    },
    {
     "name": "stdout",
     "output_type": "stream",
     "text": [
      "Processing 'RAMBU' as Point geometry (regular sheet)\n",
      "Spatial join completed - Added NAMOBJ column with city names\n",
      "✅ Saved: C:\\Users\\kanzi\\Documents\\Part Time Job\\Hasil Export\\Extract Shapefile\\Kabupaten Sukabumi\\Jalan Eksisting\\Format Baru 13.A. Jl. Letkol Eddie Soekardi (Kota Sukabumi)_RAMBU.shp\n",
      "✅ Applied QML style: C:\\Users\\kanzi\\Documents\\Part Time Job\\Hasil Export\\Extract Shapefile\\Kabupaten Sukabumi\\Jalan Eksisting\\Format Baru 13.A. Jl. Letkol Eddie Soekardi (Kota Sukabumi)_RAMBU.qml\n",
      "✅ Saved: C:\\Users\\kanzi\\Documents\\Part Time Job\\Hasil Export\\Extract Shapefile\\Kota Sukabumi\\Jalan Eksisting\\Format Baru 13.A. Jl. Letkol Eddie Soekardi (Kota Sukabumi)_RAMBU.shp\n",
      "✅ Applied QML style: C:\\Users\\kanzi\\Documents\\Part Time Job\\Hasil Export\\Extract Shapefile\\Kota Sukabumi\\Jalan Eksisting\\Format Baru 13.A. Jl. Letkol Eddie Soekardi (Kota Sukabumi)_RAMBU.qml\n",
      "Removing 774 blank rows from 'PJU'\n"
     ]
    },
    {
     "name": "stderr",
     "output_type": "stream",
     "text": [
      "c:\\Users\\kanzi\\AppData\\Local\\Programs\\Python\\Python312\\Lib\\site-packages\\pyogrio\\raw.py:723: RuntimeWarning: Normalized/laundered field name: 'Detail ' to 'Detail'\n",
      "  ogr_write(\n",
      "c:\\Users\\kanzi\\AppData\\Local\\Programs\\Python\\Python312\\Lib\\site-packages\\pyogrio\\raw.py:723: RuntimeWarning: Normalized/laundered field name: 'Gambar ' to 'Gambar'\n",
      "  ogr_write(\n",
      "c:\\Users\\kanzi\\AppData\\Local\\Programs\\Python\\Python312\\Lib\\site-packages\\pyogrio\\raw.py:723: RuntimeWarning: Normalized/laundered field name: 'Lokasi ' to 'Lokasi'\n",
      "  ogr_write(\n",
      "c:\\Users\\kanzi\\AppData\\Local\\Programs\\Python\\Python312\\Lib\\site-packages\\pyogrio\\raw.py:723: RuntimeWarning: Normalized/laundered field name: 'Detail ' to 'Detail'\n",
      "  ogr_write(\n",
      "c:\\Users\\kanzi\\AppData\\Local\\Programs\\Python\\Python312\\Lib\\site-packages\\pyogrio\\raw.py:723: RuntimeWarning: Normalized/laundered field name: 'Gambar ' to 'Gambar'\n",
      "  ogr_write(\n",
      "c:\\Users\\kanzi\\AppData\\Local\\Programs\\Python\\Python312\\Lib\\site-packages\\pyogrio\\raw.py:723: RuntimeWarning: Normalized/laundered field name: 'Lokasi ' to 'Lokasi'\n",
      "  ogr_write(\n"
     ]
    },
    {
     "name": "stdout",
     "output_type": "stream",
     "text": [
      "Processing 'PJU' as Point geometry (regular sheet)\n",
      "Spatial join completed - Added NAMOBJ column with city names\n",
      "✅ Saved: C:\\Users\\kanzi\\Documents\\Part Time Job\\Hasil Export\\Extract Shapefile\\Kabupaten Sukabumi\\Jalan Eksisting\\Format Baru 13.A. Jl. Letkol Eddie Soekardi (Kota Sukabumi)_PJU.shp\n",
      "✅ Applied QML style: C:\\Users\\kanzi\\Documents\\Part Time Job\\Hasil Export\\Extract Shapefile\\Kabupaten Sukabumi\\Jalan Eksisting\\Format Baru 13.A. Jl. Letkol Eddie Soekardi (Kota Sukabumi)_PJU.qml\n",
      "✅ Saved: C:\\Users\\kanzi\\Documents\\Part Time Job\\Hasil Export\\Extract Shapefile\\Kota Sukabumi\\Jalan Eksisting\\Format Baru 13.A. Jl. Letkol Eddie Soekardi (Kota Sukabumi)_PJU.shp\n",
      "✅ Applied QML style: C:\\Users\\kanzi\\Documents\\Part Time Job\\Hasil Export\\Extract Shapefile\\Kota Sukabumi\\Jalan Eksisting\\Format Baru 13.A. Jl. Letkol Eddie Soekardi (Kota Sukabumi)_PJU.qml\n",
      "Processing 'RPPJ' as Point geometry (regular sheet)\n",
      "Spatial join completed - Added NAMOBJ column with city names\n",
      "✅ Saved: C:\\Users\\kanzi\\Documents\\Part Time Job\\Hasil Export\\Extract Shapefile\\Kota Sukabumi\\Jalan Eksisting\\Format Baru 13.A. Jl. Letkol Eddie Soekardi (Kota Sukabumi)_RPPJ.shp\n",
      "✅ Applied QML style: C:\\Users\\kanzi\\Documents\\Part Time Job\\Hasil Export\\Extract Shapefile\\Kota Sukabumi\\Jalan Eksisting\\Format Baru 13.A. Jl. Letkol Eddie Soekardi (Kota Sukabumi)_RPPJ.qml\n",
      "Removing 961 blank rows from 'PAGAR PENGAMAN'\n",
      "Processing 'PAGAR PENGAMAN' as LineString (PAGAR PENGAMAN sheet)\n"
     ]
    },
    {
     "name": "stderr",
     "output_type": "stream",
     "text": [
      "c:\\Users\\kanzi\\AppData\\Local\\Programs\\Python\\Python312\\Lib\\site-packages\\pyogrio\\raw.py:723: RuntimeWarning: Normalized/laundered field name: 'Detail ' to 'Detail'\n",
      "  ogr_write(\n",
      "c:\\Users\\kanzi\\AppData\\Local\\Programs\\Python\\Python312\\Lib\\site-packages\\pyogrio\\raw.py:723: RuntimeWarning: Normalized/laundered field name: 'Lokasi ' to 'Lokasi'\n",
      "  ogr_write(\n",
      "c:\\Users\\kanzi\\AppData\\Local\\Programs\\Python\\Python312\\Lib\\site-packages\\pyogrio\\raw.py:723: RuntimeWarning: Normalized/laundered field name: 'Detail ' to 'Detail'\n",
      "  ogr_write(\n",
      "c:\\Users\\kanzi\\AppData\\Local\\Programs\\Python\\Python312\\Lib\\site-packages\\pyogrio\\raw.py:723: RuntimeWarning: Normalized/laundered field name: 'Lokasi ' to 'Lokasi'\n",
      "  ogr_write(\n",
      "c:\\Users\\kanzi\\AppData\\Local\\Programs\\Python\\Python312\\Lib\\site-packages\\pyogrio\\raw.py:723: RuntimeWarning: Normalized/laundered field name: 'Detail ' to 'Detail'\n",
      "  ogr_write(\n",
      "c:\\Users\\kanzi\\AppData\\Local\\Programs\\Python\\Python312\\Lib\\site-packages\\pyogrio\\raw.py:723: RuntimeWarning: Normalized/laundered field name: 'Gambar ' to 'Gambar'\n",
      "  ogr_write(\n",
      "c:\\Users\\kanzi\\AppData\\Local\\Programs\\Python\\Python312\\Lib\\site-packages\\pyogrio\\raw.py:723: RuntimeWarning: Normalized/laundered field name: 'Lokasi ' to 'Lokasi'\n",
      "  ogr_write(\n"
     ]
    },
    {
     "name": "stdout",
     "output_type": "stream",
     "text": [
      "Spatial join completed - Added NAMOBJ column with city names\n",
      "✅ Saved: C:\\Users\\kanzi\\Documents\\Part Time Job\\Hasil Export\\Extract Shapefile\\Kota Sukabumi\\Jalan Eksisting\\Format Baru 13.A. Jl. Letkol Eddie Soekardi (Kota Sukabumi)_PAGAR PENGAMAN.shp\n",
      "✅ Applied QML style: C:\\Users\\kanzi\\Documents\\Part Time Job\\Hasil Export\\Extract Shapefile\\Kota Sukabumi\\Jalan Eksisting\\Format Baru 13.A. Jl. Letkol Eddie Soekardi (Kota Sukabumi)_PAGAR PENGAMAN.qml\n",
      "Removing 961 blank rows from 'MARKA'\n",
      "Processing 'MARKA' as MultiPoint (MARKA sheet)\n",
      "Spatial join completed - Added NAMOBJ column with city names\n",
      "✅ Saved: C:\\Users\\kanzi\\Documents\\Part Time Job\\Hasil Export\\Extract Shapefile\\Kota Sukabumi\\Jalan Eksisting\\Format Baru 13.A. Jl. Letkol Eddie Soekardi (Kota Sukabumi)_MARKA.shp\n",
      "✅ Applied QML style: C:\\Users\\kanzi\\Documents\\Part Time Job\\Hasil Export\\Extract Shapefile\\Kota Sukabumi\\Jalan Eksisting\\Format Baru 13.A. Jl. Letkol Eddie Soekardi (Kota Sukabumi)_MARKA.qml\n"
     ]
    },
    {
     "name": "stderr",
     "output_type": "stream",
     "text": [
      "c:\\Users\\kanzi\\AppData\\Local\\Programs\\Python\\Python312\\Lib\\site-packages\\pyogrio\\raw.py:723: RuntimeWarning: Normalized/laundered field name: 'Detail ' to 'Detail'\n",
      "  ogr_write(\n",
      "c:\\Users\\kanzi\\AppData\\Local\\Programs\\Python\\Python312\\Lib\\site-packages\\pyogrio\\raw.py:723: RuntimeWarning: Normalized/laundered field name: 'Lokasi ' to 'Lokasi'\n",
      "  ogr_write(\n",
      "c:\\Users\\kanzi\\AppData\\Local\\Programs\\Python\\Python312\\Lib\\site-packages\\pyogrio\\raw.py:723: RuntimeWarning: Normalized/laundered field name: 'Detail ' to 'Detail'\n",
      "  ogr_write(\n"
     ]
    },
    {
     "name": "stdout",
     "output_type": "stream",
     "text": [
      "Removing 961 blank rows from 'WARNING LIGHT'\n",
      "Processing 'WARNING LIGHT' as Point geometry (regular sheet)\n",
      "Spatial join completed - Added NAMOBJ column with city names\n",
      "✅ Saved: C:\\Users\\kanzi\\Documents\\Part Time Job\\Hasil Export\\Extract Shapefile\\Kota Sukabumi\\Jalan Eksisting\\Format Baru 13.A. Jl. Letkol Eddie Soekardi (Kota Sukabumi)_WARNING LIGHT.shp\n",
      "✅ Applied QML style: C:\\Users\\kanzi\\Documents\\Part Time Job\\Hasil Export\\Extract Shapefile\\Kota Sukabumi\\Jalan Eksisting\\Format Baru 13.A. Jl. Letkol Eddie Soekardi (Kota Sukabumi)_WARNING LIGHT.qml\n",
      "Removing 961 blank rows from 'APILL'\n",
      "Processing 'APILL' as Point geometry (regular sheet)\n"
     ]
    },
    {
     "name": "stderr",
     "output_type": "stream",
     "text": [
      "c:\\Users\\kanzi\\AppData\\Local\\Programs\\Python\\Python312\\Lib\\site-packages\\pyogrio\\raw.py:723: RuntimeWarning: Normalized/laundered field name: 'Detail ' to 'Detail'\n",
      "  ogr_write(\n",
      "c:\\Users\\kanzi\\AppData\\Local\\Programs\\Python\\Python312\\Lib\\site-packages\\pyogrio\\raw.py:723: RuntimeWarning: Normalized/laundered field name: 'Lokasi ' to 'Lokasi'\n",
      "  ogr_write(\n",
      "c:\\Users\\kanzi\\AppData\\Local\\Programs\\Python\\Python312\\Lib\\site-packages\\pyogrio\\raw.py:723: RuntimeWarning: Normalized/laundered field name: 'Detail ' to 'Detail'\n",
      "  ogr_write(\n",
      "c:\\Users\\kanzi\\AppData\\Local\\Programs\\Python\\Python312\\Lib\\site-packages\\pyogrio\\raw.py:723: RuntimeWarning: Normalized/laundered field name: 'Lokasi ' to 'Lokasi'\n",
      "  ogr_write(\n"
     ]
    },
    {
     "name": "stdout",
     "output_type": "stream",
     "text": [
      "Spatial join completed - Added NAMOBJ column with city names\n",
      "✅ Saved: C:\\Users\\kanzi\\Documents\\Part Time Job\\Hasil Export\\Extract Shapefile\\Kota Sukabumi\\Jalan Eksisting\\Format Baru 13.A. Jl. Letkol Eddie Soekardi (Kota Sukabumi)_APILL.shp\n",
      "✅ Applied QML style: C:\\Users\\kanzi\\Documents\\Part Time Job\\Hasil Export\\Extract Shapefile\\Kota Sukabumi\\Jalan Eksisting\\Format Baru 13.A. Jl. Letkol Eddie Soekardi (Kota Sukabumi)_APILL.qml\n",
      "Removing 961 blank rows from 'ZOSS'\n",
      "Processing 'ZOSS' as Point geometry (regular sheet)\n",
      "Spatial join completed - Added NAMOBJ column with city names\n",
      "Removing 961 blank rows from 'FAS PENYEBERANGAN'\n",
      "Processing 'FAS PENYEBERANGAN' as Point geometry (regular sheet)\n",
      "Spatial join completed - Added NAMOBJ column with city names\n"
     ]
    },
    {
     "name": "stderr",
     "output_type": "stream",
     "text": [
      "c:\\Users\\kanzi\\AppData\\Local\\Programs\\Python\\Python312\\Lib\\site-packages\\pyogrio\\raw.py:723: RuntimeWarning: Normalized/laundered field name: 'Detail ' to 'Detail'\n",
      "  ogr_write(\n",
      "c:\\Users\\kanzi\\AppData\\Local\\Programs\\Python\\Python312\\Lib\\site-packages\\pyogrio\\raw.py:723: RuntimeWarning: Normalized/laundered field name: 'Detail ' to 'Detail'\n",
      "  ogr_write(\n",
      "c:\\Users\\kanzi\\AppData\\Local\\Programs\\Python\\Python312\\Lib\\site-packages\\openpyxl\\worksheet\\_reader.py:329: UserWarning: Conditional Formatting extension is not supported and will be removed\n",
      "  warn(msg)\n"
     ]
    },
    {
     "name": "stdout",
     "output_type": "stream",
     "text": [
      "✅ Saved: C:\\Users\\kanzi\\Documents\\Part Time Job\\Hasil Export\\Extract Shapefile\\Kabupaten Sukabumi\\Jalan Eksisting\\Format Baru 13.A. Jl. Letkol Eddie Soekardi (Kota Sukabumi)_FAS PENYEBERANGAN.shp\n",
      "⚠️ No QML file found for FAS PENYEBERANGAN\n",
      "✅ Saved: C:\\Users\\kanzi\\Documents\\Part Time Job\\Hasil Export\\Extract Shapefile\\Kota Sukabumi\\Jalan Eksisting\\Format Baru 13.A. Jl. Letkol Eddie Soekardi (Kota Sukabumi)_FAS PENYEBERANGAN.shp\n",
      "⚠️ No QML file found for FAS PENYEBERANGAN\n",
      "⚠️ Skipping 'RAMBU PORTABLE' (No valid start coordinate columns found)\n",
      "⚠️ Skipping 'TRAFFIC CONE' (No valid start coordinate columns found)\n",
      "⚠️ Skipping 'WATER BARRIER' (No valid start coordinate columns found)\n",
      "Removing 961 blank rows from 'CERMIN TIKUNG'\n",
      "Processing 'CERMIN TIKUNG' as Point geometry (regular sheet)\n",
      "⚠️ Skipping 'CERMIN TIKUNG' (No valid geometry found)\n",
      "✅ Completed processing: Format Baru 13.A. Jl. Letkol Eddie Soekardi (Kota Sukabumi).xlsx\n",
      "\n",
      "[14/29] Processing: Format Baru 22.A. Sukabumi - Cikembar.xlsx\n",
      "Removing 15 blank rows from 'RAMBU'\n",
      "Processing 'RAMBU' as Point geometry (regular sheet)\n",
      "Spatial join completed - Added NAMOBJ column with city names\n",
      "✅ Saved: C:\\Users\\kanzi\\Documents\\Part Time Job\\Hasil Export\\Extract Shapefile\\Kabupaten Sukabumi\\Jalan Eksisting\\Format Baru 22.A. Sukabumi - Cikembar_RAMBU.shp\n",
      "✅ Applied QML style: C:\\Users\\kanzi\\Documents\\Part Time Job\\Hasil Export\\Extract Shapefile\\Kabupaten Sukabumi\\Jalan Eksisting\\Format Baru 22.A. Sukabumi - Cikembar_RAMBU.qml\n",
      "Removing 959 blank rows from 'PJU'\n",
      "Processing 'PJU' as Point geometry (regular sheet)\n",
      "Spatial join completed - Added NAMOBJ column with city names\n",
      "Removing 9 blank rows from 'RPPJ'\n",
      "Processing 'RPPJ' as Point geometry (regular sheet)\n",
      "Spatial join completed - Added NAMOBJ column with city names\n"
     ]
    },
    {
     "name": "stderr",
     "output_type": "stream",
     "text": [
      "c:\\Users\\kanzi\\AppData\\Local\\Programs\\Python\\Python312\\Lib\\site-packages\\pyogrio\\raw.py:723: RuntimeWarning: Normalized/laundered field name: 'Detail ' to 'Detail'\n",
      "  ogr_write(\n",
      "c:\\Users\\kanzi\\AppData\\Local\\Programs\\Python\\Python312\\Lib\\site-packages\\pyogrio\\raw.py:723: RuntimeWarning: Normalized/laundered field name: 'Gambar ' to 'Gambar'\n",
      "  ogr_write(\n",
      "c:\\Users\\kanzi\\AppData\\Local\\Programs\\Python\\Python312\\Lib\\site-packages\\pyogrio\\raw.py:723: RuntimeWarning: Normalized/laundered field name: 'Lokasi ' to 'Lokasi'\n",
      "  ogr_write(\n"
     ]
    },
    {
     "name": "stdout",
     "output_type": "stream",
     "text": [
      "Removing 961 blank rows from 'PAGAR PENGAMAN'\n",
      "Processing 'PAGAR PENGAMAN' as LineString (PAGAR PENGAMAN sheet)\n",
      "Spatial join completed - Added NAMOBJ column with city names\n",
      "Removing 961 blank rows from 'MARKA'\n",
      "Processing 'MARKA' as MultiPoint (MARKA sheet)\n",
      "Spatial join completed - Added NAMOBJ column with city names\n",
      "Removing 961 blank rows from 'WARNING LIGHT'\n",
      "Processing 'WARNING LIGHT' as Point geometry (regular sheet)\n",
      "Spatial join completed - Added NAMOBJ column with city names\n",
      "Removing 961 blank rows from 'APILL'\n",
      "Processing 'APILL' as Point geometry (regular sheet)\n",
      "Spatial join completed - Added NAMOBJ column with city names\n",
      "Removing 961 blank rows from 'ZOSS'\n",
      "Processing 'ZOSS' as Point geometry (regular sheet)\n",
      "Spatial join completed - Added NAMOBJ column with city names\n",
      "Removing 961 blank rows from 'FAS PENYEBERANGAN'\n",
      "Processing 'FAS PENYEBERANGAN' as Point geometry (regular sheet)\n",
      "Spatial join completed - Added NAMOBJ column with city names\n",
      "Removing 9 blank rows from 'RAMBU PORTABLE'\n",
      "⚠️ Skipping 'RAMBU PORTABLE' (No valid start coordinate columns found)\n",
      "Removing 9 blank rows from 'TRAFFIC CONE'\n",
      "⚠️ Skipping 'TRAFFIC CONE' (No valid start coordinate columns found)\n",
      "Removing 9 blank rows from 'WATER BARRIER'\n",
      "⚠️ Skipping 'WATER BARRIER' (No valid start coordinate columns found)\n",
      "Removing 961 blank rows from 'CERMIN TIKUNG'\n",
      "Processing 'CERMIN TIKUNG' as Point geometry (regular sheet)\n",
      "⚠️ Skipping 'CERMIN TIKUNG' (No valid geometry found)\n",
      "✅ Completed processing: Format Baru 22.A. Sukabumi - Cikembar.xlsx\n",
      "\n",
      "[15/29] Processing: Format Baru 23.A. Cikembar-Cikembang.xlsx\n"
     ]
    },
    {
     "name": "stderr",
     "output_type": "stream",
     "text": [
      "c:\\Users\\kanzi\\AppData\\Local\\Programs\\Python\\Python312\\Lib\\site-packages\\openpyxl\\worksheet\\_reader.py:329: UserWarning: Conditional Formatting extension is not supported and will be removed\n",
      "  warn(msg)\n"
     ]
    },
    {
     "name": "stdout",
     "output_type": "stream",
     "text": [
      "Removing 9 blank rows from 'RAMBU'\n",
      "Processing 'RAMBU' as Point geometry (regular sheet)\n",
      "Spatial join completed - Added NAMOBJ column with city names\n",
      "✅ Saved: C:\\Users\\kanzi\\Documents\\Part Time Job\\Hasil Export\\Extract Shapefile\\Kabupaten Sukabumi\\Jalan Eksisting\\Format Baru 23.A. Cikembar-Cikembang_RAMBU.shp\n",
      "✅ Applied QML style: C:\\Users\\kanzi\\Documents\\Part Time Job\\Hasil Export\\Extract Shapefile\\Kabupaten Sukabumi\\Jalan Eksisting\\Format Baru 23.A. Cikembar-Cikembang_RAMBU.qml\n",
      "Removing 961 blank rows from 'PJU'\n",
      "Processing 'PJU' as Point geometry (regular sheet)\n"
     ]
    },
    {
     "name": "stderr",
     "output_type": "stream",
     "text": [
      "c:\\Users\\kanzi\\AppData\\Local\\Programs\\Python\\Python312\\Lib\\site-packages\\pyogrio\\raw.py:723: RuntimeWarning: Normalized/laundered field name: 'Detail ' to 'Detail'\n",
      "  ogr_write(\n",
      "c:\\Users\\kanzi\\AppData\\Local\\Programs\\Python\\Python312\\Lib\\site-packages\\pyogrio\\raw.py:723: RuntimeWarning: Normalized/laundered field name: 'Gambar ' to 'Gambar'\n",
      "  ogr_write(\n",
      "c:\\Users\\kanzi\\AppData\\Local\\Programs\\Python\\Python312\\Lib\\site-packages\\pyogrio\\raw.py:723: RuntimeWarning: Normalized/laundered field name: 'Lokasi ' to 'Lokasi'\n",
      "  ogr_write(\n"
     ]
    },
    {
     "name": "stdout",
     "output_type": "stream",
     "text": [
      "Spatial join completed - Added NAMOBJ column with city names\n",
      "✅ Saved: C:\\Users\\kanzi\\Documents\\Part Time Job\\Hasil Export\\Extract Shapefile\\Kabupaten Sukabumi\\Jalan Eksisting\\Format Baru 23.A. Cikembar-Cikembang_PJU.shp\n",
      "✅ Applied QML style: C:\\Users\\kanzi\\Documents\\Part Time Job\\Hasil Export\\Extract Shapefile\\Kabupaten Sukabumi\\Jalan Eksisting\\Format Baru 23.A. Cikembar-Cikembang_PJU.qml\n",
      "Removing 9 blank rows from 'RPPJ'\n",
      "Processing 'RPPJ' as Point geometry (regular sheet)\n",
      "Spatial join completed - Added NAMOBJ column with city names\n",
      "✅ Saved: C:\\Users\\kanzi\\Documents\\Part Time Job\\Hasil Export\\Extract Shapefile\\Kabupaten Sukabumi\\Jalan Eksisting\\Format Baru 23.A. Cikembar-Cikembang_RPPJ.shp\n",
      "✅ Applied QML style: C:\\Users\\kanzi\\Documents\\Part Time Job\\Hasil Export\\Extract Shapefile\\Kabupaten Sukabumi\\Jalan Eksisting\\Format Baru 23.A. Cikembar-Cikembang_RPPJ.qml\n",
      "Removing 961 blank rows from 'PAGAR PENGAMAN'\n",
      "Processing 'PAGAR PENGAMAN' as LineString (PAGAR PENGAMAN sheet)\n",
      "Spatial join completed - Added NAMOBJ column with city names\n",
      "✅ Saved: C:\\Users\\kanzi\\Documents\\Part Time Job\\Hasil Export\\Extract Shapefile\\Kabupaten Garut\\Jalan Eksisting\\Format Baru 23.A. Cikembar-Cikembang_PAGAR PENGAMAN.shp\n",
      "✅ Applied QML style: C:\\Users\\kanzi\\Documents\\Part Time Job\\Hasil Export\\Extract Shapefile\\Kabupaten Garut\\Jalan Eksisting\\Format Baru 23.A. Cikembar-Cikembang_PAGAR PENGAMAN.qml\n"
     ]
    },
    {
     "name": "stderr",
     "output_type": "stream",
     "text": [
      "c:\\Users\\kanzi\\AppData\\Local\\Programs\\Python\\Python312\\Lib\\site-packages\\pyogrio\\raw.py:723: RuntimeWarning: Normalized/laundered field name: 'Detail ' to 'Detail'\n",
      "  ogr_write(\n",
      "c:\\Users\\kanzi\\AppData\\Local\\Programs\\Python\\Python312\\Lib\\site-packages\\pyogrio\\raw.py:723: RuntimeWarning: Normalized/laundered field name: 'Lokasi ' to 'Lokasi'\n",
      "  ogr_write(\n",
      "c:\\Users\\kanzi\\AppData\\Local\\Programs\\Python\\Python312\\Lib\\site-packages\\pyogrio\\raw.py:723: RuntimeWarning: Normalized/laundered field name: 'Detail ' to 'Detail'\n",
      "  ogr_write(\n",
      "c:\\Users\\kanzi\\AppData\\Local\\Programs\\Python\\Python312\\Lib\\site-packages\\pyogrio\\raw.py:723: RuntimeWarning: Normalized/laundered field name: 'Gambar ' to 'Gambar'\n",
      "  ogr_write(\n",
      "c:\\Users\\kanzi\\AppData\\Local\\Programs\\Python\\Python312\\Lib\\site-packages\\pyogrio\\raw.py:723: RuntimeWarning: Normalized/laundered field name: 'Lokasi ' to 'Lokasi'\n",
      "  ogr_write(\n",
      "c:\\Users\\kanzi\\AppData\\Local\\Programs\\Python\\Python312\\Lib\\site-packages\\pyogrio\\raw.py:723: RuntimeWarning: Normalized/laundered field name: 'Detail ' to 'Detail'\n",
      "  ogr_write(\n",
      "c:\\Users\\kanzi\\AppData\\Local\\Programs\\Python\\Python312\\Lib\\site-packages\\pyogrio\\raw.py:723: RuntimeWarning: Normalized/laundered field name: 'Lokasi ' to 'Lokasi'\n",
      "  ogr_write(\n"
     ]
    },
    {
     "name": "stdout",
     "output_type": "stream",
     "text": [
      "Removing 961 blank rows from 'MARKA'\n",
      "Processing 'MARKA' as MultiPoint (MARKA sheet)\n",
      "Spatial join completed - Added NAMOBJ column with city names\n",
      "✅ Saved: C:\\Users\\kanzi\\Documents\\Part Time Job\\Hasil Export\\Extract Shapefile\\Kabupaten Sukabumi\\Jalan Eksisting\\Format Baru 23.A. Cikembar-Cikembang_MARKA.shp\n",
      "✅ Applied QML style: C:\\Users\\kanzi\\Documents\\Part Time Job\\Hasil Export\\Extract Shapefile\\Kabupaten Sukabumi\\Jalan Eksisting\\Format Baru 23.A. Cikembar-Cikembang_MARKA.qml\n"
     ]
    },
    {
     "name": "stderr",
     "output_type": "stream",
     "text": [
      "c:\\Users\\kanzi\\AppData\\Local\\Programs\\Python\\Python312\\Lib\\site-packages\\pyogrio\\raw.py:723: RuntimeWarning: Normalized/laundered field name: 'Detail ' to 'Detail'\n",
      "  ogr_write(\n"
     ]
    },
    {
     "name": "stdout",
     "output_type": "stream",
     "text": [
      "Removing 961 blank rows from 'WARNING LIGHT'\n",
      "Processing 'WARNING LIGHT' as Point geometry (regular sheet)\n",
      "Spatial join completed - Added NAMOBJ column with city names\n",
      "Removing 962 blank rows from 'APILL'\n",
      "Processing 'APILL' as Point geometry (regular sheet)\n",
      "Spatial join completed - Added NAMOBJ column with city names\n",
      "Removing 962 blank rows from 'ZOSS'\n",
      "Processing 'ZOSS' as Point geometry (regular sheet)\n",
      "Spatial join completed - Added NAMOBJ column with city names\n",
      "Removing 961 blank rows from 'FAS PENYEBERANGAN'\n",
      "Processing 'FAS PENYEBERANGAN' as Point geometry (regular sheet)\n",
      "Spatial join completed - Added NAMOBJ column with city names\n",
      "✅ Saved: C:\\Users\\kanzi\\Documents\\Part Time Job\\Hasil Export\\Extract Shapefile\\Kabupaten Sukabumi\\Jalan Eksisting\\Format Baru 23.A. Cikembar-Cikembang_FAS PENYEBERANGAN.shp\n",
      "⚠️ No QML file found for FAS PENYEBERANGAN\n",
      "Removing 11 blank rows from 'RAMBU PORTABLE'\n",
      "⚠️ Skipping 'RAMBU PORTABLE' (No valid start coordinate columns found)\n",
      "Removing 9 blank rows from 'TRAFFIC CONE'\n",
      "⚠️ Skipping 'TRAFFIC CONE' (No valid start coordinate columns found)\n",
      "Removing 9 blank rows from 'WATER BARRIER'\n",
      "⚠️ Skipping 'WATER BARRIER' (No valid start coordinate columns found)\n",
      "Removing 961 blank rows from 'CERMIN TIKUNG'\n",
      "Processing 'CERMIN TIKUNG' as Point geometry (regular sheet)\n",
      "⚠️ Skipping 'CERMIN TIKUNG' (No valid geometry found)\n",
      "✅ Completed processing: Format Baru 23.A. Cikembar-Cikembang.xlsx\n",
      "\n",
      "[16/29] Processing: Format Baru 26.A. Sp. Surade - Ujunggenteng.xlsx\n"
     ]
    },
    {
     "name": "stderr",
     "output_type": "stream",
     "text": [
      "c:\\Users\\kanzi\\AppData\\Local\\Programs\\Python\\Python312\\Lib\\site-packages\\pyogrio\\raw.py:723: RuntimeWarning: Normalized/laundered field name: 'Detail ' to 'Detail'\n",
      "  ogr_write(\n",
      "c:\\Users\\kanzi\\AppData\\Local\\Programs\\Python\\Python312\\Lib\\site-packages\\openpyxl\\worksheet\\_reader.py:329: UserWarning: Conditional Formatting extension is not supported and will be removed\n",
      "  warn(msg)\n"
     ]
    },
    {
     "name": "stdout",
     "output_type": "stream",
     "text": [
      "Processing 'RAMBU' as Point geometry (regular sheet)\n",
      "Spatial join completed - Added NAMOBJ column with city names\n",
      "✅ Saved: C:\\Users\\kanzi\\Documents\\Part Time Job\\Hasil Export\\Extract Shapefile\\Kabupaten Sukabumi\\Jalan Eksisting\\Format Baru 26.A. Sp. Surade - Ujunggenteng_RAMBU.shp\n",
      "✅ Applied QML style: C:\\Users\\kanzi\\Documents\\Part Time Job\\Hasil Export\\Extract Shapefile\\Kabupaten Sukabumi\\Jalan Eksisting\\Format Baru 26.A. Sp. Surade - Ujunggenteng_RAMBU.qml\n",
      "Removing 920 blank rows from 'PJU'\n",
      "Processing 'PJU' as Point geometry (regular sheet)\n"
     ]
    },
    {
     "name": "stderr",
     "output_type": "stream",
     "text": [
      "c:\\Users\\kanzi\\AppData\\Local\\Programs\\Python\\Python312\\Lib\\site-packages\\pyogrio\\raw.py:723: RuntimeWarning: Normalized/laundered field name: 'Detail ' to 'Detail'\n",
      "  ogr_write(\n",
      "c:\\Users\\kanzi\\AppData\\Local\\Programs\\Python\\Python312\\Lib\\site-packages\\pyogrio\\raw.py:723: RuntimeWarning: Normalized/laundered field name: 'Lokasi ' to 'Lokasi'\n",
      "  ogr_write(\n"
     ]
    },
    {
     "name": "stdout",
     "output_type": "stream",
     "text": [
      "Spatial join completed - Added NAMOBJ column with city names\n",
      "✅ Saved: C:\\Users\\kanzi\\Documents\\Part Time Job\\Hasil Export\\Extract Shapefile\\Kabupaten Sukabumi\\Jalan Eksisting\\Format Baru 26.A. Sp. Surade - Ujunggenteng_PJU.shp\n",
      "✅ Applied QML style: C:\\Users\\kanzi\\Documents\\Part Time Job\\Hasil Export\\Extract Shapefile\\Kabupaten Sukabumi\\Jalan Eksisting\\Format Baru 26.A. Sp. Surade - Ujunggenteng_PJU.qml\n",
      "Removing 26 blank rows from 'RPPJ'\n",
      "Processing 'RPPJ' as Point geometry (regular sheet)\n",
      "Spatial join completed - Added NAMOBJ column with city names\n",
      "✅ Saved: C:\\Users\\kanzi\\Documents\\Part Time Job\\Hasil Export\\Extract Shapefile\\Kabupaten Sukabumi\\Jalan Eksisting\\Format Baru 26.A. Sp. Surade - Ujunggenteng_RPPJ.shp\n",
      "✅ Applied QML style: C:\\Users\\kanzi\\Documents\\Part Time Job\\Hasil Export\\Extract Shapefile\\Kabupaten Sukabumi\\Jalan Eksisting\\Format Baru 26.A. Sp. Surade - Ujunggenteng_RPPJ.qml\n",
      "Removing 995 blank rows from 'PAGAR PENGAMAN'\n",
      "Processing 'PAGAR PENGAMAN' as LineString (PAGAR PENGAMAN sheet)\n",
      "Spatial join completed - Added NAMOBJ column with city names\n"
     ]
    },
    {
     "name": "stderr",
     "output_type": "stream",
     "text": [
      "c:\\Users\\kanzi\\AppData\\Local\\Programs\\Python\\Python312\\Lib\\site-packages\\pyogrio\\raw.py:723: RuntimeWarning: Normalized/laundered field name: 'Detail ' to 'Detail'\n",
      "  ogr_write(\n",
      "c:\\Users\\kanzi\\AppData\\Local\\Programs\\Python\\Python312\\Lib\\site-packages\\pyogrio\\raw.py:723: RuntimeWarning: Normalized/laundered field name: 'Lokasi ' to 'Lokasi'\n",
      "  ogr_write(\n",
      "c:\\Users\\kanzi\\AppData\\Local\\Programs\\Python\\Python312\\Lib\\site-packages\\pyogrio\\raw.py:723: RuntimeWarning: Normalized/laundered field name: 'Detail ' to 'Detail'\n",
      "  ogr_write(\n",
      "c:\\Users\\kanzi\\AppData\\Local\\Programs\\Python\\Python312\\Lib\\site-packages\\pyogrio\\raw.py:723: RuntimeWarning: Normalized/laundered field name: 'Lokasi ' to 'Lokasi'\n",
      "  ogr_write(\n"
     ]
    },
    {
     "name": "stdout",
     "output_type": "stream",
     "text": [
      "Removing 995 blank rows from 'MARKA'\n",
      "Processing 'MARKA' as MultiPoint (MARKA sheet)\n",
      "❌ Error processing Format Baru 26.A. Sp. Surade - Ujunggenteng.xlsx: None\n",
      "\n",
      "[17/29] Processing: Format Baru 28.A. Cibadak - Cikidang - Pelabuhan Ratu.xlsx\n"
     ]
    },
    {
     "name": "stderr",
     "output_type": "stream",
     "text": [
      "c:\\Users\\kanzi\\AppData\\Local\\Programs\\Python\\Python312\\Lib\\site-packages\\openpyxl\\worksheet\\_reader.py:329: UserWarning: Conditional Formatting extension is not supported and will be removed\n",
      "  warn(msg)\n"
     ]
    },
    {
     "name": "stdout",
     "output_type": "stream",
     "text": [
      "Removing 2 blank rows from 'RAMBU'\n",
      "Processing 'RAMBU' as Point geometry (regular sheet)\n",
      "Spatial join completed - Added NAMOBJ column with city names\n",
      "✅ Saved: C:\\Users\\kanzi\\Documents\\Part Time Job\\Hasil Export\\Extract Shapefile\\Kabupaten Garut\\Jalan Eksisting\\Format Baru 28.A. Cibadak - Cikidang - Pelabuhan Ratu_RAMBU.shp\n",
      "✅ Applied QML style: C:\\Users\\kanzi\\Documents\\Part Time Job\\Hasil Export\\Extract Shapefile\\Kabupaten Garut\\Jalan Eksisting\\Format Baru 28.A. Cibadak - Cikidang - Pelabuhan Ratu_RAMBU.qml\n",
      "✅ Saved: C:\\Users\\kanzi\\Documents\\Part Time Job\\Hasil Export\\Extract Shapefile\\Kabupaten Sukabumi\\Jalan Eksisting\\Format Baru 28.A. Cibadak - Cikidang - Pelabuhan Ratu_RAMBU.shp\n",
      "✅ Applied QML style: C:\\Users\\kanzi\\Documents\\Part Time Job\\Hasil Export\\Extract Shapefile\\Kabupaten Sukabumi\\Jalan Eksisting\\Format Baru 28.A. Cibadak - Cikidang - Pelabuhan Ratu_RAMBU.qml\n",
      "Removing 731 blank rows from 'PJU'\n",
      "Processing 'PJU' as Point geometry (regular sheet)\n",
      "❌ Error processing Format Baru 28.A. Cibadak - Cikidang - Pelabuhan Ratu.xlsx: could not convert string to float: ' '\n",
      "\n",
      "[18/29] Processing: Format Baru 29.A. Sp. Karanghawu - Bts. Prov. Banten (Cikotok).xlsx\n"
     ]
    },
    {
     "name": "stderr",
     "output_type": "stream",
     "text": [
      "c:\\Users\\kanzi\\AppData\\Local\\Programs\\Python\\Python312\\Lib\\site-packages\\pyogrio\\raw.py:723: RuntimeWarning: Normalized/laundered field name: 'Detail ' to 'Detail'\n",
      "  ogr_write(\n",
      "c:\\Users\\kanzi\\AppData\\Local\\Programs\\Python\\Python312\\Lib\\site-packages\\pyogrio\\raw.py:723: RuntimeWarning: Normalized/laundered field name: 'Gambar ' to 'Gambar'\n",
      "  ogr_write(\n",
      "c:\\Users\\kanzi\\AppData\\Local\\Programs\\Python\\Python312\\Lib\\site-packages\\pyogrio\\raw.py:723: RuntimeWarning: Normalized/laundered field name: 'Lokasi ' to 'Lokasi'\n",
      "  ogr_write(\n",
      "c:\\Users\\kanzi\\AppData\\Local\\Programs\\Python\\Python312\\Lib\\site-packages\\pyogrio\\raw.py:723: RuntimeWarning: Normalized/laundered field name: 'Detail ' to 'Detail'\n",
      "  ogr_write(\n",
      "c:\\Users\\kanzi\\AppData\\Local\\Programs\\Python\\Python312\\Lib\\site-packages\\pyogrio\\raw.py:723: RuntimeWarning: Normalized/laundered field name: 'Gambar ' to 'Gambar'\n",
      "  ogr_write(\n",
      "c:\\Users\\kanzi\\AppData\\Local\\Programs\\Python\\Python312\\Lib\\site-packages\\pyogrio\\raw.py:723: RuntimeWarning: Normalized/laundered field name: 'Lokasi ' to 'Lokasi'\n",
      "  ogr_write(\n",
      "c:\\Users\\kanzi\\AppData\\Local\\Programs\\Python\\Python312\\Lib\\site-packages\\pyogrio\\raw.py:723: RuntimeWarning: Value 1066545922 of field Column__1 of feature 71 not successfully written. Possibly due to too larger number with respect to field width\n",
      "  ogr_write(\n",
      "c:\\Users\\kanzi\\AppData\\Local\\Programs\\Python\\Python312\\Lib\\site-packages\\openpyxl\\worksheet\\_reader.py:329: UserWarning: Conditional Formatting extension is not supported and will be removed\n",
      "  warn(msg)\n"
     ]
    },
    {
     "name": "stdout",
     "output_type": "stream",
     "text": [
      "Removing 76 blank rows from 'RAMBU'\n",
      "Processing 'RAMBU' as Point geometry (regular sheet)\n",
      "Spatial join completed - Added NAMOBJ column with city names\n",
      "✅ Saved: C:\\Users\\kanzi\\Documents\\Part Time Job\\Hasil Export\\Extract Shapefile\\Kabupaten Sukabumi\\Jalan Eksisting\\Format Baru 29.A. Sp. Karanghawu - Bts. Prov. Banten (Cikotok)_RAMBU.shp\n",
      "✅ Applied QML style: C:\\Users\\kanzi\\Documents\\Part Time Job\\Hasil Export\\Extract Shapefile\\Kabupaten Sukabumi\\Jalan Eksisting\\Format Baru 29.A. Sp. Karanghawu - Bts. Prov. Banten (Cikotok)_RAMBU.qml\n",
      "Removing 941 blank rows from 'PJU'\n",
      "Processing 'PJU' as Point geometry (regular sheet)\n"
     ]
    },
    {
     "name": "stderr",
     "output_type": "stream",
     "text": [
      "c:\\Users\\kanzi\\AppData\\Local\\Programs\\Python\\Python312\\Lib\\site-packages\\pyogrio\\raw.py:723: RuntimeWarning: Normalized/laundered field name: 'Detail ' to 'Detail'\n",
      "  ogr_write(\n",
      "c:\\Users\\kanzi\\AppData\\Local\\Programs\\Python\\Python312\\Lib\\site-packages\\pyogrio\\raw.py:723: RuntimeWarning: Normalized/laundered field name: 'Gambar ' to 'Gambar'\n",
      "  ogr_write(\n",
      "c:\\Users\\kanzi\\AppData\\Local\\Programs\\Python\\Python312\\Lib\\site-packages\\pyogrio\\raw.py:723: RuntimeWarning: Normalized/laundered field name: 'Lokasi ' to 'Lokasi'\n",
      "  ogr_write(\n"
     ]
    },
    {
     "name": "stdout",
     "output_type": "stream",
     "text": [
      "Spatial join completed - Added NAMOBJ column with city names\n",
      "✅ Saved: C:\\Users\\kanzi\\Documents\\Part Time Job\\Hasil Export\\Extract Shapefile\\Kabupaten Sukabumi\\Jalan Eksisting\\Format Baru 29.A. Sp. Karanghawu - Bts. Prov. Banten (Cikotok)_PJU.shp\n",
      "✅ Applied QML style: C:\\Users\\kanzi\\Documents\\Part Time Job\\Hasil Export\\Extract Shapefile\\Kabupaten Sukabumi\\Jalan Eksisting\\Format Baru 29.A. Sp. Karanghawu - Bts. Prov. Banten (Cikotok)_PJU.qml\n",
      "Removing 35 blank rows from 'RPPJ'\n",
      "Processing 'RPPJ' as Point geometry (regular sheet)\n",
      "Spatial join completed - Added NAMOBJ column with city names\n",
      "✅ Saved: C:\\Users\\kanzi\\Documents\\Part Time Job\\Hasil Export\\Extract Shapefile\\Kabupaten Sukabumi\\Jalan Eksisting\\Format Baru 29.A. Sp. Karanghawu - Bts. Prov. Banten (Cikotok)_RPPJ.shp\n",
      "✅ Applied QML style: C:\\Users\\kanzi\\Documents\\Part Time Job\\Hasil Export\\Extract Shapefile\\Kabupaten Sukabumi\\Jalan Eksisting\\Format Baru 29.A. Sp. Karanghawu - Bts. Prov. Banten (Cikotok)_RPPJ.qml\n",
      "Removing 978 blank rows from 'PAGAR PENGAMAN'\n",
      "Processing 'PAGAR PENGAMAN' as LineString (PAGAR PENGAMAN sheet)\n"
     ]
    },
    {
     "name": "stderr",
     "output_type": "stream",
     "text": [
      "c:\\Users\\kanzi\\AppData\\Local\\Programs\\Python\\Python312\\Lib\\site-packages\\pyogrio\\raw.py:723: RuntimeWarning: Normalized/laundered field name: 'Detail ' to 'Detail'\n",
      "  ogr_write(\n",
      "c:\\Users\\kanzi\\AppData\\Local\\Programs\\Python\\Python312\\Lib\\site-packages\\pyogrio\\raw.py:723: RuntimeWarning: Normalized/laundered field name: 'Lokasi ' to 'Lokasi'\n",
      "  ogr_write(\n",
      "c:\\Users\\kanzi\\AppData\\Local\\Programs\\Python\\Python312\\Lib\\site-packages\\pyogrio\\raw.py:723: RuntimeWarning: Normalized/laundered field name: 'Detail ' to 'Detail'\n",
      "  ogr_write(\n",
      "c:\\Users\\kanzi\\AppData\\Local\\Programs\\Python\\Python312\\Lib\\site-packages\\pyogrio\\raw.py:723: RuntimeWarning: Normalized/laundered field name: 'Gambar ' to 'Gambar'\n",
      "  ogr_write(\n",
      "c:\\Users\\kanzi\\AppData\\Local\\Programs\\Python\\Python312\\Lib\\site-packages\\pyogrio\\raw.py:723: RuntimeWarning: Normalized/laundered field name: 'Lokasi ' to 'Lokasi'\n",
      "  ogr_write(\n"
     ]
    },
    {
     "name": "stdout",
     "output_type": "stream",
     "text": [
      "Spatial join completed - Added NAMOBJ column with city names\n",
      "✅ Saved: C:\\Users\\kanzi\\Documents\\Part Time Job\\Hasil Export\\Extract Shapefile\\Kabupaten Bogor\\Jalan Eksisting\\Format Baru 29.A. Sp. Karanghawu - Bts. Prov. Banten (Cikotok)_PAGAR PENGAMAN.shp\n",
      "✅ Applied QML style: C:\\Users\\kanzi\\Documents\\Part Time Job\\Hasil Export\\Extract Shapefile\\Kabupaten Bogor\\Jalan Eksisting\\Format Baru 29.A. Sp. Karanghawu - Bts. Prov. Banten (Cikotok)_PAGAR PENGAMAN.qml\n",
      "✅ Saved: C:\\Users\\kanzi\\Documents\\Part Time Job\\Hasil Export\\Extract Shapefile\\Kabupaten Sukabumi\\Jalan Eksisting\\Format Baru 29.A. Sp. Karanghawu - Bts. Prov. Banten (Cikotok)_PAGAR PENGAMAN.shp\n",
      "✅ Applied QML style: C:\\Users\\kanzi\\Documents\\Part Time Job\\Hasil Export\\Extract Shapefile\\Kabupaten Sukabumi\\Jalan Eksisting\\Format Baru 29.A. Sp. Karanghawu - Bts. Prov. Banten (Cikotok)_PAGAR PENGAMAN.qml\n",
      "Removing 962 blank rows from 'MARKA'\n",
      "Processing 'MARKA' as MultiPoint (MARKA sheet)\n",
      "Spatial join completed - Added NAMOBJ column with city names\n",
      "✅ Saved: C:\\Users\\kanzi\\Documents\\Part Time Job\\Hasil Export\\Extract Shapefile\\Kabupaten Sukabumi\\Jalan Eksisting\\Format Baru 29.A. Sp. Karanghawu - Bts. Prov. Banten (Cikotok)_MARKA.shp\n",
      "✅ Applied QML style: C:\\Users\\kanzi\\Documents\\Part Time Job\\Hasil Export\\Extract Shapefile\\Kabupaten Sukabumi\\Jalan Eksisting\\Format Baru 29.A. Sp. Karanghawu - Bts. Prov. Banten (Cikotok)_MARKA.qml\n",
      "Removing 961 blank rows from 'WARNING LIGHT'\n",
      "Processing 'WARNING LIGHT' as Point geometry (regular sheet)\n",
      "Spatial join completed - Added NAMOBJ column with city names\n"
     ]
    },
    {
     "name": "stderr",
     "output_type": "stream",
     "text": [
      "c:\\Users\\kanzi\\AppData\\Local\\Programs\\Python\\Python312\\Lib\\site-packages\\pyogrio\\raw.py:723: RuntimeWarning: Normalized/laundered field name: 'Detail ' to 'Detail'\n",
      "  ogr_write(\n",
      "c:\\Users\\kanzi\\AppData\\Local\\Programs\\Python\\Python312\\Lib\\site-packages\\pyogrio\\raw.py:723: RuntimeWarning: Normalized/laundered field name: 'Lokasi ' to 'Lokasi'\n",
      "  ogr_write(\n",
      "c:\\Users\\kanzi\\AppData\\Local\\Programs\\Python\\Python312\\Lib\\site-packages\\pyogrio\\raw.py:723: RuntimeWarning: Normalized/laundered field name: 'Detail ' to 'Detail'\n",
      "  ogr_write(\n",
      "c:\\Users\\kanzi\\AppData\\Local\\Programs\\Python\\Python312\\Lib\\site-packages\\pyogrio\\raw.py:723: RuntimeWarning: Normalized/laundered field name: 'Lokasi ' to 'Lokasi'\n",
      "  ogr_write(\n",
      "c:\\Users\\kanzi\\AppData\\Local\\Programs\\Python\\Python312\\Lib\\site-packages\\pyogrio\\raw.py:723: RuntimeWarning: Normalized/laundered field name: 'Detail ' to 'Detail'\n",
      "  ogr_write(\n"
     ]
    },
    {
     "name": "stdout",
     "output_type": "stream",
     "text": [
      "Removing 995 blank rows from 'APILL'\n",
      "Processing 'APILL' as Point geometry (regular sheet)\n",
      "Spatial join completed - Added NAMOBJ column with city names\n",
      "Removing 995 blank rows from 'ZOSS'\n",
      "Processing 'ZOSS' as Point geometry (regular sheet)\n",
      "Spatial join completed - Added NAMOBJ column with city names\n",
      "Removing 994 blank rows from 'FAS PENYEBERANGAN'\n",
      "Processing 'FAS PENYEBERANGAN' as Point geometry (regular sheet)\n",
      "Spatial join completed - Added NAMOBJ column with city names\n",
      "✅ Saved: C:\\Users\\kanzi\\Documents\\Part Time Job\\Hasil Export\\Extract Shapefile\\Kabupaten Sukabumi\\Jalan Eksisting\\Format Baru 29.A. Sp. Karanghawu - Bts. Prov. Banten (Cikotok)_FAS PENYEBERANGAN.shp\n",
      "⚠️ No QML file found for FAS PENYEBERANGAN\n",
      "Removing 2 blank rows from 'RAMBU PORTABLE'\n",
      "⚠️ Skipping 'RAMBU PORTABLE' (No valid start coordinate columns found)\n",
      "Removing 2 blank rows from 'TRAFFIC CONE'\n",
      "⚠️ Skipping 'TRAFFIC CONE' (No valid start coordinate columns found)\n",
      "Removing 2 blank rows from 'WATER BARRIER'\n",
      "⚠️ Skipping 'WATER BARRIER' (No valid start coordinate columns found)\n"
     ]
    },
    {
     "name": "stderr",
     "output_type": "stream",
     "text": [
      "c:\\Users\\kanzi\\AppData\\Local\\Programs\\Python\\Python312\\Lib\\site-packages\\pyogrio\\raw.py:723: RuntimeWarning: Normalized/laundered field name: 'Detail ' to 'Detail'\n",
      "  ogr_write(\n",
      "c:\\Users\\kanzi\\AppData\\Local\\Programs\\Python\\Python312\\Lib\\site-packages\\pyogrio\\raw.py:723: RuntimeWarning: Normalized/laundered field name: 'Detail ' to 'Detail'\n",
      "  ogr_write(\n"
     ]
    },
    {
     "name": "stdout",
     "output_type": "stream",
     "text": [
      "Removing 980 blank rows from 'CERMIN TIKUNG'\n",
      "Processing 'CERMIN TIKUNG' as Point geometry (regular sheet)\n",
      "Spatial join completed - Added NAMOBJ column with city names\n",
      "✅ Saved: C:\\Users\\kanzi\\Documents\\Part Time Job\\Hasil Export\\Extract Shapefile\\Kabupaten Sukabumi\\Jalan Eksisting\\Format Baru 29.A. Sp. Karanghawu - Bts. Prov. Banten (Cikotok)_CERMIN TIKUNG.shp\n",
      "✅ Applied QML style: C:\\Users\\kanzi\\Documents\\Part Time Job\\Hasil Export\\Extract Shapefile\\Kabupaten Sukabumi\\Jalan Eksisting\\Format Baru 29.A. Sp. Karanghawu - Bts. Prov. Banten (Cikotok)_CERMIN TIKUNG.qml\n",
      "✅ Completed processing: Format Baru 29.A. Sp. Karanghawu - Bts. Prov. Banten (Cikotok).xlsx\n",
      "\n",
      "[19/29] Processing: Format Baru 32.A. Sp.3 Loji (Tegalnyampah) - Balewer - Puncak Darma.xlsx\n"
     ]
    },
    {
     "name": "stderr",
     "output_type": "stream",
     "text": [
      "c:\\Users\\kanzi\\AppData\\Local\\Programs\\Python\\Python312\\Lib\\site-packages\\openpyxl\\worksheet\\_reader.py:329: UserWarning: Conditional Formatting extension is not supported and will be removed\n",
      "  warn(msg)\n"
     ]
    },
    {
     "name": "stdout",
     "output_type": "stream",
     "text": [
      "Processing 'RAMBU' as Point geometry (regular sheet)\n",
      "Spatial join completed - Added NAMOBJ column with city names\n",
      "✅ Saved: C:\\Users\\kanzi\\Documents\\Part Time Job\\Hasil Export\\Extract Shapefile\\Kabupaten Karawang\\Jalan Eksisting\\Format Baru 32.A. Sp.3 Loji (Tegalnyampah) - Balewer - Puncak Darma_RAMBU.shp\n",
      "✅ Applied QML style: C:\\Users\\kanzi\\Documents\\Part Time Job\\Hasil Export\\Extract Shapefile\\Kabupaten Karawang\\Jalan Eksisting\\Format Baru 32.A. Sp.3 Loji (Tegalnyampah) - Balewer - Puncak Darma_RAMBU.qml\n",
      "✅ Saved: C:\\Users\\kanzi\\Documents\\Part Time Job\\Hasil Export\\Extract Shapefile\\Kabupaten Sukabumi\\Jalan Eksisting\\Format Baru 32.A. Sp.3 Loji (Tegalnyampah) - Balewer - Puncak Darma_RAMBU.shp\n",
      "✅ Applied QML style: C:\\Users\\kanzi\\Documents\\Part Time Job\\Hasil Export\\Extract Shapefile\\Kabupaten Sukabumi\\Jalan Eksisting\\Format Baru 32.A. Sp.3 Loji (Tegalnyampah) - Balewer - Puncak Darma_RAMBU.qml\n",
      "Removing 961 blank rows from 'PJU'\n",
      "Processing 'PJU' as Point geometry (regular sheet)\n"
     ]
    },
    {
     "name": "stderr",
     "output_type": "stream",
     "text": [
      "c:\\Users\\kanzi\\AppData\\Local\\Programs\\Python\\Python312\\Lib\\site-packages\\pyogrio\\raw.py:723: RuntimeWarning: Normalized/laundered field name: 'Detail ' to 'Detail'\n",
      "  ogr_write(\n",
      "c:\\Users\\kanzi\\AppData\\Local\\Programs\\Python\\Python312\\Lib\\site-packages\\pyogrio\\raw.py:723: RuntimeWarning: Normalized/laundered field name: 'Gambar ' to 'Gambar'\n",
      "  ogr_write(\n",
      "c:\\Users\\kanzi\\AppData\\Local\\Programs\\Python\\Python312\\Lib\\site-packages\\pyogrio\\raw.py:723: RuntimeWarning: Normalized/laundered field name: 'Lokasi ' to 'Lokasi'\n",
      "  ogr_write(\n",
      "c:\\Users\\kanzi\\AppData\\Local\\Programs\\Python\\Python312\\Lib\\site-packages\\pyogrio\\raw.py:723: RuntimeWarning: Normalized/laundered field name: 'Detail ' to 'Detail'\n",
      "  ogr_write(\n",
      "c:\\Users\\kanzi\\AppData\\Local\\Programs\\Python\\Python312\\Lib\\site-packages\\pyogrio\\raw.py:723: RuntimeWarning: Normalized/laundered field name: 'Gambar ' to 'Gambar'\n",
      "  ogr_write(\n",
      "c:\\Users\\kanzi\\AppData\\Local\\Programs\\Python\\Python312\\Lib\\site-packages\\pyogrio\\raw.py:723: RuntimeWarning: Normalized/laundered field name: 'Lokasi ' to 'Lokasi'\n",
      "  ogr_write(\n"
     ]
    },
    {
     "name": "stdout",
     "output_type": "stream",
     "text": [
      "Spatial join completed - Added NAMOBJ column with city names\n",
      "✅ Saved: C:\\Users\\kanzi\\Documents\\Part Time Job\\Hasil Export\\Extract Shapefile\\Kabupaten Sukabumi\\Jalan Eksisting\\Format Baru 32.A. Sp.3 Loji (Tegalnyampah) - Balewer - Puncak Darma_PJU.shp\n",
      "✅ Applied QML style: C:\\Users\\kanzi\\Documents\\Part Time Job\\Hasil Export\\Extract Shapefile\\Kabupaten Sukabumi\\Jalan Eksisting\\Format Baru 32.A. Sp.3 Loji (Tegalnyampah) - Balewer - Puncak Darma_PJU.qml\n",
      "Processing 'RPPJ' as Point geometry (regular sheet)\n",
      "Spatial join completed - Added NAMOBJ column with city names\n",
      "Removing 938 blank rows from 'PAGAR PENGAMAN'\n"
     ]
    },
    {
     "name": "stderr",
     "output_type": "stream",
     "text": [
      "c:\\Users\\kanzi\\AppData\\Local\\Programs\\Python\\Python312\\Lib\\site-packages\\pyogrio\\raw.py:723: RuntimeWarning: Normalized/laundered field name: 'Detail ' to 'Detail'\n",
      "  ogr_write(\n",
      "c:\\Users\\kanzi\\AppData\\Local\\Programs\\Python\\Python312\\Lib\\site-packages\\pyogrio\\raw.py:723: RuntimeWarning: Normalized/laundered field name: 'Lokasi ' to 'Lokasi'\n",
      "  ogr_write(\n"
     ]
    },
    {
     "name": "stdout",
     "output_type": "stream",
     "text": [
      "Processing 'PAGAR PENGAMAN' as LineString (PAGAR PENGAMAN sheet)\n",
      "Spatial join completed - Added NAMOBJ column with city names\n",
      "✅ Saved: C:\\Users\\kanzi\\Documents\\Part Time Job\\Hasil Export\\Extract Shapefile\\Kabupaten Sukabumi\\Jalan Eksisting\\Format Baru 32.A. Sp.3 Loji (Tegalnyampah) - Balewer - Puncak Darma_PAGAR PENGAMAN.shp\n",
      "✅ Applied QML style: C:\\Users\\kanzi\\Documents\\Part Time Job\\Hasil Export\\Extract Shapefile\\Kabupaten Sukabumi\\Jalan Eksisting\\Format Baru 32.A. Sp.3 Loji (Tegalnyampah) - Balewer - Puncak Darma_PAGAR PENGAMAN.qml\n",
      "Removing 963 blank rows from 'MARKA'\n",
      "Processing 'MARKA' as MultiPoint (MARKA sheet)\n",
      "❌ Error processing Format Baru 32.A. Sp.3 Loji (Tegalnyampah) - Balewer - Puncak Darma.xlsx: None\n",
      "\n",
      "[20/29] Processing: Format Baru 38.A. Siliwangi Kota Bogor.xlsx\n"
     ]
    },
    {
     "name": "stderr",
     "output_type": "stream",
     "text": [
      "c:\\Users\\kanzi\\AppData\\Local\\Programs\\Python\\Python312\\Lib\\site-packages\\pyogrio\\raw.py:723: RuntimeWarning: Normalized/laundered field name: 'Detail ' to 'Detail'\n",
      "  ogr_write(\n",
      "c:\\Users\\kanzi\\AppData\\Local\\Programs\\Python\\Python312\\Lib\\site-packages\\pyogrio\\raw.py:723: RuntimeWarning: Normalized/laundered field name: 'Lokasi ' to 'Lokasi'\n",
      "  ogr_write(\n",
      "c:\\Users\\kanzi\\AppData\\Local\\Programs\\Python\\Python312\\Lib\\site-packages\\openpyxl\\worksheet\\_reader.py:329: UserWarning: Conditional Formatting extension is not supported and will be removed\n",
      "  warn(msg)\n"
     ]
    },
    {
     "name": "stdout",
     "output_type": "stream",
     "text": [
      "Removing 797 blank rows from 'PJU'\n",
      "Processing 'PJU' as Point geometry (regular sheet)\n",
      "Spatial join completed - Added NAMOBJ column with city names\n",
      "✅ Saved: C:\\Users\\kanzi\\Documents\\Part Time Job\\Hasil Export\\Extract Shapefile\\Kota Bogor\\Jalan Eksisting\\Format Baru 38.A. Siliwangi Kota Bogor_PJU.shp\n",
      "✅ Applied QML style: C:\\Users\\kanzi\\Documents\\Part Time Job\\Hasil Export\\Extract Shapefile\\Kota Bogor\\Jalan Eksisting\\Format Baru 38.A. Siliwangi Kota Bogor_PJU.qml\n",
      "Removing 9 blank rows from 'RAMBU'\n",
      "Processing 'RAMBU' as Point geometry (regular sheet)\n",
      "Spatial join completed - Added NAMOBJ column with city names\n",
      "✅ Saved: C:\\Users\\kanzi\\Documents\\Part Time Job\\Hasil Export\\Extract Shapefile\\Kota Bogor\\Jalan Eksisting\\Format Baru 38.A. Siliwangi Kota Bogor_RAMBU.shp\n",
      "✅ Applied QML style: C:\\Users\\kanzi\\Documents\\Part Time Job\\Hasil Export\\Extract Shapefile\\Kota Bogor\\Jalan Eksisting\\Format Baru 38.A. Siliwangi Kota Bogor_RAMBU.qml\n",
      "Removing 30 blank rows from 'RPPJ'\n",
      "Processing 'RPPJ' as Point geometry (regular sheet)\n",
      "Spatial join completed - Added NAMOBJ column with city names\n",
      "✅ Saved: C:\\Users\\kanzi\\Documents\\Part Time Job\\Hasil Export\\Extract Shapefile\\Kota Bogor\\Jalan Eksisting\\Format Baru 38.A. Siliwangi Kota Bogor_RPPJ.shp\n",
      "✅ Applied QML style: C:\\Users\\kanzi\\Documents\\Part Time Job\\Hasil Export\\Extract Shapefile\\Kota Bogor\\Jalan Eksisting\\Format Baru 38.A. Siliwangi Kota Bogor_RPPJ.qml\n"
     ]
    },
    {
     "name": "stderr",
     "output_type": "stream",
     "text": [
      "c:\\Users\\kanzi\\AppData\\Local\\Programs\\Python\\Python312\\Lib\\site-packages\\pyogrio\\raw.py:723: RuntimeWarning: Normalized/laundered field name: 'Detail ' to 'Detail'\n",
      "  ogr_write(\n",
      "c:\\Users\\kanzi\\AppData\\Local\\Programs\\Python\\Python312\\Lib\\site-packages\\pyogrio\\raw.py:723: RuntimeWarning: Normalized/laundered field name: 'Lokasi ' to 'Lokasi'\n",
      "  ogr_write(\n",
      "c:\\Users\\kanzi\\AppData\\Local\\Programs\\Python\\Python312\\Lib\\site-packages\\pyogrio\\raw.py:723: RuntimeWarning: Normalized/laundered field name: 'Detail ' to 'Detail'\n",
      "  ogr_write(\n",
      "c:\\Users\\kanzi\\AppData\\Local\\Programs\\Python\\Python312\\Lib\\site-packages\\pyogrio\\raw.py:723: RuntimeWarning: Normalized/laundered field name: 'Gambar ' to 'Gambar'\n",
      "  ogr_write(\n",
      "c:\\Users\\kanzi\\AppData\\Local\\Programs\\Python\\Python312\\Lib\\site-packages\\pyogrio\\raw.py:723: RuntimeWarning: Normalized/laundered field name: 'Lokasi ' to 'Lokasi'\n",
      "  ogr_write(\n",
      "c:\\Users\\kanzi\\AppData\\Local\\Programs\\Python\\Python312\\Lib\\site-packages\\pyogrio\\raw.py:723: RuntimeWarning: Normalized/laundered field name: 'Detail ' to 'Detail'\n",
      "  ogr_write(\n",
      "c:\\Users\\kanzi\\AppData\\Local\\Programs\\Python\\Python312\\Lib\\site-packages\\pyogrio\\raw.py:723: RuntimeWarning: Normalized/laundered field name: 'Gambar ' to 'Gambar'\n",
      "  ogr_write(\n",
      "c:\\Users\\kanzi\\AppData\\Local\\Programs\\Python\\Python312\\Lib\\site-packages\\pyogrio\\raw.py:723: RuntimeWarning: Normalized/laundered field name: 'Lokasi ' to 'Lokasi'\n",
      "  ogr_write(\n"
     ]
    },
    {
     "name": "stdout",
     "output_type": "stream",
     "text": [
      "Removing 964 blank rows from 'PAGAR PENGAMAN'\n",
      "Processing 'PAGAR PENGAMAN' as LineString (PAGAR PENGAMAN sheet)\n",
      "Spatial join completed - Added NAMOBJ column with city names\n",
      "Removing 994 blank rows from 'MARKA'\n",
      "Processing 'MARKA' as MultiPoint (MARKA sheet)\n",
      "❌ Error processing Format Baru 38.A. Siliwangi Kota Bogor.xlsx: None\n",
      "\n",
      "[21/29] Processing: Format Baru 39.A. Lawang Gintung Kota Bogor.xlsx\n"
     ]
    },
    {
     "name": "stderr",
     "output_type": "stream",
     "text": [
      "c:\\Users\\kanzi\\AppData\\Local\\Programs\\Python\\Python312\\Lib\\site-packages\\openpyxl\\worksheet\\_reader.py:329: UserWarning: Conditional Formatting extension is not supported and will be removed\n",
      "  warn(msg)\n"
     ]
    },
    {
     "name": "stdout",
     "output_type": "stream",
     "text": [
      "Removing 797 blank rows from 'PJU'\n",
      "Processing 'PJU' as Point geometry (regular sheet)\n",
      "Spatial join completed - Added NAMOBJ column with city names\n",
      "✅ Saved: C:\\Users\\kanzi\\Documents\\Part Time Job\\Hasil Export\\Extract Shapefile\\Kota Bogor\\Jalan Eksisting\\Format Baru 39.A. Lawang Gintung Kota Bogor_PJU.shp\n",
      "✅ Applied QML style: C:\\Users\\kanzi\\Documents\\Part Time Job\\Hasil Export\\Extract Shapefile\\Kota Bogor\\Jalan Eksisting\\Format Baru 39.A. Lawang Gintung Kota Bogor_PJU.qml\n",
      "Removing 9 blank rows from 'RAMBU'\n",
      "Processing 'RAMBU' as Point geometry (regular sheet)\n",
      "Spatial join completed - Added NAMOBJ column with city names\n",
      "✅ Saved: C:\\Users\\kanzi\\Documents\\Part Time Job\\Hasil Export\\Extract Shapefile\\Kota Bogor\\Jalan Eksisting\\Format Baru 39.A. Lawang Gintung Kota Bogor_RAMBU.shp\n",
      "✅ Applied QML style: C:\\Users\\kanzi\\Documents\\Part Time Job\\Hasil Export\\Extract Shapefile\\Kota Bogor\\Jalan Eksisting\\Format Baru 39.A. Lawang Gintung Kota Bogor_RAMBU.qml\n",
      "Removing 30 blank rows from 'RPPJ'\n",
      "Processing 'RPPJ' as Point geometry (regular sheet)\n",
      "Spatial join completed - Added NAMOBJ column with city names\n",
      "✅ Saved: C:\\Users\\kanzi\\Documents\\Part Time Job\\Hasil Export\\Extract Shapefile\\Kota Bogor\\Jalan Eksisting\\Format Baru 39.A. Lawang Gintung Kota Bogor_RPPJ.shp\n",
      "✅ Applied QML style: C:\\Users\\kanzi\\Documents\\Part Time Job\\Hasil Export\\Extract Shapefile\\Kota Bogor\\Jalan Eksisting\\Format Baru 39.A. Lawang Gintung Kota Bogor_RPPJ.qml\n"
     ]
    },
    {
     "name": "stderr",
     "output_type": "stream",
     "text": [
      "c:\\Users\\kanzi\\AppData\\Local\\Programs\\Python\\Python312\\Lib\\site-packages\\pyogrio\\raw.py:723: RuntimeWarning: Normalized/laundered field name: 'Detail ' to 'Detail'\n",
      "  ogr_write(\n",
      "c:\\Users\\kanzi\\AppData\\Local\\Programs\\Python\\Python312\\Lib\\site-packages\\pyogrio\\raw.py:723: RuntimeWarning: Normalized/laundered field name: 'Lokasi ' to 'Lokasi'\n",
      "  ogr_write(\n",
      "c:\\Users\\kanzi\\AppData\\Local\\Programs\\Python\\Python312\\Lib\\site-packages\\pyogrio\\raw.py:723: RuntimeWarning: Normalized/laundered field name: 'Detail ' to 'Detail'\n",
      "  ogr_write(\n",
      "c:\\Users\\kanzi\\AppData\\Local\\Programs\\Python\\Python312\\Lib\\site-packages\\pyogrio\\raw.py:723: RuntimeWarning: Normalized/laundered field name: 'Gambar ' to 'Gambar'\n",
      "  ogr_write(\n",
      "c:\\Users\\kanzi\\AppData\\Local\\Programs\\Python\\Python312\\Lib\\site-packages\\pyogrio\\raw.py:723: RuntimeWarning: Normalized/laundered field name: 'Lokasi ' to 'Lokasi'\n",
      "  ogr_write(\n",
      "c:\\Users\\kanzi\\AppData\\Local\\Programs\\Python\\Python312\\Lib\\site-packages\\pyogrio\\raw.py:723: RuntimeWarning: Normalized/laundered field name: 'Detail ' to 'Detail'\n",
      "  ogr_write(\n",
      "c:\\Users\\kanzi\\AppData\\Local\\Programs\\Python\\Python312\\Lib\\site-packages\\pyogrio\\raw.py:723: RuntimeWarning: Normalized/laundered field name: 'Gambar ' to 'Gambar'\n",
      "  ogr_write(\n",
      "c:\\Users\\kanzi\\AppData\\Local\\Programs\\Python\\Python312\\Lib\\site-packages\\pyogrio\\raw.py:723: RuntimeWarning: Normalized/laundered field name: 'Lokasi ' to 'Lokasi'\n",
      "  ogr_write(\n"
     ]
    },
    {
     "name": "stdout",
     "output_type": "stream",
     "text": [
      "Removing 964 blank rows from 'PAGAR PENGAMAN'\n",
      "Processing 'PAGAR PENGAMAN' as LineString (PAGAR PENGAMAN sheet)\n",
      "Spatial join completed - Added NAMOBJ column with city names\n",
      "Removing 994 blank rows from 'MARKA'\n",
      "Processing 'MARKA' as MultiPoint (MARKA sheet)\n",
      "❌ Error processing Format Baru 39.A. Lawang Gintung Kota Bogor.xlsx: None\n",
      "\n",
      "[22/29] Processing: Format Baru 41.A. Jl. Empang - Jl. R. Saleh Sarief Bustaman.xlsx\n"
     ]
    },
    {
     "name": "stderr",
     "output_type": "stream",
     "text": [
      "c:\\Users\\kanzi\\AppData\\Local\\Programs\\Python\\Python312\\Lib\\site-packages\\openpyxl\\worksheet\\_reader.py:329: UserWarning: Conditional Formatting extension is not supported and will be removed\n",
      "  warn(msg)\n"
     ]
    },
    {
     "name": "stdout",
     "output_type": "stream",
     "text": [
      "Removing 797 blank rows from 'PJU'\n",
      "Processing 'PJU' as Point geometry (regular sheet)\n",
      "Spatial join completed - Added NAMOBJ column with city names\n",
      "✅ Saved: C:\\Users\\kanzi\\Documents\\Part Time Job\\Hasil Export\\Extract Shapefile\\Kota Bogor\\Jalan Eksisting\\Format Baru 41.A. Jl. Empang - Jl. R. Saleh Sarief Bustaman_PJU.shp\n",
      "✅ Applied QML style: C:\\Users\\kanzi\\Documents\\Part Time Job\\Hasil Export\\Extract Shapefile\\Kota Bogor\\Jalan Eksisting\\Format Baru 41.A. Jl. Empang - Jl. R. Saleh Sarief Bustaman_PJU.qml\n",
      "Removing 9 blank rows from 'RAMBU'\n",
      "Processing 'RAMBU' as Point geometry (regular sheet)\n",
      "Spatial join completed - Added NAMOBJ column with city names\n",
      "✅ Saved: C:\\Users\\kanzi\\Documents\\Part Time Job\\Hasil Export\\Extract Shapefile\\Kota Bogor\\Jalan Eksisting\\Format Baru 41.A. Jl. Empang - Jl. R. Saleh Sarief Bustaman_RAMBU.shp\n",
      "✅ Applied QML style: C:\\Users\\kanzi\\Documents\\Part Time Job\\Hasil Export\\Extract Shapefile\\Kota Bogor\\Jalan Eksisting\\Format Baru 41.A. Jl. Empang - Jl. R. Saleh Sarief Bustaman_RAMBU.qml\n",
      "Removing 30 blank rows from 'RPPJ'\n",
      "Processing 'RPPJ' as Point geometry (regular sheet)\n",
      "Spatial join completed - Added NAMOBJ column with city names\n",
      "✅ Saved: C:\\Users\\kanzi\\Documents\\Part Time Job\\Hasil Export\\Extract Shapefile\\Kota Bogor\\Jalan Eksisting\\Format Baru 41.A. Jl. Empang - Jl. R. Saleh Sarief Bustaman_RPPJ.shp\n",
      "✅ Applied QML style: C:\\Users\\kanzi\\Documents\\Part Time Job\\Hasil Export\\Extract Shapefile\\Kota Bogor\\Jalan Eksisting\\Format Baru 41.A. Jl. Empang - Jl. R. Saleh Sarief Bustaman_RPPJ.qml\n"
     ]
    },
    {
     "name": "stderr",
     "output_type": "stream",
     "text": [
      "c:\\Users\\kanzi\\AppData\\Local\\Programs\\Python\\Python312\\Lib\\site-packages\\pyogrio\\raw.py:723: RuntimeWarning: Normalized/laundered field name: 'Detail ' to 'Detail'\n",
      "  ogr_write(\n",
      "c:\\Users\\kanzi\\AppData\\Local\\Programs\\Python\\Python312\\Lib\\site-packages\\pyogrio\\raw.py:723: RuntimeWarning: Normalized/laundered field name: 'Lokasi ' to 'Lokasi'\n",
      "  ogr_write(\n",
      "c:\\Users\\kanzi\\AppData\\Local\\Programs\\Python\\Python312\\Lib\\site-packages\\pyogrio\\raw.py:723: RuntimeWarning: Normalized/laundered field name: 'Detail ' to 'Detail'\n",
      "  ogr_write(\n",
      "c:\\Users\\kanzi\\AppData\\Local\\Programs\\Python\\Python312\\Lib\\site-packages\\pyogrio\\raw.py:723: RuntimeWarning: Normalized/laundered field name: 'Gambar ' to 'Gambar'\n",
      "  ogr_write(\n",
      "c:\\Users\\kanzi\\AppData\\Local\\Programs\\Python\\Python312\\Lib\\site-packages\\pyogrio\\raw.py:723: RuntimeWarning: Normalized/laundered field name: 'Lokasi ' to 'Lokasi'\n",
      "  ogr_write(\n",
      "c:\\Users\\kanzi\\AppData\\Local\\Programs\\Python\\Python312\\Lib\\site-packages\\pyogrio\\raw.py:723: RuntimeWarning: Normalized/laundered field name: 'Detail ' to 'Detail'\n",
      "  ogr_write(\n",
      "c:\\Users\\kanzi\\AppData\\Local\\Programs\\Python\\Python312\\Lib\\site-packages\\pyogrio\\raw.py:723: RuntimeWarning: Normalized/laundered field name: 'Gambar ' to 'Gambar'\n",
      "  ogr_write(\n",
      "c:\\Users\\kanzi\\AppData\\Local\\Programs\\Python\\Python312\\Lib\\site-packages\\pyogrio\\raw.py:723: RuntimeWarning: Normalized/laundered field name: 'Lokasi ' to 'Lokasi'\n",
      "  ogr_write(\n"
     ]
    },
    {
     "name": "stdout",
     "output_type": "stream",
     "text": [
      "Removing 964 blank rows from 'PAGAR PENGAMAN'\n",
      "Processing 'PAGAR PENGAMAN' as LineString (PAGAR PENGAMAN sheet)\n",
      "Spatial join completed - Added NAMOBJ column with city names\n",
      "Removing 994 blank rows from 'MARKA'\n",
      "Processing 'MARKA' as MultiPoint (MARKA sheet)\n",
      "❌ Error processing Format Baru 41.A. Jl. Empang - Jl. R. Saleh Sarief Bustaman.xlsx: None\n",
      "\n",
      "[23/29] Processing: Format Baru 5.A. Tegalloa - BagedJagatamu - (Bts Kab. KarawangKab. Bogor).xlsx\n"
     ]
    },
    {
     "name": "stderr",
     "output_type": "stream",
     "text": [
      "c:\\Users\\kanzi\\AppData\\Local\\Programs\\Python\\Python312\\Lib\\site-packages\\openpyxl\\worksheet\\_reader.py:329: UserWarning: Conditional Formatting extension is not supported and will be removed\n",
      "  warn(msg)\n"
     ]
    },
    {
     "name": "stdout",
     "output_type": "stream",
     "text": [
      "Processing 'RAMBU' as Point geometry (regular sheet)\n",
      "Spatial join completed - Added NAMOBJ column with city names\n",
      "✅ Saved: C:\\Users\\kanzi\\Documents\\Part Time Job\\Hasil Export\\Extract Shapefile\\Kabupaten Karawang\\Jalan Eksisting\\Format Baru 5.A. Tegalloa - BagedJagatamu - (Bts Kab. KarawangKab. Bogor)_RAMBU.shp\n",
      "✅ Applied QML style: C:\\Users\\kanzi\\Documents\\Part Time Job\\Hasil Export\\Extract Shapefile\\Kabupaten Karawang\\Jalan Eksisting\\Format Baru 5.A. Tegalloa - BagedJagatamu - (Bts Kab. KarawangKab. Bogor)_RAMBU.qml\n",
      "Removing 945 blank rows from 'PJU'\n",
      "Processing 'PJU' as Point geometry (regular sheet)\n",
      "Spatial join completed - Added NAMOBJ column with city names\n",
      "✅ Saved: C:\\Users\\kanzi\\Documents\\Part Time Job\\Hasil Export\\Extract Shapefile\\Kabupaten Karawang\\Jalan Eksisting\\Format Baru 5.A. Tegalloa - BagedJagatamu - (Bts Kab. KarawangKab. Bogor)_PJU.shp\n",
      "✅ Applied QML style: C:\\Users\\kanzi\\Documents\\Part Time Job\\Hasil Export\\Extract Shapefile\\Kabupaten Karawang\\Jalan Eksisting\\Format Baru 5.A. Tegalloa - BagedJagatamu - (Bts Kab. KarawangKab. Bogor)_PJU.qml\n",
      "Processing 'RPPJ' as Point geometry (regular sheet)\n",
      "Spatial join completed - Added NAMOBJ column with city names\n"
     ]
    },
    {
     "name": "stderr",
     "output_type": "stream",
     "text": [
      "c:\\Users\\kanzi\\AppData\\Local\\Programs\\Python\\Python312\\Lib\\site-packages\\pyogrio\\raw.py:723: RuntimeWarning: Normalized/laundered field name: 'Detail ' to 'Detail'\n",
      "  ogr_write(\n",
      "c:\\Users\\kanzi\\AppData\\Local\\Programs\\Python\\Python312\\Lib\\site-packages\\pyogrio\\raw.py:723: RuntimeWarning: Normalized/laundered field name: 'Gambar ' to 'Gambar'\n",
      "  ogr_write(\n",
      "c:\\Users\\kanzi\\AppData\\Local\\Programs\\Python\\Python312\\Lib\\site-packages\\pyogrio\\raw.py:723: RuntimeWarning: Normalized/laundered field name: 'Lokasi ' to 'Lokasi'\n",
      "  ogr_write(\n",
      "c:\\Users\\kanzi\\AppData\\Local\\Programs\\Python\\Python312\\Lib\\site-packages\\pyogrio\\raw.py:723: RuntimeWarning: Normalized/laundered field name: 'Detail ' to 'Detail'\n",
      "  ogr_write(\n",
      "c:\\Users\\kanzi\\AppData\\Local\\Programs\\Python\\Python312\\Lib\\site-packages\\pyogrio\\raw.py:723: RuntimeWarning: Normalized/laundered field name: 'Lokasi ' to 'Lokasi'\n",
      "  ogr_write(\n"
     ]
    },
    {
     "name": "stdout",
     "output_type": "stream",
     "text": [
      "Removing 961 blank rows from 'PAGAR PENGAMAN'\n",
      "Processing 'PAGAR PENGAMAN' as LineString (PAGAR PENGAMAN sheet)\n",
      "Spatial join completed - Added NAMOBJ column with city names\n",
      "Removing 961 blank rows from 'MARKA'\n",
      "Processing 'MARKA' as MultiPoint (MARKA sheet)\n",
      "❌ Error processing Format Baru 5.A. Tegalloa - BagedJagatamu - (Bts Kab. KarawangKab. Bogor).xlsx: None\n",
      "\n",
      "[24/29] Processing: Format Baru 57.A. Cibarusah - Cibucil.xlsx\n"
     ]
    },
    {
     "name": "stderr",
     "output_type": "stream",
     "text": [
      "c:\\Users\\kanzi\\AppData\\Local\\Programs\\Python\\Python312\\Lib\\site-packages\\openpyxl\\worksheet\\_reader.py:329: UserWarning: Conditional Formatting extension is not supported and will be removed\n",
      "  warn(msg)\n"
     ]
    },
    {
     "name": "stdout",
     "output_type": "stream",
     "text": [
      "Removing 22 blank rows from 'RAMBU'\n",
      "Processing 'RAMBU' as Point geometry (regular sheet)\n",
      "Spatial join completed - Added NAMOBJ column with city names\n",
      "✅ Saved: C:\\Users\\kanzi\\Documents\\Part Time Job\\Hasil Export\\Extract Shapefile\\Kabupaten Bogor\\Jalan Eksisting\\Format Baru 57.A. Cibarusah - Cibucil_RAMBU.shp\n",
      "✅ Applied QML style: C:\\Users\\kanzi\\Documents\\Part Time Job\\Hasil Export\\Extract Shapefile\\Kabupaten Bogor\\Jalan Eksisting\\Format Baru 57.A. Cibarusah - Cibucil_RAMBU.qml\n"
     ]
    },
    {
     "name": "stderr",
     "output_type": "stream",
     "text": [
      "c:\\Users\\kanzi\\AppData\\Local\\Programs\\Python\\Python312\\Lib\\site-packages\\pyogrio\\raw.py:723: RuntimeWarning: Normalized/laundered field name: 'Detail ' to 'Detail'\n",
      "  ogr_write(\n",
      "c:\\Users\\kanzi\\AppData\\Local\\Programs\\Python\\Python312\\Lib\\site-packages\\pyogrio\\raw.py:723: RuntimeWarning: Normalized/laundered field name: 'Gambar ' to 'Gambar'\n",
      "  ogr_write(\n",
      "c:\\Users\\kanzi\\AppData\\Local\\Programs\\Python\\Python312\\Lib\\site-packages\\pyogrio\\raw.py:723: RuntimeWarning: Normalized/laundered field name: 'Lokasi ' to 'Lokasi'\n",
      "  ogr_write(\n"
     ]
    },
    {
     "name": "stdout",
     "output_type": "stream",
     "text": [
      "Removing 979 blank rows from 'PJU'\n",
      "Processing 'PJU' as Point geometry (regular sheet)\n",
      "Spatial join completed - Added NAMOBJ column with city names\n",
      "✅ Saved: C:\\Users\\kanzi\\Documents\\Part Time Job\\Hasil Export\\Extract Shapefile\\Kabupaten Bogor\\Jalan Eksisting\\Format Baru 57.A. Cibarusah - Cibucil_PJU.shp\n",
      "✅ Applied QML style: C:\\Users\\kanzi\\Documents\\Part Time Job\\Hasil Export\\Extract Shapefile\\Kabupaten Bogor\\Jalan Eksisting\\Format Baru 57.A. Cibarusah - Cibucil_PJU.qml\n",
      "Processing 'RPPJ' as Point geometry (regular sheet)\n",
      "Spatial join completed - Added NAMOBJ column with city names\n",
      "Removing 961 blank rows from 'PAGAR PENGAMAN'\n",
      "Processing 'PAGAR PENGAMAN' as LineString (PAGAR PENGAMAN sheet)\n",
      "Spatial join completed - Added NAMOBJ column with city names\n"
     ]
    },
    {
     "name": "stderr",
     "output_type": "stream",
     "text": [
      "c:\\Users\\kanzi\\AppData\\Local\\Programs\\Python\\Python312\\Lib\\site-packages\\pyogrio\\raw.py:723: RuntimeWarning: Normalized/laundered field name: 'Detail ' to 'Detail'\n",
      "  ogr_write(\n",
      "c:\\Users\\kanzi\\AppData\\Local\\Programs\\Python\\Python312\\Lib\\site-packages\\pyogrio\\raw.py:723: RuntimeWarning: Normalized/laundered field name: 'Lokasi ' to 'Lokasi'\n",
      "  ogr_write(\n"
     ]
    },
    {
     "name": "stdout",
     "output_type": "stream",
     "text": [
      "Removing 994 blank rows from 'MARKA'\n",
      "Processing 'MARKA' as MultiPoint (MARKA sheet)\n",
      "Spatial join completed - Added NAMOBJ column with city names\n",
      "✅ Saved: C:\\Users\\kanzi\\Documents\\Part Time Job\\Hasil Export\\Extract Shapefile\\Kabupaten Bekasi\\Jalan Eksisting\\Format Baru 57.A. Cibarusah - Cibucil_MARKA.shp\n",
      "✅ Applied QML style: C:\\Users\\kanzi\\Documents\\Part Time Job\\Hasil Export\\Extract Shapefile\\Kabupaten Bekasi\\Jalan Eksisting\\Format Baru 57.A. Cibarusah - Cibucil_MARKA.qml\n",
      "✅ Saved: C:\\Users\\kanzi\\Documents\\Part Time Job\\Hasil Export\\Extract Shapefile\\Kabupaten Bogor\\Jalan Eksisting\\Format Baru 57.A. Cibarusah - Cibucil_MARKA.shp\n",
      "✅ Applied QML style: C:\\Users\\kanzi\\Documents\\Part Time Job\\Hasil Export\\Extract Shapefile\\Kabupaten Bogor\\Jalan Eksisting\\Format Baru 57.A. Cibarusah - Cibucil_MARKA.qml\n",
      "Removing 961 blank rows from 'WARNING LIGHT'\n"
     ]
    },
    {
     "name": "stderr",
     "output_type": "stream",
     "text": [
      "c:\\Users\\kanzi\\AppData\\Local\\Programs\\Python\\Python312\\Lib\\site-packages\\pyogrio\\raw.py:723: RuntimeWarning: Normalized/laundered field name: 'Detail ' to 'Detail'\n",
      "  ogr_write(\n",
      "c:\\Users\\kanzi\\AppData\\Local\\Programs\\Python\\Python312\\Lib\\site-packages\\pyogrio\\raw.py:723: RuntimeWarning: Normalized/laundered field name: 'Detail ' to 'Detail'\n",
      "  ogr_write(\n"
     ]
    },
    {
     "name": "stdout",
     "output_type": "stream",
     "text": [
      "Processing 'WARNING LIGHT' as Point geometry (regular sheet)\n",
      "Spatial join completed - Added NAMOBJ column with city names\n",
      "Removing 993 blank rows from 'APILL'\n",
      "Processing 'APILL' as Point geometry (regular sheet)\n",
      "Spatial join completed - Added NAMOBJ column with city names\n",
      "✅ Saved: C:\\Users\\kanzi\\Documents\\Part Time Job\\Hasil Export\\Extract Shapefile\\Kabupaten Bogor\\Jalan Eksisting\\Format Baru 57.A. Cibarusah - Cibucil_APILL.shp\n",
      "✅ Applied QML style: C:\\Users\\kanzi\\Documents\\Part Time Job\\Hasil Export\\Extract Shapefile\\Kabupaten Bogor\\Jalan Eksisting\\Format Baru 57.A. Cibarusah - Cibucil_APILL.qml\n",
      "Removing 961 blank rows from 'ZOSS'\n",
      "Processing 'ZOSS' as Point geometry (regular sheet)\n",
      "Spatial join completed - Added NAMOBJ column with city names\n",
      "Removing 961 blank rows from 'FAS PENYEBERANGAN'\n",
      "Processing 'FAS PENYEBERANGAN' as Point geometry (regular sheet)\n",
      "Spatial join completed - Added NAMOBJ column with city names\n",
      "⚠️ Skipping 'RAMBU PORTABLE' (No valid start coordinate columns found)\n"
     ]
    },
    {
     "name": "stderr",
     "output_type": "stream",
     "text": [
      "c:\\Users\\kanzi\\AppData\\Local\\Programs\\Python\\Python312\\Lib\\site-packages\\pyogrio\\raw.py:723: RuntimeWarning: Normalized/laundered field name: 'Detail ' to 'Detail'\n",
      "  ogr_write(\n",
      "c:\\Users\\kanzi\\AppData\\Local\\Programs\\Python\\Python312\\Lib\\site-packages\\pyogrio\\raw.py:723: RuntimeWarning: Normalized/laundered field name: 'Lokasi ' to 'Lokasi'\n",
      "  ogr_write(\n"
     ]
    },
    {
     "name": "stdout",
     "output_type": "stream",
     "text": [
      "⚠️ Skipping 'TRAFFIC CONE' (No valid start coordinate columns found)\n",
      "⚠️ Skipping 'WATER BARRIER' (No valid start coordinate columns found)\n",
      "Removing 961 blank rows from 'CERMIN TIKUNG'\n",
      "Processing 'CERMIN TIKUNG' as Point geometry (regular sheet)\n",
      "⚠️ Skipping 'CERMIN TIKUNG' (No valid geometry found)\n",
      "✅ Completed processing: Format Baru 57.A. Cibarusah - Cibucil.xlsx\n",
      "\n",
      "[25/29] Processing: Format Baru 59.A. Cariu - Jagatamu Baged (Bts. Kab. Bogor Karawang).xlsx\n"
     ]
    },
    {
     "name": "stderr",
     "output_type": "stream",
     "text": [
      "c:\\Users\\kanzi\\AppData\\Local\\Programs\\Python\\Python312\\Lib\\site-packages\\openpyxl\\worksheet\\_reader.py:329: UserWarning: Conditional Formatting extension is not supported and will be removed\n",
      "  warn(msg)\n"
     ]
    },
    {
     "name": "stdout",
     "output_type": "stream",
     "text": [
      "Processing 'RAMBU' as Point geometry (regular sheet)\n",
      "Spatial join completed - Added NAMOBJ column with city names\n",
      "✅ Saved: C:\\Users\\kanzi\\Documents\\Part Time Job\\Hasil Export\\Extract Shapefile\\Kabupaten Bogor\\Jalan Eksisting\\Format Baru 59.A. Cariu - Jagatamu Baged (Bts. Kab. Bogor Karawang)_RAMBU.shp\n",
      "✅ Applied QML style: C:\\Users\\kanzi\\Documents\\Part Time Job\\Hasil Export\\Extract Shapefile\\Kabupaten Bogor\\Jalan Eksisting\\Format Baru 59.A. Cariu - Jagatamu Baged (Bts. Kab. Bogor Karawang)_RAMBU.qml\n",
      "Removing 940 blank rows from 'PJU'\n",
      "Processing 'PJU' as Point geometry (regular sheet)\n",
      "Spatial join completed - Added NAMOBJ column with city names\n",
      "✅ Saved: C:\\Users\\kanzi\\Documents\\Part Time Job\\Hasil Export\\Extract Shapefile\\Kabupaten Bogor\\Jalan Eksisting\\Format Baru 59.A. Cariu - Jagatamu Baged (Bts. Kab. Bogor Karawang)_PJU.shp\n",
      "✅ Applied QML style: C:\\Users\\kanzi\\Documents\\Part Time Job\\Hasil Export\\Extract Shapefile\\Kabupaten Bogor\\Jalan Eksisting\\Format Baru 59.A. Cariu - Jagatamu Baged (Bts. Kab. Bogor Karawang)_PJU.qml\n",
      "Processing 'RPPJ' as Point geometry (regular sheet)\n",
      "Spatial join completed - Added NAMOBJ column with city names\n",
      "✅ Saved: C:\\Users\\kanzi\\Documents\\Part Time Job\\Hasil Export\\Extract Shapefile\\Kabupaten Bogor\\Jalan Eksisting\\Format Baru 59.A. Cariu - Jagatamu Baged (Bts. Kab. Bogor Karawang)_RPPJ.shp\n",
      "✅ Applied QML style: C:\\Users\\kanzi\\Documents\\Part Time Job\\Hasil Export\\Extract Shapefile\\Kabupaten Bogor\\Jalan Eksisting\\Format Baru 59.A. Cariu - Jagatamu Baged (Bts. Kab. Bogor Karawang)_RPPJ.qml\n"
     ]
    },
    {
     "name": "stderr",
     "output_type": "stream",
     "text": [
      "c:\\Users\\kanzi\\AppData\\Local\\Programs\\Python\\Python312\\Lib\\site-packages\\pyogrio\\raw.py:723: RuntimeWarning: Normalized/laundered field name: 'Detail ' to 'Detail'\n",
      "  ogr_write(\n",
      "c:\\Users\\kanzi\\AppData\\Local\\Programs\\Python\\Python312\\Lib\\site-packages\\pyogrio\\raw.py:723: RuntimeWarning: Normalized/laundered field name: 'Gambar ' to 'Gambar'\n",
      "  ogr_write(\n",
      "c:\\Users\\kanzi\\AppData\\Local\\Programs\\Python\\Python312\\Lib\\site-packages\\pyogrio\\raw.py:723: RuntimeWarning: Normalized/laundered field name: 'Lokasi ' to 'Lokasi'\n",
      "  ogr_write(\n",
      "c:\\Users\\kanzi\\AppData\\Local\\Programs\\Python\\Python312\\Lib\\site-packages\\pyogrio\\raw.py:723: RuntimeWarning: Normalized/laundered field name: 'Detail ' to 'Detail'\n",
      "  ogr_write(\n",
      "c:\\Users\\kanzi\\AppData\\Local\\Programs\\Python\\Python312\\Lib\\site-packages\\pyogrio\\raw.py:723: RuntimeWarning: Normalized/laundered field name: 'Lokasi ' to 'Lokasi'\n",
      "  ogr_write(\n",
      "c:\\Users\\kanzi\\AppData\\Local\\Programs\\Python\\Python312\\Lib\\site-packages\\pyogrio\\raw.py:723: RuntimeWarning: Normalized/laundered field name: 'Detail ' to 'Detail'\n",
      "  ogr_write(\n",
      "c:\\Users\\kanzi\\AppData\\Local\\Programs\\Python\\Python312\\Lib\\site-packages\\pyogrio\\raw.py:723: RuntimeWarning: Normalized/laundered field name: 'Gambar ' to 'Gambar'\n",
      "  ogr_write(\n",
      "c:\\Users\\kanzi\\AppData\\Local\\Programs\\Python\\Python312\\Lib\\site-packages\\pyogrio\\raw.py:723: RuntimeWarning: Normalized/laundered field name: 'Lokasi ' to 'Lokasi'\n",
      "  ogr_write(\n"
     ]
    },
    {
     "name": "stdout",
     "output_type": "stream",
     "text": [
      "Removing 961 blank rows from 'PAGAR PENGAMAN'\n",
      "Processing 'PAGAR PENGAMAN' as LineString (PAGAR PENGAMAN sheet)\n",
      "Spatial join completed - Added NAMOBJ column with city names\n",
      "Removing 961 blank rows from 'MARKA'\n",
      "Processing 'MARKA' as MultiPoint (MARKA sheet)\n",
      "❌ Error processing Format Baru 59.A. Cariu - Jagatamu Baged (Bts. Kab. Bogor Karawang).xlsx: None\n",
      "\n",
      "[26/29] Processing: Format Baru 60.A. Jl. KH. R. Ma'mun Nawawi.xlsx\n"
     ]
    },
    {
     "name": "stderr",
     "output_type": "stream",
     "text": [
      "c:\\Users\\kanzi\\AppData\\Local\\Programs\\Python\\Python312\\Lib\\site-packages\\openpyxl\\worksheet\\_reader.py:329: UserWarning: Conditional Formatting extension is not supported and will be removed\n",
      "  warn(msg)\n"
     ]
    },
    {
     "name": "stdout",
     "output_type": "stream",
     "text": [
      "Removing 1048455 blank rows from 'RAMBU'\n",
      "Processing 'RAMBU' as Point geometry (regular sheet)\n",
      "Spatial join completed - Added NAMOBJ column with city names\n",
      "✅ Saved: C:\\Users\\kanzi\\Documents\\Part Time Job\\Hasil Export\\Extract Shapefile\\Kabupaten Bekasi\\Jalan Eksisting\\Format Baru 60.A. Jl. KH. R. Ma'mun Nawawi_RAMBU.shp\n"
     ]
    },
    {
     "name": "stderr",
     "output_type": "stream",
     "text": [
      "c:\\Users\\kanzi\\AppData\\Local\\Programs\\Python\\Python312\\Lib\\site-packages\\pyogrio\\raw.py:723: RuntimeWarning: Normalized/laundered field name: 'Detail ' to 'Detail'\n",
      "  ogr_write(\n",
      "c:\\Users\\kanzi\\AppData\\Local\\Programs\\Python\\Python312\\Lib\\site-packages\\pyogrio\\raw.py:723: RuntimeWarning: Normalized/laundered field name: 'Gambar ' to 'Gambar'\n",
      "  ogr_write(\n",
      "c:\\Users\\kanzi\\AppData\\Local\\Programs\\Python\\Python312\\Lib\\site-packages\\pyogrio\\raw.py:723: RuntimeWarning: Normalized/laundered field name: 'Lokasi ' to 'Lokasi'\n",
      "  ogr_write(\n"
     ]
    },
    {
     "name": "stdout",
     "output_type": "stream",
     "text": [
      "✅ Applied QML style: C:\\Users\\kanzi\\Documents\\Part Time Job\\Hasil Export\\Extract Shapefile\\Kabupaten Bekasi\\Jalan Eksisting\\Format Baru 60.A. Jl. KH. R. Ma'mun Nawawi_RAMBU.qml\n",
      "Removing 546 blank rows from 'PJU'\n",
      "Processing 'PJU' as Point geometry (regular sheet)\n",
      "Spatial join completed - Added NAMOBJ column with city names\n",
      "✅ Saved: C:\\Users\\kanzi\\Documents\\Part Time Job\\Hasil Export\\Extract Shapefile\\Kabupaten Bekasi\\Jalan Eksisting\\Format Baru 60.A. Jl. KH. R. Ma'mun Nawawi_PJU.shp\n",
      "✅ Applied QML style: C:\\Users\\kanzi\\Documents\\Part Time Job\\Hasil Export\\Extract Shapefile\\Kabupaten Bekasi\\Jalan Eksisting\\Format Baru 60.A. Jl. KH. R. Ma'mun Nawawi_PJU.qml\n",
      "Removing 20 blank rows from 'RPPJ'\n"
     ]
    },
    {
     "name": "stderr",
     "output_type": "stream",
     "text": [
      "c:\\Users\\kanzi\\AppData\\Local\\Programs\\Python\\Python312\\Lib\\site-packages\\pyogrio\\raw.py:723: RuntimeWarning: Normalized/laundered field name: 'Detail ' to 'Detail'\n",
      "  ogr_write(\n",
      "c:\\Users\\kanzi\\AppData\\Local\\Programs\\Python\\Python312\\Lib\\site-packages\\pyogrio\\raw.py:723: RuntimeWarning: Normalized/laundered field name: 'Lokasi ' to 'Lokasi'\n",
      "  ogr_write(\n",
      "c:\\Users\\kanzi\\AppData\\Local\\Programs\\Python\\Python312\\Lib\\site-packages\\pyogrio\\raw.py:723: RuntimeWarning: Normalized/laundered field name: 'Detail ' to 'Detail'\n",
      "  ogr_write(\n",
      "c:\\Users\\kanzi\\AppData\\Local\\Programs\\Python\\Python312\\Lib\\site-packages\\pyogrio\\raw.py:723: RuntimeWarning: Normalized/laundered field name: 'Gambar ' to 'Gambar'\n",
      "  ogr_write(\n",
      "c:\\Users\\kanzi\\AppData\\Local\\Programs\\Python\\Python312\\Lib\\site-packages\\pyogrio\\raw.py:723: RuntimeWarning: Normalized/laundered field name: 'Lokasi ' to 'Lokasi'\n",
      "  ogr_write(\n"
     ]
    },
    {
     "name": "stdout",
     "output_type": "stream",
     "text": [
      "Processing 'RPPJ' as Point geometry (regular sheet)\n",
      "Spatial join completed - Added NAMOBJ column with city names\n",
      "✅ Saved: C:\\Users\\kanzi\\Documents\\Part Time Job\\Hasil Export\\Extract Shapefile\\Kabupaten Bekasi\\Jalan Eksisting\\Format Baru 60.A. Jl. KH. R. Ma'mun Nawawi_RPPJ.shp\n",
      "✅ Applied QML style: C:\\Users\\kanzi\\Documents\\Part Time Job\\Hasil Export\\Extract Shapefile\\Kabupaten Bekasi\\Jalan Eksisting\\Format Baru 60.A. Jl. KH. R. Ma'mun Nawawi_RPPJ.qml\n",
      "Removing 991 blank rows from 'PAGAR PENGAMAN'\n",
      "Processing 'PAGAR PENGAMAN' as LineString (PAGAR PENGAMAN sheet)\n",
      "Spatial join completed - Added NAMOBJ column with city names\n",
      "Removing 995 blank rows from 'MARKA'\n",
      "Processing 'MARKA' as MultiPoint (MARKA sheet)\n",
      "❌ Error processing Format Baru 60.A. Jl. KH. R. Ma'mun Nawawi.xlsx: None\n",
      "\n",
      "[27/29] Processing: Format Baru 61.A. Jl. Raya Lemah Abang.xlsx\n"
     ]
    },
    {
     "name": "stderr",
     "output_type": "stream",
     "text": [
      "c:\\Users\\kanzi\\AppData\\Local\\Programs\\Python\\Python312\\Lib\\site-packages\\openpyxl\\worksheet\\_reader.py:329: UserWarning: Conditional Formatting extension is not supported and will be removed\n",
      "  warn(msg)\n"
     ]
    },
    {
     "name": "stdout",
     "output_type": "stream",
     "text": [
      "Removing 12 blank rows from 'RAMBU'\n",
      "Processing 'RAMBU' as Point geometry (regular sheet)\n",
      "Spatial join completed - Added NAMOBJ column with city names\n",
      "✅ Saved: C:\\Users\\kanzi\\Documents\\Part Time Job\\Hasil Export\\Extract Shapefile\\Kabupaten Bekasi\\Jalan Eksisting\\Format Baru 61.A. Jl. Raya Lemah Abang_RAMBU.shp\n",
      "✅ Applied QML style: C:\\Users\\kanzi\\Documents\\Part Time Job\\Hasil Export\\Extract Shapefile\\Kabupaten Bekasi\\Jalan Eksisting\\Format Baru 61.A. Jl. Raya Lemah Abang_RAMBU.qml\n",
      "Processing 'PJU' as Point geometry (regular sheet)\n",
      "Spatial join completed - Added NAMOBJ column with city names\n",
      "✅ Saved: C:\\Users\\kanzi\\Documents\\Part Time Job\\Hasil Export\\Extract Shapefile\\Kabupaten Bekasi\\Jalan Eksisting\\Format Baru 61.A. Jl. Raya Lemah Abang_PJU.shp\n",
      "✅ Applied QML style: C:\\Users\\kanzi\\Documents\\Part Time Job\\Hasil Export\\Extract Shapefile\\Kabupaten Bekasi\\Jalan Eksisting\\Format Baru 61.A. Jl. Raya Lemah Abang_PJU.qml\n",
      "Removing 28 blank rows from 'RPPJ'\n",
      "Processing 'RPPJ' as Point geometry (regular sheet)\n",
      "Spatial join completed - Added NAMOBJ column with city names\n",
      "✅ Saved: C:\\Users\\kanzi\\Documents\\Part Time Job\\Hasil Export\\Extract Shapefile\\Kabupaten Bekasi\\Jalan Eksisting\\Format Baru 61.A. Jl. Raya Lemah Abang_RPPJ.shp\n",
      "✅ Applied QML style: C:\\Users\\kanzi\\Documents\\Part Time Job\\Hasil Export\\Extract Shapefile\\Kabupaten Bekasi\\Jalan Eksisting\\Format Baru 61.A. Jl. Raya Lemah Abang_RPPJ.qml\n"
     ]
    },
    {
     "name": "stderr",
     "output_type": "stream",
     "text": [
      "c:\\Users\\kanzi\\AppData\\Local\\Programs\\Python\\Python312\\Lib\\site-packages\\pyogrio\\raw.py:723: RuntimeWarning: Normalized/laundered field name: 'Detail ' to 'Detail'\n",
      "  ogr_write(\n",
      "c:\\Users\\kanzi\\AppData\\Local\\Programs\\Python\\Python312\\Lib\\site-packages\\pyogrio\\raw.py:723: RuntimeWarning: Normalized/laundered field name: 'Gambar ' to 'Gambar'\n",
      "  ogr_write(\n",
      "c:\\Users\\kanzi\\AppData\\Local\\Programs\\Python\\Python312\\Lib\\site-packages\\pyogrio\\raw.py:723: RuntimeWarning: Normalized/laundered field name: 'Lokasi ' to 'Lokasi'\n",
      "  ogr_write(\n",
      "c:\\Users\\kanzi\\AppData\\Local\\Programs\\Python\\Python312\\Lib\\site-packages\\pyogrio\\raw.py:723: RuntimeWarning: Normalized/laundered field name: 'Detail ' to 'Detail'\n",
      "  ogr_write(\n",
      "c:\\Users\\kanzi\\AppData\\Local\\Programs\\Python\\Python312\\Lib\\site-packages\\pyogrio\\raw.py:723: RuntimeWarning: Normalized/laundered field name: 'Lokasi ' to 'Lokasi'\n",
      "  ogr_write(\n",
      "c:\\Users\\kanzi\\AppData\\Local\\Programs\\Python\\Python312\\Lib\\site-packages\\pyogrio\\raw.py:723: RuntimeWarning: Normalized/laundered field name: 'Detail ' to 'Detail'\n",
      "  ogr_write(\n",
      "c:\\Users\\kanzi\\AppData\\Local\\Programs\\Python\\Python312\\Lib\\site-packages\\pyogrio\\raw.py:723: RuntimeWarning: Normalized/laundered field name: 'Gambar ' to 'Gambar'\n",
      "  ogr_write(\n",
      "c:\\Users\\kanzi\\AppData\\Local\\Programs\\Python\\Python312\\Lib\\site-packages\\pyogrio\\raw.py:723: RuntimeWarning: Normalized/laundered field name: 'Lokasi ' to 'Lokasi'\n",
      "  ogr_write(\n"
     ]
    },
    {
     "name": "stdout",
     "output_type": "stream",
     "text": [
      "Removing 961 blank rows from 'PAGAR PENGAMAN'\n",
      "Processing 'PAGAR PENGAMAN' as LineString (PAGAR PENGAMAN sheet)\n",
      "Spatial join completed - Added NAMOBJ column with city names\n",
      "Removing 961 blank rows from 'MARKA'\n",
      "Processing 'MARKA' as MultiPoint (MARKA sheet)\n",
      "Spatial join completed - Added NAMOBJ column with city names\n",
      "Removing 992 blank rows from 'WARNING LIGHT'\n",
      "Processing 'WARNING LIGHT' as Point geometry (regular sheet)\n",
      "Spatial join completed - Added NAMOBJ column with city names\n"
     ]
    },
    {
     "name": "stderr",
     "output_type": "stream",
     "text": [
      "c:\\Users\\kanzi\\AppData\\Local\\Programs\\Python\\Python312\\Lib\\site-packages\\pyogrio\\raw.py:723: RuntimeWarning: Normalized/laundered field name: 'Detail ' to 'Detail'\n",
      "  ogr_write(\n",
      "c:\\Users\\kanzi\\AppData\\Local\\Programs\\Python\\Python312\\Lib\\site-packages\\pyogrio\\raw.py:723: RuntimeWarning: Normalized/laundered field name: 'Lokasi ' to 'Lokasi'\n",
      "  ogr_write(\n",
      "c:\\Users\\kanzi\\AppData\\Local\\Programs\\Python\\Python312\\Lib\\site-packages\\pyogrio\\raw.py:723: RuntimeWarning: Normalized/laundered field name: 'Detail ' to 'Detail'\n",
      "  ogr_write(\n",
      "c:\\Users\\kanzi\\AppData\\Local\\Programs\\Python\\Python312\\Lib\\site-packages\\pyogrio\\raw.py:723: RuntimeWarning: Normalized/laundered field name: 'Lokasi ' to 'Lokasi'\n",
      "  ogr_write(\n"
     ]
    },
    {
     "name": "stdout",
     "output_type": "stream",
     "text": [
      "✅ Saved: C:\\Users\\kanzi\\Documents\\Part Time Job\\Hasil Export\\Extract Shapefile\\Kabupaten Bekasi\\Jalan Eksisting\\Format Baru 61.A. Jl. Raya Lemah Abang_WARNING LIGHT.shp\n",
      "✅ Applied QML style: C:\\Users\\kanzi\\Documents\\Part Time Job\\Hasil Export\\Extract Shapefile\\Kabupaten Bekasi\\Jalan Eksisting\\Format Baru 61.A. Jl. Raya Lemah Abang_WARNING LIGHT.qml\n",
      "Removing 993 blank rows from 'APILL'\n",
      "Processing 'APILL' as Point geometry (regular sheet)\n",
      "Spatial join completed - Added NAMOBJ column with city names\n",
      "✅ Saved: C:\\Users\\kanzi\\Documents\\Part Time Job\\Hasil Export\\Extract Shapefile\\Kabupaten Bekasi\\Jalan Eksisting\\Format Baru 61.A. Jl. Raya Lemah Abang_APILL.shp\n",
      "✅ Applied QML style: C:\\Users\\kanzi\\Documents\\Part Time Job\\Hasil Export\\Extract Shapefile\\Kabupaten Bekasi\\Jalan Eksisting\\Format Baru 61.A. Jl. Raya Lemah Abang_APILL.qml\n",
      "Removing 961 blank rows from 'ZOSS'\n",
      "Processing 'ZOSS' as Point geometry (regular sheet)\n",
      "Spatial join completed - Added NAMOBJ column with city names\n",
      "Removing 961 blank rows from 'FAS PENYEBERANGAN'\n",
      "Processing 'FAS PENYEBERANGAN' as Point geometry (regular sheet)\n",
      "Spatial join completed - Added NAMOBJ column with city names\n",
      "⚠️ Skipping 'RAMBU PORTABLE' (No valid start coordinate columns found)\n",
      "⚠️ Skipping 'TRAFFIC CONE' (No valid start coordinate columns found)\n",
      "⚠️ Skipping 'WATER BARRIER' (No valid start coordinate columns found)\n",
      "Removing 961 blank rows from 'CERMIN TIKUNG'\n",
      "Processing 'CERMIN TIKUNG' as Point geometry (regular sheet)\n",
      "⚠️ Skipping 'CERMIN TIKUNG' (No valid geometry found)\n",
      "✅ Completed processing: Format Baru 61.A. Jl. Raya Lemah Abang.xlsx\n",
      "\n",
      "[28/29] Processing: Format Baru 62.A. Akses Dryport Cikarang.xlsx\n"
     ]
    },
    {
     "name": "stderr",
     "output_type": "stream",
     "text": [
      "c:\\Users\\kanzi\\AppData\\Local\\Programs\\Python\\Python312\\Lib\\site-packages\\openpyxl\\worksheet\\_reader.py:329: UserWarning: Conditional Formatting extension is not supported and will be removed\n",
      "  warn(msg)\n"
     ]
    },
    {
     "name": "stdout",
     "output_type": "stream",
     "text": [
      "Processing 'RAMBU' as Point geometry (regular sheet)\n",
      "Spatial join completed - Added NAMOBJ column with city names\n",
      "✅ Saved: C:\\Users\\kanzi\\Documents\\Part Time Job\\Hasil Export\\Extract Shapefile\\Kabupaten Bekasi\\Jalan Eksisting\\Format Baru 62.A. Akses Dryport Cikarang_RAMBU.shp\n",
      "✅ Applied QML style: C:\\Users\\kanzi\\Documents\\Part Time Job\\Hasil Export\\Extract Shapefile\\Kabupaten Bekasi\\Jalan Eksisting\\Format Baru 62.A. Akses Dryport Cikarang_RAMBU.qml\n",
      "Removing 748 blank rows from 'PJU'\n",
      "Processing 'PJU' as Point geometry (regular sheet)\n",
      "Spatial join completed - Added NAMOBJ column with city names\n"
     ]
    },
    {
     "name": "stderr",
     "output_type": "stream",
     "text": [
      "c:\\Users\\kanzi\\AppData\\Local\\Programs\\Python\\Python312\\Lib\\site-packages\\pyogrio\\raw.py:723: RuntimeWarning: Normalized/laundered field name: 'Detail ' to 'Detail'\n",
      "  ogr_write(\n",
      "c:\\Users\\kanzi\\AppData\\Local\\Programs\\Python\\Python312\\Lib\\site-packages\\pyogrio\\raw.py:723: RuntimeWarning: Normalized/laundered field name: 'Gambar ' to 'Gambar'\n",
      "  ogr_write(\n",
      "c:\\Users\\kanzi\\AppData\\Local\\Programs\\Python\\Python312\\Lib\\site-packages\\pyogrio\\raw.py:723: RuntimeWarning: Normalized/laundered field name: 'Lokasi ' to 'Lokasi'\n",
      "  ogr_write(\n",
      "c:\\Users\\kanzi\\AppData\\Local\\Programs\\Python\\Python312\\Lib\\site-packages\\pyogrio\\raw.py:723: RuntimeWarning: Normalized/laundered field name: 'Detail ' to 'Detail'\n",
      "  ogr_write(\n",
      "c:\\Users\\kanzi\\AppData\\Local\\Programs\\Python\\Python312\\Lib\\site-packages\\pyogrio\\raw.py:723: RuntimeWarning: Normalized/laundered field name: 'Lokasi ' to 'Lokasi'\n",
      "  ogr_write(\n",
      "c:\\Users\\kanzi\\AppData\\Local\\Programs\\Python\\Python312\\Lib\\site-packages\\pyogrio\\raw.py:723: RuntimeWarning: Normalized/laundered field name: 'Detail ' to 'Detail'\n",
      "  ogr_write(\n",
      "c:\\Users\\kanzi\\AppData\\Local\\Programs\\Python\\Python312\\Lib\\site-packages\\pyogrio\\raw.py:723: RuntimeWarning: Normalized/laundered field name: 'Gambar ' to 'Gambar'\n",
      "  ogr_write(\n",
      "c:\\Users\\kanzi\\AppData\\Local\\Programs\\Python\\Python312\\Lib\\site-packages\\pyogrio\\raw.py:723: RuntimeWarning: Normalized/laundered field name: 'Lokasi ' to 'Lokasi'\n",
      "  ogr_write(\n",
      "c:\\Users\\kanzi\\AppData\\Local\\Programs\\Python\\Python312\\Lib\\site-packages\\pyogrio\\raw.py:723: RuntimeWarning: Normalized/laundered field name: 'Detail ' to 'Detail'\n",
      "  ogr_write(\n",
      "c:\\Users\\kanzi\\AppData\\Local\\Programs\\Python\\Python312\\Lib\\site-packages\\pyogrio\\raw.py:723: RuntimeWarning: Normalized/laundered field name: 'Lokasi ' to 'Lokasi'\n",
      "  ogr_write(\n"
     ]
    },
    {
     "name": "stdout",
     "output_type": "stream",
     "text": [
      "✅ Saved: C:\\Users\\kanzi\\Documents\\Part Time Job\\Hasil Export\\Extract Shapefile\\Kabupaten Bekasi\\Jalan Eksisting\\Format Baru 62.A. Akses Dryport Cikarang_PJU.shp\n",
      "✅ Applied QML style: C:\\Users\\kanzi\\Documents\\Part Time Job\\Hasil Export\\Extract Shapefile\\Kabupaten Bekasi\\Jalan Eksisting\\Format Baru 62.A. Akses Dryport Cikarang_PJU.qml\n",
      "Removing 21 blank rows from 'RPPJ'\n",
      "Processing 'RPPJ' as Point geometry (regular sheet)\n",
      "Spatial join completed - Added NAMOBJ column with city names\n",
      "✅ Saved: C:\\Users\\kanzi\\Documents\\Part Time Job\\Hasil Export\\Extract Shapefile\\Kabupaten Bekasi\\Jalan Eksisting\\Format Baru 62.A. Akses Dryport Cikarang_RPPJ.shp\n",
      "✅ Applied QML style: C:\\Users\\kanzi\\Documents\\Part Time Job\\Hasil Export\\Extract Shapefile\\Kabupaten Bekasi\\Jalan Eksisting\\Format Baru 62.A. Akses Dryport Cikarang_RPPJ.qml\n",
      "Removing 990 blank rows from 'PAGAR PENGAMAN'\n",
      "Processing 'PAGAR PENGAMAN' as LineString (PAGAR PENGAMAN sheet)\n",
      "Spatial join completed - Added NAMOBJ column with city names\n",
      "✅ Saved: C:\\Users\\kanzi\\Documents\\Part Time Job\\Hasil Export\\Extract Shapefile\\Kabupaten Bekasi\\Jalan Eksisting\\Format Baru 62.A. Akses Dryport Cikarang_PAGAR PENGAMAN.shp\n",
      "✅ Applied QML style: C:\\Users\\kanzi\\Documents\\Part Time Job\\Hasil Export\\Extract Shapefile\\Kabupaten Bekasi\\Jalan Eksisting\\Format Baru 62.A. Akses Dryport Cikarang_PAGAR PENGAMAN.qml\n",
      "Removing 989 blank rows from 'MARKA'\n",
      "Processing 'MARKA' as MultiPoint (MARKA sheet)\n",
      "❌ Error processing Format Baru 62.A. Akses Dryport Cikarang.xlsx: None\n",
      "\n",
      "[29/29] Processing: Ludira 27.A Jl. Bhayangkara (Pelabuhan Ratu).xlsx\n"
     ]
    },
    {
     "name": "stderr",
     "output_type": "stream",
     "text": [
      "c:\\Users\\kanzi\\AppData\\Local\\Programs\\Python\\Python312\\Lib\\site-packages\\openpyxl\\worksheet\\_reader.py:329: UserWarning: Conditional Formatting extension is not supported and will be removed\n",
      "  warn(msg)\n"
     ]
    },
    {
     "name": "stdout",
     "output_type": "stream",
     "text": [
      "Removing 78 blank rows from 'RAMBU'\n",
      "Processing 'RAMBU' as Point geometry (regular sheet)\n",
      "Spatial join completed - Added NAMOBJ column with city names\n",
      "✅ Saved: C:\\Users\\kanzi\\Documents\\Part Time Job\\Hasil Export\\Extract Shapefile\\Kabupaten Sukabumi\\Jalan Eksisting\\Ludira 27.A Jl. Bhayangkara (Pelabuhan Ratu)_RAMBU.shp\n",
      "✅ Applied QML style: C:\\Users\\kanzi\\Documents\\Part Time Job\\Hasil Export\\Extract Shapefile\\Kabupaten Sukabumi\\Jalan Eksisting\\Ludira 27.A Jl. Bhayangkara (Pelabuhan Ratu)_RAMBU.qml\n",
      "Removing 912 blank rows from 'PJU'\n",
      "Processing 'PJU' as Point geometry (regular sheet)\n"
     ]
    },
    {
     "name": "stderr",
     "output_type": "stream",
     "text": [
      "c:\\Users\\kanzi\\AppData\\Local\\Programs\\Python\\Python312\\Lib\\site-packages\\pyogrio\\raw.py:723: RuntimeWarning: Normalized/laundered field name: 'Detail ' to 'Detail'\n",
      "  ogr_write(\n",
      "c:\\Users\\kanzi\\AppData\\Local\\Programs\\Python\\Python312\\Lib\\site-packages\\pyogrio\\raw.py:723: RuntimeWarning: Normalized/laundered field name: 'Gambar ' to 'Gambar'\n",
      "  ogr_write(\n",
      "c:\\Users\\kanzi\\AppData\\Local\\Programs\\Python\\Python312\\Lib\\site-packages\\pyogrio\\raw.py:723: RuntimeWarning: Normalized/laundered field name: 'Lokasi ' to 'Lokasi'\n",
      "  ogr_write(\n"
     ]
    },
    {
     "name": "stdout",
     "output_type": "stream",
     "text": [
      "Spatial join completed - Added NAMOBJ column with city names\n",
      "✅ Saved: C:\\Users\\kanzi\\Documents\\Part Time Job\\Hasil Export\\Extract Shapefile\\Kabupaten Sukabumi\\Jalan Eksisting\\Ludira 27.A Jl. Bhayangkara (Pelabuhan Ratu)_PJU.shp\n",
      "✅ Applied QML style: C:\\Users\\kanzi\\Documents\\Part Time Job\\Hasil Export\\Extract Shapefile\\Kabupaten Sukabumi\\Jalan Eksisting\\Ludira 27.A Jl. Bhayangkara (Pelabuhan Ratu)_PJU.qml\n",
      "Processing 'RPPJ' as Point geometry (regular sheet)\n",
      "Spatial join completed - Added NAMOBJ column with city names\n",
      "✅ Saved: C:\\Users\\kanzi\\Documents\\Part Time Job\\Hasil Export\\Extract Shapefile\\Kabupaten Sukabumi\\Jalan Eksisting\\Ludira 27.A Jl. Bhayangkara (Pelabuhan Ratu)_RPPJ.shp\n",
      "✅ Applied QML style: C:\\Users\\kanzi\\Documents\\Part Time Job\\Hasil Export\\Extract Shapefile\\Kabupaten Sukabumi\\Jalan Eksisting\\Ludira 27.A Jl. Bhayangkara (Pelabuhan Ratu)_RPPJ.qml\n",
      "Removing 961 blank rows from 'PAGAR PENGAMAN'\n",
      "Processing 'PAGAR PENGAMAN' as LineString (PAGAR PENGAMAN sheet)\n",
      "Spatial join completed - Added NAMOBJ column with city names\n"
     ]
    },
    {
     "name": "stderr",
     "output_type": "stream",
     "text": [
      "c:\\Users\\kanzi\\AppData\\Local\\Programs\\Python\\Python312\\Lib\\site-packages\\pyogrio\\raw.py:723: RuntimeWarning: Normalized/laundered field name: 'Detail ' to 'Detail'\n",
      "  ogr_write(\n",
      "c:\\Users\\kanzi\\AppData\\Local\\Programs\\Python\\Python312\\Lib\\site-packages\\pyogrio\\raw.py:723: RuntimeWarning: Normalized/laundered field name: 'Lokasi ' to 'Lokasi'\n",
      "  ogr_write(\n",
      "c:\\Users\\kanzi\\AppData\\Local\\Programs\\Python\\Python312\\Lib\\site-packages\\pyogrio\\raw.py:723: RuntimeWarning: Normalized/laundered field name: 'Detail ' to 'Detail'\n",
      "  ogr_write(\n",
      "c:\\Users\\kanzi\\AppData\\Local\\Programs\\Python\\Python312\\Lib\\site-packages\\pyogrio\\raw.py:723: RuntimeWarning: Normalized/laundered field name: 'Gambar ' to 'Gambar'\n",
      "  ogr_write(\n",
      "c:\\Users\\kanzi\\AppData\\Local\\Programs\\Python\\Python312\\Lib\\site-packages\\pyogrio\\raw.py:723: RuntimeWarning: Normalized/laundered field name: 'Lokasi ' to 'Lokasi'\n",
      "  ogr_write(\n"
     ]
    },
    {
     "name": "stdout",
     "output_type": "stream",
     "text": [
      "Removing 961 blank rows from 'MARKA'\n",
      "Processing 'MARKA' as MultiPoint (MARKA sheet)\n",
      "❌ Error processing Ludira 27.A Jl. Bhayangkara (Pelabuhan Ratu).xlsx: None\n",
      "\n",
      "🎉 All Excel files processed. Output saved to: C:\\Users\\kanzi\\Documents\\Part Time Job\\Hasil Export\\Extract Shapefile\n",
      "⚠️ Total coordinate errors: 14. See error log in the output folder.\n"
     ]
    }
   ],
   "source": [
    "input_folder = r\"C:\\Users\\kanzi\\Documents\\Part Time Job\\Data Hasil Survey1\"  # Fill with the path file of excel\n",
    "output_base_folder = r\"C:\\Users\\kanzi\\Documents\\Part Time Job\\Hasil Export\"  # Fill with the path folder of export result\n",
    "shapefile_extract_result_folder(input_folder, output_base_folder) # Run the function!"
   ]
  }
 ],
 "metadata": {
  "kernelspec": {
   "display_name": "Python 3",
   "language": "python",
   "name": "python3"
  },
  "language_info": {
   "codemirror_mode": {
    "name": "ipython",
    "version": 3
   },
   "file_extension": ".py",
   "mimetype": "text/x-python",
   "name": "python",
   "nbconvert_exporter": "python",
   "pygments_lexer": "ipython3",
   "version": "3.12.0"
  }
 },
 "nbformat": 4,
 "nbformat_minor": 2
}
