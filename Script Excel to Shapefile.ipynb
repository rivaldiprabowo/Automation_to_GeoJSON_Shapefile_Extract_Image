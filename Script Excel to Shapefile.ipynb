{
 "cells": [
  {
   "cell_type": "markdown",
   "metadata": {},
   "source": [
    "# Automation Excel to Shapefile"
   ]
  },
  {
   "cell_type": "markdown",
   "metadata": {},
   "source": [
    "## 1. Application to Export Excel into Shapefile"
   ]
  },
  {
   "cell_type": "markdown",
   "metadata": {},
   "source": [
    "### 1.1. Function Codes"
   ]
  },
  {
   "cell_type": "code",
   "execution_count": null,
   "metadata": {},
   "outputs": [],
   "source": [
    "import sys\n",
    "import subprocess\n",
    "import pkg_resources\n",
    "import glob\n",
    "import os\n",
    "from pathlib import Path\n",
    "import pandas as pd\n",
    "from openpyxl import load_workbook\n",
    "import geopandas as gpd\n",
    "from datetime import datetime\n",
    "from shapely.geometry import Point, LineString, MultiPoint\n",
    "import numpy as np\n",
    "\n",
    "def install_requirements(): #Install required packages if they are not already installed.\n",
    "    required = {\n",
    "        'pandas': '1.0.0',\n",
    "        'openpyxl': '3.0.0',\n",
    "        'geopandas': '0.9.0',\n",
    "        'shapely': '1.7.0',}\n",
    "    \n",
    "    installed = {pkg.key: pkg.version for pkg in pkg_resources.working_set}\n",
    "    \n",
    "    # Determine what needs to be installed\n",
    "    missing = []\n",
    "    update = []\n",
    "    \n",
    "    for package, min_version in required.items():\n",
    "        if package not in installed:\n",
    "            missing.append(package)\n",
    "        elif pkg_resources.parse_version(installed[package]) < pkg_resources.parse_version(min_version):\n",
    "            update.append(package)\n",
    "    \n",
    "    if missing or update: # If packages need to be installed or updated\n",
    "        print(\"Some required packages are missing or need to be updated.\")\n",
    "        print(f\"Missing: {', '.join(missing) if missing else 'None'}\")\n",
    "        print(f\"Need update: {', '.join(update) if update else 'None'}\")\n",
    "        \n",
    "        try:  # Install missing packages\n",
    "            if missing:\n",
    "                print(f\"Installing missing packages: {', '.join(missing)}\")\n",
    "                subprocess.check_call([sys.executable, \"-m\", \"pip\", \"install\"] + missing)\n",
    "\n",
    "            if update: # Update packages that need updating\n",
    "                print(f\"Updating packages: {', '.join(update)}\")\n",
    "                subprocess.check_call([sys.executable, \"-m\", \"pip\", \"install\", \"--upgrade\"] + update)\n",
    "                \n",
    "            print(\"All required packages have been installed/updated successfully!\")\n",
    "            \n",
    "            # Re-import the modules to make them available\n",
    "            if 'pandas' in missing or 'pandas' in update:\n",
    "                global pd\n",
    "                import pandas as pd\n",
    "            if 'openpyxl' in missing or 'openpyxl' in update:\n",
    "                global load_workbook\n",
    "                from openpyxl import load_workbook\n",
    "            if 'geopandas' in missing or 'geopandas' in update:\n",
    "                global gpd\n",
    "                import geopandas as gpd\n",
    "            if 'shapely' in missing or 'shapely.geometry' in update:\n",
    "                global Point, LineString\n",
    "                from shapely.geometry import Point, LineString\n",
    "                \n",
    "        except Exception as e:\n",
    "            print(f\"Failed to install required packages: {str(e)}\")\n",
    "            sys.exit(1)\n",
    "\n",
    "def unique_column_names(columns): #Ensure column names are unique by appending suffix.\n",
    "    seen = {}\n",
    "    new_columns = []\n",
    "    for col in columns:\n",
    "        if col is None:\n",
    "            col = \"Unnamed\"\n",
    "        \n",
    "        if col in seen:\n",
    "            seen[col] += 1\n",
    "            new_columns.append(f\"{col}_{seen[col]}\")\n",
    "        else:\n",
    "            seen[col] = 0\n",
    "            new_columns.append(col)\n",
    "    return new_columns\n",
    "\n",
    "def clean_column_names(columns): #Standardize column names by capitalizing each word properly.\n",
    "    cleaned_columns = []\n",
    "    seen = {}\n",
    "    for col in columns:\n",
    "        if col is None:\n",
    "            col = \"Unnamed\"\n",
    "        else:\n",
    "            col = str(col).strip()\n",
    "            \n",
    "        if \"rekap\" in col.lower(): # Remove columns with \"Rekap\" in the name\n",
    "            continue\n",
    "\n",
    "        words = col.split() # Fix for duplicated words (like \"No No\", \"Detail Lokasi Detail Lokasi\")\n",
    "        if len(words) >= 2:\n",
    "            half_length = len(words) // 2 # Check for repeated word patterns\n",
    "            if words[:half_length] == words[half_length:] and len(words) % 2 == 0:\n",
    "                col = \" \".join(words[:half_length]) # If the first half matches the second half, only use the first half\n",
    "        \n",
    "        col = \" \".join(word.capitalize() for word in col.split())\n",
    "        \n",
    "        # Handle duplicates\n",
    "        if col in seen:\n",
    "            seen[col] += 1\n",
    "            col = f\"{col} {seen[col]}\"\n",
    "        else:\n",
    "            seen[col] = 0\n",
    "        \n",
    "        cleaned_columns.append(col)\n",
    "    return cleaned_columns\n",
    "\n",
    "def log_coordinate_errors(error_logs, output_base_folder): # Logs to store error in coordinate data\n",
    "    if not error_logs:\n",
    "        print(\"No coordinate errors to log.\")\n",
    "        return\n",
    "        \n",
    "    # Create a DataFrame from the error logs with better formatting\n",
    "    df = pd.DataFrame(error_logs)\n",
    "    \n",
    "    # Create a timestamp for the log file\n",
    "    timestamp = datetime.now().strftime(\"%Y%m%d_%H%M%S\")\n",
    "    \n",
    "    # Define the log file path\n",
    "    log_path = os.path.join(output_base_folder, f\"Coordinate_Error_Log_{timestamp}.xlsx\")\n",
    "    \n",
    "    # Add a summary column for easier reviewing\n",
    "    if not df.empty:\n",
    "        # Create a summary column that combines the key information\n",
    "        df['Error Summary'] = df.apply(\n",
    "            lambda row: f\"File: {row['Excel File']}, Sheet: {row['Sheet']}, \" + \n",
    "                       f\"Row: {row['Row Index']}, Error: {row['Error']}\", \n",
    "            axis=1\n",
    "        )\n",
    "    \n",
    "    # Write the DataFrame to an Excel file\n",
    "    try:\n",
    "        with pd.ExcelWriter(log_path, engine='openpyxl') as writer:\n",
    "            df.to_excel(writer, sheet_name='Coordinate Errors', index=False)\n",
    "            \n",
    "            # Auto-adjust column widths\n",
    "            worksheet = writer.sheets['Coordinate Errors']\n",
    "            for i, col in enumerate(df.columns):\n",
    "                max_length = max(df[col].astype(str).map(len).max(), len(col))\n",
    "                worksheet.column_dimensions[chr(65 + i)].width = max_length + 2\n",
    "                \n",
    "        print(f\"✅ Error log saved to: {log_path}\")\n",
    "    except Exception as e:\n",
    "        print(f\"❌ Error saving coordinate error log: {str(e)}\")\n",
    "\n",
    "def find_coordinate_columns(df, prefix, column_type): #Find coordinate columns with various naming patterns returns column name\n",
    "    \n",
    "    patterns = []\n",
    "    \n",
    "    if prefix == 'start':\n",
    "        if column_type == 'lat':\n",
    "            patterns = ['awal latitude','awal lat','koordinat latitude','koordinat lat','latitude awal','lat awal','latitude 1','lat 1']\n",
    "        else:\n",
    "            patterns = ['awal longitude','awal lon','koordinat longitude','koordinat lon','longitude awal', 'lon awal','longitude 1','lon 1' ]\n",
    "    else:\n",
    "        if column_type == 'lat':\n",
    "            patterns = ['akhir latitude','akhir lat','latitude akhir','lat akhir','latitude 2','lat 2']\n",
    "        else:\n",
    "            patterns = ['akhir longitude','akhir lon','longitude akhir','lon akhir','longitude 2','lon 2']\n",
    "    \n",
    "    # If we're looking for start coordinates, and just a single coordinate exists (no start/end distinction)\n",
    "    if prefix == 'start' and column_type == 'lat':\n",
    "        patterns.extend(['latitude', 'lat'])\n",
    "    elif prefix == 'start' and column_type == 'lon':\n",
    "        patterns.extend(['longitude', 'lon'])\n",
    "    \n",
    "    # Search for column containing any of the patterns\n",
    "    for pattern in patterns:\n",
    "        for col in df.columns:\n",
    "            if col is not None and isinstance(col, str) and pattern in col.lower():\n",
    "                return col\n",
    "    \n",
    "    return None\n",
    "\n",
    "def fix_coordinates(row, lat_col, lon_col): #Fix latitude and longitude values that may be in the wrong format.\n",
    "    # Defensive check to make sure columns exist in the row\n",
    "    if lat_col not in row or lon_col not in row:\n",
    "        return pd.Series([pd.NA, pd.NA])\n",
    "        \n",
    "    lat, lon = row[lat_col], row[lon_col]\n",
    "    original_lat, original_lon = lat, lon \n",
    "    \n",
    "    # Handle string values with commas (e.g., \"-69,694,951\" or \"1,065,663,308\")\n",
    "    if isinstance(lat, str):\n",
    "        try:\n",
    "            lat = float(lat.replace(',', ''))\n",
    "        except (ValueError, AttributeError):\n",
    "            lat = pd.NA\n",
    "    \n",
    "    if isinstance(lon, str):\n",
    "        try:\n",
    "            lon = float(lon.replace(',', ''))\n",
    "        except (ValueError, AttributeError):\n",
    "            lon = pd.NA\n",
    "    \n",
    "    # First attempt to detect the scale by number of digits\n",
    "    if pd.notna(lat):\n",
    "        lat_abs = abs(lat)\n",
    "        # For values like -6448977 (which should be around -6.4 degrees)\n",
    "        if 1_000_000 < lat_abs < 10_000_000 and str(int(lat_abs)).startswith(('6', '7', '8', '9')):\n",
    "            lat = lat / 1_000_000\n",
    "        elif lat_abs > 90:\n",
    "            if lat_abs > 10_000_000:  # Very large values\n",
    "                lat = lat / 10_000_000\n",
    "            elif lat_abs > 1_000_000:  # Large values (common for Indonesia coords)\n",
    "                lat = lat / 1_000_000\n",
    "            elif lat_abs > 90_000:\n",
    "                lat = lat / 1_000\n",
    "    \n",
    "    if pd.notna(lon):\n",
    "        lon_abs = abs(lon)\n",
    "        if 100_000_000 < lon_abs < 1_500_000_000:\n",
    "            lon = lon / 10_000_000\n",
    "        elif lon_abs > 180:\n",
    "            if lon_abs > 10_000_000:\n",
    "                lon = lon / 10_000_000\n",
    "            elif lon_abs > 1_000_000:\n",
    "                lon = lon / 1_000_000\n",
    "            elif lon_abs > 180_000:\n",
    "                lon = lon / 1_000\n",
    "    \n",
    "    return pd.Series([lat, lon])\n",
    "\n",
    "def parse_coordinate(coord_value): # Parse and clean coordinate values that may be stored in unwanted formats\n",
    "\n",
    "    if pd.isna(coord_value):\n",
    "        return pd.NA\n",
    "    \n",
    "    # If already numeric, return as is\n",
    "    if pd.api.types.is_numeric_dtype(type(coord_value)):\n",
    "        return float(coord_value)\n",
    "    \n",
    "    # Handle coordinate in string values\n",
    "    if isinstance(coord_value, str):\n",
    "        coord_string = coord_value.strip()\n",
    "\n",
    "        # Case 1: Check if it's a simple decimal with apostrophes and try simple conversion\n",
    "        cleaned = coord_string.replace(\"'\", \"\")\n",
    "        cleaned = cleaned.replace(\",\", \".\")\n",
    "        \n",
    "        try:\n",
    "            return float(cleaned)\n",
    "        except ValueError:\n",
    "            pass\n",
    "        \n",
    "        # Case 2: Parse DMS format like \"107°18'40.74\"E\" or \"6°17'23.45\"S\"\n",
    "        try:\n",
    "            degrees, minutes, seconds = 0, 0, 0\n",
    "            is_negative = False\n",
    "            \n",
    "            if coord_string.upper().endswith('S') or coord_string.upper().endswith('W'):\n",
    "                is_negative = True\n",
    "            \n",
    "            clean_str = coord_string.upper().replace('N', '').replace('S', '').replace('E', '').replace('W', '')\n",
    "            clean_str = clean_str.replace('\"', '').replace(\"'\", \"'\")\n",
    "            \n",
    "            # Parse components\n",
    "            if '°' in clean_str:\n",
    "                parts = clean_str.split('°')\n",
    "                degrees = float(parts[0])\n",
    "                if len(parts) > 1:\n",
    "                    if \"'\" in parts[1]:\n",
    "                        min_sec = parts[1].split(\"'\")\n",
    "                        minutes = float(min_sec[0])\n",
    "                        if len(min_sec) > 1 and min_sec[1]:\n",
    "                            seconds = float(min_sec[1])\n",
    "            \n",
    "            # Convert to decimal degrees\n",
    "            decimal_degrees = degrees + (minutes / 60) + (seconds / 3600)\n",
    "            \n",
    "            # Apply the negative sign if needed\n",
    "            if is_negative:\n",
    "                decimal_degrees = -decimal_degrees\n",
    "                \n",
    "            return decimal_degrees\n",
    "            \n",
    "        except (ValueError, IndexError, TypeError):\n",
    "            return pd.NA\n",
    "    \n",
    "    # For any other types, try direct conversion\n",
    "    try:\n",
    "        return float(coord_value)\n",
    "    except (ValueError, TypeError):\n",
    "        return pd.NA\n",
    "\n",
    "def process_coordinates(df, lat_col, lon_col, sheet_name=None, excel_name=None): #Process coordinates and error coordinates\n",
    "    if lat_col is None or lon_col is None:\n",
    "        print(f\"⚠️ Cannot process coordinates in '{sheet_name}': Missing coordinate column(s)\")\n",
    "        return df, []\n",
    "        \n",
    "    df_copy = df.copy()\n",
    "    error_rows = []\n",
    "    \n",
    "    # Process each row with better error tracking\n",
    "    for idx, row in df_copy.iterrows():\n",
    "        try:\n",
    "            # Defensive check to make sure the columns exist in the row\n",
    "            if lat_col not in row or lon_col not in row:\n",
    "                print(f\"⚠️ Row {idx} missing coordinate column(s) in '{sheet_name}'\")\n",
    "                continue\n",
    "                \n",
    "            lat_val = parse_coordinate(row[lat_col])\n",
    "            lon_val = parse_coordinate(row[lon_col])\n",
    "            \n",
    "            # Error tracking\n",
    "            if pd.isna(lat_val) and not pd.isna(row[lat_col]):\n",
    "                error_info = {\n",
    "                    'Excel File': excel_name,\n",
    "                    'Sheet': sheet_name,\n",
    "                    'Row Index': idx,\n",
    "                    'Original Lat Value': row[lat_col],\n",
    "                    'Original Lon Value': row[lon_col],\n",
    "                    'Error': f\"Failed to parse latitude: {row[lat_col]}\"\n",
    "                }\n",
    "                error_rows.append(error_info)\n",
    "            \n",
    "            if pd.isna(lon_val) and not pd.isna(row[lon_col]):\n",
    "                error_info = {\n",
    "                    'Excel File': excel_name,\n",
    "                    'Sheet': sheet_name,\n",
    "                    'Row Index': idx,\n",
    "                    'Original Lat Value': row[lat_col],\n",
    "                    'Original Lon Value': row[lon_col],\n",
    "                    'Error': f\"Failed to parse longitude: {row[lon_col]}\"\n",
    "                }\n",
    "                error_rows.append(error_info)\n",
    "            \n",
    "            df_copy.at[idx, lat_col] = lat_val\n",
    "            df_copy.at[idx, lon_col] = lon_val\n",
    "            \n",
    "        except Exception as e:\n",
    "            error_info = {\n",
    "                'Excel File': excel_name,\n",
    "                'Sheet': sheet_name,\n",
    "                'Row Index': idx,\n",
    "                'Original Lat Value': str(row.get(lat_col, 'Column not found')),\n",
    "                'Original Lon Value': str(row.get(lon_col, 'Column not found')),\n",
    "                'Error': str(e)\n",
    "            }\n",
    "            error_rows.append(error_info)\n",
    "    \n",
    "    # Apply fix_coordinates with better error handling\n",
    "    try:\n",
    "        fixed_coords = df_copy.apply(fix_coordinates, axis=1, lat_col=lat_col, lon_col=lon_col)\n",
    "        df_copy[lat_col] = fixed_coords[0]\n",
    "        df_copy[lon_col] = fixed_coords[1]\n",
    "    except Exception as e:\n",
    "        error_info = {\n",
    "            'Excel File': excel_name,\n",
    "            'Sheet': sheet_name,\n",
    "            'Row Index': 'Multiple',\n",
    "            'Original Lat Value': 'Multiple',\n",
    "            'Original Lon Value': 'Multiple',\n",
    "            'Error': f\"Batch coordinate fixing failed: {str(e)}\"\n",
    "        }\n",
    "        error_rows.append(error_info)\n",
    "    \n",
    "    return df_copy, error_rows\n",
    "\n",
    "def save_to_shapefile(gdf, output_path, batas_wilayah=None, qml_folder=None):  # Save GeoDataFrame to Shapefile\n",
    "    try:\n",
    "        gdf = gdf.copy()\n",
    "        \n",
    "        # Make sure we have a valid geometry column\n",
    "        if 'geometry' not in gdf.columns and 'Geometry' not in gdf.columns:\n",
    "            print(f\"❌ Error: No geometry column found in data for {os.path.basename(output_path)}\")\n",
    "            return\n",
    "            \n",
    "        # Ensure the GeoDataFrame has a proper geometry column set\n",
    "        if not isinstance(gdf, gpd.GeoDataFrame):\n",
    "            if 'geometry' in gdf.columns:\n",
    "                gdf = gpd.GeoDataFrame(gdf, geometry='geometry', crs=\"EPSG:4326\")\n",
    "            elif 'Geometry' in gdf.columns:\n",
    "                gdf = gpd.GeoDataFrame(gdf, geometry='Geometry', crs=\"EPSG:4326\")\n",
    "            else:\n",
    "                print(f\"❌ Error: Cannot create GeoDataFrame - no geometry column found\")\n",
    "                return\n",
    "        else:\n",
    "            # Explicitly set the geometry column even if it's already a GeoDataFrame\n",
    "            if 'geometry' in gdf.columns:\n",
    "                gdf = gdf.set_geometry('geometry')\n",
    "            elif 'Geometry' in gdf.columns:\n",
    "                gdf = gdf.set_geometry('Geometry')\n",
    "        \n",
    "        # Ensure the GeoDataFrame has a valid CRS\n",
    "        if gdf.crs is None:\n",
    "            gdf = gdf.set_crs(\"EPSG:4326\")\n",
    "        \n",
    "        # Perform spatial join with batas_wilayah if provided\n",
    "        if batas_wilayah is not None:\n",
    "            try:                \n",
    "                # Make sure we have valid geometries\n",
    "                gdf = gdf[~gdf.geometry.isna()].copy()\n",
    "                \n",
    "                # Make sure CRS matches for join\n",
    "                if gdf.crs != batas_wilayah.crs:\n",
    "                    gdf = gdf.to_crs(batas_wilayah.crs)\n",
    "                \n",
    "                # Perform the spatial join\n",
    "                gdf = gpd.sjoin(gdf, batas_wilayah[['geometry', 'NAMOBJ']], how=\"left\", predicate=\"intersects\")\n",
    "                \n",
    "                # Clean up index column created by spatial join\n",
    "                if 'index_right' in gdf.columns:\n",
    "                    gdf = gdf.drop(columns=['index_right'])\n",
    "                    \n",
    "            except Exception as e:\n",
    "                print(f\"Warning: Error during spatial join: {str(e)}\")\n",
    "        \n",
    "        # Truncate column names to 10 characters but preserve 'name' or 'nama' fields\n",
    "        new_columns = {}\n",
    "        for col in gdf.columns:\n",
    "            if col == \"geometry\" or col == \"Geometry\":\n",
    "                continue\n",
    "            \n",
    "            # Special handling for name-related columns - don't add numbers to these\n",
    "            if 'name' in str(col).lower() or 'nama' in str(col).lower() or col == 'NAMOBJ':\n",
    "                # Just truncate to 10 chars without adding a number\n",
    "                new_name = str(col)[:10]\n",
    "            else:\n",
    "                # For all other columns, create a unique name that's short enough\n",
    "                base_name = str(col)[:7]\n",
    "                suffix = 1\n",
    "                new_name = base_name\n",
    "                \n",
    "                # If this name is already used, add numbers until we find a unique one\n",
    "                while new_name in new_columns.values() and len(new_name) < 10:\n",
    "                    new_name = f\"{base_name}_{suffix}\"[:10]\n",
    "                    suffix += 1\n",
    "            \n",
    "            new_columns[col] = new_name\n",
    "        \n",
    "        # Create a mapping file to record the original field names\n",
    "        mapping_dict = {v: k for k, v in new_columns.items()}\n",
    "        \n",
    "        # Rename the columns\n",
    "        gdf = gdf.rename(columns=new_columns)\n",
    "        \n",
    "        # Modify the output path to include NAMOBJ and \"Jalan Eksisting\"\n",
    "        if 'NAMOBJ' in gdf.columns:\n",
    "            # Group by NAMOBJ and save each group to the appropriate directory\n",
    "            for name_obj, group in gdf.groupby('NAMOBJ'):\n",
    "                if pd.isna(name_obj):\n",
    "                    name_obj = \"Unknown\"\n",
    "                    \n",
    "                # Create directory structure: output_folder/Extract Shapefile/NAMOBJ/Jalan Eksisting\n",
    "                output_dir = os.path.dirname(output_path)\n",
    "                file_name = os.path.basename(output_path)\n",
    "                \n",
    "                # Create new path with NAMOBJ and Jalan Eksisting folders\n",
    "                new_output_dir = os.path.join(output_dir, name_obj, \"Jalan Eksisting\")\n",
    "                os.makedirs(new_output_dir, exist_ok=True)\n",
    "                \n",
    "                new_output_path = os.path.join(new_output_dir, file_name)\n",
    "                \n",
    "                # Save the shapefile\n",
    "                group.to_file(new_output_path, driver=\"ESRI Shapefile\")\n",
    "                \n",
    "                print(f\"✅ Saved: {new_output_path}\")\n",
    "                \n",
    "                # Apply QML Style if qml_folder is provided\n",
    "                if qml_folder is not None:\n",
    "                    sheet_name = os.path.splitext(file_name)[0].split('_')[-1]  # Extract sheet name from filename\n",
    "                    qml_source_file = os.path.join(qml_folder, f\"{sheet_name}.qml\")  # Assuming QML file follows sheet name\n",
    "                    qml_target_file = new_output_path.replace(\".shp\", \".qml\")\n",
    "                    \n",
    "                    if os.path.exists(qml_source_file):\n",
    "                        import shutil\n",
    "                        shutil.copy(qml_source_file, qml_target_file)\n",
    "                        print(f\"✅ Applied QML style: {qml_target_file}\")\n",
    "                    else:\n",
    "                        print(f\"⚠️ No QML file found for {sheet_name}\")\n",
    "        else:\n",
    "            # If NAMOBJ is not in columns, just save to the original path\n",
    "            gdf.to_file(output_path, driver=\"ESRI Shapefile\")\n",
    "            print(f\"✅ Saved: {output_path}\")\n",
    "            \n",
    "            # Apply QML Style if qml_folder is provided\n",
    "            if qml_folder is not None:\n",
    "                sheet_name = os.path.splitext(os.path.basename(output_path))[0].split('_')[-1]  # Extract sheet name\n",
    "                qml_source_file = os.path.join(qml_folder, f\"{sheet_name}.qml\")  # Assuming QML file follows sheet name\n",
    "                qml_target_file = output_path.replace(\".shp\", \".qml\")\n",
    "                \n",
    "                if os.path.exists(qml_source_file):\n",
    "                    import shutil\n",
    "                    shutil.copy(qml_source_file, qml_target_file)\n",
    "                    print(f\"✅ Applied QML style: {qml_target_file}\")\n",
    "                else:\n",
    "                    print(f\"⚠️ No QML file found for {sheet_name}\")\n",
    "        \n",
    "    except Exception as e:\n",
    "        print(f\"❌ Error saving shapefile {output_path}: {str(e)}\")\n",
    "        import traceback\n",
    "        traceback.print_exc()\n",
    "\n",
    "def flatten_excel_to_shapefile(file_path, output_folder, excel_name=None, batas_wilayah=None, qml_folder=None, error_logs=None): #Convert an Excel file to Shapefile and collect error logs\n",
    "    if error_logs is None:\n",
    "        error_logs = []\n",
    "    \n",
    "    try:\n",
    "        # If excel_name is not provided, extract it from the file_path\n",
    "        if excel_name is None:\n",
    "            excel_name = os.path.splitext(os.path.basename(file_path))[0]\n",
    "        \n",
    "        # Create output folder if it doesn't exist\n",
    "        os.makedirs(output_folder, exist_ok=True)\n",
    "        \n",
    "        # Load workbook\n",
    "        wb = load_workbook(file_path, data_only=True)\n",
    "\n",
    "        # Process each sheet\n",
    "        for sheet_name in wb.sheetnames:\n",
    "            try:\n",
    "                ws = wb[sheet_name]\n",
    "\n",
    "                # Unmerge cells and fill values\n",
    "                for merge in list(ws.merged_cells):\n",
    "                    ws.unmerge_cells(str(merge))\n",
    "                    top_left = ws.cell(merge.min_row, merge.min_col).value\n",
    "                    for row in range(merge.min_row, merge.max_row + 1):\n",
    "                        for col in range(merge.min_col, merge.max_col + 1):\n",
    "                            ws.cell(row, col, top_left)\n",
    "\n",
    "                # Convert to DataFrame\n",
    "                data = list(ws.values)\n",
    "                df = pd.DataFrame(data)\n",
    "\n",
    "                # Check if DataFrame is empty or has too few rows\n",
    "                if df.empty or len(df) < 3:\n",
    "                    print(f\"⚠️ Skipping '{sheet_name}' (Empty sheet or insufficient data)\")\n",
    "                    continue\n",
    "\n",
    "                # Find rows containing \"NO\" (safer approach)\n",
    "                try:\n",
    "                    header_indices = df[df.apply(lambda x: x.astype(str).str.contains(\"NO\", case=False, na=False)).any(axis=1)].index\n",
    "                    if len(header_indices) == 0:\n",
    "                        print(f\"⚠️ Skipping '{sheet_name}' (No header row with 'NO' found)\")\n",
    "                        continue\n",
    "                    header_index = header_indices[0]\n",
    "                except Exception as e:\n",
    "                    print(f\"⚠️ Skipping '{sheet_name}' (Error finding header row: {str(e)})\")\n",
    "                    continue\n",
    "\n",
    "                # Use the identified header row\n",
    "                df.columns = df.iloc[header_index].astype(str).str.strip()\n",
    "\n",
    "                # Remove empty columns\n",
    "                df = df.dropna(axis=1, how=\"all\")\n",
    "\n",
    "                # First pass of REKAP filtering\n",
    "                try:\n",
    "                    rekap_mask = df.columns.astype(str).str.contains(\"REKAP\", case=False, na=False)\n",
    "                    if rekap_mask.any():\n",
    "                        df = df.loc[:, ~rekap_mask]\n",
    "                except Exception as e:\n",
    "                    print(f\"Warning in '{sheet_name}': Error filtering REKAP columns - {str(e)}\")\n",
    "\n",
    "                # Drop rows above and including header, plus the empty row after header\n",
    "                rows_to_drop = list(range(0, header_index + 2))\n",
    "                if len(df) > max(rows_to_drop) + 1:  # Make sure we have enough rows\n",
    "                    df = df.drop(index=rows_to_drop).reset_index(drop=True)\n",
    "                else:\n",
    "                    print(f\"⚠️ Skipping '{sheet_name}' (Not enough data rows after header)\")\n",
    "                    continue\n",
    "\n",
    "                # Improved header row merging\n",
    "                if len(df) >= 2:\n",
    "                    first_row = df.iloc[0].astype(str).replace('None', '').replace('nan', '')\n",
    "                    second_row = df.iloc[1].astype(str).replace('None', '').replace('nan', '')\n",
    "                    \n",
    "                    # Smart merging to avoid duplication\n",
    "                    merged_header = []\n",
    "                    for a, b in zip(first_row, second_row):\n",
    "                        a = a.strip()\n",
    "                        b = b.strip()\n",
    "                        \n",
    "                        # Skip columns with \"REKAP\" in the name\n",
    "                        if \"rekap\" in a.lower() or \"rekap\" in b.lower():\n",
    "                            merged_header.append(\"TO_BE_REMOVED\")  # Mark for removal\n",
    "                            continue\n",
    "                        \n",
    "                        if not a and not b:\n",
    "                            merged_header.append(\"Column_\" + str(len(merged_header)))\n",
    "                        elif not a:\n",
    "                            merged_header.append(b)\n",
    "                        elif not b:\n",
    "                            merged_header.append(a)\n",
    "                        else:\n",
    "                            if a.lower() in b.lower():\n",
    "                                merged_header.append(b)\n",
    "                            elif b.lower() in a.lower():\n",
    "                                merged_header.append(a)\n",
    "                            else:\n",
    "                                merged_header.append(f\"{a} {b}\")\n",
    "                    \n",
    "                    # Ensure column names are unique\n",
    "                    df.columns = unique_column_names(merged_header)\n",
    "                    \n",
    "                    # Remove any columns marked for removal\n",
    "                    df = df.loc[:, ~df.columns.str.contains(\"TO_BE_REMOVED\")]\n",
    "                    \n",
    "                    # Remove the first two rows used for headers\n",
    "                    df = df.drop(index=[0, 1]).reset_index(drop=True)\n",
    "                else:\n",
    "                    print(f\"⚠️ Skipping '{sheet_name}' (Not enough rows for headers)\")\n",
    "                    continue\n",
    "\n",
    "                # Second pass of REKAP filtering after merging headers\n",
    "                try:\n",
    "                    rekap_mask = df.columns.astype(str).str.contains(\"REKAP\", case=False, na=False)\n",
    "                    if rekap_mask.any():\n",
    "                        df = df.loc[:, ~rekap_mask]\n",
    "                except Exception as e:\n",
    "                    print(f\"Warning in '{sheet_name}': Error filtering REKAP columns (second pass) - {str(e)}\")\n",
    "\n",
    "                # Normalize column names for consistent detection\n",
    "                df.columns = [str(col).lower().strip() if col is not None else f\"col_{i}\" for i, col in enumerate(df.columns)]\n",
    "\n",
    "                # Third pass of REKAP filtering after normalizing\n",
    "                try:\n",
    "                    rekap_mask = df.columns.str.contains(\"rekap\", case=False, na=False)\n",
    "                    if rekap_mask.any():\n",
    "                        df = df.loc[:, ~rekap_mask]\n",
    "                except Exception as e:\n",
    "                    print(f\"Warning in '{sheet_name}': Error filtering rekap columns (third pass) - {str(e)}\")\n",
    "\n",
    "                # Check if this sheet is about MARKA or PAGAR PENGAMAN\n",
    "                is_marka_sheet = \"marka\" in sheet_name.lower() or any(col for col in df.columns if isinstance(col, str) and \"marka\" in col.lower())\n",
    "                is_pagar_pengaman_sheet = \"pagar pengaman\" in sheet_name.lower() or any(col for col in df.columns if isinstance(col, str) and \"pagar pengaman\" in col.lower())\n",
    "\n",
    "                # Find all coordinate columns using the improved function\n",
    "                start_lat_col = find_coordinate_columns(df, 'start', 'lat')\n",
    "                start_lon_col = find_coordinate_columns(df, 'start', 'lon')\n",
    "                end_lat_col = find_coordinate_columns(df, 'end', 'lat')\n",
    "                end_lon_col = find_coordinate_columns(df, 'end', 'lon')\n",
    "\n",
    "                # Check available coordinate patterns\n",
    "                has_start_coords = start_lat_col is not None and start_lon_col is not None\n",
    "                has_end_coords = end_lat_col is not None and end_lon_col is not None\n",
    "\n",
    "                if not has_start_coords:\n",
    "                    print(f\"⚠️ Skipping '{sheet_name}' (No valid start coordinate columns found)\")\n",
    "                    continue\n",
    "                \n",
    "                # Filter rows where both latitude and longitude values are blank\n",
    "                if has_start_coords:\n",
    "                    # Convert coordinates to appropriate types and handle formatting issues\n",
    "                    coord_mask = df[start_lat_col].astype(str).str.strip().replace('', np.nan).notna() & \\\n",
    "                                df[start_lon_col].astype(str).str.strip().replace('', np.nan).notna()\n",
    "                    \n",
    "                    if coord_mask.any():\n",
    "                        # Only process rows with actual coordinate data\n",
    "                        df_with_coords = df[coord_mask].reset_index(drop=True)\n",
    "                        df_processed, start_errors = process_coordinates(df_with_coords, start_lat_col, start_lon_col, sheet_name, excel_name)\n",
    "                        \n",
    "                        # Update only the rows that had coordinates\n",
    "                        df = df.copy()\n",
    "                        df.loc[coord_mask, :] = df_processed\n",
    "                        \n",
    "                        error_logs.extend(start_errors)\n",
    "                    else:\n",
    "                        print(f\"⚠️ No valid start coordinates found in '{sheet_name}'\")\n",
    "                        continue\n",
    "\n",
    "                if has_end_coords:\n",
    "                    # Similar filtering for end coordinates\n",
    "                    coord_mask = df[end_lat_col].astype(str).str.strip().replace('', np.nan).notna() & \\\n",
    "                                df[end_lon_col].astype(str).str.strip().replace('', np.nan).notna()\n",
    "                    \n",
    "                    if coord_mask.any():\n",
    "                        df_with_coords = df[coord_mask].reset_index(drop=True)\n",
    "                        df_processed, end_errors = process_coordinates(df_with_coords, end_lat_col, end_lon_col, sheet_name, excel_name)\n",
    "                        \n",
    "                        df.loc[coord_mask, :] = df_processed\n",
    "                        error_logs.extend(end_errors)\n",
    "\n",
    "                # Check if the end coordinates actually contain valid data\n",
    "                if has_end_coords:\n",
    "                    has_valid_end_coords = not df[end_lat_col].isna().all() and not df[end_lon_col].isna().all()\n",
    "                    valid_pairs = ((df[start_lat_col].notna() & df[start_lon_col].notna()) & (df[end_lat_col].notna() & df[end_lon_col].notna())).any()\n",
    "                else:\n",
    "                    has_valid_end_coords = False\n",
    "                    valid_pairs = False\n",
    "                \n",
    "                # Determine geometry type based on available coordinates, actual data, and sheet type\n",
    "                # MARKA sheets should use MultiPoint geometry\n",
    "                if is_marka_sheet:\n",
    "                    print(f\"Processing '{sheet_name}' as MultiPoint (MARKA sheet)\")\n",
    "\n",
    "                    # First check if we have any valid coordinates before applying\n",
    "                    has_valid_coords = ((df[start_lat_col].notna() & df[start_lon_col].notna()) | \n",
    "                                        (has_end_coords and df[end_lat_col].notna() & df[end_lon_col].notna())).any()\n",
    "                    \n",
    "                    if not has_valid_coords:\n",
    "                        print(f\"⚠️ Skipping '{sheet_name}' (No valid coordinates found in MARKA sheet)\")\n",
    "                        continue\n",
    "                        \n",
    "                    # Create MultiPoint geometry only for rows with valid coordinates\n",
    "                    def create_multipoint(row):\n",
    "                        try:\n",
    "                            points = []\n",
    "                            # Add start point if valid\n",
    "                            if pd.notna(row[start_lon_col]) and pd.notna(row[start_lat_col]):\n",
    "                                points.append((float(row[start_lon_col]), float(row[start_lat_col])))\n",
    "                                \n",
    "                            # Add end point if valid and available\n",
    "                            if has_end_coords and pd.notna(row[end_lon_col]) and pd.notna(row[end_lat_col]):\n",
    "                                points.append((float(row[end_lon_col]), float(row[end_lat_col])))\n",
    "                                \n",
    "                            # Return MultiPoint if we have points, else None\n",
    "                            return MultiPoint(points) if points else None\n",
    "                        except Exception as e:\n",
    "                            print(f\"Error creating MultiPoint for row {row.name}: {str(e)}\")\n",
    "                            return None\n",
    "                    \n",
    "                    # Apply the function to create geometry\n",
    "                    df[\"geometry\"] = df.apply(create_multipoint, axis=1)\n",
    "                    \n",
    "                    # Exclude coordinate columns from properties\n",
    "                    exclude_cols = [start_lat_col, start_lon_col]\n",
    "                    if has_end_coords:\n",
    "                        exclude_cols.extend([end_lat_col, end_lon_col])\n",
    "                    exclude_cols.append(\"geometry\")\n",
    "                    \n",
    "                # PAGAR PENGAMAN sheets with valid start/end coordinates should use LineString\n",
    "                elif is_pagar_pengaman_sheet and has_valid_end_coords and valid_pairs:\n",
    "                    print(f\"Processing '{sheet_name}' as LineString (PAGAR PENGAMAN sheet)\")\n",
    "                    \n",
    "                    # Create LineString geometry with additional debugging and more flexible validation\n",
    "                    def create_linestring(row):\n",
    "                        try:\n",
    "                            # Enhanced debugging\n",
    "                            start_lat = row[start_lat_col]\n",
    "                            start_lon = row[start_lon_col]\n",
    "                            end_lat = row[end_lat_col]\n",
    "                            end_lon = row[end_lon_col]\n",
    "                            \n",
    "                            # Skip processing if all coordinates are blank/NaN\n",
    "                            if pd.isna(start_lat) and pd.isna(start_lon) and pd.isna(end_lat) and pd.isna(end_lon):\n",
    "                                return None\n",
    "                                \n",
    "                            # First try to parse any string coordinates\n",
    "                            if isinstance(start_lat, str):\n",
    "                                start_lat = parse_coordinate(start_lat)\n",
    "                            if isinstance(start_lon, str):\n",
    "                                start_lon = parse_coordinate(start_lon)\n",
    "                            if isinstance(end_lat, str):\n",
    "                                end_lat = parse_coordinate(end_lat)\n",
    "                            if isinstance(end_lon, str):\n",
    "                                end_lon = parse_coordinate(end_lon)\n",
    "                            \n",
    "                            # Create LineString if we have valid coordinates\n",
    "                            if (pd.notna(start_lon) and pd.notna(start_lat) and \n",
    "                                pd.notna(end_lon) and pd.notna(end_lat)):\n",
    "                                return LineString([\n",
    "                                    (float(start_lon), float(start_lat)),\n",
    "                                    (float(end_lon), float(end_lat))\n",
    "                                ])\n",
    "                            else:\n",
    "                                # If one set of coordinates is missing, fall back to Point\n",
    "                                if pd.notna(start_lon) and pd.notna(start_lat):\n",
    "                                    offset = 0.0001\n",
    "                                    return LineString([\n",
    "                                        (float(start_lon), float(start_lat)),\n",
    "                                        (float(start_lon) + offset, float(start_lat) + offset)\n",
    "                                    ])\n",
    "                                return None\n",
    "                        except Exception as e:\n",
    "                            print(f\"Error creating LineString for row {row.name}: {str(e)}\")\n",
    "                            return None\n",
    "                    \n",
    "                    df[\"geometry\"] = df.apply(create_linestring, axis=1)\n",
    "                    exclude_cols = [start_lat_col, start_lon_col, end_lat_col, end_lon_col, \"geometry\"]\n",
    "                    \n",
    "                else:\n",
    "                    # Other sheets use Point geometry (only start coordinates)\n",
    "                    print(f\"Processing '{sheet_name}' as Point geometry (regular sheet)\")\n",
    "                    \n",
    "                    # Create Point geometry with start coordinates, only for rows with valid data\n",
    "                    df[\"geometry\"] = df.apply(\n",
    "                        lambda row: Point(row[start_lon_col], row[start_lat_col]) \n",
    "                        if pd.notna(row[start_lon_col]) and pd.notna(row[start_lat_col]) else None,\n",
    "                        axis=1\n",
    "                    )\n",
    "                    \n",
    "                    # Exclude coordinate columns from properties\n",
    "                    exclude_cols = [start_lat_col, start_lon_col]\n",
    "                    if has_end_coords:\n",
    "                        exclude_cols.extend([end_lat_col, end_lon_col])\n",
    "                    exclude_cols.append(\"geometry\")\n",
    "\n",
    "                # Drop rows where geometry is None\n",
    "                df = df.dropna(subset=[\"geometry\"]).reset_index(drop=True)\n",
    "\n",
    "                # Only create GeoDataFrame if there are valid geometries\n",
    "                if len(df) > 0 and not df[\"geometry\"].isnull().all():\n",
    "                    # Filter REKAP columns before creating properties\n",
    "                    properties_cols = [col for col in df.columns if col not in exclude_cols]\n",
    "                    properties_cols = [col for col in properties_cols if 'rekap' not in str(col).lower()]\n",
    "                    \n",
    "                    # Create GeoDataFrame with explicit geometry setting\n",
    "                    gdf = gpd.GeoDataFrame(df[properties_cols + [\"geometry\"]], geometry=\"geometry\",crs=\"EPSG:4326\")\n",
    "                    \n",
    "                    # Verify that the geometry column is properly set\n",
    "                    if not gdf.geometry.name == \"geometry\":\n",
    "                        gdf = gdf.set_geometry(\"geometry\")\n",
    "                    \n",
    "                    gdf.columns = clean_column_names(gdf.columns)\n",
    "\n",
    "                    gdf = gdf.loc[:, ~gdf.columns.astype(str).str.contains(\"rekap\", case=False, na=False)]\n",
    "                    \n",
    "                    gdf = gdf.loc[:, ~gdf.columns.astype(str).str.match(r\"^None$|None_\", na=False)]\n",
    "\n",
    "                    gdf.columns = gdf.columns.astype(str).str.replace(r\"\\sNone\\b\", \"\", regex=True).str.strip()\n",
    "\n",
    "                    # One final check for REKAP columns before saving\n",
    "                    if any('rekap' in str(col).lower() for col in gdf.columns):\n",
    "                        gdf = gdf.loc[:, ~gdf.columns.astype(str).str.contains(\"rekap\", case=False, na=False)]\n",
    "                    \n",
    "                    # Define output file path\n",
    "                    output_path = os.path.join(output_folder, f\"{excel_name}_{sheet_name}.shp\")\n",
    "                    os.makedirs(os.path.dirname(output_path), exist_ok=True)\n",
    "\n",
    "                    # Save as shapefile\n",
    "                    save_to_shapefile(gdf, output_path, batas_wilayah, qml_folder)\n",
    "                else:\n",
    "                    print(f\"⚠️ Skipping '{sheet_name}' (No valid geometry found)\")\n",
    "                    continue\n",
    "            except Exception as e:\n",
    "                print(f\"❌ Error processing sheet '{sheet_name}': {str(e)}\")\n",
    "                import traceback\n",
    "                traceback.print_exc()\n",
    "                continue\n",
    "\n",
    "        return error_logs\n",
    "    except Exception as e:\n",
    "        print(f\"❌ Error processing file: {str(e)}\")\n",
    "        import traceback\n",
    "        traceback.print_exc()\n",
    "        return error_logs\n",
    "\n",
    "def process_single_excel_file_shapefile(file_path, output_base_folder, qml_folder=None, batas_wilayah_path=None): #Process conversion for one Excel file\n",
    "    output_folder = os.path.join(output_base_folder, \"Extract Shapefile\")\n",
    "    os.makedirs(output_folder, exist_ok=True)\n",
    "    \n",
    "    # Load the city boundaries shapefile if provided\n",
    "    batas_wilayah = None\n",
    "    if batas_wilayah_path and os.path.exists(batas_wilayah_path):\n",
    "        try:\n",
    "            batas_wilayah = gpd.read_file(batas_wilayah_path)\n",
    "            print(f\"✅ Loaded city boundaries from: {batas_wilayah_path}\")\n",
    "        except Exception as e:\n",
    "            print(f\"❌ Error loading city boundaries shapefile: {str(e)}\")\n",
    "    else:\n",
    "        print(\"❌ No city boundaries provided or file not found.\")\n",
    "    \n",
    "    # Check if QML folder exists\n",
    "    if qml_folder and os.path.exists(qml_folder):\n",
    "        print(f\"✅ Using QML styles from: {qml_folder}\")\n",
    "    else:\n",
    "        print(\"❌ No QML folder provided or folder not found.\")\n",
    "        qml_folder = None\n",
    "    \n",
    "    # Extract file name\n",
    "    file_name = os.path.basename(file_path)\n",
    "    excel_name = os.path.splitext(file_name)[0]\n",
    "    \n",
    "    print(f\"Processing: {file_name}\")\n",
    "    \n",
    "    try:\n",
    "        # Initialize error_logs list\n",
    "        error_logs = []\n",
    "        \n",
    "        wb = load_workbook(file_path, data_only=True)\n",
    "        \n",
    "        # Process the file (this will handle all sheets)\n",
    "        error_logs = flatten_excel_to_shapefile(file_path, output_folder, excel_name, batas_wilayah, qml_folder, error_logs)\n",
    "        \n",
    "        print(f\"✅ Completed processing: {file_name}\")\n",
    "        if error_logs:\n",
    "            log_coordinate_errors(error_logs, output_base_folder)\n",
    "    except Exception as e:\n",
    "        print(f\"❌ Error processing {file_name}: {str(e)}\")\n",
    "        import traceback\n",
    "        traceback.print_exc()\n",
    "\n",
    "def process_excel_folder_shapefile(input_folder, output_base_folder, qml_folder=None, batas_wilayah_path=None): #Process conversion for all Excel files in a folder\n",
    "    output_folder = os.path.join(output_base_folder, \"Extract Shapefile\")\n",
    "    os.makedirs(output_folder, exist_ok=True)\n",
    "    \n",
    "    # Load the city boundaries shapefile if provided\n",
    "    batas_wilayah = None\n",
    "    if batas_wilayah_path and os.path.exists(batas_wilayah_path):\n",
    "        try:\n",
    "            batas_wilayah = gpd.read_file(batas_wilayah_path)\n",
    "            print(f\"✅ Loaded city boundaries from: {batas_wilayah_path}\")\n",
    "        except Exception as e:\n",
    "            print(f\"❌ Error loading city boundaries shapefile: {str(e)}\")\n",
    "    else:\n",
    "        print(\"❌ No city boundaries provided or file not found.\")\n",
    "    \n",
    "    # Check if QML folder exists\n",
    "    if qml_folder and os.path.exists(qml_folder):\n",
    "        print(f\"✅ Using QML styles from: {qml_folder}\")\n",
    "    else:\n",
    "        print(\"❌ No QML folder provided or folder not found.\")\n",
    "        qml_folder = None\n",
    "    \n",
    "    # Get all Excel files in the input folder\n",
    "    excel_extensions = ['*.xlsx', '*.xls', '*.xlsm']\n",
    "    excel_files = []\n",
    "    \n",
    "    for ext in excel_extensions:\n",
    "        excel_files.extend(glob.glob(os.path.join(input_folder, ext)))\n",
    "    \n",
    "    # Initialize error log list\n",
    "    all_error_logs = []\n",
    "    \n",
    "    # Process each Excel file\n",
    "    for i, file_path in enumerate(excel_files, 1):\n",
    "        file_name = os.path.basename(file_path)\n",
    "        excel_name = os.path.splitext(file_name)[0]\n",
    "        print(f\"\\n[{i}/{len(excel_files)}] Processing: {file_name}\")\n",
    "        \n",
    "        try:\n",
    "            # Collect errors from processing this file\n",
    "            file_errors = flatten_excel_to_shapefile(file_path, output_folder, excel_name, batas_wilayah, qml_folder, [])\n",
    "            all_error_logs.extend(file_errors)\n",
    "            print(f\"✅ Completed processing: {file_name}\")\n",
    "            if file_errors:\n",
    "                print(f\"⚠️ Found {len(file_errors)} coordinate errors during processing\")\n",
    "        except Exception as e:\n",
    "            print(f\"❌ Error processing {file_name}: {str(e)}\")\n",
    "    \n",
    "    # Log all errors\n",
    "    if all_error_logs:\n",
    "        log_coordinate_errors(all_error_logs, output_base_folder)\n",
    "    \n",
    "    print(f\"\\n🎉 All Excel files processed. Output saved to: {output_folder}\")"
   ]
  },
  {
   "cell_type": "markdown",
   "metadata": {},
   "source": [
    "### 1.2. Run Function Excel to Shapefile"
   ]
  },
  {
   "cell_type": "code",
   "execution_count": 109,
   "metadata": {},
   "outputs": [
    {
     "name": "stdout",
     "output_type": "stream",
     "text": [
      "✅ Loaded city boundaries from: C:\\Users\\kanzi\\Documents\\Part Time Job\\Hasil Export\\- Batas wilayah kota\\Batas_Kota_Kabupaten_JABAR.shp\n",
      "✅ Using QML styles from: C:\\Users\\kanzi\\Documents\\Part Time Job\\Hasil Export\\- QML File\n",
      "Processing: Ludira 27.A Jl. Bhayangkara (Pelabuhan Ratu).xlsx\n"
     ]
    },
    {
     "name": "stderr",
     "output_type": "stream",
     "text": [
      "c:\\Users\\kanzi\\AppData\\Local\\Programs\\Python\\Python312\\Lib\\site-packages\\openpyxl\\worksheet\\_reader.py:329: UserWarning: Conditional Formatting extension is not supported and will be removed\n",
      "  warn(msg)\n"
     ]
    },
    {
     "name": "stdout",
     "output_type": "stream",
     "text": [
      "Processing 'RAMBU' as Point geometry (regular sheet)\n",
      "✅ Saved: C:\\Users\\kanzi\\Documents\\Part Time Job\\Hasil Export1\\Extract Shapefile\\Kabupaten Sukabumi\\Jalan Eksisting\\Ludira 27.A Jl. Bhayangkara (Pelabuhan Ratu)_RAMBU.shp\n",
      "✅ Applied QML style: C:\\Users\\kanzi\\Documents\\Part Time Job\\Hasil Export1\\Extract Shapefile\\Kabupaten Sukabumi\\Jalan Eksisting\\Ludira 27.A Jl. Bhayangkara (Pelabuhan Ratu)_RAMBU.qml\n"
     ]
    },
    {
     "name": "stderr",
     "output_type": "stream",
     "text": [
      "c:\\Users\\kanzi\\AppData\\Local\\Programs\\Python\\Python312\\Lib\\site-packages\\pyogrio\\raw.py:723: RuntimeWarning: Normalized/laundered field name: 'Detail ' to 'Detail'\n",
      "  ogr_write(\n",
      "c:\\Users\\kanzi\\AppData\\Local\\Programs\\Python\\Python312\\Lib\\site-packages\\pyogrio\\raw.py:723: RuntimeWarning: Normalized/laundered field name: 'Gambar ' to 'Gambar'\n",
      "  ogr_write(\n",
      "c:\\Users\\kanzi\\AppData\\Local\\Programs\\Python\\Python312\\Lib\\site-packages\\pyogrio\\raw.py:723: RuntimeWarning: Normalized/laundered field name: 'Lokasi ' to 'Lokasi'\n",
      "  ogr_write(\n"
     ]
    },
    {
     "name": "stdout",
     "output_type": "stream",
     "text": [
      "Processing 'PJU' as Point geometry (regular sheet)\n"
     ]
    },
    {
     "name": "stderr",
     "output_type": "stream",
     "text": [
      "c:\\Users\\kanzi\\AppData\\Local\\Programs\\Python\\Python312\\Lib\\site-packages\\pyogrio\\raw.py:723: RuntimeWarning: Normalized/laundered field name: 'Detail ' to 'Detail'\n",
      "  ogr_write(\n",
      "c:\\Users\\kanzi\\AppData\\Local\\Programs\\Python\\Python312\\Lib\\site-packages\\pyogrio\\raw.py:723: RuntimeWarning: Normalized/laundered field name: 'Lokasi ' to 'Lokasi'\n",
      "  ogr_write(\n",
      "c:\\Users\\kanzi\\AppData\\Local\\Programs\\Python\\Python312\\Lib\\site-packages\\pyogrio\\raw.py:723: RuntimeWarning: Normalized/laundered field name: 'Detail ' to 'Detail'\n",
      "  ogr_write(\n",
      "c:\\Users\\kanzi\\AppData\\Local\\Programs\\Python\\Python312\\Lib\\site-packages\\pyogrio\\raw.py:723: RuntimeWarning: Normalized/laundered field name: 'Gambar ' to 'Gambar'\n",
      "  ogr_write(\n",
      "c:\\Users\\kanzi\\AppData\\Local\\Programs\\Python\\Python312\\Lib\\site-packages\\pyogrio\\raw.py:723: RuntimeWarning: Normalized/laundered field name: 'Lokasi ' to 'Lokasi'\n",
      "  ogr_write(\n"
     ]
    },
    {
     "name": "stdout",
     "output_type": "stream",
     "text": [
      "✅ Saved: C:\\Users\\kanzi\\Documents\\Part Time Job\\Hasil Export1\\Extract Shapefile\\Kabupaten Sukabumi\\Jalan Eksisting\\Ludira 27.A Jl. Bhayangkara (Pelabuhan Ratu)_PJU.shp\n",
      "✅ Applied QML style: C:\\Users\\kanzi\\Documents\\Part Time Job\\Hasil Export1\\Extract Shapefile\\Kabupaten Sukabumi\\Jalan Eksisting\\Ludira 27.A Jl. Bhayangkara (Pelabuhan Ratu)_PJU.qml\n",
      "Processing 'RPPJ' as Point geometry (regular sheet)\n",
      "✅ Saved: C:\\Users\\kanzi\\Documents\\Part Time Job\\Hasil Export1\\Extract Shapefile\\Kabupaten Sukabumi\\Jalan Eksisting\\Ludira 27.A Jl. Bhayangkara (Pelabuhan Ratu)_RPPJ.shp\n",
      "✅ Applied QML style: C:\\Users\\kanzi\\Documents\\Part Time Job\\Hasil Export1\\Extract Shapefile\\Kabupaten Sukabumi\\Jalan Eksisting\\Ludira 27.A Jl. Bhayangkara (Pelabuhan Ratu)_RPPJ.qml\n",
      "Processing 'PAGAR PENGAMAN' as LineString (PAGAR PENGAMAN sheet)\n",
      "Processing 'MARKA' as MultiPoint (MARKA sheet)\n",
      "Processing 'WARNING LIGHT' as Point geometry (regular sheet)\n",
      "✅ Saved: C:\\Users\\kanzi\\Documents\\Part Time Job\\Hasil Export1\\Extract Shapefile\\Kabupaten Sukabumi\\Jalan Eksisting\\Ludira 27.A Jl. Bhayangkara (Pelabuhan Ratu)_WARNING LIGHT.shp\n",
      "✅ Applied QML style: C:\\Users\\kanzi\\Documents\\Part Time Job\\Hasil Export1\\Extract Shapefile\\Kabupaten Sukabumi\\Jalan Eksisting\\Ludira 27.A Jl. Bhayangkara (Pelabuhan Ratu)_WARNING LIGHT.qml\n"
     ]
    },
    {
     "name": "stderr",
     "output_type": "stream",
     "text": [
      "c:\\Users\\kanzi\\AppData\\Local\\Programs\\Python\\Python312\\Lib\\site-packages\\pyogrio\\raw.py:723: RuntimeWarning: Normalized/laundered field name: 'Detail ' to 'Detail'\n",
      "  ogr_write(\n",
      "c:\\Users\\kanzi\\AppData\\Local\\Programs\\Python\\Python312\\Lib\\site-packages\\pyogrio\\raw.py:723: RuntimeWarning: Normalized/laundered field name: 'Lokasi ' to 'Lokasi'\n",
      "  ogr_write(\n"
     ]
    },
    {
     "name": "stdout",
     "output_type": "stream",
     "text": [
      "Processing 'APILL' as Point geometry (regular sheet)\n",
      "✅ Saved: C:\\Users\\kanzi\\Documents\\Part Time Job\\Hasil Export1\\Extract Shapefile\\Kabupaten Sukabumi\\Jalan Eksisting\\Ludira 27.A Jl. Bhayangkara (Pelabuhan Ratu)_APILL.shp\n",
      "✅ Applied QML style: C:\\Users\\kanzi\\Documents\\Part Time Job\\Hasil Export1\\Extract Shapefile\\Kabupaten Sukabumi\\Jalan Eksisting\\Ludira 27.A Jl. Bhayangkara (Pelabuhan Ratu)_APILL.qml\n"
     ]
    },
    {
     "name": "stderr",
     "output_type": "stream",
     "text": [
      "c:\\Users\\kanzi\\AppData\\Local\\Programs\\Python\\Python312\\Lib\\site-packages\\pyogrio\\raw.py:723: RuntimeWarning: Normalized/laundered field name: 'Detail ' to 'Detail'\n",
      "  ogr_write(\n",
      "c:\\Users\\kanzi\\AppData\\Local\\Programs\\Python\\Python312\\Lib\\site-packages\\pyogrio\\raw.py:723: RuntimeWarning: Normalized/laundered field name: 'Lokasi ' to 'Lokasi'\n",
      "  ogr_write(\n"
     ]
    },
    {
     "name": "stdout",
     "output_type": "stream",
     "text": [
      "Processing 'ZOSS' as Point geometry (regular sheet)\n",
      "Processing 'FAS PENYEBERANGAN' as Point geometry (regular sheet)\n",
      "⚠️ Skipping 'RAMBU PORTABLE' (No valid start coordinate columns found)\n",
      "⚠️ Skipping 'TRAFFIC CONE' (No valid start coordinate columns found)\n",
      "⚠️ Skipping 'WATER BARRIER' (No valid start coordinate columns found)\n",
      "Processing 'CERMIN TIKUNG' as Point geometry (regular sheet)\n",
      "⚠️ Skipping 'CERMIN TIKUNG' (No valid geometry found)\n",
      "✅ Completed processing: Ludira 27.A Jl. Bhayangkara (Pelabuhan Ratu).xlsx\n"
     ]
    }
   ],
   "source": [
    "# Check for one file to process\n",
    "file_path = r\"C:\\Users\\kanzi\\Documents\\Part Time Job\\Data Hasil Survey\\Ludira 27.A Jl. Bhayangkara (Pelabuhan Ratu).xlsx\"  # Fill with the path file of excel\n",
    "output_folder = r\"C:\\Users\\kanzi\\Documents\\Part Time Job\\Hasil Export1\"  # Fill with the path folder of export result\n",
    "excel_name = r\"01. Cileungsi - Cibeet.xlsx\"\n",
    "batas_wilayah = r\"C:\\Users\\kanzi\\Documents\\Part Time Job\\Hasil Export\\- Batas wilayah kota\\Batas_Kota_Kabupaten_JABAR.shp\"\n",
    "qml_folder = r\"C:\\Users\\kanzi\\Documents\\Part Time Job\\Hasil Export\\- QML File\"\n",
    "process_single_excel_file_shapefile(file_path, output_folder,qml_folder,batas_wilayah)"
   ]
  },
  {
   "cell_type": "code",
   "execution_count": 110,
   "metadata": {},
   "outputs": [
    {
     "name": "stdout",
     "output_type": "stream",
     "text": [
      "✅ Loaded city boundaries from: C:\\Users\\kanzi\\Documents\\Part Time Job\\Hasil Export\\- Batas wilayah kota\\Batas_Kota_Kabupaten_JABAR.shp\n",
      "✅ Using QML styles from: C:\\Users\\kanzi\\Documents\\Part Time Job\\Hasil Export\\- QML File\n",
      "\n",
      "[1/30] Processing: 01. Cileungsi - Cibeet.xlsx\n"
     ]
    },
    {
     "name": "stderr",
     "output_type": "stream",
     "text": [
      "c:\\Users\\kanzi\\AppData\\Local\\Programs\\Python\\Python312\\Lib\\site-packages\\openpyxl\\worksheet\\_reader.py:329: UserWarning: Conditional Formatting extension is not supported and will be removed\n",
      "  warn(msg)\n"
     ]
    },
    {
     "name": "stdout",
     "output_type": "stream",
     "text": [
      "Processing 'RAMBU' as Point geometry (regular sheet)\n",
      "✅ Saved: C:\\Users\\kanzi\\Documents\\Part Time Job\\Hasil Export\\Extract Shapefile\\Kabupaten Bogor\\Jalan Eksisting\\01. Cileungsi - Cibeet_RAMBU.shp\n",
      "✅ Applied QML style: C:\\Users\\kanzi\\Documents\\Part Time Job\\Hasil Export\\Extract Shapefile\\Kabupaten Bogor\\Jalan Eksisting\\01. Cileungsi - Cibeet_RAMBU.qml\n",
      "✅ Saved: C:\\Users\\kanzi\\Documents\\Part Time Job\\Hasil Export\\Extract Shapefile\\Kota Bekasi\\Jalan Eksisting\\01. Cileungsi - Cibeet_RAMBU.shp\n",
      "✅ Applied QML style: C:\\Users\\kanzi\\Documents\\Part Time Job\\Hasil Export\\Extract Shapefile\\Kota Bekasi\\Jalan Eksisting\\01. Cileungsi - Cibeet_RAMBU.qml\n",
      "Processing 'PJU' as Point geometry (regular sheet)\n"
     ]
    },
    {
     "name": "stderr",
     "output_type": "stream",
     "text": [
      "c:\\Users\\kanzi\\AppData\\Local\\Programs\\Python\\Python312\\Lib\\site-packages\\pyogrio\\raw.py:723: RuntimeWarning: Normalized/laundered field name: 'Detail ' to 'Detail'\n",
      "  ogr_write(\n",
      "c:\\Users\\kanzi\\AppData\\Local\\Programs\\Python\\Python312\\Lib\\site-packages\\pyogrio\\raw.py:723: RuntimeWarning: Normalized/laundered field name: 'Gambar ' to 'Gambar'\n",
      "  ogr_write(\n",
      "c:\\Users\\kanzi\\AppData\\Local\\Programs\\Python\\Python312\\Lib\\site-packages\\pyogrio\\raw.py:723: RuntimeWarning: Normalized/laundered field name: 'Lokasi ' to 'Lokasi'\n",
      "  ogr_write(\n",
      "c:\\Users\\kanzi\\AppData\\Local\\Programs\\Python\\Python312\\Lib\\site-packages\\pyogrio\\raw.py:723: RuntimeWarning: Normalized/laundered field name: 'Detail ' to 'Detail'\n",
      "  ogr_write(\n",
      "c:\\Users\\kanzi\\AppData\\Local\\Programs\\Python\\Python312\\Lib\\site-packages\\pyogrio\\raw.py:723: RuntimeWarning: Normalized/laundered field name: 'Gambar ' to 'Gambar'\n",
      "  ogr_write(\n",
      "c:\\Users\\kanzi\\AppData\\Local\\Programs\\Python\\Python312\\Lib\\site-packages\\pyogrio\\raw.py:723: RuntimeWarning: Normalized/laundered field name: 'Lokasi ' to 'Lokasi'\n",
      "  ogr_write(\n",
      "c:\\Users\\kanzi\\AppData\\Local\\Programs\\Python\\Python312\\Lib\\site-packages\\pyogrio\\raw.py:723: RuntimeWarning: Normalized/laundered field name: 'Detail ' to 'Detail'\n",
      "  ogr_write(\n",
      "c:\\Users\\kanzi\\AppData\\Local\\Programs\\Python\\Python312\\Lib\\site-packages\\pyogrio\\raw.py:723: RuntimeWarning: Normalized/laundered field name: 'Lokasi ' to 'Lokasi'\n",
      "  ogr_write(\n",
      "c:\\Users\\kanzi\\AppData\\Local\\Programs\\Python\\Python312\\Lib\\site-packages\\pyogrio\\raw.py:723: RuntimeWarning: Normalized/laundered field name: 'Detail ' to 'Detail'\n",
      "  ogr_write(\n",
      "c:\\Users\\kanzi\\AppData\\Local\\Programs\\Python\\Python312\\Lib\\site-packages\\pyogrio\\raw.py:723: RuntimeWarning: Normalized/laundered field name: 'Gambar ' to 'Gambar'\n",
      "  ogr_write(\n",
      "c:\\Users\\kanzi\\AppData\\Local\\Programs\\Python\\Python312\\Lib\\site-packages\\pyogrio\\raw.py:723: RuntimeWarning: Normalized/laundered field name: 'Lokasi ' to 'Lokasi'\n",
      "  ogr_write(\n",
      "c:\\Users\\kanzi\\AppData\\Local\\Programs\\Python\\Python312\\Lib\\site-packages\\pyogrio\\raw.py:723: RuntimeWarning: Normalized/laundered field name: 'Detail ' to 'Detail'\n",
      "  ogr_write(\n",
      "c:\\Users\\kanzi\\AppData\\Local\\Programs\\Python\\Python312\\Lib\\site-packages\\pyogrio\\raw.py:723: RuntimeWarning: Normalized/laundered field name: 'Gambar ' to 'Gambar'\n",
      "  ogr_write(\n",
      "c:\\Users\\kanzi\\AppData\\Local\\Programs\\Python\\Python312\\Lib\\site-packages\\pyogrio\\raw.py:723: RuntimeWarning: Normalized/laundered field name: 'Lokasi ' to 'Lokasi'\n",
      "  ogr_write(\n"
     ]
    },
    {
     "name": "stdout",
     "output_type": "stream",
     "text": [
      "✅ Saved: C:\\Users\\kanzi\\Documents\\Part Time Job\\Hasil Export\\Extract Shapefile\\Kabupaten Bogor\\Jalan Eksisting\\01. Cileungsi - Cibeet_PJU.shp\n",
      "✅ Applied QML style: C:\\Users\\kanzi\\Documents\\Part Time Job\\Hasil Export\\Extract Shapefile\\Kabupaten Bogor\\Jalan Eksisting\\01. Cileungsi - Cibeet_PJU.qml\n",
      "Processing 'RPPJ' as Point geometry (regular sheet)\n",
      "✅ Saved: C:\\Users\\kanzi\\Documents\\Part Time Job\\Hasil Export\\Extract Shapefile\\Kabupaten Bogor\\Jalan Eksisting\\01. Cileungsi - Cibeet_RPPJ.shp\n",
      "✅ Applied QML style: C:\\Users\\kanzi\\Documents\\Part Time Job\\Hasil Export\\Extract Shapefile\\Kabupaten Bogor\\Jalan Eksisting\\01. Cileungsi - Cibeet_RPPJ.qml\n",
      "✅ Saved: C:\\Users\\kanzi\\Documents\\Part Time Job\\Hasil Export\\Extract Shapefile\\Kota Bekasi\\Jalan Eksisting\\01. Cileungsi - Cibeet_RPPJ.shp\n",
      "✅ Applied QML style: C:\\Users\\kanzi\\Documents\\Part Time Job\\Hasil Export\\Extract Shapefile\\Kota Bekasi\\Jalan Eksisting\\01. Cileungsi - Cibeet_RPPJ.qml\n",
      "Processing 'PAGAR PENGAMAN' as LineString (PAGAR PENGAMAN sheet)\n",
      "✅ Saved: C:\\Users\\kanzi\\Documents\\Part Time Job\\Hasil Export\\Extract Shapefile\\Kabupaten Bogor\\Jalan Eksisting\\01. Cileungsi - Cibeet_PAGAR PENGAMAN.shp\n",
      "✅ Applied QML style: C:\\Users\\kanzi\\Documents\\Part Time Job\\Hasil Export\\Extract Shapefile\\Kabupaten Bogor\\Jalan Eksisting\\01. Cileungsi - Cibeet_PAGAR PENGAMAN.qml\n"
     ]
    },
    {
     "name": "stderr",
     "output_type": "stream",
     "text": [
      "c:\\Users\\kanzi\\AppData\\Local\\Programs\\Python\\Python312\\Lib\\site-packages\\pyogrio\\raw.py:723: RuntimeWarning: Normalized/laundered field name: 'Detail ' to 'Detail'\n",
      "  ogr_write(\n",
      "c:\\Users\\kanzi\\AppData\\Local\\Programs\\Python\\Python312\\Lib\\site-packages\\pyogrio\\raw.py:723: RuntimeWarning: Normalized/laundered field name: 'Lokasi ' to 'Lokasi'\n",
      "  ogr_write(\n"
     ]
    },
    {
     "name": "stdout",
     "output_type": "stream",
     "text": [
      "Processing 'MARKA' as MultiPoint (MARKA sheet)\n",
      "✅ Saved: C:\\Users\\kanzi\\Documents\\Part Time Job\\Hasil Export\\Extract Shapefile\\Kabupaten Bogor\\Jalan Eksisting\\01. Cileungsi - Cibeet_MARKA.shp\n",
      "✅ Applied QML style: C:\\Users\\kanzi\\Documents\\Part Time Job\\Hasil Export\\Extract Shapefile\\Kabupaten Bogor\\Jalan Eksisting\\01. Cileungsi - Cibeet_MARKA.qml\n"
     ]
    },
    {
     "name": "stderr",
     "output_type": "stream",
     "text": [
      "c:\\Users\\kanzi\\AppData\\Local\\Programs\\Python\\Python312\\Lib\\site-packages\\pyogrio\\raw.py:723: RuntimeWarning: Normalized/laundered field name: 'Detail ' to 'Detail'\n",
      "  ogr_write(\n"
     ]
    },
    {
     "name": "stdout",
     "output_type": "stream",
     "text": [
      "Processing 'WARNING LIGHT' as Point geometry (regular sheet)\n",
      "✅ Saved: C:\\Users\\kanzi\\Documents\\Part Time Job\\Hasil Export\\Extract Shapefile\\Kabupaten Bogor\\Jalan Eksisting\\01. Cileungsi - Cibeet_WARNING LIGHT.shp\n",
      "✅ Applied QML style: C:\\Users\\kanzi\\Documents\\Part Time Job\\Hasil Export\\Extract Shapefile\\Kabupaten Bogor\\Jalan Eksisting\\01. Cileungsi - Cibeet_WARNING LIGHT.qml\n",
      "Processing 'APILL' as Point geometry (regular sheet)\n"
     ]
    },
    {
     "name": "stderr",
     "output_type": "stream",
     "text": [
      "c:\\Users\\kanzi\\AppData\\Local\\Programs\\Python\\Python312\\Lib\\site-packages\\pyogrio\\raw.py:723: RuntimeWarning: Normalized/laundered field name: 'Detail ' to 'Detail'\n",
      "  ogr_write(\n",
      "c:\\Users\\kanzi\\AppData\\Local\\Programs\\Python\\Python312\\Lib\\site-packages\\pyogrio\\raw.py:723: RuntimeWarning: Normalized/laundered field name: 'Lokasi ' to 'Lokasi'\n",
      "  ogr_write(\n",
      "c:\\Users\\kanzi\\AppData\\Local\\Programs\\Python\\Python312\\Lib\\site-packages\\pyogrio\\raw.py:723: RuntimeWarning: Normalized/laundered field name: 'Detail ' to 'Detail'\n",
      "  ogr_write(\n",
      "c:\\Users\\kanzi\\AppData\\Local\\Programs\\Python\\Python312\\Lib\\site-packages\\pyogrio\\raw.py:723: RuntimeWarning: Normalized/laundered field name: 'Lokasi ' to 'Lokasi'\n",
      "  ogr_write(\n"
     ]
    },
    {
     "name": "stdout",
     "output_type": "stream",
     "text": [
      "✅ Saved: C:\\Users\\kanzi\\Documents\\Part Time Job\\Hasil Export\\Extract Shapefile\\Kabupaten Bogor\\Jalan Eksisting\\01. Cileungsi - Cibeet_APILL.shp\n",
      "✅ Applied QML style: C:\\Users\\kanzi\\Documents\\Part Time Job\\Hasil Export\\Extract Shapefile\\Kabupaten Bogor\\Jalan Eksisting\\01. Cileungsi - Cibeet_APILL.qml\n",
      "Processing 'ZOSS' as Point geometry (regular sheet)\n",
      "Processing 'FAS PENYEBERANGAN' as Point geometry (regular sheet)\n",
      "✅ Saved: C:\\Users\\kanzi\\Documents\\Part Time Job\\Hasil Export\\Extract Shapefile\\Kabupaten Bogor\\Jalan Eksisting\\01. Cileungsi - Cibeet_FAS PENYEBERANGAN.shp\n",
      "⚠️ No QML file found for FAS PENYEBERANGAN\n",
      "⚠️ Skipping 'RAMBU PORTABLE' (No valid start coordinate columns found)\n",
      "⚠️ Skipping 'TRAFFIC CONE' (No valid start coordinate columns found)\n",
      "⚠️ Skipping 'WATER BARRIER' (No valid start coordinate columns found)\n"
     ]
    },
    {
     "name": "stderr",
     "output_type": "stream",
     "text": [
      "c:\\Users\\kanzi\\AppData\\Local\\Programs\\Python\\Python312\\Lib\\site-packages\\pyogrio\\raw.py:723: RuntimeWarning: Normalized/laundered field name: 'Detail ' to 'Detail'\n",
      "  ogr_write(\n"
     ]
    },
    {
     "name": "stdout",
     "output_type": "stream",
     "text": [
      "Processing 'CERMIN TIKUNG' as Point geometry (regular sheet)\n",
      "⚠️ Skipping 'CERMIN TIKUNG' (No valid geometry found)\n",
      "✅ Completed processing: 01. Cileungsi - Cibeet.xlsx\n",
      "\n",
      "[2/30] Processing: 02. CILEUNGSI - CIBINONG (CITEUREUP).xlsx\n"
     ]
    },
    {
     "name": "stderr",
     "output_type": "stream",
     "text": [
      "c:\\Users\\kanzi\\AppData\\Local\\Programs\\Python\\Python312\\Lib\\site-packages\\openpyxl\\worksheet\\_reader.py:329: UserWarning: Conditional Formatting extension is not supported and will be removed\n",
      "  warn(msg)\n"
     ]
    },
    {
     "name": "stdout",
     "output_type": "stream",
     "text": [
      "Processing 'RAMBU' as Point geometry (regular sheet)\n",
      "✅ Saved: C:\\Users\\kanzi\\Documents\\Part Time Job\\Hasil Export\\Extract Shapefile\\Kabupaten Bogor\\Jalan Eksisting\\02. CILEUNGSI - CIBINONG (CITEUREUP)_RAMBU.shp\n",
      "✅ Applied QML style: C:\\Users\\kanzi\\Documents\\Part Time Job\\Hasil Export\\Extract Shapefile\\Kabupaten Bogor\\Jalan Eksisting\\02. CILEUNGSI - CIBINONG (CITEUREUP)_RAMBU.qml\n",
      "Processing 'PJU' as Point geometry (regular sheet)\n",
      "✅ Saved: C:\\Users\\kanzi\\Documents\\Part Time Job\\Hasil Export\\Extract Shapefile\\Kabupaten Bogor\\Jalan Eksisting\\02. CILEUNGSI - CIBINONG (CITEUREUP)_PJU.shp\n",
      "✅ Applied QML style: C:\\Users\\kanzi\\Documents\\Part Time Job\\Hasil Export\\Extract Shapefile\\Kabupaten Bogor\\Jalan Eksisting\\02. CILEUNGSI - CIBINONG (CITEUREUP)_PJU.qml\n",
      "Processing 'RPPJ' as Point geometry (regular sheet)\n",
      "✅ Saved: C:\\Users\\kanzi\\Documents\\Part Time Job\\Hasil Export\\Extract Shapefile\\Kabupaten Bogor\\Jalan Eksisting\\02. CILEUNGSI - CIBINONG (CITEUREUP)_RPPJ.shp\n",
      "✅ Applied QML style: C:\\Users\\kanzi\\Documents\\Part Time Job\\Hasil Export\\Extract Shapefile\\Kabupaten Bogor\\Jalan Eksisting\\02. CILEUNGSI - CIBINONG (CITEUREUP)_RPPJ.qml\n"
     ]
    },
    {
     "name": "stderr",
     "output_type": "stream",
     "text": [
      "c:\\Users\\kanzi\\AppData\\Local\\Programs\\Python\\Python312\\Lib\\site-packages\\pyogrio\\raw.py:723: RuntimeWarning: Normalized/laundered field name: 'Detail ' to 'Detail'\n",
      "  ogr_write(\n",
      "c:\\Users\\kanzi\\AppData\\Local\\Programs\\Python\\Python312\\Lib\\site-packages\\pyogrio\\raw.py:723: RuntimeWarning: Normalized/laundered field name: 'Gambar ' to 'Gambar'\n",
      "  ogr_write(\n",
      "c:\\Users\\kanzi\\AppData\\Local\\Programs\\Python\\Python312\\Lib\\site-packages\\pyogrio\\raw.py:723: RuntimeWarning: Normalized/laundered field name: 'Lokasi ' to 'Lokasi'\n",
      "  ogr_write(\n",
      "c:\\Users\\kanzi\\AppData\\Local\\Programs\\Python\\Python312\\Lib\\site-packages\\pyogrio\\raw.py:723: RuntimeWarning: Normalized/laundered field name: 'Detail ' to 'Detail'\n",
      "  ogr_write(\n",
      "c:\\Users\\kanzi\\AppData\\Local\\Programs\\Python\\Python312\\Lib\\site-packages\\pyogrio\\raw.py:723: RuntimeWarning: Normalized/laundered field name: 'Lokasi ' to 'Lokasi'\n",
      "  ogr_write(\n",
      "c:\\Users\\kanzi\\AppData\\Local\\Programs\\Python\\Python312\\Lib\\site-packages\\pyogrio\\raw.py:723: RuntimeWarning: Normalized/laundered field name: 'Detail ' to 'Detail'\n",
      "  ogr_write(\n",
      "c:\\Users\\kanzi\\AppData\\Local\\Programs\\Python\\Python312\\Lib\\site-packages\\pyogrio\\raw.py:723: RuntimeWarning: Normalized/laundered field name: 'Gambar ' to 'Gambar'\n",
      "  ogr_write(\n",
      "c:\\Users\\kanzi\\AppData\\Local\\Programs\\Python\\Python312\\Lib\\site-packages\\pyogrio\\raw.py:723: RuntimeWarning: Normalized/laundered field name: 'Lokasi ' to 'Lokasi'\n",
      "  ogr_write(\n"
     ]
    },
    {
     "name": "stdout",
     "output_type": "stream",
     "text": [
      "Processing 'PAGAR PENGAMAN' as LineString (PAGAR PENGAMAN sheet)\n",
      "✅ Saved: C:\\Users\\kanzi\\Documents\\Part Time Job\\Hasil Export\\Extract Shapefile\\Kabupaten Bogor\\Jalan Eksisting\\02. CILEUNGSI - CIBINONG (CITEUREUP)_PAGAR PENGAMAN.shp\n",
      "✅ Applied QML style: C:\\Users\\kanzi\\Documents\\Part Time Job\\Hasil Export\\Extract Shapefile\\Kabupaten Bogor\\Jalan Eksisting\\02. CILEUNGSI - CIBINONG (CITEUREUP)_PAGAR PENGAMAN.qml\n"
     ]
    },
    {
     "name": "stderr",
     "output_type": "stream",
     "text": [
      "c:\\Users\\kanzi\\AppData\\Local\\Programs\\Python\\Python312\\Lib\\site-packages\\pyogrio\\raw.py:723: RuntimeWarning: Normalized/laundered field name: 'Detail ' to 'Detail'\n",
      "  ogr_write(\n",
      "c:\\Users\\kanzi\\AppData\\Local\\Programs\\Python\\Python312\\Lib\\site-packages\\pyogrio\\raw.py:723: RuntimeWarning: Normalized/laundered field name: 'Lokasi ' to 'Lokasi'\n",
      "  ogr_write(\n"
     ]
    },
    {
     "name": "stdout",
     "output_type": "stream",
     "text": [
      "Processing 'MARKA' as MultiPoint (MARKA sheet)\n",
      "✅ Saved: C:\\Users\\kanzi\\Documents\\Part Time Job\\Hasil Export\\Extract Shapefile\\Kabupaten Bogor\\Jalan Eksisting\\02. CILEUNGSI - CIBINONG (CITEUREUP)_MARKA.shp\n",
      "✅ Applied QML style: C:\\Users\\kanzi\\Documents\\Part Time Job\\Hasil Export\\Extract Shapefile\\Kabupaten Bogor\\Jalan Eksisting\\02. CILEUNGSI - CIBINONG (CITEUREUP)_MARKA.qml\n",
      "Processing 'WARNING LIGHT' as Point geometry (regular sheet)\n",
      "✅ Saved: C:\\Users\\kanzi\\Documents\\Part Time Job\\Hasil Export\\Extract Shapefile\\Kabupaten Bogor\\Jalan Eksisting\\02. CILEUNGSI - CIBINONG (CITEUREUP)_WARNING LIGHT.shp\n",
      "✅ Applied QML style: C:\\Users\\kanzi\\Documents\\Part Time Job\\Hasil Export\\Extract Shapefile\\Kabupaten Bogor\\Jalan Eksisting\\02. CILEUNGSI - CIBINONG (CITEUREUP)_WARNING LIGHT.qml\n",
      "Processing 'APILL' as Point geometry (regular sheet)\n"
     ]
    },
    {
     "name": "stderr",
     "output_type": "stream",
     "text": [
      "c:\\Users\\kanzi\\AppData\\Local\\Programs\\Python\\Python312\\Lib\\site-packages\\pyogrio\\raw.py:723: RuntimeWarning: Normalized/laundered field name: 'Detail ' to 'Detail'\n",
      "  ogr_write(\n",
      "c:\\Users\\kanzi\\AppData\\Local\\Programs\\Python\\Python312\\Lib\\site-packages\\pyogrio\\raw.py:723: RuntimeWarning: Normalized/laundered field name: 'Detail ' to 'Detail'\n",
      "  ogr_write(\n",
      "c:\\Users\\kanzi\\AppData\\Local\\Programs\\Python\\Python312\\Lib\\site-packages\\pyogrio\\raw.py:723: RuntimeWarning: Normalized/laundered field name: 'Lokasi ' to 'Lokasi'\n",
      "  ogr_write(\n"
     ]
    },
    {
     "name": "stdout",
     "output_type": "stream",
     "text": [
      "Processing 'ZOSS' as Point geometry (regular sheet)\n",
      "✅ Saved: C:\\Users\\kanzi\\Documents\\Part Time Job\\Hasil Export\\Extract Shapefile\\Kabupaten Bogor\\Jalan Eksisting\\02. CILEUNGSI - CIBINONG (CITEUREUP)_ZOSS.shp\n",
      "✅ Applied QML style: C:\\Users\\kanzi\\Documents\\Part Time Job\\Hasil Export\\Extract Shapefile\\Kabupaten Bogor\\Jalan Eksisting\\02. CILEUNGSI - CIBINONG (CITEUREUP)_ZOSS.qml\n",
      "Processing 'FAS PENYEBERANGAN' as Point geometry (regular sheet)\n"
     ]
    },
    {
     "name": "stderr",
     "output_type": "stream",
     "text": [
      "c:\\Users\\kanzi\\AppData\\Local\\Programs\\Python\\Python312\\Lib\\site-packages\\pyogrio\\raw.py:723: RuntimeWarning: Normalized/laundered field name: 'Detail ' to 'Detail'\n",
      "  ogr_write(\n",
      "c:\\Users\\kanzi\\AppData\\Local\\Programs\\Python\\Python312\\Lib\\site-packages\\pyogrio\\raw.py:723: RuntimeWarning: Normalized/laundered field name: 'Detail ' to 'Detail'\n",
      "  ogr_write(\n",
      "c:\\Users\\kanzi\\AppData\\Local\\Programs\\Python\\Python312\\Lib\\site-packages\\openpyxl\\worksheet\\_reader.py:329: UserWarning: Conditional Formatting extension is not supported and will be removed\n",
      "  warn(msg)\n"
     ]
    },
    {
     "name": "stdout",
     "output_type": "stream",
     "text": [
      "✅ Saved: C:\\Users\\kanzi\\Documents\\Part Time Job\\Hasil Export\\Extract Shapefile\\Kabupaten Bogor\\Jalan Eksisting\\02. CILEUNGSI - CIBINONG (CITEUREUP)_FAS PENYEBERANGAN.shp\n",
      "⚠️ No QML file found for FAS PENYEBERANGAN\n",
      "⚠️ Skipping 'RAMBU PORTABLE' (No valid start coordinate columns found)\n",
      "⚠️ Skipping 'TRAFFIC CONE' (No valid start coordinate columns found)\n",
      "⚠️ Skipping 'WATER BARRIER' (No valid start coordinate columns found)\n",
      "Processing 'CERMIN TIKUNG' as Point geometry (regular sheet)\n",
      "✅ Saved: C:\\Users\\kanzi\\Documents\\Part Time Job\\Hasil Export\\Extract Shapefile\\Kabupaten Bogor\\Jalan Eksisting\\02. CILEUNGSI - CIBINONG (CITEUREUP)_CERMIN TIKUNG.shp\n",
      "✅ Applied QML style: C:\\Users\\kanzi\\Documents\\Part Time Job\\Hasil Export\\Extract Shapefile\\Kabupaten Bogor\\Jalan Eksisting\\02. CILEUNGSI - CIBINONG (CITEUREUP)_CERMIN TIKUNG.qml\n",
      "✅ Completed processing: 02. CILEUNGSI - CIBINONG (CITEUREUP).xlsx\n",
      "\n",
      "[3/30] Processing: 03. Narogong - Cileungsi.xlsx\n",
      "Processing 'RAMBU' as Point geometry (regular sheet)\n",
      "✅ Saved: C:\\Users\\kanzi\\Documents\\Part Time Job\\Hasil Export\\Extract Shapefile\\Kabupaten Bogor\\Jalan Eksisting\\03. Narogong - Cileungsi_RAMBU.shp\n",
      "✅ Applied QML style: C:\\Users\\kanzi\\Documents\\Part Time Job\\Hasil Export\\Extract Shapefile\\Kabupaten Bogor\\Jalan Eksisting\\03. Narogong - Cileungsi_RAMBU.qml\n"
     ]
    },
    {
     "name": "stderr",
     "output_type": "stream",
     "text": [
      "c:\\Users\\kanzi\\AppData\\Local\\Programs\\Python\\Python312\\Lib\\site-packages\\pyogrio\\raw.py:723: RuntimeWarning: Normalized/laundered field name: 'Detail ' to 'Detail'\n",
      "  ogr_write(\n",
      "c:\\Users\\kanzi\\AppData\\Local\\Programs\\Python\\Python312\\Lib\\site-packages\\pyogrio\\raw.py:723: RuntimeWarning: Normalized/laundered field name: 'Gambar ' to 'Gambar'\n",
      "  ogr_write(\n",
      "c:\\Users\\kanzi\\AppData\\Local\\Programs\\Python\\Python312\\Lib\\site-packages\\pyogrio\\raw.py:723: RuntimeWarning: Normalized/laundered field name: 'Lokasi ' to 'Lokasi'\n",
      "  ogr_write(\n"
     ]
    },
    {
     "name": "stdout",
     "output_type": "stream",
     "text": [
      "Processing 'PJU' as Point geometry (regular sheet)\n",
      "✅ Saved: C:\\Users\\kanzi\\Documents\\Part Time Job\\Hasil Export\\Extract Shapefile\\Kabupaten Bogor\\Jalan Eksisting\\03. Narogong - Cileungsi_PJU.shp\n",
      "✅ Applied QML style: C:\\Users\\kanzi\\Documents\\Part Time Job\\Hasil Export\\Extract Shapefile\\Kabupaten Bogor\\Jalan Eksisting\\03. Narogong - Cileungsi_PJU.qml\n",
      "Processing 'RPPJ' as Point geometry (regular sheet)\n",
      "✅ Saved: C:\\Users\\kanzi\\Documents\\Part Time Job\\Hasil Export\\Extract Shapefile\\Kabupaten Bogor\\Jalan Eksisting\\03. Narogong - Cileungsi_RPPJ.shp\n",
      "✅ Applied QML style: C:\\Users\\kanzi\\Documents\\Part Time Job\\Hasil Export\\Extract Shapefile\\Kabupaten Bogor\\Jalan Eksisting\\03. Narogong - Cileungsi_RPPJ.qml\n"
     ]
    },
    {
     "name": "stderr",
     "output_type": "stream",
     "text": [
      "c:\\Users\\kanzi\\AppData\\Local\\Programs\\Python\\Python312\\Lib\\site-packages\\pyogrio\\raw.py:723: RuntimeWarning: Normalized/laundered field name: 'Detail ' to 'Detail'\n",
      "  ogr_write(\n",
      "c:\\Users\\kanzi\\AppData\\Local\\Programs\\Python\\Python312\\Lib\\site-packages\\pyogrio\\raw.py:723: RuntimeWarning: Normalized/laundered field name: 'Lokasi ' to 'Lokasi'\n",
      "  ogr_write(\n",
      "c:\\Users\\kanzi\\AppData\\Local\\Programs\\Python\\Python312\\Lib\\site-packages\\pyogrio\\raw.py:723: RuntimeWarning: Normalized/laundered field name: 'Detail ' to 'Detail'\n",
      "  ogr_write(\n",
      "c:\\Users\\kanzi\\AppData\\Local\\Programs\\Python\\Python312\\Lib\\site-packages\\pyogrio\\raw.py:723: RuntimeWarning: Normalized/laundered field name: 'Gambar ' to 'Gambar'\n",
      "  ogr_write(\n",
      "c:\\Users\\kanzi\\AppData\\Local\\Programs\\Python\\Python312\\Lib\\site-packages\\pyogrio\\raw.py:723: RuntimeWarning: Normalized/laundered field name: 'Lokasi ' to 'Lokasi'\n",
      "  ogr_write(\n"
     ]
    },
    {
     "name": "stdout",
     "output_type": "stream",
     "text": [
      "Processing 'PAGAR PENGAMAN' as LineString (PAGAR PENGAMAN sheet)\n",
      "✅ Saved: C:\\Users\\kanzi\\Documents\\Part Time Job\\Hasil Export\\Extract Shapefile\\Kabupaten Bogor\\Jalan Eksisting\\03. Narogong - Cileungsi_PAGAR PENGAMAN.shp\n",
      "✅ Applied QML style: C:\\Users\\kanzi\\Documents\\Part Time Job\\Hasil Export\\Extract Shapefile\\Kabupaten Bogor\\Jalan Eksisting\\03. Narogong - Cileungsi_PAGAR PENGAMAN.qml\n"
     ]
    },
    {
     "name": "stderr",
     "output_type": "stream",
     "text": [
      "c:\\Users\\kanzi\\AppData\\Local\\Programs\\Python\\Python312\\Lib\\site-packages\\pyogrio\\raw.py:723: RuntimeWarning: Normalized/laundered field name: 'Detail ' to 'Detail'\n",
      "  ogr_write(\n",
      "c:\\Users\\kanzi\\AppData\\Local\\Programs\\Python\\Python312\\Lib\\site-packages\\pyogrio\\raw.py:723: RuntimeWarning: Normalized/laundered field name: 'Lokasi ' to 'Lokasi'\n",
      "  ogr_write(\n"
     ]
    },
    {
     "name": "stdout",
     "output_type": "stream",
     "text": [
      "Processing 'MARKA' as MultiPoint (MARKA sheet)\n",
      "✅ Saved: C:\\Users\\kanzi\\Documents\\Part Time Job\\Hasil Export\\Extract Shapefile\\Kabupaten Bogor\\Jalan Eksisting\\03. Narogong - Cileungsi_MARKA.shp\n",
      "✅ Applied QML style: C:\\Users\\kanzi\\Documents\\Part Time Job\\Hasil Export\\Extract Shapefile\\Kabupaten Bogor\\Jalan Eksisting\\03. Narogong - Cileungsi_MARKA.qml\n",
      "Processing 'WARNING LIGHT' as Point geometry (regular sheet)\n"
     ]
    },
    {
     "name": "stderr",
     "output_type": "stream",
     "text": [
      "c:\\Users\\kanzi\\AppData\\Local\\Programs\\Python\\Python312\\Lib\\site-packages\\pyogrio\\raw.py:723: RuntimeWarning: Normalized/laundered field name: 'Detail ' to 'Detail'\n",
      "  ogr_write(\n",
      "c:\\Users\\kanzi\\AppData\\Local\\Programs\\Python\\Python312\\Lib\\site-packages\\pyogrio\\raw.py:723: RuntimeWarning: Normalized/laundered field name: 'Detail ' to 'Detail'\n",
      "  ogr_write(\n",
      "c:\\Users\\kanzi\\AppData\\Local\\Programs\\Python\\Python312\\Lib\\site-packages\\pyogrio\\raw.py:723: RuntimeWarning: Normalized/laundered field name: 'Lokasi ' to 'Lokasi'\n",
      "  ogr_write(\n",
      "c:\\Users\\kanzi\\AppData\\Local\\Programs\\Python\\Python312\\Lib\\site-packages\\pyogrio\\raw.py:723: RuntimeWarning: Normalized/laundered field name: 'Detail ' to 'Detail'\n",
      "  ogr_write(\n",
      "c:\\Users\\kanzi\\AppData\\Local\\Programs\\Python\\Python312\\Lib\\site-packages\\pyogrio\\raw.py:723: RuntimeWarning: Normalized/laundered field name: 'Lokasi ' to 'Lokasi'\n",
      "  ogr_write(\n"
     ]
    },
    {
     "name": "stdout",
     "output_type": "stream",
     "text": [
      "✅ Saved: C:\\Users\\kanzi\\Documents\\Part Time Job\\Hasil Export\\Extract Shapefile\\Kabupaten Bogor\\Jalan Eksisting\\03. Narogong - Cileungsi_WARNING LIGHT.shp\n",
      "✅ Applied QML style: C:\\Users\\kanzi\\Documents\\Part Time Job\\Hasil Export\\Extract Shapefile\\Kabupaten Bogor\\Jalan Eksisting\\03. Narogong - Cileungsi_WARNING LIGHT.qml\n",
      "Processing 'APILL' as Point geometry (regular sheet)\n",
      "✅ Saved: C:\\Users\\kanzi\\Documents\\Part Time Job\\Hasil Export\\Extract Shapefile\\Kabupaten Bogor\\Jalan Eksisting\\03. Narogong - Cileungsi_APILL.shp\n",
      "✅ Applied QML style: C:\\Users\\kanzi\\Documents\\Part Time Job\\Hasil Export\\Extract Shapefile\\Kabupaten Bogor\\Jalan Eksisting\\03. Narogong - Cileungsi_APILL.qml\n",
      "Processing 'ZOSS' as Point geometry (regular sheet)\n",
      "✅ Saved: C:\\Users\\kanzi\\Documents\\Part Time Job\\Hasil Export\\Extract Shapefile\\Kabupaten Bogor\\Jalan Eksisting\\03. Narogong - Cileungsi_ZOSS.shp\n",
      "✅ Applied QML style: C:\\Users\\kanzi\\Documents\\Part Time Job\\Hasil Export\\Extract Shapefile\\Kabupaten Bogor\\Jalan Eksisting\\03. Narogong - Cileungsi_ZOSS.qml\n",
      "Processing 'FAS PENYEBERANGAN' as Point geometry (regular sheet)\n",
      "✅ Saved: C:\\Users\\kanzi\\Documents\\Part Time Job\\Hasil Export\\Extract Shapefile\\Kabupaten Bogor\\Jalan Eksisting\\03. Narogong - Cileungsi_FAS PENYEBERANGAN.shp\n",
      "⚠️ No QML file found for FAS PENYEBERANGAN\n",
      "⚠️ Skipping 'RAMBU PORTABLE' (No valid start coordinate columns found)\n",
      "⚠️ Skipping 'TRAFFIC CONE' (No valid start coordinate columns found)\n",
      "⚠️ Skipping 'WATER BARRIER' (No valid start coordinate columns found)\n"
     ]
    },
    {
     "name": "stderr",
     "output_type": "stream",
     "text": [
      "c:\\Users\\kanzi\\AppData\\Local\\Programs\\Python\\Python312\\Lib\\site-packages\\pyogrio\\raw.py:723: RuntimeWarning: Normalized/laundered field name: 'Detail ' to 'Detail'\n",
      "  ogr_write(\n"
     ]
    },
    {
     "name": "stdout",
     "output_type": "stream",
     "text": [
      "Processing 'CERMIN TIKUNG' as Point geometry (regular sheet)\n",
      "⚠️ Skipping 'CERMIN TIKUNG' (No valid geometry found)\n",
      "✅ Completed processing: 03. Narogong - Cileungsi.xlsx\n",
      "\n",
      "[4/30] Processing: 04. Jl. Moch Toha (Parung Panjang).xlsx\n"
     ]
    },
    {
     "name": "stderr",
     "output_type": "stream",
     "text": [
      "c:\\Users\\kanzi\\AppData\\Local\\Programs\\Python\\Python312\\Lib\\site-packages\\openpyxl\\worksheet\\_reader.py:329: UserWarning: Conditional Formatting extension is not supported and will be removed\n",
      "  warn(msg)\n"
     ]
    },
    {
     "name": "stdout",
     "output_type": "stream",
     "text": [
      "Processing 'RAMBU' as Point geometry (regular sheet)\n",
      "✅ Saved: C:\\Users\\kanzi\\Documents\\Part Time Job\\Hasil Export\\Extract Shapefile\\Kabupaten Bogor\\Jalan Eksisting\\04. Jl. Moch Toha (Parung Panjang)_RAMBU.shp\n",
      "✅ Applied QML style: C:\\Users\\kanzi\\Documents\\Part Time Job\\Hasil Export\\Extract Shapefile\\Kabupaten Bogor\\Jalan Eksisting\\04. Jl. Moch Toha (Parung Panjang)_RAMBU.qml\n"
     ]
    },
    {
     "name": "stderr",
     "output_type": "stream",
     "text": [
      "c:\\Users\\kanzi\\AppData\\Local\\Programs\\Python\\Python312\\Lib\\site-packages\\pyogrio\\raw.py:723: RuntimeWarning: Normalized/laundered field name: 'Detail ' to 'Detail'\n",
      "  ogr_write(\n",
      "c:\\Users\\kanzi\\AppData\\Local\\Programs\\Python\\Python312\\Lib\\site-packages\\pyogrio\\raw.py:723: RuntimeWarning: Normalized/laundered field name: 'Gambar ' to 'Gambar'\n",
      "  ogr_write(\n",
      "c:\\Users\\kanzi\\AppData\\Local\\Programs\\Python\\Python312\\Lib\\site-packages\\pyogrio\\raw.py:723: RuntimeWarning: Normalized/laundered field name: 'Lokasi ' to 'Lokasi'\n",
      "  ogr_write(\n"
     ]
    },
    {
     "name": "stdout",
     "output_type": "stream",
     "text": [
      "Processing 'PJU' as Point geometry (regular sheet)\n",
      "✅ Saved: C:\\Users\\kanzi\\Documents\\Part Time Job\\Hasil Export\\Extract Shapefile\\Kabupaten Bogor\\Jalan Eksisting\\04. Jl. Moch Toha (Parung Panjang)_PJU.shp\n",
      "✅ Applied QML style: C:\\Users\\kanzi\\Documents\\Part Time Job\\Hasil Export\\Extract Shapefile\\Kabupaten Bogor\\Jalan Eksisting\\04. Jl. Moch Toha (Parung Panjang)_PJU.qml\n",
      "Processing 'RPPJ' as Point geometry (regular sheet)\n",
      "✅ Saved: C:\\Users\\kanzi\\Documents\\Part Time Job\\Hasil Export\\Extract Shapefile\\Kabupaten Bogor\\Jalan Eksisting\\04. Jl. Moch Toha (Parung Panjang)_RPPJ.shp\n",
      "✅ Applied QML style: C:\\Users\\kanzi\\Documents\\Part Time Job\\Hasil Export\\Extract Shapefile\\Kabupaten Bogor\\Jalan Eksisting\\04. Jl. Moch Toha (Parung Panjang)_RPPJ.qml\n"
     ]
    },
    {
     "name": "stderr",
     "output_type": "stream",
     "text": [
      "c:\\Users\\kanzi\\AppData\\Local\\Programs\\Python\\Python312\\Lib\\site-packages\\pyogrio\\raw.py:723: RuntimeWarning: Normalized/laundered field name: 'Detail ' to 'Detail'\n",
      "  ogr_write(\n",
      "c:\\Users\\kanzi\\AppData\\Local\\Programs\\Python\\Python312\\Lib\\site-packages\\pyogrio\\raw.py:723: RuntimeWarning: Normalized/laundered field name: 'Lokasi ' to 'Lokasi'\n",
      "  ogr_write(\n",
      "c:\\Users\\kanzi\\AppData\\Local\\Programs\\Python\\Python312\\Lib\\site-packages\\pyogrio\\raw.py:723: RuntimeWarning: Normalized/laundered field name: 'Detail ' to 'Detail'\n",
      "  ogr_write(\n",
      "c:\\Users\\kanzi\\AppData\\Local\\Programs\\Python\\Python312\\Lib\\site-packages\\pyogrio\\raw.py:723: RuntimeWarning: Normalized/laundered field name: 'Gambar ' to 'Gambar'\n",
      "  ogr_write(\n",
      "c:\\Users\\kanzi\\AppData\\Local\\Programs\\Python\\Python312\\Lib\\site-packages\\pyogrio\\raw.py:723: RuntimeWarning: Normalized/laundered field name: 'Lokasi ' to 'Lokasi'\n",
      "  ogr_write(\n"
     ]
    },
    {
     "name": "stdout",
     "output_type": "stream",
     "text": [
      "Processing 'PAGAR PENGAMAN' as LineString (PAGAR PENGAMAN sheet)\n",
      "Processing 'MARKA' as MultiPoint (MARKA sheet)\n",
      "Processing 'WARNING LIGHT' as Point geometry (regular sheet)\n",
      "✅ Saved: C:\\Users\\kanzi\\Documents\\Part Time Job\\Hasil Export\\Extract Shapefile\\Kabupaten Bogor\\Jalan Eksisting\\04. Jl. Moch Toha (Parung Panjang)_WARNING LIGHT.shp\n",
      "✅ Applied QML style: C:\\Users\\kanzi\\Documents\\Part Time Job\\Hasil Export\\Extract Shapefile\\Kabupaten Bogor\\Jalan Eksisting\\04. Jl. Moch Toha (Parung Panjang)_WARNING LIGHT.qml\n"
     ]
    },
    {
     "name": "stderr",
     "output_type": "stream",
     "text": [
      "c:\\Users\\kanzi\\AppData\\Local\\Programs\\Python\\Python312\\Lib\\site-packages\\pyogrio\\raw.py:723: RuntimeWarning: Normalized/laundered field name: 'Detail ' to 'Detail'\n",
      "  ogr_write(\n",
      "c:\\Users\\kanzi\\AppData\\Local\\Programs\\Python\\Python312\\Lib\\site-packages\\pyogrio\\raw.py:723: RuntimeWarning: Normalized/laundered field name: 'Lokasi ' to 'Lokasi'\n",
      "  ogr_write(\n"
     ]
    },
    {
     "name": "stdout",
     "output_type": "stream",
     "text": [
      "Processing 'APILL' as Point geometry (regular sheet)\n",
      "Processing 'ZOSS' as Point geometry (regular sheet)\n",
      "Processing 'FAS PENYEBERANGAN' as Point geometry (regular sheet)\n",
      "⚠️ Skipping 'RAMBU PORTABLE' (No valid start coordinate columns found)\n",
      "⚠️ Skipping 'TRAFFIC CONE' (No valid start coordinate columns found)\n",
      "⚠️ Skipping 'WATER BARRIER' (No valid start coordinate columns found)\n",
      "Processing 'CERMIN TIKUNG' as Point geometry (regular sheet)\n",
      "⚠️ Skipping 'CERMIN TIKUNG' (No valid geometry found)\n",
      "✅ Completed processing: 04. Jl. Moch Toha (Parung Panjang).xlsx\n",
      "\n",
      "[5/30] Processing: 05. PARUNG PANJANG - BUNAR.xlsx\n"
     ]
    },
    {
     "name": "stderr",
     "output_type": "stream",
     "text": [
      "c:\\Users\\kanzi\\AppData\\Local\\Programs\\Python\\Python312\\Lib\\site-packages\\openpyxl\\worksheet\\_reader.py:329: UserWarning: Conditional Formatting extension is not supported and will be removed\n",
      "  warn(msg)\n"
     ]
    },
    {
     "name": "stdout",
     "output_type": "stream",
     "text": [
      "Processing 'RAMBU' as Point geometry (regular sheet)\n",
      "✅ Saved: C:\\Users\\kanzi\\Documents\\Part Time Job\\Hasil Export\\Extract Shapefile\\Kabupaten Bogor\\Jalan Eksisting\\05. PARUNG PANJANG - BUNAR_RAMBU.shp\n",
      "✅ Applied QML style: C:\\Users\\kanzi\\Documents\\Part Time Job\\Hasil Export\\Extract Shapefile\\Kabupaten Bogor\\Jalan Eksisting\\05. PARUNG PANJANG - BUNAR_RAMBU.qml\n"
     ]
    },
    {
     "name": "stderr",
     "output_type": "stream",
     "text": [
      "c:\\Users\\kanzi\\AppData\\Local\\Programs\\Python\\Python312\\Lib\\site-packages\\pyogrio\\raw.py:723: RuntimeWarning: Normalized/laundered field name: 'Detail ' to 'Detail'\n",
      "  ogr_write(\n",
      "c:\\Users\\kanzi\\AppData\\Local\\Programs\\Python\\Python312\\Lib\\site-packages\\pyogrio\\raw.py:723: RuntimeWarning: Normalized/laundered field name: 'Gambar ' to 'Gambar'\n",
      "  ogr_write(\n",
      "c:\\Users\\kanzi\\AppData\\Local\\Programs\\Python\\Python312\\Lib\\site-packages\\pyogrio\\raw.py:723: RuntimeWarning: Normalized/laundered field name: 'Lokasi ' to 'Lokasi'\n",
      "  ogr_write(\n"
     ]
    },
    {
     "name": "stdout",
     "output_type": "stream",
     "text": [
      "Processing 'PJU' as Point geometry (regular sheet)\n",
      "✅ Saved: C:\\Users\\kanzi\\Documents\\Part Time Job\\Hasil Export\\Extract Shapefile\\Kabupaten Bogor\\Jalan Eksisting\\05. PARUNG PANJANG - BUNAR_PJU.shp\n",
      "✅ Applied QML style: C:\\Users\\kanzi\\Documents\\Part Time Job\\Hasil Export\\Extract Shapefile\\Kabupaten Bogor\\Jalan Eksisting\\05. PARUNG PANJANG - BUNAR_PJU.qml\n",
      "Processing 'RPPJ' as Point geometry (regular sheet)\n"
     ]
    },
    {
     "name": "stderr",
     "output_type": "stream",
     "text": [
      "c:\\Users\\kanzi\\AppData\\Local\\Programs\\Python\\Python312\\Lib\\site-packages\\pyogrio\\raw.py:723: RuntimeWarning: Normalized/laundered field name: 'Detail ' to 'Detail'\n",
      "  ogr_write(\n",
      "c:\\Users\\kanzi\\AppData\\Local\\Programs\\Python\\Python312\\Lib\\site-packages\\pyogrio\\raw.py:723: RuntimeWarning: Normalized/laundered field name: 'Lokasi ' to 'Lokasi'\n",
      "  ogr_write(\n"
     ]
    },
    {
     "name": "stdout",
     "output_type": "stream",
     "text": [
      "Processing 'PAGAR PENGAMAN' as LineString (PAGAR PENGAMAN sheet)\n",
      "Processing 'MARKA' as MultiPoint (MARKA sheet)\n",
      "Processing 'ZOSS' as Point geometry (regular sheet)\n",
      "Processing 'WARNING LIGHT' as Point geometry (regular sheet)\n",
      "✅ Saved: C:\\Users\\kanzi\\Documents\\Part Time Job\\Hasil Export\\Extract Shapefile\\Kabupaten Garut\\Jalan Eksisting\\05. PARUNG PANJANG - BUNAR_WARNING LIGHT.shp\n",
      "✅ Applied QML style: C:\\Users\\kanzi\\Documents\\Part Time Job\\Hasil Export\\Extract Shapefile\\Kabupaten Garut\\Jalan Eksisting\\05. PARUNG PANJANG - BUNAR_WARNING LIGHT.qml\n",
      "Processing 'FAS PENYEBERANGAN' as Point geometry (regular sheet)\n"
     ]
    },
    {
     "name": "stderr",
     "output_type": "stream",
     "text": [
      "c:\\Users\\kanzi\\AppData\\Local\\Programs\\Python\\Python312\\Lib\\site-packages\\pyogrio\\raw.py:723: RuntimeWarning: Normalized/laundered field name: 'Detail ' to 'Detail'\n",
      "  ogr_write(\n",
      "c:\\Users\\kanzi\\AppData\\Local\\Programs\\Python\\Python312\\Lib\\site-packages\\pyogrio\\raw.py:723: RuntimeWarning: Normalized/laundered field name: 'Lokasi ' to 'Lokasi'\n",
      "  ogr_write(\n"
     ]
    },
    {
     "name": "stdout",
     "output_type": "stream",
     "text": [
      "Processing 'APILL' as Point geometry (regular sheet)\n",
      "✅ Saved: C:\\Users\\kanzi\\Documents\\Part Time Job\\Hasil Export\\Extract Shapefile\\Kabupaten Bogor\\Jalan Eksisting\\05. PARUNG PANJANG - BUNAR_APILL.shp\n",
      "✅ Applied QML style: C:\\Users\\kanzi\\Documents\\Part Time Job\\Hasil Export\\Extract Shapefile\\Kabupaten Bogor\\Jalan Eksisting\\05. PARUNG PANJANG - BUNAR_APILL.qml\n",
      "⚠️ Skipping 'RAMBU PORTABLE' (No valid start coordinate columns found)\n",
      "⚠️ Skipping 'TRAFFIC CONE' (No valid start coordinate columns found)\n",
      "⚠️ Skipping 'WATER BARRIER' (No valid start coordinate columns found)\n"
     ]
    },
    {
     "name": "stderr",
     "output_type": "stream",
     "text": [
      "c:\\Users\\kanzi\\AppData\\Local\\Programs\\Python\\Python312\\Lib\\site-packages\\pyogrio\\raw.py:723: RuntimeWarning: Normalized/laundered field name: 'Detail ' to 'Detail'\n",
      "  ogr_write(\n",
      "c:\\Users\\kanzi\\AppData\\Local\\Programs\\Python\\Python312\\Lib\\site-packages\\pyogrio\\raw.py:723: RuntimeWarning: Normalized/laundered field name: 'Lokasi ' to 'Lokasi'\n",
      "  ogr_write(\n"
     ]
    },
    {
     "name": "stdout",
     "output_type": "stream",
     "text": [
      "Processing 'CERMIN TIKUNG' as Point geometry (regular sheet)\n",
      "⚠️ Skipping 'CERMIN TIKUNG' (No valid geometry found)\n",
      "✅ Completed processing: 05. PARUNG PANJANG - BUNAR.xlsx\n",
      "\n",
      "[6/30] Processing: 06. Tanjung Pura - Batujaya.xlsx\n"
     ]
    },
    {
     "name": "stderr",
     "output_type": "stream",
     "text": [
      "c:\\Users\\kanzi\\AppData\\Local\\Programs\\Python\\Python312\\Lib\\site-packages\\openpyxl\\worksheet\\_reader.py:329: UserWarning: Conditional Formatting extension is not supported and will be removed\n",
      "  warn(msg)\n"
     ]
    },
    {
     "name": "stdout",
     "output_type": "stream",
     "text": [
      "Processing 'PJU' as Point geometry (regular sheet)\n",
      "✅ Saved: C:\\Users\\kanzi\\Documents\\Part Time Job\\Hasil Export\\Extract Shapefile\\Kabupaten Karawang\\Jalan Eksisting\\06. Tanjung Pura - Batujaya_PJU.shp\n",
      "✅ Applied QML style: C:\\Users\\kanzi\\Documents\\Part Time Job\\Hasil Export\\Extract Shapefile\\Kabupaten Karawang\\Jalan Eksisting\\06. Tanjung Pura - Batujaya_PJU.qml\n",
      "Processing 'RAMBU' as Point geometry (regular sheet)\n",
      "✅ Saved: C:\\Users\\kanzi\\Documents\\Part Time Job\\Hasil Export\\Extract Shapefile\\Kabupaten Karawang\\Jalan Eksisting\\06. Tanjung Pura - Batujaya_RAMBU.shp\n",
      "✅ Applied QML style: C:\\Users\\kanzi\\Documents\\Part Time Job\\Hasil Export\\Extract Shapefile\\Kabupaten Karawang\\Jalan Eksisting\\06. Tanjung Pura - Batujaya_RAMBU.qml\n",
      "Processing 'RPPJ' as Point geometry (regular sheet)\n"
     ]
    },
    {
     "name": "stderr",
     "output_type": "stream",
     "text": [
      "c:\\Users\\kanzi\\AppData\\Local\\Programs\\Python\\Python312\\Lib\\site-packages\\pyogrio\\raw.py:723: RuntimeWarning: Normalized/laundered field name: 'Detail ' to 'Detail'\n",
      "  ogr_write(\n",
      "c:\\Users\\kanzi\\AppData\\Local\\Programs\\Python\\Python312\\Lib\\site-packages\\pyogrio\\raw.py:723: RuntimeWarning: Normalized/laundered field name: 'Lokasi ' to 'Lokasi'\n",
      "  ogr_write(\n",
      "c:\\Users\\kanzi\\AppData\\Local\\Programs\\Python\\Python312\\Lib\\site-packages\\pyogrio\\raw.py:723: RuntimeWarning: Normalized/laundered field name: 'Detail ' to 'Detail'\n",
      "  ogr_write(\n",
      "c:\\Users\\kanzi\\AppData\\Local\\Programs\\Python\\Python312\\Lib\\site-packages\\pyogrio\\raw.py:723: RuntimeWarning: Normalized/laundered field name: 'Gambar ' to 'Gambar'\n",
      "  ogr_write(\n",
      "c:\\Users\\kanzi\\AppData\\Local\\Programs\\Python\\Python312\\Lib\\site-packages\\pyogrio\\raw.py:723: RuntimeWarning: Normalized/laundered field name: 'Lokasi ' to 'Lokasi'\n",
      "  ogr_write(\n",
      "c:\\Users\\kanzi\\AppData\\Local\\Programs\\Python\\Python312\\Lib\\site-packages\\pyogrio\\raw.py:723: RuntimeWarning: Normalized/laundered field name: 'Detail ' to 'Detail'\n",
      "  ogr_write(\n",
      "c:\\Users\\kanzi\\AppData\\Local\\Programs\\Python\\Python312\\Lib\\site-packages\\pyogrio\\raw.py:723: RuntimeWarning: Normalized/laundered field name: 'Gambar ' to 'Gambar'\n",
      "  ogr_write(\n",
      "c:\\Users\\kanzi\\AppData\\Local\\Programs\\Python\\Python312\\Lib\\site-packages\\pyogrio\\raw.py:723: RuntimeWarning: Normalized/laundered field name: 'Lokasi ' to 'Lokasi'\n",
      "  ogr_write(\n"
     ]
    },
    {
     "name": "stdout",
     "output_type": "stream",
     "text": [
      "✅ Saved: C:\\Users\\kanzi\\Documents\\Part Time Job\\Hasil Export\\Extract Shapefile\\Kabupaten Karawang\\Jalan Eksisting\\06. Tanjung Pura - Batujaya_RPPJ.shp\n",
      "✅ Applied QML style: C:\\Users\\kanzi\\Documents\\Part Time Job\\Hasil Export\\Extract Shapefile\\Kabupaten Karawang\\Jalan Eksisting\\06. Tanjung Pura - Batujaya_RPPJ.qml\n",
      "Processing 'PAGAR PENGAMAN' as LineString (PAGAR PENGAMAN sheet)\n",
      "✅ Saved: C:\\Users\\kanzi\\Documents\\Part Time Job\\Hasil Export\\Extract Shapefile\\Kabupaten Karawang\\Jalan Eksisting\\06. Tanjung Pura - Batujaya_PAGAR PENGAMAN.shp\n",
      "✅ Applied QML style: C:\\Users\\kanzi\\Documents\\Part Time Job\\Hasil Export\\Extract Shapefile\\Kabupaten Karawang\\Jalan Eksisting\\06. Tanjung Pura - Batujaya_PAGAR PENGAMAN.qml\n"
     ]
    },
    {
     "name": "stderr",
     "output_type": "stream",
     "text": [
      "c:\\Users\\kanzi\\AppData\\Local\\Programs\\Python\\Python312\\Lib\\site-packages\\pyogrio\\raw.py:723: RuntimeWarning: Normalized/laundered field name: 'Detail ' to 'Detail'\n",
      "  ogr_write(\n",
      "c:\\Users\\kanzi\\AppData\\Local\\Programs\\Python\\Python312\\Lib\\site-packages\\pyogrio\\raw.py:723: RuntimeWarning: Normalized/laundered field name: 'Lokasi ' to 'Lokasi'\n",
      "  ogr_write(\n"
     ]
    },
    {
     "name": "stdout",
     "output_type": "stream",
     "text": [
      "Processing 'MARKA' as MultiPoint (MARKA sheet)\n",
      "✅ Saved: C:\\Users\\kanzi\\Documents\\Part Time Job\\Hasil Export\\Extract Shapefile\\Kabupaten Karawang\\Jalan Eksisting\\06. Tanjung Pura - Batujaya_MARKA.shp\n",
      "✅ Applied QML style: C:\\Users\\kanzi\\Documents\\Part Time Job\\Hasil Export\\Extract Shapefile\\Kabupaten Karawang\\Jalan Eksisting\\06. Tanjung Pura - Batujaya_MARKA.qml\n"
     ]
    },
    {
     "name": "stderr",
     "output_type": "stream",
     "text": [
      "c:\\Users\\kanzi\\AppData\\Local\\Programs\\Python\\Python312\\Lib\\site-packages\\pyogrio\\raw.py:723: RuntimeWarning: Normalized/laundered field name: 'Detail ' to 'Detail'\n",
      "  ogr_write(\n"
     ]
    },
    {
     "name": "stdout",
     "output_type": "stream",
     "text": [
      "Processing 'WARNING LIGHT' as Point geometry (regular sheet)\n",
      "✅ Saved: C:\\Users\\kanzi\\Documents\\Part Time Job\\Hasil Export\\Extract Shapefile\\Kabupaten Karawang\\Jalan Eksisting\\06. Tanjung Pura - Batujaya_WARNING LIGHT.shp\n",
      "✅ Applied QML style: C:\\Users\\kanzi\\Documents\\Part Time Job\\Hasil Export\\Extract Shapefile\\Kabupaten Karawang\\Jalan Eksisting\\06. Tanjung Pura - Batujaya_WARNING LIGHT.qml\n"
     ]
    },
    {
     "name": "stderr",
     "output_type": "stream",
     "text": [
      "c:\\Users\\kanzi\\AppData\\Local\\Programs\\Python\\Python312\\Lib\\site-packages\\pyogrio\\raw.py:723: RuntimeWarning: Normalized/laundered field name: 'Detail ' to 'Detail'\n",
      "  ogr_write(\n",
      "c:\\Users\\kanzi\\AppData\\Local\\Programs\\Python\\Python312\\Lib\\site-packages\\pyogrio\\raw.py:723: RuntimeWarning: Normalized/laundered field name: 'Lokasi ' to 'Lokasi'\n",
      "  ogr_write(\n"
     ]
    },
    {
     "name": "stdout",
     "output_type": "stream",
     "text": [
      "Processing 'APILL' as Point geometry (regular sheet)\n",
      "Processing 'ZOSS' as Point geometry (regular sheet)\n",
      "⚠️ Skipping 'ZOSS' (No valid geometry found)\n",
      "Processing 'FAS PENYEBERANGAN' as Point geometry (regular sheet)\n"
     ]
    },
    {
     "name": "stderr",
     "output_type": "stream",
     "text": [
      "c:\\Users\\kanzi\\AppData\\Local\\Programs\\Python\\Python312\\Lib\\site-packages\\pyogrio\\raw.py:723: RuntimeWarning: Normalized/laundered field name: 'Detail ' to 'Detail'\n",
      "  ogr_write(\n"
     ]
    },
    {
     "name": "stdout",
     "output_type": "stream",
     "text": [
      "✅ Saved: C:\\Users\\kanzi\\Documents\\Part Time Job\\Hasil Export\\Extract Shapefile\\Kabupaten Karawang\\Jalan Eksisting\\06. Tanjung Pura - Batujaya_FAS PENYEBERANGAN.shp\n",
      "⚠️ No QML file found for FAS PENYEBERANGAN\n",
      "⚠️ Skipping 'RAMBU PORTABLE' (No valid start coordinate columns found)\n",
      "⚠️ Skipping 'TRAFFIC CONE' (No valid start coordinate columns found)\n",
      "⚠️ Skipping 'WATER BARRIER' (No valid start coordinate columns found)\n",
      "Processing 'CERMIN TIKUNG' as Point geometry (regular sheet)\n",
      "⚠️ Skipping 'CERMIN TIKUNG' (No valid geometry found)\n",
      "✅ Completed processing: 06. Tanjung Pura - Batujaya.xlsx\n",
      "\n",
      "[7/30] Processing: 07. Kosambi - Bts. Karawang-Purwakarta (Curug).xlsx\n"
     ]
    },
    {
     "name": "stderr",
     "output_type": "stream",
     "text": [
      "c:\\Users\\kanzi\\AppData\\Local\\Programs\\Python\\Python312\\Lib\\site-packages\\openpyxl\\worksheet\\_reader.py:329: UserWarning: Conditional Formatting extension is not supported and will be removed\n",
      "  warn(msg)\n"
     ]
    },
    {
     "name": "stdout",
     "output_type": "stream",
     "text": [
      "Processing 'RAMBU' as Point geometry (regular sheet)\n",
      "Processing 'PJU' as Point geometry (regular sheet)\n",
      "✅ Saved: C:\\Users\\kanzi\\Documents\\Part Time Job\\Hasil Export\\Extract Shapefile\\Kabupaten Karawang\\Jalan Eksisting\\07. Kosambi - Bts. Karawang-Purwakarta (Curug)_PJU.shp\n",
      "✅ Applied QML style: C:\\Users\\kanzi\\Documents\\Part Time Job\\Hasil Export\\Extract Shapefile\\Kabupaten Karawang\\Jalan Eksisting\\07. Kosambi - Bts. Karawang-Purwakarta (Curug)_PJU.qml\n",
      "✅ Saved: C:\\Users\\kanzi\\Documents\\Part Time Job\\Hasil Export\\Extract Shapefile\\Kabupaten Purwakarta\\Jalan Eksisting\\07. Kosambi - Bts. Karawang-Purwakarta (Curug)_PJU.shp\n",
      "✅ Applied QML style: C:\\Users\\kanzi\\Documents\\Part Time Job\\Hasil Export\\Extract Shapefile\\Kabupaten Purwakarta\\Jalan Eksisting\\07. Kosambi - Bts. Karawang-Purwakarta (Curug)_PJU.qml\n",
      "Processing 'RPPJ' as Point geometry (regular sheet)\n",
      "✅ Saved: C:\\Users\\kanzi\\Documents\\Part Time Job\\Hasil Export\\Extract Shapefile\\Kabupaten Karawang\\Jalan Eksisting\\07. Kosambi - Bts. Karawang-Purwakarta (Curug)_RPPJ.shp\n",
      "✅ Applied QML style: C:\\Users\\kanzi\\Documents\\Part Time Job\\Hasil Export\\Extract Shapefile\\Kabupaten Karawang\\Jalan Eksisting\\07. Kosambi - Bts. Karawang-Purwakarta (Curug)_RPPJ.qml\n"
     ]
    },
    {
     "name": "stderr",
     "output_type": "stream",
     "text": [
      "c:\\Users\\kanzi\\AppData\\Local\\Programs\\Python\\Python312\\Lib\\site-packages\\pyogrio\\raw.py:723: RuntimeWarning: Normalized/laundered field name: 'Detail ' to 'Detail'\n",
      "  ogr_write(\n",
      "c:\\Users\\kanzi\\AppData\\Local\\Programs\\Python\\Python312\\Lib\\site-packages\\pyogrio\\raw.py:723: RuntimeWarning: Normalized/laundered field name: 'Lokasi ' to 'Lokasi'\n",
      "  ogr_write(\n",
      "c:\\Users\\kanzi\\AppData\\Local\\Programs\\Python\\Python312\\Lib\\site-packages\\pyogrio\\raw.py:723: RuntimeWarning: Normalized/laundered field name: 'Detail ' to 'Detail'\n",
      "  ogr_write(\n",
      "c:\\Users\\kanzi\\AppData\\Local\\Programs\\Python\\Python312\\Lib\\site-packages\\pyogrio\\raw.py:723: RuntimeWarning: Normalized/laundered field name: 'Lokasi ' to 'Lokasi'\n",
      "  ogr_write(\n",
      "c:\\Users\\kanzi\\AppData\\Local\\Programs\\Python\\Python312\\Lib\\site-packages\\pyogrio\\raw.py:723: RuntimeWarning: Normalized/laundered field name: 'Detail ' to 'Detail'\n",
      "  ogr_write(\n",
      "c:\\Users\\kanzi\\AppData\\Local\\Programs\\Python\\Python312\\Lib\\site-packages\\pyogrio\\raw.py:723: RuntimeWarning: Normalized/laundered field name: 'Gambar ' to 'Gambar'\n",
      "  ogr_write(\n",
      "c:\\Users\\kanzi\\AppData\\Local\\Programs\\Python\\Python312\\Lib\\site-packages\\pyogrio\\raw.py:723: RuntimeWarning: Normalized/laundered field name: 'Lokasi ' to 'Lokasi'\n",
      "  ogr_write(\n"
     ]
    },
    {
     "name": "stdout",
     "output_type": "stream",
     "text": [
      "Processing 'PAGAR PENGAMAN' as LineString (PAGAR PENGAMAN sheet)\n",
      "✅ Saved: C:\\Users\\kanzi\\Documents\\Part Time Job\\Hasil Export\\Extract Shapefile\\Kabupaten Karawang\\Jalan Eksisting\\07. Kosambi - Bts. Karawang-Purwakarta (Curug)_PAGAR PENGAMAN.shp\n",
      "✅ Applied QML style: C:\\Users\\kanzi\\Documents\\Part Time Job\\Hasil Export\\Extract Shapefile\\Kabupaten Karawang\\Jalan Eksisting\\07. Kosambi - Bts. Karawang-Purwakarta (Curug)_PAGAR PENGAMAN.qml\n"
     ]
    },
    {
     "name": "stderr",
     "output_type": "stream",
     "text": [
      "c:\\Users\\kanzi\\AppData\\Local\\Programs\\Python\\Python312\\Lib\\site-packages\\pyogrio\\raw.py:723: RuntimeWarning: Normalized/laundered field name: 'Detail ' to 'Detail'\n",
      "  ogr_write(\n",
      "c:\\Users\\kanzi\\AppData\\Local\\Programs\\Python\\Python312\\Lib\\site-packages\\pyogrio\\raw.py:723: RuntimeWarning: Normalized/laundered field name: 'Lokasi ' to 'Lokasi'\n",
      "  ogr_write(\n"
     ]
    },
    {
     "name": "stdout",
     "output_type": "stream",
     "text": [
      "Processing 'MARKA' as MultiPoint (MARKA sheet)\n",
      "Processing 'WARNING LIGHT' as Point geometry (regular sheet)\n"
     ]
    },
    {
     "name": "stderr",
     "output_type": "stream",
     "text": [
      "c:\\Users\\kanzi\\AppData\\Local\\Programs\\Python\\Python312\\Lib\\site-packages\\pyogrio\\raw.py:723: RuntimeWarning: Normalized/laundered field name: 'Detail ' to 'Detail'\n",
      "  ogr_write(\n",
      "c:\\Users\\kanzi\\AppData\\Local\\Programs\\Python\\Python312\\Lib\\site-packages\\pyogrio\\raw.py:723: RuntimeWarning: Normalized/laundered field name: 'Lokasi ' to 'Lokasi'\n",
      "  ogr_write(\n"
     ]
    },
    {
     "name": "stdout",
     "output_type": "stream",
     "text": [
      "✅ Saved: C:\\Users\\kanzi\\Documents\\Part Time Job\\Hasil Export\\Extract Shapefile\\Kabupaten Karawang\\Jalan Eksisting\\07. Kosambi - Bts. Karawang-Purwakarta (Curug)_WARNING LIGHT.shp\n",
      "✅ Applied QML style: C:\\Users\\kanzi\\Documents\\Part Time Job\\Hasil Export\\Extract Shapefile\\Kabupaten Karawang\\Jalan Eksisting\\07. Kosambi - Bts. Karawang-Purwakarta (Curug)_WARNING LIGHT.qml\n",
      "Processing 'APILL' as Point geometry (regular sheet)\n"
     ]
    },
    {
     "name": "stderr",
     "output_type": "stream",
     "text": [
      "c:\\Users\\kanzi\\AppData\\Local\\Programs\\Python\\Python312\\Lib\\site-packages\\pyogrio\\raw.py:723: RuntimeWarning: Normalized/laundered field name: 'Detail ' to 'Detail'\n",
      "  ogr_write(\n",
      "c:\\Users\\kanzi\\AppData\\Local\\Programs\\Python\\Python312\\Lib\\site-packages\\pyogrio\\raw.py:723: RuntimeWarning: Normalized/laundered field name: 'Lokasi ' to 'Lokasi'\n",
      "  ogr_write(\n"
     ]
    },
    {
     "name": "stdout",
     "output_type": "stream",
     "text": [
      "✅ Saved: C:\\Users\\kanzi\\Documents\\Part Time Job\\Hasil Export\\Extract Shapefile\\Kabupaten Purwakarta\\Jalan Eksisting\\07. Kosambi - Bts. Karawang-Purwakarta (Curug)_APILL.shp\n",
      "✅ Applied QML style: C:\\Users\\kanzi\\Documents\\Part Time Job\\Hasil Export\\Extract Shapefile\\Kabupaten Purwakarta\\Jalan Eksisting\\07. Kosambi - Bts. Karawang-Purwakarta (Curug)_APILL.qml\n",
      "Processing 'ZOSS' as Point geometry (regular sheet)\n",
      "Processing 'FAS PENYEBERANGAN' as Point geometry (regular sheet)\n",
      "✅ Saved: C:\\Users\\kanzi\\Documents\\Part Time Job\\Hasil Export\\Extract Shapefile\\Kabupaten Karawang\\Jalan Eksisting\\07. Kosambi - Bts. Karawang-Purwakarta (Curug)_FAS PENYEBERANGAN.shp\n",
      "⚠️ No QML file found for FAS PENYEBERANGAN\n",
      "⚠️ Skipping 'RAMBU PORTABLE' (No valid start coordinate columns found)\n",
      "⚠️ Skipping 'TRAFFIC CONE' (No valid start coordinate columns found)\n",
      "⚠️ Skipping 'WATER BARRIER' (No valid start coordinate columns found)\n"
     ]
    },
    {
     "name": "stderr",
     "output_type": "stream",
     "text": [
      "c:\\Users\\kanzi\\AppData\\Local\\Programs\\Python\\Python312\\Lib\\site-packages\\pyogrio\\raw.py:723: RuntimeWarning: Normalized/laundered field name: 'Detail ' to 'Detail'\n",
      "  ogr_write(\n"
     ]
    },
    {
     "name": "stdout",
     "output_type": "stream",
     "text": [
      "Processing 'CERMIN TIKUNG' as Point geometry (regular sheet)\n",
      "⚠️ Skipping 'CERMIN TIKUNG' (No valid geometry found)\n",
      "✅ Completed processing: 07. Kosambi - Bts. Karawang-Purwakarta (Curug).xlsx\n",
      "\n",
      "[8/30] Processing: BARU - Eksisting JALAN PERJUANGAN KOTA BEKASI.xlsx\n"
     ]
    },
    {
     "name": "stderr",
     "output_type": "stream",
     "text": [
      "c:\\Users\\kanzi\\AppData\\Local\\Programs\\Python\\Python312\\Lib\\site-packages\\openpyxl\\worksheet\\_reader.py:329: UserWarning: Conditional Formatting extension is not supported and will be removed\n",
      "  warn(msg)\n"
     ]
    },
    {
     "name": "stdout",
     "output_type": "stream",
     "text": [
      "Processing 'RAMBU (baru)' as Point geometry (regular sheet)\n",
      "✅ Saved: C:\\Users\\kanzi\\Documents\\Part Time Job\\Hasil Export\\Extract Shapefile\\Kota Bekasi\\Jalan Eksisting\\BARU - Eksisting JALAN PERJUANGAN KOTA BEKASI_RAMBU (baru).shp\n",
      "⚠️ No QML file found for RAMBU (baru)\n"
     ]
    },
    {
     "name": "stderr",
     "output_type": "stream",
     "text": [
      "c:\\Users\\kanzi\\AppData\\Local\\Programs\\Python\\Python312\\Lib\\site-packages\\pyogrio\\raw.py:723: RuntimeWarning: Normalized/laundered field name: 'Detail ' to 'Detail'\n",
      "  ogr_write(\n",
      "c:\\Users\\kanzi\\AppData\\Local\\Programs\\Python\\Python312\\Lib\\site-packages\\pyogrio\\raw.py:723: RuntimeWarning: Normalized/laundered field name: 'Gambar ' to 'Gambar'\n",
      "  ogr_write(\n",
      "c:\\Users\\kanzi\\AppData\\Local\\Programs\\Python\\Python312\\Lib\\site-packages\\pyogrio\\raw.py:723: RuntimeWarning: Normalized/laundered field name: 'Lokasi ' to 'Lokasi'\n",
      "  ogr_write(\n"
     ]
    },
    {
     "name": "stdout",
     "output_type": "stream",
     "text": [
      "Processing 'PJU' as Point geometry (regular sheet)\n",
      "✅ Saved: C:\\Users\\kanzi\\Documents\\Part Time Job\\Hasil Export\\Extract Shapefile\\Kota Bekasi\\Jalan Eksisting\\BARU - Eksisting JALAN PERJUANGAN KOTA BEKASI_PJU.shp\n",
      "✅ Applied QML style: C:\\Users\\kanzi\\Documents\\Part Time Job\\Hasil Export\\Extract Shapefile\\Kota Bekasi\\Jalan Eksisting\\BARU - Eksisting JALAN PERJUANGAN KOTA BEKASI_PJU.qml\n",
      "Processing 'RPPJ (baru)' as Point geometry (regular sheet)\n",
      "✅ Saved: C:\\Users\\kanzi\\Documents\\Part Time Job\\Hasil Export\\Extract Shapefile\\Kabupaten Bekasi\\Jalan Eksisting\\BARU - Eksisting JALAN PERJUANGAN KOTA BEKASI_RPPJ (baru).shp\n",
      "⚠️ No QML file found for RPPJ (baru)\n",
      "✅ Saved: C:\\Users\\kanzi\\Documents\\Part Time Job\\Hasil Export\\Extract Shapefile\\Kota Bekasi\\Jalan Eksisting\\BARU - Eksisting JALAN PERJUANGAN KOTA BEKASI_RPPJ (baru).shp\n",
      "⚠️ No QML file found for RPPJ (baru)\n"
     ]
    },
    {
     "name": "stderr",
     "output_type": "stream",
     "text": [
      "c:\\Users\\kanzi\\AppData\\Local\\Programs\\Python\\Python312\\Lib\\site-packages\\pyogrio\\raw.py:723: RuntimeWarning: Normalized/laundered field name: 'Detail ' to 'Detail'\n",
      "  ogr_write(\n",
      "c:\\Users\\kanzi\\AppData\\Local\\Programs\\Python\\Python312\\Lib\\site-packages\\pyogrio\\raw.py:723: RuntimeWarning: Normalized/laundered field name: 'Lokasi ' to 'Lokasi'\n",
      "  ogr_write(\n",
      "c:\\Users\\kanzi\\AppData\\Local\\Programs\\Python\\Python312\\Lib\\site-packages\\pyogrio\\raw.py:723: RuntimeWarning: Normalized/laundered field name: 'Detail ' to 'Detail'\n",
      "  ogr_write(\n",
      "c:\\Users\\kanzi\\AppData\\Local\\Programs\\Python\\Python312\\Lib\\site-packages\\pyogrio\\raw.py:723: RuntimeWarning: Normalized/laundered field name: 'Gambar ' to 'Gambar'\n",
      "  ogr_write(\n",
      "c:\\Users\\kanzi\\AppData\\Local\\Programs\\Python\\Python312\\Lib\\site-packages\\pyogrio\\raw.py:723: RuntimeWarning: Normalized/laundered field name: 'Lokasi ' to 'Lokasi'\n",
      "  ogr_write(\n",
      "c:\\Users\\kanzi\\AppData\\Local\\Programs\\Python\\Python312\\Lib\\site-packages\\pyogrio\\raw.py:723: RuntimeWarning: Normalized/laundered field name: 'Detail ' to 'Detail'\n",
      "  ogr_write(\n",
      "c:\\Users\\kanzi\\AppData\\Local\\Programs\\Python\\Python312\\Lib\\site-packages\\pyogrio\\raw.py:723: RuntimeWarning: Normalized/laundered field name: 'Gambar ' to 'Gambar'\n",
      "  ogr_write(\n",
      "c:\\Users\\kanzi\\AppData\\Local\\Programs\\Python\\Python312\\Lib\\site-packages\\pyogrio\\raw.py:723: RuntimeWarning: Normalized/laundered field name: 'Lokasi ' to 'Lokasi'\n",
      "  ogr_write(\n"
     ]
    },
    {
     "name": "stdout",
     "output_type": "stream",
     "text": [
      "Processing 'PAGAR PENGAMAN' as LineString (PAGAR PENGAMAN sheet)\n",
      "Processing 'MARKA (baru)' as MultiPoint (MARKA sheet)\n",
      "✅ Saved: C:\\Users\\kanzi\\Documents\\Part Time Job\\Hasil Export\\Extract Shapefile\\Kota Bekasi\\Jalan Eksisting\\BARU - Eksisting JALAN PERJUANGAN KOTA BEKASI_MARKA (baru).shp\n",
      "⚠️ No QML file found for MARKA (baru)\n"
     ]
    },
    {
     "name": "stderr",
     "output_type": "stream",
     "text": [
      "c:\\Users\\kanzi\\AppData\\Local\\Programs\\Python\\Python312\\Lib\\site-packages\\pyogrio\\raw.py:723: RuntimeWarning: Normalized/laundered field name: 'Detail ' to 'Detail'\n",
      "  ogr_write(\n"
     ]
    },
    {
     "name": "stdout",
     "output_type": "stream",
     "text": [
      "Processing 'WARNING LIGHT' as Point geometry (regular sheet)\n",
      "✅ Saved: C:\\Users\\kanzi\\Documents\\Part Time Job\\Hasil Export\\Extract Shapefile\\Kota Bekasi\\Jalan Eksisting\\BARU - Eksisting JALAN PERJUANGAN KOTA BEKASI_WARNING LIGHT.shp\n",
      "✅ Applied QML style: C:\\Users\\kanzi\\Documents\\Part Time Job\\Hasil Export\\Extract Shapefile\\Kota Bekasi\\Jalan Eksisting\\BARU - Eksisting JALAN PERJUANGAN KOTA BEKASI_WARNING LIGHT.qml\n"
     ]
    },
    {
     "name": "stderr",
     "output_type": "stream",
     "text": [
      "c:\\Users\\kanzi\\AppData\\Local\\Programs\\Python\\Python312\\Lib\\site-packages\\pyogrio\\raw.py:723: RuntimeWarning: Normalized/laundered field name: 'Detail ' to 'Detail'\n",
      "  ogr_write(\n",
      "c:\\Users\\kanzi\\AppData\\Local\\Programs\\Python\\Python312\\Lib\\site-packages\\pyogrio\\raw.py:723: RuntimeWarning: Normalized/laundered field name: 'Lokasi ' to 'Lokasi'\n",
      "  ogr_write(\n"
     ]
    },
    {
     "name": "stdout",
     "output_type": "stream",
     "text": [
      "Processing 'APILL' as Point geometry (regular sheet)\n",
      "✅ Saved: C:\\Users\\kanzi\\Documents\\Part Time Job\\Hasil Export\\Extract Shapefile\\Kota Bekasi\\Jalan Eksisting\\BARU - Eksisting JALAN PERJUANGAN KOTA BEKASI_APILL.shp\n",
      "✅ Applied QML style: C:\\Users\\kanzi\\Documents\\Part Time Job\\Hasil Export\\Extract Shapefile\\Kota Bekasi\\Jalan Eksisting\\BARU - Eksisting JALAN PERJUANGAN KOTA BEKASI_APILL.qml\n"
     ]
    },
    {
     "name": "stderr",
     "output_type": "stream",
     "text": [
      "c:\\Users\\kanzi\\AppData\\Local\\Programs\\Python\\Python312\\Lib\\site-packages\\pyogrio\\raw.py:723: RuntimeWarning: Normalized/laundered field name: 'Detail ' to 'Detail'\n",
      "  ogr_write(\n",
      "c:\\Users\\kanzi\\AppData\\Local\\Programs\\Python\\Python312\\Lib\\site-packages\\pyogrio\\raw.py:723: RuntimeWarning: Normalized/laundered field name: 'Lokasi ' to 'Lokasi'\n",
      "  ogr_write(\n"
     ]
    },
    {
     "name": "stdout",
     "output_type": "stream",
     "text": [
      "Processing 'ZOSS' as Point geometry (regular sheet)\n",
      "Processing 'FAS PENYEBERANGAN' as Point geometry (regular sheet)\n",
      "⚠️ Skipping 'RAMBU PORTABLE (baru)' (No valid start coordinate columns found)\n",
      "⚠️ Skipping 'TRAFFIC CONE' (No valid start coordinate columns found)\n",
      "⚠️ Skipping 'WATER BARRIER' (No valid start coordinate columns found)\n",
      "Processing 'CERMIN TIKUNG' as Point geometry (regular sheet)\n",
      "⚠️ Skipping 'CERMIN TIKUNG' (No valid geometry found)\n",
      "✅ Completed processing: BARU - Eksisting JALAN PERJUANGAN KOTA BEKASI.xlsx\n",
      "\n",
      "[9/30] Processing: BARU - Eksisting JUANDA KOTA BEKASI.xlsx\n"
     ]
    },
    {
     "name": "stderr",
     "output_type": "stream",
     "text": [
      "c:\\Users\\kanzi\\AppData\\Local\\Programs\\Python\\Python312\\Lib\\site-packages\\openpyxl\\worksheet\\_reader.py:329: UserWarning: Conditional Formatting extension is not supported and will be removed\n",
      "  warn(msg)\n"
     ]
    },
    {
     "name": "stdout",
     "output_type": "stream",
     "text": [
      "Processing 'RAMBU (baru)' as Point geometry (regular sheet)\n",
      "✅ Saved: C:\\Users\\kanzi\\Documents\\Part Time Job\\Hasil Export\\Extract Shapefile\\Kota Bekasi\\Jalan Eksisting\\BARU - Eksisting JUANDA KOTA BEKASI_RAMBU (baru).shp\n",
      "⚠️ No QML file found for RAMBU (baru)\n"
     ]
    },
    {
     "name": "stderr",
     "output_type": "stream",
     "text": [
      "c:\\Users\\kanzi\\AppData\\Local\\Programs\\Python\\Python312\\Lib\\site-packages\\pyogrio\\raw.py:723: RuntimeWarning: Normalized/laundered field name: 'Detail ' to 'Detail'\n",
      "  ogr_write(\n",
      "c:\\Users\\kanzi\\AppData\\Local\\Programs\\Python\\Python312\\Lib\\site-packages\\pyogrio\\raw.py:723: RuntimeWarning: Normalized/laundered field name: 'Gambar ' to 'Gambar'\n",
      "  ogr_write(\n",
      "c:\\Users\\kanzi\\AppData\\Local\\Programs\\Python\\Python312\\Lib\\site-packages\\pyogrio\\raw.py:723: RuntimeWarning: Normalized/laundered field name: 'Lokasi ' to 'Lokasi'\n",
      "  ogr_write(\n"
     ]
    },
    {
     "name": "stdout",
     "output_type": "stream",
     "text": [
      "Processing 'PJU' as Point geometry (regular sheet)\n",
      "✅ Saved: C:\\Users\\kanzi\\Documents\\Part Time Job\\Hasil Export\\Extract Shapefile\\Kota Bekasi\\Jalan Eksisting\\BARU - Eksisting JUANDA KOTA BEKASI_PJU.shp\n",
      "✅ Applied QML style: C:\\Users\\kanzi\\Documents\\Part Time Job\\Hasil Export\\Extract Shapefile\\Kota Bekasi\\Jalan Eksisting\\BARU - Eksisting JUANDA KOTA BEKASI_PJU.qml\n"
     ]
    },
    {
     "name": "stderr",
     "output_type": "stream",
     "text": [
      "c:\\Users\\kanzi\\AppData\\Local\\Programs\\Python\\Python312\\Lib\\site-packages\\pyogrio\\raw.py:723: RuntimeWarning: Normalized/laundered field name: 'Detail ' to 'Detail'\n",
      "  ogr_write(\n",
      "c:\\Users\\kanzi\\AppData\\Local\\Programs\\Python\\Python312\\Lib\\site-packages\\pyogrio\\raw.py:723: RuntimeWarning: Normalized/laundered field name: 'Lokasi ' to 'Lokasi'\n",
      "  ogr_write(\n"
     ]
    },
    {
     "name": "stdout",
     "output_type": "stream",
     "text": [
      "Processing 'RPPJ (baru)' as Point geometry (regular sheet)\n",
      "✅ Saved: C:\\Users\\kanzi\\Documents\\Part Time Job\\Hasil Export\\Extract Shapefile\\Kota Bekasi\\Jalan Eksisting\\BARU - Eksisting JUANDA KOTA BEKASI_RPPJ (baru).shp\n",
      "⚠️ No QML file found for RPPJ (baru)\n"
     ]
    },
    {
     "name": "stderr",
     "output_type": "stream",
     "text": [
      "c:\\Users\\kanzi\\AppData\\Local\\Programs\\Python\\Python312\\Lib\\site-packages\\pyogrio\\raw.py:723: RuntimeWarning: Normalized/laundered field name: 'Detail ' to 'Detail'\n",
      "  ogr_write(\n",
      "c:\\Users\\kanzi\\AppData\\Local\\Programs\\Python\\Python312\\Lib\\site-packages\\pyogrio\\raw.py:723: RuntimeWarning: Normalized/laundered field name: 'Gambar ' to 'Gambar'\n",
      "  ogr_write(\n",
      "c:\\Users\\kanzi\\AppData\\Local\\Programs\\Python\\Python312\\Lib\\site-packages\\pyogrio\\raw.py:723: RuntimeWarning: Normalized/laundered field name: 'Lokasi ' to 'Lokasi'\n",
      "  ogr_write(\n"
     ]
    },
    {
     "name": "stdout",
     "output_type": "stream",
     "text": [
      "Processing 'PAGAR PENGAMAN' as LineString (PAGAR PENGAMAN sheet)\n",
      "Processing 'MARKA (baru)' as MultiPoint (MARKA sheet)\n",
      "✅ Saved: C:\\Users\\kanzi\\Documents\\Part Time Job\\Hasil Export\\Extract Shapefile\\Kota Bekasi\\Jalan Eksisting\\BARU - Eksisting JUANDA KOTA BEKASI_MARKA (baru).shp\n",
      "⚠️ No QML file found for MARKA (baru)\n"
     ]
    },
    {
     "name": "stderr",
     "output_type": "stream",
     "text": [
      "c:\\Users\\kanzi\\AppData\\Local\\Programs\\Python\\Python312\\Lib\\site-packages\\pyogrio\\raw.py:723: RuntimeWarning: Normalized/laundered field name: 'Detail ' to 'Detail'\n",
      "  ogr_write(\n"
     ]
    },
    {
     "name": "stdout",
     "output_type": "stream",
     "text": [
      "Processing 'WARNING LIGHT' as Point geometry (regular sheet)\n",
      "Processing 'APILL' as Point geometry (regular sheet)\n",
      "✅ Saved: C:\\Users\\kanzi\\Documents\\Part Time Job\\Hasil Export\\Extract Shapefile\\Kota Bekasi\\Jalan Eksisting\\BARU - Eksisting JUANDA KOTA BEKASI_APILL.shp\n",
      "✅ Applied QML style: C:\\Users\\kanzi\\Documents\\Part Time Job\\Hasil Export\\Extract Shapefile\\Kota Bekasi\\Jalan Eksisting\\BARU - Eksisting JUANDA KOTA BEKASI_APILL.qml\n"
     ]
    },
    {
     "name": "stderr",
     "output_type": "stream",
     "text": [
      "c:\\Users\\kanzi\\AppData\\Local\\Programs\\Python\\Python312\\Lib\\site-packages\\pyogrio\\raw.py:723: RuntimeWarning: Normalized/laundered field name: 'Detail ' to 'Detail'\n",
      "  ogr_write(\n",
      "c:\\Users\\kanzi\\AppData\\Local\\Programs\\Python\\Python312\\Lib\\site-packages\\pyogrio\\raw.py:723: RuntimeWarning: Normalized/laundered field name: 'Lokasi ' to 'Lokasi'\n",
      "  ogr_write(\n"
     ]
    },
    {
     "name": "stdout",
     "output_type": "stream",
     "text": [
      "Processing 'ZOSS' as Point geometry (regular sheet)\n",
      "Processing 'FAS PENYEBERANGAN' as Point geometry (regular sheet)\n"
     ]
    },
    {
     "name": "stderr",
     "output_type": "stream",
     "text": [
      "c:\\Users\\kanzi\\AppData\\Local\\Programs\\Python\\Python312\\Lib\\site-packages\\pyogrio\\raw.py:723: RuntimeWarning: Normalized/laundered field name: 'Detail ' to 'Detail'\n",
      "  ogr_write(\n"
     ]
    },
    {
     "name": "stdout",
     "output_type": "stream",
     "text": [
      "✅ Saved: C:\\Users\\kanzi\\Documents\\Part Time Job\\Hasil Export\\Extract Shapefile\\Kota Bekasi\\Jalan Eksisting\\BARU - Eksisting JUANDA KOTA BEKASI_FAS PENYEBERANGAN.shp\n",
      "⚠️ No QML file found for FAS PENYEBERANGAN\n",
      "⚠️ Skipping 'RAMBU PORTABLE (baru)' (No valid start coordinate columns found)\n",
      "⚠️ Skipping 'TRAFFIC CONE' (No valid start coordinate columns found)\n",
      "⚠️ Skipping 'WATER BARRIER' (No valid start coordinate columns found)\n",
      "Processing 'CERMIN TIKUNG' as Point geometry (regular sheet)\n",
      "⚠️ Skipping 'CERMIN TIKUNG' (No valid geometry found)\n",
      "✅ Completed processing: BARU - Eksisting JUANDA KOTA BEKASI.xlsx\n",
      "\n",
      "[10/30] Processing: BARU - Eksisting KARTINI KOTA BEKASI.xlsx\n"
     ]
    },
    {
     "name": "stderr",
     "output_type": "stream",
     "text": [
      "c:\\Users\\kanzi\\AppData\\Local\\Programs\\Python\\Python312\\Lib\\site-packages\\openpyxl\\worksheet\\_reader.py:329: UserWarning: Conditional Formatting extension is not supported and will be removed\n",
      "  warn(msg)\n"
     ]
    },
    {
     "name": "stdout",
     "output_type": "stream",
     "text": [
      "Processing 'RAMBU (baru)' as Point geometry (regular sheet)\n",
      "✅ Saved: C:\\Users\\kanzi\\Documents\\Part Time Job\\Hasil Export\\Extract Shapefile\\Kota Bekasi\\Jalan Eksisting\\BARU - Eksisting KARTINI KOTA BEKASI_RAMBU (baru).shp\n",
      "⚠️ No QML file found for RAMBU (baru)\n"
     ]
    },
    {
     "name": "stderr",
     "output_type": "stream",
     "text": [
      "c:\\Users\\kanzi\\AppData\\Local\\Programs\\Python\\Python312\\Lib\\site-packages\\pyogrio\\raw.py:723: RuntimeWarning: Normalized/laundered field name: 'Detail ' to 'Detail'\n",
      "  ogr_write(\n",
      "c:\\Users\\kanzi\\AppData\\Local\\Programs\\Python\\Python312\\Lib\\site-packages\\pyogrio\\raw.py:723: RuntimeWarning: Normalized/laundered field name: 'Gambar ' to 'Gambar'\n",
      "  ogr_write(\n",
      "c:\\Users\\kanzi\\AppData\\Local\\Programs\\Python\\Python312\\Lib\\site-packages\\pyogrio\\raw.py:723: RuntimeWarning: Normalized/laundered field name: 'Lokasi ' to 'Lokasi'\n",
      "  ogr_write(\n"
     ]
    },
    {
     "name": "stdout",
     "output_type": "stream",
     "text": [
      "Processing 'PJU' as Point geometry (regular sheet)\n",
      "✅ Saved: C:\\Users\\kanzi\\Documents\\Part Time Job\\Hasil Export\\Extract Shapefile\\Kota Bekasi\\Jalan Eksisting\\BARU - Eksisting KARTINI KOTA BEKASI_PJU.shp\n",
      "✅ Applied QML style: C:\\Users\\kanzi\\Documents\\Part Time Job\\Hasil Export\\Extract Shapefile\\Kota Bekasi\\Jalan Eksisting\\BARU - Eksisting KARTINI KOTA BEKASI_PJU.qml\n",
      "Processing 'RPPJ (baru)' as Point geometry (regular sheet)\n",
      "✅ Saved: C:\\Users\\kanzi\\Documents\\Part Time Job\\Hasil Export\\Extract Shapefile\\Kota Bekasi\\Jalan Eksisting\\BARU - Eksisting KARTINI KOTA BEKASI_RPPJ (baru).shp\n",
      "⚠️ No QML file found for RPPJ (baru)\n"
     ]
    },
    {
     "name": "stderr",
     "output_type": "stream",
     "text": [
      "c:\\Users\\kanzi\\AppData\\Local\\Programs\\Python\\Python312\\Lib\\site-packages\\pyogrio\\raw.py:723: RuntimeWarning: Normalized/laundered field name: 'Detail ' to 'Detail'\n",
      "  ogr_write(\n",
      "c:\\Users\\kanzi\\AppData\\Local\\Programs\\Python\\Python312\\Lib\\site-packages\\pyogrio\\raw.py:723: RuntimeWarning: Normalized/laundered field name: 'Lokasi ' to 'Lokasi'\n",
      "  ogr_write(\n",
      "c:\\Users\\kanzi\\AppData\\Local\\Programs\\Python\\Python312\\Lib\\site-packages\\pyogrio\\raw.py:723: RuntimeWarning: Normalized/laundered field name: 'Detail ' to 'Detail'\n",
      "  ogr_write(\n",
      "c:\\Users\\kanzi\\AppData\\Local\\Programs\\Python\\Python312\\Lib\\site-packages\\pyogrio\\raw.py:723: RuntimeWarning: Normalized/laundered field name: 'Gambar ' to 'Gambar'\n",
      "  ogr_write(\n",
      "c:\\Users\\kanzi\\AppData\\Local\\Programs\\Python\\Python312\\Lib\\site-packages\\pyogrio\\raw.py:723: RuntimeWarning: Normalized/laundered field name: 'Lokasi ' to 'Lokasi'\n",
      "  ogr_write(\n"
     ]
    },
    {
     "name": "stdout",
     "output_type": "stream",
     "text": [
      "Processing 'PAGAR PENGAMAN' as LineString (PAGAR PENGAMAN sheet)\n",
      "Processing 'MARKA (baru)' as MultiPoint (MARKA sheet)\n",
      "✅ Saved: C:\\Users\\kanzi\\Documents\\Part Time Job\\Hasil Export\\Extract Shapefile\\Kota Bekasi\\Jalan Eksisting\\BARU - Eksisting KARTINI KOTA BEKASI_MARKA (baru).shp\n",
      "⚠️ No QML file found for MARKA (baru)\n",
      "Processing 'WARNING LIGHT' as Point geometry (regular sheet)\n"
     ]
    },
    {
     "name": "stderr",
     "output_type": "stream",
     "text": [
      "c:\\Users\\kanzi\\AppData\\Local\\Programs\\Python\\Python312\\Lib\\site-packages\\pyogrio\\raw.py:723: RuntimeWarning: Normalized/laundered field name: 'Detail ' to 'Detail'\n",
      "  ogr_write(\n"
     ]
    },
    {
     "name": "stdout",
     "output_type": "stream",
     "text": [
      "Processing 'APILL' as Point geometry (regular sheet)\n",
      "✅ Saved: C:\\Users\\kanzi\\Documents\\Part Time Job\\Hasil Export\\Extract Shapefile\\Kota Bekasi\\Jalan Eksisting\\BARU - Eksisting KARTINI KOTA BEKASI_APILL.shp\n",
      "✅ Applied QML style: C:\\Users\\kanzi\\Documents\\Part Time Job\\Hasil Export\\Extract Shapefile\\Kota Bekasi\\Jalan Eksisting\\BARU - Eksisting KARTINI KOTA BEKASI_APILL.qml\n"
     ]
    },
    {
     "name": "stderr",
     "output_type": "stream",
     "text": [
      "c:\\Users\\kanzi\\AppData\\Local\\Programs\\Python\\Python312\\Lib\\site-packages\\pyogrio\\raw.py:723: RuntimeWarning: Normalized/laundered field name: 'Detail ' to 'Detail'\n",
      "  ogr_write(\n",
      "c:\\Users\\kanzi\\AppData\\Local\\Programs\\Python\\Python312\\Lib\\site-packages\\pyogrio\\raw.py:723: RuntimeWarning: Normalized/laundered field name: 'Lokasi ' to 'Lokasi'\n",
      "  ogr_write(\n"
     ]
    },
    {
     "name": "stdout",
     "output_type": "stream",
     "text": [
      "Processing 'ZOSS' as Point geometry (regular sheet)\n",
      "Processing 'FAS PENYEBERANGAN' as Point geometry (regular sheet)\n"
     ]
    },
    {
     "name": "stderr",
     "output_type": "stream",
     "text": [
      "c:\\Users\\kanzi\\AppData\\Local\\Programs\\Python\\Python312\\Lib\\site-packages\\pyogrio\\raw.py:723: RuntimeWarning: Normalized/laundered field name: 'Detail ' to 'Detail'\n",
      "  ogr_write(\n"
     ]
    },
    {
     "name": "stdout",
     "output_type": "stream",
     "text": [
      "✅ Saved: C:\\Users\\kanzi\\Documents\\Part Time Job\\Hasil Export\\Extract Shapefile\\Kota Bekasi\\Jalan Eksisting\\BARU - Eksisting KARTINI KOTA BEKASI_FAS PENYEBERANGAN.shp\n",
      "⚠️ No QML file found for FAS PENYEBERANGAN\n",
      "⚠️ Skipping 'RAMBU PORTABLE (baru)' (No valid start coordinate columns found)\n",
      "⚠️ Skipping 'TRAFFIC CONE' (No valid start coordinate columns found)\n",
      "⚠️ Skipping 'WATER BARRIER' (No valid start coordinate columns found)\n",
      "Processing 'CERMIN TIKUNG' as Point geometry (regular sheet)\n",
      "⚠️ Skipping 'CERMIN TIKUNG' (No valid geometry found)\n",
      "✅ Completed processing: BARU - Eksisting KARTINI KOTA BEKASI.xlsx\n",
      "\n",
      "[11/30] Processing: BARU - Eksisting PALUMBONSARI KABUPATENG KARAWANG.xlsx\n"
     ]
    },
    {
     "name": "stderr",
     "output_type": "stream",
     "text": [
      "c:\\Users\\kanzi\\AppData\\Local\\Programs\\Python\\Python312\\Lib\\site-packages\\openpyxl\\worksheet\\_reader.py:329: UserWarning: Conditional Formatting extension is not supported and will be removed\n",
      "  warn(msg)\n"
     ]
    },
    {
     "name": "stdout",
     "output_type": "stream",
     "text": [
      "Processing 'RAMBU (baru)' as Point geometry (regular sheet)\n",
      "✅ Saved: C:\\Users\\kanzi\\Documents\\Part Time Job\\Hasil Export\\Extract Shapefile\\Kabupaten Karawang\\Jalan Eksisting\\BARU - Eksisting PALUMBONSARI KABUPATENG KARAWANG_RAMBU (baru).shp\n",
      "⚠️ No QML file found for RAMBU (baru)\n"
     ]
    },
    {
     "name": "stderr",
     "output_type": "stream",
     "text": [
      "c:\\Users\\kanzi\\AppData\\Local\\Programs\\Python\\Python312\\Lib\\site-packages\\pyogrio\\raw.py:723: RuntimeWarning: Normalized/laundered field name: 'Detail ' to 'Detail'\n",
      "  ogr_write(\n",
      "c:\\Users\\kanzi\\AppData\\Local\\Programs\\Python\\Python312\\Lib\\site-packages\\pyogrio\\raw.py:723: RuntimeWarning: Normalized/laundered field name: 'Gambar ' to 'Gambar'\n",
      "  ogr_write(\n",
      "c:\\Users\\kanzi\\AppData\\Local\\Programs\\Python\\Python312\\Lib\\site-packages\\pyogrio\\raw.py:723: RuntimeWarning: Normalized/laundered field name: 'Lokasi ' to 'Lokasi'\n",
      "  ogr_write(\n"
     ]
    },
    {
     "name": "stdout",
     "output_type": "stream",
     "text": [
      "Processing 'PJU' as Point geometry (regular sheet)\n",
      "✅ Saved: C:\\Users\\kanzi\\Documents\\Part Time Job\\Hasil Export\\Extract Shapefile\\Kabupaten Karawang\\Jalan Eksisting\\BARU - Eksisting PALUMBONSARI KABUPATENG KARAWANG_PJU.shp\n",
      "✅ Applied QML style: C:\\Users\\kanzi\\Documents\\Part Time Job\\Hasil Export\\Extract Shapefile\\Kabupaten Karawang\\Jalan Eksisting\\BARU - Eksisting PALUMBONSARI KABUPATENG KARAWANG_PJU.qml\n",
      "Processing 'RPPJ (baru)' as Point geometry (regular sheet)\n",
      "✅ Saved: C:\\Users\\kanzi\\Documents\\Part Time Job\\Hasil Export\\Extract Shapefile\\Kabupaten Karawang\\Jalan Eksisting\\BARU - Eksisting PALUMBONSARI KABUPATENG KARAWANG_RPPJ (baru).shp\n",
      "⚠️ No QML file found for RPPJ (baru)\n"
     ]
    },
    {
     "name": "stderr",
     "output_type": "stream",
     "text": [
      "c:\\Users\\kanzi\\AppData\\Local\\Programs\\Python\\Python312\\Lib\\site-packages\\pyogrio\\raw.py:723: RuntimeWarning: Normalized/laundered field name: 'Detail ' to 'Detail'\n",
      "  ogr_write(\n",
      "c:\\Users\\kanzi\\AppData\\Local\\Programs\\Python\\Python312\\Lib\\site-packages\\pyogrio\\raw.py:723: RuntimeWarning: Normalized/laundered field name: 'Lokasi ' to 'Lokasi'\n",
      "  ogr_write(\n",
      "c:\\Users\\kanzi\\AppData\\Local\\Programs\\Python\\Python312\\Lib\\site-packages\\pyogrio\\raw.py:723: RuntimeWarning: Normalized/laundered field name: 'Detail ' to 'Detail'\n",
      "  ogr_write(\n",
      "c:\\Users\\kanzi\\AppData\\Local\\Programs\\Python\\Python312\\Lib\\site-packages\\pyogrio\\raw.py:723: RuntimeWarning: Normalized/laundered field name: 'Gambar ' to 'Gambar'\n",
      "  ogr_write(\n",
      "c:\\Users\\kanzi\\AppData\\Local\\Programs\\Python\\Python312\\Lib\\site-packages\\pyogrio\\raw.py:723: RuntimeWarning: Normalized/laundered field name: 'Lokasi ' to 'Lokasi'\n",
      "  ogr_write(\n"
     ]
    },
    {
     "name": "stdout",
     "output_type": "stream",
     "text": [
      "Processing 'PAGAR PENGAMAN' as LineString (PAGAR PENGAMAN sheet)\n",
      "✅ Saved: C:\\Users\\kanzi\\Documents\\Part Time Job\\Hasil Export\\Extract Shapefile\\Kabupaten Bekasi\\Jalan Eksisting\\BARU - Eksisting PALUMBONSARI KABUPATENG KARAWANG_PAGAR PENGAMAN.shp\n",
      "✅ Applied QML style: C:\\Users\\kanzi\\Documents\\Part Time Job\\Hasil Export\\Extract Shapefile\\Kabupaten Bekasi\\Jalan Eksisting\\BARU - Eksisting PALUMBONSARI KABUPATENG KARAWANG_PAGAR PENGAMAN.qml\n",
      "✅ Saved: C:\\Users\\kanzi\\Documents\\Part Time Job\\Hasil Export\\Extract Shapefile\\Kabupaten Karawang\\Jalan Eksisting\\BARU - Eksisting PALUMBONSARI KABUPATENG KARAWANG_PAGAR PENGAMAN.shp\n",
      "✅ Applied QML style: C:\\Users\\kanzi\\Documents\\Part Time Job\\Hasil Export\\Extract Shapefile\\Kabupaten Karawang\\Jalan Eksisting\\BARU - Eksisting PALUMBONSARI KABUPATENG KARAWANG_PAGAR PENGAMAN.qml\n"
     ]
    },
    {
     "name": "stderr",
     "output_type": "stream",
     "text": [
      "c:\\Users\\kanzi\\AppData\\Local\\Programs\\Python\\Python312\\Lib\\site-packages\\pyogrio\\raw.py:723: RuntimeWarning: Normalized/laundered field name: 'Detail ' to 'Detail'\n",
      "  ogr_write(\n",
      "c:\\Users\\kanzi\\AppData\\Local\\Programs\\Python\\Python312\\Lib\\site-packages\\pyogrio\\raw.py:723: RuntimeWarning: Normalized/laundered field name: 'Lokasi ' to 'Lokasi'\n",
      "  ogr_write(\n",
      "c:\\Users\\kanzi\\AppData\\Local\\Programs\\Python\\Python312\\Lib\\site-packages\\pyogrio\\raw.py:723: RuntimeWarning: Normalized/laundered field name: 'Detail ' to 'Detail'\n",
      "  ogr_write(\n",
      "c:\\Users\\kanzi\\AppData\\Local\\Programs\\Python\\Python312\\Lib\\site-packages\\pyogrio\\raw.py:723: RuntimeWarning: Normalized/laundered field name: 'Lokasi ' to 'Lokasi'\n",
      "  ogr_write(\n"
     ]
    },
    {
     "name": "stdout",
     "output_type": "stream",
     "text": [
      "Processing 'MARKA (baru)' as MultiPoint (MARKA sheet)\n",
      "✅ Saved: C:\\Users\\kanzi\\Documents\\Part Time Job\\Hasil Export\\Extract Shapefile\\Kabupaten Karawang\\Jalan Eksisting\\BARU - Eksisting PALUMBONSARI KABUPATENG KARAWANG_MARKA (baru).shp\n",
      "⚠️ No QML file found for MARKA (baru)\n"
     ]
    },
    {
     "name": "stderr",
     "output_type": "stream",
     "text": [
      "c:\\Users\\kanzi\\AppData\\Local\\Programs\\Python\\Python312\\Lib\\site-packages\\pyogrio\\raw.py:723: RuntimeWarning: Normalized/laundered field name: 'Detail ' to 'Detail'\n",
      "  ogr_write(\n"
     ]
    },
    {
     "name": "stdout",
     "output_type": "stream",
     "text": [
      "Processing 'WARNING LIGHT' as Point geometry (regular sheet)\n",
      "✅ Saved: C:\\Users\\kanzi\\Documents\\Part Time Job\\Hasil Export\\Extract Shapefile\\Kabupaten Karawang\\Jalan Eksisting\\BARU - Eksisting PALUMBONSARI KABUPATENG KARAWANG_WARNING LIGHT.shp\n",
      "✅ Applied QML style: C:\\Users\\kanzi\\Documents\\Part Time Job\\Hasil Export\\Extract Shapefile\\Kabupaten Karawang\\Jalan Eksisting\\BARU - Eksisting PALUMBONSARI KABUPATENG KARAWANG_WARNING LIGHT.qml\n"
     ]
    },
    {
     "name": "stderr",
     "output_type": "stream",
     "text": [
      "c:\\Users\\kanzi\\AppData\\Local\\Programs\\Python\\Python312\\Lib\\site-packages\\pyogrio\\raw.py:723: RuntimeWarning: Normalized/laundered field name: 'Detail ' to 'Detail'\n",
      "  ogr_write(\n",
      "c:\\Users\\kanzi\\AppData\\Local\\Programs\\Python\\Python312\\Lib\\site-packages\\pyogrio\\raw.py:723: RuntimeWarning: Normalized/laundered field name: 'Lokasi ' to 'Lokasi'\n",
      "  ogr_write(\n"
     ]
    },
    {
     "name": "stdout",
     "output_type": "stream",
     "text": [
      "Processing 'APILL' as Point geometry (regular sheet)\n",
      "✅ Saved: C:\\Users\\kanzi\\Documents\\Part Time Job\\Hasil Export\\Extract Shapefile\\Kabupaten Karawang\\Jalan Eksisting\\BARU - Eksisting PALUMBONSARI KABUPATENG KARAWANG_APILL.shp\n",
      "✅ Applied QML style: C:\\Users\\kanzi\\Documents\\Part Time Job\\Hasil Export\\Extract Shapefile\\Kabupaten Karawang\\Jalan Eksisting\\BARU - Eksisting PALUMBONSARI KABUPATENG KARAWANG_APILL.qml\n",
      "Processing 'ZOSS' as Point geometry (regular sheet)\n"
     ]
    },
    {
     "name": "stderr",
     "output_type": "stream",
     "text": [
      "c:\\Users\\kanzi\\AppData\\Local\\Programs\\Python\\Python312\\Lib\\site-packages\\pyogrio\\raw.py:723: RuntimeWarning: Normalized/laundered field name: 'Detail ' to 'Detail'\n",
      "  ogr_write(\n",
      "c:\\Users\\kanzi\\AppData\\Local\\Programs\\Python\\Python312\\Lib\\site-packages\\pyogrio\\raw.py:723: RuntimeWarning: Normalized/laundered field name: 'Lokasi ' to 'Lokasi'\n",
      "  ogr_write(\n"
     ]
    },
    {
     "name": "stdout",
     "output_type": "stream",
     "text": [
      "Processing 'FAS PENYEBERANGAN' as Point geometry (regular sheet)\n",
      "✅ Saved: C:\\Users\\kanzi\\Documents\\Part Time Job\\Hasil Export\\Extract Shapefile\\Kabupaten Karawang\\Jalan Eksisting\\BARU - Eksisting PALUMBONSARI KABUPATENG KARAWANG_FAS PENYEBERANGAN.shp\n",
      "⚠️ No QML file found for FAS PENYEBERANGAN\n",
      "⚠️ Skipping 'RAMBU PORTABLE (baru)' (No valid start coordinate columns found)\n",
      "⚠️ Skipping 'TRAFFIC CONE' (No valid start coordinate columns found)\n",
      "⚠️ Skipping 'WATER BARRIER' (No valid start coordinate columns found)\n",
      "Processing 'CERMIN TIKUNG' as Point geometry (regular sheet)\n",
      "⚠️ Skipping 'CERMIN TIKUNG' (No valid geometry found)\n",
      "✅ Completed processing: BARU - Eksisting PALUMBONSARI KABUPATENG KARAWANG.xlsx\n",
      "\n",
      "[12/30] Processing: Format Baru 1.A. Jl. Proklamasi Krw.xlsx\n"
     ]
    },
    {
     "name": "stderr",
     "output_type": "stream",
     "text": [
      "c:\\Users\\kanzi\\AppData\\Local\\Programs\\Python\\Python312\\Lib\\site-packages\\pyogrio\\raw.py:723: RuntimeWarning: Normalized/laundered field name: 'Detail ' to 'Detail'\n",
      "  ogr_write(\n",
      "c:\\Users\\kanzi\\AppData\\Local\\Programs\\Python\\Python312\\Lib\\site-packages\\openpyxl\\worksheet\\_reader.py:329: UserWarning: Conditional Formatting extension is not supported and will be removed\n",
      "  warn(msg)\n"
     ]
    },
    {
     "name": "stdout",
     "output_type": "stream",
     "text": [
      "Processing 'PJU' as Point geometry (regular sheet)\n",
      "✅ Saved: C:\\Users\\kanzi\\Documents\\Part Time Job\\Hasil Export\\Extract Shapefile\\Kabupaten Karawang\\Jalan Eksisting\\Format Baru 1.A. Jl. Proklamasi Krw_PJU.shp\n",
      "✅ Applied QML style: C:\\Users\\kanzi\\Documents\\Part Time Job\\Hasil Export\\Extract Shapefile\\Kabupaten Karawang\\Jalan Eksisting\\Format Baru 1.A. Jl. Proklamasi Krw_PJU.qml\n",
      "Processing 'RAMBU' as Point geometry (regular sheet)\n",
      "✅ Saved: C:\\Users\\kanzi\\Documents\\Part Time Job\\Hasil Export\\Extract Shapefile\\Kabupaten Karawang\\Jalan Eksisting\\Format Baru 1.A. Jl. Proklamasi Krw_RAMBU.shp\n",
      "✅ Applied QML style: C:\\Users\\kanzi\\Documents\\Part Time Job\\Hasil Export\\Extract Shapefile\\Kabupaten Karawang\\Jalan Eksisting\\Format Baru 1.A. Jl. Proklamasi Krw_RAMBU.qml\n",
      "Processing 'RPPJ' as Point geometry (regular sheet)\n",
      "✅ Saved: C:\\Users\\kanzi\\Documents\\Part Time Job\\Hasil Export\\Extract Shapefile\\Kabupaten Karawang\\Jalan Eksisting\\Format Baru 1.A. Jl. Proklamasi Krw_RPPJ.shp\n",
      "✅ Applied QML style: C:\\Users\\kanzi\\Documents\\Part Time Job\\Hasil Export\\Extract Shapefile\\Kabupaten Karawang\\Jalan Eksisting\\Format Baru 1.A. Jl. Proklamasi Krw_RPPJ.qml\n"
     ]
    },
    {
     "name": "stderr",
     "output_type": "stream",
     "text": [
      "c:\\Users\\kanzi\\AppData\\Local\\Programs\\Python\\Python312\\Lib\\site-packages\\pyogrio\\raw.py:723: RuntimeWarning: Normalized/laundered field name: 'Detail ' to 'Detail'\n",
      "  ogr_write(\n",
      "c:\\Users\\kanzi\\AppData\\Local\\Programs\\Python\\Python312\\Lib\\site-packages\\pyogrio\\raw.py:723: RuntimeWarning: Normalized/laundered field name: 'Lokasi ' to 'Lokasi'\n",
      "  ogr_write(\n",
      "c:\\Users\\kanzi\\AppData\\Local\\Programs\\Python\\Python312\\Lib\\site-packages\\pyogrio\\raw.py:723: RuntimeWarning: Normalized/laundered field name: 'Detail ' to 'Detail'\n",
      "  ogr_write(\n",
      "c:\\Users\\kanzi\\AppData\\Local\\Programs\\Python\\Python312\\Lib\\site-packages\\pyogrio\\raw.py:723: RuntimeWarning: Normalized/laundered field name: 'Gambar ' to 'Gambar'\n",
      "  ogr_write(\n",
      "c:\\Users\\kanzi\\AppData\\Local\\Programs\\Python\\Python312\\Lib\\site-packages\\pyogrio\\raw.py:723: RuntimeWarning: Normalized/laundered field name: 'Lokasi ' to 'Lokasi'\n",
      "  ogr_write(\n",
      "c:\\Users\\kanzi\\AppData\\Local\\Programs\\Python\\Python312\\Lib\\site-packages\\pyogrio\\raw.py:723: RuntimeWarning: Normalized/laundered field name: 'Detail ' to 'Detail'\n",
      "  ogr_write(\n",
      "c:\\Users\\kanzi\\AppData\\Local\\Programs\\Python\\Python312\\Lib\\site-packages\\pyogrio\\raw.py:723: RuntimeWarning: Normalized/laundered field name: 'Gambar ' to 'Gambar'\n",
      "  ogr_write(\n",
      "c:\\Users\\kanzi\\AppData\\Local\\Programs\\Python\\Python312\\Lib\\site-packages\\pyogrio\\raw.py:723: RuntimeWarning: Normalized/laundered field name: 'Lokasi ' to 'Lokasi'\n",
      "  ogr_write(\n"
     ]
    },
    {
     "name": "stdout",
     "output_type": "stream",
     "text": [
      "Processing 'PAGAR PENGAMAN' as LineString (PAGAR PENGAMAN sheet)\n",
      "Processing 'MARKA' as MultiPoint (MARKA sheet)\n",
      "✅ Saved: C:\\Users\\kanzi\\Documents\\Part Time Job\\Hasil Export\\Extract Shapefile\\Kabupaten Karawang\\Jalan Eksisting\\Format Baru 1.A. Jl. Proklamasi Krw_MARKA.shp\n",
      "✅ Applied QML style: C:\\Users\\kanzi\\Documents\\Part Time Job\\Hasil Export\\Extract Shapefile\\Kabupaten Karawang\\Jalan Eksisting\\Format Baru 1.A. Jl. Proklamasi Krw_MARKA.qml\n"
     ]
    },
    {
     "name": "stderr",
     "output_type": "stream",
     "text": [
      "c:\\Users\\kanzi\\AppData\\Local\\Programs\\Python\\Python312\\Lib\\site-packages\\pyogrio\\raw.py:723: RuntimeWarning: Normalized/laundered field name: 'Detail ' to 'Detail'\n",
      "  ogr_write(\n"
     ]
    },
    {
     "name": "stdout",
     "output_type": "stream",
     "text": [
      "Processing 'WARNING LIGHT' as Point geometry (regular sheet)\n",
      "✅ Saved: C:\\Users\\kanzi\\Documents\\Part Time Job\\Hasil Export\\Extract Shapefile\\Kabupaten Karawang\\Jalan Eksisting\\Format Baru 1.A. Jl. Proklamasi Krw_WARNING LIGHT.shp\n",
      "✅ Applied QML style: C:\\Users\\kanzi\\Documents\\Part Time Job\\Hasil Export\\Extract Shapefile\\Kabupaten Karawang\\Jalan Eksisting\\Format Baru 1.A. Jl. Proklamasi Krw_WARNING LIGHT.qml\n"
     ]
    },
    {
     "name": "stderr",
     "output_type": "stream",
     "text": [
      "c:\\Users\\kanzi\\AppData\\Local\\Programs\\Python\\Python312\\Lib\\site-packages\\pyogrio\\raw.py:723: RuntimeWarning: Normalized/laundered field name: 'Detail ' to 'Detail'\n",
      "  ogr_write(\n",
      "c:\\Users\\kanzi\\AppData\\Local\\Programs\\Python\\Python312\\Lib\\site-packages\\pyogrio\\raw.py:723: RuntimeWarning: Normalized/laundered field name: 'Lokasi ' to 'Lokasi'\n",
      "  ogr_write(\n"
     ]
    },
    {
     "name": "stdout",
     "output_type": "stream",
     "text": [
      "Processing 'APILL' as Point geometry (regular sheet)\n",
      "✅ Saved: C:\\Users\\kanzi\\Documents\\Part Time Job\\Hasil Export\\Extract Shapefile\\Kabupaten Karawang\\Jalan Eksisting\\Format Baru 1.A. Jl. Proklamasi Krw_APILL.shp\n",
      "✅ Applied QML style: C:\\Users\\kanzi\\Documents\\Part Time Job\\Hasil Export\\Extract Shapefile\\Kabupaten Karawang\\Jalan Eksisting\\Format Baru 1.A. Jl. Proklamasi Krw_APILL.qml\n"
     ]
    },
    {
     "name": "stderr",
     "output_type": "stream",
     "text": [
      "c:\\Users\\kanzi\\AppData\\Local\\Programs\\Python\\Python312\\Lib\\site-packages\\pyogrio\\raw.py:723: RuntimeWarning: Normalized/laundered field name: 'Detail ' to 'Detail'\n",
      "  ogr_write(\n",
      "c:\\Users\\kanzi\\AppData\\Local\\Programs\\Python\\Python312\\Lib\\site-packages\\pyogrio\\raw.py:723: RuntimeWarning: Normalized/laundered field name: 'Lokasi ' to 'Lokasi'\n",
      "  ogr_write(\n"
     ]
    },
    {
     "name": "stdout",
     "output_type": "stream",
     "text": [
      "Processing 'ZOSS' as Point geometry (regular sheet)\n",
      "⚠️ Skipping 'ZOSS' (No valid geometry found)\n",
      "Processing 'FAS PENYEBERANGAN' as Point geometry (regular sheet)\n"
     ]
    },
    {
     "name": "stderr",
     "output_type": "stream",
     "text": [
      "c:\\Users\\kanzi\\AppData\\Local\\Programs\\Python\\Python312\\Lib\\site-packages\\pyogrio\\raw.py:723: RuntimeWarning: Normalized/laundered field name: 'Detail ' to 'Detail'\n",
      "  ogr_write(\n"
     ]
    },
    {
     "name": "stdout",
     "output_type": "stream",
     "text": [
      "✅ Saved: C:\\Users\\kanzi\\Documents\\Part Time Job\\Hasil Export\\Extract Shapefile\\Kabupaten Karawang\\Jalan Eksisting\\Format Baru 1.A. Jl. Proklamasi Krw_FAS PENYEBERANGAN.shp\n",
      "⚠️ No QML file found for FAS PENYEBERANGAN\n",
      "⚠️ Skipping 'RAMBU PORTABLE' (No valid start coordinate columns found)\n",
      "⚠️ Skipping 'TRAFFIC CONE' (No valid start coordinate columns found)\n",
      "⚠️ Skipping 'WATER BARRIER' (No valid start coordinate columns found)\n",
      "Processing 'CERMIN TIKUNG' as Point geometry (regular sheet)\n",
      "⚠️ Skipping 'CERMIN TIKUNG' (No valid geometry found)\n",
      "✅ Completed processing: Format Baru 1.A. Jl. Proklamasi Krw.xlsx\n",
      "\n",
      "[13/30] Processing: Format Baru 13.A. Jl. Letkol Eddie Soekardi (Kota Sukabumi).xlsx\n"
     ]
    },
    {
     "name": "stderr",
     "output_type": "stream",
     "text": [
      "c:\\Users\\kanzi\\AppData\\Local\\Programs\\Python\\Python312\\Lib\\site-packages\\openpyxl\\worksheet\\_reader.py:329: UserWarning: Conditional Formatting extension is not supported and will be removed\n",
      "  warn(msg)\n"
     ]
    },
    {
     "name": "stdout",
     "output_type": "stream",
     "text": [
      "Processing 'RAMBU' as Point geometry (regular sheet)\n"
     ]
    },
    {
     "name": "stderr",
     "output_type": "stream",
     "text": [
      "c:\\Users\\kanzi\\AppData\\Local\\Programs\\Python\\Python312\\Lib\\site-packages\\pyogrio\\raw.py:723: RuntimeWarning: Normalized/laundered field name: 'Detail ' to 'Detail'\n",
      "  ogr_write(\n",
      "c:\\Users\\kanzi\\AppData\\Local\\Programs\\Python\\Python312\\Lib\\site-packages\\pyogrio\\raw.py:723: RuntimeWarning: Normalized/laundered field name: 'Gambar ' to 'Gambar'\n",
      "  ogr_write(\n",
      "c:\\Users\\kanzi\\AppData\\Local\\Programs\\Python\\Python312\\Lib\\site-packages\\pyogrio\\raw.py:723: RuntimeWarning: Normalized/laundered field name: 'Lokasi ' to 'Lokasi'\n",
      "  ogr_write(\n",
      "c:\\Users\\kanzi\\AppData\\Local\\Programs\\Python\\Python312\\Lib\\site-packages\\pyogrio\\raw.py:723: RuntimeWarning: Normalized/laundered field name: 'Detail ' to 'Detail'\n",
      "  ogr_write(\n",
      "c:\\Users\\kanzi\\AppData\\Local\\Programs\\Python\\Python312\\Lib\\site-packages\\pyogrio\\raw.py:723: RuntimeWarning: Normalized/laundered field name: 'Gambar ' to 'Gambar'\n",
      "  ogr_write(\n",
      "c:\\Users\\kanzi\\AppData\\Local\\Programs\\Python\\Python312\\Lib\\site-packages\\pyogrio\\raw.py:723: RuntimeWarning: Normalized/laundered field name: 'Lokasi ' to 'Lokasi'\n",
      "  ogr_write(\n"
     ]
    },
    {
     "name": "stdout",
     "output_type": "stream",
     "text": [
      "✅ Saved: C:\\Users\\kanzi\\Documents\\Part Time Job\\Hasil Export\\Extract Shapefile\\Kabupaten Sukabumi\\Jalan Eksisting\\Format Baru 13.A. Jl. Letkol Eddie Soekardi (Kota Sukabumi)_RAMBU.shp\n",
      "✅ Applied QML style: C:\\Users\\kanzi\\Documents\\Part Time Job\\Hasil Export\\Extract Shapefile\\Kabupaten Sukabumi\\Jalan Eksisting\\Format Baru 13.A. Jl. Letkol Eddie Soekardi (Kota Sukabumi)_RAMBU.qml\n",
      "✅ Saved: C:\\Users\\kanzi\\Documents\\Part Time Job\\Hasil Export\\Extract Shapefile\\Kota Sukabumi\\Jalan Eksisting\\Format Baru 13.A. Jl. Letkol Eddie Soekardi (Kota Sukabumi)_RAMBU.shp\n",
      "✅ Applied QML style: C:\\Users\\kanzi\\Documents\\Part Time Job\\Hasil Export\\Extract Shapefile\\Kota Sukabumi\\Jalan Eksisting\\Format Baru 13.A. Jl. Letkol Eddie Soekardi (Kota Sukabumi)_RAMBU.qml\n",
      "Processing 'PJU' as Point geometry (regular sheet)\n"
     ]
    },
    {
     "name": "stderr",
     "output_type": "stream",
     "text": [
      "c:\\Users\\kanzi\\AppData\\Local\\Programs\\Python\\Python312\\Lib\\site-packages\\pyogrio\\raw.py:723: RuntimeWarning: Normalized/laundered field name: 'Detail ' to 'Detail'\n",
      "  ogr_write(\n",
      "c:\\Users\\kanzi\\AppData\\Local\\Programs\\Python\\Python312\\Lib\\site-packages\\pyogrio\\raw.py:723: RuntimeWarning: Normalized/laundered field name: 'Lokasi ' to 'Lokasi'\n",
      "  ogr_write(\n",
      "c:\\Users\\kanzi\\AppData\\Local\\Programs\\Python\\Python312\\Lib\\site-packages\\pyogrio\\raw.py:723: RuntimeWarning: Normalized/laundered field name: 'Detail ' to 'Detail'\n",
      "  ogr_write(\n",
      "c:\\Users\\kanzi\\AppData\\Local\\Programs\\Python\\Python312\\Lib\\site-packages\\pyogrio\\raw.py:723: RuntimeWarning: Normalized/laundered field name: 'Lokasi ' to 'Lokasi'\n",
      "  ogr_write(\n",
      "c:\\Users\\kanzi\\AppData\\Local\\Programs\\Python\\Python312\\Lib\\site-packages\\pyogrio\\raw.py:723: RuntimeWarning: Normalized/laundered field name: 'Detail ' to 'Detail'\n",
      "  ogr_write(\n",
      "c:\\Users\\kanzi\\AppData\\Local\\Programs\\Python\\Python312\\Lib\\site-packages\\pyogrio\\raw.py:723: RuntimeWarning: Normalized/laundered field name: 'Gambar ' to 'Gambar'\n",
      "  ogr_write(\n",
      "c:\\Users\\kanzi\\AppData\\Local\\Programs\\Python\\Python312\\Lib\\site-packages\\pyogrio\\raw.py:723: RuntimeWarning: Normalized/laundered field name: 'Lokasi ' to 'Lokasi'\n",
      "  ogr_write(\n"
     ]
    },
    {
     "name": "stdout",
     "output_type": "stream",
     "text": [
      "✅ Saved: C:\\Users\\kanzi\\Documents\\Part Time Job\\Hasil Export\\Extract Shapefile\\Kabupaten Sukabumi\\Jalan Eksisting\\Format Baru 13.A. Jl. Letkol Eddie Soekardi (Kota Sukabumi)_PJU.shp\n",
      "✅ Applied QML style: C:\\Users\\kanzi\\Documents\\Part Time Job\\Hasil Export\\Extract Shapefile\\Kabupaten Sukabumi\\Jalan Eksisting\\Format Baru 13.A. Jl. Letkol Eddie Soekardi (Kota Sukabumi)_PJU.qml\n",
      "✅ Saved: C:\\Users\\kanzi\\Documents\\Part Time Job\\Hasil Export\\Extract Shapefile\\Kota Sukabumi\\Jalan Eksisting\\Format Baru 13.A. Jl. Letkol Eddie Soekardi (Kota Sukabumi)_PJU.shp\n",
      "✅ Applied QML style: C:\\Users\\kanzi\\Documents\\Part Time Job\\Hasil Export\\Extract Shapefile\\Kota Sukabumi\\Jalan Eksisting\\Format Baru 13.A. Jl. Letkol Eddie Soekardi (Kota Sukabumi)_PJU.qml\n",
      "Processing 'RPPJ' as Point geometry (regular sheet)\n",
      "✅ Saved: C:\\Users\\kanzi\\Documents\\Part Time Job\\Hasil Export\\Extract Shapefile\\Kota Sukabumi\\Jalan Eksisting\\Format Baru 13.A. Jl. Letkol Eddie Soekardi (Kota Sukabumi)_RPPJ.shp\n",
      "✅ Applied QML style: C:\\Users\\kanzi\\Documents\\Part Time Job\\Hasil Export\\Extract Shapefile\\Kota Sukabumi\\Jalan Eksisting\\Format Baru 13.A. Jl. Letkol Eddie Soekardi (Kota Sukabumi)_RPPJ.qml\n",
      "Processing 'PAGAR PENGAMAN' as LineString (PAGAR PENGAMAN sheet)\n"
     ]
    },
    {
     "name": "stderr",
     "output_type": "stream",
     "text": [
      "c:\\Users\\kanzi\\AppData\\Local\\Programs\\Python\\Python312\\Lib\\site-packages\\pyogrio\\raw.py:723: RuntimeWarning: Normalized/laundered field name: 'Detail ' to 'Detail'\n",
      "  ogr_write(\n",
      "c:\\Users\\kanzi\\AppData\\Local\\Programs\\Python\\Python312\\Lib\\site-packages\\pyogrio\\raw.py:723: RuntimeWarning: Normalized/laundered field name: 'Lokasi ' to 'Lokasi'\n",
      "  ogr_write(\n"
     ]
    },
    {
     "name": "stdout",
     "output_type": "stream",
     "text": [
      "✅ Saved: C:\\Users\\kanzi\\Documents\\Part Time Job\\Hasil Export\\Extract Shapefile\\Kota Sukabumi\\Jalan Eksisting\\Format Baru 13.A. Jl. Letkol Eddie Soekardi (Kota Sukabumi)_PAGAR PENGAMAN.shp\n",
      "✅ Applied QML style: C:\\Users\\kanzi\\Documents\\Part Time Job\\Hasil Export\\Extract Shapefile\\Kota Sukabumi\\Jalan Eksisting\\Format Baru 13.A. Jl. Letkol Eddie Soekardi (Kota Sukabumi)_PAGAR PENGAMAN.qml\n",
      "Processing 'MARKA' as MultiPoint (MARKA sheet)\n",
      "✅ Saved: C:\\Users\\kanzi\\Documents\\Part Time Job\\Hasil Export\\Extract Shapefile\\Kota Sukabumi\\Jalan Eksisting\\Format Baru 13.A. Jl. Letkol Eddie Soekardi (Kota Sukabumi)_MARKA.shp\n",
      "✅ Applied QML style: C:\\Users\\kanzi\\Documents\\Part Time Job\\Hasil Export\\Extract Shapefile\\Kota Sukabumi\\Jalan Eksisting\\Format Baru 13.A. Jl. Letkol Eddie Soekardi (Kota Sukabumi)_MARKA.qml\n"
     ]
    },
    {
     "name": "stderr",
     "output_type": "stream",
     "text": [
      "c:\\Users\\kanzi\\AppData\\Local\\Programs\\Python\\Python312\\Lib\\site-packages\\pyogrio\\raw.py:723: RuntimeWarning: Normalized/laundered field name: 'Detail ' to 'Detail'\n",
      "  ogr_write(\n"
     ]
    },
    {
     "name": "stdout",
     "output_type": "stream",
     "text": [
      "Processing 'WARNING LIGHT' as Point geometry (regular sheet)\n",
      "✅ Saved: C:\\Users\\kanzi\\Documents\\Part Time Job\\Hasil Export\\Extract Shapefile\\Kota Sukabumi\\Jalan Eksisting\\Format Baru 13.A. Jl. Letkol Eddie Soekardi (Kota Sukabumi)_WARNING LIGHT.shp\n",
      "✅ Applied QML style: C:\\Users\\kanzi\\Documents\\Part Time Job\\Hasil Export\\Extract Shapefile\\Kota Sukabumi\\Jalan Eksisting\\Format Baru 13.A. Jl. Letkol Eddie Soekardi (Kota Sukabumi)_WARNING LIGHT.qml\n"
     ]
    },
    {
     "name": "stderr",
     "output_type": "stream",
     "text": [
      "c:\\Users\\kanzi\\AppData\\Local\\Programs\\Python\\Python312\\Lib\\site-packages\\pyogrio\\raw.py:723: RuntimeWarning: Normalized/laundered field name: 'Detail ' to 'Detail'\n",
      "  ogr_write(\n",
      "c:\\Users\\kanzi\\AppData\\Local\\Programs\\Python\\Python312\\Lib\\site-packages\\pyogrio\\raw.py:723: RuntimeWarning: Normalized/laundered field name: 'Lokasi ' to 'Lokasi'\n",
      "  ogr_write(\n"
     ]
    },
    {
     "name": "stdout",
     "output_type": "stream",
     "text": [
      "Processing 'APILL' as Point geometry (regular sheet)\n",
      "✅ Saved: C:\\Users\\kanzi\\Documents\\Part Time Job\\Hasil Export\\Extract Shapefile\\Kota Sukabumi\\Jalan Eksisting\\Format Baru 13.A. Jl. Letkol Eddie Soekardi (Kota Sukabumi)_APILL.shp\n",
      "✅ Applied QML style: C:\\Users\\kanzi\\Documents\\Part Time Job\\Hasil Export\\Extract Shapefile\\Kota Sukabumi\\Jalan Eksisting\\Format Baru 13.A. Jl. Letkol Eddie Soekardi (Kota Sukabumi)_APILL.qml\n"
     ]
    },
    {
     "name": "stderr",
     "output_type": "stream",
     "text": [
      "c:\\Users\\kanzi\\AppData\\Local\\Programs\\Python\\Python312\\Lib\\site-packages\\pyogrio\\raw.py:723: RuntimeWarning: Normalized/laundered field name: 'Detail ' to 'Detail'\n",
      "  ogr_write(\n",
      "c:\\Users\\kanzi\\AppData\\Local\\Programs\\Python\\Python312\\Lib\\site-packages\\pyogrio\\raw.py:723: RuntimeWarning: Normalized/laundered field name: 'Lokasi ' to 'Lokasi'\n",
      "  ogr_write(\n"
     ]
    },
    {
     "name": "stdout",
     "output_type": "stream",
     "text": [
      "Processing 'ZOSS' as Point geometry (regular sheet)\n",
      "Processing 'FAS PENYEBERANGAN' as Point geometry (regular sheet)\n"
     ]
    },
    {
     "name": "stderr",
     "output_type": "stream",
     "text": [
      "c:\\Users\\kanzi\\AppData\\Local\\Programs\\Python\\Python312\\Lib\\site-packages\\pyogrio\\raw.py:723: RuntimeWarning: Normalized/laundered field name: 'Detail ' to 'Detail'\n",
      "  ogr_write(\n",
      "c:\\Users\\kanzi\\AppData\\Local\\Programs\\Python\\Python312\\Lib\\site-packages\\pyogrio\\raw.py:723: RuntimeWarning: Normalized/laundered field name: 'Detail ' to 'Detail'\n",
      "  ogr_write(\n"
     ]
    },
    {
     "name": "stdout",
     "output_type": "stream",
     "text": [
      "✅ Saved: C:\\Users\\kanzi\\Documents\\Part Time Job\\Hasil Export\\Extract Shapefile\\Kabupaten Sukabumi\\Jalan Eksisting\\Format Baru 13.A. Jl. Letkol Eddie Soekardi (Kota Sukabumi)_FAS PENYEBERANGAN.shp\n",
      "⚠️ No QML file found for FAS PENYEBERANGAN\n",
      "✅ Saved: C:\\Users\\kanzi\\Documents\\Part Time Job\\Hasil Export\\Extract Shapefile\\Kota Sukabumi\\Jalan Eksisting\\Format Baru 13.A. Jl. Letkol Eddie Soekardi (Kota Sukabumi)_FAS PENYEBERANGAN.shp\n",
      "⚠️ No QML file found for FAS PENYEBERANGAN\n",
      "⚠️ Skipping 'RAMBU PORTABLE' (No valid start coordinate columns found)\n",
      "⚠️ Skipping 'TRAFFIC CONE' (No valid start coordinate columns found)\n",
      "⚠️ Skipping 'WATER BARRIER' (No valid start coordinate columns found)\n",
      "Processing 'CERMIN TIKUNG' as Point geometry (regular sheet)\n",
      "⚠️ Skipping 'CERMIN TIKUNG' (No valid geometry found)\n",
      "✅ Completed processing: Format Baru 13.A. Jl. Letkol Eddie Soekardi (Kota Sukabumi).xlsx\n",
      "\n",
      "[14/30] Processing: Format Baru 22.A. Sukabumi - Cikembar.xlsx\n"
     ]
    },
    {
     "name": "stderr",
     "output_type": "stream",
     "text": [
      "c:\\Users\\kanzi\\AppData\\Local\\Programs\\Python\\Python312\\Lib\\site-packages\\openpyxl\\worksheet\\_reader.py:329: UserWarning: Conditional Formatting extension is not supported and will be removed\n",
      "  warn(msg)\n"
     ]
    },
    {
     "name": "stdout",
     "output_type": "stream",
     "text": [
      "Processing 'RAMBU' as Point geometry (regular sheet)\n",
      "✅ Saved: C:\\Users\\kanzi\\Documents\\Part Time Job\\Hasil Export\\Extract Shapefile\\Kabupaten Sukabumi\\Jalan Eksisting\\Format Baru 22.A. Sukabumi - Cikembar_RAMBU.shp\n",
      "✅ Applied QML style: C:\\Users\\kanzi\\Documents\\Part Time Job\\Hasil Export\\Extract Shapefile\\Kabupaten Sukabumi\\Jalan Eksisting\\Format Baru 22.A. Sukabumi - Cikembar_RAMBU.qml\n"
     ]
    },
    {
     "name": "stderr",
     "output_type": "stream",
     "text": [
      "c:\\Users\\kanzi\\AppData\\Local\\Programs\\Python\\Python312\\Lib\\site-packages\\pyogrio\\raw.py:723: RuntimeWarning: Normalized/laundered field name: 'Detail ' to 'Detail'\n",
      "  ogr_write(\n",
      "c:\\Users\\kanzi\\AppData\\Local\\Programs\\Python\\Python312\\Lib\\site-packages\\pyogrio\\raw.py:723: RuntimeWarning: Normalized/laundered field name: 'Gambar ' to 'Gambar'\n",
      "  ogr_write(\n",
      "c:\\Users\\kanzi\\AppData\\Local\\Programs\\Python\\Python312\\Lib\\site-packages\\pyogrio\\raw.py:723: RuntimeWarning: Normalized/laundered field name: 'Lokasi ' to 'Lokasi'\n",
      "  ogr_write(\n"
     ]
    },
    {
     "name": "stdout",
     "output_type": "stream",
     "text": [
      "Processing 'PJU' as Point geometry (regular sheet)\n",
      "Processing 'RPPJ' as Point geometry (regular sheet)\n",
      "Processing 'PAGAR PENGAMAN' as LineString (PAGAR PENGAMAN sheet)\n",
      "Processing 'MARKA' as MultiPoint (MARKA sheet)\n",
      "Processing 'WARNING LIGHT' as Point geometry (regular sheet)\n",
      "Processing 'APILL' as Point geometry (regular sheet)\n",
      "Processing 'ZOSS' as Point geometry (regular sheet)\n",
      "Processing 'FAS PENYEBERANGAN' as Point geometry (regular sheet)\n",
      "⚠️ Skipping 'RAMBU PORTABLE' (No valid start coordinate columns found)\n",
      "⚠️ Skipping 'TRAFFIC CONE' (No valid start coordinate columns found)\n",
      "⚠️ Skipping 'WATER BARRIER' (No valid start coordinate columns found)\n",
      "Processing 'CERMIN TIKUNG' as Point geometry (regular sheet)\n",
      "⚠️ Skipping 'CERMIN TIKUNG' (No valid geometry found)\n",
      "✅ Completed processing: Format Baru 22.A. Sukabumi - Cikembar.xlsx\n",
      "\n",
      "[15/30] Processing: Format Baru 23.A. Cikembar-Cikembang.xlsx\n"
     ]
    },
    {
     "name": "stderr",
     "output_type": "stream",
     "text": [
      "c:\\Users\\kanzi\\AppData\\Local\\Programs\\Python\\Python312\\Lib\\site-packages\\openpyxl\\worksheet\\_reader.py:329: UserWarning: Conditional Formatting extension is not supported and will be removed\n",
      "  warn(msg)\n"
     ]
    },
    {
     "name": "stdout",
     "output_type": "stream",
     "text": [
      "Processing 'RAMBU' as Point geometry (regular sheet)\n",
      "✅ Saved: C:\\Users\\kanzi\\Documents\\Part Time Job\\Hasil Export\\Extract Shapefile\\Kabupaten Sukabumi\\Jalan Eksisting\\Format Baru 23.A. Cikembar-Cikembang_RAMBU.shp\n",
      "✅ Applied QML style: C:\\Users\\kanzi\\Documents\\Part Time Job\\Hasil Export\\Extract Shapefile\\Kabupaten Sukabumi\\Jalan Eksisting\\Format Baru 23.A. Cikembar-Cikembang_RAMBU.qml\n"
     ]
    },
    {
     "name": "stderr",
     "output_type": "stream",
     "text": [
      "c:\\Users\\kanzi\\AppData\\Local\\Programs\\Python\\Python312\\Lib\\site-packages\\pyogrio\\raw.py:723: RuntimeWarning: Normalized/laundered field name: 'Detail ' to 'Detail'\n",
      "  ogr_write(\n",
      "c:\\Users\\kanzi\\AppData\\Local\\Programs\\Python\\Python312\\Lib\\site-packages\\pyogrio\\raw.py:723: RuntimeWarning: Normalized/laundered field name: 'Gambar ' to 'Gambar'\n",
      "  ogr_write(\n",
      "c:\\Users\\kanzi\\AppData\\Local\\Programs\\Python\\Python312\\Lib\\site-packages\\pyogrio\\raw.py:723: RuntimeWarning: Normalized/laundered field name: 'Lokasi ' to 'Lokasi'\n",
      "  ogr_write(\n"
     ]
    },
    {
     "name": "stdout",
     "output_type": "stream",
     "text": [
      "Processing 'PJU' as Point geometry (regular sheet)\n",
      "✅ Saved: C:\\Users\\kanzi\\Documents\\Part Time Job\\Hasil Export\\Extract Shapefile\\Kabupaten Sukabumi\\Jalan Eksisting\\Format Baru 23.A. Cikembar-Cikembang_PJU.shp\n",
      "✅ Applied QML style: C:\\Users\\kanzi\\Documents\\Part Time Job\\Hasil Export\\Extract Shapefile\\Kabupaten Sukabumi\\Jalan Eksisting\\Format Baru 23.A. Cikembar-Cikembang_PJU.qml\n",
      "Processing 'RPPJ' as Point geometry (regular sheet)\n"
     ]
    },
    {
     "name": "stderr",
     "output_type": "stream",
     "text": [
      "c:\\Users\\kanzi\\AppData\\Local\\Programs\\Python\\Python312\\Lib\\site-packages\\pyogrio\\raw.py:723: RuntimeWarning: Normalized/laundered field name: 'Detail ' to 'Detail'\n",
      "  ogr_write(\n",
      "c:\\Users\\kanzi\\AppData\\Local\\Programs\\Python\\Python312\\Lib\\site-packages\\pyogrio\\raw.py:723: RuntimeWarning: Normalized/laundered field name: 'Lokasi ' to 'Lokasi'\n",
      "  ogr_write(\n",
      "c:\\Users\\kanzi\\AppData\\Local\\Programs\\Python\\Python312\\Lib\\site-packages\\pyogrio\\raw.py:723: RuntimeWarning: Normalized/laundered field name: 'Detail ' to 'Detail'\n",
      "  ogr_write(\n",
      "c:\\Users\\kanzi\\AppData\\Local\\Programs\\Python\\Python312\\Lib\\site-packages\\pyogrio\\raw.py:723: RuntimeWarning: Normalized/laundered field name: 'Gambar ' to 'Gambar'\n",
      "  ogr_write(\n",
      "c:\\Users\\kanzi\\AppData\\Local\\Programs\\Python\\Python312\\Lib\\site-packages\\pyogrio\\raw.py:723: RuntimeWarning: Normalized/laundered field name: 'Lokasi ' to 'Lokasi'\n",
      "  ogr_write(\n"
     ]
    },
    {
     "name": "stdout",
     "output_type": "stream",
     "text": [
      "✅ Saved: C:\\Users\\kanzi\\Documents\\Part Time Job\\Hasil Export\\Extract Shapefile\\Kabupaten Sukabumi\\Jalan Eksisting\\Format Baru 23.A. Cikembar-Cikembang_RPPJ.shp\n",
      "✅ Applied QML style: C:\\Users\\kanzi\\Documents\\Part Time Job\\Hasil Export\\Extract Shapefile\\Kabupaten Sukabumi\\Jalan Eksisting\\Format Baru 23.A. Cikembar-Cikembang_RPPJ.qml\n",
      "Processing 'PAGAR PENGAMAN' as LineString (PAGAR PENGAMAN sheet)\n",
      "✅ Saved: C:\\Users\\kanzi\\Documents\\Part Time Job\\Hasil Export\\Extract Shapefile\\Kabupaten Garut\\Jalan Eksisting\\Format Baru 23.A. Cikembar-Cikembang_PAGAR PENGAMAN.shp\n",
      "✅ Applied QML style: C:\\Users\\kanzi\\Documents\\Part Time Job\\Hasil Export\\Extract Shapefile\\Kabupaten Garut\\Jalan Eksisting\\Format Baru 23.A. Cikembar-Cikembang_PAGAR PENGAMAN.qml\n"
     ]
    },
    {
     "name": "stderr",
     "output_type": "stream",
     "text": [
      "c:\\Users\\kanzi\\AppData\\Local\\Programs\\Python\\Python312\\Lib\\site-packages\\pyogrio\\raw.py:723: RuntimeWarning: Normalized/laundered field name: 'Detail ' to 'Detail'\n",
      "  ogr_write(\n",
      "c:\\Users\\kanzi\\AppData\\Local\\Programs\\Python\\Python312\\Lib\\site-packages\\pyogrio\\raw.py:723: RuntimeWarning: Normalized/laundered field name: 'Lokasi ' to 'Lokasi'\n",
      "  ogr_write(\n"
     ]
    },
    {
     "name": "stdout",
     "output_type": "stream",
     "text": [
      "Processing 'MARKA' as MultiPoint (MARKA sheet)\n",
      "✅ Saved: C:\\Users\\kanzi\\Documents\\Part Time Job\\Hasil Export\\Extract Shapefile\\Kabupaten Sukabumi\\Jalan Eksisting\\Format Baru 23.A. Cikembar-Cikembang_MARKA.shp\n",
      "✅ Applied QML style: C:\\Users\\kanzi\\Documents\\Part Time Job\\Hasil Export\\Extract Shapefile\\Kabupaten Sukabumi\\Jalan Eksisting\\Format Baru 23.A. Cikembar-Cikembang_MARKA.qml\n"
     ]
    },
    {
     "name": "stderr",
     "output_type": "stream",
     "text": [
      "c:\\Users\\kanzi\\AppData\\Local\\Programs\\Python\\Python312\\Lib\\site-packages\\pyogrio\\raw.py:723: RuntimeWarning: Normalized/laundered field name: 'Detail ' to 'Detail'\n",
      "  ogr_write(\n"
     ]
    },
    {
     "name": "stdout",
     "output_type": "stream",
     "text": [
      "Processing 'WARNING LIGHT' as Point geometry (regular sheet)\n",
      "Processing 'APILL' as Point geometry (regular sheet)\n",
      "Processing 'ZOSS' as Point geometry (regular sheet)\n",
      "Processing 'FAS PENYEBERANGAN' as Point geometry (regular sheet)\n"
     ]
    },
    {
     "name": "stderr",
     "output_type": "stream",
     "text": [
      "c:\\Users\\kanzi\\AppData\\Local\\Programs\\Python\\Python312\\Lib\\site-packages\\pyogrio\\raw.py:723: RuntimeWarning: Normalized/laundered field name: 'Detail ' to 'Detail'\n",
      "  ogr_write(\n"
     ]
    },
    {
     "name": "stdout",
     "output_type": "stream",
     "text": [
      "✅ Saved: C:\\Users\\kanzi\\Documents\\Part Time Job\\Hasil Export\\Extract Shapefile\\Kabupaten Sukabumi\\Jalan Eksisting\\Format Baru 23.A. Cikembar-Cikembang_FAS PENYEBERANGAN.shp\n",
      "⚠️ No QML file found for FAS PENYEBERANGAN\n",
      "⚠️ Skipping 'RAMBU PORTABLE' (No valid start coordinate columns found)\n",
      "⚠️ Skipping 'TRAFFIC CONE' (No valid start coordinate columns found)\n",
      "⚠️ Skipping 'WATER BARRIER' (No valid start coordinate columns found)\n",
      "Processing 'CERMIN TIKUNG' as Point geometry (regular sheet)\n",
      "⚠️ Skipping 'CERMIN TIKUNG' (No valid geometry found)\n",
      "✅ Completed processing: Format Baru 23.A. Cikembar-Cikembang.xlsx\n",
      "\n",
      "[16/30] Processing: Format Baru 26.A. Sp. Surade - Ujunggenteng.xlsx\n"
     ]
    },
    {
     "name": "stderr",
     "output_type": "stream",
     "text": [
      "c:\\Users\\kanzi\\AppData\\Local\\Programs\\Python\\Python312\\Lib\\site-packages\\openpyxl\\worksheet\\_reader.py:329: UserWarning: Conditional Formatting extension is not supported and will be removed\n",
      "  warn(msg)\n"
     ]
    },
    {
     "name": "stdout",
     "output_type": "stream",
     "text": [
      "Processing 'RAMBU' as Point geometry (regular sheet)\n"
     ]
    },
    {
     "name": "stderr",
     "output_type": "stream",
     "text": [
      "c:\\Users\\kanzi\\AppData\\Local\\Programs\\Python\\Python312\\Lib\\site-packages\\pyogrio\\raw.py:723: RuntimeWarning: Normalized/laundered field name: 'Detail ' to 'Detail'\n",
      "  ogr_write(\n",
      "c:\\Users\\kanzi\\AppData\\Local\\Programs\\Python\\Python312\\Lib\\site-packages\\pyogrio\\raw.py:723: RuntimeWarning: Normalized/laundered field name: 'Lokasi ' to 'Lokasi'\n",
      "  ogr_write(\n"
     ]
    },
    {
     "name": "stdout",
     "output_type": "stream",
     "text": [
      "✅ Saved: C:\\Users\\kanzi\\Documents\\Part Time Job\\Hasil Export\\Extract Shapefile\\Kabupaten Sukabumi\\Jalan Eksisting\\Format Baru 26.A. Sp. Surade - Ujunggenteng_RAMBU.shp\n",
      "✅ Applied QML style: C:\\Users\\kanzi\\Documents\\Part Time Job\\Hasil Export\\Extract Shapefile\\Kabupaten Sukabumi\\Jalan Eksisting\\Format Baru 26.A. Sp. Surade - Ujunggenteng_RAMBU.qml\n",
      "Processing 'PJU' as Point geometry (regular sheet)\n"
     ]
    },
    {
     "name": "stderr",
     "output_type": "stream",
     "text": [
      "c:\\Users\\kanzi\\AppData\\Local\\Programs\\Python\\Python312\\Lib\\site-packages\\pyogrio\\raw.py:723: RuntimeWarning: Normalized/laundered field name: 'Detail ' to 'Detail'\n",
      "  ogr_write(\n",
      "c:\\Users\\kanzi\\AppData\\Local\\Programs\\Python\\Python312\\Lib\\site-packages\\pyogrio\\raw.py:723: RuntimeWarning: Normalized/laundered field name: 'Lokasi ' to 'Lokasi'\n",
      "  ogr_write(\n",
      "c:\\Users\\kanzi\\AppData\\Local\\Programs\\Python\\Python312\\Lib\\site-packages\\pyogrio\\raw.py:723: RuntimeWarning: Normalized/laundered field name: 'Detail ' to 'Detail'\n",
      "  ogr_write(\n",
      "c:\\Users\\kanzi\\AppData\\Local\\Programs\\Python\\Python312\\Lib\\site-packages\\pyogrio\\raw.py:723: RuntimeWarning: Normalized/laundered field name: 'Lokasi ' to 'Lokasi'\n",
      "  ogr_write(\n"
     ]
    },
    {
     "name": "stdout",
     "output_type": "stream",
     "text": [
      "✅ Saved: C:\\Users\\kanzi\\Documents\\Part Time Job\\Hasil Export\\Extract Shapefile\\Kabupaten Sukabumi\\Jalan Eksisting\\Format Baru 26.A. Sp. Surade - Ujunggenteng_PJU.shp\n",
      "✅ Applied QML style: C:\\Users\\kanzi\\Documents\\Part Time Job\\Hasil Export\\Extract Shapefile\\Kabupaten Sukabumi\\Jalan Eksisting\\Format Baru 26.A. Sp. Surade - Ujunggenteng_PJU.qml\n",
      "Processing 'RPPJ' as Point geometry (regular sheet)\n",
      "✅ Saved: C:\\Users\\kanzi\\Documents\\Part Time Job\\Hasil Export\\Extract Shapefile\\Kabupaten Sukabumi\\Jalan Eksisting\\Format Baru 26.A. Sp. Surade - Ujunggenteng_RPPJ.shp\n",
      "✅ Applied QML style: C:\\Users\\kanzi\\Documents\\Part Time Job\\Hasil Export\\Extract Shapefile\\Kabupaten Sukabumi\\Jalan Eksisting\\Format Baru 26.A. Sp. Surade - Ujunggenteng_RPPJ.qml\n",
      "Processing 'PAGAR PENGAMAN' as LineString (PAGAR PENGAMAN sheet)\n",
      "Processing 'MARKA' as MultiPoint (MARKA sheet)\n",
      "Processing 'WARNING LIGHT' as Point geometry (regular sheet)\n",
      "✅ Saved: C:\\Users\\kanzi\\Documents\\Part Time Job\\Hasil Export\\Extract Shapefile\\Kabupaten Sukabumi\\Jalan Eksisting\\Format Baru 26.A. Sp. Surade - Ujunggenteng_WARNING LIGHT.shp\n",
      "✅ Applied QML style: C:\\Users\\kanzi\\Documents\\Part Time Job\\Hasil Export\\Extract Shapefile\\Kabupaten Sukabumi\\Jalan Eksisting\\Format Baru 26.A. Sp. Surade - Ujunggenteng_WARNING LIGHT.qml\n"
     ]
    },
    {
     "name": "stderr",
     "output_type": "stream",
     "text": [
      "c:\\Users\\kanzi\\AppData\\Local\\Programs\\Python\\Python312\\Lib\\site-packages\\pyogrio\\raw.py:723: RuntimeWarning: Normalized/laundered field name: 'Detail ' to 'Detail'\n",
      "  ogr_write(\n",
      "c:\\Users\\kanzi\\AppData\\Local\\Programs\\Python\\Python312\\Lib\\site-packages\\pyogrio\\raw.py:723: RuntimeWarning: Normalized/laundered field name: 'Lokasi ' to 'Lokasi'\n",
      "  ogr_write(\n"
     ]
    },
    {
     "name": "stdout",
     "output_type": "stream",
     "text": [
      "Processing 'APILL' as Point geometry (regular sheet)\n",
      "Processing 'ZOSS' as Point geometry (regular sheet)\n",
      "⚠️ Skipping 'ZOSS' (No valid geometry found)\n",
      "Processing 'FAS PENYEBERANGAN' as Point geometry (regular sheet)\n",
      "✅ Saved: C:\\Users\\kanzi\\Documents\\Part Time Job\\Hasil Export\\Extract Shapefile\\Kabupaten Sukabumi\\Jalan Eksisting\\Format Baru 26.A. Sp. Surade - Ujunggenteng_FAS PENYEBERANGAN.shp\n",
      "⚠️ No QML file found for FAS PENYEBERANGAN\n",
      "⚠️ Skipping 'RAMBU PORTABLE' (No valid start coordinate columns found)\n",
      "⚠️ Skipping 'TRAFFIC CONE' (No valid start coordinate columns found)\n",
      "⚠️ Skipping 'WATER BARRIER' (No valid start coordinate columns found)\n"
     ]
    },
    {
     "name": "stderr",
     "output_type": "stream",
     "text": [
      "c:\\Users\\kanzi\\AppData\\Local\\Programs\\Python\\Python312\\Lib\\site-packages\\pyogrio\\raw.py:723: RuntimeWarning: Normalized/laundered field name: 'Detail ' to 'Detail'\n",
      "  ogr_write(\n"
     ]
    },
    {
     "name": "stdout",
     "output_type": "stream",
     "text": [
      "Processing 'CERMIN TIKUNG' as Point geometry (regular sheet)\n",
      "⚠️ Skipping 'CERMIN TIKUNG' (No valid geometry found)\n",
      "✅ Completed processing: Format Baru 26.A. Sp. Surade - Ujunggenteng.xlsx\n",
      "\n",
      "[17/30] Processing: Format Baru 28.A. Cibadak - Cikidang - Pelabuhan Ratu.xlsx\n"
     ]
    },
    {
     "name": "stderr",
     "output_type": "stream",
     "text": [
      "c:\\Users\\kanzi\\AppData\\Local\\Programs\\Python\\Python312\\Lib\\site-packages\\openpyxl\\worksheet\\_reader.py:329: UserWarning: Conditional Formatting extension is not supported and will be removed\n",
      "  warn(msg)\n"
     ]
    },
    {
     "name": "stdout",
     "output_type": "stream",
     "text": [
      "Processing 'RAMBU' as Point geometry (regular sheet)\n"
     ]
    },
    {
     "name": "stderr",
     "output_type": "stream",
     "text": [
      "c:\\Users\\kanzi\\AppData\\Local\\Programs\\Python\\Python312\\Lib\\site-packages\\pyogrio\\raw.py:723: RuntimeWarning: Normalized/laundered field name: 'Detail ' to 'Detail'\n",
      "  ogr_write(\n",
      "c:\\Users\\kanzi\\AppData\\Local\\Programs\\Python\\Python312\\Lib\\site-packages\\pyogrio\\raw.py:723: RuntimeWarning: Normalized/laundered field name: 'Gambar ' to 'Gambar'\n",
      "  ogr_write(\n",
      "c:\\Users\\kanzi\\AppData\\Local\\Programs\\Python\\Python312\\Lib\\site-packages\\pyogrio\\raw.py:723: RuntimeWarning: Normalized/laundered field name: 'Lokasi ' to 'Lokasi'\n",
      "  ogr_write(\n",
      "c:\\Users\\kanzi\\AppData\\Local\\Programs\\Python\\Python312\\Lib\\site-packages\\pyogrio\\raw.py:723: RuntimeWarning: Normalized/laundered field name: 'Detail ' to 'Detail'\n",
      "  ogr_write(\n",
      "c:\\Users\\kanzi\\AppData\\Local\\Programs\\Python\\Python312\\Lib\\site-packages\\pyogrio\\raw.py:723: RuntimeWarning: Normalized/laundered field name: 'Gambar ' to 'Gambar'\n",
      "  ogr_write(\n",
      "c:\\Users\\kanzi\\AppData\\Local\\Programs\\Python\\Python312\\Lib\\site-packages\\pyogrio\\raw.py:723: RuntimeWarning: Normalized/laundered field name: 'Lokasi ' to 'Lokasi'\n",
      "  ogr_write(\n",
      "c:\\Users\\kanzi\\AppData\\Local\\Programs\\Python\\Python312\\Lib\\site-packages\\pyogrio\\raw.py:723: RuntimeWarning: Value 1066545922 of field Column__1 of feature 71 not successfully written. Possibly due to too larger number with respect to field width\n",
      "  ogr_write(\n"
     ]
    },
    {
     "name": "stdout",
     "output_type": "stream",
     "text": [
      "✅ Saved: C:\\Users\\kanzi\\Documents\\Part Time Job\\Hasil Export\\Extract Shapefile\\Kabupaten Garut\\Jalan Eksisting\\Format Baru 28.A. Cibadak - Cikidang - Pelabuhan Ratu_RAMBU.shp\n",
      "✅ Applied QML style: C:\\Users\\kanzi\\Documents\\Part Time Job\\Hasil Export\\Extract Shapefile\\Kabupaten Garut\\Jalan Eksisting\\Format Baru 28.A. Cibadak - Cikidang - Pelabuhan Ratu_RAMBU.qml\n",
      "✅ Saved: C:\\Users\\kanzi\\Documents\\Part Time Job\\Hasil Export\\Extract Shapefile\\Kabupaten Sukabumi\\Jalan Eksisting\\Format Baru 28.A. Cibadak - Cikidang - Pelabuhan Ratu_RAMBU.shp\n",
      "✅ Applied QML style: C:\\Users\\kanzi\\Documents\\Part Time Job\\Hasil Export\\Extract Shapefile\\Kabupaten Sukabumi\\Jalan Eksisting\\Format Baru 28.A. Cibadak - Cikidang - Pelabuhan Ratu_RAMBU.qml\n",
      "Processing 'PJU' as Point geometry (regular sheet)\n",
      "❌ Error processing sheet 'PJU': could not convert string to float: ' '\n"
     ]
    },
    {
     "name": "stderr",
     "output_type": "stream",
     "text": [
      "Traceback (most recent call last):\n",
      "  File \"C:\\Users\\kanzi\\AppData\\Local\\Temp\\ipykernel_15504\\3773111128.py\", line 785, in flatten_excel_to_shapefile\n",
      "    df[\"geometry\"] = df.apply(\n",
      "                     ^^^^^^^^^\n",
      "  File \"c:\\Users\\kanzi\\AppData\\Local\\Programs\\Python\\Python312\\Lib\\site-packages\\pandas\\core\\frame.py\", line 10034, in apply\n",
      "    return op.apply().__finalize__(self, method=\"apply\")\n",
      "           ^^^^^^^^^^\n",
      "  File \"c:\\Users\\kanzi\\AppData\\Local\\Programs\\Python\\Python312\\Lib\\site-packages\\pandas\\core\\apply.py\", line 837, in apply\n",
      "    return self.apply_standard()\n",
      "           ^^^^^^^^^^^^^^^^^^^^^\n",
      "  File \"c:\\Users\\kanzi\\AppData\\Local\\Programs\\Python\\Python312\\Lib\\site-packages\\pandas\\core\\apply.py\", line 963, in apply_standard\n",
      "    results, res_index = self.apply_series_generator()\n",
      "                         ^^^^^^^^^^^^^^^^^^^^^^^^^^^^^\n",
      "  File \"c:\\Users\\kanzi\\AppData\\Local\\Programs\\Python\\Python312\\Lib\\site-packages\\pandas\\core\\apply.py\", line 979, in apply_series_generator\n",
      "    results[i] = self.func(v, *self.args, **self.kwargs)\n",
      "                 ^^^^^^^^^^^^^^^^^^^^^^^^^^^^^^^^^^^^^^^\n",
      "  File \"C:\\Users\\kanzi\\AppData\\Local\\Temp\\ipykernel_15504\\3773111128.py\", line 786, in <lambda>\n",
      "    lambda row: Point(row[start_lon_col], row[start_lat_col])\n",
      "               ^^^^^^^^^^^^^^^^^^^^^^^^^^^^^^^^^^^^^^^^^^^^^\n",
      "  File \"c:\\Users\\kanzi\\AppData\\Local\\Programs\\Python\\Python312\\Lib\\site-packages\\shapely\\geometry\\point.py\", line 77, in __new__\n",
      "    coords = [float(c) for c in coords]\n",
      "              ^^^^^^^^\n",
      "ValueError: could not convert string to float: ' '\n"
     ]
    },
    {
     "name": "stdout",
     "output_type": "stream",
     "text": [
      "Processing 'RPPJ' as Point geometry (regular sheet)\n",
      "✅ Saved: C:\\Users\\kanzi\\Documents\\Part Time Job\\Hasil Export\\Extract Shapefile\\Kabupaten Garut\\Jalan Eksisting\\Format Baru 28.A. Cibadak - Cikidang - Pelabuhan Ratu_RPPJ.shp\n",
      "✅ Applied QML style: C:\\Users\\kanzi\\Documents\\Part Time Job\\Hasil Export\\Extract Shapefile\\Kabupaten Garut\\Jalan Eksisting\\Format Baru 28.A. Cibadak - Cikidang - Pelabuhan Ratu_RPPJ.qml\n",
      "✅ Saved: C:\\Users\\kanzi\\Documents\\Part Time Job\\Hasil Export\\Extract Shapefile\\Kabupaten Sukabumi\\Jalan Eksisting\\Format Baru 28.A. Cibadak - Cikidang - Pelabuhan Ratu_RPPJ.shp\n",
      "✅ Applied QML style: C:\\Users\\kanzi\\Documents\\Part Time Job\\Hasil Export\\Extract Shapefile\\Kabupaten Sukabumi\\Jalan Eksisting\\Format Baru 28.A. Cibadak - Cikidang - Pelabuhan Ratu_RPPJ.qml\n"
     ]
    },
    {
     "name": "stderr",
     "output_type": "stream",
     "text": [
      "c:\\Users\\kanzi\\AppData\\Local\\Programs\\Python\\Python312\\Lib\\site-packages\\pyogrio\\raw.py:723: RuntimeWarning: Normalized/laundered field name: 'Detail ' to 'Detail'\n",
      "  ogr_write(\n",
      "c:\\Users\\kanzi\\AppData\\Local\\Programs\\Python\\Python312\\Lib\\site-packages\\pyogrio\\raw.py:723: RuntimeWarning: Normalized/laundered field name: 'Lokasi ' to 'Lokasi'\n",
      "  ogr_write(\n",
      "c:\\Users\\kanzi\\AppData\\Local\\Programs\\Python\\Python312\\Lib\\site-packages\\pyogrio\\raw.py:723: RuntimeWarning: Normalized/laundered field name: 'Detail ' to 'Detail'\n",
      "  ogr_write(\n",
      "c:\\Users\\kanzi\\AppData\\Local\\Programs\\Python\\Python312\\Lib\\site-packages\\pyogrio\\raw.py:723: RuntimeWarning: Normalized/laundered field name: 'Lokasi ' to 'Lokasi'\n",
      "  ogr_write(\n"
     ]
    },
    {
     "name": "stdout",
     "output_type": "stream",
     "text": [
      "Processing 'PAGAR PENGAMAN' as LineString (PAGAR PENGAMAN sheet)\n"
     ]
    },
    {
     "name": "stderr",
     "output_type": "stream",
     "text": [
      "c:\\Users\\kanzi\\AppData\\Local\\Programs\\Python\\Python312\\Lib\\site-packages\\pyogrio\\raw.py:723: RuntimeWarning: Normalized/laundered field name: 'Detail ' to 'Detail'\n",
      "  ogr_write(\n",
      "c:\\Users\\kanzi\\AppData\\Local\\Programs\\Python\\Python312\\Lib\\site-packages\\pyogrio\\raw.py:723: RuntimeWarning: Normalized/laundered field name: 'Lokasi ' to 'Lokasi'\n",
      "  ogr_write(\n"
     ]
    },
    {
     "name": "stdout",
     "output_type": "stream",
     "text": [
      "✅ Saved: C:\\Users\\kanzi\\Documents\\Part Time Job\\Hasil Export\\Extract Shapefile\\Kabupaten Sukabumi\\Jalan Eksisting\\Format Baru 28.A. Cibadak - Cikidang - Pelabuhan Ratu_PAGAR PENGAMAN.shp\n",
      "✅ Applied QML style: C:\\Users\\kanzi\\Documents\\Part Time Job\\Hasil Export\\Extract Shapefile\\Kabupaten Sukabumi\\Jalan Eksisting\\Format Baru 28.A. Cibadak - Cikidang - Pelabuhan Ratu_PAGAR PENGAMAN.qml\n",
      "Processing 'MARKA' as MultiPoint (MARKA sheet)\n",
      "Processing 'WARNING LIGHT' as Point geometry (regular sheet)\n",
      "Processing 'APILL' as Point geometry (regular sheet)\n",
      "Processing 'ZOSS' as Point geometry (regular sheet)\n",
      "✅ Saved: C:\\Users\\kanzi\\Documents\\Part Time Job\\Hasil Export\\Extract Shapefile\\Kabupaten Sukabumi\\Jalan Eksisting\\Format Baru 28.A. Cibadak - Cikidang - Pelabuhan Ratu_ZOSS.shp\n",
      "✅ Applied QML style: C:\\Users\\kanzi\\Documents\\Part Time Job\\Hasil Export\\Extract Shapefile\\Kabupaten Sukabumi\\Jalan Eksisting\\Format Baru 28.A. Cibadak - Cikidang - Pelabuhan Ratu_ZOSS.qml\n",
      "Processing 'FAS PENYEBERANGAN' as Point geometry (regular sheet)\n",
      "⚠️ Skipping 'RAMBU PORTABLE' (No valid start coordinate columns found)\n",
      "⚠️ Skipping 'TRAFFIC CONE' (No valid start coordinate columns found)\n",
      "⚠️ Skipping 'WATER BARRIER' (No valid start coordinate columns found)\n",
      "Processing 'CERMIN TIKUNG' as Point geometry (regular sheet)\n",
      "✅ Saved: C:\\Users\\kanzi\\Documents\\Part Time Job\\Hasil Export\\Extract Shapefile\\Kabupaten Sukabumi\\Jalan Eksisting\\Format Baru 28.A. Cibadak - Cikidang - Pelabuhan Ratu_CERMIN TIKUNG.shp\n",
      "✅ Applied QML style: C:\\Users\\kanzi\\Documents\\Part Time Job\\Hasil Export\\Extract Shapefile\\Kabupaten Sukabumi\\Jalan Eksisting\\Format Baru 28.A. Cibadak - Cikidang - Pelabuhan Ratu_CERMIN TIKUNG.qml\n",
      "✅ Completed processing: Format Baru 28.A. Cibadak - Cikidang - Pelabuhan Ratu.xlsx\n",
      "\n",
      "[18/30] Processing: Format Baru 29.A. Sp. Karanghawu - Bts. Prov. Banten (Cikotok).xlsx\n"
     ]
    },
    {
     "name": "stderr",
     "output_type": "stream",
     "text": [
      "c:\\Users\\kanzi\\AppData\\Local\\Programs\\Python\\Python312\\Lib\\site-packages\\pyogrio\\raw.py:723: RuntimeWarning: Normalized/laundered field name: 'Detail ' to 'Detail'\n",
      "  ogr_write(\n",
      "c:\\Users\\kanzi\\AppData\\Local\\Programs\\Python\\Python312\\Lib\\site-packages\\openpyxl\\worksheet\\_reader.py:329: UserWarning: Conditional Formatting extension is not supported and will be removed\n",
      "  warn(msg)\n"
     ]
    },
    {
     "name": "stdout",
     "output_type": "stream",
     "text": [
      "Processing 'RAMBU' as Point geometry (regular sheet)\n"
     ]
    },
    {
     "name": "stderr",
     "output_type": "stream",
     "text": [
      "c:\\Users\\kanzi\\AppData\\Local\\Programs\\Python\\Python312\\Lib\\site-packages\\pyogrio\\raw.py:723: RuntimeWarning: Normalized/laundered field name: 'Detail ' to 'Detail'\n",
      "  ogr_write(\n",
      "c:\\Users\\kanzi\\AppData\\Local\\Programs\\Python\\Python312\\Lib\\site-packages\\pyogrio\\raw.py:723: RuntimeWarning: Normalized/laundered field name: 'Gambar ' to 'Gambar'\n",
      "  ogr_write(\n",
      "c:\\Users\\kanzi\\AppData\\Local\\Programs\\Python\\Python312\\Lib\\site-packages\\pyogrio\\raw.py:723: RuntimeWarning: Normalized/laundered field name: 'Lokasi ' to 'Lokasi'\n",
      "  ogr_write(\n"
     ]
    },
    {
     "name": "stdout",
     "output_type": "stream",
     "text": [
      "✅ Saved: C:\\Users\\kanzi\\Documents\\Part Time Job\\Hasil Export\\Extract Shapefile\\Kabupaten Sukabumi\\Jalan Eksisting\\Format Baru 29.A. Sp. Karanghawu - Bts. Prov. Banten (Cikotok)_RAMBU.shp\n",
      "✅ Applied QML style: C:\\Users\\kanzi\\Documents\\Part Time Job\\Hasil Export\\Extract Shapefile\\Kabupaten Sukabumi\\Jalan Eksisting\\Format Baru 29.A. Sp. Karanghawu - Bts. Prov. Banten (Cikotok)_RAMBU.qml\n",
      "Processing 'PJU' as Point geometry (regular sheet)\n"
     ]
    },
    {
     "name": "stderr",
     "output_type": "stream",
     "text": [
      "c:\\Users\\kanzi\\AppData\\Local\\Programs\\Python\\Python312\\Lib\\site-packages\\pyogrio\\raw.py:723: RuntimeWarning: Normalized/laundered field name: 'Detail ' to 'Detail'\n",
      "  ogr_write(\n",
      "c:\\Users\\kanzi\\AppData\\Local\\Programs\\Python\\Python312\\Lib\\site-packages\\pyogrio\\raw.py:723: RuntimeWarning: Normalized/laundered field name: 'Lokasi ' to 'Lokasi'\n",
      "  ogr_write(\n",
      "c:\\Users\\kanzi\\AppData\\Local\\Programs\\Python\\Python312\\Lib\\site-packages\\pyogrio\\raw.py:723: RuntimeWarning: Normalized/laundered field name: 'Detail ' to 'Detail'\n",
      "  ogr_write(\n",
      "c:\\Users\\kanzi\\AppData\\Local\\Programs\\Python\\Python312\\Lib\\site-packages\\pyogrio\\raw.py:723: RuntimeWarning: Normalized/laundered field name: 'Gambar ' to 'Gambar'\n",
      "  ogr_write(\n",
      "c:\\Users\\kanzi\\AppData\\Local\\Programs\\Python\\Python312\\Lib\\site-packages\\pyogrio\\raw.py:723: RuntimeWarning: Normalized/laundered field name: 'Lokasi ' to 'Lokasi'\n",
      "  ogr_write(\n"
     ]
    },
    {
     "name": "stdout",
     "output_type": "stream",
     "text": [
      "✅ Saved: C:\\Users\\kanzi\\Documents\\Part Time Job\\Hasil Export\\Extract Shapefile\\Kabupaten Sukabumi\\Jalan Eksisting\\Format Baru 29.A. Sp. Karanghawu - Bts. Prov. Banten (Cikotok)_PJU.shp\n",
      "✅ Applied QML style: C:\\Users\\kanzi\\Documents\\Part Time Job\\Hasil Export\\Extract Shapefile\\Kabupaten Sukabumi\\Jalan Eksisting\\Format Baru 29.A. Sp. Karanghawu - Bts. Prov. Banten (Cikotok)_PJU.qml\n",
      "Processing 'RPPJ' as Point geometry (regular sheet)\n",
      "✅ Saved: C:\\Users\\kanzi\\Documents\\Part Time Job\\Hasil Export\\Extract Shapefile\\Kabupaten Sukabumi\\Jalan Eksisting\\Format Baru 29.A. Sp. Karanghawu - Bts. Prov. Banten (Cikotok)_RPPJ.shp\n",
      "✅ Applied QML style: C:\\Users\\kanzi\\Documents\\Part Time Job\\Hasil Export\\Extract Shapefile\\Kabupaten Sukabumi\\Jalan Eksisting\\Format Baru 29.A. Sp. Karanghawu - Bts. Prov. Banten (Cikotok)_RPPJ.qml\n",
      "Processing 'PAGAR PENGAMAN' as LineString (PAGAR PENGAMAN sheet)\n"
     ]
    },
    {
     "name": "stderr",
     "output_type": "stream",
     "text": [
      "c:\\Users\\kanzi\\AppData\\Local\\Programs\\Python\\Python312\\Lib\\site-packages\\pyogrio\\raw.py:723: RuntimeWarning: Normalized/laundered field name: 'Detail ' to 'Detail'\n",
      "  ogr_write(\n",
      "c:\\Users\\kanzi\\AppData\\Local\\Programs\\Python\\Python312\\Lib\\site-packages\\pyogrio\\raw.py:723: RuntimeWarning: Normalized/laundered field name: 'Lokasi ' to 'Lokasi'\n",
      "  ogr_write(\n",
      "c:\\Users\\kanzi\\AppData\\Local\\Programs\\Python\\Python312\\Lib\\site-packages\\pyogrio\\raw.py:723: RuntimeWarning: Normalized/laundered field name: 'Detail ' to 'Detail'\n",
      "  ogr_write(\n",
      "c:\\Users\\kanzi\\AppData\\Local\\Programs\\Python\\Python312\\Lib\\site-packages\\pyogrio\\raw.py:723: RuntimeWarning: Normalized/laundered field name: 'Lokasi ' to 'Lokasi'\n",
      "  ogr_write(\n"
     ]
    },
    {
     "name": "stdout",
     "output_type": "stream",
     "text": [
      "✅ Saved: C:\\Users\\kanzi\\Documents\\Part Time Job\\Hasil Export\\Extract Shapefile\\Kabupaten Bogor\\Jalan Eksisting\\Format Baru 29.A. Sp. Karanghawu - Bts. Prov. Banten (Cikotok)_PAGAR PENGAMAN.shp\n",
      "✅ Applied QML style: C:\\Users\\kanzi\\Documents\\Part Time Job\\Hasil Export\\Extract Shapefile\\Kabupaten Bogor\\Jalan Eksisting\\Format Baru 29.A. Sp. Karanghawu - Bts. Prov. Banten (Cikotok)_PAGAR PENGAMAN.qml\n",
      "✅ Saved: C:\\Users\\kanzi\\Documents\\Part Time Job\\Hasil Export\\Extract Shapefile\\Kabupaten Sukabumi\\Jalan Eksisting\\Format Baru 29.A. Sp. Karanghawu - Bts. Prov. Banten (Cikotok)_PAGAR PENGAMAN.shp\n",
      "✅ Applied QML style: C:\\Users\\kanzi\\Documents\\Part Time Job\\Hasil Export\\Extract Shapefile\\Kabupaten Sukabumi\\Jalan Eksisting\\Format Baru 29.A. Sp. Karanghawu - Bts. Prov. Banten (Cikotok)_PAGAR PENGAMAN.qml\n",
      "Processing 'MARKA' as MultiPoint (MARKA sheet)\n",
      "✅ Saved: C:\\Users\\kanzi\\Documents\\Part Time Job\\Hasil Export\\Extract Shapefile\\Kabupaten Sukabumi\\Jalan Eksisting\\Format Baru 29.A. Sp. Karanghawu - Bts. Prov. Banten (Cikotok)_MARKA.shp\n",
      "✅ Applied QML style: C:\\Users\\kanzi\\Documents\\Part Time Job\\Hasil Export\\Extract Shapefile\\Kabupaten Sukabumi\\Jalan Eksisting\\Format Baru 29.A. Sp. Karanghawu - Bts. Prov. Banten (Cikotok)_MARKA.qml\n"
     ]
    },
    {
     "name": "stderr",
     "output_type": "stream",
     "text": [
      "c:\\Users\\kanzi\\AppData\\Local\\Programs\\Python\\Python312\\Lib\\site-packages\\pyogrio\\raw.py:723: RuntimeWarning: Normalized/laundered field name: 'Detail ' to 'Detail'\n",
      "  ogr_write(\n"
     ]
    },
    {
     "name": "stdout",
     "output_type": "stream",
     "text": [
      "Processing 'WARNING LIGHT' as Point geometry (regular sheet)\n",
      "Processing 'APILL' as Point geometry (regular sheet)\n",
      "Processing 'ZOSS' as Point geometry (regular sheet)\n",
      "Processing 'FAS PENYEBERANGAN' as Point geometry (regular sheet)\n"
     ]
    },
    {
     "name": "stderr",
     "output_type": "stream",
     "text": [
      "c:\\Users\\kanzi\\AppData\\Local\\Programs\\Python\\Python312\\Lib\\site-packages\\pyogrio\\raw.py:723: RuntimeWarning: Normalized/laundered field name: 'Detail ' to 'Detail'\n",
      "  ogr_write(\n"
     ]
    },
    {
     "name": "stdout",
     "output_type": "stream",
     "text": [
      "✅ Saved: C:\\Users\\kanzi\\Documents\\Part Time Job\\Hasil Export\\Extract Shapefile\\Kabupaten Sukabumi\\Jalan Eksisting\\Format Baru 29.A. Sp. Karanghawu - Bts. Prov. Banten (Cikotok)_FAS PENYEBERANGAN.shp\n",
      "⚠️ No QML file found for FAS PENYEBERANGAN\n",
      "⚠️ Skipping 'RAMBU PORTABLE' (No valid start coordinate columns found)\n",
      "⚠️ Skipping 'TRAFFIC CONE' (No valid start coordinate columns found)\n",
      "⚠️ Skipping 'WATER BARRIER' (No valid start coordinate columns found)\n",
      "Processing 'CERMIN TIKUNG' as Point geometry (regular sheet)\n",
      "✅ Saved: C:\\Users\\kanzi\\Documents\\Part Time Job\\Hasil Export\\Extract Shapefile\\Kabupaten Sukabumi\\Jalan Eksisting\\Format Baru 29.A. Sp. Karanghawu - Bts. Prov. Banten (Cikotok)_CERMIN TIKUNG.shp\n",
      "✅ Applied QML style: C:\\Users\\kanzi\\Documents\\Part Time Job\\Hasil Export\\Extract Shapefile\\Kabupaten Sukabumi\\Jalan Eksisting\\Format Baru 29.A. Sp. Karanghawu - Bts. Prov. Banten (Cikotok)_CERMIN TIKUNG.qml\n",
      "✅ Completed processing: Format Baru 29.A. Sp. Karanghawu - Bts. Prov. Banten (Cikotok).xlsx\n",
      "\n",
      "[19/30] Processing: Format Baru 32.A. Sp.3 Loji (Tegalnyampah) - Balewer - Puncak Darma.xlsx\n"
     ]
    },
    {
     "name": "stderr",
     "output_type": "stream",
     "text": [
      "c:\\Users\\kanzi\\AppData\\Local\\Programs\\Python\\Python312\\Lib\\site-packages\\pyogrio\\raw.py:723: RuntimeWarning: Normalized/laundered field name: 'Detail ' to 'Detail'\n",
      "  ogr_write(\n",
      "c:\\Users\\kanzi\\AppData\\Local\\Programs\\Python\\Python312\\Lib\\site-packages\\openpyxl\\worksheet\\_reader.py:329: UserWarning: Conditional Formatting extension is not supported and will be removed\n",
      "  warn(msg)\n"
     ]
    },
    {
     "name": "stdout",
     "output_type": "stream",
     "text": [
      "Processing 'RAMBU' as Point geometry (regular sheet)\n"
     ]
    },
    {
     "name": "stderr",
     "output_type": "stream",
     "text": [
      "c:\\Users\\kanzi\\AppData\\Local\\Programs\\Python\\Python312\\Lib\\site-packages\\pyogrio\\raw.py:723: RuntimeWarning: Normalized/laundered field name: 'Detail ' to 'Detail'\n",
      "  ogr_write(\n",
      "c:\\Users\\kanzi\\AppData\\Local\\Programs\\Python\\Python312\\Lib\\site-packages\\pyogrio\\raw.py:723: RuntimeWarning: Normalized/laundered field name: 'Gambar ' to 'Gambar'\n",
      "  ogr_write(\n",
      "c:\\Users\\kanzi\\AppData\\Local\\Programs\\Python\\Python312\\Lib\\site-packages\\pyogrio\\raw.py:723: RuntimeWarning: Normalized/laundered field name: 'Lokasi ' to 'Lokasi'\n",
      "  ogr_write(\n",
      "c:\\Users\\kanzi\\AppData\\Local\\Programs\\Python\\Python312\\Lib\\site-packages\\pyogrio\\raw.py:723: RuntimeWarning: Normalized/laundered field name: 'Detail ' to 'Detail'\n",
      "  ogr_write(\n",
      "c:\\Users\\kanzi\\AppData\\Local\\Programs\\Python\\Python312\\Lib\\site-packages\\pyogrio\\raw.py:723: RuntimeWarning: Normalized/laundered field name: 'Gambar ' to 'Gambar'\n",
      "  ogr_write(\n",
      "c:\\Users\\kanzi\\AppData\\Local\\Programs\\Python\\Python312\\Lib\\site-packages\\pyogrio\\raw.py:723: RuntimeWarning: Normalized/laundered field name: 'Lokasi ' to 'Lokasi'\n",
      "  ogr_write(\n"
     ]
    },
    {
     "name": "stdout",
     "output_type": "stream",
     "text": [
      "✅ Saved: C:\\Users\\kanzi\\Documents\\Part Time Job\\Hasil Export\\Extract Shapefile\\Kabupaten Karawang\\Jalan Eksisting\\Format Baru 32.A. Sp.3 Loji (Tegalnyampah) - Balewer - Puncak Darma_RAMBU.shp\n",
      "✅ Applied QML style: C:\\Users\\kanzi\\Documents\\Part Time Job\\Hasil Export\\Extract Shapefile\\Kabupaten Karawang\\Jalan Eksisting\\Format Baru 32.A. Sp.3 Loji (Tegalnyampah) - Balewer - Puncak Darma_RAMBU.qml\n",
      "✅ Saved: C:\\Users\\kanzi\\Documents\\Part Time Job\\Hasil Export\\Extract Shapefile\\Kabupaten Sukabumi\\Jalan Eksisting\\Format Baru 32.A. Sp.3 Loji (Tegalnyampah) - Balewer - Puncak Darma_RAMBU.shp\n",
      "✅ Applied QML style: C:\\Users\\kanzi\\Documents\\Part Time Job\\Hasil Export\\Extract Shapefile\\Kabupaten Sukabumi\\Jalan Eksisting\\Format Baru 32.A. Sp.3 Loji (Tegalnyampah) - Balewer - Puncak Darma_RAMBU.qml\n",
      "Processing 'PJU' as Point geometry (regular sheet)\n"
     ]
    },
    {
     "name": "stderr",
     "output_type": "stream",
     "text": [
      "c:\\Users\\kanzi\\AppData\\Local\\Programs\\Python\\Python312\\Lib\\site-packages\\pyogrio\\raw.py:723: RuntimeWarning: Normalized/laundered field name: 'Detail ' to 'Detail'\n",
      "  ogr_write(\n",
      "c:\\Users\\kanzi\\AppData\\Local\\Programs\\Python\\Python312\\Lib\\site-packages\\pyogrio\\raw.py:723: RuntimeWarning: Normalized/laundered field name: 'Lokasi ' to 'Lokasi'\n",
      "  ogr_write(\n"
     ]
    },
    {
     "name": "stdout",
     "output_type": "stream",
     "text": [
      "✅ Saved: C:\\Users\\kanzi\\Documents\\Part Time Job\\Hasil Export\\Extract Shapefile\\Kabupaten Sukabumi\\Jalan Eksisting\\Format Baru 32.A. Sp.3 Loji (Tegalnyampah) - Balewer - Puncak Darma_PJU.shp\n",
      "✅ Applied QML style: C:\\Users\\kanzi\\Documents\\Part Time Job\\Hasil Export\\Extract Shapefile\\Kabupaten Sukabumi\\Jalan Eksisting\\Format Baru 32.A. Sp.3 Loji (Tegalnyampah) - Balewer - Puncak Darma_PJU.qml\n",
      "Processing 'RPPJ' as Point geometry (regular sheet)\n",
      "Processing 'PAGAR PENGAMAN' as LineString (PAGAR PENGAMAN sheet)\n"
     ]
    },
    {
     "name": "stderr",
     "output_type": "stream",
     "text": [
      "c:\\Users\\kanzi\\AppData\\Local\\Programs\\Python\\Python312\\Lib\\site-packages\\pyogrio\\raw.py:723: RuntimeWarning: Normalized/laundered field name: 'Detail ' to 'Detail'\n",
      "  ogr_write(\n",
      "c:\\Users\\kanzi\\AppData\\Local\\Programs\\Python\\Python312\\Lib\\site-packages\\pyogrio\\raw.py:723: RuntimeWarning: Normalized/laundered field name: 'Lokasi ' to 'Lokasi'\n",
      "  ogr_write(\n"
     ]
    },
    {
     "name": "stdout",
     "output_type": "stream",
     "text": [
      "✅ Saved: C:\\Users\\kanzi\\Documents\\Part Time Job\\Hasil Export\\Extract Shapefile\\Kabupaten Sukabumi\\Jalan Eksisting\\Format Baru 32.A. Sp.3 Loji (Tegalnyampah) - Balewer - Puncak Darma_PAGAR PENGAMAN.shp\n",
      "✅ Applied QML style: C:\\Users\\kanzi\\Documents\\Part Time Job\\Hasil Export\\Extract Shapefile\\Kabupaten Sukabumi\\Jalan Eksisting\\Format Baru 32.A. Sp.3 Loji (Tegalnyampah) - Balewer - Puncak Darma_PAGAR PENGAMAN.qml\n",
      "Processing 'MARKA' as MultiPoint (MARKA sheet)\n",
      "✅ Saved: C:\\Users\\kanzi\\Documents\\Part Time Job\\Hasil Export\\Extract Shapefile\\Kabupaten Sukabumi\\Jalan Eksisting\\Format Baru 32.A. Sp.3 Loji (Tegalnyampah) - Balewer - Puncak Darma_MARKA.shp\n",
      "✅ Applied QML style: C:\\Users\\kanzi\\Documents\\Part Time Job\\Hasil Export\\Extract Shapefile\\Kabupaten Sukabumi\\Jalan Eksisting\\Format Baru 32.A. Sp.3 Loji (Tegalnyampah) - Balewer - Puncak Darma_MARKA.qml\n"
     ]
    },
    {
     "name": "stderr",
     "output_type": "stream",
     "text": [
      "c:\\Users\\kanzi\\AppData\\Local\\Programs\\Python\\Python312\\Lib\\site-packages\\pyogrio\\raw.py:723: RuntimeWarning: Normalized/laundered field name: 'Detail ' to 'Detail'\n",
      "  ogr_write(\n"
     ]
    },
    {
     "name": "stdout",
     "output_type": "stream",
     "text": [
      "Processing 'WARNING LIGHT' as Point geometry (regular sheet)\n",
      "Processing 'APILL' as Point geometry (regular sheet)\n",
      "Processing 'ZOSS' as Point geometry (regular sheet)\n",
      "Processing 'FAS PENYEBERANGAN' as Point geometry (regular sheet)\n",
      "✅ Saved: C:\\Users\\kanzi\\Documents\\Part Time Job\\Hasil Export\\Extract Shapefile\\Kabupaten Sukabumi\\Jalan Eksisting\\Format Baru 32.A. Sp.3 Loji (Tegalnyampah) - Balewer - Puncak Darma_FAS PENYEBERANGAN.shp\n",
      "⚠️ No QML file found for FAS PENYEBERANGAN\n",
      "⚠️ Skipping 'RAMBU PORTABLE' (No valid start coordinate columns found)\n",
      "⚠️ Skipping 'TRAFFIC CONE' (No valid start coordinate columns found)\n",
      "⚠️ Skipping 'WATER BARRIER' (No valid start coordinate columns found)\n"
     ]
    },
    {
     "name": "stderr",
     "output_type": "stream",
     "text": [
      "c:\\Users\\kanzi\\AppData\\Local\\Programs\\Python\\Python312\\Lib\\site-packages\\pyogrio\\raw.py:723: RuntimeWarning: Normalized/laundered field name: 'Detail ' to 'Detail'\n",
      "  ogr_write(\n"
     ]
    },
    {
     "name": "stdout",
     "output_type": "stream",
     "text": [
      "Processing 'CERMIN TIKUNG' as Point geometry (regular sheet)\n",
      "✅ Saved: C:\\Users\\kanzi\\Documents\\Part Time Job\\Hasil Export\\Extract Shapefile\\Kabupaten Sukabumi\\Jalan Eksisting\\Format Baru 32.A. Sp.3 Loji (Tegalnyampah) - Balewer - Puncak Darma_CERMIN TIKUNG.shp\n",
      "✅ Applied QML style: C:\\Users\\kanzi\\Documents\\Part Time Job\\Hasil Export\\Extract Shapefile\\Kabupaten Sukabumi\\Jalan Eksisting\\Format Baru 32.A. Sp.3 Loji (Tegalnyampah) - Balewer - Puncak Darma_CERMIN TIKUNG.qml\n",
      "✅ Completed processing: Format Baru 32.A. Sp.3 Loji (Tegalnyampah) - Balewer - Puncak Darma.xlsx\n",
      "\n",
      "[20/30] Processing: Format Baru 38.A. Siliwangi Kota Bogor.xlsx\n"
     ]
    },
    {
     "name": "stderr",
     "output_type": "stream",
     "text": [
      "c:\\Users\\kanzi\\AppData\\Local\\Programs\\Python\\Python312\\Lib\\site-packages\\pyogrio\\raw.py:723: RuntimeWarning: Normalized/laundered field name: 'Detail ' to 'Detail'\n",
      "  ogr_write(\n",
      "c:\\Users\\kanzi\\AppData\\Local\\Programs\\Python\\Python312\\Lib\\site-packages\\openpyxl\\worksheet\\_reader.py:329: UserWarning: Conditional Formatting extension is not supported and will be removed\n",
      "  warn(msg)\n"
     ]
    },
    {
     "name": "stdout",
     "output_type": "stream",
     "text": [
      "Processing 'PJU' as Point geometry (regular sheet)\n",
      "✅ Saved: C:\\Users\\kanzi\\Documents\\Part Time Job\\Hasil Export\\Extract Shapefile\\Kota Bogor\\Jalan Eksisting\\Format Baru 38.A. Siliwangi Kota Bogor_PJU.shp\n",
      "✅ Applied QML style: C:\\Users\\kanzi\\Documents\\Part Time Job\\Hasil Export\\Extract Shapefile\\Kota Bogor\\Jalan Eksisting\\Format Baru 38.A. Siliwangi Kota Bogor_PJU.qml\n",
      "Processing 'RAMBU' as Point geometry (regular sheet)\n",
      "✅ Saved: C:\\Users\\kanzi\\Documents\\Part Time Job\\Hasil Export\\Extract Shapefile\\Kota Bogor\\Jalan Eksisting\\Format Baru 38.A. Siliwangi Kota Bogor_RAMBU.shp\n",
      "✅ Applied QML style: C:\\Users\\kanzi\\Documents\\Part Time Job\\Hasil Export\\Extract Shapefile\\Kota Bogor\\Jalan Eksisting\\Format Baru 38.A. Siliwangi Kota Bogor_RAMBU.qml\n",
      "Processing 'RPPJ' as Point geometry (regular sheet)\n",
      "✅ Saved: C:\\Users\\kanzi\\Documents\\Part Time Job\\Hasil Export\\Extract Shapefile\\Kota Bogor\\Jalan Eksisting\\Format Baru 38.A. Siliwangi Kota Bogor_RPPJ.shp\n",
      "✅ Applied QML style: C:\\Users\\kanzi\\Documents\\Part Time Job\\Hasil Export\\Extract Shapefile\\Kota Bogor\\Jalan Eksisting\\Format Baru 38.A. Siliwangi Kota Bogor_RPPJ.qml\n"
     ]
    },
    {
     "name": "stderr",
     "output_type": "stream",
     "text": [
      "c:\\Users\\kanzi\\AppData\\Local\\Programs\\Python\\Python312\\Lib\\site-packages\\pyogrio\\raw.py:723: RuntimeWarning: Normalized/laundered field name: 'Detail ' to 'Detail'\n",
      "  ogr_write(\n",
      "c:\\Users\\kanzi\\AppData\\Local\\Programs\\Python\\Python312\\Lib\\site-packages\\pyogrio\\raw.py:723: RuntimeWarning: Normalized/laundered field name: 'Lokasi ' to 'Lokasi'\n",
      "  ogr_write(\n",
      "c:\\Users\\kanzi\\AppData\\Local\\Programs\\Python\\Python312\\Lib\\site-packages\\pyogrio\\raw.py:723: RuntimeWarning: Normalized/laundered field name: 'Detail ' to 'Detail'\n",
      "  ogr_write(\n",
      "c:\\Users\\kanzi\\AppData\\Local\\Programs\\Python\\Python312\\Lib\\site-packages\\pyogrio\\raw.py:723: RuntimeWarning: Normalized/laundered field name: 'Gambar ' to 'Gambar'\n",
      "  ogr_write(\n",
      "c:\\Users\\kanzi\\AppData\\Local\\Programs\\Python\\Python312\\Lib\\site-packages\\pyogrio\\raw.py:723: RuntimeWarning: Normalized/laundered field name: 'Lokasi ' to 'Lokasi'\n",
      "  ogr_write(\n",
      "c:\\Users\\kanzi\\AppData\\Local\\Programs\\Python\\Python312\\Lib\\site-packages\\pyogrio\\raw.py:723: RuntimeWarning: Normalized/laundered field name: 'Detail ' to 'Detail'\n",
      "  ogr_write(\n",
      "c:\\Users\\kanzi\\AppData\\Local\\Programs\\Python\\Python312\\Lib\\site-packages\\pyogrio\\raw.py:723: RuntimeWarning: Normalized/laundered field name: 'Gambar ' to 'Gambar'\n",
      "  ogr_write(\n",
      "c:\\Users\\kanzi\\AppData\\Local\\Programs\\Python\\Python312\\Lib\\site-packages\\pyogrio\\raw.py:723: RuntimeWarning: Normalized/laundered field name: 'Lokasi ' to 'Lokasi'\n",
      "  ogr_write(\n"
     ]
    },
    {
     "name": "stdout",
     "output_type": "stream",
     "text": [
      "Processing 'PAGAR PENGAMAN' as LineString (PAGAR PENGAMAN sheet)\n",
      "Processing 'MARKA' as MultiPoint (MARKA sheet)\n"
     ]
    },
    {
     "name": "stderr",
     "output_type": "stream",
     "text": [
      "c:\\Users\\kanzi\\AppData\\Local\\Programs\\Python\\Python312\\Lib\\site-packages\\pyogrio\\raw.py:723: RuntimeWarning: Normalized/laundered field name: 'Detail ' to 'Detail'\n",
      "  ogr_write(\n"
     ]
    },
    {
     "name": "stdout",
     "output_type": "stream",
     "text": [
      "✅ Saved: C:\\Users\\kanzi\\Documents\\Part Time Job\\Hasil Export\\Extract Shapefile\\Kota Bogor\\Jalan Eksisting\\Format Baru 38.A. Siliwangi Kota Bogor_MARKA.shp\n",
      "✅ Applied QML style: C:\\Users\\kanzi\\Documents\\Part Time Job\\Hasil Export\\Extract Shapefile\\Kota Bogor\\Jalan Eksisting\\Format Baru 38.A. Siliwangi Kota Bogor_MARKA.qml\n",
      "Processing 'WARNING LIGHT' as Point geometry (regular sheet)\n",
      "Processing 'APILL' as Point geometry (regular sheet)\n",
      "Processing 'ZOSS' as Point geometry (regular sheet)\n",
      "⚠️ Skipping 'ZOSS' (No valid geometry found)\n",
      "Processing 'FAS PENYEBERANGAN' as Point geometry (regular sheet)\n",
      "✅ Saved: C:\\Users\\kanzi\\Documents\\Part Time Job\\Hasil Export\\Extract Shapefile\\Kota Bogor\\Jalan Eksisting\\Format Baru 38.A. Siliwangi Kota Bogor_FAS PENYEBERANGAN.shp\n",
      "⚠️ No QML file found for FAS PENYEBERANGAN\n",
      "⚠️ Skipping 'RAMBU PORTABLE' (No valid start coordinate columns found)\n",
      "⚠️ Skipping 'TRAFFIC CONE' (No valid start coordinate columns found)\n",
      "⚠️ Skipping 'WATER BARRIER' (No valid start coordinate columns found)\n"
     ]
    },
    {
     "name": "stderr",
     "output_type": "stream",
     "text": [
      "c:\\Users\\kanzi\\AppData\\Local\\Programs\\Python\\Python312\\Lib\\site-packages\\pyogrio\\raw.py:723: RuntimeWarning: Normalized/laundered field name: 'Detail ' to 'Detail'\n",
      "  ogr_write(\n"
     ]
    },
    {
     "name": "stdout",
     "output_type": "stream",
     "text": [
      "Processing 'CERMIN TIKUNG' as Point geometry (regular sheet)\n",
      "⚠️ Skipping 'CERMIN TIKUNG' (No valid geometry found)\n",
      "✅ Completed processing: Format Baru 38.A. Siliwangi Kota Bogor.xlsx\n",
      "\n",
      "[21/30] Processing: Format Baru 39.A. Lawang Gintung Kota Bogor.xlsx\n"
     ]
    },
    {
     "name": "stderr",
     "output_type": "stream",
     "text": [
      "c:\\Users\\kanzi\\AppData\\Local\\Programs\\Python\\Python312\\Lib\\site-packages\\openpyxl\\worksheet\\_reader.py:329: UserWarning: Conditional Formatting extension is not supported and will be removed\n",
      "  warn(msg)\n"
     ]
    },
    {
     "name": "stdout",
     "output_type": "stream",
     "text": [
      "Processing 'PJU' as Point geometry (regular sheet)\n",
      "✅ Saved: C:\\Users\\kanzi\\Documents\\Part Time Job\\Hasil Export\\Extract Shapefile\\Kota Bogor\\Jalan Eksisting\\Format Baru 39.A. Lawang Gintung Kota Bogor_PJU.shp\n",
      "✅ Applied QML style: C:\\Users\\kanzi\\Documents\\Part Time Job\\Hasil Export\\Extract Shapefile\\Kota Bogor\\Jalan Eksisting\\Format Baru 39.A. Lawang Gintung Kota Bogor_PJU.qml\n",
      "Processing 'RAMBU' as Point geometry (regular sheet)\n",
      "✅ Saved: C:\\Users\\kanzi\\Documents\\Part Time Job\\Hasil Export\\Extract Shapefile\\Kota Bogor\\Jalan Eksisting\\Format Baru 39.A. Lawang Gintung Kota Bogor_RAMBU.shp\n",
      "✅ Applied QML style: C:\\Users\\kanzi\\Documents\\Part Time Job\\Hasil Export\\Extract Shapefile\\Kota Bogor\\Jalan Eksisting\\Format Baru 39.A. Lawang Gintung Kota Bogor_RAMBU.qml\n",
      "Processing 'RPPJ' as Point geometry (regular sheet)\n",
      "✅ Saved: C:\\Users\\kanzi\\Documents\\Part Time Job\\Hasil Export\\Extract Shapefile\\Kota Bogor\\Jalan Eksisting\\Format Baru 39.A. Lawang Gintung Kota Bogor_RPPJ.shp\n",
      "✅ Applied QML style: C:\\Users\\kanzi\\Documents\\Part Time Job\\Hasil Export\\Extract Shapefile\\Kota Bogor\\Jalan Eksisting\\Format Baru 39.A. Lawang Gintung Kota Bogor_RPPJ.qml\n"
     ]
    },
    {
     "name": "stderr",
     "output_type": "stream",
     "text": [
      "c:\\Users\\kanzi\\AppData\\Local\\Programs\\Python\\Python312\\Lib\\site-packages\\pyogrio\\raw.py:723: RuntimeWarning: Normalized/laundered field name: 'Detail ' to 'Detail'\n",
      "  ogr_write(\n",
      "c:\\Users\\kanzi\\AppData\\Local\\Programs\\Python\\Python312\\Lib\\site-packages\\pyogrio\\raw.py:723: RuntimeWarning: Normalized/laundered field name: 'Lokasi ' to 'Lokasi'\n",
      "  ogr_write(\n",
      "c:\\Users\\kanzi\\AppData\\Local\\Programs\\Python\\Python312\\Lib\\site-packages\\pyogrio\\raw.py:723: RuntimeWarning: Normalized/laundered field name: 'Detail ' to 'Detail'\n",
      "  ogr_write(\n",
      "c:\\Users\\kanzi\\AppData\\Local\\Programs\\Python\\Python312\\Lib\\site-packages\\pyogrio\\raw.py:723: RuntimeWarning: Normalized/laundered field name: 'Gambar ' to 'Gambar'\n",
      "  ogr_write(\n",
      "c:\\Users\\kanzi\\AppData\\Local\\Programs\\Python\\Python312\\Lib\\site-packages\\pyogrio\\raw.py:723: RuntimeWarning: Normalized/laundered field name: 'Lokasi ' to 'Lokasi'\n",
      "  ogr_write(\n",
      "c:\\Users\\kanzi\\AppData\\Local\\Programs\\Python\\Python312\\Lib\\site-packages\\pyogrio\\raw.py:723: RuntimeWarning: Normalized/laundered field name: 'Detail ' to 'Detail'\n",
      "  ogr_write(\n",
      "c:\\Users\\kanzi\\AppData\\Local\\Programs\\Python\\Python312\\Lib\\site-packages\\pyogrio\\raw.py:723: RuntimeWarning: Normalized/laundered field name: 'Gambar ' to 'Gambar'\n",
      "  ogr_write(\n",
      "c:\\Users\\kanzi\\AppData\\Local\\Programs\\Python\\Python312\\Lib\\site-packages\\pyogrio\\raw.py:723: RuntimeWarning: Normalized/laundered field name: 'Lokasi ' to 'Lokasi'\n",
      "  ogr_write(\n"
     ]
    },
    {
     "name": "stdout",
     "output_type": "stream",
     "text": [
      "Processing 'PAGAR PENGAMAN' as LineString (PAGAR PENGAMAN sheet)\n",
      "Processing 'MARKA' as MultiPoint (MARKA sheet)\n"
     ]
    },
    {
     "name": "stderr",
     "output_type": "stream",
     "text": [
      "c:\\Users\\kanzi\\AppData\\Local\\Programs\\Python\\Python312\\Lib\\site-packages\\pyogrio\\raw.py:723: RuntimeWarning: Normalized/laundered field name: 'Detail ' to 'Detail'\n",
      "  ogr_write(\n"
     ]
    },
    {
     "name": "stdout",
     "output_type": "stream",
     "text": [
      "✅ Saved: C:\\Users\\kanzi\\Documents\\Part Time Job\\Hasil Export\\Extract Shapefile\\Kota Bogor\\Jalan Eksisting\\Format Baru 39.A. Lawang Gintung Kota Bogor_MARKA.shp\n",
      "✅ Applied QML style: C:\\Users\\kanzi\\Documents\\Part Time Job\\Hasil Export\\Extract Shapefile\\Kota Bogor\\Jalan Eksisting\\Format Baru 39.A. Lawang Gintung Kota Bogor_MARKA.qml\n",
      "Processing 'WARNING LIGHT' as Point geometry (regular sheet)\n"
     ]
    },
    {
     "name": "stderr",
     "output_type": "stream",
     "text": [
      "c:\\Users\\kanzi\\AppData\\Local\\Programs\\Python\\Python312\\Lib\\site-packages\\pyogrio\\raw.py:723: RuntimeWarning: Normalized/laundered field name: 'Detail ' to 'Detail'\n",
      "  ogr_write(\n",
      "c:\\Users\\kanzi\\AppData\\Local\\Programs\\Python\\Python312\\Lib\\site-packages\\pyogrio\\raw.py:723: RuntimeWarning: Normalized/laundered field name: 'Lokasi ' to 'Lokasi'\n",
      "  ogr_write(\n"
     ]
    },
    {
     "name": "stdout",
     "output_type": "stream",
     "text": [
      "✅ Saved: C:\\Users\\kanzi\\Documents\\Part Time Job\\Hasil Export\\Extract Shapefile\\Kota Bogor\\Jalan Eksisting\\Format Baru 39.A. Lawang Gintung Kota Bogor_WARNING LIGHT.shp\n",
      "✅ Applied QML style: C:\\Users\\kanzi\\Documents\\Part Time Job\\Hasil Export\\Extract Shapefile\\Kota Bogor\\Jalan Eksisting\\Format Baru 39.A. Lawang Gintung Kota Bogor_WARNING LIGHT.qml\n",
      "Processing 'APILL' as Point geometry (regular sheet)\n",
      "Processing 'ZOSS' as Point geometry (regular sheet)\n",
      "⚠️ Skipping 'ZOSS' (No valid geometry found)\n",
      "Processing 'FAS PENYEBERANGAN' as Point geometry (regular sheet)\n"
     ]
    },
    {
     "name": "stderr",
     "output_type": "stream",
     "text": [
      "c:\\Users\\kanzi\\AppData\\Local\\Programs\\Python\\Python312\\Lib\\site-packages\\pyogrio\\raw.py:723: RuntimeWarning: Normalized/laundered field name: 'Detail ' to 'Detail'\n",
      "  ogr_write(\n"
     ]
    },
    {
     "name": "stdout",
     "output_type": "stream",
     "text": [
      "✅ Saved: C:\\Users\\kanzi\\Documents\\Part Time Job\\Hasil Export\\Extract Shapefile\\Kota Bogor\\Jalan Eksisting\\Format Baru 39.A. Lawang Gintung Kota Bogor_FAS PENYEBERANGAN.shp\n",
      "⚠️ No QML file found for FAS PENYEBERANGAN\n",
      "⚠️ Skipping 'RAMBU PORTABLE' (No valid start coordinate columns found)\n",
      "⚠️ Skipping 'TRAFFIC CONE' (No valid start coordinate columns found)\n",
      "⚠️ Skipping 'WATER BARRIER' (No valid start coordinate columns found)\n",
      "Processing 'CERMIN TIKUNG' as Point geometry (regular sheet)\n",
      "⚠️ Skipping 'CERMIN TIKUNG' (No valid geometry found)\n",
      "✅ Completed processing: Format Baru 39.A. Lawang Gintung Kota Bogor.xlsx\n",
      "\n",
      "[22/30] Processing: Format Baru 41.A. Jl. Empang - Jl. R. Saleh Sarief Bustaman.xlsx\n"
     ]
    },
    {
     "name": "stderr",
     "output_type": "stream",
     "text": [
      "c:\\Users\\kanzi\\AppData\\Local\\Programs\\Python\\Python312\\Lib\\site-packages\\openpyxl\\worksheet\\_reader.py:329: UserWarning: Conditional Formatting extension is not supported and will be removed\n",
      "  warn(msg)\n"
     ]
    },
    {
     "name": "stdout",
     "output_type": "stream",
     "text": [
      "Processing 'PJU' as Point geometry (regular sheet)\n",
      "✅ Saved: C:\\Users\\kanzi\\Documents\\Part Time Job\\Hasil Export\\Extract Shapefile\\Kota Bogor\\Jalan Eksisting\\Format Baru 41.A. Jl. Empang - Jl. R. Saleh Sarief Bustaman_PJU.shp\n",
      "✅ Applied QML style: C:\\Users\\kanzi\\Documents\\Part Time Job\\Hasil Export\\Extract Shapefile\\Kota Bogor\\Jalan Eksisting\\Format Baru 41.A. Jl. Empang - Jl. R. Saleh Sarief Bustaman_PJU.qml\n",
      "Processing 'RAMBU' as Point geometry (regular sheet)\n",
      "✅ Saved: C:\\Users\\kanzi\\Documents\\Part Time Job\\Hasil Export\\Extract Shapefile\\Kota Bogor\\Jalan Eksisting\\Format Baru 41.A. Jl. Empang - Jl. R. Saleh Sarief Bustaman_RAMBU.shp\n",
      "✅ Applied QML style: C:\\Users\\kanzi\\Documents\\Part Time Job\\Hasil Export\\Extract Shapefile\\Kota Bogor\\Jalan Eksisting\\Format Baru 41.A. Jl. Empang - Jl. R. Saleh Sarief Bustaman_RAMBU.qml\n",
      "Processing 'RPPJ' as Point geometry (regular sheet)\n",
      "✅ Saved: C:\\Users\\kanzi\\Documents\\Part Time Job\\Hasil Export\\Extract Shapefile\\Kota Bogor\\Jalan Eksisting\\Format Baru 41.A. Jl. Empang - Jl. R. Saleh Sarief Bustaman_RPPJ.shp\n",
      "✅ Applied QML style: C:\\Users\\kanzi\\Documents\\Part Time Job\\Hasil Export\\Extract Shapefile\\Kota Bogor\\Jalan Eksisting\\Format Baru 41.A. Jl. Empang - Jl. R. Saleh Sarief Bustaman_RPPJ.qml\n"
     ]
    },
    {
     "name": "stderr",
     "output_type": "stream",
     "text": [
      "c:\\Users\\kanzi\\AppData\\Local\\Programs\\Python\\Python312\\Lib\\site-packages\\pyogrio\\raw.py:723: RuntimeWarning: Normalized/laundered field name: 'Detail ' to 'Detail'\n",
      "  ogr_write(\n",
      "c:\\Users\\kanzi\\AppData\\Local\\Programs\\Python\\Python312\\Lib\\site-packages\\pyogrio\\raw.py:723: RuntimeWarning: Normalized/laundered field name: 'Lokasi ' to 'Lokasi'\n",
      "  ogr_write(\n",
      "c:\\Users\\kanzi\\AppData\\Local\\Programs\\Python\\Python312\\Lib\\site-packages\\pyogrio\\raw.py:723: RuntimeWarning: Normalized/laundered field name: 'Detail ' to 'Detail'\n",
      "  ogr_write(\n",
      "c:\\Users\\kanzi\\AppData\\Local\\Programs\\Python\\Python312\\Lib\\site-packages\\pyogrio\\raw.py:723: RuntimeWarning: Normalized/laundered field name: 'Gambar ' to 'Gambar'\n",
      "  ogr_write(\n",
      "c:\\Users\\kanzi\\AppData\\Local\\Programs\\Python\\Python312\\Lib\\site-packages\\pyogrio\\raw.py:723: RuntimeWarning: Normalized/laundered field name: 'Lokasi ' to 'Lokasi'\n",
      "  ogr_write(\n",
      "c:\\Users\\kanzi\\AppData\\Local\\Programs\\Python\\Python312\\Lib\\site-packages\\pyogrio\\raw.py:723: RuntimeWarning: Normalized/laundered field name: 'Detail ' to 'Detail'\n",
      "  ogr_write(\n",
      "c:\\Users\\kanzi\\AppData\\Local\\Programs\\Python\\Python312\\Lib\\site-packages\\pyogrio\\raw.py:723: RuntimeWarning: Normalized/laundered field name: 'Gambar ' to 'Gambar'\n",
      "  ogr_write(\n",
      "c:\\Users\\kanzi\\AppData\\Local\\Programs\\Python\\Python312\\Lib\\site-packages\\pyogrio\\raw.py:723: RuntimeWarning: Normalized/laundered field name: 'Lokasi ' to 'Lokasi'\n",
      "  ogr_write(\n"
     ]
    },
    {
     "name": "stdout",
     "output_type": "stream",
     "text": [
      "Processing 'PAGAR PENGAMAN' as LineString (PAGAR PENGAMAN sheet)\n",
      "Processing 'MARKA' as MultiPoint (MARKA sheet)\n"
     ]
    },
    {
     "name": "stderr",
     "output_type": "stream",
     "text": [
      "c:\\Users\\kanzi\\AppData\\Local\\Programs\\Python\\Python312\\Lib\\site-packages\\pyogrio\\raw.py:723: RuntimeWarning: Normalized/laundered field name: 'Detail ' to 'Detail'\n",
      "  ogr_write(\n"
     ]
    },
    {
     "name": "stdout",
     "output_type": "stream",
     "text": [
      "✅ Saved: C:\\Users\\kanzi\\Documents\\Part Time Job\\Hasil Export\\Extract Shapefile\\Kota Bogor\\Jalan Eksisting\\Format Baru 41.A. Jl. Empang - Jl. R. Saleh Sarief Bustaman_MARKA.shp\n",
      "✅ Applied QML style: C:\\Users\\kanzi\\Documents\\Part Time Job\\Hasil Export\\Extract Shapefile\\Kota Bogor\\Jalan Eksisting\\Format Baru 41.A. Jl. Empang - Jl. R. Saleh Sarief Bustaman_MARKA.qml\n",
      "Processing 'WARNING LIGHT' as Point geometry (regular sheet)\n",
      "Processing 'APILL' as Point geometry (regular sheet)\n",
      "✅ Saved: C:\\Users\\kanzi\\Documents\\Part Time Job\\Hasil Export\\Extract Shapefile\\Kota Bogor\\Jalan Eksisting\\Format Baru 41.A. Jl. Empang - Jl. R. Saleh Sarief Bustaman_APILL.shp\n",
      "✅ Applied QML style: C:\\Users\\kanzi\\Documents\\Part Time Job\\Hasil Export\\Extract Shapefile\\Kota Bogor\\Jalan Eksisting\\Format Baru 41.A. Jl. Empang - Jl. R. Saleh Sarief Bustaman_APILL.qml\n",
      "Processing 'ZOSS' as Point geometry (regular sheet)\n",
      "⚠️ Skipping 'ZOSS' (No valid geometry found)\n"
     ]
    },
    {
     "name": "stderr",
     "output_type": "stream",
     "text": [
      "c:\\Users\\kanzi\\AppData\\Local\\Programs\\Python\\Python312\\Lib\\site-packages\\pyogrio\\raw.py:723: RuntimeWarning: Normalized/laundered field name: 'Detail ' to 'Detail'\n",
      "  ogr_write(\n",
      "c:\\Users\\kanzi\\AppData\\Local\\Programs\\Python\\Python312\\Lib\\site-packages\\pyogrio\\raw.py:723: RuntimeWarning: Normalized/laundered field name: 'Lokasi ' to 'Lokasi'\n",
      "  ogr_write(\n"
     ]
    },
    {
     "name": "stdout",
     "output_type": "stream",
     "text": [
      "Processing 'FAS PENYEBERANGAN' as Point geometry (regular sheet)\n",
      "✅ Saved: C:\\Users\\kanzi\\Documents\\Part Time Job\\Hasil Export\\Extract Shapefile\\Kota Bogor\\Jalan Eksisting\\Format Baru 41.A. Jl. Empang - Jl. R. Saleh Sarief Bustaman_FAS PENYEBERANGAN.shp\n",
      "⚠️ No QML file found for FAS PENYEBERANGAN\n",
      "⚠️ Skipping 'RAMBU PORTABLE' (No valid start coordinate columns found)\n",
      "⚠️ Skipping 'TRAFFIC CONE' (No valid start coordinate columns found)\n",
      "⚠️ Skipping 'WATER BARRIER' (No valid start coordinate columns found)\n"
     ]
    },
    {
     "name": "stderr",
     "output_type": "stream",
     "text": [
      "c:\\Users\\kanzi\\AppData\\Local\\Programs\\Python\\Python312\\Lib\\site-packages\\pyogrio\\raw.py:723: RuntimeWarning: Normalized/laundered field name: 'Detail ' to 'Detail'\n",
      "  ogr_write(\n"
     ]
    },
    {
     "name": "stdout",
     "output_type": "stream",
     "text": [
      "Processing 'CERMIN TIKUNG' as Point geometry (regular sheet)\n",
      "⚠️ Skipping 'CERMIN TIKUNG' (No valid geometry found)\n",
      "✅ Completed processing: Format Baru 41.A. Jl. Empang - Jl. R. Saleh Sarief Bustaman.xlsx\n",
      "\n",
      "[23/30] Processing: Format Baru 5.A. Tegalloa - BagedJagatamu - (Bts Kab. KarawangKab. Bogor).xlsx\n"
     ]
    },
    {
     "name": "stderr",
     "output_type": "stream",
     "text": [
      "c:\\Users\\kanzi\\AppData\\Local\\Programs\\Python\\Python312\\Lib\\site-packages\\openpyxl\\worksheet\\_reader.py:329: UserWarning: Conditional Formatting extension is not supported and will be removed\n",
      "  warn(msg)\n"
     ]
    },
    {
     "name": "stdout",
     "output_type": "stream",
     "text": [
      "Processing 'RAMBU' as Point geometry (regular sheet)\n",
      "✅ Saved: C:\\Users\\kanzi\\Documents\\Part Time Job\\Hasil Export\\Extract Shapefile\\Kabupaten Karawang\\Jalan Eksisting\\Format Baru 5.A. Tegalloa - BagedJagatamu - (Bts Kab. KarawangKab. Bogor)_RAMBU.shp\n",
      "✅ Applied QML style: C:\\Users\\kanzi\\Documents\\Part Time Job\\Hasil Export\\Extract Shapefile\\Kabupaten Karawang\\Jalan Eksisting\\Format Baru 5.A. Tegalloa - BagedJagatamu - (Bts Kab. KarawangKab. Bogor)_RAMBU.qml\n"
     ]
    },
    {
     "name": "stderr",
     "output_type": "stream",
     "text": [
      "c:\\Users\\kanzi\\AppData\\Local\\Programs\\Python\\Python312\\Lib\\site-packages\\pyogrio\\raw.py:723: RuntimeWarning: Normalized/laundered field name: 'Detail ' to 'Detail'\n",
      "  ogr_write(\n",
      "c:\\Users\\kanzi\\AppData\\Local\\Programs\\Python\\Python312\\Lib\\site-packages\\pyogrio\\raw.py:723: RuntimeWarning: Normalized/laundered field name: 'Gambar ' to 'Gambar'\n",
      "  ogr_write(\n",
      "c:\\Users\\kanzi\\AppData\\Local\\Programs\\Python\\Python312\\Lib\\site-packages\\pyogrio\\raw.py:723: RuntimeWarning: Normalized/laundered field name: 'Lokasi ' to 'Lokasi'\n",
      "  ogr_write(\n"
     ]
    },
    {
     "name": "stdout",
     "output_type": "stream",
     "text": [
      "Processing 'PJU' as Point geometry (regular sheet)\n",
      "✅ Saved: C:\\Users\\kanzi\\Documents\\Part Time Job\\Hasil Export\\Extract Shapefile\\Kabupaten Karawang\\Jalan Eksisting\\Format Baru 5.A. Tegalloa - BagedJagatamu - (Bts Kab. KarawangKab. Bogor)_PJU.shp\n",
      "✅ Applied QML style: C:\\Users\\kanzi\\Documents\\Part Time Job\\Hasil Export\\Extract Shapefile\\Kabupaten Karawang\\Jalan Eksisting\\Format Baru 5.A. Tegalloa - BagedJagatamu - (Bts Kab. KarawangKab. Bogor)_PJU.qml\n",
      "Processing 'RPPJ' as Point geometry (regular sheet)\n"
     ]
    },
    {
     "name": "stderr",
     "output_type": "stream",
     "text": [
      "c:\\Users\\kanzi\\AppData\\Local\\Programs\\Python\\Python312\\Lib\\site-packages\\pyogrio\\raw.py:723: RuntimeWarning: Normalized/laundered field name: 'Detail ' to 'Detail'\n",
      "  ogr_write(\n",
      "c:\\Users\\kanzi\\AppData\\Local\\Programs\\Python\\Python312\\Lib\\site-packages\\pyogrio\\raw.py:723: RuntimeWarning: Normalized/laundered field name: 'Lokasi ' to 'Lokasi'\n",
      "  ogr_write(\n"
     ]
    },
    {
     "name": "stdout",
     "output_type": "stream",
     "text": [
      "Processing 'PAGAR PENGAMAN' as LineString (PAGAR PENGAMAN sheet)\n",
      "Processing 'MARKA' as MultiPoint (MARKA sheet)\n",
      "Processing 'WARNING LIGHT' as Point geometry (regular sheet)\n",
      "Processing 'APILL' as Point geometry (regular sheet)\n",
      "Processing 'ZOSS' as Point geometry (regular sheet)\n",
      "Processing 'FAS PENYEBERANGAN' as Point geometry (regular sheet)\n",
      "⚠️ Skipping 'RAMBU PORTABLE' (No valid start coordinate columns found)\n",
      "⚠️ Skipping 'TRAFFIC CONE' (No valid start coordinate columns found)\n",
      "⚠️ Skipping 'WATER BARRIER' (No valid start coordinate columns found)\n",
      "Processing 'CERMIN TIKUNG' as Point geometry (regular sheet)\n",
      "⚠️ Skipping 'CERMIN TIKUNG' (No valid geometry found)\n",
      "✅ Completed processing: Format Baru 5.A. Tegalloa - BagedJagatamu - (Bts Kab. KarawangKab. Bogor).xlsx\n",
      "\n",
      "[24/30] Processing: Format Baru 57.A. Cibarusah - Cibucil.xlsx\n"
     ]
    },
    {
     "name": "stderr",
     "output_type": "stream",
     "text": [
      "c:\\Users\\kanzi\\AppData\\Local\\Programs\\Python\\Python312\\Lib\\site-packages\\openpyxl\\worksheet\\_reader.py:329: UserWarning: Conditional Formatting extension is not supported and will be removed\n",
      "  warn(msg)\n"
     ]
    },
    {
     "name": "stdout",
     "output_type": "stream",
     "text": [
      "Processing 'RAMBU' as Point geometry (regular sheet)\n",
      "✅ Saved: C:\\Users\\kanzi\\Documents\\Part Time Job\\Hasil Export\\Extract Shapefile\\Kabupaten Bogor\\Jalan Eksisting\\Format Baru 57.A. Cibarusah - Cibucil_RAMBU.shp\n",
      "✅ Applied QML style: C:\\Users\\kanzi\\Documents\\Part Time Job\\Hasil Export\\Extract Shapefile\\Kabupaten Bogor\\Jalan Eksisting\\Format Baru 57.A. Cibarusah - Cibucil_RAMBU.qml\n"
     ]
    },
    {
     "name": "stderr",
     "output_type": "stream",
     "text": [
      "c:\\Users\\kanzi\\AppData\\Local\\Programs\\Python\\Python312\\Lib\\site-packages\\pyogrio\\raw.py:723: RuntimeWarning: Normalized/laundered field name: 'Detail ' to 'Detail'\n",
      "  ogr_write(\n",
      "c:\\Users\\kanzi\\AppData\\Local\\Programs\\Python\\Python312\\Lib\\site-packages\\pyogrio\\raw.py:723: RuntimeWarning: Normalized/laundered field name: 'Gambar ' to 'Gambar'\n",
      "  ogr_write(\n",
      "c:\\Users\\kanzi\\AppData\\Local\\Programs\\Python\\Python312\\Lib\\site-packages\\pyogrio\\raw.py:723: RuntimeWarning: Normalized/laundered field name: 'Lokasi ' to 'Lokasi'\n",
      "  ogr_write(\n"
     ]
    },
    {
     "name": "stdout",
     "output_type": "stream",
     "text": [
      "Processing 'PJU' as Point geometry (regular sheet)\n",
      "✅ Saved: C:\\Users\\kanzi\\Documents\\Part Time Job\\Hasil Export\\Extract Shapefile\\Kabupaten Bogor\\Jalan Eksisting\\Format Baru 57.A. Cibarusah - Cibucil_PJU.shp\n",
      "✅ Applied QML style: C:\\Users\\kanzi\\Documents\\Part Time Job\\Hasil Export\\Extract Shapefile\\Kabupaten Bogor\\Jalan Eksisting\\Format Baru 57.A. Cibarusah - Cibucil_PJU.qml\n",
      "Processing 'RPPJ' as Point geometry (regular sheet)\n"
     ]
    },
    {
     "name": "stderr",
     "output_type": "stream",
     "text": [
      "c:\\Users\\kanzi\\AppData\\Local\\Programs\\Python\\Python312\\Lib\\site-packages\\pyogrio\\raw.py:723: RuntimeWarning: Normalized/laundered field name: 'Detail ' to 'Detail'\n",
      "  ogr_write(\n",
      "c:\\Users\\kanzi\\AppData\\Local\\Programs\\Python\\Python312\\Lib\\site-packages\\pyogrio\\raw.py:723: RuntimeWarning: Normalized/laundered field name: 'Lokasi ' to 'Lokasi'\n",
      "  ogr_write(\n"
     ]
    },
    {
     "name": "stdout",
     "output_type": "stream",
     "text": [
      "Processing 'PAGAR PENGAMAN' as LineString (PAGAR PENGAMAN sheet)\n",
      "Processing 'MARKA' as MultiPoint (MARKA sheet)\n",
      "✅ Saved: C:\\Users\\kanzi\\Documents\\Part Time Job\\Hasil Export\\Extract Shapefile\\Kabupaten Bekasi\\Jalan Eksisting\\Format Baru 57.A. Cibarusah - Cibucil_MARKA.shp\n",
      "✅ Applied QML style: C:\\Users\\kanzi\\Documents\\Part Time Job\\Hasil Export\\Extract Shapefile\\Kabupaten Bekasi\\Jalan Eksisting\\Format Baru 57.A. Cibarusah - Cibucil_MARKA.qml\n",
      "✅ Saved: C:\\Users\\kanzi\\Documents\\Part Time Job\\Hasil Export\\Extract Shapefile\\Kabupaten Bogor\\Jalan Eksisting\\Format Baru 57.A. Cibarusah - Cibucil_MARKA.shp\n",
      "✅ Applied QML style: C:\\Users\\kanzi\\Documents\\Part Time Job\\Hasil Export\\Extract Shapefile\\Kabupaten Bogor\\Jalan Eksisting\\Format Baru 57.A. Cibarusah - Cibucil_MARKA.qml\n"
     ]
    },
    {
     "name": "stderr",
     "output_type": "stream",
     "text": [
      "c:\\Users\\kanzi\\AppData\\Local\\Programs\\Python\\Python312\\Lib\\site-packages\\pyogrio\\raw.py:723: RuntimeWarning: Normalized/laundered field name: 'Detail ' to 'Detail'\n",
      "  ogr_write(\n",
      "c:\\Users\\kanzi\\AppData\\Local\\Programs\\Python\\Python312\\Lib\\site-packages\\pyogrio\\raw.py:723: RuntimeWarning: Normalized/laundered field name: 'Detail ' to 'Detail'\n",
      "  ogr_write(\n"
     ]
    },
    {
     "name": "stdout",
     "output_type": "stream",
     "text": [
      "Processing 'WARNING LIGHT' as Point geometry (regular sheet)\n",
      "Processing 'APILL' as Point geometry (regular sheet)\n",
      "✅ Saved: C:\\Users\\kanzi\\Documents\\Part Time Job\\Hasil Export\\Extract Shapefile\\Kabupaten Bogor\\Jalan Eksisting\\Format Baru 57.A. Cibarusah - Cibucil_APILL.shp\n",
      "✅ Applied QML style: C:\\Users\\kanzi\\Documents\\Part Time Job\\Hasil Export\\Extract Shapefile\\Kabupaten Bogor\\Jalan Eksisting\\Format Baru 57.A. Cibarusah - Cibucil_APILL.qml\n",
      "Processing 'ZOSS' as Point geometry (regular sheet)\n"
     ]
    },
    {
     "name": "stderr",
     "output_type": "stream",
     "text": [
      "c:\\Users\\kanzi\\AppData\\Local\\Programs\\Python\\Python312\\Lib\\site-packages\\pyogrio\\raw.py:723: RuntimeWarning: Normalized/laundered field name: 'Detail ' to 'Detail'\n",
      "  ogr_write(\n",
      "c:\\Users\\kanzi\\AppData\\Local\\Programs\\Python\\Python312\\Lib\\site-packages\\pyogrio\\raw.py:723: RuntimeWarning: Normalized/laundered field name: 'Lokasi ' to 'Lokasi'\n",
      "  ogr_write(\n"
     ]
    },
    {
     "name": "stdout",
     "output_type": "stream",
     "text": [
      "Processing 'FAS PENYEBERANGAN' as Point geometry (regular sheet)\n",
      "⚠️ Skipping 'RAMBU PORTABLE' (No valid start coordinate columns found)\n",
      "⚠️ Skipping 'TRAFFIC CONE' (No valid start coordinate columns found)\n",
      "⚠️ Skipping 'WATER BARRIER' (No valid start coordinate columns found)\n",
      "Processing 'CERMIN TIKUNG' as Point geometry (regular sheet)\n",
      "⚠️ Skipping 'CERMIN TIKUNG' (No valid geometry found)\n",
      "✅ Completed processing: Format Baru 57.A. Cibarusah - Cibucil.xlsx\n",
      "\n",
      "[25/30] Processing: Format Baru 59.A. Cariu - Jagatamu Baged (Bts. Kab. Bogor Karawang).xlsx\n"
     ]
    },
    {
     "name": "stderr",
     "output_type": "stream",
     "text": [
      "c:\\Users\\kanzi\\AppData\\Local\\Programs\\Python\\Python312\\Lib\\site-packages\\openpyxl\\worksheet\\_reader.py:329: UserWarning: Conditional Formatting extension is not supported and will be removed\n",
      "  warn(msg)\n"
     ]
    },
    {
     "name": "stdout",
     "output_type": "stream",
     "text": [
      "Processing 'RAMBU' as Point geometry (regular sheet)\n",
      "✅ Saved: C:\\Users\\kanzi\\Documents\\Part Time Job\\Hasil Export\\Extract Shapefile\\Kabupaten Bogor\\Jalan Eksisting\\Format Baru 59.A. Cariu - Jagatamu Baged (Bts. Kab. Bogor Karawang)_RAMBU.shp\n",
      "✅ Applied QML style: C:\\Users\\kanzi\\Documents\\Part Time Job\\Hasil Export\\Extract Shapefile\\Kabupaten Bogor\\Jalan Eksisting\\Format Baru 59.A. Cariu - Jagatamu Baged (Bts. Kab. Bogor Karawang)_RAMBU.qml\n"
     ]
    },
    {
     "name": "stderr",
     "output_type": "stream",
     "text": [
      "c:\\Users\\kanzi\\AppData\\Local\\Programs\\Python\\Python312\\Lib\\site-packages\\pyogrio\\raw.py:723: RuntimeWarning: Normalized/laundered field name: 'Detail ' to 'Detail'\n",
      "  ogr_write(\n",
      "c:\\Users\\kanzi\\AppData\\Local\\Programs\\Python\\Python312\\Lib\\site-packages\\pyogrio\\raw.py:723: RuntimeWarning: Normalized/laundered field name: 'Gambar ' to 'Gambar'\n",
      "  ogr_write(\n",
      "c:\\Users\\kanzi\\AppData\\Local\\Programs\\Python\\Python312\\Lib\\site-packages\\pyogrio\\raw.py:723: RuntimeWarning: Normalized/laundered field name: 'Lokasi ' to 'Lokasi'\n",
      "  ogr_write(\n"
     ]
    },
    {
     "name": "stdout",
     "output_type": "stream",
     "text": [
      "Processing 'PJU' as Point geometry (regular sheet)\n",
      "✅ Saved: C:\\Users\\kanzi\\Documents\\Part Time Job\\Hasil Export\\Extract Shapefile\\Kabupaten Bogor\\Jalan Eksisting\\Format Baru 59.A. Cariu - Jagatamu Baged (Bts. Kab. Bogor Karawang)_PJU.shp\n",
      "✅ Applied QML style: C:\\Users\\kanzi\\Documents\\Part Time Job\\Hasil Export\\Extract Shapefile\\Kabupaten Bogor\\Jalan Eksisting\\Format Baru 59.A. Cariu - Jagatamu Baged (Bts. Kab. Bogor Karawang)_PJU.qml\n",
      "Processing 'RPPJ' as Point geometry (regular sheet)\n",
      "✅ Saved: C:\\Users\\kanzi\\Documents\\Part Time Job\\Hasil Export\\Extract Shapefile\\Kabupaten Bogor\\Jalan Eksisting\\Format Baru 59.A. Cariu - Jagatamu Baged (Bts. Kab. Bogor Karawang)_RPPJ.shp\n",
      "✅ Applied QML style: C:\\Users\\kanzi\\Documents\\Part Time Job\\Hasil Export\\Extract Shapefile\\Kabupaten Bogor\\Jalan Eksisting\\Format Baru 59.A. Cariu - Jagatamu Baged (Bts. Kab. Bogor Karawang)_RPPJ.qml\n"
     ]
    },
    {
     "name": "stderr",
     "output_type": "stream",
     "text": [
      "c:\\Users\\kanzi\\AppData\\Local\\Programs\\Python\\Python312\\Lib\\site-packages\\pyogrio\\raw.py:723: RuntimeWarning: Normalized/laundered field name: 'Detail ' to 'Detail'\n",
      "  ogr_write(\n",
      "c:\\Users\\kanzi\\AppData\\Local\\Programs\\Python\\Python312\\Lib\\site-packages\\pyogrio\\raw.py:723: RuntimeWarning: Normalized/laundered field name: 'Lokasi ' to 'Lokasi'\n",
      "  ogr_write(\n",
      "c:\\Users\\kanzi\\AppData\\Local\\Programs\\Python\\Python312\\Lib\\site-packages\\pyogrio\\raw.py:723: RuntimeWarning: Normalized/laundered field name: 'Detail ' to 'Detail'\n",
      "  ogr_write(\n",
      "c:\\Users\\kanzi\\AppData\\Local\\Programs\\Python\\Python312\\Lib\\site-packages\\pyogrio\\raw.py:723: RuntimeWarning: Normalized/laundered field name: 'Gambar ' to 'Gambar'\n",
      "  ogr_write(\n",
      "c:\\Users\\kanzi\\AppData\\Local\\Programs\\Python\\Python312\\Lib\\site-packages\\pyogrio\\raw.py:723: RuntimeWarning: Normalized/laundered field name: 'Lokasi ' to 'Lokasi'\n",
      "  ogr_write(\n"
     ]
    },
    {
     "name": "stdout",
     "output_type": "stream",
     "text": [
      "Processing 'PAGAR PENGAMAN' as LineString (PAGAR PENGAMAN sheet)\n",
      "Processing 'MARKA' as MultiPoint (MARKA sheet)\n",
      "Processing 'WARNING LIGHT' as Point geometry (regular sheet)\n",
      "Processing 'APILL' as Point geometry (regular sheet)\n",
      "Processing 'ZOSS' as Point geometry (regular sheet)\n",
      "Processing 'FAS PENYEBERANGAN' as Point geometry (regular sheet)\n"
     ]
    },
    {
     "name": "stderr",
     "output_type": "stream",
     "text": [
      "c:\\Users\\kanzi\\AppData\\Local\\Programs\\Python\\Python312\\Lib\\site-packages\\pyogrio\\raw.py:723: RuntimeWarning: Normalized/laundered field name: 'Detail ' to 'Detail'\n",
      "  ogr_write(\n"
     ]
    },
    {
     "name": "stdout",
     "output_type": "stream",
     "text": [
      "✅ Saved: C:\\Users\\kanzi\\Documents\\Part Time Job\\Hasil Export\\Extract Shapefile\\Kabupaten Bogor\\Jalan Eksisting\\Format Baru 59.A. Cariu - Jagatamu Baged (Bts. Kab. Bogor Karawang)_FAS PENYEBERANGAN.shp\n",
      "⚠️ No QML file found for FAS PENYEBERANGAN\n",
      "⚠️ Skipping 'RAMBU PORTABLE' (No valid start coordinate columns found)\n",
      "⚠️ Skipping 'TRAFFIC CONE' (No valid start coordinate columns found)\n",
      "⚠️ Skipping 'WATER BARRIER' (No valid start coordinate columns found)\n",
      "Processing 'CERMIN TIKUNG' as Point geometry (regular sheet)\n",
      "⚠️ Skipping 'CERMIN TIKUNG' (No valid geometry found)\n",
      "✅ Completed processing: Format Baru 59.A. Cariu - Jagatamu Baged (Bts. Kab. Bogor Karawang).xlsx\n",
      "\n",
      "[26/30] Processing: Format Baru 60.A. Jl. KH. R. Ma'mun Nawawi.xlsx\n"
     ]
    },
    {
     "name": "stderr",
     "output_type": "stream",
     "text": [
      "c:\\Users\\kanzi\\AppData\\Local\\Programs\\Python\\Python312\\Lib\\site-packages\\openpyxl\\worksheet\\_reader.py:329: UserWarning: Conditional Formatting extension is not supported and will be removed\n",
      "  warn(msg)\n"
     ]
    },
    {
     "name": "stdout",
     "output_type": "stream",
     "text": [
      "Processing 'RAMBU' as Point geometry (regular sheet)\n"
     ]
    },
    {
     "name": "stderr",
     "output_type": "stream",
     "text": [
      "c:\\Users\\kanzi\\AppData\\Local\\Programs\\Python\\Python312\\Lib\\site-packages\\pyogrio\\raw.py:723: RuntimeWarning: Normalized/laundered field name: 'Detail ' to 'Detail'\n",
      "  ogr_write(\n",
      "c:\\Users\\kanzi\\AppData\\Local\\Programs\\Python\\Python312\\Lib\\site-packages\\pyogrio\\raw.py:723: RuntimeWarning: Normalized/laundered field name: 'Gambar ' to 'Gambar'\n",
      "  ogr_write(\n",
      "c:\\Users\\kanzi\\AppData\\Local\\Programs\\Python\\Python312\\Lib\\site-packages\\pyogrio\\raw.py:723: RuntimeWarning: Normalized/laundered field name: 'Lokasi ' to 'Lokasi'\n",
      "  ogr_write(\n"
     ]
    },
    {
     "name": "stdout",
     "output_type": "stream",
     "text": [
      "✅ Saved: C:\\Users\\kanzi\\Documents\\Part Time Job\\Hasil Export\\Extract Shapefile\\Kabupaten Bekasi\\Jalan Eksisting\\Format Baru 60.A. Jl. KH. R. Ma'mun Nawawi_RAMBU.shp\n",
      "✅ Applied QML style: C:\\Users\\kanzi\\Documents\\Part Time Job\\Hasil Export\\Extract Shapefile\\Kabupaten Bekasi\\Jalan Eksisting\\Format Baru 60.A. Jl. KH. R. Ma'mun Nawawi_RAMBU.qml\n",
      "Processing 'PJU' as Point geometry (regular sheet)\n"
     ]
    },
    {
     "name": "stderr",
     "output_type": "stream",
     "text": [
      "c:\\Users\\kanzi\\AppData\\Local\\Programs\\Python\\Python312\\Lib\\site-packages\\pyogrio\\raw.py:723: RuntimeWarning: Normalized/laundered field name: 'Detail ' to 'Detail'\n",
      "  ogr_write(\n",
      "c:\\Users\\kanzi\\AppData\\Local\\Programs\\Python\\Python312\\Lib\\site-packages\\pyogrio\\raw.py:723: RuntimeWarning: Normalized/laundered field name: 'Lokasi ' to 'Lokasi'\n",
      "  ogr_write(\n",
      "c:\\Users\\kanzi\\AppData\\Local\\Programs\\Python\\Python312\\Lib\\site-packages\\pyogrio\\raw.py:723: RuntimeWarning: Normalized/laundered field name: 'Detail ' to 'Detail'\n",
      "  ogr_write(\n",
      "c:\\Users\\kanzi\\AppData\\Local\\Programs\\Python\\Python312\\Lib\\site-packages\\pyogrio\\raw.py:723: RuntimeWarning: Normalized/laundered field name: 'Gambar ' to 'Gambar'\n",
      "  ogr_write(\n",
      "c:\\Users\\kanzi\\AppData\\Local\\Programs\\Python\\Python312\\Lib\\site-packages\\pyogrio\\raw.py:723: RuntimeWarning: Normalized/laundered field name: 'Lokasi ' to 'Lokasi'\n",
      "  ogr_write(\n"
     ]
    },
    {
     "name": "stdout",
     "output_type": "stream",
     "text": [
      "✅ Saved: C:\\Users\\kanzi\\Documents\\Part Time Job\\Hasil Export\\Extract Shapefile\\Kabupaten Bekasi\\Jalan Eksisting\\Format Baru 60.A. Jl. KH. R. Ma'mun Nawawi_PJU.shp\n",
      "✅ Applied QML style: C:\\Users\\kanzi\\Documents\\Part Time Job\\Hasil Export\\Extract Shapefile\\Kabupaten Bekasi\\Jalan Eksisting\\Format Baru 60.A. Jl. KH. R. Ma'mun Nawawi_PJU.qml\n",
      "Processing 'RPPJ' as Point geometry (regular sheet)\n",
      "✅ Saved: C:\\Users\\kanzi\\Documents\\Part Time Job\\Hasil Export\\Extract Shapefile\\Kabupaten Bekasi\\Jalan Eksisting\\Format Baru 60.A. Jl. KH. R. Ma'mun Nawawi_RPPJ.shp\n",
      "✅ Applied QML style: C:\\Users\\kanzi\\Documents\\Part Time Job\\Hasil Export\\Extract Shapefile\\Kabupaten Bekasi\\Jalan Eksisting\\Format Baru 60.A. Jl. KH. R. Ma'mun Nawawi_RPPJ.qml\n",
      "Processing 'PAGAR PENGAMAN' as LineString (PAGAR PENGAMAN sheet)\n",
      "Processing 'MARKA' as MultiPoint (MARKA sheet)\n",
      "Processing 'WARNING LIGHT' as Point geometry (regular sheet)\n",
      "✅ Saved: C:\\Users\\kanzi\\Documents\\Part Time Job\\Hasil Export\\Extract Shapefile\\Kabupaten Bekasi\\Jalan Eksisting\\Format Baru 60.A. Jl. KH. R. Ma'mun Nawawi_WARNING LIGHT.shp\n",
      "✅ Applied QML style: C:\\Users\\kanzi\\Documents\\Part Time Job\\Hasil Export\\Extract Shapefile\\Kabupaten Bekasi\\Jalan Eksisting\\Format Baru 60.A. Jl. KH. R. Ma'mun Nawawi_WARNING LIGHT.qml\n"
     ]
    },
    {
     "name": "stderr",
     "output_type": "stream",
     "text": [
      "c:\\Users\\kanzi\\AppData\\Local\\Programs\\Python\\Python312\\Lib\\site-packages\\pyogrio\\raw.py:723: RuntimeWarning: Normalized/laundered field name: 'Detail ' to 'Detail'\n",
      "  ogr_write(\n",
      "c:\\Users\\kanzi\\AppData\\Local\\Programs\\Python\\Python312\\Lib\\site-packages\\pyogrio\\raw.py:723: RuntimeWarning: Normalized/laundered field name: 'Lokasi ' to 'Lokasi'\n",
      "  ogr_write(\n"
     ]
    },
    {
     "name": "stdout",
     "output_type": "stream",
     "text": [
      "Processing 'ZOSS' as Point geometry (regular sheet)\n",
      "Processing 'APILL' as Point geometry (regular sheet)\n"
     ]
    },
    {
     "name": "stderr",
     "output_type": "stream",
     "text": [
      "c:\\Users\\kanzi\\AppData\\Local\\Programs\\Python\\Python312\\Lib\\site-packages\\pyogrio\\raw.py:723: RuntimeWarning: Normalized/laundered field name: 'Detail ' to 'Detail'\n",
      "  ogr_write(\n",
      "c:\\Users\\kanzi\\AppData\\Local\\Programs\\Python\\Python312\\Lib\\site-packages\\pyogrio\\raw.py:723: RuntimeWarning: Normalized/laundered field name: 'Lokasi ' to 'Lokasi'\n",
      "  ogr_write(\n"
     ]
    },
    {
     "name": "stdout",
     "output_type": "stream",
     "text": [
      "✅ Saved: C:\\Users\\kanzi\\Documents\\Part Time Job\\Hasil Export\\Extract Shapefile\\Kabupaten Bekasi\\Jalan Eksisting\\Format Baru 60.A. Jl. KH. R. Ma'mun Nawawi_APILL.shp\n",
      "✅ Applied QML style: C:\\Users\\kanzi\\Documents\\Part Time Job\\Hasil Export\\Extract Shapefile\\Kabupaten Bekasi\\Jalan Eksisting\\Format Baru 60.A. Jl. KH. R. Ma'mun Nawawi_APILL.qml\n",
      "Processing 'FAS PENYEBERANGAN' as Point geometry (regular sheet)\n",
      "⚠️ Skipping 'RAMBU PORTABLE' (No valid start coordinate columns found)\n",
      "⚠️ Skipping 'TRAFFIC CONE' (No valid start coordinate columns found)\n",
      "⚠️ Skipping 'WATER BARRIER' (No valid start coordinate columns found)\n",
      "Processing 'CERMIN TIKUNG' as Point geometry (regular sheet)\n",
      "⚠️ Skipping 'CERMIN TIKUNG' (No valid geometry found)\n",
      "✅ Completed processing: Format Baru 60.A. Jl. KH. R. Ma'mun Nawawi.xlsx\n",
      "\n",
      "[27/30] Processing: Format Baru 61.A. Jl. Raya Lemah Abang.xlsx\n"
     ]
    },
    {
     "name": "stderr",
     "output_type": "stream",
     "text": [
      "c:\\Users\\kanzi\\AppData\\Local\\Programs\\Python\\Python312\\Lib\\site-packages\\openpyxl\\worksheet\\_reader.py:329: UserWarning: Conditional Formatting extension is not supported and will be removed\n",
      "  warn(msg)\n"
     ]
    },
    {
     "name": "stdout",
     "output_type": "stream",
     "text": [
      "Processing 'RAMBU' as Point geometry (regular sheet)\n",
      "✅ Saved: C:\\Users\\kanzi\\Documents\\Part Time Job\\Hasil Export\\Extract Shapefile\\Kabupaten Bekasi\\Jalan Eksisting\\Format Baru 61.A. Jl. Raya Lemah Abang_RAMBU.shp\n",
      "✅ Applied QML style: C:\\Users\\kanzi\\Documents\\Part Time Job\\Hasil Export\\Extract Shapefile\\Kabupaten Bekasi\\Jalan Eksisting\\Format Baru 61.A. Jl. Raya Lemah Abang_RAMBU.qml\n",
      "Processing 'PJU' as Point geometry (regular sheet)\n",
      "✅ Saved: C:\\Users\\kanzi\\Documents\\Part Time Job\\Hasil Export\\Extract Shapefile\\Kabupaten Bekasi\\Jalan Eksisting\\Format Baru 61.A. Jl. Raya Lemah Abang_PJU.shp\n",
      "✅ Applied QML style: C:\\Users\\kanzi\\Documents\\Part Time Job\\Hasil Export\\Extract Shapefile\\Kabupaten Bekasi\\Jalan Eksisting\\Format Baru 61.A. Jl. Raya Lemah Abang_PJU.qml\n",
      "Processing 'RPPJ' as Point geometry (regular sheet)\n",
      "✅ Saved: C:\\Users\\kanzi\\Documents\\Part Time Job\\Hasil Export\\Extract Shapefile\\Kabupaten Bekasi\\Jalan Eksisting\\Format Baru 61.A. Jl. Raya Lemah Abang_RPPJ.shp\n",
      "✅ Applied QML style: C:\\Users\\kanzi\\Documents\\Part Time Job\\Hasil Export\\Extract Shapefile\\Kabupaten Bekasi\\Jalan Eksisting\\Format Baru 61.A. Jl. Raya Lemah Abang_RPPJ.qml\n"
     ]
    },
    {
     "name": "stderr",
     "output_type": "stream",
     "text": [
      "c:\\Users\\kanzi\\AppData\\Local\\Programs\\Python\\Python312\\Lib\\site-packages\\pyogrio\\raw.py:723: RuntimeWarning: Normalized/laundered field name: 'Detail ' to 'Detail'\n",
      "  ogr_write(\n",
      "c:\\Users\\kanzi\\AppData\\Local\\Programs\\Python\\Python312\\Lib\\site-packages\\pyogrio\\raw.py:723: RuntimeWarning: Normalized/laundered field name: 'Gambar ' to 'Gambar'\n",
      "  ogr_write(\n",
      "c:\\Users\\kanzi\\AppData\\Local\\Programs\\Python\\Python312\\Lib\\site-packages\\pyogrio\\raw.py:723: RuntimeWarning: Normalized/laundered field name: 'Lokasi ' to 'Lokasi'\n",
      "  ogr_write(\n",
      "c:\\Users\\kanzi\\AppData\\Local\\Programs\\Python\\Python312\\Lib\\site-packages\\pyogrio\\raw.py:723: RuntimeWarning: Normalized/laundered field name: 'Detail ' to 'Detail'\n",
      "  ogr_write(\n",
      "c:\\Users\\kanzi\\AppData\\Local\\Programs\\Python\\Python312\\Lib\\site-packages\\pyogrio\\raw.py:723: RuntimeWarning: Normalized/laundered field name: 'Lokasi ' to 'Lokasi'\n",
      "  ogr_write(\n",
      "c:\\Users\\kanzi\\AppData\\Local\\Programs\\Python\\Python312\\Lib\\site-packages\\pyogrio\\raw.py:723: RuntimeWarning: Normalized/laundered field name: 'Detail ' to 'Detail'\n",
      "  ogr_write(\n",
      "c:\\Users\\kanzi\\AppData\\Local\\Programs\\Python\\Python312\\Lib\\site-packages\\pyogrio\\raw.py:723: RuntimeWarning: Normalized/laundered field name: 'Gambar ' to 'Gambar'\n",
      "  ogr_write(\n",
      "c:\\Users\\kanzi\\AppData\\Local\\Programs\\Python\\Python312\\Lib\\site-packages\\pyogrio\\raw.py:723: RuntimeWarning: Normalized/laundered field name: 'Lokasi ' to 'Lokasi'\n",
      "  ogr_write(\n"
     ]
    },
    {
     "name": "stdout",
     "output_type": "stream",
     "text": [
      "Processing 'PAGAR PENGAMAN' as LineString (PAGAR PENGAMAN sheet)\n",
      "Processing 'MARKA' as MultiPoint (MARKA sheet)\n",
      "Processing 'WARNING LIGHT' as Point geometry (regular sheet)\n",
      "✅ Saved: C:\\Users\\kanzi\\Documents\\Part Time Job\\Hasil Export\\Extract Shapefile\\Kabupaten Bekasi\\Jalan Eksisting\\Format Baru 61.A. Jl. Raya Lemah Abang_WARNING LIGHT.shp\n",
      "✅ Applied QML style: C:\\Users\\kanzi\\Documents\\Part Time Job\\Hasil Export\\Extract Shapefile\\Kabupaten Bekasi\\Jalan Eksisting\\Format Baru 61.A. Jl. Raya Lemah Abang_WARNING LIGHT.qml\n"
     ]
    },
    {
     "name": "stderr",
     "output_type": "stream",
     "text": [
      "c:\\Users\\kanzi\\AppData\\Local\\Programs\\Python\\Python312\\Lib\\site-packages\\pyogrio\\raw.py:723: RuntimeWarning: Normalized/laundered field name: 'Detail ' to 'Detail'\n",
      "  ogr_write(\n",
      "c:\\Users\\kanzi\\AppData\\Local\\Programs\\Python\\Python312\\Lib\\site-packages\\pyogrio\\raw.py:723: RuntimeWarning: Normalized/laundered field name: 'Lokasi ' to 'Lokasi'\n",
      "  ogr_write(\n"
     ]
    },
    {
     "name": "stdout",
     "output_type": "stream",
     "text": [
      "Processing 'APILL' as Point geometry (regular sheet)\n",
      "✅ Saved: C:\\Users\\kanzi\\Documents\\Part Time Job\\Hasil Export\\Extract Shapefile\\Kabupaten Bekasi\\Jalan Eksisting\\Format Baru 61.A. Jl. Raya Lemah Abang_APILL.shp\n",
      "✅ Applied QML style: C:\\Users\\kanzi\\Documents\\Part Time Job\\Hasil Export\\Extract Shapefile\\Kabupaten Bekasi\\Jalan Eksisting\\Format Baru 61.A. Jl. Raya Lemah Abang_APILL.qml\n",
      "Processing 'ZOSS' as Point geometry (regular sheet)\n"
     ]
    },
    {
     "name": "stderr",
     "output_type": "stream",
     "text": [
      "c:\\Users\\kanzi\\AppData\\Local\\Programs\\Python\\Python312\\Lib\\site-packages\\pyogrio\\raw.py:723: RuntimeWarning: Normalized/laundered field name: 'Detail ' to 'Detail'\n",
      "  ogr_write(\n",
      "c:\\Users\\kanzi\\AppData\\Local\\Programs\\Python\\Python312\\Lib\\site-packages\\pyogrio\\raw.py:723: RuntimeWarning: Normalized/laundered field name: 'Lokasi ' to 'Lokasi'\n",
      "  ogr_write(\n"
     ]
    },
    {
     "name": "stdout",
     "output_type": "stream",
     "text": [
      "Processing 'FAS PENYEBERANGAN' as Point geometry (regular sheet)\n",
      "⚠️ Skipping 'RAMBU PORTABLE' (No valid start coordinate columns found)\n",
      "⚠️ Skipping 'TRAFFIC CONE' (No valid start coordinate columns found)\n",
      "⚠️ Skipping 'WATER BARRIER' (No valid start coordinate columns found)\n",
      "Processing 'CERMIN TIKUNG' as Point geometry (regular sheet)\n",
      "⚠️ Skipping 'CERMIN TIKUNG' (No valid geometry found)\n",
      "✅ Completed processing: Format Baru 61.A. Jl. Raya Lemah Abang.xlsx\n",
      "\n",
      "[28/30] Processing: Format Baru 62.A. Akses Dryport Cikarang.xlsx\n"
     ]
    },
    {
     "name": "stderr",
     "output_type": "stream",
     "text": [
      "c:\\Users\\kanzi\\AppData\\Local\\Programs\\Python\\Python312\\Lib\\site-packages\\openpyxl\\worksheet\\_reader.py:329: UserWarning: Conditional Formatting extension is not supported and will be removed\n",
      "  warn(msg)\n"
     ]
    },
    {
     "name": "stdout",
     "output_type": "stream",
     "text": [
      "Processing 'RAMBU' as Point geometry (regular sheet)\n",
      "✅ Saved: C:\\Users\\kanzi\\Documents\\Part Time Job\\Hasil Export\\Extract Shapefile\\Kabupaten Bekasi\\Jalan Eksisting\\Format Baru 62.A. Akses Dryport Cikarang_RAMBU.shp\n",
      "✅ Applied QML style: C:\\Users\\kanzi\\Documents\\Part Time Job\\Hasil Export\\Extract Shapefile\\Kabupaten Bekasi\\Jalan Eksisting\\Format Baru 62.A. Akses Dryport Cikarang_RAMBU.qml\n"
     ]
    },
    {
     "name": "stderr",
     "output_type": "stream",
     "text": [
      "c:\\Users\\kanzi\\AppData\\Local\\Programs\\Python\\Python312\\Lib\\site-packages\\pyogrio\\raw.py:723: RuntimeWarning: Normalized/laundered field name: 'Detail ' to 'Detail'\n",
      "  ogr_write(\n",
      "c:\\Users\\kanzi\\AppData\\Local\\Programs\\Python\\Python312\\Lib\\site-packages\\pyogrio\\raw.py:723: RuntimeWarning: Normalized/laundered field name: 'Gambar ' to 'Gambar'\n",
      "  ogr_write(\n",
      "c:\\Users\\kanzi\\AppData\\Local\\Programs\\Python\\Python312\\Lib\\site-packages\\pyogrio\\raw.py:723: RuntimeWarning: Normalized/laundered field name: 'Lokasi ' to 'Lokasi'\n",
      "  ogr_write(\n"
     ]
    },
    {
     "name": "stdout",
     "output_type": "stream",
     "text": [
      "Processing 'PJU' as Point geometry (regular sheet)\n",
      "✅ Saved: C:\\Users\\kanzi\\Documents\\Part Time Job\\Hasil Export\\Extract Shapefile\\Kabupaten Bekasi\\Jalan Eksisting\\Format Baru 62.A. Akses Dryport Cikarang_PJU.shp\n",
      "✅ Applied QML style: C:\\Users\\kanzi\\Documents\\Part Time Job\\Hasil Export\\Extract Shapefile\\Kabupaten Bekasi\\Jalan Eksisting\\Format Baru 62.A. Akses Dryport Cikarang_PJU.qml\n",
      "Processing 'RPPJ' as Point geometry (regular sheet)\n",
      "✅ Saved: C:\\Users\\kanzi\\Documents\\Part Time Job\\Hasil Export\\Extract Shapefile\\Kabupaten Bekasi\\Jalan Eksisting\\Format Baru 62.A. Akses Dryport Cikarang_RPPJ.shp\n",
      "✅ Applied QML style: C:\\Users\\kanzi\\Documents\\Part Time Job\\Hasil Export\\Extract Shapefile\\Kabupaten Bekasi\\Jalan Eksisting\\Format Baru 62.A. Akses Dryport Cikarang_RPPJ.qml\n"
     ]
    },
    {
     "name": "stderr",
     "output_type": "stream",
     "text": [
      "c:\\Users\\kanzi\\AppData\\Local\\Programs\\Python\\Python312\\Lib\\site-packages\\pyogrio\\raw.py:723: RuntimeWarning: Normalized/laundered field name: 'Detail ' to 'Detail'\n",
      "  ogr_write(\n",
      "c:\\Users\\kanzi\\AppData\\Local\\Programs\\Python\\Python312\\Lib\\site-packages\\pyogrio\\raw.py:723: RuntimeWarning: Normalized/laundered field name: 'Lokasi ' to 'Lokasi'\n",
      "  ogr_write(\n",
      "c:\\Users\\kanzi\\AppData\\Local\\Programs\\Python\\Python312\\Lib\\site-packages\\pyogrio\\raw.py:723: RuntimeWarning: Normalized/laundered field name: 'Detail ' to 'Detail'\n",
      "  ogr_write(\n",
      "c:\\Users\\kanzi\\AppData\\Local\\Programs\\Python\\Python312\\Lib\\site-packages\\pyogrio\\raw.py:723: RuntimeWarning: Normalized/laundered field name: 'Gambar ' to 'Gambar'\n",
      "  ogr_write(\n",
      "c:\\Users\\kanzi\\AppData\\Local\\Programs\\Python\\Python312\\Lib\\site-packages\\pyogrio\\raw.py:723: RuntimeWarning: Normalized/laundered field name: 'Lokasi ' to 'Lokasi'\n",
      "  ogr_write(\n"
     ]
    },
    {
     "name": "stdout",
     "output_type": "stream",
     "text": [
      "Processing 'PAGAR PENGAMAN' as LineString (PAGAR PENGAMAN sheet)\n",
      "✅ Saved: C:\\Users\\kanzi\\Documents\\Part Time Job\\Hasil Export\\Extract Shapefile\\Kabupaten Bekasi\\Jalan Eksisting\\Format Baru 62.A. Akses Dryport Cikarang_PAGAR PENGAMAN.shp\n",
      "✅ Applied QML style: C:\\Users\\kanzi\\Documents\\Part Time Job\\Hasil Export\\Extract Shapefile\\Kabupaten Bekasi\\Jalan Eksisting\\Format Baru 62.A. Akses Dryport Cikarang_PAGAR PENGAMAN.qml\n"
     ]
    },
    {
     "name": "stderr",
     "output_type": "stream",
     "text": [
      "c:\\Users\\kanzi\\AppData\\Local\\Programs\\Python\\Python312\\Lib\\site-packages\\pyogrio\\raw.py:723: RuntimeWarning: Normalized/laundered field name: 'Detail ' to 'Detail'\n",
      "  ogr_write(\n",
      "c:\\Users\\kanzi\\AppData\\Local\\Programs\\Python\\Python312\\Lib\\site-packages\\pyogrio\\raw.py:723: RuntimeWarning: Normalized/laundered field name: 'Lokasi ' to 'Lokasi'\n",
      "  ogr_write(\n"
     ]
    },
    {
     "name": "stdout",
     "output_type": "stream",
     "text": [
      "Processing 'MARKA' as MultiPoint (MARKA sheet)\n",
      "✅ Saved: C:\\Users\\kanzi\\Documents\\Part Time Job\\Hasil Export\\Extract Shapefile\\Kabupaten Bekasi\\Jalan Eksisting\\Format Baru 62.A. Akses Dryport Cikarang_MARKA.shp\n",
      "✅ Applied QML style: C:\\Users\\kanzi\\Documents\\Part Time Job\\Hasil Export\\Extract Shapefile\\Kabupaten Bekasi\\Jalan Eksisting\\Format Baru 62.A. Akses Dryport Cikarang_MARKA.qml\n"
     ]
    },
    {
     "name": "stderr",
     "output_type": "stream",
     "text": [
      "c:\\Users\\kanzi\\AppData\\Local\\Programs\\Python\\Python312\\Lib\\site-packages\\pyogrio\\raw.py:723: RuntimeWarning: Normalized/laundered field name: 'Detail ' to 'Detail'\n",
      "  ogr_write(\n"
     ]
    },
    {
     "name": "stdout",
     "output_type": "stream",
     "text": [
      "Processing 'WARNING LIGHT' as Point geometry (regular sheet)\n",
      "Processing 'APILL' as Point geometry (regular sheet)\n",
      "✅ Saved: C:\\Users\\kanzi\\Documents\\Part Time Job\\Hasil Export\\Extract Shapefile\\Kabupaten Bekasi\\Jalan Eksisting\\Format Baru 62.A. Akses Dryport Cikarang_APILL.shp\n",
      "✅ Applied QML style: C:\\Users\\kanzi\\Documents\\Part Time Job\\Hasil Export\\Extract Shapefile\\Kabupaten Bekasi\\Jalan Eksisting\\Format Baru 62.A. Akses Dryport Cikarang_APILL.qml\n"
     ]
    },
    {
     "name": "stderr",
     "output_type": "stream",
     "text": [
      "c:\\Users\\kanzi\\AppData\\Local\\Programs\\Python\\Python312\\Lib\\site-packages\\pyogrio\\raw.py:723: RuntimeWarning: Normalized/laundered field name: 'Detail ' to 'Detail'\n",
      "  ogr_write(\n",
      "c:\\Users\\kanzi\\AppData\\Local\\Programs\\Python\\Python312\\Lib\\site-packages\\pyogrio\\raw.py:723: RuntimeWarning: Normalized/laundered field name: 'Lokasi ' to 'Lokasi'\n",
      "  ogr_write(\n"
     ]
    },
    {
     "name": "stdout",
     "output_type": "stream",
     "text": [
      "Processing 'ZOSS' as Point geometry (regular sheet)\n",
      "Processing 'FAS PENYEBERANGAN' as Point geometry (regular sheet)\n",
      "⚠️ Skipping 'RAMBU PORTABLE' (No valid start coordinate columns found)\n",
      "⚠️ Skipping 'TRAFFIC CONE' (No valid start coordinate columns found)\n",
      "⚠️ Skipping 'WATER BARRIER' (No valid start coordinate columns found)\n",
      "Processing 'CERMIN TIKUNG' as Point geometry (regular sheet)\n",
      "⚠️ Skipping 'CERMIN TIKUNG' (No valid geometry found)\n",
      "✅ Completed processing: Format Baru 62.A. Akses Dryport Cikarang.xlsx\n",
      "\n",
      "[29/30] Processing: Ludira 27.A Jl. Bhayangkara (Pelabuhan Ratu).xlsx\n"
     ]
    },
    {
     "name": "stderr",
     "output_type": "stream",
     "text": [
      "c:\\Users\\kanzi\\AppData\\Local\\Programs\\Python\\Python312\\Lib\\site-packages\\openpyxl\\worksheet\\_reader.py:329: UserWarning: Conditional Formatting extension is not supported and will be removed\n",
      "  warn(msg)\n"
     ]
    },
    {
     "name": "stdout",
     "output_type": "stream",
     "text": [
      "Processing 'RAMBU' as Point geometry (regular sheet)\n",
      "✅ Saved: C:\\Users\\kanzi\\Documents\\Part Time Job\\Hasil Export\\Extract Shapefile\\Kabupaten Sukabumi\\Jalan Eksisting\\Ludira 27.A Jl. Bhayangkara (Pelabuhan Ratu)_RAMBU.shp\n",
      "✅ Applied QML style: C:\\Users\\kanzi\\Documents\\Part Time Job\\Hasil Export\\Extract Shapefile\\Kabupaten Sukabumi\\Jalan Eksisting\\Ludira 27.A Jl. Bhayangkara (Pelabuhan Ratu)_RAMBU.qml\n"
     ]
    },
    {
     "name": "stderr",
     "output_type": "stream",
     "text": [
      "c:\\Users\\kanzi\\AppData\\Local\\Programs\\Python\\Python312\\Lib\\site-packages\\pyogrio\\raw.py:723: RuntimeWarning: Normalized/laundered field name: 'Detail ' to 'Detail'\n",
      "  ogr_write(\n",
      "c:\\Users\\kanzi\\AppData\\Local\\Programs\\Python\\Python312\\Lib\\site-packages\\pyogrio\\raw.py:723: RuntimeWarning: Normalized/laundered field name: 'Gambar ' to 'Gambar'\n",
      "  ogr_write(\n",
      "c:\\Users\\kanzi\\AppData\\Local\\Programs\\Python\\Python312\\Lib\\site-packages\\pyogrio\\raw.py:723: RuntimeWarning: Normalized/laundered field name: 'Lokasi ' to 'Lokasi'\n",
      "  ogr_write(\n"
     ]
    },
    {
     "name": "stdout",
     "output_type": "stream",
     "text": [
      "Processing 'PJU' as Point geometry (regular sheet)\n"
     ]
    },
    {
     "name": "stderr",
     "output_type": "stream",
     "text": [
      "c:\\Users\\kanzi\\AppData\\Local\\Programs\\Python\\Python312\\Lib\\site-packages\\pyogrio\\raw.py:723: RuntimeWarning: Normalized/laundered field name: 'Detail ' to 'Detail'\n",
      "  ogr_write(\n",
      "c:\\Users\\kanzi\\AppData\\Local\\Programs\\Python\\Python312\\Lib\\site-packages\\pyogrio\\raw.py:723: RuntimeWarning: Normalized/laundered field name: 'Lokasi ' to 'Lokasi'\n",
      "  ogr_write(\n",
      "c:\\Users\\kanzi\\AppData\\Local\\Programs\\Python\\Python312\\Lib\\site-packages\\pyogrio\\raw.py:723: RuntimeWarning: Normalized/laundered field name: 'Detail ' to 'Detail'\n",
      "  ogr_write(\n",
      "c:\\Users\\kanzi\\AppData\\Local\\Programs\\Python\\Python312\\Lib\\site-packages\\pyogrio\\raw.py:723: RuntimeWarning: Normalized/laundered field name: 'Gambar ' to 'Gambar'\n",
      "  ogr_write(\n",
      "c:\\Users\\kanzi\\AppData\\Local\\Programs\\Python\\Python312\\Lib\\site-packages\\pyogrio\\raw.py:723: RuntimeWarning: Normalized/laundered field name: 'Lokasi ' to 'Lokasi'\n",
      "  ogr_write(\n"
     ]
    },
    {
     "name": "stdout",
     "output_type": "stream",
     "text": [
      "✅ Saved: C:\\Users\\kanzi\\Documents\\Part Time Job\\Hasil Export\\Extract Shapefile\\Kabupaten Sukabumi\\Jalan Eksisting\\Ludira 27.A Jl. Bhayangkara (Pelabuhan Ratu)_PJU.shp\n",
      "✅ Applied QML style: C:\\Users\\kanzi\\Documents\\Part Time Job\\Hasil Export\\Extract Shapefile\\Kabupaten Sukabumi\\Jalan Eksisting\\Ludira 27.A Jl. Bhayangkara (Pelabuhan Ratu)_PJU.qml\n",
      "Processing 'RPPJ' as Point geometry (regular sheet)\n",
      "✅ Saved: C:\\Users\\kanzi\\Documents\\Part Time Job\\Hasil Export\\Extract Shapefile\\Kabupaten Sukabumi\\Jalan Eksisting\\Ludira 27.A Jl. Bhayangkara (Pelabuhan Ratu)_RPPJ.shp\n",
      "✅ Applied QML style: C:\\Users\\kanzi\\Documents\\Part Time Job\\Hasil Export\\Extract Shapefile\\Kabupaten Sukabumi\\Jalan Eksisting\\Ludira 27.A Jl. Bhayangkara (Pelabuhan Ratu)_RPPJ.qml\n",
      "Processing 'PAGAR PENGAMAN' as LineString (PAGAR PENGAMAN sheet)\n",
      "Processing 'MARKA' as MultiPoint (MARKA sheet)\n",
      "Processing 'WARNING LIGHT' as Point geometry (regular sheet)\n"
     ]
    },
    {
     "name": "stderr",
     "output_type": "stream",
     "text": [
      "c:\\Users\\kanzi\\AppData\\Local\\Programs\\Python\\Python312\\Lib\\site-packages\\pyogrio\\raw.py:723: RuntimeWarning: Normalized/laundered field name: 'Detail ' to 'Detail'\n",
      "  ogr_write(\n",
      "c:\\Users\\kanzi\\AppData\\Local\\Programs\\Python\\Python312\\Lib\\site-packages\\pyogrio\\raw.py:723: RuntimeWarning: Normalized/laundered field name: 'Lokasi ' to 'Lokasi'\n",
      "  ogr_write(\n"
     ]
    },
    {
     "name": "stdout",
     "output_type": "stream",
     "text": [
      "✅ Saved: C:\\Users\\kanzi\\Documents\\Part Time Job\\Hasil Export\\Extract Shapefile\\Kabupaten Sukabumi\\Jalan Eksisting\\Ludira 27.A Jl. Bhayangkara (Pelabuhan Ratu)_WARNING LIGHT.shp\n",
      "✅ Applied QML style: C:\\Users\\kanzi\\Documents\\Part Time Job\\Hasil Export\\Extract Shapefile\\Kabupaten Sukabumi\\Jalan Eksisting\\Ludira 27.A Jl. Bhayangkara (Pelabuhan Ratu)_WARNING LIGHT.qml\n",
      "Processing 'APILL' as Point geometry (regular sheet)\n"
     ]
    },
    {
     "name": "stderr",
     "output_type": "stream",
     "text": [
      "c:\\Users\\kanzi\\AppData\\Local\\Programs\\Python\\Python312\\Lib\\site-packages\\pyogrio\\raw.py:723: RuntimeWarning: Normalized/laundered field name: 'Detail ' to 'Detail'\n",
      "  ogr_write(\n",
      "c:\\Users\\kanzi\\AppData\\Local\\Programs\\Python\\Python312\\Lib\\site-packages\\pyogrio\\raw.py:723: RuntimeWarning: Normalized/laundered field name: 'Lokasi ' to 'Lokasi'\n",
      "  ogr_write(\n"
     ]
    },
    {
     "name": "stdout",
     "output_type": "stream",
     "text": [
      "✅ Saved: C:\\Users\\kanzi\\Documents\\Part Time Job\\Hasil Export\\Extract Shapefile\\Kabupaten Sukabumi\\Jalan Eksisting\\Ludira 27.A Jl. Bhayangkara (Pelabuhan Ratu)_APILL.shp\n",
      "✅ Applied QML style: C:\\Users\\kanzi\\Documents\\Part Time Job\\Hasil Export\\Extract Shapefile\\Kabupaten Sukabumi\\Jalan Eksisting\\Ludira 27.A Jl. Bhayangkara (Pelabuhan Ratu)_APILL.qml\n",
      "Processing 'ZOSS' as Point geometry (regular sheet)\n",
      "Processing 'FAS PENYEBERANGAN' as Point geometry (regular sheet)\n",
      "⚠️ Skipping 'RAMBU PORTABLE' (No valid start coordinate columns found)\n",
      "⚠️ Skipping 'TRAFFIC CONE' (No valid start coordinate columns found)\n",
      "⚠️ Skipping 'WATER BARRIER' (No valid start coordinate columns found)\n",
      "Processing 'CERMIN TIKUNG' as Point geometry (regular sheet)\n",
      "⚠️ Skipping 'CERMIN TIKUNG' (No valid geometry found)\n",
      "✅ Completed processing: Ludira 27.A Jl. Bhayangkara (Pelabuhan Ratu).xlsx\n",
      "\n",
      "[30/30] Processing: ~$Ludira 27.A Jl. Bhayangkara (Pelabuhan Ratu).xlsx\n",
      "❌ Error processing file: [Errno 13] Permission denied: 'C:\\\\Users\\\\kanzi\\\\Documents\\\\Part Time Job\\\\Data Hasil Survey1\\\\~$Ludira 27.A Jl. Bhayangkara (Pelabuhan Ratu).xlsx'\n",
      "✅ Completed processing: ~$Ludira 27.A Jl. Bhayangkara (Pelabuhan Ratu).xlsx\n",
      "\n",
      "🎉 All Excel files processed. Output saved to: C:\\Users\\kanzi\\Documents\\Part Time Job\\Hasil Export\\Extract Shapefile\n"
     ]
    },
    {
     "name": "stderr",
     "output_type": "stream",
     "text": [
      "Traceback (most recent call last):\n",
      "  File \"C:\\Users\\kanzi\\AppData\\Local\\Temp\\ipykernel_15504\\3773111128.py\", line 514, in flatten_excel_to_shapefile\n",
      "    wb = load_workbook(file_path, data_only=True)\n",
      "         ^^^^^^^^^^^^^^^^^^^^^^^^^^^^^^^^^^^^^^^^\n",
      "  File \"c:\\Users\\kanzi\\AppData\\Local\\Programs\\Python\\Python312\\Lib\\site-packages\\openpyxl\\reader\\excel.py\", line 346, in load_workbook\n",
      "    reader = ExcelReader(filename, read_only, keep_vba,\n",
      "             ^^^^^^^^^^^^^^^^^^^^^^^^^^^^^^^^^^^^^^^^^^\n",
      "  File \"c:\\Users\\kanzi\\AppData\\Local\\Programs\\Python\\Python312\\Lib\\site-packages\\openpyxl\\reader\\excel.py\", line 123, in __init__\n",
      "    self.archive = _validate_archive(fn)\n",
      "                   ^^^^^^^^^^^^^^^^^^^^^\n",
      "  File \"c:\\Users\\kanzi\\AppData\\Local\\Programs\\Python\\Python312\\Lib\\site-packages\\openpyxl\\reader\\excel.py\", line 95, in _validate_archive\n",
      "    archive = ZipFile(filename, 'r')\n",
      "              ^^^^^^^^^^^^^^^^^^^^^^\n",
      "  File \"c:\\Users\\kanzi\\AppData\\Local\\Programs\\Python\\Python312\\Lib\\zipfile\\__init__.py\", line 1320, in __init__\n",
      "    self.fp = io.open(file, filemode)\n",
      "              ^^^^^^^^^^^^^^^^^^^^^^^\n",
      "PermissionError: [Errno 13] Permission denied: 'C:\\\\Users\\\\kanzi\\\\Documents\\\\Part Time Job\\\\Data Hasil Survey1\\\\~$Ludira 27.A Jl. Bhayangkara (Pelabuhan Ratu).xlsx'\n"
     ]
    }
   ],
   "source": [
    "# Check for one folder to process\n",
    "input_folder = r\"C:\\Users\\kanzi\\Documents\\Part Time Job\\Data Hasil Survey1\"  # Fill with the path file of excel\n",
    "output_folder = r\"C:\\Users\\kanzi\\Documents\\Part Time Job\\Hasil Export\"  # Fill with the path folder of export result\n",
    "excel_name = r\"01. Cileungsi - Cibeet.xlsx\"\n",
    "batas_wilayah = r\"C:\\Users\\kanzi\\Documents\\Part Time Job\\Hasil Export\\- Batas wilayah kota\\Batas_Kota_Kabupaten_JABAR.shp\"\n",
    "qml_folder = r\"C:\\Users\\kanzi\\Documents\\Part Time Job\\Hasil Export\\- QML File\"\n",
    "process_excel_folder_shapefile(input_folder, output_folder, qml_folder, batas_wilayah) # Run the function!"
   ]
  }
 ],
 "metadata": {
  "kernelspec": {
   "display_name": "Python 3",
   "language": "python",
   "name": "python3"
  },
  "language_info": {
   "codemirror_mode": {
    "name": "ipython",
    "version": 3
   },
   "file_extension": ".py",
   "mimetype": "text/x-python",
   "name": "python",
   "nbconvert_exporter": "python",
   "pygments_lexer": "ipython3",
   "version": "3.12.0"
  }
 },
 "nbformat": 4,
 "nbformat_minor": 2
}
