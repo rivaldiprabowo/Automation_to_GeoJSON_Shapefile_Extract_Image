{
 "cells": [
  {
   "cell_type": "markdown",
   "metadata": {},
   "source": [
    "# Automation Excel to GeoJSON and Shapefile"
   ]
  },
  {
   "cell_type": "markdown",
   "metadata": {},
   "source": [
    "## 1. Import Library"
   ]
  },
  {
   "cell_type": "code",
   "execution_count": 1,
   "metadata": {},
   "outputs": [],
   "source": [
    "import pandas as pd\n",
    "from openpyxl import load_workbook\n",
    "import geopandas as gpd\n",
    "from shapely.geometry import Point, LineString\n",
    "import json\n",
    "import glob\n",
    "import os\n",
    "from pathlib import Path"
   ]
  },
  {
   "cell_type": "markdown",
   "metadata": {},
   "source": [
    "## 2. Application to Export Excel into GeoJson"
   ]
  },
  {
   "cell_type": "markdown",
   "metadata": {},
   "source": [
    "### 2.1. Function Codes"
   ]
  },
  {
   "cell_type": "code",
   "execution_count": 2,
   "metadata": {},
   "outputs": [],
   "source": [
    "def unique_column_names(columns): # Ensure column names are unique by appending suffix.\n",
    "    seen = {}\n",
    "    new_columns = []\n",
    "    for col in columns:\n",
    "        if col in seen:\n",
    "            seen[col] += 1\n",
    "            new_columns.append(f\"{col}_{seen[col]}\")\n",
    "        else:\n",
    "            seen[col] = 0\n",
    "            new_columns.append(col)\n",
    "    return new_columns\n",
    "\n",
    "def clean_column_names(columns): # Standardize column names by capitalizing each word properly.\n",
    "    cleaned_columns = []\n",
    "    seen = {}\n",
    "    for col in columns:\n",
    "        col = str(col).strip()\n",
    "        \n",
    "        # Remove columns with \"Rekap\" in the name\n",
    "        if \"rekap\" in col.lower():\n",
    "            continue\n",
    "        \n",
    "        # Fix for duplicated words (like \"No No\", \"Detail Lokasi Detail Lokasi\")\n",
    "        words = col.split()\n",
    "        if len(words) >= 2:\n",
    "            # Check for repeated word patterns\n",
    "            half_length = len(words) // 2\n",
    "            if words[:half_length] == words[half_length:] and len(words) % 2 == 0:\n",
    "                # If the first half matches the second half, only use the first half\n",
    "                col = \" \".join(words[:half_length])\n",
    "        \n",
    "        # Capitalize words\n",
    "        col = \" \".join(word.capitalize() for word in col.split())\n",
    "        \n",
    "        # Handle duplicates\n",
    "        if col in seen:\n",
    "            seen[col] += 1\n",
    "            col = f\"{col} {seen[col]}\"\n",
    "        else:\n",
    "            seen[col] = 0\n",
    "        \n",
    "        cleaned_columns.append(col)\n",
    "    return cleaned_columns\n",
    "\n",
    "def fix_coordinates(row, lat_col, lon_col): #Fix latitude and longitude values that may be in the wrong format.\n",
    "    lat, lon = row[lat_col], row[lon_col]\n",
    "    if pd.notna(lat) and abs(lat) > 90:\n",
    "        lat /= 1_000_000\n",
    "    if pd.notna(lon) and abs(lon) > 180:\n",
    "        lon /= 1_000_000\n",
    "    return pd.Series([lat, lon])\n",
    "\n",
    "def clean_geojson(gdf, output_path):  # Save GeoDataFrame in a clean format GeoJSON file.\n",
    "    temp_path = output_path.replace(\".geojson\", \"_temp.geojson\")\n",
    "    gdf.to_file(temp_path, driver=\"GeoJSON\")\n",
    "\n",
    "    with open(temp_path, \"r\", encoding=\"utf-8\") as file:\n",
    "        geojson_data = json.load(file)\n",
    "\n",
    "    with open(output_path, \"w\", encoding=\"utf-8\") as file:\n",
    "        json.dump(geojson_data, file, indent=4)\n",
    "\n",
    "    print(f\"✅ Saved: {output_path}\")\n",
    "\n",
    "def find_coordinate_columns(df, prefix, column_type): \n",
    "    \"\"\"\n",
    "    Find coordinate columns with various naming patterns\n",
    "    \n",
    "    df: DataFrame to search\n",
    "    prefix: 'start' or 'end' to indicate which endpoint to find\n",
    "    column_type: 'lat' or 'lon' to indicate latitude or longitude\n",
    "    \n",
    "    Returns: Column name if found, None otherwise\n",
    "    \"\"\"\n",
    "    patterns = []\n",
    "    \n",
    "    if prefix == 'start':\n",
    "        if column_type == 'lat':\n",
    "            patterns = [\n",
    "                'awal latitude', 'awal lat', \n",
    "                'koordinat latitude', 'koordinat lat',\n",
    "                'latitude awal', 'lat awal',\n",
    "                'latitude 1', 'lat 1'\n",
    "            ]\n",
    "        else:  # longitude\n",
    "            patterns = [\n",
    "                'awal longitude', 'awal lon', \n",
    "                'koordinat longitude', 'koordinat lon',\n",
    "                'longitude awal', 'lon awal',\n",
    "                'longitude 1', 'lon 1'\n",
    "            ]\n",
    "    else:  # end\n",
    "        if column_type == 'lat':\n",
    "            patterns = [\n",
    "                'akhir latitude', 'akhir lat',\n",
    "                'latitude akhir', 'lat akhir',\n",
    "                'latitude 2', 'lat 2'\n",
    "            ]\n",
    "        else:  # longitude\n",
    "            patterns = [\n",
    "                'akhir longitude', 'akhir lon',\n",
    "                'longitude akhir', 'lon akhir',\n",
    "                'longitude 2', 'lon 2'\n",
    "            ]\n",
    "    \n",
    "    # If we're looking for start coordinates, and just a single coordinate exists (no start/end distinction)\n",
    "    if prefix == 'start' and column_type == 'lat':\n",
    "        # Add cases where latitude exists without start/end specifier\n",
    "        patterns.extend(['latitude', 'lat'])\n",
    "    elif prefix == 'start' and column_type == 'lon':\n",
    "        # Add cases where longitude exists without start/end specifier\n",
    "        patterns.extend(['longitude', 'lon'])\n",
    "    \n",
    "    # Search for column containing any of the patterns\n",
    "    for pattern in patterns:\n",
    "        for col in df.columns:\n",
    "            if isinstance(col, str) and pattern in col.lower():\n",
    "                return col\n",
    "    \n",
    "    return None\n",
    "\n",
    "def flatten_excel_to_geojson(file_path, output_folder): #Convert all sheets from an Excel file to GeoJSON, handling both Point and LineString geometries\n",
    "\n",
    "    # Load workbook\n",
    "    wb = load_workbook(file_path, data_only=True)\n",
    "\n",
    "    for sheet_name in wb.sheetnames:\n",
    "        ws = wb[sheet_name]\n",
    "\n",
    "        # Unmerge cells and fill values\n",
    "        for merge in list(ws.merged_cells):\n",
    "            ws.unmerge_cells(str(merge))\n",
    "            top_left = ws.cell(merge.min_row, merge.min_col).value\n",
    "            for row in range(merge.min_row, merge.max_row + 1):\n",
    "                for col in range(merge.min_col, merge.max_col + 1):\n",
    "                    ws.cell(row, col, top_left)\n",
    "\n",
    "        # Convert to DataFrame\n",
    "        data = list(ws.values)\n",
    "        df = pd.DataFrame(data)\n",
    "\n",
    "        # Check if DataFrame is empty or has too few rows\n",
    "        if df.empty or len(df) < 3:\n",
    "            print(f\"⚠️ Skipping '{sheet_name}' (Empty sheet or insufficient data)\")\n",
    "            continue\n",
    "\n",
    "        # Find rows containing \"NO\" (safer approach)\n",
    "        try:\n",
    "            header_indices = df[df.apply(lambda x: x.astype(str).str.contains(\"NO\", case=False, na=False)).any(axis=1)].index\n",
    "            if len(header_indices) == 0:\n",
    "                print(f\"⚠️ Skipping '{sheet_name}' (No header row with 'NO' found)\")\n",
    "                continue\n",
    "            header_index = header_indices[0]\n",
    "        except Exception as e:\n",
    "            print(f\"⚠️ Skipping '{sheet_name}' (Error finding header row: {str(e)})\")\n",
    "            continue\n",
    "\n",
    "        # Use the identified header row\n",
    "        df.columns = df.iloc[header_index].astype(str).str.strip()\n",
    "\n",
    "        # Remove empty columns\n",
    "        df = df.dropna(axis=1, how=\"all\")\n",
    "\n",
    "        # First pass of REKAP filtering - do this early and more aggressively\n",
    "        try:\n",
    "            rekap_mask = df.columns.astype(str).str.contains(\"REKAP\", case=False, na=False)\n",
    "            if rekap_mask.any():\n",
    "                df = df.loc[:, ~rekap_mask]\n",
    "                print(f\"Removed {rekap_mask.sum()} REKAP columns in first pass\")\n",
    "        except Exception as e:\n",
    "            print(f\"Warning in '{sheet_name}': Error filtering REKAP columns - {str(e)}\")\n",
    "\n",
    "        # Drop rows above and including header, plus the empty row after header\n",
    "        rows_to_drop = list(range(0, header_index + 2))\n",
    "        if len(df) > max(rows_to_drop) + 1:  # Make sure we have enough rows\n",
    "            df = df.drop(index=rows_to_drop).reset_index(drop=True)\n",
    "        else:\n",
    "            print(f\"⚠️ Skipping '{sheet_name}' (Not enough data rows after header)\")\n",
    "            continue\n",
    "\n",
    "        # Improved header row merging\n",
    "        if len(df) >= 2:\n",
    "            # Convert all values to strings to handle None values safely\n",
    "            first_row = df.iloc[0].astype(str).replace('None', '').replace('nan', '')\n",
    "            second_row = df.iloc[1].astype(str).replace('None', '').replace('nan', '')\n",
    "            \n",
    "            # Smart merging to avoid duplication\n",
    "            merged_header = []\n",
    "            for a, b in zip(first_row, second_row):\n",
    "                a = a.strip()\n",
    "                b = b.strip()\n",
    "                \n",
    "                # Skip columns with \"REKAP\" in the name - additional check\n",
    "                if \"rekap\" in a.lower() or \"rekap\" in b.lower():\n",
    "                    merged_header.append(\"TO_BE_REMOVED\")  # Mark for removal\n",
    "                    continue\n",
    "                \n",
    "                if not a and not b:\n",
    "                    merged_header.append(\"Column_\" + str(len(merged_header)))\n",
    "                elif not a:\n",
    "                    merged_header.append(b)\n",
    "                elif not b:\n",
    "                    merged_header.append(a)\n",
    "                else:\n",
    "                    # Check if one is contained in the other to avoid redundancy\n",
    "                    if a.lower() in b.lower():\n",
    "                        merged_header.append(b)\n",
    "                    elif b.lower() in a.lower():\n",
    "                        merged_header.append(a)\n",
    "                    else:\n",
    "                        merged_header.append(f\"{a} {b}\")\n",
    "            \n",
    "            # Ensure column names are unique\n",
    "            df.columns = unique_column_names(merged_header)\n",
    "            \n",
    "            # Remove any columns marked for removal\n",
    "            df = df.loc[:, ~df.columns.str.contains(\"TO_BE_REMOVED\")]\n",
    "            \n",
    "            # Remove the first two rows used for headers\n",
    "            df = df.drop(index=[0, 1]).reset_index(drop=True)\n",
    "        else:\n",
    "            print(f\"⚠️ Skipping '{sheet_name}' (Not enough rows for headers)\")\n",
    "            continue\n",
    "\n",
    "        # Second pass of REKAP filtering after merging headers\n",
    "        try:\n",
    "            rekap_mask = df.columns.astype(str).str.contains(\"REKAP\", case=False, na=False)\n",
    "            if rekap_mask.any():\n",
    "                df = df.loc[:, ~rekap_mask]\n",
    "                print(f\"Removed {rekap_mask.sum()} REKAP columns in second pass\")\n",
    "        except Exception as e:\n",
    "            print(f\"Warning in '{sheet_name}': Error filtering REKAP columns (second pass) - {str(e)}\")\n",
    "\n",
    "        # Normalize column names for consistent detection (safely handle None values)\n",
    "        df.columns = [str(col).lower().strip() if col is not None else f\"col_{i}\" \n",
    "                      for i, col in enumerate(df.columns)]\n",
    "        \n",
    "        # Third pass of REKAP filtering after normalizing\n",
    "        try:\n",
    "            rekap_mask = df.columns.str.contains(\"rekap\", case=False, na=False)\n",
    "            if rekap_mask.any():\n",
    "                df = df.loc[:, ~rekap_mask]\n",
    "                print(f\"Removed {rekap_mask.sum()} rekap columns in third pass\")\n",
    "        except Exception as e:\n",
    "            print(f\"Warning in '{sheet_name}': Error filtering rekap columns (third pass) - {str(e)}\")\n",
    "        \n",
    "        # Safely check if this sheet contains \"PAGAR PENGAMAN\" or \"MARKA\" columns\n",
    "        contains_linestring_indicator = any(col for col in df.columns \n",
    "                                 if isinstance(col, str) and \n",
    "                                 (\"pagar pengaman\" in col.lower() or \"marka\" in col.lower()))\n",
    "\n",
    "        # Find all coordinate columns using the improved function\n",
    "        start_lat_col = find_coordinate_columns(df, 'start', 'lat')\n",
    "        start_lon_col = find_coordinate_columns(df, 'start', 'lon')\n",
    "        end_lat_col = find_coordinate_columns(df, 'end', 'lat')\n",
    "        end_lon_col = find_coordinate_columns(df, 'end', 'lon')\n",
    "        \n",
    "        # Check available coordinate patterns\n",
    "        has_start_coords = start_lat_col is not None and start_lon_col is not None\n",
    "        has_end_coords = end_lat_col is not None and end_lon_col is not None\n",
    "\n",
    "        if not has_start_coords:\n",
    "            print(f\"⚠️ Skipping '{sheet_name}' (No valid start coordinate columns found)\")\n",
    "            continue\n",
    "\n",
    "        # Convert all coordinate columns to numeric\n",
    "        if has_start_coords:\n",
    "            df[start_lat_col] = pd.to_numeric(df[start_lat_col], errors='coerce')\n",
    "            df[start_lon_col] = pd.to_numeric(df[start_lon_col], errors='coerce')\n",
    "            \n",
    "            # Fix coordinates if needed\n",
    "            df[[start_lat_col, start_lon_col]] = df.apply(fix_coordinates, axis=1, lat_col=start_lat_col, lon_col=start_lon_col)\n",
    "        \n",
    "        if has_end_coords:\n",
    "            df[end_lat_col] = pd.to_numeric(df[end_lat_col], errors='coerce')\n",
    "            df[end_lon_col] = pd.to_numeric(df[end_lon_col], errors='coerce')\n",
    "            \n",
    "            # Fix coordinates if needed\n",
    "            df[[end_lat_col, end_lon_col]] = df.apply(fix_coordinates, axis=1, lat_col=end_lat_col, lon_col=end_lon_col)\n",
    "        \n",
    "        # Check if the end coordinates actually contain valid data\n",
    "        if has_end_coords:\n",
    "            has_valid_end_coords = not df[end_lat_col].isna().all() and not df[end_lon_col].isna().all()\n",
    "            \n",
    "            # Check if we have at least one row with both coordinates valid\n",
    "            valid_pairs = ((df[start_lat_col].notna() & df[start_lon_col].notna()) & \n",
    "                           (df[end_lat_col].notna() & df[end_lon_col].notna())).any()\n",
    "            \n",
    "            # Only use LineString if we have valid end coordinates and at least one pair is complete\n",
    "            use_linestring = has_valid_end_coords and valid_pairs and contains_linestring_indicator\n",
    "        else:\n",
    "            use_linestring = False\n",
    "        \n",
    "        # Determine geometry type based on available coordinates and actual data\n",
    "        if use_linestring:\n",
    "            # LineString geometry with start/end points\n",
    "            print(f\"Processing '{sheet_name}' as LineString (both start and end coordinates contain valid data)\")\n",
    "            \n",
    "            # Create LineString geometry\n",
    "            df[\"geometry\"] = df.apply(\n",
    "                lambda row: LineString([\n",
    "                    (row[start_lon_col], row[start_lat_col]),\n",
    "                    (row[end_lon_col], row[end_lat_col])\n",
    "                ]) if pd.notna(row[start_lon_col]) and pd.notna(row[start_lat_col]) and \n",
    "                     pd.notna(row[end_lon_col]) and pd.notna(row[end_lat_col]) else None,\n",
    "                axis=1\n",
    "            )\n",
    "            \n",
    "            # Exclude coordinate columns from properties\n",
    "            exclude_cols = [start_lat_col, start_lon_col, end_lat_col, end_lon_col, \"geometry\"]\n",
    "            \n",
    "        else:\n",
    "            # Point geometry (only start coordinates)\n",
    "            print(f\"Processing '{sheet_name}' as Point geometry (second coordinates are missing or invalid)\")\n",
    "            \n",
    "            # Create Point geometry with start coordinates\n",
    "            df[\"geometry\"] = df.apply(\n",
    "                lambda row: Point(row[start_lon_col], row[start_lat_col]) \n",
    "                if pd.notna(row[start_lon_col]) and pd.notna(row[start_lat_col]) else None,\n",
    "                axis=1\n",
    "            )\n",
    "            \n",
    "            # Exclude coordinate columns from properties\n",
    "            exclude_cols = [start_lat_col, start_lon_col]\n",
    "            if has_end_coords:\n",
    "                exclude_cols.extend([end_lat_col, end_lon_col])\n",
    "            exclude_cols.append(\"geometry\")\n",
    "        \n",
    "        # Drop rows where geometry is None\n",
    "        df = df.dropna(subset=[\"geometry\"]).reset_index(drop=True)\n",
    "\n",
    "        # Only create GeoDataFrame if there are valid geometries\n",
    "        if len(df) > 0 and not df[\"geometry\"].isnull().all():\n",
    "            # Fourth pass of REKAP filtering\n",
    "            # Filter REKAP columns before creating properties\n",
    "            properties_cols = [col for col in df.columns if col not in exclude_cols]\n",
    "            properties_cols = [col for col in properties_cols if 'rekap' not in str(col).lower()]\n",
    "            \n",
    "            gdf = gpd.GeoDataFrame(df[properties_cols + [\"geometry\"]], crs=\"EPSG:4326\")\n",
    "            \n",
    "            # Apply column renaming after creating the GeoDataFrame\n",
    "            gdf.columns = clean_column_names(gdf.columns)\n",
    "\n",
    "            # Fifth pass REKAP filter - case insensitive filter after cleaning column names\n",
    "            gdf = gdf.loc[:, ~gdf.columns.astype(str).str.contains(\"rekap\", case=False, na=False)]\n",
    "            \n",
    "            # Remove unwanted \"None_\" and \"None\" columns\n",
    "            gdf = gdf.loc[:, ~gdf.columns.astype(str).str.match(r\"^None$|None_\", na=False)]\n",
    "\n",
    "            # Remove \" None\" from remaining column names\n",
    "            gdf.columns = gdf.columns.astype(str).str.replace(r\"\\sNone\\b\", \"\", regex=True).str.strip()\n",
    "\n",
    "            # Create output folder if it doesn't exist\n",
    "            os.makedirs(output_folder, exist_ok=True)\n",
    "\n",
    "            # Define output file path\n",
    "            output_path = os.path.join(output_folder, f\"{sheet_name}.geojson\")\n",
    "\n",
    "            # One final check for REKAP columns before saving\n",
    "            if any('rekap' in str(col).lower() for col in gdf.columns):\n",
    "                print(f\"Warning: Some REKAP columns still exist after all filtering: {[col for col in gdf.columns if 'rekap' in str(col).lower()]}\")\n",
    "                # Last resort: manually drop these columns\n",
    "                gdf = gdf.loc[:, ~gdf.columns.astype(str).str.contains(\"rekap\", case=False, na=False)]\n",
    "\n",
    "            # Save the GeoJSON in a clean format\n",
    "            clean_geojson(gdf, output_path)\n",
    "        else:\n",
    "            print(f\"⚠️ Skipping '{sheet_name}' (No valid geometry found)\")\n",
    "            continue  # Skip processing this sheet if no valid geometries exist\n",
    "\n",
    "def process_excel_folder(input_folder, output_base_folder): #Process all Excel files in a folder and convert them to GeoJSON\n",
    "    \n",
    "    # Create the 'Extract GeoJSON' folder inside the output folder\n",
    "    output_folder = os.path.join(output_base_folder, \"Extract GeoJSON\")\n",
    "    os.makedirs(output_folder, exist_ok=True)\n",
    "    \n",
    "    # Get all Excel files in the input folder\n",
    "    excel_extensions = ['*.xlsx', '*.xls', '*.xlsm']\n",
    "    excel_files = []\n",
    "    \n",
    "    for ext in excel_extensions:\n",
    "        excel_files.extend(glob.glob(os.path.join(input_folder, ext)))\n",
    "    \n",
    "    if not excel_files:\n",
    "        print(f\"⚠️ No Excel files found in {input_folder}\")\n",
    "        return\n",
    "    \n",
    "    # Process each Excel file\n",
    "    for i, file_path in enumerate(excel_files, 1):\n",
    "        file_name = os.path.basename(file_path)\n",
    "        print(f\"\\n[{i}/{len(excel_files)}] Processing: {file_name}\")\n",
    "        \n",
    "        # Create a subfolder for each Excel file\n",
    "        file_output_folder = os.path.join(output_folder, Path(file_name).stem)\n",
    "        os.makedirs(file_output_folder, exist_ok=True)\n",
    "        \n",
    "        try:\n",
    "            flatten_excel_to_geojson(file_path, file_output_folder)\n",
    "            print(f\"✓ Completed processing: {file_name}\")\n",
    "        except Exception as e:\n",
    "            print(f\"❌ Error processing {file_name}: {str(e)}\")\n",
    "    \n",
    "    print(f\"\\n🎉 All Excel files processed. Output saved to: {output_folder}\")\n",
    "    \n",
    "    # Clean up temporary files\n",
    "    cleanup_temp_files(output_folder)\n",
    "\n",
    "# Delete temporary files\n",
    "def cleanup_temp_files(output_folder):\n",
    "    for temp_file in glob.glob(os.path.join(output_folder, \"**/*_temp.geojson\"), recursive=True):\n",
    "        try:\n",
    "            os.remove(temp_file)\n",
    "            print(f\"Removed temporary file: {temp_file}\")\n",
    "        except Exception as e:\n",
    "            print(f\"Error removing temporary file {temp_file}: {str(e)}\")"
   ]
  },
  {
   "cell_type": "markdown",
   "metadata": {},
   "source": [
    "### 2.2. Run Function Excel to GeoJSON"
   ]
  },
  {
   "cell_type": "code",
   "execution_count": 3,
   "metadata": {},
   "outputs": [
    {
     "name": "stdout",
     "output_type": "stream",
     "text": [
      "\n",
      "[1/29] Processing: BARU - Eksisting JALAN PERJUANGAN KOTA BEKASI.xlsx\n"
     ]
    },
    {
     "name": "stderr",
     "output_type": "stream",
     "text": [
      "d:\\Work\\2025_LALIN\\AutomateConversion\\.conda\\Lib\\site-packages\\openpyxl\\worksheet\\_reader.py:329: UserWarning: Conditional Formatting extension is not supported and will be removed\n",
      "  warn(msg)\n"
     ]
    },
    {
     "name": "stdout",
     "output_type": "stream",
     "text": [
      "Processing 'RAMBU (baru)' as Point geometry (second coordinates are missing or invalid)\n",
      "❌ Error processing BARU - Eksisting JALAN PERJUANGAN KOTA BEKASI.xlsx: Cannot interpret '<geopandas.array.GeometryDtype object at 0x000001A40068C410>' as a data type\n",
      "\n",
      "[2/29] Processing: BARU - Eksisting JUANDA KOTA BEKASI.xlsx\n"
     ]
    },
    {
     "name": "stderr",
     "output_type": "stream",
     "text": [
      "d:\\Work\\2025_LALIN\\AutomateConversion\\.conda\\Lib\\site-packages\\openpyxl\\worksheet\\_reader.py:329: UserWarning: Conditional Formatting extension is not supported and will be removed\n",
      "  warn(msg)\n"
     ]
    },
    {
     "name": "stdout",
     "output_type": "stream",
     "text": [
      "Processing 'RAMBU (baru)' as Point geometry (second coordinates are missing or invalid)\n",
      "❌ Error processing BARU - Eksisting JUANDA KOTA BEKASI.xlsx: Cannot interpret '<geopandas.array.GeometryDtype object at 0x000001A40068C410>' as a data type\n",
      "\n",
      "[3/29] Processing: BARU - Eksisting KARTINI KOTA BEKASI.xlsx\n"
     ]
    },
    {
     "name": "stderr",
     "output_type": "stream",
     "text": [
      "d:\\Work\\2025_LALIN\\AutomateConversion\\.conda\\Lib\\site-packages\\openpyxl\\worksheet\\_reader.py:329: UserWarning: Conditional Formatting extension is not supported and will be removed\n",
      "  warn(msg)\n"
     ]
    },
    {
     "name": "stdout",
     "output_type": "stream",
     "text": [
      "Processing 'RAMBU (baru)' as Point geometry (second coordinates are missing or invalid)\n",
      "❌ Error processing BARU - Eksisting KARTINI KOTA BEKASI.xlsx: Cannot interpret '<geopandas.array.GeometryDtype object at 0x000001A40068C410>' as a data type\n",
      "\n",
      "[4/29] Processing: BARU - Eksisting PALUMBONSARI KABUPATENG KARAWANG.xlsx\n"
     ]
    },
    {
     "name": "stderr",
     "output_type": "stream",
     "text": [
      "d:\\Work\\2025_LALIN\\AutomateConversion\\.conda\\Lib\\site-packages\\openpyxl\\worksheet\\_reader.py:329: UserWarning: Conditional Formatting extension is not supported and will be removed\n",
      "  warn(msg)\n"
     ]
    },
    {
     "name": "stdout",
     "output_type": "stream",
     "text": [
      "Processing 'RAMBU (baru)' as Point geometry (second coordinates are missing or invalid)\n",
      "❌ Error processing BARU - Eksisting PALUMBONSARI KABUPATENG KARAWANG.xlsx: Cannot interpret '<geopandas.array.GeometryDtype object at 0x000001A40068C410>' as a data type\n",
      "\n",
      "[5/29] Processing: Eksisting (Bunar-Parung Panjang).xlsx\n"
     ]
    },
    {
     "name": "stderr",
     "output_type": "stream",
     "text": [
      "d:\\Work\\2025_LALIN\\AutomateConversion\\.conda\\Lib\\site-packages\\openpyxl\\worksheet\\_reader.py:329: UserWarning: Conditional Formatting extension is not supported and will be removed\n",
      "  warn(msg)\n"
     ]
    },
    {
     "name": "stdout",
     "output_type": "stream",
     "text": [
      "Processing 'RAMBU' as Point geometry (second coordinates are missing or invalid)\n",
      "❌ Error processing Eksisting (Bunar-Parung Panjang).xlsx: Cannot interpret '<geopandas.array.GeometryDtype object at 0x000001A40068C410>' as a data type\n",
      "\n",
      "[6/29] Processing: Format Baru 1.A. Jl. Proklamasi Krw.xlsx\n"
     ]
    },
    {
     "name": "stderr",
     "output_type": "stream",
     "text": [
      "d:\\Work\\2025_LALIN\\AutomateConversion\\.conda\\Lib\\site-packages\\openpyxl\\worksheet\\_reader.py:329: UserWarning: Conditional Formatting extension is not supported and will be removed\n",
      "  warn(msg)\n"
     ]
    },
    {
     "name": "stdout",
     "output_type": "stream",
     "text": [
      "Processing 'PJU' as Point geometry (second coordinates are missing or invalid)\n",
      "❌ Error processing Format Baru 1.A. Jl. Proklamasi Krw.xlsx: Cannot interpret '<geopandas.array.GeometryDtype object at 0x000001A40068C410>' as a data type\n",
      "\n",
      "[7/29] Processing: Format Baru 13.A. Jl. Letkol Eddie Soekardi (Kota Sukabumi).xlsx\n"
     ]
    },
    {
     "name": "stderr",
     "output_type": "stream",
     "text": [
      "d:\\Work\\2025_LALIN\\AutomateConversion\\.conda\\Lib\\site-packages\\openpyxl\\worksheet\\_reader.py:329: UserWarning: Conditional Formatting extension is not supported and will be removed\n",
      "  warn(msg)\n"
     ]
    },
    {
     "name": "stdout",
     "output_type": "stream",
     "text": [
      "Processing 'RAMBU' as Point geometry (second coordinates are missing or invalid)\n",
      "❌ Error processing Format Baru 13.A. Jl. Letkol Eddie Soekardi (Kota Sukabumi).xlsx: Cannot interpret '<geopandas.array.GeometryDtype object at 0x000001A40068C410>' as a data type\n",
      "\n",
      "[8/29] Processing: Format Baru 2.A. Tanjung Pura - Batujaya.xlsx\n"
     ]
    },
    {
     "name": "stderr",
     "output_type": "stream",
     "text": [
      "d:\\Work\\2025_LALIN\\AutomateConversion\\.conda\\Lib\\site-packages\\openpyxl\\worksheet\\_reader.py:329: UserWarning: Conditional Formatting extension is not supported and will be removed\n",
      "  warn(msg)\n"
     ]
    },
    {
     "name": "stdout",
     "output_type": "stream",
     "text": [
      "Processing 'PJU' as Point geometry (second coordinates are missing or invalid)\n",
      "❌ Error processing Format Baru 2.A. Tanjung Pura - Batujaya.xlsx: Cannot interpret '<geopandas.array.GeometryDtype object at 0x000001A40068C410>' as a data type\n",
      "\n",
      "[9/29] Processing: Format Baru 22.A. Sukabumi - Cikembar.xlsx\n"
     ]
    },
    {
     "name": "stderr",
     "output_type": "stream",
     "text": [
      "d:\\Work\\2025_LALIN\\AutomateConversion\\.conda\\Lib\\site-packages\\openpyxl\\worksheet\\_reader.py:329: UserWarning: Conditional Formatting extension is not supported and will be removed\n",
      "  warn(msg)\n"
     ]
    },
    {
     "name": "stdout",
     "output_type": "stream",
     "text": [
      "Processing 'RAMBU' as Point geometry (second coordinates are missing or invalid)\n",
      "❌ Error processing Format Baru 22.A. Sukabumi - Cikembar.xlsx: Cannot interpret '<geopandas.array.GeometryDtype object at 0x000001A40068C410>' as a data type\n",
      "\n",
      "[10/29] Processing: Format Baru 23.A. Cikembar-Cikembang.xlsx\n"
     ]
    },
    {
     "name": "stderr",
     "output_type": "stream",
     "text": [
      "d:\\Work\\2025_LALIN\\AutomateConversion\\.conda\\Lib\\site-packages\\openpyxl\\worksheet\\_reader.py:329: UserWarning: Conditional Formatting extension is not supported and will be removed\n",
      "  warn(msg)\n"
     ]
    },
    {
     "name": "stdout",
     "output_type": "stream",
     "text": [
      "Processing 'RAMBU' as Point geometry (second coordinates are missing or invalid)\n",
      "❌ Error processing Format Baru 23.A. Cikembar-Cikembang.xlsx: Cannot interpret '<geopandas.array.GeometryDtype object at 0x000001A40068C410>' as a data type\n",
      "\n",
      "[11/29] Processing: Format Baru 26.A. Sp. Surade - Ujunggenteng.xlsx\n"
     ]
    },
    {
     "name": "stderr",
     "output_type": "stream",
     "text": [
      "d:\\Work\\2025_LALIN\\AutomateConversion\\.conda\\Lib\\site-packages\\openpyxl\\worksheet\\_reader.py:329: UserWarning: Conditional Formatting extension is not supported and will be removed\n",
      "  warn(msg)\n"
     ]
    },
    {
     "name": "stdout",
     "output_type": "stream",
     "text": [
      "Processing 'RAMBU' as Point geometry (second coordinates are missing or invalid)\n",
      "❌ Error processing Format Baru 26.A. Sp. Surade - Ujunggenteng.xlsx: Cannot interpret '<geopandas.array.GeometryDtype object at 0x000001A40068C410>' as a data type\n",
      "\n",
      "[12/29] Processing: Format Baru 27.A. Jl. Bhayangkara (Pelabuhan Ratu).xlsx\n"
     ]
    },
    {
     "name": "stderr",
     "output_type": "stream",
     "text": [
      "d:\\Work\\2025_LALIN\\AutomateConversion\\.conda\\Lib\\site-packages\\openpyxl\\worksheet\\_reader.py:329: UserWarning: Conditional Formatting extension is not supported and will be removed\n",
      "  warn(msg)\n"
     ]
    },
    {
     "name": "stdout",
     "output_type": "stream",
     "text": [
      "Processing 'RAMBU' as Point geometry (second coordinates are missing or invalid)\n",
      "❌ Error processing Format Baru 27.A. Jl. Bhayangkara (Pelabuhan Ratu).xlsx: Cannot interpret '<geopandas.array.GeometryDtype object at 0x000001A40068C410>' as a data type\n",
      "\n",
      "[13/29] Processing: Format Baru 28.A. Cibadak - Cikidang - Pelabuhan Ratu.xlsx\n"
     ]
    },
    {
     "name": "stderr",
     "output_type": "stream",
     "text": [
      "d:\\Work\\2025_LALIN\\AutomateConversion\\.conda\\Lib\\site-packages\\openpyxl\\worksheet\\_reader.py:329: UserWarning: Conditional Formatting extension is not supported and will be removed\n",
      "  warn(msg)\n"
     ]
    },
    {
     "name": "stdout",
     "output_type": "stream",
     "text": [
      "Processing 'RAMBU' as Point geometry (second coordinates are missing or invalid)\n",
      "❌ Error processing Format Baru 28.A. Cibadak - Cikidang - Pelabuhan Ratu.xlsx: Cannot interpret '<geopandas.array.GeometryDtype object at 0x000001A40068C410>' as a data type\n",
      "\n",
      "[14/29] Processing: Format Baru 29.A. Sp. Karanghawu - Bts. Prov. Banten (Cikotok).xlsx\n"
     ]
    },
    {
     "name": "stderr",
     "output_type": "stream",
     "text": [
      "d:\\Work\\2025_LALIN\\AutomateConversion\\.conda\\Lib\\site-packages\\openpyxl\\worksheet\\_reader.py:329: UserWarning: Conditional Formatting extension is not supported and will be removed\n",
      "  warn(msg)\n"
     ]
    },
    {
     "name": "stdout",
     "output_type": "stream",
     "text": [
      "Processing 'RAMBU' as Point geometry (second coordinates are missing or invalid)\n",
      "❌ Error processing Format Baru 29.A. Sp. Karanghawu - Bts. Prov. Banten (Cikotok).xlsx: Cannot interpret '<geopandas.array.GeometryDtype object at 0x000001A40068C410>' as a data type\n",
      "\n",
      "[15/29] Processing: Format Baru 3.A. Kosambi - Bts. Karawang-Purwakarta.xlsx\n"
     ]
    },
    {
     "name": "stderr",
     "output_type": "stream",
     "text": [
      "d:\\Work\\2025_LALIN\\AutomateConversion\\.conda\\Lib\\site-packages\\openpyxl\\worksheet\\_reader.py:329: UserWarning: Conditional Formatting extension is not supported and will be removed\n",
      "  warn(msg)\n"
     ]
    },
    {
     "name": "stdout",
     "output_type": "stream",
     "text": [
      "Processing 'RAMBU' as Point geometry (second coordinates are missing or invalid)\n",
      "⚠️ Skipping 'RAMBU' (No valid geometry found)\n",
      "Processing 'PJU' as Point geometry (second coordinates are missing or invalid)\n",
      "❌ Error processing Format Baru 3.A. Kosambi - Bts. Karawang-Purwakarta.xlsx: Cannot interpret '<geopandas.array.GeometryDtype object at 0x000001A40068C410>' as a data type\n",
      "\n",
      "[16/29] Processing: Format Baru 32.A. Sp.3 Loji (Tegalnyampah) - Balewer - Puncak Darma.xlsx\n"
     ]
    },
    {
     "name": "stderr",
     "output_type": "stream",
     "text": [
      "d:\\Work\\2025_LALIN\\AutomateConversion\\.conda\\Lib\\site-packages\\openpyxl\\worksheet\\_reader.py:329: UserWarning: Conditional Formatting extension is not supported and will be removed\n",
      "  warn(msg)\n"
     ]
    },
    {
     "name": "stdout",
     "output_type": "stream",
     "text": [
      "Processing 'RAMBU' as Point geometry (second coordinates are missing or invalid)\n",
      "❌ Error processing Format Baru 32.A. Sp.3 Loji (Tegalnyampah) - Balewer - Puncak Darma.xlsx: Cannot interpret '<geopandas.array.GeometryDtype object at 0x000001A40068C410>' as a data type\n",
      "\n",
      "[17/29] Processing: Format Baru 38.A. Siliwangi Kota Bogor.xlsx\n"
     ]
    },
    {
     "name": "stderr",
     "output_type": "stream",
     "text": [
      "d:\\Work\\2025_LALIN\\AutomateConversion\\.conda\\Lib\\site-packages\\openpyxl\\worksheet\\_reader.py:329: UserWarning: Conditional Formatting extension is not supported and will be removed\n",
      "  warn(msg)\n"
     ]
    },
    {
     "name": "stdout",
     "output_type": "stream",
     "text": [
      "Processing 'PJU' as Point geometry (second coordinates are missing or invalid)\n",
      "❌ Error processing Format Baru 38.A. Siliwangi Kota Bogor.xlsx: Cannot interpret '<geopandas.array.GeometryDtype object at 0x000001A40068C410>' as a data type\n",
      "\n",
      "[18/29] Processing: Format Baru 39.A. Lawang Gintung Kota Bogor.xlsx\n"
     ]
    },
    {
     "name": "stderr",
     "output_type": "stream",
     "text": [
      "d:\\Work\\2025_LALIN\\AutomateConversion\\.conda\\Lib\\site-packages\\openpyxl\\worksheet\\_reader.py:329: UserWarning: Conditional Formatting extension is not supported and will be removed\n",
      "  warn(msg)\n"
     ]
    },
    {
     "name": "stdout",
     "output_type": "stream",
     "text": [
      "Processing 'PJU' as Point geometry (second coordinates are missing or invalid)\n",
      "❌ Error processing Format Baru 39.A. Lawang Gintung Kota Bogor.xlsx: Cannot interpret '<geopandas.array.GeometryDtype object at 0x000001A40068C410>' as a data type\n",
      "\n",
      "[19/29] Processing: Format Baru 41.A. Jl. Empang - Jl. R. Saleh Sarief Bustaman.xlsx\n"
     ]
    },
    {
     "name": "stderr",
     "output_type": "stream",
     "text": [
      "d:\\Work\\2025_LALIN\\AutomateConversion\\.conda\\Lib\\site-packages\\openpyxl\\worksheet\\_reader.py:329: UserWarning: Conditional Formatting extension is not supported and will be removed\n",
      "  warn(msg)\n"
     ]
    },
    {
     "name": "stdout",
     "output_type": "stream",
     "text": [
      "Processing 'PJU' as Point geometry (second coordinates are missing or invalid)\n",
      "❌ Error processing Format Baru 41.A. Jl. Empang - Jl. R. Saleh Sarief Bustaman.xlsx: Cannot interpret '<geopandas.array.GeometryDtype object at 0x000001A40068C410>' as a data type\n",
      "\n",
      "[20/29] Processing: Format Baru 48.A. Cileungsi - Cibinong (Citeureup).xlsx\n"
     ]
    },
    {
     "name": "stderr",
     "output_type": "stream",
     "text": [
      "d:\\Work\\2025_LALIN\\AutomateConversion\\.conda\\Lib\\site-packages\\openpyxl\\worksheet\\_reader.py:329: UserWarning: Conditional Formatting extension is not supported and will be removed\n",
      "  warn(msg)\n"
     ]
    },
    {
     "name": "stdout",
     "output_type": "stream",
     "text": [
      "Processing 'RAMBU' as Point geometry (second coordinates are missing or invalid)\n",
      "❌ Error processing Format Baru 48.A. Cileungsi - Cibinong (Citeureup).xlsx: Cannot interpret '<geopandas.array.GeometryDtype object at 0x000001A40068C410>' as a data type\n",
      "\n",
      "[21/29] Processing: Format Baru 5.A. Tegalloa - BagedJagatamu - (Bts Kab. KarawangKab. Bogor).xlsx\n"
     ]
    },
    {
     "name": "stderr",
     "output_type": "stream",
     "text": [
      "d:\\Work\\2025_LALIN\\AutomateConversion\\.conda\\Lib\\site-packages\\openpyxl\\worksheet\\_reader.py:329: UserWarning: Conditional Formatting extension is not supported and will be removed\n",
      "  warn(msg)\n"
     ]
    },
    {
     "name": "stdout",
     "output_type": "stream",
     "text": [
      "Processing 'RAMBU' as Point geometry (second coordinates are missing or invalid)\n",
      "❌ Error processing Format Baru 5.A. Tegalloa - BagedJagatamu - (Bts Kab. KarawangKab. Bogor).xlsx: Cannot interpret '<geopandas.array.GeometryDtype object at 0x000001A40068C410>' as a data type\n",
      "\n",
      "[22/29] Processing: Format Baru 51.A. Narogong - Cileungsi.xlsx\n"
     ]
    },
    {
     "name": "stderr",
     "output_type": "stream",
     "text": [
      "d:\\Work\\2025_LALIN\\AutomateConversion\\.conda\\Lib\\site-packages\\openpyxl\\worksheet\\_reader.py:329: UserWarning: Conditional Formatting extension is not supported and will be removed\n",
      "  warn(msg)\n"
     ]
    },
    {
     "name": "stdout",
     "output_type": "stream",
     "text": [
      "Processing 'RAMBU' as Point geometry (second coordinates are missing or invalid)\n",
      "❌ Error processing Format Baru 51.A. Narogong - Cileungsi.xlsx: Cannot interpret '<geopandas.array.GeometryDtype object at 0x000001A40068C410>' as a data type\n",
      "\n",
      "[23/29] Processing: Format Baru 52.A. Jl. Moch Toha (Parung Panjang).xlsx\n"
     ]
    },
    {
     "name": "stderr",
     "output_type": "stream",
     "text": [
      "d:\\Work\\2025_LALIN\\AutomateConversion\\.conda\\Lib\\site-packages\\openpyxl\\worksheet\\_reader.py:329: UserWarning: Conditional Formatting extension is not supported and will be removed\n",
      "  warn(msg)\n"
     ]
    },
    {
     "name": "stdout",
     "output_type": "stream",
     "text": [
      "Processing 'RAMBU' as Point geometry (second coordinates are missing or invalid)\n",
      "❌ Error processing Format Baru 52.A. Jl. Moch Toha (Parung Panjang).xlsx: Cannot interpret '<geopandas.array.GeometryDtype object at 0x000001A40068C410>' as a data type\n",
      "\n",
      "[24/29] Processing: Format Baru 57.A. Cibarusah - Cibucil.xlsx\n"
     ]
    },
    {
     "name": "stderr",
     "output_type": "stream",
     "text": [
      "d:\\Work\\2025_LALIN\\AutomateConversion\\.conda\\Lib\\site-packages\\openpyxl\\worksheet\\_reader.py:329: UserWarning: Conditional Formatting extension is not supported and will be removed\n",
      "  warn(msg)\n"
     ]
    },
    {
     "name": "stdout",
     "output_type": "stream",
     "text": [
      "Processing 'RAMBU' as Point geometry (second coordinates are missing or invalid)\n",
      "❌ Error processing Format Baru 57.A. Cibarusah - Cibucil.xlsx: Cannot interpret '<geopandas.array.GeometryDtype object at 0x000001A40068C410>' as a data type\n",
      "\n",
      "[25/29] Processing: Format Baru 58.A. Cileungsi - Cibeet.xlsx\n"
     ]
    },
    {
     "name": "stderr",
     "output_type": "stream",
     "text": [
      "d:\\Work\\2025_LALIN\\AutomateConversion\\.conda\\Lib\\site-packages\\openpyxl\\worksheet\\_reader.py:329: UserWarning: Conditional Formatting extension is not supported and will be removed\n",
      "  warn(msg)\n"
     ]
    },
    {
     "name": "stdout",
     "output_type": "stream",
     "text": [
      "Processing 'RAMBU' as Point geometry (second coordinates are missing or invalid)\n",
      "❌ Error processing Format Baru 58.A. Cileungsi - Cibeet.xlsx: Cannot interpret '<geopandas.array.GeometryDtype object at 0x000001A40068C410>' as a data type\n",
      "\n",
      "[26/29] Processing: Format Baru 59.A. Cariu - Jagatamu Baged (Bts. Kab. Bogor Karawang).xlsx\n"
     ]
    },
    {
     "name": "stderr",
     "output_type": "stream",
     "text": [
      "d:\\Work\\2025_LALIN\\AutomateConversion\\.conda\\Lib\\site-packages\\openpyxl\\worksheet\\_reader.py:329: UserWarning: Conditional Formatting extension is not supported and will be removed\n",
      "  warn(msg)\n"
     ]
    },
    {
     "name": "stdout",
     "output_type": "stream",
     "text": [
      "Processing 'RAMBU' as Point geometry (second coordinates are missing or invalid)\n",
      "❌ Error processing Format Baru 59.A. Cariu - Jagatamu Baged (Bts. Kab. Bogor Karawang).xlsx: Cannot interpret '<geopandas.array.GeometryDtype object at 0x000001A40068C410>' as a data type\n",
      "\n",
      "[27/29] Processing: Format Baru 60.A. Jl. KH. R. Ma'mun Nawawi.xlsx\n"
     ]
    },
    {
     "name": "stderr",
     "output_type": "stream",
     "text": [
      "d:\\Work\\2025_LALIN\\AutomateConversion\\.conda\\Lib\\site-packages\\openpyxl\\worksheet\\_reader.py:329: UserWarning: Conditional Formatting extension is not supported and will be removed\n",
      "  warn(msg)\n"
     ]
    },
    {
     "name": "stdout",
     "output_type": "stream",
     "text": [
      "Processing 'RAMBU' as Point geometry (second coordinates are missing or invalid)\n",
      "❌ Error processing Format Baru 60.A. Jl. KH. R. Ma'mun Nawawi.xlsx: Cannot interpret '<geopandas.array.GeometryDtype object at 0x000001A40068C410>' as a data type\n",
      "\n",
      "[28/29] Processing: Format Baru 61.A. Jl. Raya Lemah Abang.xlsx\n"
     ]
    },
    {
     "name": "stderr",
     "output_type": "stream",
     "text": [
      "d:\\Work\\2025_LALIN\\AutomateConversion\\.conda\\Lib\\site-packages\\openpyxl\\worksheet\\_reader.py:329: UserWarning: Conditional Formatting extension is not supported and will be removed\n",
      "  warn(msg)\n"
     ]
    },
    {
     "name": "stdout",
     "output_type": "stream",
     "text": [
      "Processing 'RAMBU' as Point geometry (second coordinates are missing or invalid)\n",
      "❌ Error processing Format Baru 61.A. Jl. Raya Lemah Abang.xlsx: Cannot interpret '<geopandas.array.GeometryDtype object at 0x000001A40068C410>' as a data type\n",
      "\n",
      "[29/29] Processing: Format Baru 62.A. Akses Dryport Cikarang.xlsx\n"
     ]
    },
    {
     "name": "stderr",
     "output_type": "stream",
     "text": [
      "d:\\Work\\2025_LALIN\\AutomateConversion\\.conda\\Lib\\site-packages\\openpyxl\\worksheet\\_reader.py:329: UserWarning: Conditional Formatting extension is not supported and will be removed\n",
      "  warn(msg)\n"
     ]
    },
    {
     "name": "stdout",
     "output_type": "stream",
     "text": [
      "Processing 'RAMBU' as Point geometry (second coordinates are missing or invalid)\n",
      "❌ Error processing Format Baru 62.A. Akses Dryport Cikarang.xlsx: Cannot interpret '<geopandas.array.GeometryDtype object at 0x000001A40068C410>' as a data type\n",
      "\n",
      "🎉 All Excel files processed. Output saved to: C:\\Users\\Widia\\source\\repos\\Automation_to_GeoJSON_Shapefile_Extract_Image\\Demo_Output\\Extract GeoJSON\n"
     ]
    }
   ],
   "source": [
    "input_folder = r\"D:\\Work\\2025_LALIN\\AutomateConversion\\Data\\UPTDs\\UPTD I\\Eksisting\"  # Fill with the path file of excel\n",
    "output_base_folder = r\"C:\\Users\\Widia\\source\\repos\\Automation_to_GeoJSON_Shapefile_Extract_Image\\Demo_Output\"  # Fill with the path folder of export result\n",
    "process_excel_folder(input_folder, output_base_folder) # Run the function!"
   ]
  },
  {
   "cell_type": "markdown",
   "metadata": {},
   "source": [
    "## 3. Application to Export Excel into Shapefile"
   ]
  },
  {
   "cell_type": "markdown",
   "metadata": {},
   "source": [
    "### 3.1. Function Codes"
   ]
  },
  {
   "cell_type": "code",
   "execution_count": null,
   "metadata": {},
   "outputs": [],
   "source": [
    "def unique_column_names(columns): # Ensure column names are unique by appending suffix.\n",
    "    seen = {}\n",
    "    new_columns = []\n",
    "    for col in columns:\n",
    "        if col in seen:\n",
    "            seen[col] += 1\n",
    "            new_columns.append(f\"{col}_{seen[col]}\")\n",
    "        else:\n",
    "            seen[col] = 0\n",
    "            new_columns.append(col)\n",
    "    return new_columns\n",
    "\n",
    "def clean_column_names(columns): # Standardize column names by capitalizing each word properly.\n",
    "    cleaned_columns = []\n",
    "    seen = {}\n",
    "    for col in columns:\n",
    "        col = str(col).strip()\n",
    "        \n",
    "        # Remove columns with \"Rekap\" in the name\n",
    "        if \"rekap\" in col.lower():\n",
    "            continue\n",
    "        \n",
    "        # Fix for duplicated words (like \"No No\", \"Detail Lokasi Detail Lokasi\")\n",
    "        words = col.split()\n",
    "        if len(words) >= 2:\n",
    "            # Check for repeated word patterns\n",
    "            half_length = len(words) // 2\n",
    "            if words[:half_length] == words[half_length:] and len(words) % 2 == 0:\n",
    "                # If the first half matches the second half, only use the first half\n",
    "                col = \" \".join(words[:half_length])\n",
    "        \n",
    "        # Capitalize words\n",
    "        col = \" \".join(word.capitalize() for word in col.split())\n",
    "        \n",
    "        # Handle duplicates\n",
    "        if col in seen:\n",
    "            seen[col] += 1\n",
    "            col = f\"{col} {seen[col]}\"\n",
    "        else:\n",
    "            seen[col] = 0\n",
    "        \n",
    "        # Shapefile has column name length limitation (10 chars)\n",
    "        # We'll handle this by truncating to 10 chars while ensuring uniqueness\n",
    "        col = col[:10]\n",
    "        \n",
    "        cleaned_columns.append(col)\n",
    "    return cleaned_columns\n",
    "\n",
    "def fix_coordinates(row, lat_col, lon_col): #Fix latitude and longitude values that may be in the wrong format.\n",
    "    lat, lon = row[lat_col], row[lon_col]\n",
    "    if pd.notna(lat) and abs(lat) > 90:\n",
    "        lat /= 1_000_000\n",
    "    if pd.notna(lon) and abs(lon) > 180:\n",
    "        lon /= 1_000_000\n",
    "    return pd.Series([lat, lon])\n",
    "\n",
    "def save_shapefile(gdf, output_path): \n",
    "    \"\"\"\n",
    "    Save GeoDataFrame to Shapefile format with warnings suppressed\n",
    "    \n",
    "    gdf: GeoDataFrame to save\n",
    "    output_path: Path where to save the shapefile\n",
    "    \"\"\"\n",
    "    try:\n",
    "        # Truncate column names to 10 characters ourselves to avoid warnings\n",
    "        # This proactively handles the limitation rather than relying on geopandas/pyogrio to do it\n",
    "        orig_columns = gdf.columns.tolist()\n",
    "        truncated_columns = [str(col)[:10] for col in orig_columns]\n",
    "        \n",
    "        # Create a mapping dictionary to show what changed\n",
    "        column_mapping = {orig: trunc for orig, trunc in zip(orig_columns, truncated_columns)}\n",
    "        \n",
    "        # Check for duplicates after truncation and make them unique\n",
    "        seen = {}\n",
    "        unique_truncated = []\n",
    "        for col in truncated_columns:\n",
    "            if col in seen:\n",
    "                seen[col] += 1\n",
    "                unique_truncated.append(f\"{col[:7]}_{seen[col]}\")\n",
    "            else:\n",
    "                seen[col] = 0\n",
    "                unique_truncated.append(col)\n",
    "        \n",
    "        # Rename the columns with the unique truncated names\n",
    "        gdf.columns = unique_truncated\n",
    "        \n",
    "        # Import warnings to suppress them\n",
    "        import warnings\n",
    "        \n",
    "        # Suppress specific warnings\n",
    "        with warnings.catch_warnings():\n",
    "            warnings.filterwarnings('ignore', category=UserWarning, message='.*truncated when saved to ESRI Shapefile.*')\n",
    "            warnings.filterwarnings('ignore', category=RuntimeWarning, message='.*Normalized/laundered field name.*')\n",
    "            \n",
    "            # Save to shapefile with warnings suppressed\n",
    "            gdf.to_file(output_path, driver=\"ESRI Shapefile\")\n",
    "        \n",
    "        print(f\"✅ Saved: {output_path}\")\n",
    "                \n",
    "    except Exception as e:\n",
    "        print(f\"❌ Error saving shapefile {output_path}: {str(e)}\")\n",
    "\n",
    "def find_coordinate_columns(df, prefix, column_type):\n",
    "    \"\"\"\n",
    "    Find coordinate columns with various naming patterns\n",
    "    \n",
    "    df: DataFrame to search\n",
    "    prefix: 'start' or 'end' to indicate which endpoint to find\n",
    "    column_type: 'lat' or 'lon' to indicate latitude or longitude\n",
    "    \n",
    "    Returns Column name if found, None otherwise\n",
    "    \"\"\"\n",
    "    patterns = []\n",
    "    \n",
    "    if prefix == 'start':\n",
    "        if column_type == 'lat':\n",
    "            patterns = [\n",
    "                'awal latitude', 'awal lat', \n",
    "                'koordinat latitude', 'koordinat lat',\n",
    "                'latitude awal', 'lat awal',\n",
    "                'latitude 1', 'lat 1'\n",
    "            ]\n",
    "        else:  # longitude\n",
    "            patterns = [\n",
    "                'awal longitude', 'awal lon', \n",
    "                'koordinat longitude', 'koordinat lon',\n",
    "                'longitude awal', 'lon awal',\n",
    "                'longitude 1', 'lon 1'\n",
    "            ]\n",
    "    else:  # end\n",
    "        if column_type == 'lat':\n",
    "            patterns = [\n",
    "                'akhir latitude', 'akhir lat',\n",
    "                'latitude akhir', 'lat akhir',\n",
    "                'latitude 2', 'lat 2'\n",
    "            ]\n",
    "        else:  # longitude\n",
    "            patterns = [\n",
    "                'akhir longitude', 'akhir lon',\n",
    "                'longitude akhir', 'lon akhir',\n",
    "                'longitude 2', 'lon 2'\n",
    "            ]\n",
    "    \n",
    "    # If we're looking for start coordinates, and just a single coordinate exists (no start/end distinction)\n",
    "    if prefix == 'start' and column_type == 'lat':\n",
    "        # Add cases where latitude exists without start/end specifier\n",
    "        patterns.extend(['latitude', 'lat'])\n",
    "    elif prefix == 'start' and column_type == 'lon':\n",
    "        # Add cases where longitude exists without start/end specifier\n",
    "        patterns.extend(['longitude', 'lon'])\n",
    "    \n",
    "    # Search for column containing any of the patterns\n",
    "    for pattern in patterns:\n",
    "        for col in df.columns:\n",
    "            if isinstance(col, str) and pattern in col.lower():\n",
    "                return col\n",
    "    \n",
    "    return None\n",
    "\n",
    "def flatten_excel_to_shapefile(file_path, output_folder): #Convert all sheets from an Excel file to Shapefile, handling both Point and LineString geometries\n",
    "\n",
    "    # Load workbook\n",
    "    wb = load_workbook(file_path, data_only=True)\n",
    "\n",
    "    for sheet_name in wb.sheetnames:\n",
    "        ws = wb[sheet_name]\n",
    "\n",
    "        # Unmerge cells and fill values\n",
    "        for merge in list(ws.merged_cells):\n",
    "            ws.unmerge_cells(str(merge))\n",
    "            top_left = ws.cell(merge.min_row, merge.min_col).value\n",
    "            for row in range(merge.min_row, merge.max_row + 1):\n",
    "                for col in range(merge.min_col, merge.max_col + 1):\n",
    "                    ws.cell(row, col, top_left)\n",
    "\n",
    "        # Convert to DataFrame\n",
    "        data = list(ws.values)\n",
    "        df = pd.DataFrame(data)\n",
    "\n",
    "        # Check if DataFrame is empty or has too few rows\n",
    "        if df.empty or len(df) < 3:\n",
    "            print(f\"⚠️ Skipping '{sheet_name}' (Empty sheet or insufficient data)\")\n",
    "            continue\n",
    "\n",
    "        # Find rows containing \"NO\" (safer approach)\n",
    "        try:\n",
    "            header_indices = df[df.apply(lambda x: x.astype(str).str.contains(\"NO\", case=False, na=False)).any(axis=1)].index\n",
    "            if len(header_indices) == 0:\n",
    "                print(f\"⚠️ Skipping '{sheet_name}' (No header row with 'NO' found)\")\n",
    "                continue\n",
    "            header_index = header_indices[0]\n",
    "        except Exception as e:\n",
    "            print(f\"⚠️ Skipping '{sheet_name}' (Error finding header row: {str(e)})\")\n",
    "            continue\n",
    "\n",
    "        # Use the identified header row\n",
    "        df.columns = df.iloc[header_index].astype(str).str.strip()\n",
    "\n",
    "        # Remove empty columns\n",
    "        df = df.dropna(axis=1, how=\"all\")\n",
    "\n",
    "        # First pass of REKAP filtering - do this early and more aggressively\n",
    "        try:\n",
    "            rekap_mask = df.columns.astype(str).str.contains(\"REKAP\", case=False, na=False)\n",
    "            if rekap_mask.any():\n",
    "                df = df.loc[:, ~rekap_mask]\n",
    "                print(f\"Removed {rekap_mask.sum()} REKAP columns in first pass\")\n",
    "        except Exception as e:\n",
    "            print(f\"Warning in '{sheet_name}': Error filtering REKAP columns - {str(e)}\")\n",
    "\n",
    "        # Drop rows above and including header, plus the empty row after header\n",
    "        rows_to_drop = list(range(0, header_index + 2))\n",
    "        if len(df) > max(rows_to_drop) + 1:  # Make sure we have enough rows\n",
    "            df = df.drop(index=rows_to_drop).reset_index(drop=True)\n",
    "        else:\n",
    "            print(f\"⚠️ Skipping '{sheet_name}' (Not enough data rows after header)\")\n",
    "            continue\n",
    "\n",
    "        # Improved header row merging\n",
    "        if len(df) >= 2:\n",
    "            # Convert all values to strings to handle None values safely\n",
    "            first_row = df.iloc[0].astype(str).replace('None', '').replace('nan', '')\n",
    "            second_row = df.iloc[1].astype(str).replace('None', '').replace('nan', '')\n",
    "            \n",
    "            # Smart merging to avoid duplication\n",
    "            merged_header = []\n",
    "            for a, b in zip(first_row, second_row):\n",
    "                a = a.strip()\n",
    "                b = b.strip()\n",
    "                \n",
    "                # Skip columns with \"REKAP\" in the name - additional check\n",
    "                if \"rekap\" in a.lower() or \"rekap\" in b.lower():\n",
    "                    merged_header.append(\"TO_BE_REMOVED\")  # Mark for removal\n",
    "                    continue\n",
    "                \n",
    "                if not a and not b:\n",
    "                    merged_header.append(\"Column_\" + str(len(merged_header)))\n",
    "                elif not a:\n",
    "                    merged_header.append(b)\n",
    "                elif not b:\n",
    "                    merged_header.append(a)\n",
    "                else:\n",
    "                    # Check if one is contained in the other to avoid redundancy\n",
    "                    if a.lower() in b.lower():\n",
    "                        merged_header.append(b)\n",
    "                    elif b.lower() in a.lower():\n",
    "                        merged_header.append(a)\n",
    "                    else:\n",
    "                        merged_header.append(f\"{a} {b}\")\n",
    "            \n",
    "            # Ensure column names are unique\n",
    "            df.columns = unique_column_names(merged_header)\n",
    "            \n",
    "            # Remove any columns marked for removal\n",
    "            df = df.loc[:, ~df.columns.str.contains(\"TO_BE_REMOVED\")]\n",
    "            \n",
    "            # Remove the first two rows used for headers\n",
    "            df = df.drop(index=[0, 1]).reset_index(drop=True)\n",
    "        else:\n",
    "            print(f\"⚠️ Skipping '{sheet_name}' (Not enough rows for headers)\")\n",
    "            continue\n",
    "\n",
    "        # Second pass of REKAP filtering after merging headers\n",
    "        try:\n",
    "            rekap_mask = df.columns.astype(str).str.contains(\"REKAP\", case=False, na=False)\n",
    "            if rekap_mask.any():\n",
    "                df = df.loc[:, ~rekap_mask]\n",
    "                print(f\"Removed {rekap_mask.sum()} REKAP columns in second pass\")\n",
    "        except Exception as e:\n",
    "            print(f\"Warning in '{sheet_name}': Error filtering REKAP columns (second pass) - {str(e)}\")\n",
    "\n",
    "        # Normalize column names for consistent detection (safely handle None values)\n",
    "        df.columns = [str(col).lower().strip() if col is not None else f\"col_{i}\" \n",
    "                      for i, col in enumerate(df.columns)]\n",
    "        \n",
    "        # Third pass of REKAP filtering after normalizing\n",
    "        try:\n",
    "            rekap_mask = df.columns.str.contains(\"rekap\", case=False, na=False)\n",
    "            if rekap_mask.any():\n",
    "                df = df.loc[:, ~rekap_mask]\n",
    "                print(f\"Removed {rekap_mask.sum()} rekap columns in third pass\")\n",
    "        except Exception as e:\n",
    "            print(f\"Warning in '{sheet_name}': Error filtering rekap columns (third pass) - {str(e)}\")\n",
    "        \n",
    "        # Safely check if this sheet contains \"PAGAR PENGAMAN\" or \"MARKA\" columns\n",
    "        contains_linestring_indicator = any(col for col in df.columns \n",
    "                                 if isinstance(col, str) and \n",
    "                                 (\"pagar pengaman\" in col.lower() or \"marka\" in col.lower()))\n",
    "\n",
    "        # Find all coordinate columns using the improved function\n",
    "        start_lat_col = find_coordinate_columns(df, 'start', 'lat')\n",
    "        start_lon_col = find_coordinate_columns(df, 'start', 'lon')\n",
    "        end_lat_col = find_coordinate_columns(df, 'end', 'lat')\n",
    "        end_lon_col = find_coordinate_columns(df, 'end', 'lon')\n",
    "        \n",
    "        # Check available coordinate patterns\n",
    "        has_start_coords = start_lat_col is not None and start_lon_col is not None\n",
    "        has_end_coords = end_lat_col is not None and end_lon_col is not None\n",
    "\n",
    "        if not has_start_coords:\n",
    "            print(f\"⚠️ Skipping '{sheet_name}' (No valid start coordinate columns found)\")\n",
    "            continue\n",
    "\n",
    "        # Convert all coordinate columns to numeric\n",
    "        if has_start_coords:\n",
    "            df[start_lat_col] = pd.to_numeric(df[start_lat_col], errors='coerce')\n",
    "            df[start_lon_col] = pd.to_numeric(df[start_lon_col], errors='coerce')\n",
    "            \n",
    "            # Fix coordinates if needed\n",
    "            df[[start_lat_col, start_lon_col]] = df.apply(fix_coordinates, axis=1, lat_col=start_lat_col, lon_col=start_lon_col)\n",
    "        \n",
    "        if has_end_coords:\n",
    "            df[end_lat_col] = pd.to_numeric(df[end_lat_col], errors='coerce')\n",
    "            df[end_lon_col] = pd.to_numeric(df[end_lon_col], errors='coerce')\n",
    "            \n",
    "            # Fix coordinates if needed\n",
    "            df[[end_lat_col, end_lon_col]] = df.apply(fix_coordinates, axis=1, lat_col=end_lat_col, lon_col=end_lon_col)\n",
    "        \n",
    "        # Check if the end coordinates actually contain valid data\n",
    "        if has_end_coords:\n",
    "            has_valid_end_coords = not df[end_lat_col].isna().all() and not df[end_lon_col].isna().all()\n",
    "            \n",
    "            # Check if we have at least one row with both coordinates valid\n",
    "            valid_pairs = ((df[start_lat_col].notna() & df[start_lon_col].notna()) & \n",
    "                           (df[end_lat_col].notna() & df[end_lon_col].notna())).any()\n",
    "            \n",
    "            # Only use LineString if we have valid end coordinates and at least one pair is complete\n",
    "            use_linestring = has_valid_end_coords and valid_pairs and contains_linestring_indicator\n",
    "        else:\n",
    "            use_linestring = False\n",
    "        \n",
    "        # Determine geometry type based on available coordinates and actual data\n",
    "        if use_linestring:\n",
    "            # LineString geometry with start/end points\n",
    "            print(f\"Processing '{sheet_name}' as LineString (both start and end coordinates contain valid data)\")\n",
    "            \n",
    "            # Create LineString geometry\n",
    "            df[\"geometry\"] = df.apply(\n",
    "                lambda row: LineString([\n",
    "                    (row[start_lon_col], row[start_lat_col]),\n",
    "                    (row[end_lon_col], row[end_lat_col])\n",
    "                ]) if pd.notna(row[start_lon_col]) and pd.notna(row[start_lat_col]) and \n",
    "                     pd.notna(row[end_lon_col]) and pd.notna(row[end_lat_col]) else None,\n",
    "                axis=1\n",
    "            )\n",
    "            \n",
    "            # Exclude coordinate columns from properties\n",
    "            exclude_cols = [start_lat_col, start_lon_col, end_lat_col, end_lon_col, \"geometry\"]\n",
    "            \n",
    "        else:\n",
    "            # Point geometry (only start coordinates)\n",
    "            print(f\"Processing '{sheet_name}' as Point geometry (second coordinates are missing or invalid)\")\n",
    "            \n",
    "            # Create Point geometry with start coordinates\n",
    "            df[\"geometry\"] = df.apply(\n",
    "                lambda row: Point(row[start_lon_col], row[start_lat_col]) \n",
    "                if pd.notna(row[start_lon_col]) and pd.notna(row[start_lat_col]) else None,\n",
    "                axis=1\n",
    "            )\n",
    "            \n",
    "            # Exclude coordinate columns from properties\n",
    "            exclude_cols = [start_lat_col, start_lon_col]\n",
    "            if has_end_coords:\n",
    "                exclude_cols.extend([end_lat_col, end_lon_col])\n",
    "            exclude_cols.append(\"geometry\")\n",
    "        \n",
    "        # Drop rows where geometry is None\n",
    "        df = df.dropna(subset=[\"geometry\"]).reset_index(drop=True)\n",
    "\n",
    "        # Only create GeoDataFrame if there are valid geometries\n",
    "        if len(df) > 0 and not df[\"geometry\"].isnull().all():\n",
    "            # Fourth pass of REKAP filtering\n",
    "            # Filter REKAP columns before creating properties\n",
    "            properties_cols = [col for col in df.columns if col not in exclude_cols]\n",
    "            properties_cols = [col for col in properties_cols if 'rekap' not in str(col).lower()]\n",
    "            \n",
    "            gdf = gpd.GeoDataFrame(df[properties_cols + [\"geometry\"]], crs=\"EPSG:4326\")\n",
    "            \n",
    "            # Apply column renaming after creating the GeoDataFrame\n",
    "            gdf.columns = clean_column_names(gdf.columns)\n",
    "\n",
    "            # Fifth pass REKAP filter - case insensitive filter after cleaning column names\n",
    "            gdf = gdf.loc[:, ~gdf.columns.astype(str).str.contains(\"rekap\", case=False, na=False)]\n",
    "            \n",
    "            # Remove unwanted \"None_\" and \"None\" columns\n",
    "            gdf = gdf.loc[:, ~gdf.columns.astype(str).str.match(r\"^None$|None_\", na=False)]\n",
    "\n",
    "            # Remove \" None\" from remaining column names\n",
    "            gdf.columns = gdf.columns.astype(str).str.replace(r\"\\sNone\\b\", \"\", regex=True).str.strip()\n",
    "\n",
    "            # Create output folder if it doesn't exist\n",
    "            os.makedirs(output_folder, exist_ok=True)\n",
    "\n",
    "            # Define output file path - changed from .geojson to .shp\n",
    "            output_path = os.path.join(output_folder, f\"{sheet_name}.shp\")\n",
    "\n",
    "            # One final check for REKAP columns before saving\n",
    "            if any('rekap' in str(col).lower() for col in gdf.columns):\n",
    "                print(f\"Warning: Some REKAP columns still exist after all filtering: {[col for col in gdf.columns if 'rekap' in str(col).lower()]}\")\n",
    "                # Last resort: manually drop these columns\n",
    "                gdf = gdf.loc[:, ~gdf.columns.astype(str).str.contains(\"rekap\", case=False, na=False)]\n",
    "\n",
    "            # Save the Shapefile using our new save_shapefile function\n",
    "            save_shapefile(gdf, output_path)\n",
    "        else:\n",
    "            print(f\"⚠️ Skipping '{sheet_name}' (No valid geometry found)\")\n",
    "            continue  # Skip processing this sheet if no valid geometries exist\n",
    "\n",
    "def process_excel_folder(input_folder, output_base_folder): # Process all Excel files in a folder and convert them to Shapefiles\n",
    "    \n",
    "    # Create the 'Extract Shapefile' folder inside the output folder - changed from 'Extract GeoJSON'\n",
    "    output_folder = os.path.join(output_base_folder, \"Extract Shapefile\")\n",
    "    os.makedirs(output_folder, exist_ok=True)\n",
    "    \n",
    "    # Get all Excel files in the input folder\n",
    "    excel_extensions = ['*.xlsx', '*.xls', '*.xlsm']\n",
    "    excel_files = []\n",
    "    \n",
    "    for ext in excel_extensions:\n",
    "        excel_files.extend(glob.glob(os.path.join(input_folder, ext)))\n",
    "    \n",
    "    if not excel_files:\n",
    "        print(f\"⚠️ No Excel files found in {input_folder}\")\n",
    "        return\n",
    "    \n",
    "    # Process each Excel file\n",
    "    for i, file_path in enumerate(excel_files, 1):\n",
    "        file_name = os.path.basename(file_path)\n",
    "        print(f\"\\n[{i}/{len(excel_files)}] Processing: {file_name}\")\n",
    "        \n",
    "        # Create a subfolder for each Excel file\n",
    "        file_output_folder = os.path.join(output_folder, Path(file_name).stem)\n",
    "        os.makedirs(file_output_folder, exist_ok=True)\n",
    "        \n",
    "        try:\n",
    "            flatten_excel_to_shapefile(file_path, file_output_folder)\n",
    "            print(f\"✓ Completed processing: {file_name}\")\n",
    "        except Exception as e:\n",
    "            print(f\"❌ Error processing {file_name}: {str(e)}\")\n",
    "    \n",
    "    print(f\"\\n🎉 All Excel files processed. Output saved to: {output_folder}\")"
   ]
  },
  {
   "cell_type": "markdown",
   "metadata": {},
   "source": [
    "### 3.2. Run Function Excel to Shapefile"
   ]
  },
  {
   "cell_type": "code",
   "execution_count": 30,
   "metadata": {},
   "outputs": [
    {
     "name": "stdout",
     "output_type": "stream",
     "text": [
      "\n",
      "[1/32] Processing: 01. Cileungsi - Cibeet.xlsx\n"
     ]
    },
    {
     "name": "stderr",
     "output_type": "stream",
     "text": [
      "c:\\Users\\kanzi\\AppData\\Local\\Programs\\Python\\Python312\\Lib\\site-packages\\openpyxl\\worksheet\\_reader.py:329: UserWarning: Conditional Formatting extension is not supported and will be removed\n",
      "  warn(msg)\n"
     ]
    },
    {
     "name": "stdout",
     "output_type": "stream",
     "text": [
      "Processing 'RAMBU' as Point geometry (second coordinates are missing or invalid)\n",
      "✅ Saved: C:\\Users\\kanzi\\Documents\\Part Time Job\\Automation Codes\\Check GeoJSON\\Extract Shapefile\\01. Cileungsi - Cibeet\\RAMBU.shp\n",
      "Processing 'PJU' as Point geometry (second coordinates are missing or invalid)\n",
      "✅ Saved: C:\\Users\\kanzi\\Documents\\Part Time Job\\Automation Codes\\Check GeoJSON\\Extract Shapefile\\01. Cileungsi - Cibeet\\PJU.shp\n",
      "Processing 'RPPJ' as Point geometry (second coordinates are missing or invalid)\n",
      "✅ Saved: C:\\Users\\kanzi\\Documents\\Part Time Job\\Automation Codes\\Check GeoJSON\\Extract Shapefile\\01. Cileungsi - Cibeet\\RPPJ.shp\n",
      "Processing 'PAGAR PENGAMAN' as LineString (both start and end coordinates contain valid data)\n",
      "✅ Saved: C:\\Users\\kanzi\\Documents\\Part Time Job\\Automation Codes\\Check GeoJSON\\Extract Shapefile\\01. Cileungsi - Cibeet\\PAGAR PENGAMAN.shp\n",
      "Processing 'MARKA' as LineString (both start and end coordinates contain valid data)\n",
      "✅ Saved: C:\\Users\\kanzi\\Documents\\Part Time Job\\Automation Codes\\Check GeoJSON\\Extract Shapefile\\01. Cileungsi - Cibeet\\MARKA.shp\n",
      "Processing 'WARNING LIGHT' as Point geometry (second coordinates are missing or invalid)\n",
      "✅ Saved: C:\\Users\\kanzi\\Documents\\Part Time Job\\Automation Codes\\Check GeoJSON\\Extract Shapefile\\01. Cileungsi - Cibeet\\WARNING LIGHT.shp\n",
      "Processing 'APILL' as Point geometry (second coordinates are missing or invalid)\n",
      "✅ Saved: C:\\Users\\kanzi\\Documents\\Part Time Job\\Automation Codes\\Check GeoJSON\\Extract Shapefile\\01. Cileungsi - Cibeet\\APILL.shp\n",
      "Processing 'ZOSS' as Point geometry (second coordinates are missing or invalid)\n",
      "⚠️ Skipping 'ZOSS' (No valid geometry found)\n",
      "Processing 'FAS PENYEBERANGAN' as Point geometry (second coordinates are missing or invalid)\n",
      "✅ Saved: C:\\Users\\kanzi\\Documents\\Part Time Job\\Automation Codes\\Check GeoJSON\\Extract Shapefile\\01. Cileungsi - Cibeet\\FAS PENYEBERANGAN.shp\n",
      "⚠️ Skipping 'RAMBU PORTABLE' (No valid start coordinate columns found)\n",
      "⚠️ Skipping 'TRAFFIC CONE' (No valid start coordinate columns found)\n",
      "⚠️ Skipping 'WATER BARRIER' (No valid start coordinate columns found)\n",
      "Processing 'CERMIN TIKUNG' as Point geometry (second coordinates are missing or invalid)\n",
      "⚠️ Skipping 'CERMIN TIKUNG' (No valid geometry found)\n",
      "✓ Completed processing: 01. Cileungsi - Cibeet.xlsx\n",
      "\n",
      "[2/32] Processing: 02. CILEUNGSI - CIBINONG (CITEUREUP).xlsx\n"
     ]
    },
    {
     "name": "stderr",
     "output_type": "stream",
     "text": [
      "c:\\Users\\kanzi\\AppData\\Local\\Programs\\Python\\Python312\\Lib\\site-packages\\openpyxl\\worksheet\\_reader.py:329: UserWarning: Conditional Formatting extension is not supported and will be removed\n",
      "  warn(msg)\n"
     ]
    },
    {
     "name": "stdout",
     "output_type": "stream",
     "text": [
      "Processing 'RAMBU' as Point geometry (second coordinates are missing or invalid)\n",
      "✅ Saved: C:\\Users\\kanzi\\Documents\\Part Time Job\\Automation Codes\\Check GeoJSON\\Extract Shapefile\\02. CILEUNGSI - CIBINONG (CITEUREUP)\\RAMBU.shp\n",
      "Processing 'PJU' as Point geometry (second coordinates are missing or invalid)\n",
      "✅ Saved: C:\\Users\\kanzi\\Documents\\Part Time Job\\Automation Codes\\Check GeoJSON\\Extract Shapefile\\02. CILEUNGSI - CIBINONG (CITEUREUP)\\PJU.shp\n",
      "Processing 'RPPJ' as Point geometry (second coordinates are missing or invalid)\n",
      "✅ Saved: C:\\Users\\kanzi\\Documents\\Part Time Job\\Automation Codes\\Check GeoJSON\\Extract Shapefile\\02. CILEUNGSI - CIBINONG (CITEUREUP)\\RPPJ.shp\n",
      "Processing 'PAGAR PENGAMAN' as Point geometry (second coordinates are missing or invalid)\n",
      "✅ Saved: C:\\Users\\kanzi\\Documents\\Part Time Job\\Automation Codes\\Check GeoJSON\\Extract Shapefile\\02. CILEUNGSI - CIBINONG (CITEUREUP)\\PAGAR PENGAMAN.shp\n",
      "Processing 'MARKA' as LineString (both start and end coordinates contain valid data)\n",
      "✅ Saved: C:\\Users\\kanzi\\Documents\\Part Time Job\\Automation Codes\\Check GeoJSON\\Extract Shapefile\\02. CILEUNGSI - CIBINONG (CITEUREUP)\\MARKA.shp\n",
      "Processing 'WARNING LIGHT' as Point geometry (second coordinates are missing or invalid)\n",
      "✅ Saved: C:\\Users\\kanzi\\Documents\\Part Time Job\\Automation Codes\\Check GeoJSON\\Extract Shapefile\\02. CILEUNGSI - CIBINONG (CITEUREUP)\\WARNING LIGHT.shp\n",
      "Processing 'APILL' as Point geometry (second coordinates are missing or invalid)\n",
      "⚠️ Skipping 'APILL' (No valid geometry found)\n",
      "Processing 'ZOSS' as Point geometry (second coordinates are missing or invalid)\n",
      "✅ Saved: C:\\Users\\kanzi\\Documents\\Part Time Job\\Automation Codes\\Check GeoJSON\\Extract Shapefile\\02. CILEUNGSI - CIBINONG (CITEUREUP)\\ZOSS.shp\n",
      "Processing 'FAS PENYEBERANGAN' as Point geometry (second coordinates are missing or invalid)\n",
      "✅ Saved: C:\\Users\\kanzi\\Documents\\Part Time Job\\Automation Codes\\Check GeoJSON\\Extract Shapefile\\02. CILEUNGSI - CIBINONG (CITEUREUP)\\FAS PENYEBERANGAN.shp\n",
      "⚠️ Skipping 'RAMBU PORTABLE' (No valid start coordinate columns found)\n",
      "⚠️ Skipping 'TRAFFIC CONE' (No valid start coordinate columns found)\n",
      "⚠️ Skipping 'WATER BARRIER' (No valid start coordinate columns found)\n",
      "Processing 'CERMIN TIKUNG' as Point geometry (second coordinates are missing or invalid)\n",
      "✅ Saved: C:\\Users\\kanzi\\Documents\\Part Time Job\\Automation Codes\\Check GeoJSON\\Extract Shapefile\\02. CILEUNGSI - CIBINONG (CITEUREUP)\\CERMIN TIKUNG.shp\n",
      "✓ Completed processing: 02. CILEUNGSI - CIBINONG (CITEUREUP).xlsx\n",
      "\n",
      "[3/32] Processing: 03. Narogong - Cileungsi.xlsx\n"
     ]
    },
    {
     "name": "stderr",
     "output_type": "stream",
     "text": [
      "c:\\Users\\kanzi\\AppData\\Local\\Programs\\Python\\Python312\\Lib\\site-packages\\openpyxl\\worksheet\\_reader.py:329: UserWarning: Conditional Formatting extension is not supported and will be removed\n",
      "  warn(msg)\n"
     ]
    },
    {
     "name": "stdout",
     "output_type": "stream",
     "text": [
      "Processing 'RAMBU' as Point geometry (second coordinates are missing or invalid)\n",
      "✅ Saved: C:\\Users\\kanzi\\Documents\\Part Time Job\\Automation Codes\\Check GeoJSON\\Extract Shapefile\\03. Narogong - Cileungsi\\RAMBU.shp\n",
      "Processing 'PJU' as Point geometry (second coordinates are missing or invalid)\n",
      "✅ Saved: C:\\Users\\kanzi\\Documents\\Part Time Job\\Automation Codes\\Check GeoJSON\\Extract Shapefile\\03. Narogong - Cileungsi\\PJU.shp\n",
      "Processing 'RPPJ' as Point geometry (second coordinates are missing or invalid)\n",
      "✅ Saved: C:\\Users\\kanzi\\Documents\\Part Time Job\\Automation Codes\\Check GeoJSON\\Extract Shapefile\\03. Narogong - Cileungsi\\RPPJ.shp\n",
      "Processing 'PAGAR PENGAMAN' as LineString (both start and end coordinates contain valid data)\n",
      "✅ Saved: C:\\Users\\kanzi\\Documents\\Part Time Job\\Automation Codes\\Check GeoJSON\\Extract Shapefile\\03. Narogong - Cileungsi\\PAGAR PENGAMAN.shp\n",
      "Processing 'MARKA' as LineString (both start and end coordinates contain valid data)\n",
      "✅ Saved: C:\\Users\\kanzi\\Documents\\Part Time Job\\Automation Codes\\Check GeoJSON\\Extract Shapefile\\03. Narogong - Cileungsi\\MARKA.shp\n",
      "Processing 'WARNING LIGHT' as Point geometry (second coordinates are missing or invalid)\n",
      "✅ Saved: C:\\Users\\kanzi\\Documents\\Part Time Job\\Automation Codes\\Check GeoJSON\\Extract Shapefile\\03. Narogong - Cileungsi\\WARNING LIGHT.shp\n",
      "Processing 'APILL' as Point geometry (second coordinates are missing or invalid)\n",
      "✅ Saved: C:\\Users\\kanzi\\Documents\\Part Time Job\\Automation Codes\\Check GeoJSON\\Extract Shapefile\\03. Narogong - Cileungsi\\APILL.shp\n",
      "Processing 'ZOSS' as Point geometry (second coordinates are missing or invalid)\n",
      "✅ Saved: C:\\Users\\kanzi\\Documents\\Part Time Job\\Automation Codes\\Check GeoJSON\\Extract Shapefile\\03. Narogong - Cileungsi\\ZOSS.shp\n",
      "Processing 'FAS PENYEBERANGAN' as Point geometry (second coordinates are missing or invalid)\n",
      "✅ Saved: C:\\Users\\kanzi\\Documents\\Part Time Job\\Automation Codes\\Check GeoJSON\\Extract Shapefile\\03. Narogong - Cileungsi\\FAS PENYEBERANGAN.shp\n",
      "⚠️ Skipping 'RAMBU PORTABLE' (No valid start coordinate columns found)\n",
      "⚠️ Skipping 'TRAFFIC CONE' (No valid start coordinate columns found)\n",
      "⚠️ Skipping 'WATER BARRIER' (No valid start coordinate columns found)\n",
      "Processing 'CERMIN TIKUNG' as Point geometry (second coordinates are missing or invalid)\n",
      "⚠️ Skipping 'CERMIN TIKUNG' (No valid geometry found)\n",
      "✓ Completed processing: 03. Narogong - Cileungsi.xlsx\n",
      "\n",
      "[4/32] Processing: 04. Jl. Moch Toha (Parung Panjang).xlsx\n"
     ]
    },
    {
     "name": "stderr",
     "output_type": "stream",
     "text": [
      "c:\\Users\\kanzi\\AppData\\Local\\Programs\\Python\\Python312\\Lib\\site-packages\\openpyxl\\worksheet\\_reader.py:329: UserWarning: Conditional Formatting extension is not supported and will be removed\n",
      "  warn(msg)\n"
     ]
    },
    {
     "name": "stdout",
     "output_type": "stream",
     "text": [
      "Processing 'RAMBU' as Point geometry (second coordinates are missing or invalid)\n",
      "✅ Saved: C:\\Users\\kanzi\\Documents\\Part Time Job\\Automation Codes\\Check GeoJSON\\Extract Shapefile\\04. Jl. Moch Toha (Parung Panjang)\\RAMBU.shp\n",
      "Processing 'PJU' as Point geometry (second coordinates are missing or invalid)\n",
      "✅ Saved: C:\\Users\\kanzi\\Documents\\Part Time Job\\Automation Codes\\Check GeoJSON\\Extract Shapefile\\04. Jl. Moch Toha (Parung Panjang)\\PJU.shp\n",
      "Processing 'RPPJ' as Point geometry (second coordinates are missing or invalid)\n",
      "✅ Saved: C:\\Users\\kanzi\\Documents\\Part Time Job\\Automation Codes\\Check GeoJSON\\Extract Shapefile\\04. Jl. Moch Toha (Parung Panjang)\\RPPJ.shp\n",
      "Processing 'PAGAR PENGAMAN' as Point geometry (second coordinates are missing or invalid)\n",
      "⚠️ Skipping 'PAGAR PENGAMAN' (No valid geometry found)\n",
      "Processing 'MARKA' as Point geometry (second coordinates are missing or invalid)\n",
      "⚠️ Skipping 'MARKA' (No valid geometry found)\n",
      "Processing 'WARNING LIGHT' as Point geometry (second coordinates are missing or invalid)\n",
      "✅ Saved: C:\\Users\\kanzi\\Documents\\Part Time Job\\Automation Codes\\Check GeoJSON\\Extract Shapefile\\04. Jl. Moch Toha (Parung Panjang)\\WARNING LIGHT.shp\n",
      "Processing 'APILL' as Point geometry (second coordinates are missing or invalid)\n",
      "⚠️ Skipping 'APILL' (No valid geometry found)\n",
      "Processing 'ZOSS' as Point geometry (second coordinates are missing or invalid)\n",
      "⚠️ Skipping 'ZOSS' (No valid geometry found)\n",
      "Processing 'FAS PENYEBERANGAN' as Point geometry (second coordinates are missing or invalid)\n",
      "⚠️ Skipping 'FAS PENYEBERANGAN' (No valid geometry found)\n",
      "⚠️ Skipping 'RAMBU PORTABLE' (No valid start coordinate columns found)\n",
      "⚠️ Skipping 'TRAFFIC CONE' (No valid start coordinate columns found)\n",
      "⚠️ Skipping 'WATER BARRIER' (No valid start coordinate columns found)\n",
      "Processing 'CERMIN TIKUNG' as Point geometry (second coordinates are missing or invalid)\n",
      "⚠️ Skipping 'CERMIN TIKUNG' (No valid geometry found)\n",
      "✓ Completed processing: 04. Jl. Moch Toha (Parung Panjang).xlsx\n",
      "\n",
      "[5/32] Processing: 05. PARUNG PANJANG - BUNAR.xlsx\n"
     ]
    },
    {
     "name": "stderr",
     "output_type": "stream",
     "text": [
      "c:\\Users\\kanzi\\AppData\\Local\\Programs\\Python\\Python312\\Lib\\site-packages\\openpyxl\\worksheet\\_reader.py:329: UserWarning: Conditional Formatting extension is not supported and will be removed\n",
      "  warn(msg)\n"
     ]
    },
    {
     "name": "stdout",
     "output_type": "stream",
     "text": [
      "Processing 'RAMBU' as Point geometry (second coordinates are missing or invalid)\n",
      "✅ Saved: C:\\Users\\kanzi\\Documents\\Part Time Job\\Automation Codes\\Check GeoJSON\\Extract Shapefile\\05. PARUNG PANJANG - BUNAR\\RAMBU.shp\n",
      "Processing 'PJU' as Point geometry (second coordinates are missing or invalid)\n",
      "✅ Saved: C:\\Users\\kanzi\\Documents\\Part Time Job\\Automation Codes\\Check GeoJSON\\Extract Shapefile\\05. PARUNG PANJANG - BUNAR\\PJU.shp\n",
      "Processing 'RPPJ' as Point geometry (second coordinates are missing or invalid)\n",
      "⚠️ Skipping 'RPPJ' (No valid geometry found)\n",
      "Processing 'PAGAR PENGAMAN' as Point geometry (second coordinates are missing or invalid)\n",
      "⚠️ Skipping 'PAGAR PENGAMAN' (No valid geometry found)\n",
      "Processing 'MARKA' as Point geometry (second coordinates are missing or invalid)\n",
      "⚠️ Skipping 'MARKA' (No valid geometry found)\n",
      "Processing 'ZOSS' as Point geometry (second coordinates are missing or invalid)\n",
      "⚠️ Skipping 'ZOSS' (No valid geometry found)\n",
      "Processing 'WARNING LIGHT' as Point geometry (second coordinates are missing or invalid)\n",
      "✅ Saved: C:\\Users\\kanzi\\Documents\\Part Time Job\\Automation Codes\\Check GeoJSON\\Extract Shapefile\\05. PARUNG PANJANG - BUNAR\\WARNING LIGHT.shp\n",
      "Processing 'FAS PENYEBERANGAN' as Point geometry (second coordinates are missing or invalid)\n",
      "⚠️ Skipping 'FAS PENYEBERANGAN' (No valid geometry found)\n",
      "Processing 'APILL' as Point geometry (second coordinates are missing or invalid)\n",
      "✅ Saved: C:\\Users\\kanzi\\Documents\\Part Time Job\\Automation Codes\\Check GeoJSON\\Extract Shapefile\\05. PARUNG PANJANG - BUNAR\\APILL.shp\n",
      "⚠️ Skipping 'RAMBU PORTABLE' (No valid start coordinate columns found)\n",
      "⚠️ Skipping 'TRAFFIC CONE' (No valid start coordinate columns found)\n",
      "⚠️ Skipping 'WATER BARRIER' (No valid start coordinate columns found)\n",
      "Processing 'CERMIN TIKUNG' as Point geometry (second coordinates are missing or invalid)\n",
      "⚠️ Skipping 'CERMIN TIKUNG' (No valid geometry found)\n",
      "✓ Completed processing: 05. PARUNG PANJANG - BUNAR.xlsx\n",
      "\n",
      "[6/32] Processing: 06. Tanjung Pura - Batujaya.xlsx\n"
     ]
    },
    {
     "name": "stderr",
     "output_type": "stream",
     "text": [
      "c:\\Users\\kanzi\\AppData\\Local\\Programs\\Python\\Python312\\Lib\\site-packages\\openpyxl\\worksheet\\_reader.py:329: UserWarning: Conditional Formatting extension is not supported and will be removed\n",
      "  warn(msg)\n"
     ]
    },
    {
     "name": "stdout",
     "output_type": "stream",
     "text": [
      "Processing 'PJU' as Point geometry (second coordinates are missing or invalid)\n",
      "✅ Saved: C:\\Users\\kanzi\\Documents\\Part Time Job\\Automation Codes\\Check GeoJSON\\Extract Shapefile\\06. Tanjung Pura - Batujaya\\PJU.shp\n",
      "Processing 'RAMBU' as Point geometry (second coordinates are missing or invalid)\n",
      "✅ Saved: C:\\Users\\kanzi\\Documents\\Part Time Job\\Automation Codes\\Check GeoJSON\\Extract Shapefile\\06. Tanjung Pura - Batujaya\\RAMBU.shp\n",
      "Processing 'RPPJ' as Point geometry (second coordinates are missing or invalid)\n",
      "✅ Saved: C:\\Users\\kanzi\\Documents\\Part Time Job\\Automation Codes\\Check GeoJSON\\Extract Shapefile\\06. Tanjung Pura - Batujaya\\RPPJ.shp\n",
      "Processing 'PAGAR PENGAMAN' as LineString (both start and end coordinates contain valid data)\n",
      "✅ Saved: C:\\Users\\kanzi\\Documents\\Part Time Job\\Automation Codes\\Check GeoJSON\\Extract Shapefile\\06. Tanjung Pura - Batujaya\\PAGAR PENGAMAN.shp\n",
      "Processing 'MARKA' as LineString (both start and end coordinates contain valid data)\n",
      "✅ Saved: C:\\Users\\kanzi\\Documents\\Part Time Job\\Automation Codes\\Check GeoJSON\\Extract Shapefile\\06. Tanjung Pura - Batujaya\\MARKA.shp\n",
      "Processing 'WARNING LIGHT' as Point geometry (second coordinates are missing or invalid)\n",
      "✅ Saved: C:\\Users\\kanzi\\Documents\\Part Time Job\\Automation Codes\\Check GeoJSON\\Extract Shapefile\\06. Tanjung Pura - Batujaya\\WARNING LIGHT.shp\n",
      "Processing 'APILL' as Point geometry (second coordinates are missing or invalid)\n",
      "⚠️ Skipping 'APILL' (No valid geometry found)\n",
      "Processing 'ZOSS' as Point geometry (second coordinates are missing or invalid)\n",
      "⚠️ Skipping 'ZOSS' (No valid geometry found)\n",
      "Processing 'FAS PENYEBERANGAN' as Point geometry (second coordinates are missing or invalid)\n",
      "✅ Saved: C:\\Users\\kanzi\\Documents\\Part Time Job\\Automation Codes\\Check GeoJSON\\Extract Shapefile\\06. Tanjung Pura - Batujaya\\FAS PENYEBERANGAN.shp\n",
      "⚠️ Skipping 'RAMBU PORTABLE' (No valid start coordinate columns found)\n",
      "⚠️ Skipping 'TRAFFIC CONE' (No valid start coordinate columns found)\n",
      "⚠️ Skipping 'WATER BARRIER' (No valid start coordinate columns found)\n",
      "Processing 'CERMIN TIKUNG' as Point geometry (second coordinates are missing or invalid)\n",
      "⚠️ Skipping 'CERMIN TIKUNG' (No valid geometry found)\n",
      "✓ Completed processing: 06. Tanjung Pura - Batujaya.xlsx\n",
      "\n",
      "[7/32] Processing: 07. Kosambi - Bts. Karawang-Purwakarta (Curug).xlsx\n"
     ]
    },
    {
     "name": "stderr",
     "output_type": "stream",
     "text": [
      "c:\\Users\\kanzi\\AppData\\Local\\Programs\\Python\\Python312\\Lib\\site-packages\\openpyxl\\worksheet\\_reader.py:329: UserWarning: Conditional Formatting extension is not supported and will be removed\n",
      "  warn(msg)\n"
     ]
    },
    {
     "name": "stdout",
     "output_type": "stream",
     "text": [
      "Processing 'RAMBU' as Point geometry (second coordinates are missing or invalid)\n",
      "⚠️ Skipping 'RAMBU' (No valid geometry found)\n",
      "Processing 'PJU' as Point geometry (second coordinates are missing or invalid)\n",
      "✅ Saved: C:\\Users\\kanzi\\Documents\\Part Time Job\\Automation Codes\\Check GeoJSON\\Extract Shapefile\\07. Kosambi - Bts. Karawang-Purwakarta (Curug)\\PJU.shp\n",
      "Processing 'RPPJ' as Point geometry (second coordinates are missing or invalid)\n",
      "✅ Saved: C:\\Users\\kanzi\\Documents\\Part Time Job\\Automation Codes\\Check GeoJSON\\Extract Shapefile\\07. Kosambi - Bts. Karawang-Purwakarta (Curug)\\RPPJ.shp\n",
      "Processing 'PAGAR PENGAMAN' as LineString (both start and end coordinates contain valid data)\n",
      "✅ Saved: C:\\Users\\kanzi\\Documents\\Part Time Job\\Automation Codes\\Check GeoJSON\\Extract Shapefile\\07. Kosambi - Bts. Karawang-Purwakarta (Curug)\\PAGAR PENGAMAN.shp\n",
      "Processing 'MARKA' as Point geometry (second coordinates are missing or invalid)\n",
      "⚠️ Skipping 'MARKA' (No valid geometry found)\n",
      "Processing 'WARNING LIGHT' as Point geometry (second coordinates are missing or invalid)\n",
      "✅ Saved: C:\\Users\\kanzi\\Documents\\Part Time Job\\Automation Codes\\Check GeoJSON\\Extract Shapefile\\07. Kosambi - Bts. Karawang-Purwakarta (Curug)\\WARNING LIGHT.shp\n",
      "Processing 'APILL' as Point geometry (second coordinates are missing or invalid)\n",
      "✅ Saved: C:\\Users\\kanzi\\Documents\\Part Time Job\\Automation Codes\\Check GeoJSON\\Extract Shapefile\\07. Kosambi - Bts. Karawang-Purwakarta (Curug)\\APILL.shp\n",
      "Processing 'ZOSS' as Point geometry (second coordinates are missing or invalid)\n",
      "⚠️ Skipping 'ZOSS' (No valid geometry found)\n",
      "Processing 'FAS PENYEBERANGAN' as Point geometry (second coordinates are missing or invalid)\n",
      "✅ Saved: C:\\Users\\kanzi\\Documents\\Part Time Job\\Automation Codes\\Check GeoJSON\\Extract Shapefile\\07. Kosambi - Bts. Karawang-Purwakarta (Curug)\\FAS PENYEBERANGAN.shp\n",
      "⚠️ Skipping 'RAMBU PORTABLE' (No valid start coordinate columns found)\n",
      "⚠️ Skipping 'TRAFFIC CONE' (No valid start coordinate columns found)\n",
      "⚠️ Skipping 'WATER BARRIER' (No valid start coordinate columns found)\n",
      "Processing 'CERMIN TIKUNG' as Point geometry (second coordinates are missing or invalid)\n",
      "⚠️ Skipping 'CERMIN TIKUNG' (No valid geometry found)\n",
      "✓ Completed processing: 07. Kosambi - Bts. Karawang-Purwakarta (Curug).xlsx\n",
      "\n",
      "[8/32] Processing: BARU - Eksisting JALAN PERJUANGAN KOTA BEKASI.xlsx\n"
     ]
    },
    {
     "name": "stderr",
     "output_type": "stream",
     "text": [
      "c:\\Users\\kanzi\\AppData\\Local\\Programs\\Python\\Python312\\Lib\\site-packages\\openpyxl\\worksheet\\_reader.py:329: UserWarning: Conditional Formatting extension is not supported and will be removed\n",
      "  warn(msg)\n"
     ]
    },
    {
     "name": "stdout",
     "output_type": "stream",
     "text": [
      "Processing 'RAMBU (baru)' as Point geometry (second coordinates are missing or invalid)\n",
      "✅ Saved: C:\\Users\\kanzi\\Documents\\Part Time Job\\Automation Codes\\Check GeoJSON\\Extract Shapefile\\BARU - Eksisting JALAN PERJUANGAN KOTA BEKASI\\RAMBU (baru).shp\n",
      "Processing 'PJU' as Point geometry (second coordinates are missing or invalid)\n",
      "✅ Saved: C:\\Users\\kanzi\\Documents\\Part Time Job\\Automation Codes\\Check GeoJSON\\Extract Shapefile\\BARU - Eksisting JALAN PERJUANGAN KOTA BEKASI\\PJU.shp\n",
      "Processing 'RPPJ (baru)' as Point geometry (second coordinates are missing or invalid)\n",
      "✅ Saved: C:\\Users\\kanzi\\Documents\\Part Time Job\\Automation Codes\\Check GeoJSON\\Extract Shapefile\\BARU - Eksisting JALAN PERJUANGAN KOTA BEKASI\\RPPJ (baru).shp\n",
      "Processing 'PAGAR PENGAMAN' as Point geometry (second coordinates are missing or invalid)\n",
      "⚠️ Skipping 'PAGAR PENGAMAN' (No valid geometry found)\n",
      "Processing 'MARKA (baru)' as LineString (both start and end coordinates contain valid data)\n",
      "✅ Saved: C:\\Users\\kanzi\\Documents\\Part Time Job\\Automation Codes\\Check GeoJSON\\Extract Shapefile\\BARU - Eksisting JALAN PERJUANGAN KOTA BEKASI\\MARKA (baru).shp\n",
      "Processing 'WARNING LIGHT' as Point geometry (second coordinates are missing or invalid)\n",
      "✅ Saved: C:\\Users\\kanzi\\Documents\\Part Time Job\\Automation Codes\\Check GeoJSON\\Extract Shapefile\\BARU - Eksisting JALAN PERJUANGAN KOTA BEKASI\\WARNING LIGHT.shp\n",
      "Processing 'APILL' as Point geometry (second coordinates are missing or invalid)\n",
      "✅ Saved: C:\\Users\\kanzi\\Documents\\Part Time Job\\Automation Codes\\Check GeoJSON\\Extract Shapefile\\BARU - Eksisting JALAN PERJUANGAN KOTA BEKASI\\APILL.shp\n",
      "Processing 'ZOSS' as Point geometry (second coordinates are missing or invalid)\n",
      "⚠️ Skipping 'ZOSS' (No valid geometry found)\n",
      "Processing 'FAS PENYEBERANGAN' as Point geometry (second coordinates are missing or invalid)\n",
      "⚠️ Skipping 'FAS PENYEBERANGAN' (No valid geometry found)\n",
      "⚠️ Skipping 'RAMBU PORTABLE (baru)' (No valid start coordinate columns found)\n",
      "⚠️ Skipping 'TRAFFIC CONE' (No valid start coordinate columns found)\n",
      "⚠️ Skipping 'WATER BARRIER' (No valid start coordinate columns found)\n",
      "Processing 'CERMIN TIKUNG' as Point geometry (second coordinates are missing or invalid)\n",
      "⚠️ Skipping 'CERMIN TIKUNG' (No valid geometry found)\n",
      "✓ Completed processing: BARU - Eksisting JALAN PERJUANGAN KOTA BEKASI.xlsx\n",
      "\n",
      "[9/32] Processing: BARU - Eksisting JUANDA KOTA BEKASI.xlsx\n"
     ]
    },
    {
     "name": "stderr",
     "output_type": "stream",
     "text": [
      "c:\\Users\\kanzi\\AppData\\Local\\Programs\\Python\\Python312\\Lib\\site-packages\\openpyxl\\worksheet\\_reader.py:329: UserWarning: Conditional Formatting extension is not supported and will be removed\n",
      "  warn(msg)\n"
     ]
    },
    {
     "name": "stdout",
     "output_type": "stream",
     "text": [
      "Processing 'RAMBU (baru)' as Point geometry (second coordinates are missing or invalid)\n",
      "✅ Saved: C:\\Users\\kanzi\\Documents\\Part Time Job\\Automation Codes\\Check GeoJSON\\Extract Shapefile\\BARU - Eksisting JUANDA KOTA BEKASI\\RAMBU (baru).shp\n",
      "Processing 'PJU' as Point geometry (second coordinates are missing or invalid)\n",
      "✅ Saved: C:\\Users\\kanzi\\Documents\\Part Time Job\\Automation Codes\\Check GeoJSON\\Extract Shapefile\\BARU - Eksisting JUANDA KOTA BEKASI\\PJU.shp\n",
      "Processing 'RPPJ (baru)' as Point geometry (second coordinates are missing or invalid)\n",
      "✅ Saved: C:\\Users\\kanzi\\Documents\\Part Time Job\\Automation Codes\\Check GeoJSON\\Extract Shapefile\\BARU - Eksisting JUANDA KOTA BEKASI\\RPPJ (baru).shp\n",
      "Processing 'PAGAR PENGAMAN' as Point geometry (second coordinates are missing or invalid)\n",
      "⚠️ Skipping 'PAGAR PENGAMAN' (No valid geometry found)\n",
      "Processing 'MARKA (baru)' as Point geometry (second coordinates are missing or invalid)\n",
      "✅ Saved: C:\\Users\\kanzi\\Documents\\Part Time Job\\Automation Codes\\Check GeoJSON\\Extract Shapefile\\BARU - Eksisting JUANDA KOTA BEKASI\\MARKA (baru).shp\n",
      "Processing 'WARNING LIGHT' as Point geometry (second coordinates are missing or invalid)\n",
      "⚠️ Skipping 'WARNING LIGHT' (No valid geometry found)\n",
      "Processing 'APILL' as Point geometry (second coordinates are missing or invalid)\n",
      "✅ Saved: C:\\Users\\kanzi\\Documents\\Part Time Job\\Automation Codes\\Check GeoJSON\\Extract Shapefile\\BARU - Eksisting JUANDA KOTA BEKASI\\APILL.shp\n",
      "Processing 'ZOSS' as Point geometry (second coordinates are missing or invalid)\n",
      "⚠️ Skipping 'ZOSS' (No valid geometry found)\n",
      "Processing 'FAS PENYEBERANGAN' as Point geometry (second coordinates are missing or invalid)\n",
      "✅ Saved: C:\\Users\\kanzi\\Documents\\Part Time Job\\Automation Codes\\Check GeoJSON\\Extract Shapefile\\BARU - Eksisting JUANDA KOTA BEKASI\\FAS PENYEBERANGAN.shp\n",
      "⚠️ Skipping 'RAMBU PORTABLE (baru)' (No valid start coordinate columns found)\n",
      "⚠️ Skipping 'TRAFFIC CONE' (No valid start coordinate columns found)\n",
      "⚠️ Skipping 'WATER BARRIER' (No valid start coordinate columns found)\n",
      "Processing 'CERMIN TIKUNG' as Point geometry (second coordinates are missing or invalid)\n",
      "⚠️ Skipping 'CERMIN TIKUNG' (No valid geometry found)\n",
      "✓ Completed processing: BARU - Eksisting JUANDA KOTA BEKASI.xlsx\n",
      "\n",
      "[10/32] Processing: BARU - Eksisting KARTINI KOTA BEKASI.xlsx\n"
     ]
    },
    {
     "name": "stderr",
     "output_type": "stream",
     "text": [
      "c:\\Users\\kanzi\\AppData\\Local\\Programs\\Python\\Python312\\Lib\\site-packages\\openpyxl\\worksheet\\_reader.py:329: UserWarning: Conditional Formatting extension is not supported and will be removed\n",
      "  warn(msg)\n"
     ]
    },
    {
     "name": "stdout",
     "output_type": "stream",
     "text": [
      "Processing 'RAMBU (baru)' as Point geometry (second coordinates are missing or invalid)\n",
      "✅ Saved: C:\\Users\\kanzi\\Documents\\Part Time Job\\Automation Codes\\Check GeoJSON\\Extract Shapefile\\BARU - Eksisting KARTINI KOTA BEKASI\\RAMBU (baru).shp\n",
      "Processing 'PJU' as Point geometry (second coordinates are missing or invalid)\n",
      "✅ Saved: C:\\Users\\kanzi\\Documents\\Part Time Job\\Automation Codes\\Check GeoJSON\\Extract Shapefile\\BARU - Eksisting KARTINI KOTA BEKASI\\PJU.shp\n",
      "Processing 'RPPJ (baru)' as Point geometry (second coordinates are missing or invalid)\n",
      "✅ Saved: C:\\Users\\kanzi\\Documents\\Part Time Job\\Automation Codes\\Check GeoJSON\\Extract Shapefile\\BARU - Eksisting KARTINI KOTA BEKASI\\RPPJ (baru).shp\n",
      "Processing 'PAGAR PENGAMAN' as Point geometry (second coordinates are missing or invalid)\n",
      "⚠️ Skipping 'PAGAR PENGAMAN' (No valid geometry found)\n",
      "Processing 'MARKA (baru)' as LineString (both start and end coordinates contain valid data)\n",
      "✅ Saved: C:\\Users\\kanzi\\Documents\\Part Time Job\\Automation Codes\\Check GeoJSON\\Extract Shapefile\\BARU - Eksisting KARTINI KOTA BEKASI\\MARKA (baru).shp\n",
      "Processing 'WARNING LIGHT' as Point geometry (second coordinates are missing or invalid)\n",
      "⚠️ Skipping 'WARNING LIGHT' (No valid geometry found)\n",
      "Processing 'APILL' as Point geometry (second coordinates are missing or invalid)\n",
      "✅ Saved: C:\\Users\\kanzi\\Documents\\Part Time Job\\Automation Codes\\Check GeoJSON\\Extract Shapefile\\BARU - Eksisting KARTINI KOTA BEKASI\\APILL.shp\n",
      "Processing 'ZOSS' as Point geometry (second coordinates are missing or invalid)\n",
      "⚠️ Skipping 'ZOSS' (No valid geometry found)\n",
      "Processing 'FAS PENYEBERANGAN' as Point geometry (second coordinates are missing or invalid)\n",
      "✅ Saved: C:\\Users\\kanzi\\Documents\\Part Time Job\\Automation Codes\\Check GeoJSON\\Extract Shapefile\\BARU - Eksisting KARTINI KOTA BEKASI\\FAS PENYEBERANGAN.shp\n",
      "⚠️ Skipping 'RAMBU PORTABLE (baru)' (No valid start coordinate columns found)\n",
      "⚠️ Skipping 'TRAFFIC CONE' (No valid start coordinate columns found)\n",
      "⚠️ Skipping 'WATER BARRIER' (No valid start coordinate columns found)\n",
      "Processing 'CERMIN TIKUNG' as Point geometry (second coordinates are missing or invalid)\n",
      "⚠️ Skipping 'CERMIN TIKUNG' (No valid geometry found)\n",
      "✓ Completed processing: BARU - Eksisting KARTINI KOTA BEKASI.xlsx\n",
      "\n",
      "[11/32] Processing: BARU - Eksisting PALUMBONSARI KABUPATENG KARAWANG.xlsx\n"
     ]
    },
    {
     "name": "stderr",
     "output_type": "stream",
     "text": [
      "c:\\Users\\kanzi\\AppData\\Local\\Programs\\Python\\Python312\\Lib\\site-packages\\openpyxl\\worksheet\\_reader.py:329: UserWarning: Conditional Formatting extension is not supported and will be removed\n",
      "  warn(msg)\n"
     ]
    },
    {
     "name": "stdout",
     "output_type": "stream",
     "text": [
      "Processing 'RAMBU (baru)' as Point geometry (second coordinates are missing or invalid)\n",
      "✅ Saved: C:\\Users\\kanzi\\Documents\\Part Time Job\\Automation Codes\\Check GeoJSON\\Extract Shapefile\\BARU - Eksisting PALUMBONSARI KABUPATENG KARAWANG\\RAMBU (baru).shp\n",
      "Processing 'PJU' as Point geometry (second coordinates are missing or invalid)\n",
      "✅ Saved: C:\\Users\\kanzi\\Documents\\Part Time Job\\Automation Codes\\Check GeoJSON\\Extract Shapefile\\BARU - Eksisting PALUMBONSARI KABUPATENG KARAWANG\\PJU.shp\n",
      "Processing 'RPPJ (baru)' as Point geometry (second coordinates are missing or invalid)\n",
      "✅ Saved: C:\\Users\\kanzi\\Documents\\Part Time Job\\Automation Codes\\Check GeoJSON\\Extract Shapefile\\BARU - Eksisting PALUMBONSARI KABUPATENG KARAWANG\\RPPJ (baru).shp\n",
      "Processing 'PAGAR PENGAMAN' as Point geometry (second coordinates are missing or invalid)\n",
      "✅ Saved: C:\\Users\\kanzi\\Documents\\Part Time Job\\Automation Codes\\Check GeoJSON\\Extract Shapefile\\BARU - Eksisting PALUMBONSARI KABUPATENG KARAWANG\\PAGAR PENGAMAN.shp\n",
      "Processing 'MARKA (baru)' as Point geometry (second coordinates are missing or invalid)\n",
      "✅ Saved: C:\\Users\\kanzi\\Documents\\Part Time Job\\Automation Codes\\Check GeoJSON\\Extract Shapefile\\BARU - Eksisting PALUMBONSARI KABUPATENG KARAWANG\\MARKA (baru).shp\n",
      "Processing 'WARNING LIGHT' as Point geometry (second coordinates are missing or invalid)\n",
      "✅ Saved: C:\\Users\\kanzi\\Documents\\Part Time Job\\Automation Codes\\Check GeoJSON\\Extract Shapefile\\BARU - Eksisting PALUMBONSARI KABUPATENG KARAWANG\\WARNING LIGHT.shp\n",
      "Processing 'APILL' as Point geometry (second coordinates are missing or invalid)\n",
      "✅ Saved: C:\\Users\\kanzi\\Documents\\Part Time Job\\Automation Codes\\Check GeoJSON\\Extract Shapefile\\BARU - Eksisting PALUMBONSARI KABUPATENG KARAWANG\\APILL.shp\n",
      "Processing 'ZOSS' as Point geometry (second coordinates are missing or invalid)\n",
      "⚠️ Skipping 'ZOSS' (No valid geometry found)\n",
      "Processing 'FAS PENYEBERANGAN' as Point geometry (second coordinates are missing or invalid)\n",
      "✅ Saved: C:\\Users\\kanzi\\Documents\\Part Time Job\\Automation Codes\\Check GeoJSON\\Extract Shapefile\\BARU - Eksisting PALUMBONSARI KABUPATENG KARAWANG\\FAS PENYEBERANGAN.shp\n",
      "⚠️ Skipping 'RAMBU PORTABLE (baru)' (No valid start coordinate columns found)\n",
      "⚠️ Skipping 'TRAFFIC CONE' (No valid start coordinate columns found)\n",
      "⚠️ Skipping 'WATER BARRIER' (No valid start coordinate columns found)\n",
      "Processing 'CERMIN TIKUNG' as Point geometry (second coordinates are missing or invalid)\n",
      "⚠️ Skipping 'CERMIN TIKUNG' (No valid geometry found)\n",
      "✓ Completed processing: BARU - Eksisting PALUMBONSARI KABUPATENG KARAWANG.xlsx\n",
      "\n",
      "[12/32] Processing: Format Baru 1.A. Jl. Proklamasi Krw.xlsx\n"
     ]
    },
    {
     "name": "stderr",
     "output_type": "stream",
     "text": [
      "c:\\Users\\kanzi\\AppData\\Local\\Programs\\Python\\Python312\\Lib\\site-packages\\openpyxl\\worksheet\\_reader.py:329: UserWarning: Conditional Formatting extension is not supported and will be removed\n",
      "  warn(msg)\n"
     ]
    },
    {
     "name": "stdout",
     "output_type": "stream",
     "text": [
      "Processing 'PJU' as Point geometry (second coordinates are missing or invalid)\n",
      "✅ Saved: C:\\Users\\kanzi\\Documents\\Part Time Job\\Automation Codes\\Check GeoJSON\\Extract Shapefile\\Format Baru 1.A. Jl. Proklamasi Krw\\PJU.shp\n",
      "Processing 'RAMBU' as Point geometry (second coordinates are missing or invalid)\n",
      "✅ Saved: C:\\Users\\kanzi\\Documents\\Part Time Job\\Automation Codes\\Check GeoJSON\\Extract Shapefile\\Format Baru 1.A. Jl. Proklamasi Krw\\RAMBU.shp\n",
      "Processing 'RPPJ' as Point geometry (second coordinates are missing or invalid)\n",
      "✅ Saved: C:\\Users\\kanzi\\Documents\\Part Time Job\\Automation Codes\\Check GeoJSON\\Extract Shapefile\\Format Baru 1.A. Jl. Proklamasi Krw\\RPPJ.shp\n",
      "Processing 'PAGAR PENGAMAN' as Point geometry (second coordinates are missing or invalid)\n",
      "⚠️ Skipping 'PAGAR PENGAMAN' (No valid geometry found)\n",
      "Processing 'MARKA' as Point geometry (second coordinates are missing or invalid)\n",
      "✅ Saved: C:\\Users\\kanzi\\Documents\\Part Time Job\\Automation Codes\\Check GeoJSON\\Extract Shapefile\\Format Baru 1.A. Jl. Proklamasi Krw\\MARKA.shp\n",
      "Processing 'WARNING LIGHT' as Point geometry (second coordinates are missing or invalid)\n",
      "✅ Saved: C:\\Users\\kanzi\\Documents\\Part Time Job\\Automation Codes\\Check GeoJSON\\Extract Shapefile\\Format Baru 1.A. Jl. Proklamasi Krw\\WARNING LIGHT.shp\n",
      "Processing 'APILL' as Point geometry (second coordinates are missing or invalid)\n",
      "✅ Saved: C:\\Users\\kanzi\\Documents\\Part Time Job\\Automation Codes\\Check GeoJSON\\Extract Shapefile\\Format Baru 1.A. Jl. Proklamasi Krw\\APILL.shp\n",
      "Processing 'ZOSS' as Point geometry (second coordinates are missing or invalid)\n",
      "⚠️ Skipping 'ZOSS' (No valid geometry found)\n",
      "Processing 'FAS PENYEBERANGAN' as Point geometry (second coordinates are missing or invalid)\n",
      "✅ Saved: C:\\Users\\kanzi\\Documents\\Part Time Job\\Automation Codes\\Check GeoJSON\\Extract Shapefile\\Format Baru 1.A. Jl. Proklamasi Krw\\FAS PENYEBERANGAN.shp\n",
      "⚠️ Skipping 'RAMBU PORTABLE' (No valid start coordinate columns found)\n",
      "⚠️ Skipping 'TRAFFIC CONE' (No valid start coordinate columns found)\n",
      "⚠️ Skipping 'WATER BARRIER' (No valid start coordinate columns found)\n",
      "Processing 'CERMIN TIKUNG' as Point geometry (second coordinates are missing or invalid)\n",
      "⚠️ Skipping 'CERMIN TIKUNG' (No valid geometry found)\n",
      "✓ Completed processing: Format Baru 1.A. Jl. Proklamasi Krw.xlsx\n",
      "\n",
      "[13/32] Processing: Format Baru 13.A. Jl. Letkol Eddie Soekardi (Kota Sukabumi).xlsx\n"
     ]
    },
    {
     "name": "stderr",
     "output_type": "stream",
     "text": [
      "c:\\Users\\kanzi\\AppData\\Local\\Programs\\Python\\Python312\\Lib\\site-packages\\openpyxl\\worksheet\\_reader.py:329: UserWarning: Conditional Formatting extension is not supported and will be removed\n",
      "  warn(msg)\n"
     ]
    },
    {
     "name": "stdout",
     "output_type": "stream",
     "text": [
      "Processing 'RAMBU' as Point geometry (second coordinates are missing or invalid)\n",
      "✅ Saved: C:\\Users\\kanzi\\Documents\\Part Time Job\\Automation Codes\\Check GeoJSON\\Extract Shapefile\\Format Baru 13.A. Jl. Letkol Eddie Soekardi (Kota Sukabumi)\\RAMBU.shp\n",
      "Processing 'PJU' as Point geometry (second coordinates are missing or invalid)\n",
      "✅ Saved: C:\\Users\\kanzi\\Documents\\Part Time Job\\Automation Codes\\Check GeoJSON\\Extract Shapefile\\Format Baru 13.A. Jl. Letkol Eddie Soekardi (Kota Sukabumi)\\PJU.shp\n",
      "Processing 'RPPJ' as Point geometry (second coordinates are missing or invalid)\n",
      "✅ Saved: C:\\Users\\kanzi\\Documents\\Part Time Job\\Automation Codes\\Check GeoJSON\\Extract Shapefile\\Format Baru 13.A. Jl. Letkol Eddie Soekardi (Kota Sukabumi)\\RPPJ.shp\n",
      "Processing 'PAGAR PENGAMAN' as LineString (both start and end coordinates contain valid data)\n",
      "✅ Saved: C:\\Users\\kanzi\\Documents\\Part Time Job\\Automation Codes\\Check GeoJSON\\Extract Shapefile\\Format Baru 13.A. Jl. Letkol Eddie Soekardi (Kota Sukabumi)\\PAGAR PENGAMAN.shp\n",
      "Processing 'MARKA' as LineString (both start and end coordinates contain valid data)\n",
      "✅ Saved: C:\\Users\\kanzi\\Documents\\Part Time Job\\Automation Codes\\Check GeoJSON\\Extract Shapefile\\Format Baru 13.A. Jl. Letkol Eddie Soekardi (Kota Sukabumi)\\MARKA.shp\n",
      "Processing 'WARNING LIGHT' as Point geometry (second coordinates are missing or invalid)\n",
      "✅ Saved: C:\\Users\\kanzi\\Documents\\Part Time Job\\Automation Codes\\Check GeoJSON\\Extract Shapefile\\Format Baru 13.A. Jl. Letkol Eddie Soekardi (Kota Sukabumi)\\WARNING LIGHT.shp\n",
      "Processing 'APILL' as Point geometry (second coordinates are missing or invalid)\n",
      "✅ Saved: C:\\Users\\kanzi\\Documents\\Part Time Job\\Automation Codes\\Check GeoJSON\\Extract Shapefile\\Format Baru 13.A. Jl. Letkol Eddie Soekardi (Kota Sukabumi)\\APILL.shp\n",
      "Processing 'ZOSS' as Point geometry (second coordinates are missing or invalid)\n",
      "⚠️ Skipping 'ZOSS' (No valid geometry found)\n",
      "Processing 'FAS PENYEBERANGAN' as Point geometry (second coordinates are missing or invalid)\n",
      "✅ Saved: C:\\Users\\kanzi\\Documents\\Part Time Job\\Automation Codes\\Check GeoJSON\\Extract Shapefile\\Format Baru 13.A. Jl. Letkol Eddie Soekardi (Kota Sukabumi)\\FAS PENYEBERANGAN.shp\n",
      "⚠️ Skipping 'RAMBU PORTABLE' (No valid start coordinate columns found)\n",
      "⚠️ Skipping 'TRAFFIC CONE' (No valid start coordinate columns found)\n",
      "⚠️ Skipping 'WATER BARRIER' (No valid start coordinate columns found)\n",
      "Processing 'CERMIN TIKUNG' as Point geometry (second coordinates are missing or invalid)\n",
      "⚠️ Skipping 'CERMIN TIKUNG' (No valid geometry found)\n",
      "✓ Completed processing: Format Baru 13.A. Jl. Letkol Eddie Soekardi (Kota Sukabumi).xlsx\n",
      "\n",
      "[14/32] Processing: Format Baru 22.A. Sukabumi - Cikembar.xlsx\n"
     ]
    },
    {
     "name": "stderr",
     "output_type": "stream",
     "text": [
      "c:\\Users\\kanzi\\AppData\\Local\\Programs\\Python\\Python312\\Lib\\site-packages\\openpyxl\\worksheet\\_reader.py:329: UserWarning: Conditional Formatting extension is not supported and will be removed\n",
      "  warn(msg)\n"
     ]
    },
    {
     "name": "stdout",
     "output_type": "stream",
     "text": [
      "Processing 'RAMBU' as Point geometry (second coordinates are missing or invalid)\n",
      "✅ Saved: C:\\Users\\kanzi\\Documents\\Part Time Job\\Automation Codes\\Check GeoJSON\\Extract Shapefile\\Format Baru 22.A. Sukabumi - Cikembar\\RAMBU.shp\n",
      "Processing 'PJU' as Point geometry (second coordinates are missing or invalid)\n",
      "⚠️ Skipping 'PJU' (No valid geometry found)\n",
      "Processing 'RPPJ' as Point geometry (second coordinates are missing or invalid)\n",
      "⚠️ Skipping 'RPPJ' (No valid geometry found)\n",
      "Processing 'PAGAR PENGAMAN' as Point geometry (second coordinates are missing or invalid)\n",
      "⚠️ Skipping 'PAGAR PENGAMAN' (No valid geometry found)\n",
      "Processing 'MARKA' as Point geometry (second coordinates are missing or invalid)\n",
      "⚠️ Skipping 'MARKA' (No valid geometry found)\n",
      "Processing 'WARNING LIGHT' as Point geometry (second coordinates are missing or invalid)\n",
      "⚠️ Skipping 'WARNING LIGHT' (No valid geometry found)\n",
      "Processing 'APILL' as Point geometry (second coordinates are missing or invalid)\n",
      "⚠️ Skipping 'APILL' (No valid geometry found)\n",
      "Processing 'ZOSS' as Point geometry (second coordinates are missing or invalid)\n",
      "⚠️ Skipping 'ZOSS' (No valid geometry found)\n",
      "Processing 'FAS PENYEBERANGAN' as Point geometry (second coordinates are missing or invalid)\n",
      "⚠️ Skipping 'FAS PENYEBERANGAN' (No valid geometry found)\n",
      "⚠️ Skipping 'RAMBU PORTABLE' (No valid start coordinate columns found)\n",
      "⚠️ Skipping 'TRAFFIC CONE' (No valid start coordinate columns found)\n",
      "⚠️ Skipping 'WATER BARRIER' (No valid start coordinate columns found)\n",
      "Processing 'CERMIN TIKUNG' as Point geometry (second coordinates are missing or invalid)\n",
      "⚠️ Skipping 'CERMIN TIKUNG' (No valid geometry found)\n",
      "✓ Completed processing: Format Baru 22.A. Sukabumi - Cikembar.xlsx\n",
      "\n",
      "[15/32] Processing: Format Baru 23.A. Cikembar-Cikembang.xlsx\n"
     ]
    },
    {
     "name": "stderr",
     "output_type": "stream",
     "text": [
      "c:\\Users\\kanzi\\AppData\\Local\\Programs\\Python\\Python312\\Lib\\site-packages\\openpyxl\\worksheet\\_reader.py:329: UserWarning: Conditional Formatting extension is not supported and will be removed\n",
      "  warn(msg)\n"
     ]
    },
    {
     "name": "stdout",
     "output_type": "stream",
     "text": [
      "Processing 'RAMBU' as Point geometry (second coordinates are missing or invalid)\n",
      "✅ Saved: C:\\Users\\kanzi\\Documents\\Part Time Job\\Automation Codes\\Check GeoJSON\\Extract Shapefile\\Format Baru 23.A. Cikembar-Cikembang\\RAMBU.shp\n",
      "Processing 'PJU' as Point geometry (second coordinates are missing or invalid)\n",
      "✅ Saved: C:\\Users\\kanzi\\Documents\\Part Time Job\\Automation Codes\\Check GeoJSON\\Extract Shapefile\\Format Baru 23.A. Cikembar-Cikembang\\PJU.shp\n",
      "Processing 'RPPJ' as Point geometry (second coordinates are missing or invalid)\n",
      "✅ Saved: C:\\Users\\kanzi\\Documents\\Part Time Job\\Automation Codes\\Check GeoJSON\\Extract Shapefile\\Format Baru 23.A. Cikembar-Cikembang\\RPPJ.shp\n",
      "Processing 'PAGAR PENGAMAN' as LineString (both start and end coordinates contain valid data)\n",
      "✅ Saved: C:\\Users\\kanzi\\Documents\\Part Time Job\\Automation Codes\\Check GeoJSON\\Extract Shapefile\\Format Baru 23.A. Cikembar-Cikembang\\PAGAR PENGAMAN.shp\n",
      "Processing 'MARKA' as LineString (both start and end coordinates contain valid data)\n",
      "✅ Saved: C:\\Users\\kanzi\\Documents\\Part Time Job\\Automation Codes\\Check GeoJSON\\Extract Shapefile\\Format Baru 23.A. Cikembar-Cikembang\\MARKA.shp\n",
      "Processing 'WARNING LIGHT' as Point geometry (second coordinates are missing or invalid)\n",
      "⚠️ Skipping 'WARNING LIGHT' (No valid geometry found)\n",
      "Processing 'APILL' as Point geometry (second coordinates are missing or invalid)\n",
      "⚠️ Skipping 'APILL' (No valid geometry found)\n",
      "Processing 'ZOSS' as Point geometry (second coordinates are missing or invalid)\n",
      "⚠️ Skipping 'ZOSS' (No valid geometry found)\n",
      "Processing 'FAS PENYEBERANGAN' as Point geometry (second coordinates are missing or invalid)\n",
      "✅ Saved: C:\\Users\\kanzi\\Documents\\Part Time Job\\Automation Codes\\Check GeoJSON\\Extract Shapefile\\Format Baru 23.A. Cikembar-Cikembang\\FAS PENYEBERANGAN.shp\n",
      "⚠️ Skipping 'RAMBU PORTABLE' (No valid start coordinate columns found)\n",
      "⚠️ Skipping 'TRAFFIC CONE' (No valid start coordinate columns found)\n",
      "⚠️ Skipping 'WATER BARRIER' (No valid start coordinate columns found)\n",
      "Processing 'CERMIN TIKUNG' as Point geometry (second coordinates are missing or invalid)\n",
      "⚠️ Skipping 'CERMIN TIKUNG' (No valid geometry found)\n",
      "✓ Completed processing: Format Baru 23.A. Cikembar-Cikembang.xlsx\n",
      "\n",
      "[16/32] Processing: Format Baru 26.A. Sp. Surade - Ujunggenteng.xlsx\n"
     ]
    },
    {
     "name": "stderr",
     "output_type": "stream",
     "text": [
      "c:\\Users\\kanzi\\AppData\\Local\\Programs\\Python\\Python312\\Lib\\site-packages\\openpyxl\\worksheet\\_reader.py:329: UserWarning: Conditional Formatting extension is not supported and will be removed\n",
      "  warn(msg)\n"
     ]
    },
    {
     "name": "stdout",
     "output_type": "stream",
     "text": [
      "Processing 'RAMBU' as Point geometry (second coordinates are missing or invalid)\n",
      "✅ Saved: C:\\Users\\kanzi\\Documents\\Part Time Job\\Automation Codes\\Check GeoJSON\\Extract Shapefile\\Format Baru 26.A. Sp. Surade - Ujunggenteng\\RAMBU.shp\n",
      "Processing 'PJU' as Point geometry (second coordinates are missing or invalid)\n",
      "✅ Saved: C:\\Users\\kanzi\\Documents\\Part Time Job\\Automation Codes\\Check GeoJSON\\Extract Shapefile\\Format Baru 26.A. Sp. Surade - Ujunggenteng\\PJU.shp\n",
      "Processing 'RPPJ' as Point geometry (second coordinates are missing or invalid)\n",
      "✅ Saved: C:\\Users\\kanzi\\Documents\\Part Time Job\\Automation Codes\\Check GeoJSON\\Extract Shapefile\\Format Baru 26.A. Sp. Surade - Ujunggenteng\\RPPJ.shp\n",
      "Processing 'PAGAR PENGAMAN' as Point geometry (second coordinates are missing or invalid)\n",
      "⚠️ Skipping 'PAGAR PENGAMAN' (No valid geometry found)\n",
      "Processing 'MARKA' as Point geometry (second coordinates are missing or invalid)\n",
      "⚠️ Skipping 'MARKA' (No valid geometry found)\n",
      "Processing 'WARNING LIGHT' as Point geometry (second coordinates are missing or invalid)\n",
      "✅ Saved: C:\\Users\\kanzi\\Documents\\Part Time Job\\Automation Codes\\Check GeoJSON\\Extract Shapefile\\Format Baru 26.A. Sp. Surade - Ujunggenteng\\WARNING LIGHT.shp\n",
      "Processing 'APILL' as Point geometry (second coordinates are missing or invalid)\n",
      "⚠️ Skipping 'APILL' (No valid geometry found)\n",
      "Processing 'ZOSS' as Point geometry (second coordinates are missing or invalid)\n",
      "⚠️ Skipping 'ZOSS' (No valid geometry found)\n",
      "Processing 'FAS PENYEBERANGAN' as Point geometry (second coordinates are missing or invalid)\n",
      "✅ Saved: C:\\Users\\kanzi\\Documents\\Part Time Job\\Automation Codes\\Check GeoJSON\\Extract Shapefile\\Format Baru 26.A. Sp. Surade - Ujunggenteng\\FAS PENYEBERANGAN.shp\n",
      "⚠️ Skipping 'RAMBU PORTABLE' (No valid start coordinate columns found)\n",
      "⚠️ Skipping 'TRAFFIC CONE' (No valid start coordinate columns found)\n",
      "⚠️ Skipping 'WATER BARRIER' (No valid start coordinate columns found)\n",
      "Processing 'CERMIN TIKUNG' as Point geometry (second coordinates are missing or invalid)\n",
      "⚠️ Skipping 'CERMIN TIKUNG' (No valid geometry found)\n",
      "✓ Completed processing: Format Baru 26.A. Sp. Surade - Ujunggenteng.xlsx\n",
      "\n",
      "[17/32] Processing: Format Baru 28.A. Cibadak - Cikidang - Pelabuhan Ratu.xlsx\n"
     ]
    },
    {
     "name": "stderr",
     "output_type": "stream",
     "text": [
      "c:\\Users\\kanzi\\AppData\\Local\\Programs\\Python\\Python312\\Lib\\site-packages\\openpyxl\\worksheet\\_reader.py:329: UserWarning: Conditional Formatting extension is not supported and will be removed\n",
      "  warn(msg)\n"
     ]
    },
    {
     "name": "stdout",
     "output_type": "stream",
     "text": [
      "Processing 'RAMBU' as Point geometry (second coordinates are missing or invalid)\n",
      "✅ Saved: C:\\Users\\kanzi\\Documents\\Part Time Job\\Automation Codes\\Check GeoJSON\\Extract Shapefile\\Format Baru 28.A. Cibadak - Cikidang - Pelabuhan Ratu\\RAMBU.shp\n",
      "Processing 'PJU' as Point geometry (second coordinates are missing or invalid)\n",
      "✅ Saved: C:\\Users\\kanzi\\Documents\\Part Time Job\\Automation Codes\\Check GeoJSON\\Extract Shapefile\\Format Baru 28.A. Cibadak - Cikidang - Pelabuhan Ratu\\PJU.shp\n",
      "Processing 'RPPJ' as Point geometry (second coordinates are missing or invalid)\n"
     ]
    },
    {
     "name": "stderr",
     "output_type": "stream",
     "text": [
      "c:\\Users\\kanzi\\AppData\\Local\\Programs\\Python\\Python312\\Lib\\site-packages\\pyogrio\\raw.py:723: RuntimeWarning: Value 1066545922 of field Column_20 of feature 83 not successfully written. Possibly due to too larger number with respect to field width\n",
      "  ogr_write(\n"
     ]
    },
    {
     "name": "stdout",
     "output_type": "stream",
     "text": [
      "✅ Saved: C:\\Users\\kanzi\\Documents\\Part Time Job\\Automation Codes\\Check GeoJSON\\Extract Shapefile\\Format Baru 28.A. Cibadak - Cikidang - Pelabuhan Ratu\\RPPJ.shp\n",
      "Processing 'PAGAR PENGAMAN' as LineString (both start and end coordinates contain valid data)\n",
      "✅ Saved: C:\\Users\\kanzi\\Documents\\Part Time Job\\Automation Codes\\Check GeoJSON\\Extract Shapefile\\Format Baru 28.A. Cibadak - Cikidang - Pelabuhan Ratu\\PAGAR PENGAMAN.shp\n",
      "Processing 'MARKA' as Point geometry (second coordinates are missing or invalid)\n",
      "✅ Saved: C:\\Users\\kanzi\\Documents\\Part Time Job\\Automation Codes\\Check GeoJSON\\Extract Shapefile\\Format Baru 28.A. Cibadak - Cikidang - Pelabuhan Ratu\\MARKA.shp\n",
      "Processing 'WARNING LIGHT' as Point geometry (second coordinates are missing or invalid)\n",
      "⚠️ Skipping 'WARNING LIGHT' (No valid geometry found)\n",
      "Processing 'APILL' as Point geometry (second coordinates are missing or invalid)\n",
      "⚠️ Skipping 'APILL' (No valid geometry found)\n",
      "Processing 'ZOSS' as Point geometry (second coordinates are missing or invalid)\n",
      "✅ Saved: C:\\Users\\kanzi\\Documents\\Part Time Job\\Automation Codes\\Check GeoJSON\\Extract Shapefile\\Format Baru 28.A. Cibadak - Cikidang - Pelabuhan Ratu\\ZOSS.shp\n",
      "Processing 'FAS PENYEBERANGAN' as Point geometry (second coordinates are missing or invalid)\n",
      "⚠️ Skipping 'FAS PENYEBERANGAN' (No valid geometry found)\n",
      "⚠️ Skipping 'RAMBU PORTABLE' (No valid start coordinate columns found)\n",
      "⚠️ Skipping 'TRAFFIC CONE' (No valid start coordinate columns found)\n",
      "⚠️ Skipping 'WATER BARRIER' (No valid start coordinate columns found)\n",
      "Processing 'CERMIN TIKUNG' as Point geometry (second coordinates are missing or invalid)\n",
      "✅ Saved: C:\\Users\\kanzi\\Documents\\Part Time Job\\Automation Codes\\Check GeoJSON\\Extract Shapefile\\Format Baru 28.A. Cibadak - Cikidang - Pelabuhan Ratu\\CERMIN TIKUNG.shp\n",
      "✓ Completed processing: Format Baru 28.A. Cibadak - Cikidang - Pelabuhan Ratu.xlsx\n",
      "\n",
      "[18/32] Processing: Format Baru 29.A. Sp. Karanghawu - Bts. Prov. Banten (Cikotok).xlsx\n"
     ]
    },
    {
     "name": "stderr",
     "output_type": "stream",
     "text": [
      "c:\\Users\\kanzi\\AppData\\Local\\Programs\\Python\\Python312\\Lib\\site-packages\\openpyxl\\worksheet\\_reader.py:329: UserWarning: Conditional Formatting extension is not supported and will be removed\n",
      "  warn(msg)\n"
     ]
    },
    {
     "name": "stdout",
     "output_type": "stream",
     "text": [
      "Processing 'RAMBU' as Point geometry (second coordinates are missing or invalid)\n",
      "✅ Saved: C:\\Users\\kanzi\\Documents\\Part Time Job\\Automation Codes\\Check GeoJSON\\Extract Shapefile\\Format Baru 29.A. Sp. Karanghawu - Bts. Prov. Banten (Cikotok)\\RAMBU.shp\n",
      "Processing 'PJU' as Point geometry (second coordinates are missing or invalid)\n",
      "✅ Saved: C:\\Users\\kanzi\\Documents\\Part Time Job\\Automation Codes\\Check GeoJSON\\Extract Shapefile\\Format Baru 29.A. Sp. Karanghawu - Bts. Prov. Banten (Cikotok)\\PJU.shp\n",
      "Processing 'RPPJ' as Point geometry (second coordinates are missing or invalid)\n",
      "✅ Saved: C:\\Users\\kanzi\\Documents\\Part Time Job\\Automation Codes\\Check GeoJSON\\Extract Shapefile\\Format Baru 29.A. Sp. Karanghawu - Bts. Prov. Banten (Cikotok)\\RPPJ.shp\n",
      "Processing 'PAGAR PENGAMAN' as LineString (both start and end coordinates contain valid data)\n",
      "✅ Saved: C:\\Users\\kanzi\\Documents\\Part Time Job\\Automation Codes\\Check GeoJSON\\Extract Shapefile\\Format Baru 29.A. Sp. Karanghawu - Bts. Prov. Banten (Cikotok)\\PAGAR PENGAMAN.shp\n",
      "Processing 'MARKA' as LineString (both start and end coordinates contain valid data)\n",
      "✅ Saved: C:\\Users\\kanzi\\Documents\\Part Time Job\\Automation Codes\\Check GeoJSON\\Extract Shapefile\\Format Baru 29.A. Sp. Karanghawu - Bts. Prov. Banten (Cikotok)\\MARKA.shp\n",
      "Processing 'WARNING LIGHT' as Point geometry (second coordinates are missing or invalid)\n",
      "⚠️ Skipping 'WARNING LIGHT' (No valid geometry found)\n",
      "Processing 'APILL' as Point geometry (second coordinates are missing or invalid)\n",
      "⚠️ Skipping 'APILL' (No valid geometry found)\n",
      "Processing 'ZOSS' as Point geometry (second coordinates are missing or invalid)\n",
      "⚠️ Skipping 'ZOSS' (No valid geometry found)\n",
      "Processing 'FAS PENYEBERANGAN' as Point geometry (second coordinates are missing or invalid)\n",
      "✅ Saved: C:\\Users\\kanzi\\Documents\\Part Time Job\\Automation Codes\\Check GeoJSON\\Extract Shapefile\\Format Baru 29.A. Sp. Karanghawu - Bts. Prov. Banten (Cikotok)\\FAS PENYEBERANGAN.shp\n",
      "⚠️ Skipping 'RAMBU PORTABLE' (No valid start coordinate columns found)\n",
      "⚠️ Skipping 'TRAFFIC CONE' (No valid start coordinate columns found)\n",
      "⚠️ Skipping 'WATER BARRIER' (No valid start coordinate columns found)\n",
      "Processing 'CERMIN TIKUNG' as Point geometry (second coordinates are missing or invalid)\n",
      "✅ Saved: C:\\Users\\kanzi\\Documents\\Part Time Job\\Automation Codes\\Check GeoJSON\\Extract Shapefile\\Format Baru 29.A. Sp. Karanghawu - Bts. Prov. Banten (Cikotok)\\CERMIN TIKUNG.shp\n",
      "✓ Completed processing: Format Baru 29.A. Sp. Karanghawu - Bts. Prov. Banten (Cikotok).xlsx\n",
      "\n",
      "[19/32] Processing: Format Baru 32.A. Sp.3 Loji (Tegalnyampah) - Balewer - Puncak Darma.xlsx\n"
     ]
    },
    {
     "name": "stderr",
     "output_type": "stream",
     "text": [
      "c:\\Users\\kanzi\\AppData\\Local\\Programs\\Python\\Python312\\Lib\\site-packages\\openpyxl\\worksheet\\_reader.py:329: UserWarning: Conditional Formatting extension is not supported and will be removed\n",
      "  warn(msg)\n"
     ]
    },
    {
     "name": "stdout",
     "output_type": "stream",
     "text": [
      "Processing 'RAMBU' as Point geometry (second coordinates are missing or invalid)\n",
      "✅ Saved: C:\\Users\\kanzi\\Documents\\Part Time Job\\Automation Codes\\Check GeoJSON\\Extract Shapefile\\Format Baru 32.A. Sp.3 Loji (Tegalnyampah) - Balewer - Puncak Darma\\RAMBU.shp\n",
      "Processing 'PJU' as Point geometry (second coordinates are missing or invalid)\n",
      "✅ Saved: C:\\Users\\kanzi\\Documents\\Part Time Job\\Automation Codes\\Check GeoJSON\\Extract Shapefile\\Format Baru 32.A. Sp.3 Loji (Tegalnyampah) - Balewer - Puncak Darma\\PJU.shp\n",
      "Processing 'RPPJ' as Point geometry (second coordinates are missing or invalid)\n",
      "⚠️ Skipping 'RPPJ' (No valid geometry found)\n",
      "Processing 'PAGAR PENGAMAN' as LineString (both start and end coordinates contain valid data)\n",
      "✅ Saved: C:\\Users\\kanzi\\Documents\\Part Time Job\\Automation Codes\\Check GeoJSON\\Extract Shapefile\\Format Baru 32.A. Sp.3 Loji (Tegalnyampah) - Balewer - Puncak Darma\\PAGAR PENGAMAN.shp\n",
      "Processing 'MARKA' as Point geometry (second coordinates are missing or invalid)\n",
      "✅ Saved: C:\\Users\\kanzi\\Documents\\Part Time Job\\Automation Codes\\Check GeoJSON\\Extract Shapefile\\Format Baru 32.A. Sp.3 Loji (Tegalnyampah) - Balewer - Puncak Darma\\MARKA.shp\n",
      "Processing 'WARNING LIGHT' as Point geometry (second coordinates are missing or invalid)\n",
      "⚠️ Skipping 'WARNING LIGHT' (No valid geometry found)\n",
      "Processing 'APILL' as Point geometry (second coordinates are missing or invalid)\n",
      "⚠️ Skipping 'APILL' (No valid geometry found)\n",
      "Processing 'ZOSS' as Point geometry (second coordinates are missing or invalid)\n",
      "⚠️ Skipping 'ZOSS' (No valid geometry found)\n",
      "Processing 'FAS PENYEBERANGAN' as Point geometry (second coordinates are missing or invalid)\n",
      "✅ Saved: C:\\Users\\kanzi\\Documents\\Part Time Job\\Automation Codes\\Check GeoJSON\\Extract Shapefile\\Format Baru 32.A. Sp.3 Loji (Tegalnyampah) - Balewer - Puncak Darma\\FAS PENYEBERANGAN.shp\n",
      "⚠️ Skipping 'RAMBU PORTABLE' (No valid start coordinate columns found)\n",
      "⚠️ Skipping 'TRAFFIC CONE' (No valid start coordinate columns found)\n",
      "⚠️ Skipping 'WATER BARRIER' (No valid start coordinate columns found)\n",
      "Processing 'CERMIN TIKUNG' as Point geometry (second coordinates are missing or invalid)\n",
      "✅ Saved: C:\\Users\\kanzi\\Documents\\Part Time Job\\Automation Codes\\Check GeoJSON\\Extract Shapefile\\Format Baru 32.A. Sp.3 Loji (Tegalnyampah) - Balewer - Puncak Darma\\CERMIN TIKUNG.shp\n",
      "✓ Completed processing: Format Baru 32.A. Sp.3 Loji (Tegalnyampah) - Balewer - Puncak Darma.xlsx\n",
      "\n",
      "[20/32] Processing: Format Baru 38.A. Siliwangi Kota Bogor.xlsx\n"
     ]
    },
    {
     "name": "stderr",
     "output_type": "stream",
     "text": [
      "c:\\Users\\kanzi\\AppData\\Local\\Programs\\Python\\Python312\\Lib\\site-packages\\openpyxl\\worksheet\\_reader.py:329: UserWarning: Conditional Formatting extension is not supported and will be removed\n",
      "  warn(msg)\n"
     ]
    },
    {
     "name": "stdout",
     "output_type": "stream",
     "text": [
      "Processing 'PJU' as Point geometry (second coordinates are missing or invalid)\n",
      "✅ Saved: C:\\Users\\kanzi\\Documents\\Part Time Job\\Automation Codes\\Check GeoJSON\\Extract Shapefile\\Format Baru 38.A. Siliwangi Kota Bogor\\PJU.shp\n",
      "Processing 'RAMBU' as Point geometry (second coordinates are missing or invalid)\n",
      "✅ Saved: C:\\Users\\kanzi\\Documents\\Part Time Job\\Automation Codes\\Check GeoJSON\\Extract Shapefile\\Format Baru 38.A. Siliwangi Kota Bogor\\RAMBU.shp\n",
      "Processing 'RPPJ' as Point geometry (second coordinates are missing or invalid)\n",
      "✅ Saved: C:\\Users\\kanzi\\Documents\\Part Time Job\\Automation Codes\\Check GeoJSON\\Extract Shapefile\\Format Baru 38.A. Siliwangi Kota Bogor\\RPPJ.shp\n",
      "Processing 'PAGAR PENGAMAN' as Point geometry (second coordinates are missing or invalid)\n",
      "⚠️ Skipping 'PAGAR PENGAMAN' (No valid geometry found)\n",
      "Processing 'MARKA' as Point geometry (second coordinates are missing or invalid)\n",
      "✅ Saved: C:\\Users\\kanzi\\Documents\\Part Time Job\\Automation Codes\\Check GeoJSON\\Extract Shapefile\\Format Baru 38.A. Siliwangi Kota Bogor\\MARKA.shp\n",
      "Processing 'WARNING LIGHT' as Point geometry (second coordinates are missing or invalid)\n",
      "⚠️ Skipping 'WARNING LIGHT' (No valid geometry found)\n",
      "Processing 'APILL' as Point geometry (second coordinates are missing or invalid)\n",
      "⚠️ Skipping 'APILL' (No valid geometry found)\n",
      "Processing 'ZOSS' as Point geometry (second coordinates are missing or invalid)\n",
      "⚠️ Skipping 'ZOSS' (No valid geometry found)\n",
      "Processing 'FAS PENYEBERANGAN' as Point geometry (second coordinates are missing or invalid)\n",
      "✅ Saved: C:\\Users\\kanzi\\Documents\\Part Time Job\\Automation Codes\\Check GeoJSON\\Extract Shapefile\\Format Baru 38.A. Siliwangi Kota Bogor\\FAS PENYEBERANGAN.shp\n",
      "⚠️ Skipping 'RAMBU PORTABLE' (No valid start coordinate columns found)\n",
      "⚠️ Skipping 'TRAFFIC CONE' (No valid start coordinate columns found)\n",
      "⚠️ Skipping 'WATER BARRIER' (No valid start coordinate columns found)\n",
      "Processing 'CERMIN TIKUNG' as Point geometry (second coordinates are missing or invalid)\n",
      "⚠️ Skipping 'CERMIN TIKUNG' (No valid geometry found)\n",
      "✓ Completed processing: Format Baru 38.A. Siliwangi Kota Bogor.xlsx\n",
      "\n",
      "[21/32] Processing: Format Baru 39.A. Lawang Gintung Kota Bogor.xlsx\n"
     ]
    },
    {
     "name": "stderr",
     "output_type": "stream",
     "text": [
      "c:\\Users\\kanzi\\AppData\\Local\\Programs\\Python\\Python312\\Lib\\site-packages\\openpyxl\\worksheet\\_reader.py:329: UserWarning: Conditional Formatting extension is not supported and will be removed\n",
      "  warn(msg)\n"
     ]
    },
    {
     "name": "stdout",
     "output_type": "stream",
     "text": [
      "Processing 'PJU' as Point geometry (second coordinates are missing or invalid)\n",
      "✅ Saved: C:\\Users\\kanzi\\Documents\\Part Time Job\\Automation Codes\\Check GeoJSON\\Extract Shapefile\\Format Baru 39.A. Lawang Gintung Kota Bogor\\PJU.shp\n",
      "Processing 'RAMBU' as Point geometry (second coordinates are missing or invalid)\n",
      "✅ Saved: C:\\Users\\kanzi\\Documents\\Part Time Job\\Automation Codes\\Check GeoJSON\\Extract Shapefile\\Format Baru 39.A. Lawang Gintung Kota Bogor\\RAMBU.shp\n",
      "Processing 'RPPJ' as Point geometry (second coordinates are missing or invalid)\n",
      "✅ Saved: C:\\Users\\kanzi\\Documents\\Part Time Job\\Automation Codes\\Check GeoJSON\\Extract Shapefile\\Format Baru 39.A. Lawang Gintung Kota Bogor\\RPPJ.shp\n",
      "Processing 'PAGAR PENGAMAN' as Point geometry (second coordinates are missing or invalid)\n",
      "⚠️ Skipping 'PAGAR PENGAMAN' (No valid geometry found)\n",
      "Processing 'MARKA' as Point geometry (second coordinates are missing or invalid)\n",
      "✅ Saved: C:\\Users\\kanzi\\Documents\\Part Time Job\\Automation Codes\\Check GeoJSON\\Extract Shapefile\\Format Baru 39.A. Lawang Gintung Kota Bogor\\MARKA.shp\n",
      "Processing 'WARNING LIGHT' as Point geometry (second coordinates are missing or invalid)\n",
      "✅ Saved: C:\\Users\\kanzi\\Documents\\Part Time Job\\Automation Codes\\Check GeoJSON\\Extract Shapefile\\Format Baru 39.A. Lawang Gintung Kota Bogor\\WARNING LIGHT.shp\n",
      "Processing 'APILL' as Point geometry (second coordinates are missing or invalid)\n",
      "⚠️ Skipping 'APILL' (No valid geometry found)\n",
      "Processing 'ZOSS' as Point geometry (second coordinates are missing or invalid)\n",
      "⚠️ Skipping 'ZOSS' (No valid geometry found)\n",
      "Processing 'FAS PENYEBERANGAN' as Point geometry (second coordinates are missing or invalid)\n",
      "✅ Saved: C:\\Users\\kanzi\\Documents\\Part Time Job\\Automation Codes\\Check GeoJSON\\Extract Shapefile\\Format Baru 39.A. Lawang Gintung Kota Bogor\\FAS PENYEBERANGAN.shp\n",
      "⚠️ Skipping 'RAMBU PORTABLE' (No valid start coordinate columns found)\n",
      "⚠️ Skipping 'TRAFFIC CONE' (No valid start coordinate columns found)\n",
      "⚠️ Skipping 'WATER BARRIER' (No valid start coordinate columns found)\n",
      "Processing 'CERMIN TIKUNG' as Point geometry (second coordinates are missing or invalid)\n",
      "⚠️ Skipping 'CERMIN TIKUNG' (No valid geometry found)\n",
      "✓ Completed processing: Format Baru 39.A. Lawang Gintung Kota Bogor.xlsx\n",
      "\n",
      "[22/32] Processing: Format Baru 41.A. Jl. Empang - Jl. R. Saleh Sarief Bustaman.xlsx\n"
     ]
    },
    {
     "name": "stderr",
     "output_type": "stream",
     "text": [
      "c:\\Users\\kanzi\\AppData\\Local\\Programs\\Python\\Python312\\Lib\\site-packages\\openpyxl\\worksheet\\_reader.py:329: UserWarning: Conditional Formatting extension is not supported and will be removed\n",
      "  warn(msg)\n"
     ]
    },
    {
     "name": "stdout",
     "output_type": "stream",
     "text": [
      "Processing 'PJU' as Point geometry (second coordinates are missing or invalid)\n",
      "✅ Saved: C:\\Users\\kanzi\\Documents\\Part Time Job\\Automation Codes\\Check GeoJSON\\Extract Shapefile\\Format Baru 41.A. Jl. Empang - Jl. R. Saleh Sarief Bustaman\\PJU.shp\n",
      "Processing 'RAMBU' as Point geometry (second coordinates are missing or invalid)\n",
      "✅ Saved: C:\\Users\\kanzi\\Documents\\Part Time Job\\Automation Codes\\Check GeoJSON\\Extract Shapefile\\Format Baru 41.A. Jl. Empang - Jl. R. Saleh Sarief Bustaman\\RAMBU.shp\n",
      "Processing 'RPPJ' as Point geometry (second coordinates are missing or invalid)\n",
      "✅ Saved: C:\\Users\\kanzi\\Documents\\Part Time Job\\Automation Codes\\Check GeoJSON\\Extract Shapefile\\Format Baru 41.A. Jl. Empang - Jl. R. Saleh Sarief Bustaman\\RPPJ.shp\n",
      "Processing 'PAGAR PENGAMAN' as Point geometry (second coordinates are missing or invalid)\n",
      "⚠️ Skipping 'PAGAR PENGAMAN' (No valid geometry found)\n",
      "Processing 'MARKA' as Point geometry (second coordinates are missing or invalid)\n",
      "✅ Saved: C:\\Users\\kanzi\\Documents\\Part Time Job\\Automation Codes\\Check GeoJSON\\Extract Shapefile\\Format Baru 41.A. Jl. Empang - Jl. R. Saleh Sarief Bustaman\\MARKA.shp\n",
      "Processing 'WARNING LIGHT' as Point geometry (second coordinates are missing or invalid)\n",
      "⚠️ Skipping 'WARNING LIGHT' (No valid geometry found)\n",
      "Processing 'APILL' as Point geometry (second coordinates are missing or invalid)\n",
      "✅ Saved: C:\\Users\\kanzi\\Documents\\Part Time Job\\Automation Codes\\Check GeoJSON\\Extract Shapefile\\Format Baru 41.A. Jl. Empang - Jl. R. Saleh Sarief Bustaman\\APILL.shp\n",
      "Processing 'ZOSS' as Point geometry (second coordinates are missing or invalid)\n",
      "⚠️ Skipping 'ZOSS' (No valid geometry found)\n",
      "Processing 'FAS PENYEBERANGAN' as Point geometry (second coordinates are missing or invalid)\n",
      "✅ Saved: C:\\Users\\kanzi\\Documents\\Part Time Job\\Automation Codes\\Check GeoJSON\\Extract Shapefile\\Format Baru 41.A. Jl. Empang - Jl. R. Saleh Sarief Bustaman\\FAS PENYEBERANGAN.shp\n",
      "⚠️ Skipping 'RAMBU PORTABLE' (No valid start coordinate columns found)\n",
      "⚠️ Skipping 'TRAFFIC CONE' (No valid start coordinate columns found)\n",
      "⚠️ Skipping 'WATER BARRIER' (No valid start coordinate columns found)\n",
      "Processing 'CERMIN TIKUNG' as Point geometry (second coordinates are missing or invalid)\n",
      "⚠️ Skipping 'CERMIN TIKUNG' (No valid geometry found)\n",
      "✓ Completed processing: Format Baru 41.A. Jl. Empang - Jl. R. Saleh Sarief Bustaman.xlsx\n",
      "\n",
      "[23/32] Processing: Format Baru 5.A. Tegalloa - BagedJagatamu - (Bts Kab. KarawangKab. Bogor).xlsx\n"
     ]
    },
    {
     "name": "stderr",
     "output_type": "stream",
     "text": [
      "c:\\Users\\kanzi\\AppData\\Local\\Programs\\Python\\Python312\\Lib\\site-packages\\openpyxl\\worksheet\\_reader.py:329: UserWarning: Conditional Formatting extension is not supported and will be removed\n",
      "  warn(msg)\n"
     ]
    },
    {
     "name": "stdout",
     "output_type": "stream",
     "text": [
      "Processing 'RAMBU' as Point geometry (second coordinates are missing or invalid)\n",
      "✅ Saved: C:\\Users\\kanzi\\Documents\\Part Time Job\\Automation Codes\\Check GeoJSON\\Extract Shapefile\\Format Baru 5.A. Tegalloa - BagedJagatamu - (Bts Kab. KarawangKab. Bogor)\\RAMBU.shp\n",
      "Processing 'PJU' as Point geometry (second coordinates are missing or invalid)\n",
      "✅ Saved: C:\\Users\\kanzi\\Documents\\Part Time Job\\Automation Codes\\Check GeoJSON\\Extract Shapefile\\Format Baru 5.A. Tegalloa - BagedJagatamu - (Bts Kab. KarawangKab. Bogor)\\PJU.shp\n",
      "Processing 'RPPJ' as Point geometry (second coordinates are missing or invalid)\n",
      "⚠️ Skipping 'RPPJ' (No valid geometry found)\n",
      "Processing 'PAGAR PENGAMAN' as Point geometry (second coordinates are missing or invalid)\n",
      "⚠️ Skipping 'PAGAR PENGAMAN' (No valid geometry found)\n",
      "Processing 'MARKA' as Point geometry (second coordinates are missing or invalid)\n",
      "⚠️ Skipping 'MARKA' (No valid geometry found)\n",
      "Processing 'WARNING LIGHT' as Point geometry (second coordinates are missing or invalid)\n",
      "⚠️ Skipping 'WARNING LIGHT' (No valid geometry found)\n",
      "Processing 'APILL' as Point geometry (second coordinates are missing or invalid)\n",
      "⚠️ Skipping 'APILL' (No valid geometry found)\n",
      "Processing 'ZOSS' as Point geometry (second coordinates are missing or invalid)\n",
      "⚠️ Skipping 'ZOSS' (No valid geometry found)\n",
      "Processing 'FAS PENYEBERANGAN' as Point geometry (second coordinates are missing or invalid)\n",
      "⚠️ Skipping 'FAS PENYEBERANGAN' (No valid geometry found)\n",
      "⚠️ Skipping 'RAMBU PORTABLE' (No valid start coordinate columns found)\n",
      "⚠️ Skipping 'TRAFFIC CONE' (No valid start coordinate columns found)\n",
      "⚠️ Skipping 'WATER BARRIER' (No valid start coordinate columns found)\n",
      "Processing 'CERMIN TIKUNG' as Point geometry (second coordinates are missing or invalid)\n",
      "⚠️ Skipping 'CERMIN TIKUNG' (No valid geometry found)\n",
      "✓ Completed processing: Format Baru 5.A. Tegalloa - BagedJagatamu - (Bts Kab. KarawangKab. Bogor).xlsx\n",
      "\n",
      "[24/32] Processing: Format Baru 57.A. Cibarusah - Cibucil.xlsx\n"
     ]
    },
    {
     "name": "stderr",
     "output_type": "stream",
     "text": [
      "c:\\Users\\kanzi\\AppData\\Local\\Programs\\Python\\Python312\\Lib\\site-packages\\openpyxl\\worksheet\\_reader.py:329: UserWarning: Conditional Formatting extension is not supported and will be removed\n",
      "  warn(msg)\n"
     ]
    },
    {
     "name": "stdout",
     "output_type": "stream",
     "text": [
      "Processing 'RAMBU' as Point geometry (second coordinates are missing or invalid)\n",
      "✅ Saved: C:\\Users\\kanzi\\Documents\\Part Time Job\\Automation Codes\\Check GeoJSON\\Extract Shapefile\\Format Baru 57.A. Cibarusah - Cibucil\\RAMBU.shp\n",
      "Processing 'PJU' as Point geometry (second coordinates are missing or invalid)\n",
      "✅ Saved: C:\\Users\\kanzi\\Documents\\Part Time Job\\Automation Codes\\Check GeoJSON\\Extract Shapefile\\Format Baru 57.A. Cibarusah - Cibucil\\PJU.shp\n",
      "Processing 'RPPJ' as Point geometry (second coordinates are missing or invalid)\n",
      "⚠️ Skipping 'RPPJ' (No valid geometry found)\n",
      "Processing 'PAGAR PENGAMAN' as Point geometry (second coordinates are missing or invalid)\n",
      "⚠️ Skipping 'PAGAR PENGAMAN' (No valid geometry found)\n",
      "Processing 'MARKA' as LineString (both start and end coordinates contain valid data)\n",
      "✅ Saved: C:\\Users\\kanzi\\Documents\\Part Time Job\\Automation Codes\\Check GeoJSON\\Extract Shapefile\\Format Baru 57.A. Cibarusah - Cibucil\\MARKA.shp\n",
      "Processing 'WARNING LIGHT' as Point geometry (second coordinates are missing or invalid)\n",
      "⚠️ Skipping 'WARNING LIGHT' (No valid geometry found)\n",
      "Processing 'APILL' as Point geometry (second coordinates are missing or invalid)\n",
      "✅ Saved: C:\\Users\\kanzi\\Documents\\Part Time Job\\Automation Codes\\Check GeoJSON\\Extract Shapefile\\Format Baru 57.A. Cibarusah - Cibucil\\APILL.shp\n",
      "Processing 'ZOSS' as Point geometry (second coordinates are missing or invalid)\n",
      "⚠️ Skipping 'ZOSS' (No valid geometry found)\n",
      "Processing 'FAS PENYEBERANGAN' as Point geometry (second coordinates are missing or invalid)\n",
      "⚠️ Skipping 'FAS PENYEBERANGAN' (No valid geometry found)\n",
      "⚠️ Skipping 'RAMBU PORTABLE' (No valid start coordinate columns found)\n",
      "⚠️ Skipping 'TRAFFIC CONE' (No valid start coordinate columns found)\n",
      "⚠️ Skipping 'WATER BARRIER' (No valid start coordinate columns found)\n",
      "Processing 'CERMIN TIKUNG' as Point geometry (second coordinates are missing or invalid)\n",
      "⚠️ Skipping 'CERMIN TIKUNG' (No valid geometry found)\n",
      "✓ Completed processing: Format Baru 57.A. Cibarusah - Cibucil.xlsx\n",
      "\n",
      "[25/32] Processing: Format Baru 59.A. Cariu - Jagatamu Baged (Bts. Kab. Bogor Karawang).xlsx\n"
     ]
    },
    {
     "name": "stderr",
     "output_type": "stream",
     "text": [
      "c:\\Users\\kanzi\\AppData\\Local\\Programs\\Python\\Python312\\Lib\\site-packages\\openpyxl\\worksheet\\_reader.py:329: UserWarning: Conditional Formatting extension is not supported and will be removed\n",
      "  warn(msg)\n"
     ]
    },
    {
     "name": "stdout",
     "output_type": "stream",
     "text": [
      "Processing 'RAMBU' as Point geometry (second coordinates are missing or invalid)\n",
      "✅ Saved: C:\\Users\\kanzi\\Documents\\Part Time Job\\Automation Codes\\Check GeoJSON\\Extract Shapefile\\Format Baru 59.A. Cariu - Jagatamu Baged (Bts. Kab. Bogor Karawang)\\RAMBU.shp\n",
      "Processing 'PJU' as Point geometry (second coordinates are missing or invalid)\n",
      "✅ Saved: C:\\Users\\kanzi\\Documents\\Part Time Job\\Automation Codes\\Check GeoJSON\\Extract Shapefile\\Format Baru 59.A. Cariu - Jagatamu Baged (Bts. Kab. Bogor Karawang)\\PJU.shp\n",
      "Processing 'RPPJ' as Point geometry (second coordinates are missing or invalid)\n",
      "✅ Saved: C:\\Users\\kanzi\\Documents\\Part Time Job\\Automation Codes\\Check GeoJSON\\Extract Shapefile\\Format Baru 59.A. Cariu - Jagatamu Baged (Bts. Kab. Bogor Karawang)\\RPPJ.shp\n",
      "Processing 'PAGAR PENGAMAN' as Point geometry (second coordinates are missing or invalid)\n",
      "⚠️ Skipping 'PAGAR PENGAMAN' (No valid geometry found)\n",
      "Processing 'MARKA' as Point geometry (second coordinates are missing or invalid)\n",
      "⚠️ Skipping 'MARKA' (No valid geometry found)\n",
      "Processing 'WARNING LIGHT' as Point geometry (second coordinates are missing or invalid)\n",
      "⚠️ Skipping 'WARNING LIGHT' (No valid geometry found)\n",
      "Processing 'APILL' as Point geometry (second coordinates are missing or invalid)\n",
      "⚠️ Skipping 'APILL' (No valid geometry found)\n",
      "Processing 'ZOSS' as Point geometry (second coordinates are missing or invalid)\n",
      "⚠️ Skipping 'ZOSS' (No valid geometry found)\n",
      "Processing 'FAS PENYEBERANGAN' as Point geometry (second coordinates are missing or invalid)\n",
      "✅ Saved: C:\\Users\\kanzi\\Documents\\Part Time Job\\Automation Codes\\Check GeoJSON\\Extract Shapefile\\Format Baru 59.A. Cariu - Jagatamu Baged (Bts. Kab. Bogor Karawang)\\FAS PENYEBERANGAN.shp\n",
      "⚠️ Skipping 'RAMBU PORTABLE' (No valid start coordinate columns found)\n",
      "⚠️ Skipping 'TRAFFIC CONE' (No valid start coordinate columns found)\n",
      "⚠️ Skipping 'WATER BARRIER' (No valid start coordinate columns found)\n",
      "Processing 'CERMIN TIKUNG' as Point geometry (second coordinates are missing or invalid)\n",
      "⚠️ Skipping 'CERMIN TIKUNG' (No valid geometry found)\n",
      "✓ Completed processing: Format Baru 59.A. Cariu - Jagatamu Baged (Bts. Kab. Bogor Karawang).xlsx\n",
      "\n",
      "[26/32] Processing: Format Baru 60.A. Jl. KH. R. Ma'mun Nawawi.xlsx\n"
     ]
    },
    {
     "name": "stderr",
     "output_type": "stream",
     "text": [
      "c:\\Users\\kanzi\\AppData\\Local\\Programs\\Python\\Python312\\Lib\\site-packages\\openpyxl\\worksheet\\_reader.py:329: UserWarning: Conditional Formatting extension is not supported and will be removed\n",
      "  warn(msg)\n"
     ]
    },
    {
     "name": "stdout",
     "output_type": "stream",
     "text": [
      "Processing 'RAMBU' as Point geometry (second coordinates are missing or invalid)\n",
      "✅ Saved: C:\\Users\\kanzi\\Documents\\Part Time Job\\Automation Codes\\Check GeoJSON\\Extract Shapefile\\Format Baru 60.A. Jl. KH. R. Ma'mun Nawawi\\RAMBU.shp\n",
      "Processing 'PJU' as Point geometry (second coordinates are missing or invalid)\n",
      "✅ Saved: C:\\Users\\kanzi\\Documents\\Part Time Job\\Automation Codes\\Check GeoJSON\\Extract Shapefile\\Format Baru 60.A. Jl. KH. R. Ma'mun Nawawi\\PJU.shp\n",
      "Processing 'RPPJ' as Point geometry (second coordinates are missing or invalid)\n",
      "✅ Saved: C:\\Users\\kanzi\\Documents\\Part Time Job\\Automation Codes\\Check GeoJSON\\Extract Shapefile\\Format Baru 60.A. Jl. KH. R. Ma'mun Nawawi\\RPPJ.shp\n",
      "Processing 'PAGAR PENGAMAN' as Point geometry (second coordinates are missing or invalid)\n",
      "⚠️ Skipping 'PAGAR PENGAMAN' (No valid geometry found)\n",
      "Processing 'MARKA' as Point geometry (second coordinates are missing or invalid)\n",
      "⚠️ Skipping 'MARKA' (No valid geometry found)\n",
      "Processing 'WARNING LIGHT' as Point geometry (second coordinates are missing or invalid)\n",
      "✅ Saved: C:\\Users\\kanzi\\Documents\\Part Time Job\\Automation Codes\\Check GeoJSON\\Extract Shapefile\\Format Baru 60.A. Jl. KH. R. Ma'mun Nawawi\\WARNING LIGHT.shp\n",
      "Processing 'ZOSS' as Point geometry (second coordinates are missing or invalid)\n",
      "⚠️ Skipping 'ZOSS' (No valid geometry found)\n",
      "Processing 'APILL' as Point geometry (second coordinates are missing or invalid)\n",
      "✅ Saved: C:\\Users\\kanzi\\Documents\\Part Time Job\\Automation Codes\\Check GeoJSON\\Extract Shapefile\\Format Baru 60.A. Jl. KH. R. Ma'mun Nawawi\\APILL.shp\n",
      "Processing 'FAS PENYEBERANGAN' as Point geometry (second coordinates are missing or invalid)\n",
      "⚠️ Skipping 'FAS PENYEBERANGAN' (No valid geometry found)\n",
      "⚠️ Skipping 'RAMBU PORTABLE' (No valid start coordinate columns found)\n",
      "⚠️ Skipping 'TRAFFIC CONE' (No valid start coordinate columns found)\n",
      "⚠️ Skipping 'WATER BARRIER' (No valid start coordinate columns found)\n",
      "Processing 'CERMIN TIKUNG' as Point geometry (second coordinates are missing or invalid)\n",
      "⚠️ Skipping 'CERMIN TIKUNG' (No valid geometry found)\n",
      "✓ Completed processing: Format Baru 60.A. Jl. KH. R. Ma'mun Nawawi.xlsx\n",
      "\n",
      "[27/32] Processing: Format Baru 61.A. Jl. Raya Lemah Abang.xlsx\n"
     ]
    },
    {
     "name": "stderr",
     "output_type": "stream",
     "text": [
      "c:\\Users\\kanzi\\AppData\\Local\\Programs\\Python\\Python312\\Lib\\site-packages\\openpyxl\\worksheet\\_reader.py:329: UserWarning: Conditional Formatting extension is not supported and will be removed\n",
      "  warn(msg)\n"
     ]
    },
    {
     "name": "stdout",
     "output_type": "stream",
     "text": [
      "Processing 'RAMBU' as Point geometry (second coordinates are missing or invalid)\n",
      "✅ Saved: C:\\Users\\kanzi\\Documents\\Part Time Job\\Automation Codes\\Check GeoJSON\\Extract Shapefile\\Format Baru 61.A. Jl. Raya Lemah Abang\\RAMBU.shp\n",
      "Processing 'PJU' as Point geometry (second coordinates are missing or invalid)\n",
      "✅ Saved: C:\\Users\\kanzi\\Documents\\Part Time Job\\Automation Codes\\Check GeoJSON\\Extract Shapefile\\Format Baru 61.A. Jl. Raya Lemah Abang\\PJU.shp\n",
      "Processing 'RPPJ' as Point geometry (second coordinates are missing or invalid)\n",
      "✅ Saved: C:\\Users\\kanzi\\Documents\\Part Time Job\\Automation Codes\\Check GeoJSON\\Extract Shapefile\\Format Baru 61.A. Jl. Raya Lemah Abang\\RPPJ.shp\n",
      "Processing 'PAGAR PENGAMAN' as Point geometry (second coordinates are missing or invalid)\n",
      "⚠️ Skipping 'PAGAR PENGAMAN' (No valid geometry found)\n",
      "Processing 'MARKA' as Point geometry (second coordinates are missing or invalid)\n",
      "⚠️ Skipping 'MARKA' (No valid geometry found)\n",
      "Processing 'WARNING LIGHT' as Point geometry (second coordinates are missing or invalid)\n",
      "✅ Saved: C:\\Users\\kanzi\\Documents\\Part Time Job\\Automation Codes\\Check GeoJSON\\Extract Shapefile\\Format Baru 61.A. Jl. Raya Lemah Abang\\WARNING LIGHT.shp\n",
      "Processing 'APILL' as Point geometry (second coordinates are missing or invalid)\n",
      "✅ Saved: C:\\Users\\kanzi\\Documents\\Part Time Job\\Automation Codes\\Check GeoJSON\\Extract Shapefile\\Format Baru 61.A. Jl. Raya Lemah Abang\\APILL.shp\n",
      "Processing 'ZOSS' as Point geometry (second coordinates are missing or invalid)\n",
      "⚠️ Skipping 'ZOSS' (No valid geometry found)\n",
      "Processing 'FAS PENYEBERANGAN' as Point geometry (second coordinates are missing or invalid)\n",
      "⚠️ Skipping 'FAS PENYEBERANGAN' (No valid geometry found)\n",
      "⚠️ Skipping 'RAMBU PORTABLE' (No valid start coordinate columns found)\n",
      "⚠️ Skipping 'TRAFFIC CONE' (No valid start coordinate columns found)\n",
      "⚠️ Skipping 'WATER BARRIER' (No valid start coordinate columns found)\n",
      "Processing 'CERMIN TIKUNG' as Point geometry (second coordinates are missing or invalid)\n",
      "⚠️ Skipping 'CERMIN TIKUNG' (No valid geometry found)\n",
      "✓ Completed processing: Format Baru 61.A. Jl. Raya Lemah Abang.xlsx\n",
      "\n",
      "[28/32] Processing: Format Baru 62.A. Akses Dryport Cikarang.xlsx\n"
     ]
    },
    {
     "name": "stderr",
     "output_type": "stream",
     "text": [
      "c:\\Users\\kanzi\\AppData\\Local\\Programs\\Python\\Python312\\Lib\\site-packages\\openpyxl\\worksheet\\_reader.py:329: UserWarning: Conditional Formatting extension is not supported and will be removed\n",
      "  warn(msg)\n"
     ]
    },
    {
     "name": "stdout",
     "output_type": "stream",
     "text": [
      "Processing 'RAMBU' as Point geometry (second coordinates are missing or invalid)\n",
      "✅ Saved: C:\\Users\\kanzi\\Documents\\Part Time Job\\Automation Codes\\Check GeoJSON\\Extract Shapefile\\Format Baru 62.A. Akses Dryport Cikarang\\RAMBU.shp\n",
      "Processing 'PJU' as Point geometry (second coordinates are missing or invalid)\n",
      "✅ Saved: C:\\Users\\kanzi\\Documents\\Part Time Job\\Automation Codes\\Check GeoJSON\\Extract Shapefile\\Format Baru 62.A. Akses Dryport Cikarang\\PJU.shp\n",
      "Processing 'RPPJ' as Point geometry (second coordinates are missing or invalid)\n",
      "✅ Saved: C:\\Users\\kanzi\\Documents\\Part Time Job\\Automation Codes\\Check GeoJSON\\Extract Shapefile\\Format Baru 62.A. Akses Dryport Cikarang\\RPPJ.shp\n",
      "Processing 'PAGAR PENGAMAN' as Point geometry (second coordinates are missing or invalid)\n",
      "✅ Saved: C:\\Users\\kanzi\\Documents\\Part Time Job\\Automation Codes\\Check GeoJSON\\Extract Shapefile\\Format Baru 62.A. Akses Dryport Cikarang\\PAGAR PENGAMAN.shp\n",
      "Processing 'MARKA' as Point geometry (second coordinates are missing or invalid)\n",
      "✅ Saved: C:\\Users\\kanzi\\Documents\\Part Time Job\\Automation Codes\\Check GeoJSON\\Extract Shapefile\\Format Baru 62.A. Akses Dryport Cikarang\\MARKA.shp\n",
      "Processing 'WARNING LIGHT' as Point geometry (second coordinates are missing or invalid)\n",
      "⚠️ Skipping 'WARNING LIGHT' (No valid geometry found)\n",
      "Processing 'APILL' as Point geometry (second coordinates are missing or invalid)\n",
      "✅ Saved: C:\\Users\\kanzi\\Documents\\Part Time Job\\Automation Codes\\Check GeoJSON\\Extract Shapefile\\Format Baru 62.A. Akses Dryport Cikarang\\APILL.shp\n",
      "Processing 'ZOSS' as Point geometry (second coordinates are missing or invalid)\n",
      "⚠️ Skipping 'ZOSS' (No valid geometry found)\n",
      "Processing 'FAS PENYEBERANGAN' as Point geometry (second coordinates are missing or invalid)\n",
      "⚠️ Skipping 'FAS PENYEBERANGAN' (No valid geometry found)\n",
      "⚠️ Skipping 'RAMBU PORTABLE' (No valid start coordinate columns found)\n",
      "⚠️ Skipping 'TRAFFIC CONE' (No valid start coordinate columns found)\n",
      "⚠️ Skipping 'WATER BARRIER' (No valid start coordinate columns found)\n",
      "Processing 'CERMIN TIKUNG' as Point geometry (second coordinates are missing or invalid)\n",
      "⚠️ Skipping 'CERMIN TIKUNG' (No valid geometry found)\n",
      "✓ Completed processing: Format Baru 62.A. Akses Dryport Cikarang.xlsx\n",
      "\n",
      "[29/32] Processing: Ludira 27.A Jl. Bhayangkara (Pelabuhan Ratu).xlsx\n"
     ]
    },
    {
     "name": "stderr",
     "output_type": "stream",
     "text": [
      "c:\\Users\\kanzi\\AppData\\Local\\Programs\\Python\\Python312\\Lib\\site-packages\\openpyxl\\worksheet\\_reader.py:329: UserWarning: Conditional Formatting extension is not supported and will be removed\n",
      "  warn(msg)\n"
     ]
    },
    {
     "name": "stdout",
     "output_type": "stream",
     "text": [
      "Processing 'RAMBU' as Point geometry (second coordinates are missing or invalid)\n",
      "✅ Saved: C:\\Users\\kanzi\\Documents\\Part Time Job\\Automation Codes\\Check GeoJSON\\Extract Shapefile\\Ludira 27.A Jl. Bhayangkara (Pelabuhan Ratu)\\RAMBU.shp\n",
      "Processing 'PJU' as Point geometry (second coordinates are missing or invalid)\n",
      "✅ Saved: C:\\Users\\kanzi\\Documents\\Part Time Job\\Automation Codes\\Check GeoJSON\\Extract Shapefile\\Ludira 27.A Jl. Bhayangkara (Pelabuhan Ratu)\\PJU.shp\n",
      "Processing 'RPPJ' as Point geometry (second coordinates are missing or invalid)\n",
      "✅ Saved: C:\\Users\\kanzi\\Documents\\Part Time Job\\Automation Codes\\Check GeoJSON\\Extract Shapefile\\Ludira 27.A Jl. Bhayangkara (Pelabuhan Ratu)\\RPPJ.shp\n",
      "Processing 'PAGAR PENGAMAN' as Point geometry (second coordinates are missing or invalid)\n",
      "⚠️ Skipping 'PAGAR PENGAMAN' (No valid geometry found)\n",
      "Processing 'MARKA' as Point geometry (second coordinates are missing or invalid)\n",
      "⚠️ Skipping 'MARKA' (No valid geometry found)\n",
      "Processing 'WARNING LIGHT' as Point geometry (second coordinates are missing or invalid)\n",
      "✅ Saved: C:\\Users\\kanzi\\Documents\\Part Time Job\\Automation Codes\\Check GeoJSON\\Extract Shapefile\\Ludira 27.A Jl. Bhayangkara (Pelabuhan Ratu)\\WARNING LIGHT.shp\n",
      "Processing 'APILL' as Point geometry (second coordinates are missing or invalid)\n",
      "✅ Saved: C:\\Users\\kanzi\\Documents\\Part Time Job\\Automation Codes\\Check GeoJSON\\Extract Shapefile\\Ludira 27.A Jl. Bhayangkara (Pelabuhan Ratu)\\APILL.shp\n",
      "Processing 'ZOSS' as Point geometry (second coordinates are missing or invalid)\n",
      "⚠️ Skipping 'ZOSS' (No valid geometry found)\n",
      "Processing 'FAS PENYEBERANGAN' as Point geometry (second coordinates are missing or invalid)\n",
      "⚠️ Skipping 'FAS PENYEBERANGAN' (No valid geometry found)\n",
      "⚠️ Skipping 'RAMBU PORTABLE' (No valid start coordinate columns found)\n",
      "⚠️ Skipping 'TRAFFIC CONE' (No valid start coordinate columns found)\n",
      "⚠️ Skipping 'WATER BARRIER' (No valid start coordinate columns found)\n",
      "Processing 'CERMIN TIKUNG' as Point geometry (second coordinates are missing or invalid)\n",
      "⚠️ Skipping 'CERMIN TIKUNG' (No valid geometry found)\n",
      "✓ Completed processing: Ludira 27.A Jl. Bhayangkara (Pelabuhan Ratu).xlsx\n",
      "\n",
      "[30/32] Processing: ~$01. Cileungsi - Cibeet.xlsx\n",
      "❌ Error processing ~$01. Cileungsi - Cibeet.xlsx: [Errno 13] Permission denied: 'C:\\\\Users\\\\kanzi\\\\Documents\\\\Part Time Job\\\\Automation Codes\\\\Excel Folder\\\\~$01. Cileungsi - Cibeet.xlsx'\n",
      "\n",
      "[31/32] Processing: ~$02. CILEUNGSI - CIBINONG (CITEUREUP).xlsx\n",
      "❌ Error processing ~$02. CILEUNGSI - CIBINONG (CITEUREUP).xlsx: [Errno 13] Permission denied: 'C:\\\\Users\\\\kanzi\\\\Documents\\\\Part Time Job\\\\Automation Codes\\\\Excel Folder\\\\~$02. CILEUNGSI - CIBINONG (CITEUREUP).xlsx'\n",
      "\n",
      "[32/32] Processing: ~$Format Baru 59.A. Cariu - Jagatamu Baged (Bts. Kab. Bogor Karawang).xlsx\n",
      "❌ Error processing ~$Format Baru 59.A. Cariu - Jagatamu Baged (Bts. Kab. Bogor Karawang).xlsx: [Errno 13] Permission denied: 'C:\\\\Users\\\\kanzi\\\\Documents\\\\Part Time Job\\\\Automation Codes\\\\Excel Folder\\\\~$Format Baru 59.A. Cariu - Jagatamu Baged (Bts. Kab. Bogor Karawang).xlsx'\n",
      "\n",
      "🎉 All Excel files processed. Output saved to: C:\\Users\\kanzi\\Documents\\Part Time Job\\Automation Codes\\Check GeoJSON\\Extract Shapefile\n"
     ]
    }
   ],
   "source": [
    "input_folder = r\"C:\\Users\\kanzi\\Documents\\Part Time Job\\Automation Codes\\Excel Folder\"  # Fill with the path file of excel\n",
    "output_base_folder = r\"C:\\Users\\kanzi\\Documents\\Part Time Job\\Automation Codes\\Check GeoJSON\"  # Fill with the path folder of export result\n",
    "process_excel_folder(input_folder, output_base_folder) # Run the function!"
   ]
  }
 ],
 "metadata": {
  "kernelspec": {
   "display_name": "Python 3",
   "language": "python",
   "name": "python3"
  },
  "language_info": {
   "codemirror_mode": {
    "name": "ipython",
    "version": 3
   },
   "file_extension": ".py",
   "mimetype": "text/x-python",
   "name": "python",
   "nbconvert_exporter": "python",
   "pygments_lexer": "ipython3",
   "version": "3.11.11"
  }
 },
 "nbformat": 4,
 "nbformat_minor": 2
}
